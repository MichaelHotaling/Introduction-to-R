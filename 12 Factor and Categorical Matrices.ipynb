{
 "cells": [
  {
   "cell_type": "code",
   "execution_count": 1,
   "metadata": {},
   "outputs": [],
   "source": [
    "#### The factor functions can add categorical data to a matrix\n",
    "#factor()"
   ]
  },
  {
   "cell_type": "code",
   "execution_count": 9,
   "metadata": {
    "scrolled": true
   },
   "outputs": [
    {
     "data": {
      "text/html": [
       "<style>\n",
       ".list-inline {list-style: none; margin:0; padding: 0}\n",
       ".list-inline>li {display: inline-block}\n",
       ".list-inline>li:not(:last-child)::after {content: \"\\00b7\"; padding: 0 .5ex}\n",
       "</style>\n",
       "<ol class=list-inline><li>dog</li><li>cat</li><li>lizard</li><li>cow</li><li>pig</li><li>dog</li><li>cat</li></ol>\n",
       "\n",
       "<details>\n",
       "\t<summary style=display:list-item;cursor:pointer>\n",
       "\t\t<strong>Levels</strong>:\n",
       "\t</summary>\n",
       "\t<style>\n",
       "\t.list-inline {list-style: none; margin:0; padding: 0}\n",
       "\t.list-inline>li {display: inline-block}\n",
       "\t.list-inline>li:not(:last-child)::after {content: \"\\00b7\"; padding: 0 .5ex}\n",
       "\t</style>\n",
       "\t<ol class=list-inline><li>'cat'</li><li>'cow'</li><li>'dog'</li><li>'lizard'</li><li>'pig'</li></ol>\n",
       "</details>"
      ],
      "text/latex": [
       "\\begin{enumerate*}\n",
       "\\item dog\n",
       "\\item cat\n",
       "\\item lizard\n",
       "\\item cow\n",
       "\\item pig\n",
       "\\item dog\n",
       "\\item cat\n",
       "\\end{enumerate*}\n",
       "\n",
       "\\emph{Levels}: \\begin{enumerate*}\n",
       "\\item 'cat'\n",
       "\\item 'cow'\n",
       "\\item 'dog'\n",
       "\\item 'lizard'\n",
       "\\item 'pig'\n",
       "\\end{enumerate*}\n"
      ],
      "text/markdown": [
       "1. dog\n",
       "2. cat\n",
       "3. lizard\n",
       "4. cow\n",
       "5. pig\n",
       "6. dog\n",
       "7. cat\n",
       "\n",
       "\n",
       "\n",
       "**Levels**: 1. 'cat'\n",
       "2. 'cow'\n",
       "3. 'dog'\n",
       "4. 'lizard'\n",
       "5. 'pig'\n",
       "\n",
       "\n"
      ],
      "text/plain": [
       "[1] dog    cat    lizard cow    pig    dog    cat   \n",
       "Levels: cat cow dog lizard pig"
      ]
     },
     "metadata": {},
     "output_type": "display_data"
    }
   ],
   "source": [
    "animals <-c (\"dog\",\"cat\",\"lizard\",\"cow\",\"pig\",\"dog\",\"cat\")\n",
    "id <- c(1,2,3,4,5)\n",
    "factor(animals)\n",
    "fact.animals <- factor(animals)"
   ]
  },
  {
   "cell_type": "code",
   "execution_count": 10,
   "metadata": {},
   "outputs": [],
   "source": [
    "#### nominal data has no order\n",
    "#### you can't order animals (except maybe alphabetically but that doesn't count)\n",
    "\n",
    "#### ordinal data has an order\n",
    "#### temperature is ordinal since it can be ordered in value (hot, medium, cold)"
   ]
  },
  {
   "cell_type": "code",
   "execution_count": 11,
   "metadata": {},
   "outputs": [
    {
     "data": {
      "text/html": [
       "<style>\n",
       ".list-inline {list-style: none; margin:0; padding: 0}\n",
       ".list-inline>li {display: inline-block}\n",
       ".list-inline>li:not(:last-child)::after {content: \"\\00b7\"; padding: 0 .5ex}\n",
       "</style>\n",
       "<ol class=list-inline><li>'cold'</li><li>'med'</li><li>'hot'</li><li>'hot'</li><li>'hot'</li><li>'cold'</li><li>'med'</li></ol>\n"
      ],
      "text/latex": [
       "\\begin{enumerate*}\n",
       "\\item 'cold'\n",
       "\\item 'med'\n",
       "\\item 'hot'\n",
       "\\item 'hot'\n",
       "\\item 'hot'\n",
       "\\item 'cold'\n",
       "\\item 'med'\n",
       "\\end{enumerate*}\n"
      ],
      "text/markdown": [
       "1. 'cold'\n",
       "2. 'med'\n",
       "3. 'hot'\n",
       "4. 'hot'\n",
       "5. 'hot'\n",
       "6. 'cold'\n",
       "7. 'med'\n",
       "\n",
       "\n"
      ],
      "text/plain": [
       "[1] \"cold\" \"med\"  \"hot\"  \"hot\"  \"hot\"  \"cold\" \"med\" "
      ]
     },
     "metadata": {},
     "output_type": "display_data"
    }
   ],
   "source": [
    "temps <- c(\"cold\",\"med\",\"hot\",\"hot\",\"hot\",\"cold\",\"med\")\n",
    "temps"
   ]
  },
  {
   "cell_type": "code",
   "execution_count": 19,
   "metadata": {},
   "outputs": [
    {
     "data": {
      "text/html": [
       "<style>\n",
       ".list-inline {list-style: none; margin:0; padding: 0}\n",
       ".list-inline>li {display: inline-block}\n",
       ".list-inline>li:not(:last-child)::after {content: \"\\00b7\"; padding: 0 .5ex}\n",
       "</style>\n",
       "<ol class=list-inline><li>cold</li><li>med</li><li>hot</li><li>hot</li><li>hot</li><li>cold</li><li>med</li></ol>\n",
       "\n",
       "<details>\n",
       "\t<summary style=display:list-item;cursor:pointer>\n",
       "\t\t<strong>Levels</strong>:\n",
       "\t</summary>\n",
       "\t<style>\n",
       "\t.list-inline {list-style: none; margin:0; padding: 0}\n",
       "\t.list-inline>li {display: inline-block}\n",
       "\t.list-inline>li:not(:last-child)::after {content: \"\\00b7\"; padding: 0 .5ex}\n",
       "\t</style>\n",
       "\t<ol class=list-inline><li>'cold'</li><li>'med'</li><li>'hot'</li></ol>\n",
       "</details>"
      ],
      "text/latex": [
       "\\begin{enumerate*}\n",
       "\\item cold\n",
       "\\item med\n",
       "\\item hot\n",
       "\\item hot\n",
       "\\item hot\n",
       "\\item cold\n",
       "\\item med\n",
       "\\end{enumerate*}\n",
       "\n",
       "\\emph{Levels}: \\begin{enumerate*}\n",
       "\\item 'cold'\n",
       "\\item 'med'\n",
       "\\item 'hot'\n",
       "\\end{enumerate*}\n"
      ],
      "text/markdown": [
       "1. cold\n",
       "2. med\n",
       "3. hot\n",
       "4. hot\n",
       "5. hot\n",
       "6. cold\n",
       "7. med\n",
       "\n",
       "\n",
       "\n",
       "**Levels**: 1. 'cold'\n",
       "2. 'med'\n",
       "3. 'hot'\n",
       "\n",
       "\n"
      ],
      "text/plain": [
       "[1] cold med  hot  hot  hot  cold med \n",
       "Levels: cold < med < hot"
      ]
     },
     "metadata": {},
     "output_type": "display_data"
    }
   ],
   "source": [
    "fact.temps <-factor(temps,\n",
    "                    ordered = TRUE, # this will tell the factor that there is order to the variables\n",
    "                    levels = c(\"cold\",\"med\",\"hot\" # this tells the factor function which order we want the data to be in\n",
    "                               )\n",
    "                   )\n",
    "fact.temps"
   ]
  },
  {
   "cell_type": "code",
   "execution_count": 23,
   "metadata": {},
   "outputs": [
    {
     "data": {
      "text/html": [
       "<style>\n",
       ".dl-inline {width: auto; margin:0; padding: 0}\n",
       ".dl-inline>dt, .dl-inline>dd {float: none; width: auto; display: inline-block}\n",
       ".dl-inline>dt::after {content: \":\\0020\"; padding-right: .5ex}\n",
       ".dl-inline>dt:not(:first-of-type) {padding-left: .5ex}\n",
       "</style><dl class=dl-inline><dt>cold</dt><dd>2</dd><dt>med</dt><dd>2</dd><dt>hot</dt><dd>3</dd></dl>\n"
      ],
      "text/latex": [
       "\\begin{description*}\n",
       "\\item[cold] 2\n",
       "\\item[med] 2\n",
       "\\item[hot] 3\n",
       "\\end{description*}\n"
      ],
      "text/markdown": [
       "cold\n",
       ":   2med\n",
       ":   2hot\n",
       ":   3\n",
       "\n"
      ],
      "text/plain": [
       "cold  med  hot \n",
       "   2    2    3 "
      ]
     },
     "metadata": {},
     "output_type": "display_data"
    },
    {
     "data": {
      "text/html": [
       "<style>\n",
       ".dl-inline {width: auto; margin:0; padding: 0}\n",
       ".dl-inline>dt, .dl-inline>dd {float: none; width: auto; display: inline-block}\n",
       ".dl-inline>dt::after {content: \":\\0020\"; padding-right: .5ex}\n",
       ".dl-inline>dt:not(:first-of-type) {padding-left: .5ex}\n",
       "</style><dl class=dl-inline><dt>cat</dt><dd>2</dd><dt>cow</dt><dd>1</dd><dt>dog</dt><dd>2</dd><dt>lizard</dt><dd>1</dd><dt>pig</dt><dd>1</dd></dl>\n"
      ],
      "text/latex": [
       "\\begin{description*}\n",
       "\\item[cat] 2\n",
       "\\item[cow] 1\n",
       "\\item[dog] 2\n",
       "\\item[lizard] 1\n",
       "\\item[pig] 1\n",
       "\\end{description*}\n"
      ],
      "text/markdown": [
       "cat\n",
       ":   2cow\n",
       ":   1dog\n",
       ":   2lizard\n",
       ":   1pig\n",
       ":   1\n",
       "\n"
      ],
      "text/plain": [
       "   cat    cow    dog lizard    pig \n",
       "     2      1      2      1      1 "
      ]
     },
     "metadata": {},
     "output_type": "display_data"
    }
   ],
   "source": [
    "summary(fact.temps)#this will tell us how many variables there were based on the vector contents\n",
    "summary(fact.animals)"
   ]
  },
  {
   "cell_type": "code",
   "execution_count": null,
   "metadata": {},
   "outputs": [],
   "source": []
  }
 ],
 "metadata": {
  "kernelspec": {
   "display_name": "R",
   "language": "R",
   "name": "ir"
  },
  "language_info": {
   "codemirror_mode": "r",
   "file_extension": ".r",
   "mimetype": "text/x-r-source",
   "name": "R",
   "pygments_lexer": "r",
   "version": "3.6.1"
  }
 },
 "nbformat": 4,
 "nbformat_minor": 4
}
