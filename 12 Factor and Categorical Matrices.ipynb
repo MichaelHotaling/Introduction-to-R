{
 "cells": [
  {
   "cell_type": "markdown",
   "metadata": {},
   "source": [
    "# Factor and Categorical Matrices\n",
    "\n",
    "The factor() function can create categorical matrices. This specific function will become extremely useful when we begin to apply data analysis and machine learning to our data. This concept is also known as creating dummy variables.\n",
    "\n",
    "Let's start by showing an example of why and how we can build this matrix. Imagine we have the folowing vectors representing data from an animal sanctuary for dogs, cats, and other animals. Each animal will have an identifcation number"
   ]
  },
  {
   "cell_type": "code",
   "execution_count": 1,
   "metadata": {
    "scrolled": true
   },
   "outputs": [],
   "source": [
    "animals <-c(\"dog\",\"cat\",\"lizard\",\"cow\",\"pig\",\"dog\",\"cat\",\"dog\",\"dog\")\n",
    "id <- c(1,2,3,4,5,6,7,8)\n",
    "names(animals) <- id"
   ]
  },
  {
   "cell_type": "markdown",
   "metadata": {},
   "source": [
    "Since we can't plug \"cat\" or \"dog\" into a mathemtical equation, we want to convert the animal vector into information that an algorithm or equation can undestand. We can check how many categories (factor levels) are in our character vector"
   ]
  },
  {
   "cell_type": "code",
   "execution_count": 2,
   "metadata": {},
   "outputs": [
    {
     "data": {
      "text/html": [
       "<style>\n",
       ".dl-inline {width: auto; margin:0; padding: 0}\n",
       ".dl-inline>dt, .dl-inline>dd {float: none; width: auto; display: inline-block}\n",
       ".dl-inline>dt::after {content: \":\\0020\"; padding-right: .5ex}\n",
       ".dl-inline>dt:not(:first-of-type) {padding-left: .5ex}\n",
       "</style><dl class=dl-inline><dt>1</dt><dd>dog</dd><dt>2</dt><dd>cat</dd><dt>3</dt><dd>lizard</dd><dt>4</dt><dd>cow</dd><dt>5</dt><dd>pig</dd><dt>6</dt><dd>dog</dd><dt>7</dt><dd>cat</dd><dt>8</dt><dd>dog</dd><dt>9</dt><dd>dog</dd></dl>\n",
       "\n",
       "<details>\n",
       "\t<summary style=display:list-item;cursor:pointer>\n",
       "\t\t<strong>Levels</strong>:\n",
       "\t</summary>\n",
       "\t<style>\n",
       "\t.list-inline {list-style: none; margin:0; padding: 0}\n",
       "\t.list-inline>li {display: inline-block}\n",
       "\t.list-inline>li:not(:last-child)::after {content: \"\\00b7\"; padding: 0 .5ex}\n",
       "\t</style>\n",
       "\t<ol class=list-inline><li>'cat'</li><li>'cow'</li><li>'dog'</li><li>'lizard'</li><li>'pig'</li></ol>\n",
       "</details>"
      ],
      "text/latex": [
       "\\begin{description*}\n",
       "\\item[1] dog\n",
       "\\item[2] cat\n",
       "\\item[3] lizard\n",
       "\\item[4] cow\n",
       "\\item[5] pig\n",
       "\\item[6] dog\n",
       "\\item[7] cat\n",
       "\\item[8] dog\n",
       "\\item[9] dog\n",
       "\\end{description*}\n",
       "\n",
       "\\emph{Levels}: \\begin{enumerate*}\n",
       "\\item 'cat'\n",
       "\\item 'cow'\n",
       "\\item 'dog'\n",
       "\\item 'lizard'\n",
       "\\item 'pig'\n",
       "\\end{enumerate*}\n"
      ],
      "text/markdown": [
       "1\n",
       ":   dog2\n",
       ":   cat3\n",
       ":   lizard4\n",
       ":   cow5\n",
       ":   pig6\n",
       ":   dog7\n",
       ":   cat8\n",
       ":   dog9\n",
       ":   dog\n",
       "\n",
       "\n",
       "**Levels**: 1. 'cat'\n",
       "2. 'cow'\n",
       "3. 'dog'\n",
       "4. 'lizard'\n",
       "5. 'pig'\n",
       "\n",
       "\n"
      ],
      "text/plain": [
       "     1      2      3      4      5      6      7      8   <NA> \n",
       "   dog    cat lizard    cow    pig    dog    cat    dog    dog \n",
       "Levels: cat cow dog lizard pig"
      ]
     },
     "metadata": {},
     "output_type": "display_data"
    }
   ],
   "source": [
    "factor(animals)\n",
    "# This will show levels as wel on RStudio or R Console\n",
    "fact.animals <- factor(animals)"
   ]
  },
  {
   "cell_type": "markdown",
   "metadata": {},
   "source": [
    "We can see that we have fives levels, one for each different type of animal. There are two distinct types of catagorical variables. \n",
    "\n",
    "Ordinal categorical variables: These are variables that can have order. Hot, warm, cold, very cold. etc.\n",
    "\n",
    "Nominal categorical variables: These variables have no order. You can't order cats and dogs.\n",
    "\n",
    "Let's make a vector with ordinal categorical variables"
   ]
  },
  {
   "cell_type": "code",
   "execution_count": 3,
   "metadata": {},
   "outputs": [
    {
     "data": {
      "text/html": [
       "<style>\n",
       ".list-inline {list-style: none; margin:0; padding: 0}\n",
       ".list-inline>li {display: inline-block}\n",
       ".list-inline>li:not(:last-child)::after {content: \"\\00b7\"; padding: 0 .5ex}\n",
       "</style>\n",
       "<ol class=list-inline><li>'cold'</li><li>'cool'</li><li>'very hot'</li><li>'hot'</li><li>'very cold'</li><li>'hot'</li><li>'cold'</li><li>'cold'</li><li>'warm'</li></ol>\n"
      ],
      "text/latex": [
       "\\begin{enumerate*}\n",
       "\\item 'cold'\n",
       "\\item 'cool'\n",
       "\\item 'very hot'\n",
       "\\item 'hot'\n",
       "\\item 'very cold'\n",
       "\\item 'hot'\n",
       "\\item 'cold'\n",
       "\\item 'cold'\n",
       "\\item 'warm'\n",
       "\\end{enumerate*}\n"
      ],
      "text/markdown": [
       "1. 'cold'\n",
       "2. 'cool'\n",
       "3. 'very hot'\n",
       "4. 'hot'\n",
       "5. 'very cold'\n",
       "6. 'hot'\n",
       "7. 'cold'\n",
       "8. 'cold'\n",
       "9. 'warm'\n",
       "\n",
       "\n"
      ],
      "text/plain": [
       "[1] \"cold\"      \"cool\"      \"very hot\"  \"hot\"       \"very cold\" \"hot\"      \n",
       "[7] \"cold\"      \"cold\"      \"warm\"     "
      ]
     },
     "metadata": {},
     "output_type": "display_data"
    }
   ],
   "source": [
    "temps <- c(\"cold\",\"cool\",\"very hot\",\"hot\",\"very cold\",\"hot\",\"cold\",\"cold\",\"warm\")\n",
    "temps"
   ]
  },
  {
   "cell_type": "markdown",
   "metadata": {},
   "source": [
    "You can assign in order to these variables, such as.\n",
    "\n",
    "very cold < cold < cool < warm < hot < hot\n",
    "\n",
    "If you wanted to assign an order while using the factor() function, you can pass the arguments \"order = TRUE\" and the pass in the \"levels = \" and pass in the vector in the order you want the levels to be in. For example "
   ]
  },
  {
   "cell_type": "code",
   "execution_count": 4,
   "metadata": {},
   "outputs": [
    {
     "data": {
      "text/html": [
       "<style>\n",
       ".list-inline {list-style: none; margin:0; padding: 0}\n",
       ".list-inline>li {display: inline-block}\n",
       ".list-inline>li:not(:last-child)::after {content: \"\\00b7\"; padding: 0 .5ex}\n",
       "</style>\n",
       "<ol class=list-inline><li>cold</li><li>cool</li><li>very hot</li><li>hot</li><li>very cold</li><li>hot</li><li>cold</li><li>cold</li><li>warm</li></ol>\n",
       "\n",
       "<details>\n",
       "\t<summary style=display:list-item;cursor:pointer>\n",
       "\t\t<strong>Levels</strong>:\n",
       "\t</summary>\n",
       "\t<style>\n",
       "\t.list-inline {list-style: none; margin:0; padding: 0}\n",
       "\t.list-inline>li {display: inline-block}\n",
       "\t.list-inline>li:not(:last-child)::after {content: \"\\00b7\"; padding: 0 .5ex}\n",
       "\t</style>\n",
       "\t<ol class=list-inline><li>'very cold'</li><li>'cold'</li><li>'cool'</li><li>'warm'</li><li>'hot'</li><li>'very hot'</li></ol>\n",
       "</details>"
      ],
      "text/latex": [
       "\\begin{enumerate*}\n",
       "\\item cold\n",
       "\\item cool\n",
       "\\item very hot\n",
       "\\item hot\n",
       "\\item very cold\n",
       "\\item hot\n",
       "\\item cold\n",
       "\\item cold\n",
       "\\item warm\n",
       "\\end{enumerate*}\n",
       "\n",
       "\\emph{Levels}: \\begin{enumerate*}\n",
       "\\item 'very cold'\n",
       "\\item 'cold'\n",
       "\\item 'cool'\n",
       "\\item 'warm'\n",
       "\\item 'hot'\n",
       "\\item 'very hot'\n",
       "\\end{enumerate*}\n"
      ],
      "text/markdown": [
       "1. cold\n",
       "2. cool\n",
       "3. very hot\n",
       "4. hot\n",
       "5. very cold\n",
       "6. hot\n",
       "7. cold\n",
       "8. cold\n",
       "9. warm\n",
       "\n",
       "\n",
       "\n",
       "**Levels**: 1. 'very cold'\n",
       "2. 'cold'\n",
       "3. 'cool'\n",
       "4. 'warm'\n",
       "5. 'hot'\n",
       "6. 'very hot'\n",
       "\n",
       "\n"
      ],
      "text/plain": [
       "[1] cold      cool      very hot  hot       very cold hot       cold     \n",
       "[8] cold      warm     \n",
       "Levels: very cold < cold < cool < warm < hot < very hot"
      ]
     },
     "metadata": {},
     "output_type": "display_data"
    }
   ],
   "source": [
    "fact.temps <-factor(temps,\n",
    "                    ordered = TRUE, # this will tell the factor that there is order to the variables\n",
    "                    levels = c(\"very cold\",\"cold\",\"cool\",\"warm\",\"hot\",\"very hot\") # Forces the order of the varibles\n",
    "                   )\n",
    "fact.temps"
   ]
  },
  {
   "cell_type": "markdown",
   "metadata": {},
   "source": [
    "This information is useful when used along with the summary() function."
   ]
  },
  {
   "cell_type": "code",
   "execution_count": 5,
   "metadata": {},
   "outputs": [
    {
     "data": {
      "text/html": [
       "<style>\n",
       ".dl-inline {width: auto; margin:0; padding: 0}\n",
       ".dl-inline>dt, .dl-inline>dd {float: none; width: auto; display: inline-block}\n",
       ".dl-inline>dt::after {content: \":\\0020\"; padding-right: .5ex}\n",
       ".dl-inline>dt:not(:first-of-type) {padding-left: .5ex}\n",
       "</style><dl class=dl-inline><dt>very cold</dt><dd>1</dd><dt>cold</dt><dd>3</dd><dt>cool</dt><dd>1</dd><dt>warm</dt><dd>1</dd><dt>hot</dt><dd>2</dd><dt>very hot</dt><dd>1</dd></dl>\n"
      ],
      "text/latex": [
       "\\begin{description*}\n",
       "\\item[very cold] 1\n",
       "\\item[cold] 3\n",
       "\\item[cool] 1\n",
       "\\item[warm] 1\n",
       "\\item[hot] 2\n",
       "\\item[very hot] 1\n",
       "\\end{description*}\n"
      ],
      "text/markdown": [
       "very cold\n",
       ":   1cold\n",
       ":   3cool\n",
       ":   1warm\n",
       ":   1hot\n",
       ":   2very hot\n",
       ":   1\n",
       "\n"
      ],
      "text/plain": [
       "very cold      cold      cool      warm       hot  very hot \n",
       "        1         3         1         1         2         1 "
      ]
     },
     "metadata": {},
     "output_type": "display_data"
    },
    {
     "data": {
      "text/html": [
       "<style>\n",
       ".dl-inline {width: auto; margin:0; padding: 0}\n",
       ".dl-inline>dt, .dl-inline>dd {float: none; width: auto; display: inline-block}\n",
       ".dl-inline>dt::after {content: \":\\0020\"; padding-right: .5ex}\n",
       ".dl-inline>dt:not(:first-of-type) {padding-left: .5ex}\n",
       "</style><dl class=dl-inline><dt>cat</dt><dd>2</dd><dt>cow</dt><dd>1</dd><dt>dog</dt><dd>4</dd><dt>lizard</dt><dd>1</dd><dt>pig</dt><dd>1</dd></dl>\n"
      ],
      "text/latex": [
       "\\begin{description*}\n",
       "\\item[cat] 2\n",
       "\\item[cow] 1\n",
       "\\item[dog] 4\n",
       "\\item[lizard] 1\n",
       "\\item[pig] 1\n",
       "\\end{description*}\n"
      ],
      "text/markdown": [
       "cat\n",
       ":   2cow\n",
       ":   1dog\n",
       ":   4lizard\n",
       ":   1pig\n",
       ":   1\n",
       "\n"
      ],
      "text/plain": [
       "   cat    cow    dog lizard    pig \n",
       "     2      1      4      1      1 "
      ]
     },
     "metadata": {},
     "output_type": "display_data"
    }
   ],
   "source": [
    "summary(fact.temps)#this will tell us how many variables there were based on the vector contents\n",
    "summary(fact.animals)"
   ]
  }
 ],
 "metadata": {
  "kernelspec": {
   "display_name": "R",
   "language": "R",
   "name": "ir"
  },
  "language_info": {
   "codemirror_mode": "r",
   "file_extension": ".r",
   "mimetype": "text/x-r-source",
   "name": "R",
   "pygments_lexer": "r",
   "version": "3.6.1"
  }
 },
 "nbformat": 4,
 "nbformat_minor": 4
}
