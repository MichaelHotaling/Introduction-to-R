{
 "cells": [
  {
   "cell_type": "markdown",
   "metadata": {},
   "source": [
    "# Logistic Regression Project\n",
    "\n",
    "In this project, we will be working with the UCI adult dataset. We will be attempting to predict if people in the data set belong in a certain class by salary, either making $50k or less, or making more than $50k per year\n",
    "\n",
    "Typically, most of your time is spent cleaning data, not running a few lines of code that build your model. Thie project will try to emulate that by showing different issues that may arise when cleaning data.\n",
    "\n",
    "### Get the Data.\n",
    "__Read in the adult_sal.csv file and set it to the data frame called adult__"
   ]
  },
  {
   "cell_type": "code",
   "execution_count": 102,
   "metadata": {},
   "outputs": [],
   "source": [
    "adult <- read.csv(\"adult_sal.csv\")"
   ]
  },
  {
   "cell_type": "markdown",
   "metadata": {},
   "source": [
    "__Call the head of adult__"
   ]
  },
  {
   "cell_type": "code",
   "execution_count": 103,
   "metadata": {},
   "outputs": [
    {
     "data": {
      "text/html": [
       "<table>\n",
       "<caption>A data.frame: 6 × 16</caption>\n",
       "<thead>\n",
       "\t<tr><th></th><th scope=col>X</th><th scope=col>age</th><th scope=col>type_employer</th><th scope=col>fnlwgt</th><th scope=col>education</th><th scope=col>education_num</th><th scope=col>marital</th><th scope=col>occupation</th><th scope=col>relationship</th><th scope=col>race</th><th scope=col>sex</th><th scope=col>capital_gain</th><th scope=col>capital_loss</th><th scope=col>hr_per_week</th><th scope=col>country</th><th scope=col>income</th></tr>\n",
       "\t<tr><th></th><th scope=col>&lt;int&gt;</th><th scope=col>&lt;int&gt;</th><th scope=col>&lt;fct&gt;</th><th scope=col>&lt;int&gt;</th><th scope=col>&lt;fct&gt;</th><th scope=col>&lt;int&gt;</th><th scope=col>&lt;fct&gt;</th><th scope=col>&lt;fct&gt;</th><th scope=col>&lt;fct&gt;</th><th scope=col>&lt;fct&gt;</th><th scope=col>&lt;fct&gt;</th><th scope=col>&lt;int&gt;</th><th scope=col>&lt;int&gt;</th><th scope=col>&lt;int&gt;</th><th scope=col>&lt;fct&gt;</th><th scope=col>&lt;fct&gt;</th></tr>\n",
       "</thead>\n",
       "<tbody>\n",
       "\t<tr><th scope=row>1</th><td>1</td><td>39</td><td><span style=white-space:pre-wrap>State-gov       </span></td><td> 77516</td><td>Bachelors</td><td>13</td><td><span style=white-space:pre-wrap>Never-married     </span></td><td><span style=white-space:pre-wrap>Adm-clerical     </span></td><td>Not-in-family</td><td>White</td><td><span style=white-space:pre-wrap>Male  </span></td><td>2174</td><td>0</td><td>40</td><td>United-States</td><td>&lt;=50K</td></tr>\n",
       "\t<tr><th scope=row>2</th><td>2</td><td>50</td><td>Self-emp-not-inc</td><td> 83311</td><td>Bachelors</td><td>13</td><td>Married-civ-spouse</td><td><span style=white-space:pre-wrap>Exec-managerial  </span></td><td><span style=white-space:pre-wrap>Husband      </span></td><td>White</td><td><span style=white-space:pre-wrap>Male  </span></td><td><span style=white-space:pre-wrap>   0</span></td><td>0</td><td>13</td><td>United-States</td><td>&lt;=50K</td></tr>\n",
       "\t<tr><th scope=row>3</th><td>3</td><td>38</td><td><span style=white-space:pre-wrap>Private         </span></td><td>215646</td><td><span style=white-space:pre-wrap>HS-grad  </span></td><td> 9</td><td><span style=white-space:pre-wrap>Divorced          </span></td><td>Handlers-cleaners</td><td>Not-in-family</td><td>White</td><td><span style=white-space:pre-wrap>Male  </span></td><td><span style=white-space:pre-wrap>   0</span></td><td>0</td><td>40</td><td>United-States</td><td>&lt;=50K</td></tr>\n",
       "\t<tr><th scope=row>4</th><td>4</td><td>53</td><td><span style=white-space:pre-wrap>Private         </span></td><td>234721</td><td><span style=white-space:pre-wrap>11th     </span></td><td> 7</td><td>Married-civ-spouse</td><td>Handlers-cleaners</td><td><span style=white-space:pre-wrap>Husband      </span></td><td>Black</td><td><span style=white-space:pre-wrap>Male  </span></td><td><span style=white-space:pre-wrap>   0</span></td><td>0</td><td>40</td><td>United-States</td><td>&lt;=50K</td></tr>\n",
       "\t<tr><th scope=row>5</th><td>5</td><td>28</td><td><span style=white-space:pre-wrap>Private         </span></td><td>338409</td><td>Bachelors</td><td>13</td><td>Married-civ-spouse</td><td><span style=white-space:pre-wrap>Prof-specialty   </span></td><td><span style=white-space:pre-wrap>Wife         </span></td><td>Black</td><td>Female</td><td><span style=white-space:pre-wrap>   0</span></td><td>0</td><td>40</td><td><span style=white-space:pre-wrap>Cuba         </span></td><td>&lt;=50K</td></tr>\n",
       "\t<tr><th scope=row>6</th><td>6</td><td>37</td><td><span style=white-space:pre-wrap>Private         </span></td><td>284582</td><td><span style=white-space:pre-wrap>Masters  </span></td><td>14</td><td>Married-civ-spouse</td><td><span style=white-space:pre-wrap>Exec-managerial  </span></td><td><span style=white-space:pre-wrap>Wife         </span></td><td>White</td><td>Female</td><td><span style=white-space:pre-wrap>   0</span></td><td>0</td><td>40</td><td>United-States</td><td>&lt;=50K</td></tr>\n",
       "</tbody>\n",
       "</table>\n"
      ],
      "text/latex": [
       "A data.frame: 6 × 16\n",
       "\\begin{tabular}{r|llllllllllllllll}\n",
       "  & X & age & type\\_employer & fnlwgt & education & education\\_num & marital & occupation & relationship & race & sex & capital\\_gain & capital\\_loss & hr\\_per\\_week & country & income\\\\\n",
       "  & <int> & <int> & <fct> & <int> & <fct> & <int> & <fct> & <fct> & <fct> & <fct> & <fct> & <int> & <int> & <int> & <fct> & <fct>\\\\\n",
       "\\hline\n",
       "\t1 & 1 & 39 & State-gov        &  77516 & Bachelors & 13 & Never-married      & Adm-clerical      & Not-in-family & White & Male   & 2174 & 0 & 40 & United-States & <=50K\\\\\n",
       "\t2 & 2 & 50 & Self-emp-not-inc &  83311 & Bachelors & 13 & Married-civ-spouse & Exec-managerial   & Husband       & White & Male   &    0 & 0 & 13 & United-States & <=50K\\\\\n",
       "\t3 & 3 & 38 & Private          & 215646 & HS-grad   &  9 & Divorced           & Handlers-cleaners & Not-in-family & White & Male   &    0 & 0 & 40 & United-States & <=50K\\\\\n",
       "\t4 & 4 & 53 & Private          & 234721 & 11th      &  7 & Married-civ-spouse & Handlers-cleaners & Husband       & Black & Male   &    0 & 0 & 40 & United-States & <=50K\\\\\n",
       "\t5 & 5 & 28 & Private          & 338409 & Bachelors & 13 & Married-civ-spouse & Prof-specialty    & Wife          & Black & Female &    0 & 0 & 40 & Cuba          & <=50K\\\\\n",
       "\t6 & 6 & 37 & Private          & 284582 & Masters   & 14 & Married-civ-spouse & Exec-managerial   & Wife          & White & Female &    0 & 0 & 40 & United-States & <=50K\\\\\n",
       "\\end{tabular}\n"
      ],
      "text/markdown": [
       "\n",
       "A data.frame: 6 × 16\n",
       "\n",
       "| <!--/--> | X &lt;int&gt; | age &lt;int&gt; | type_employer &lt;fct&gt; | fnlwgt &lt;int&gt; | education &lt;fct&gt; | education_num &lt;int&gt; | marital &lt;fct&gt; | occupation &lt;fct&gt; | relationship &lt;fct&gt; | race &lt;fct&gt; | sex &lt;fct&gt; | capital_gain &lt;int&gt; | capital_loss &lt;int&gt; | hr_per_week &lt;int&gt; | country &lt;fct&gt; | income &lt;fct&gt; |\n",
       "|---|---|---|---|---|---|---|---|---|---|---|---|---|---|---|---|---|\n",
       "| 1 | 1 | 39 | State-gov        |  77516 | Bachelors | 13 | Never-married      | Adm-clerical      | Not-in-family | White | Male   | 2174 | 0 | 40 | United-States | &lt;=50K |\n",
       "| 2 | 2 | 50 | Self-emp-not-inc |  83311 | Bachelors | 13 | Married-civ-spouse | Exec-managerial   | Husband       | White | Male   |    0 | 0 | 13 | United-States | &lt;=50K |\n",
       "| 3 | 3 | 38 | Private          | 215646 | HS-grad   |  9 | Divorced           | Handlers-cleaners | Not-in-family | White | Male   |    0 | 0 | 40 | United-States | &lt;=50K |\n",
       "| 4 | 4 | 53 | Private          | 234721 | 11th      |  7 | Married-civ-spouse | Handlers-cleaners | Husband       | Black | Male   |    0 | 0 | 40 | United-States | &lt;=50K |\n",
       "| 5 | 5 | 28 | Private          | 338409 | Bachelors | 13 | Married-civ-spouse | Prof-specialty    | Wife          | Black | Female |    0 | 0 | 40 | Cuba          | &lt;=50K |\n",
       "| 6 | 6 | 37 | Private          | 284582 | Masters   | 14 | Married-civ-spouse | Exec-managerial   | Wife          | White | Female |    0 | 0 | 40 | United-States | &lt;=50K |\n",
       "\n"
      ],
      "text/plain": [
       "  X age type_employer    fnlwgt education education_num marital           \n",
       "1 1 39  State-gov         77516 Bachelors 13            Never-married     \n",
       "2 2 50  Self-emp-not-inc  83311 Bachelors 13            Married-civ-spouse\n",
       "3 3 38  Private          215646 HS-grad    9            Divorced          \n",
       "4 4 53  Private          234721 11th       7            Married-civ-spouse\n",
       "5 5 28  Private          338409 Bachelors 13            Married-civ-spouse\n",
       "6 6 37  Private          284582 Masters   14            Married-civ-spouse\n",
       "  occupation        relationship  race  sex    capital_gain capital_loss\n",
       "1 Adm-clerical      Not-in-family White Male   2174         0           \n",
       "2 Exec-managerial   Husband       White Male      0         0           \n",
       "3 Handlers-cleaners Not-in-family White Male      0         0           \n",
       "4 Handlers-cleaners Husband       Black Male      0         0           \n",
       "5 Prof-specialty    Wife          Black Female    0         0           \n",
       "6 Exec-managerial   Wife          White Female    0         0           \n",
       "  hr_per_week country       income\n",
       "1 40          United-States <=50K \n",
       "2 13          United-States <=50K \n",
       "3 40          United-States <=50K \n",
       "4 40          United-States <=50K \n",
       "5 40          Cuba          <=50K \n",
       "6 40          United-States <=50K "
      ]
     },
     "metadata": {},
     "output_type": "display_data"
    }
   ],
   "source": [
    "head(adult)"
   ]
  },
  {
   "cell_type": "markdown",
   "metadata": {},
   "source": [
    "__According to the head, we have an extra index value. Remove that using dplyr__"
   ]
  },
  {
   "cell_type": "code",
   "execution_count": 104,
   "metadata": {},
   "outputs": [],
   "source": [
    "library(dplyr)"
   ]
  },
  {
   "cell_type": "code",
   "execution_count": 105,
   "metadata": {},
   "outputs": [],
   "source": [
    "adult <- select(adult, -X)"
   ]
  },
  {
   "cell_type": "markdown",
   "metadata": {},
   "source": [
    "__Check the head, str, and summary of adult__"
   ]
  },
  {
   "cell_type": "code",
   "execution_count": 106,
   "metadata": {},
   "outputs": [
    {
     "data": {
      "text/html": [
       "<table>\n",
       "<caption>A data.frame: 6 × 15</caption>\n",
       "<thead>\n",
       "\t<tr><th></th><th scope=col>age</th><th scope=col>type_employer</th><th scope=col>fnlwgt</th><th scope=col>education</th><th scope=col>education_num</th><th scope=col>marital</th><th scope=col>occupation</th><th scope=col>relationship</th><th scope=col>race</th><th scope=col>sex</th><th scope=col>capital_gain</th><th scope=col>capital_loss</th><th scope=col>hr_per_week</th><th scope=col>country</th><th scope=col>income</th></tr>\n",
       "\t<tr><th></th><th scope=col>&lt;int&gt;</th><th scope=col>&lt;fct&gt;</th><th scope=col>&lt;int&gt;</th><th scope=col>&lt;fct&gt;</th><th scope=col>&lt;int&gt;</th><th scope=col>&lt;fct&gt;</th><th scope=col>&lt;fct&gt;</th><th scope=col>&lt;fct&gt;</th><th scope=col>&lt;fct&gt;</th><th scope=col>&lt;fct&gt;</th><th scope=col>&lt;int&gt;</th><th scope=col>&lt;int&gt;</th><th scope=col>&lt;int&gt;</th><th scope=col>&lt;fct&gt;</th><th scope=col>&lt;fct&gt;</th></tr>\n",
       "</thead>\n",
       "<tbody>\n",
       "\t<tr><th scope=row>1</th><td>39</td><td><span style=white-space:pre-wrap>State-gov       </span></td><td> 77516</td><td>Bachelors</td><td>13</td><td><span style=white-space:pre-wrap>Never-married     </span></td><td><span style=white-space:pre-wrap>Adm-clerical     </span></td><td>Not-in-family</td><td>White</td><td><span style=white-space:pre-wrap>Male  </span></td><td>2174</td><td>0</td><td>40</td><td>United-States</td><td>&lt;=50K</td></tr>\n",
       "\t<tr><th scope=row>2</th><td>50</td><td>Self-emp-not-inc</td><td> 83311</td><td>Bachelors</td><td>13</td><td>Married-civ-spouse</td><td><span style=white-space:pre-wrap>Exec-managerial  </span></td><td><span style=white-space:pre-wrap>Husband      </span></td><td>White</td><td><span style=white-space:pre-wrap>Male  </span></td><td><span style=white-space:pre-wrap>   0</span></td><td>0</td><td>13</td><td>United-States</td><td>&lt;=50K</td></tr>\n",
       "\t<tr><th scope=row>3</th><td>38</td><td><span style=white-space:pre-wrap>Private         </span></td><td>215646</td><td><span style=white-space:pre-wrap>HS-grad  </span></td><td> 9</td><td><span style=white-space:pre-wrap>Divorced          </span></td><td>Handlers-cleaners</td><td>Not-in-family</td><td>White</td><td><span style=white-space:pre-wrap>Male  </span></td><td><span style=white-space:pre-wrap>   0</span></td><td>0</td><td>40</td><td>United-States</td><td>&lt;=50K</td></tr>\n",
       "\t<tr><th scope=row>4</th><td>53</td><td><span style=white-space:pre-wrap>Private         </span></td><td>234721</td><td><span style=white-space:pre-wrap>11th     </span></td><td> 7</td><td>Married-civ-spouse</td><td>Handlers-cleaners</td><td><span style=white-space:pre-wrap>Husband      </span></td><td>Black</td><td><span style=white-space:pre-wrap>Male  </span></td><td><span style=white-space:pre-wrap>   0</span></td><td>0</td><td>40</td><td>United-States</td><td>&lt;=50K</td></tr>\n",
       "\t<tr><th scope=row>5</th><td>28</td><td><span style=white-space:pre-wrap>Private         </span></td><td>338409</td><td>Bachelors</td><td>13</td><td>Married-civ-spouse</td><td><span style=white-space:pre-wrap>Prof-specialty   </span></td><td><span style=white-space:pre-wrap>Wife         </span></td><td>Black</td><td>Female</td><td><span style=white-space:pre-wrap>   0</span></td><td>0</td><td>40</td><td><span style=white-space:pre-wrap>Cuba         </span></td><td>&lt;=50K</td></tr>\n",
       "\t<tr><th scope=row>6</th><td>37</td><td><span style=white-space:pre-wrap>Private         </span></td><td>284582</td><td><span style=white-space:pre-wrap>Masters  </span></td><td>14</td><td>Married-civ-spouse</td><td><span style=white-space:pre-wrap>Exec-managerial  </span></td><td><span style=white-space:pre-wrap>Wife         </span></td><td>White</td><td>Female</td><td><span style=white-space:pre-wrap>   0</span></td><td>0</td><td>40</td><td>United-States</td><td>&lt;=50K</td></tr>\n",
       "</tbody>\n",
       "</table>\n"
      ],
      "text/latex": [
       "A data.frame: 6 × 15\n",
       "\\begin{tabular}{r|lllllllllllllll}\n",
       "  & age & type\\_employer & fnlwgt & education & education\\_num & marital & occupation & relationship & race & sex & capital\\_gain & capital\\_loss & hr\\_per\\_week & country & income\\\\\n",
       "  & <int> & <fct> & <int> & <fct> & <int> & <fct> & <fct> & <fct> & <fct> & <fct> & <int> & <int> & <int> & <fct> & <fct>\\\\\n",
       "\\hline\n",
       "\t1 & 39 & State-gov        &  77516 & Bachelors & 13 & Never-married      & Adm-clerical      & Not-in-family & White & Male   & 2174 & 0 & 40 & United-States & <=50K\\\\\n",
       "\t2 & 50 & Self-emp-not-inc &  83311 & Bachelors & 13 & Married-civ-spouse & Exec-managerial   & Husband       & White & Male   &    0 & 0 & 13 & United-States & <=50K\\\\\n",
       "\t3 & 38 & Private          & 215646 & HS-grad   &  9 & Divorced           & Handlers-cleaners & Not-in-family & White & Male   &    0 & 0 & 40 & United-States & <=50K\\\\\n",
       "\t4 & 53 & Private          & 234721 & 11th      &  7 & Married-civ-spouse & Handlers-cleaners & Husband       & Black & Male   &    0 & 0 & 40 & United-States & <=50K\\\\\n",
       "\t5 & 28 & Private          & 338409 & Bachelors & 13 & Married-civ-spouse & Prof-specialty    & Wife          & Black & Female &    0 & 0 & 40 & Cuba          & <=50K\\\\\n",
       "\t6 & 37 & Private          & 284582 & Masters   & 14 & Married-civ-spouse & Exec-managerial   & Wife          & White & Female &    0 & 0 & 40 & United-States & <=50K\\\\\n",
       "\\end{tabular}\n"
      ],
      "text/markdown": [
       "\n",
       "A data.frame: 6 × 15\n",
       "\n",
       "| <!--/--> | age &lt;int&gt; | type_employer &lt;fct&gt; | fnlwgt &lt;int&gt; | education &lt;fct&gt; | education_num &lt;int&gt; | marital &lt;fct&gt; | occupation &lt;fct&gt; | relationship &lt;fct&gt; | race &lt;fct&gt; | sex &lt;fct&gt; | capital_gain &lt;int&gt; | capital_loss &lt;int&gt; | hr_per_week &lt;int&gt; | country &lt;fct&gt; | income &lt;fct&gt; |\n",
       "|---|---|---|---|---|---|---|---|---|---|---|---|---|---|---|---|\n",
       "| 1 | 39 | State-gov        |  77516 | Bachelors | 13 | Never-married      | Adm-clerical      | Not-in-family | White | Male   | 2174 | 0 | 40 | United-States | &lt;=50K |\n",
       "| 2 | 50 | Self-emp-not-inc |  83311 | Bachelors | 13 | Married-civ-spouse | Exec-managerial   | Husband       | White | Male   |    0 | 0 | 13 | United-States | &lt;=50K |\n",
       "| 3 | 38 | Private          | 215646 | HS-grad   |  9 | Divorced           | Handlers-cleaners | Not-in-family | White | Male   |    0 | 0 | 40 | United-States | &lt;=50K |\n",
       "| 4 | 53 | Private          | 234721 | 11th      |  7 | Married-civ-spouse | Handlers-cleaners | Husband       | Black | Male   |    0 | 0 | 40 | United-States | &lt;=50K |\n",
       "| 5 | 28 | Private          | 338409 | Bachelors | 13 | Married-civ-spouse | Prof-specialty    | Wife          | Black | Female |    0 | 0 | 40 | Cuba          | &lt;=50K |\n",
       "| 6 | 37 | Private          | 284582 | Masters   | 14 | Married-civ-spouse | Exec-managerial   | Wife          | White | Female |    0 | 0 | 40 | United-States | &lt;=50K |\n",
       "\n"
      ],
      "text/plain": [
       "  age type_employer    fnlwgt education education_num marital           \n",
       "1 39  State-gov         77516 Bachelors 13            Never-married     \n",
       "2 50  Self-emp-not-inc  83311 Bachelors 13            Married-civ-spouse\n",
       "3 38  Private          215646 HS-grad    9            Divorced          \n",
       "4 53  Private          234721 11th       7            Married-civ-spouse\n",
       "5 28  Private          338409 Bachelors 13            Married-civ-spouse\n",
       "6 37  Private          284582 Masters   14            Married-civ-spouse\n",
       "  occupation        relationship  race  sex    capital_gain capital_loss\n",
       "1 Adm-clerical      Not-in-family White Male   2174         0           \n",
       "2 Exec-managerial   Husband       White Male      0         0           \n",
       "3 Handlers-cleaners Not-in-family White Male      0         0           \n",
       "4 Handlers-cleaners Husband       Black Male      0         0           \n",
       "5 Prof-specialty    Wife          Black Female    0         0           \n",
       "6 Exec-managerial   Wife          White Female    0         0           \n",
       "  hr_per_week country       income\n",
       "1 40          United-States <=50K \n",
       "2 13          United-States <=50K \n",
       "3 40          United-States <=50K \n",
       "4 40          United-States <=50K \n",
       "5 40          Cuba          <=50K \n",
       "6 40          United-States <=50K "
      ]
     },
     "metadata": {},
     "output_type": "display_data"
    },
    {
     "name": "stdout",
     "output_type": "stream",
     "text": [
      "'data.frame':\t32561 obs. of  15 variables:\n",
      " $ age          : int  39 50 38 53 28 37 49 52 31 42 ...\n",
      " $ type_employer: Factor w/ 9 levels \"?\",\"Federal-gov\",..: 8 7 5 5 5 5 5 7 5 5 ...\n",
      " $ fnlwgt       : int  77516 83311 215646 234721 338409 284582 160187 209642 45781 159449 ...\n",
      " $ education    : Factor w/ 16 levels \"10th\",\"11th\",..: 10 10 12 2 10 13 7 12 13 10 ...\n",
      " $ education_num: int  13 13 9 7 13 14 5 9 14 13 ...\n",
      " $ marital      : Factor w/ 7 levels \"Divorced\",\"Married-AF-spouse\",..: 5 3 1 3 3 3 4 3 5 3 ...\n",
      " $ occupation   : Factor w/ 15 levels \"?\",\"Adm-clerical\",..: 2 5 7 7 11 5 9 5 11 5 ...\n",
      " $ relationship : Factor w/ 6 levels \"Husband\",\"Not-in-family\",..: 2 1 2 1 6 6 2 1 2 1 ...\n",
      " $ race         : Factor w/ 5 levels \"Amer-Indian-Eskimo\",..: 5 5 5 3 3 5 3 5 5 5 ...\n",
      " $ sex          : Factor w/ 2 levels \"Female\",\"Male\": 2 2 2 2 1 1 1 2 1 2 ...\n",
      " $ capital_gain : int  2174 0 0 0 0 0 0 0 14084 5178 ...\n",
      " $ capital_loss : int  0 0 0 0 0 0 0 0 0 0 ...\n",
      " $ hr_per_week  : int  40 13 40 40 40 40 16 45 50 40 ...\n",
      " $ country      : Factor w/ 42 levels \"?\",\"Cambodia\",..: 40 40 40 40 6 40 24 40 40 40 ...\n",
      " $ income       : Factor w/ 2 levels \"<=50K\",\">50K\": 1 1 1 1 1 1 1 2 2 2 ...\n"
     ]
    },
    {
     "data": {
      "text/plain": [
       "      age                 type_employer       fnlwgt       \n",
       " Min.   :17.00   Private         :22696   Min.   :  12285  \n",
       " 1st Qu.:28.00   Self-emp-not-inc: 2541   1st Qu.: 117827  \n",
       " Median :37.00   Local-gov       : 2093   Median : 178356  \n",
       " Mean   :38.58   ?               : 1836   Mean   : 189778  \n",
       " 3rd Qu.:48.00   State-gov       : 1298   3rd Qu.: 237051  \n",
       " Max.   :90.00   Self-emp-inc    : 1116   Max.   :1484705  \n",
       "                 (Other)         :  981                    \n",
       "        education     education_num                    marital     \n",
       " HS-grad     :10501   Min.   : 1.00   Divorced             : 4443  \n",
       " Some-college: 7291   1st Qu.: 9.00   Married-AF-spouse    :   23  \n",
       " Bachelors   : 5355   Median :10.00   Married-civ-spouse   :14976  \n",
       " Masters     : 1723   Mean   :10.08   Married-spouse-absent:  418  \n",
       " Assoc-voc   : 1382   3rd Qu.:12.00   Never-married        :10683  \n",
       " 11th        : 1175   Max.   :16.00   Separated            : 1025  \n",
       " (Other)     : 5134                   Widowed              :  993  \n",
       "           occupation           relationship                   race      \n",
       " Prof-specialty :4140   Husband       :13193   Amer-Indian-Eskimo:  311  \n",
       " Craft-repair   :4099   Not-in-family : 8305   Asian-Pac-Islander: 1039  \n",
       " Exec-managerial:4066   Other-relative:  981   Black             : 3124  \n",
       " Adm-clerical   :3770   Own-child     : 5068   Other             :  271  \n",
       " Sales          :3650   Unmarried     : 3446   White             :27816  \n",
       " Other-service  :3295   Wife          : 1568                             \n",
       " (Other)        :9541                                                    \n",
       "     sex         capital_gain    capital_loss     hr_per_week   \n",
       " Female:10771   Min.   :    0   Min.   :   0.0   Min.   : 1.00  \n",
       " Male  :21790   1st Qu.:    0   1st Qu.:   0.0   1st Qu.:40.00  \n",
       "                Median :    0   Median :   0.0   Median :40.00  \n",
       "                Mean   : 1078   Mean   :  87.3   Mean   :40.44  \n",
       "                3rd Qu.:    0   3rd Qu.:   0.0   3rd Qu.:45.00  \n",
       "                Max.   :99999   Max.   :4356.0   Max.   :99.00  \n",
       "                                                                \n",
       "          country        income     \n",
       " United-States:29170   <=50K:24720  \n",
       " Mexico       :  643   >50K : 7841  \n",
       " ?            :  583                \n",
       " Philippines  :  198                \n",
       " Germany      :  137                \n",
       " Canada       :  121                \n",
       " (Other)      : 1709                "
      ]
     },
     "metadata": {},
     "output_type": "display_data"
    }
   ],
   "source": [
    "head(adult)\n",
    "str(adult)\n",
    "summary(adult)"
   ]
  },
  {
   "cell_type": "markdown",
   "metadata": {},
   "source": [
    "## Data Cleaning\n",
    "__Notice that we have a lot of columns that are categorical factors. A lot of these columns have too many factors that may be necessary. In this data cleaning section, we'll try to clean these columns up by reducing the number of factors__\n",
    "\n",
    "### type_employer column\n",
    "__Use table() to check out the frequency of the type_employer column.__"
   ]
  },
  {
   "cell_type": "code",
   "execution_count": 107,
   "metadata": {},
   "outputs": [
    {
     "data": {
      "text/plain": [
       "\n",
       "               ?      Federal-gov        Local-gov     Never-worked \n",
       "            1836              960             2093                7 \n",
       "         Private     Self-emp-inc Self-emp-not-inc        State-gov \n",
       "           22696             1116             2541             1298 \n",
       "     Without-pay \n",
       "              14 "
      ]
     },
     "metadata": {},
     "output_type": "display_data"
    }
   ],
   "source": [
    "table(adult$type_employer)"
   ]
  },
  {
   "cell_type": "markdown",
   "metadata": {},
   "source": [
    "__How many Null values are there for type_employer? What are the two smallest groups?__\n"
   ]
  },
  {
   "cell_type": "code",
   "execution_count": 108,
   "metadata": {},
   "outputs": [],
   "source": [
    "# 1836 Null Values\n",
    "#\n",
    "# Never Worked and Without Pay are the smallest groups"
   ]
  },
  {
   "cell_type": "markdown",
   "metadata": {},
   "source": [
    "__Combine these two smallest groups into a single group called \"Unemployed\". There are lots of ways to do this, so feel free to get creative. Hint: It may be helpful to convert these objects into character data types (as.character() and then use sapply with a custom function)__\n",
    "\n"
   ]
  },
  {
   "cell_type": "code",
   "execution_count": 109,
   "metadata": {},
   "outputs": [],
   "source": [
    "unemp <- function(job){\n",
    "    job <- as.character(job)\n",
    "    if (job =='Never-worked' | job =='Without-pay'){\n",
    "        return('Unemployed')\n",
    "    }else{\n",
    "        return(job)\n",
    "    }\n",
    "}"
   ]
  },
  {
   "cell_type": "code",
   "execution_count": 110,
   "metadata": {},
   "outputs": [
    {
     "data": {
      "text/plain": [
       "\n",
       "               ?      Federal-gov        Local-gov          Private \n",
       "            1836              960             2093            22696 \n",
       "    Self-emp-inc Self-emp-not-inc        State-gov       Unemployed \n",
       "            1116             2541             1298               21 "
      ]
     },
     "metadata": {},
     "output_type": "display_data"
    }
   ],
   "source": [
    "adult$type_employer <- sapply(adult$type_employer,unemp)\n",
    "\n",
    "table(adult$type_employer)"
   ]
  },
  {
   "cell_type": "markdown",
   "metadata": {},
   "source": [
    "__Combine State and Local gov jobs into a category called SL-gov and combine self-employed jobs into a category called self-emp.__"
   ]
  },
  {
   "cell_type": "code",
   "execution_count": 111,
   "metadata": {},
   "outputs": [],
   "source": [
    "group_emp <- function(job){\n",
    "    if (job =='Local-gov' | job =='State-gov'){\n",
    "        return('SL-gov')\n",
    "    }else if(job =='Self-emp-inc' | job =='Self-emp-not-inc'){\n",
    "        return(\"self-emp\")\n",
    "    }else{\n",
    "        return(job)\n",
    "    }\n",
    "}"
   ]
  },
  {
   "cell_type": "code",
   "execution_count": 112,
   "metadata": {},
   "outputs": [],
   "source": [
    "adult$type_employer <- sapply(adult$type_employer, group_emp)"
   ]
  },
  {
   "cell_type": "code",
   "execution_count": 113,
   "metadata": {},
   "outputs": [
    {
     "data": {
      "text/plain": [
       "\n",
       "          ? Federal-gov     Private    self-emp      SL-gov  Unemployed \n",
       "       1836         960       22696        3657        3391          21 "
      ]
     },
     "metadata": {},
     "output_type": "display_data"
    }
   ],
   "source": [
    "table(adult$type_employer)"
   ]
  },
  {
   "cell_type": "markdown",
   "metadata": {},
   "source": [
    "### Maritial Column\n",
    "__Use table() to look at te marital column__"
   ]
  },
  {
   "cell_type": "code",
   "execution_count": 114,
   "metadata": {},
   "outputs": [
    {
     "data": {
      "text/plain": [
       "\n",
       "             Divorced     Married-AF-spouse    Married-civ-spouse \n",
       "                 4443                    23                 14976 \n",
       "Married-spouse-absent         Never-married             Separated \n",
       "                  418                 10683                  1025 \n",
       "              Widowed \n",
       "                  993 "
      ]
     },
     "metadata": {},
     "output_type": "display_data"
    }
   ],
   "source": [
    "table(adult$marital)"
   ]
  },
  {
   "cell_type": "markdown",
   "metadata": {},
   "source": [
    "__Reduce this to three groups:__\n",
    "\n",
    "- __Married__\n",
    "- __Not-Married__\n",
    "- __Never-Married__"
   ]
  },
  {
   "cell_type": "code",
   "execution_count": 115,
   "metadata": {},
   "outputs": [],
   "source": [
    "group_marital <- function(mar){\n",
    "    mar <- as.character(mar)\n",
    "    \n",
    "    #Not married\n",
    "    if( mar == \"Separated\" | mar == \"Widowed\" | mar == \"Divorced\"){\n",
    "        return('Not-Married')\n",
    "        \n",
    "    #Never-Married    \n",
    "    }else if(mar == 'Never-married'){\n",
    "        return(mar)\n",
    "    \n",
    "    #Married   \n",
    "    }else{\n",
    "        return('Married')\n",
    "    }     \n",
    "}"
   ]
  },
  {
   "cell_type": "code",
   "execution_count": 116,
   "metadata": {},
   "outputs": [],
   "source": [
    "adult$marital <- sapply(adult$marital,group_marital)"
   ]
  },
  {
   "cell_type": "code",
   "execution_count": 117,
   "metadata": {},
   "outputs": [
    {
     "data": {
      "text/plain": [
       "\n",
       "      Married Never-married   Not-Married \n",
       "        15417         10683          6461 "
      ]
     },
     "metadata": {},
     "output_type": "display_data"
    }
   ],
   "source": [
    "table(adult$marital)"
   ]
  },
  {
   "cell_type": "markdown",
   "metadata": {},
   "source": [
    "### Country Column\n",
    "__Check the country column using table()__"
   ]
  },
  {
   "cell_type": "code",
   "execution_count": 118,
   "metadata": {},
   "outputs": [
    {
     "data": {
      "text/plain": [
       "\n",
       "                         ?                   Cambodia \n",
       "                       583                         19 \n",
       "                    Canada                      China \n",
       "                       121                         75 \n",
       "                  Columbia                       Cuba \n",
       "                        59                         95 \n",
       "        Dominican-Republic                    Ecuador \n",
       "                        70                         28 \n",
       "               El-Salvador                    England \n",
       "                       106                         90 \n",
       "                    France                    Germany \n",
       "                        29                        137 \n",
       "                    Greece                  Guatemala \n",
       "                        29                         64 \n",
       "                     Haiti         Holand-Netherlands \n",
       "                        44                          1 \n",
       "                  Honduras                       Hong \n",
       "                        13                         20 \n",
       "                   Hungary                      India \n",
       "                        13                        100 \n",
       "                      Iran                    Ireland \n",
       "                        43                         24 \n",
       "                     Italy                    Jamaica \n",
       "                        73                         81 \n",
       "                     Japan                       Laos \n",
       "                        62                         18 \n",
       "                    Mexico                  Nicaragua \n",
       "                       643                         34 \n",
       "Outlying-US(Guam-USVI-etc)                       Peru \n",
       "                        14                         31 \n",
       "               Philippines                     Poland \n",
       "                       198                         60 \n",
       "                  Portugal                Puerto-Rico \n",
       "                        37                        114 \n",
       "                  Scotland                      South \n",
       "                        12                         80 \n",
       "                    Taiwan                   Thailand \n",
       "                        51                         18 \n",
       "           Trinadad&Tobago              United-States \n",
       "                        19                      29170 \n",
       "                   Vietnam                 Yugoslavia \n",
       "                        67                         16 "
      ]
     },
     "metadata": {},
     "output_type": "display_data"
    }
   ],
   "source": [
    "table(adult$country)"
   ]
  },
  {
   "cell_type": "markdown",
   "metadata": {},
   "source": [
    "__Group these countries together however you see fit. You have flexibility here because there is no right/wrong way to do this, possibly group by continents. You should be able to reduce the number of groups here significantly though.__"
   ]
  },
  {
   "cell_type": "code",
   "execution_count": 119,
   "metadata": {},
   "outputs": [
    {
     "data": {
      "text/html": [
       "<style>\n",
       ".list-inline {list-style: none; margin:0; padding: 0}\n",
       ".list-inline>li {display: inline-block}\n",
       ".list-inline>li:not(:last-child)::after {content: \"\\00b7\"; padding: 0 .5ex}\n",
       "</style>\n",
       "<ol class=list-inline><li>'?'</li><li>'Cambodia'</li><li>'Canada'</li><li>'China'</li><li>'Columbia'</li><li>'Cuba'</li><li>'Dominican-Republic'</li><li>'Ecuador'</li><li>'El-Salvador'</li><li>'England'</li><li>'France'</li><li>'Germany'</li><li>'Greece'</li><li>'Guatemala'</li><li>'Haiti'</li><li>'Holand-Netherlands'</li><li>'Honduras'</li><li>'Hong'</li><li>'Hungary'</li><li>'India'</li><li>'Iran'</li><li>'Ireland'</li><li>'Italy'</li><li>'Jamaica'</li><li>'Japan'</li><li>'Laos'</li><li>'Mexico'</li><li>'Nicaragua'</li><li>'Outlying-US(Guam-USVI-etc)'</li><li>'Peru'</li><li>'Philippines'</li><li>'Poland'</li><li>'Portugal'</li><li>'Puerto-Rico'</li><li>'Scotland'</li><li>'South'</li><li>'Taiwan'</li><li>'Thailand'</li><li>'Trinadad&amp;Tobago'</li><li>'United-States'</li><li>'Vietnam'</li><li>'Yugoslavia'</li></ol>\n"
      ],
      "text/latex": [
       "\\begin{enumerate*}\n",
       "\\item '?'\n",
       "\\item 'Cambodia'\n",
       "\\item 'Canada'\n",
       "\\item 'China'\n",
       "\\item 'Columbia'\n",
       "\\item 'Cuba'\n",
       "\\item 'Dominican-Republic'\n",
       "\\item 'Ecuador'\n",
       "\\item 'El-Salvador'\n",
       "\\item 'England'\n",
       "\\item 'France'\n",
       "\\item 'Germany'\n",
       "\\item 'Greece'\n",
       "\\item 'Guatemala'\n",
       "\\item 'Haiti'\n",
       "\\item 'Holand-Netherlands'\n",
       "\\item 'Honduras'\n",
       "\\item 'Hong'\n",
       "\\item 'Hungary'\n",
       "\\item 'India'\n",
       "\\item 'Iran'\n",
       "\\item 'Ireland'\n",
       "\\item 'Italy'\n",
       "\\item 'Jamaica'\n",
       "\\item 'Japan'\n",
       "\\item 'Laos'\n",
       "\\item 'Mexico'\n",
       "\\item 'Nicaragua'\n",
       "\\item 'Outlying-US(Guam-USVI-etc)'\n",
       "\\item 'Peru'\n",
       "\\item 'Philippines'\n",
       "\\item 'Poland'\n",
       "\\item 'Portugal'\n",
       "\\item 'Puerto-Rico'\n",
       "\\item 'Scotland'\n",
       "\\item 'South'\n",
       "\\item 'Taiwan'\n",
       "\\item 'Thailand'\n",
       "\\item 'Trinadad\\&Tobago'\n",
       "\\item 'United-States'\n",
       "\\item 'Vietnam'\n",
       "\\item 'Yugoslavia'\n",
       "\\end{enumerate*}\n"
      ],
      "text/markdown": [
       "1. '?'\n",
       "2. 'Cambodia'\n",
       "3. 'Canada'\n",
       "4. 'China'\n",
       "5. 'Columbia'\n",
       "6. 'Cuba'\n",
       "7. 'Dominican-Republic'\n",
       "8. 'Ecuador'\n",
       "9. 'El-Salvador'\n",
       "10. 'England'\n",
       "11. 'France'\n",
       "12. 'Germany'\n",
       "13. 'Greece'\n",
       "14. 'Guatemala'\n",
       "15. 'Haiti'\n",
       "16. 'Holand-Netherlands'\n",
       "17. 'Honduras'\n",
       "18. 'Hong'\n",
       "19. 'Hungary'\n",
       "20. 'India'\n",
       "21. 'Iran'\n",
       "22. 'Ireland'\n",
       "23. 'Italy'\n",
       "24. 'Jamaica'\n",
       "25. 'Japan'\n",
       "26. 'Laos'\n",
       "27. 'Mexico'\n",
       "28. 'Nicaragua'\n",
       "29. 'Outlying-US(Guam-USVI-etc)'\n",
       "30. 'Peru'\n",
       "31. 'Philippines'\n",
       "32. 'Poland'\n",
       "33. 'Portugal'\n",
       "34. 'Puerto-Rico'\n",
       "35. 'Scotland'\n",
       "36. 'South'\n",
       "37. 'Taiwan'\n",
       "38. 'Thailand'\n",
       "39. 'Trinadad&amp;Tobago'\n",
       "40. 'United-States'\n",
       "41. 'Vietnam'\n",
       "42. 'Yugoslavia'\n",
       "\n",
       "\n"
      ],
      "text/plain": [
       " [1] \"?\"                          \"Cambodia\"                  \n",
       " [3] \"Canada\"                     \"China\"                     \n",
       " [5] \"Columbia\"                   \"Cuba\"                      \n",
       " [7] \"Dominican-Republic\"         \"Ecuador\"                   \n",
       " [9] \"El-Salvador\"                \"England\"                   \n",
       "[11] \"France\"                     \"Germany\"                   \n",
       "[13] \"Greece\"                     \"Guatemala\"                 \n",
       "[15] \"Haiti\"                      \"Holand-Netherlands\"        \n",
       "[17] \"Honduras\"                   \"Hong\"                      \n",
       "[19] \"Hungary\"                    \"India\"                     \n",
       "[21] \"Iran\"                       \"Ireland\"                   \n",
       "[23] \"Italy\"                      \"Jamaica\"                   \n",
       "[25] \"Japan\"                      \"Laos\"                      \n",
       "[27] \"Mexico\"                     \"Nicaragua\"                 \n",
       "[29] \"Outlying-US(Guam-USVI-etc)\" \"Peru\"                      \n",
       "[31] \"Philippines\"                \"Poland\"                    \n",
       "[33] \"Portugal\"                   \"Puerto-Rico\"               \n",
       "[35] \"Scotland\"                   \"South\"                     \n",
       "[37] \"Taiwan\"                     \"Thailand\"                  \n",
       "[39] \"Trinadad&Tobago\"            \"United-States\"             \n",
       "[41] \"Vietnam\"                    \"Yugoslavia\"                "
      ]
     },
     "metadata": {},
     "output_type": "display_data"
    }
   ],
   "source": [
    "levels(adult$country)"
   ]
  },
  {
   "cell_type": "code",
   "execution_count": 120,
   "metadata": {},
   "outputs": [],
   "source": [
    "Asia <- c('China','Hong','India','Iran','Cambodia','Japan', 'Laos' ,\n",
    "          'Philippines' ,'Vietnam' ,'Taiwan', 'Thailand')\n",
    "\n",
    "North.America <- c('Canada','United-States','Puerto-Rico' )\n",
    "\n",
    "Europe <- c('England' ,'France', 'Germany' ,'Greece','Holand-Netherlands','Hungary',\n",
    "            'Ireland','Italy','Poland','Portugal','Scotland','Yugoslavia')\n",
    "\n",
    "Latin.and.South.America <- c('Columbia','Cuba','Dominican-Republic','Ecuador',\n",
    "                             'El-Salvador','Guatemala','Haiti','Honduras',\n",
    "                             'Mexico','Nicaragua','Outlying-US(Guam-USVI-etc)','Peru',\n",
    "                            'Jamaica','Trinadad&Tobago')\n",
    "Other <- c('South')"
   ]
  },
  {
   "cell_type": "code",
   "execution_count": 121,
   "metadata": {},
   "outputs": [],
   "source": [
    "group_country <- function(ctry){\n",
    "    if (ctry %in% Asia){\n",
    "        return('Asia')\n",
    "    }else if (ctry %in% North.America){\n",
    "        return('North.America')\n",
    "    }else if (ctry %in% Europe){\n",
    "        return('Europe')\n",
    "    }else if (ctry %in% Latin.and.South.America){\n",
    "        return('Latin.and.South.America')\n",
    "    }else{\n",
    "        return('Other')      \n",
    "    }\n",
    "}"
   ]
  },
  {
   "cell_type": "code",
   "execution_count": 122,
   "metadata": {},
   "outputs": [],
   "source": [
    "adult$country <- sapply(adult$country,group_country)"
   ]
  },
  {
   "cell_type": "code",
   "execution_count": 123,
   "metadata": {},
   "outputs": [
    {
     "data": {
      "text/plain": [
       "\n",
       "                   Asia                  Europe Latin.and.South.America \n",
       "                    671                     521                    1301 \n",
       "          North.America                   Other \n",
       "                  29405                     663 "
      ]
     },
     "metadata": {},
     "output_type": "display_data"
    }
   ],
   "source": [
    "table(adult$country)"
   ]
  },
  {
   "cell_type": "markdown",
   "metadata": {},
   "source": [
    "__Check the str() of adult again. Make sure any of the columns we changed have factor levels with factor()__"
   ]
  },
  {
   "cell_type": "code",
   "execution_count": 124,
   "metadata": {},
   "outputs": [
    {
     "name": "stdout",
     "output_type": "stream",
     "text": [
      "'data.frame':\t32561 obs. of  15 variables:\n",
      " $ age          : int  39 50 38 53 28 37 49 52 31 42 ...\n",
      " $ type_employer: chr  \"SL-gov\" \"self-emp\" \"Private\" \"Private\" ...\n",
      " $ fnlwgt       : int  77516 83311 215646 234721 338409 284582 160187 209642 45781 159449 ...\n",
      " $ education    : Factor w/ 16 levels \"10th\",\"11th\",..: 10 10 12 2 10 13 7 12 13 10 ...\n",
      " $ education_num: int  13 13 9 7 13 14 5 9 14 13 ...\n",
      " $ marital      : chr  \"Never-married\" \"Married\" \"Not-Married\" \"Married\" ...\n",
      " $ occupation   : Factor w/ 15 levels \"?\",\"Adm-clerical\",..: 2 5 7 7 11 5 9 5 11 5 ...\n",
      " $ relationship : Factor w/ 6 levels \"Husband\",\"Not-in-family\",..: 2 1 2 1 6 6 2 1 2 1 ...\n",
      " $ race         : Factor w/ 5 levels \"Amer-Indian-Eskimo\",..: 5 5 5 3 3 5 3 5 5 5 ...\n",
      " $ sex          : Factor w/ 2 levels \"Female\",\"Male\": 2 2 2 2 1 1 1 2 1 2 ...\n",
      " $ capital_gain : int  2174 0 0 0 0 0 0 0 14084 5178 ...\n",
      " $ capital_loss : int  0 0 0 0 0 0 0 0 0 0 ...\n",
      " $ hr_per_week  : int  40 13 40 40 40 40 16 45 50 40 ...\n",
      " $ country      : chr  \"North.America\" \"North.America\" \"North.America\" \"North.America\" ...\n",
      " $ income       : Factor w/ 2 levels \"<=50K\",\">50K\": 1 1 1 1 1 1 1 2 2 2 ...\n"
     ]
    }
   ],
   "source": [
    "str(adult)"
   ]
  },
  {
   "cell_type": "code",
   "execution_count": 125,
   "metadata": {},
   "outputs": [],
   "source": [
    "adult$type_employer <-sapply(adult$type_employer,factor)\n",
    "adult$country <-sapply(adult$country,factor)\n",
    "adult$marital <-sapply(adult$marital,factor)"
   ]
  },
  {
   "cell_type": "code",
   "execution_count": 126,
   "metadata": {},
   "outputs": [
    {
     "name": "stdout",
     "output_type": "stream",
     "text": [
      "'data.frame':\t32561 obs. of  15 variables:\n",
      " $ age          : int  39 50 38 53 28 37 49 52 31 42 ...\n",
      " $ type_employer: Factor w/ 6 levels \"SL-gov\",\"self-emp\",..: 1 2 3 3 3 3 3 2 3 3 ...\n",
      " $ fnlwgt       : int  77516 83311 215646 234721 338409 284582 160187 209642 45781 159449 ...\n",
      " $ education    : Factor w/ 16 levels \"10th\",\"11th\",..: 10 10 12 2 10 13 7 12 13 10 ...\n",
      " $ education_num: int  13 13 9 7 13 14 5 9 14 13 ...\n",
      " $ marital      : Factor w/ 3 levels \"Never-married\",..: 1 2 3 2 2 2 2 2 1 2 ...\n",
      " $ occupation   : Factor w/ 15 levels \"?\",\"Adm-clerical\",..: 2 5 7 7 11 5 9 5 11 5 ...\n",
      " $ relationship : Factor w/ 6 levels \"Husband\",\"Not-in-family\",..: 2 1 2 1 6 6 2 1 2 1 ...\n",
      " $ race         : Factor w/ 5 levels \"Amer-Indian-Eskimo\",..: 5 5 5 3 3 5 3 5 5 5 ...\n",
      " $ sex          : Factor w/ 2 levels \"Female\",\"Male\": 2 2 2 2 1 1 1 2 1 2 ...\n",
      " $ capital_gain : int  2174 0 0 0 0 0 0 0 14084 5178 ...\n",
      " $ capital_loss : int  0 0 0 0 0 0 0 0 0 0 ...\n",
      " $ hr_per_week  : int  40 13 40 40 40 40 16 45 50 40 ...\n",
      " $ country      : Factor w/ 5 levels \"North.America\",..: 1 1 1 1 2 1 2 1 1 1 ...\n",
      " $ income       : Factor w/ 2 levels \"<=50K\",\">50K\": 1 1 1 1 1 1 1 2 2 2 ...\n"
     ]
    }
   ],
   "source": [
    "str(adult)"
   ]
  },
  {
   "cell_type": "markdown",
   "metadata": {},
   "source": [
    "__We could still play around with education and occupation to try to reduce the number of factors for those columns, but let's go ahead and move on to dealing with the missing data. Feel free to group those columns as well and see how they effect your model.__"
   ]
  },
  {
   "cell_type": "markdown",
   "metadata": {},
   "source": [
    "### Missing Data\n",
    "\n",
    "__Notice that we have a lot of ? values in the data frame. Convert them to NA values.__"
   ]
  },
  {
   "cell_type": "code",
   "execution_count": 127,
   "metadata": {},
   "outputs": [],
   "source": [
    "adult[adult == '?'] <- NA"
   ]
  },
  {
   "cell_type": "markdown",
   "metadata": {},
   "source": [
    "__Using table() on a column with NA values should now not display those NA values, instead you'll just see 0 for ?. Refactor these columns (may take awhile).__\n",
    "\n"
   ]
  },
  {
   "cell_type": "code",
   "execution_count": 128,
   "metadata": {},
   "outputs": [
    {
     "data": {
      "text/plain": [
       "\n",
       "     SL-gov    self-emp     Private Federal-gov           ?  Unemployed \n",
       "       3391        3657       22696         960           0          21 "
      ]
     },
     "metadata": {},
     "output_type": "display_data"
    }
   ],
   "source": [
    "table(adult$type_employer)"
   ]
  },
  {
   "cell_type": "code",
   "execution_count": 129,
   "metadata": {},
   "outputs": [],
   "source": [
    "adult$type_employer <- sapply(adult$type_employer,factor)\n",
    "adult$country <- sapply(adult$country,factor)\n",
    "adult$marital <- sapply(adult$marital,factor)\n",
    "adult$occupation <- sapply(adult$occupation,factor)"
   ]
  },
  {
   "cell_type": "markdown",
   "metadata": {},
   "source": [
    "__Use the missmap function from the Amelia package. Can you figure out what its doing and how to use it?__"
   ]
  },
  {
   "cell_type": "code",
   "execution_count": 130,
   "metadata": {},
   "outputs": [],
   "source": [
    "library(Amelia)"
   ]
  },
  {
   "cell_type": "code",
   "execution_count": 131,
   "metadata": {},
   "outputs": [
    {
     "data": {
      "image/png": "[encoded data removed]",
      "text/plain": [
       "Plot with title \"Missingness Map\""
      ]
     },
     "metadata": {},
     "output_type": "display_data"
    }
   ],
   "source": [
    "missmap(adult,y.at=c(1),y.labels = c(''),col=c('yellow','black'))"
   ]
  },
  {
   "cell_type": "markdown",
   "metadata": {},
   "source": [
    "__Use na.omit() to omit NA data from the adult data frame. Note, it really depends on the situation and your data to judge whether or not this is a good decision. You shouldn't always just drop NA values.__\n",
    "\n"
   ]
  },
  {
   "cell_type": "code",
   "execution_count": 132,
   "metadata": {},
   "outputs": [],
   "source": [
    "adult <- na.omit(adult)"
   ]
  },
  {
   "cell_type": "markdown",
   "metadata": {},
   "source": [
    "__Use missmap() to check that all the NA values were in fact dropped.__\n",
    "\n"
   ]
  },
  {
   "cell_type": "code",
   "execution_count": 133,
   "metadata": {},
   "outputs": [
    {
     "data": {
      "image/png": "[encoded data removed]",
      "text/plain": [
       "Plot with title \"Missingness Map\""
      ]
     },
     "metadata": {},
     "output_type": "display_data"
    }
   ],
   "source": [
    "missmap(adult,y.at=c(1),y.labels = c(''),col=c('yellow','black'))"
   ]
  },
  {
   "cell_type": "markdown",
   "metadata": {},
   "source": [
    "## Exploratory Data Analysis\n",
    "__Check the str() of the data.__"
   ]
  },
  {
   "cell_type": "code",
   "execution_count": 134,
   "metadata": {},
   "outputs": [
    {
     "name": "stdout",
     "output_type": "stream",
     "text": [
      "'data.frame':\t30718 obs. of  15 variables:\n",
      " $ age          : int  39 50 38 53 28 37 49 52 31 42 ...\n",
      " $ type_employer: Factor w/ 5 levels \"SL-gov\",\"self-emp\",..: 1 2 3 3 3 3 3 2 3 3 ...\n",
      " $ fnlwgt       : int  77516 83311 215646 234721 338409 284582 160187 209642 45781 159449 ...\n",
      " $ education    : Factor w/ 16 levels \"10th\",\"11th\",..: 10 10 12 2 10 13 7 12 13 10 ...\n",
      " $ education_num: int  13 13 9 7 13 14 5 9 14 13 ...\n",
      " $ marital      : Factor w/ 3 levels \"Never-married\",..: 1 2 3 2 2 2 2 2 1 2 ...\n",
      " $ occupation   : Factor w/ 14 levels \"Adm-clerical\",..: 1 2 3 3 4 2 5 2 4 2 ...\n",
      " $ relationship : Factor w/ 6 levels \"Husband\",\"Not-in-family\",..: 2 1 2 1 6 6 2 1 2 1 ...\n",
      " $ race         : Factor w/ 5 levels \"Amer-Indian-Eskimo\",..: 5 5 5 3 3 5 3 5 5 5 ...\n",
      " $ sex          : Factor w/ 2 levels \"Female\",\"Male\": 2 2 2 2 1 1 1 2 1 2 ...\n",
      " $ capital_gain : int  2174 0 0 0 0 0 0 0 14084 5178 ...\n",
      " $ capital_loss : int  0 0 0 0 0 0 0 0 0 0 ...\n",
      " $ hr_per_week  : int  40 13 40 40 40 40 16 45 50 40 ...\n",
      " $ country      : Factor w/ 5 levels \"North.America\",..: 1 1 1 1 2 1 2 1 1 1 ...\n",
      " $ income       : Factor w/ 2 levels \"<=50K\",\">50K\": 1 1 1 1 1 1 1 2 2 2 ...\n",
      " - attr(*, \"na.action\")= 'omit' Named int  28 62 70 78 107 129 150 155 161 188 ...\n",
      "  ..- attr(*, \"names\")= chr  \"28\" \"62\" \"70\" \"78\" ...\n"
     ]
    }
   ],
   "source": [
    "str(adult)"
   ]
  },
  {
   "cell_type": "markdown",
   "metadata": {},
   "source": [
    "Use ggplot to create a histogram of ages, colored by income."
   ]
  },
  {
   "cell_type": "code",
   "execution_count": 135,
   "metadata": {},
   "outputs": [],
   "source": [
    "library(ggplot2)\n",
    "library(dplyr)"
   ]
  },
  {
   "cell_type": "code",
   "execution_count": 136,
   "metadata": {},
   "outputs": [
    {
     "data": {
      "image/png": "[encoded data removed]",
      "text/plain": [
       "plot without title"
      ]
     },
     "metadata": {},
     "output_type": "display_data"
    }
   ],
   "source": [
    "ggplot(adult,aes(age)) + geom_histogram(aes(fill=income),color='black',binwidth=1) + theme_bw()"
   ]
  },
  {
   "cell_type": "markdown",
   "metadata": {},
   "source": [
    "__Plot a histogram of hours worked per week__"
   ]
  },
  {
   "cell_type": "code",
   "execution_count": 137,
   "metadata": {},
   "outputs": [
    {
     "data": {
      "image/png": "[encoded data removed]",
      "text/plain": [
       "plot without title"
      ]
     },
     "metadata": {},
     "output_type": "display_data"
    }
   ],
   "source": [
    "ggplot(data = adult, aes( x = hr_per_week) ) + geom_histogram(bins = 20) + theme_bw()"
   ]
  },
  {
   "cell_type": "markdown",
   "metadata": {},
   "source": [
    "__Rename the country column to region column to better reflect the factor levels.__"
   ]
  },
  {
   "cell_type": "code",
   "execution_count": 138,
   "metadata": {},
   "outputs": [],
   "source": [
    "names(adult)[names(adult)== \"country\"] <- \"region\""
   ]
  },
  {
   "cell_type": "code",
   "execution_count": 139,
   "metadata": {},
   "outputs": [
    {
     "name": "stdout",
     "output_type": "stream",
     "text": [
      "'data.frame':\t30718 obs. of  15 variables:\n",
      " $ age          : int  39 50 38 53 28 37 49 52 31 42 ...\n",
      " $ type_employer: Factor w/ 5 levels \"SL-gov\",\"self-emp\",..: 1 2 3 3 3 3 3 2 3 3 ...\n",
      " $ fnlwgt       : int  77516 83311 215646 234721 338409 284582 160187 209642 45781 159449 ...\n",
      " $ education    : Factor w/ 16 levels \"10th\",\"11th\",..: 10 10 12 2 10 13 7 12 13 10 ...\n",
      " $ education_num: int  13 13 9 7 13 14 5 9 14 13 ...\n",
      " $ marital      : Factor w/ 3 levels \"Never-married\",..: 1 2 3 2 2 2 2 2 1 2 ...\n",
      " $ occupation   : Factor w/ 14 levels \"Adm-clerical\",..: 1 2 3 3 4 2 5 2 4 2 ...\n",
      " $ relationship : Factor w/ 6 levels \"Husband\",\"Not-in-family\",..: 2 1 2 1 6 6 2 1 2 1 ...\n",
      " $ race         : Factor w/ 5 levels \"Amer-Indian-Eskimo\",..: 5 5 5 3 3 5 3 5 5 5 ...\n",
      " $ sex          : Factor w/ 2 levels \"Female\",\"Male\": 2 2 2 2 1 1 1 2 1 2 ...\n",
      " $ capital_gain : int  2174 0 0 0 0 0 0 0 14084 5178 ...\n",
      " $ capital_loss : int  0 0 0 0 0 0 0 0 0 0 ...\n",
      " $ hr_per_week  : int  40 13 40 40 40 40 16 45 50 40 ...\n",
      " $ region       : Factor w/ 5 levels \"North.America\",..: 1 1 1 1 2 1 2 1 1 1 ...\n",
      " $ income       : Factor w/ 2 levels \"<=50K\",\">50K\": 1 1 1 1 1 1 1 2 2 2 ...\n",
      " - attr(*, \"na.action\")= 'omit' Named int  28 62 70 78 107 129 150 155 161 188 ...\n",
      "  ..- attr(*, \"names\")= chr  \"28\" \"62\" \"70\" \"78\" ...\n"
     ]
    }
   ],
   "source": [
    "str(adult)"
   ]
  },
  {
   "cell_type": "markdown",
   "metadata": {},
   "source": [
    "__Create a barplot of region with the fill color defined by  income class. Try to figure out how to rotate the x axis text for readability__"
   ]
  },
  {
   "cell_type": "code",
   "execution_count": 140,
   "metadata": {},
   "outputs": [
    {
     "data": {
      "image/png": "[encoded data removed]",
      "text/plain": [
       "plot without title"
      ]
     },
     "metadata": {},
     "output_type": "display_data"
    }
   ],
   "source": [
    "ggplot(adult, aes(region) ) + \n",
    "    geom_bar( aes( fill = income), color = 'black' ) +\n",
    "    theme_bw() + \n",
    "    theme(axis.text.x = element_text(angle = 90, hjust = 1))"
   ]
  },
  {
   "cell_type": "markdown",
   "metadata": {},
   "source": [
    "## Building a Model\n",
    "Now it's time to build a model to classify people into two groups: Above 50k and Below 50K.\n",
    "\n",
    "## Logistic Regression\n",
    "\n",
    "Refer to the previous notebook or ISLR if you need help\n",
    "\n",
    "Logistic Regression is a type of classification model. In classification models, we attempt to predict the outcome of categorical dependent values, using one or more independent variables. The independent variable can be either categorical or numerical.\n",
    "\n",
    "Logistic regression is based on the logistic function, which always takes values between 0 and 1. Replacining the dependent variable of the logistic function with a linear combination of dependent variables we intend to use for regression, we arrive at the formula for logistic regression.\n",
    "\n",
    "__Double check the head() of adult to make sure we have a good overview before building the model.__"
   ]
  },
  {
   "cell_type": "code",
   "execution_count": 141,
   "metadata": {},
   "outputs": [
    {
     "data": {
      "text/html": [
       "<table>\n",
       "<caption>A data.frame: 6 × 15</caption>\n",
       "<thead>\n",
       "\t<tr><th></th><th scope=col>age</th><th scope=col>type_employer</th><th scope=col>fnlwgt</th><th scope=col>education</th><th scope=col>education_num</th><th scope=col>marital</th><th scope=col>occupation</th><th scope=col>relationship</th><th scope=col>race</th><th scope=col>sex</th><th scope=col>capital_gain</th><th scope=col>capital_loss</th><th scope=col>hr_per_week</th><th scope=col>region</th><th scope=col>income</th></tr>\n",
       "\t<tr><th></th><th scope=col>&lt;int&gt;</th><th scope=col>&lt;fct&gt;</th><th scope=col>&lt;int&gt;</th><th scope=col>&lt;fct&gt;</th><th scope=col>&lt;int&gt;</th><th scope=col>&lt;fct&gt;</th><th scope=col>&lt;fct&gt;</th><th scope=col>&lt;fct&gt;</th><th scope=col>&lt;fct&gt;</th><th scope=col>&lt;fct&gt;</th><th scope=col>&lt;int&gt;</th><th scope=col>&lt;int&gt;</th><th scope=col>&lt;int&gt;</th><th scope=col>&lt;fct&gt;</th><th scope=col>&lt;fct&gt;</th></tr>\n",
       "</thead>\n",
       "<tbody>\n",
       "\t<tr><th scope=row>1</th><td>39</td><td><span style=white-space:pre-wrap>SL-gov  </span></td><td> 77516</td><td>Bachelors</td><td>13</td><td>Never-married</td><td><span style=white-space:pre-wrap>Adm-clerical     </span></td><td>Not-in-family</td><td>White</td><td><span style=white-space:pre-wrap>Male  </span></td><td>2174</td><td>0</td><td>40</td><td><span style=white-space:pre-wrap>North.America          </span></td><td>&lt;=50K</td></tr>\n",
       "\t<tr><th scope=row>2</th><td>50</td><td>self-emp</td><td> 83311</td><td>Bachelors</td><td>13</td><td><span style=white-space:pre-wrap>Married      </span></td><td><span style=white-space:pre-wrap>Exec-managerial  </span></td><td><span style=white-space:pre-wrap>Husband      </span></td><td>White</td><td><span style=white-space:pre-wrap>Male  </span></td><td><span style=white-space:pre-wrap>   0</span></td><td>0</td><td>13</td><td><span style=white-space:pre-wrap>North.America          </span></td><td>&lt;=50K</td></tr>\n",
       "\t<tr><th scope=row>3</th><td>38</td><td>Private </td><td>215646</td><td><span style=white-space:pre-wrap>HS-grad  </span></td><td> 9</td><td><span style=white-space:pre-wrap>Not-Married  </span></td><td>Handlers-cleaners</td><td>Not-in-family</td><td>White</td><td><span style=white-space:pre-wrap>Male  </span></td><td><span style=white-space:pre-wrap>   0</span></td><td>0</td><td>40</td><td><span style=white-space:pre-wrap>North.America          </span></td><td>&lt;=50K</td></tr>\n",
       "\t<tr><th scope=row>4</th><td>53</td><td>Private </td><td>234721</td><td><span style=white-space:pre-wrap>11th     </span></td><td> 7</td><td><span style=white-space:pre-wrap>Married      </span></td><td>Handlers-cleaners</td><td><span style=white-space:pre-wrap>Husband      </span></td><td>Black</td><td><span style=white-space:pre-wrap>Male  </span></td><td><span style=white-space:pre-wrap>   0</span></td><td>0</td><td>40</td><td><span style=white-space:pre-wrap>North.America          </span></td><td>&lt;=50K</td></tr>\n",
       "\t<tr><th scope=row>5</th><td>28</td><td>Private </td><td>338409</td><td>Bachelors</td><td>13</td><td><span style=white-space:pre-wrap>Married      </span></td><td><span style=white-space:pre-wrap>Prof-specialty   </span></td><td><span style=white-space:pre-wrap>Wife         </span></td><td>Black</td><td>Female</td><td><span style=white-space:pre-wrap>   0</span></td><td>0</td><td>40</td><td>Latin.and.South.America</td><td>&lt;=50K</td></tr>\n",
       "\t<tr><th scope=row>6</th><td>37</td><td>Private </td><td>284582</td><td><span style=white-space:pre-wrap>Masters  </span></td><td>14</td><td><span style=white-space:pre-wrap>Married      </span></td><td><span style=white-space:pre-wrap>Exec-managerial  </span></td><td><span style=white-space:pre-wrap>Wife         </span></td><td>White</td><td>Female</td><td><span style=white-space:pre-wrap>   0</span></td><td>0</td><td>40</td><td><span style=white-space:pre-wrap>North.America          </span></td><td>&lt;=50K</td></tr>\n",
       "</tbody>\n",
       "</table>\n"
      ],
      "text/latex": [
       "A data.frame: 6 × 15\n",
       "\\begin{tabular}{r|lllllllllllllll}\n",
       "  & age & type\\_employer & fnlwgt & education & education\\_num & marital & occupation & relationship & race & sex & capital\\_gain & capital\\_loss & hr\\_per\\_week & region & income\\\\\n",
       "  & <int> & <fct> & <int> & <fct> & <int> & <fct> & <fct> & <fct> & <fct> & <fct> & <int> & <int> & <int> & <fct> & <fct>\\\\\n",
       "\\hline\n",
       "\t1 & 39 & SL-gov   &  77516 & Bachelors & 13 & Never-married & Adm-clerical      & Not-in-family & White & Male   & 2174 & 0 & 40 & North.America           & <=50K\\\\\n",
       "\t2 & 50 & self-emp &  83311 & Bachelors & 13 & Married       & Exec-managerial   & Husband       & White & Male   &    0 & 0 & 13 & North.America           & <=50K\\\\\n",
       "\t3 & 38 & Private  & 215646 & HS-grad   &  9 & Not-Married   & Handlers-cleaners & Not-in-family & White & Male   &    0 & 0 & 40 & North.America           & <=50K\\\\\n",
       "\t4 & 53 & Private  & 234721 & 11th      &  7 & Married       & Handlers-cleaners & Husband       & Black & Male   &    0 & 0 & 40 & North.America           & <=50K\\\\\n",
       "\t5 & 28 & Private  & 338409 & Bachelors & 13 & Married       & Prof-specialty    & Wife          & Black & Female &    0 & 0 & 40 & Latin.and.South.America & <=50K\\\\\n",
       "\t6 & 37 & Private  & 284582 & Masters   & 14 & Married       & Exec-managerial   & Wife          & White & Female &    0 & 0 & 40 & North.America           & <=50K\\\\\n",
       "\\end{tabular}\n"
      ],
      "text/markdown": [
       "\n",
       "A data.frame: 6 × 15\n",
       "\n",
       "| <!--/--> | age &lt;int&gt; | type_employer &lt;fct&gt; | fnlwgt &lt;int&gt; | education &lt;fct&gt; | education_num &lt;int&gt; | marital &lt;fct&gt; | occupation &lt;fct&gt; | relationship &lt;fct&gt; | race &lt;fct&gt; | sex &lt;fct&gt; | capital_gain &lt;int&gt; | capital_loss &lt;int&gt; | hr_per_week &lt;int&gt; | region &lt;fct&gt; | income &lt;fct&gt; |\n",
       "|---|---|---|---|---|---|---|---|---|---|---|---|---|---|---|---|\n",
       "| 1 | 39 | SL-gov   |  77516 | Bachelors | 13 | Never-married | Adm-clerical      | Not-in-family | White | Male   | 2174 | 0 | 40 | North.America           | &lt;=50K |\n",
       "| 2 | 50 | self-emp |  83311 | Bachelors | 13 | Married       | Exec-managerial   | Husband       | White | Male   |    0 | 0 | 13 | North.America           | &lt;=50K |\n",
       "| 3 | 38 | Private  | 215646 | HS-grad   |  9 | Not-Married   | Handlers-cleaners | Not-in-family | White | Male   |    0 | 0 | 40 | North.America           | &lt;=50K |\n",
       "| 4 | 53 | Private  | 234721 | 11th      |  7 | Married       | Handlers-cleaners | Husband       | Black | Male   |    0 | 0 | 40 | North.America           | &lt;=50K |\n",
       "| 5 | 28 | Private  | 338409 | Bachelors | 13 | Married       | Prof-specialty    | Wife          | Black | Female |    0 | 0 | 40 | Latin.and.South.America | &lt;=50K |\n",
       "| 6 | 37 | Private  | 284582 | Masters   | 14 | Married       | Exec-managerial   | Wife          | White | Female |    0 | 0 | 40 | North.America           | &lt;=50K |\n",
       "\n"
      ],
      "text/plain": [
       "  age type_employer fnlwgt education education_num marital      \n",
       "1 39  SL-gov         77516 Bachelors 13            Never-married\n",
       "2 50  self-emp       83311 Bachelors 13            Married      \n",
       "3 38  Private       215646 HS-grad    9            Not-Married  \n",
       "4 53  Private       234721 11th       7            Married      \n",
       "5 28  Private       338409 Bachelors 13            Married      \n",
       "6 37  Private       284582 Masters   14            Married      \n",
       "  occupation        relationship  race  sex    capital_gain capital_loss\n",
       "1 Adm-clerical      Not-in-family White Male   2174         0           \n",
       "2 Exec-managerial   Husband       White Male      0         0           \n",
       "3 Handlers-cleaners Not-in-family White Male      0         0           \n",
       "4 Handlers-cleaners Husband       Black Male      0         0           \n",
       "5 Prof-specialty    Wife          Black Female    0         0           \n",
       "6 Exec-managerial   Wife          White Female    0         0           \n",
       "  hr_per_week region                  income\n",
       "1 40          North.America           <=50K \n",
       "2 13          North.America           <=50K \n",
       "3 40          North.America           <=50K \n",
       "4 40          North.America           <=50K \n",
       "5 40          Latin.and.South.America <=50K \n",
       "6 40          North.America           <=50K "
      ]
     },
     "metadata": {},
     "output_type": "display_data"
    }
   ],
   "source": [
    "head(adult)"
   ]
  },
  {
   "cell_type": "markdown",
   "metadata": {},
   "source": [
    "## Train Test Split\n",
    "__Split the data into a training and test set using caTools as done in previous lectures.__ "
   ]
  },
  {
   "cell_type": "code",
   "execution_count": 142,
   "metadata": {},
   "outputs": [],
   "source": [
    "library(caTools)"
   ]
  },
  {
   "cell_type": "code",
   "execution_count": 143,
   "metadata": {},
   "outputs": [],
   "source": [
    "set.seed(100)\n",
    "\n",
    "sample <- sample.split(adult$income, SplitRatio = 0.70)\n",
    "\n",
    "train = subset(adult, sample == TRUE)\n",
    "test = subset(adult, sample == FALSE)\n"
   ]
  },
  {
   "cell_type": "markdown",
   "metadata": {},
   "source": [
    "__Use all the features to train the glm() model on the training data set, pass the argument family = binomial(logit) into the glm function__"
   ]
  },
  {
   "cell_type": "code",
   "execution_count": 144,
   "metadata": {},
   "outputs": [
    {
     "name": "stderr",
     "output_type": "stream",
     "text": [
      "Warning message:\n",
      "\"glm.fit: fitted probabilities numerically 0 or 1 occurred\""
     ]
    }
   ],
   "source": [
    "model = glm( income ~ . , family = binomial(logit), data = train)"
   ]
  },
  {
   "cell_type": "code",
   "execution_count": 145,
   "metadata": {
    "scrolled": false
   },
   "outputs": [
    {
     "data": {
      "text/plain": [
       "\n",
       "Call:\n",
       "glm(formula = income ~ ., family = binomial(logit), data = train)\n",
       "\n",
       "Deviance Residuals: \n",
       "    Min       1Q   Median       3Q      Max  \n",
       "-5.0615  -0.5154  -0.1965  -0.0006   3.6455  \n",
       "\n",
       "Coefficients: (1 not defined because of singularities)\n",
       "                                Estimate Std. Error z value Pr(>|z|)    \n",
       "(Intercept)                   -7.125e+00  4.243e-01 -16.791  < 2e-16 ***\n",
       "age                            2.640e-02  2.004e-03  13.172  < 2e-16 ***\n",
       "type_employerself-emp         -8.153e-02  8.985e-02  -0.907 0.364158    \n",
       "type_employerPrivate           1.932e-01  7.260e-02   2.661 0.007795 ** \n",
       "type_employerFederal-gov       5.888e-01  1.248e-01   4.716 2.40e-06 ***\n",
       "type_employerUnemployed       -1.268e+01  2.382e+02  -0.053 0.957563    \n",
       "fnlwgt                         7.441e-07  2.065e-07   3.603 0.000315 ***\n",
       "education11th                  1.584e-02  2.584e-01   0.061 0.951109    \n",
       "education12th                  4.324e-01  3.233e-01   1.337 0.181060    \n",
       "education1st-4th              -2.711e-01  5.491e-01  -0.494 0.621466    \n",
       "education5th-6th              -2.598e-01  4.020e-01  -0.646 0.518032    \n",
       "education7th-8th              -5.218e-01  2.866e-01  -1.820 0.068703 .  \n",
       "education9th                  -3.023e-01  3.212e-01  -0.941 0.346727    \n",
       "educationAssoc-acdm            1.397e+00  2.161e-01   6.467 1.00e-10 ***\n",
       "educationAssoc-voc             1.247e+00  2.073e-01   6.014 1.81e-09 ***\n",
       "educationBachelors             1.902e+00  1.927e-01   9.871  < 2e-16 ***\n",
       "educationDoctorate             3.022e+00  2.655e-01  11.380  < 2e-16 ***\n",
       "educationHS-grad               8.123e-01  1.876e-01   4.330 1.49e-05 ***\n",
       "educationMasters               2.247e+00  2.050e-01  10.961  < 2e-16 ***\n",
       "educationPreschool            -1.121e+01  1.304e+02  -0.086 0.931502    \n",
       "educationProf-school           2.684e+00  2.438e-01  11.008  < 2e-16 ***\n",
       "educationSome-college          1.148e+00  1.902e-01   6.034 1.59e-09 ***\n",
       "education_num                         NA         NA      NA       NA    \n",
       "maritalMarried                 1.224e+00  1.966e-01   6.225 4.80e-10 ***\n",
       "maritalNot-Married             4.581e-01  9.977e-02   4.592 4.40e-06 ***\n",
       "occupationExec-managerial      7.935e-01  9.098e-02   8.722  < 2e-16 ***\n",
       "occupationHandlers-cleaners   -6.549e-01  1.657e-01  -3.952 7.74e-05 ***\n",
       "occupationProf-specialty       4.655e-01  9.599e-02   4.850 1.24e-06 ***\n",
       "occupationOther-service       -9.341e-01  1.425e-01  -6.556 5.51e-11 ***\n",
       "occupationSales                2.317e-01  9.731e-02   2.381 0.017258 *  \n",
       "occupationCraft-repair         2.888e-02  9.430e-02   0.306 0.759394    \n",
       "occupationTransport-moving    -1.685e-01  1.172e-01  -1.437 0.150729    \n",
       "occupationFarming-fishing     -1.240e+00  1.696e-01  -7.310 2.67e-13 ***\n",
       "occupationMachine-op-inspct   -3.362e-01  1.201e-01  -2.799 0.005124 ** \n",
       "occupationTech-support         6.814e-01  1.304e-01   5.225 1.74e-07 ***\n",
       "occupationProtective-serv      4.864e-01  1.477e-01   3.293 0.000991 ***\n",
       "occupationArmed-Forces        -9.022e-01  1.636e+00  -0.552 0.581247    \n",
       "occupationPriv-house-serv     -3.545e+00  1.905e+00  -1.861 0.062751 .  \n",
       "relationshipNot-in-family     -9.393e-01  1.932e-01  -4.862 1.16e-06 ***\n",
       "relationshipOther-relative    -1.319e+00  2.818e-01  -4.680 2.88e-06 ***\n",
       "relationshipOwn-child         -1.865e+00  2.380e-01  -7.837 4.61e-15 ***\n",
       "relationshipUnmarried         -9.918e-01  2.160e-01  -4.591 4.41e-06 ***\n",
       "relationshipWife               1.310e+00  1.238e-01  10.583  < 2e-16 ***\n",
       "raceAsian-Pac-Islander         4.315e-01  3.218e-01   1.341 0.179920    \n",
       "raceBlack                      3.623e-01  2.818e-01   1.286 0.198548    \n",
       "raceOther                     -3.918e-02  4.194e-01  -0.093 0.925572    \n",
       "raceWhite                      4.786e-01  2.688e-01   1.780 0.074996 .  \n",
       "sexMale                        8.555e-01  9.422e-02   9.080  < 2e-16 ***\n",
       "capital_gain                   3.154e-04  1.265e-05  24.931  < 2e-16 ***\n",
       "capital_loss                   6.331e-04  4.486e-05  14.112  < 2e-16 ***\n",
       "hr_per_week                    3.085e-02  2.008e-03  15.361  < 2e-16 ***\n",
       "regionLatin.and.South.America -5.566e-01  1.594e-01  -3.491 0.000481 ***\n",
       "regionAsia                    -4.328e-02  2.101e-01  -0.206 0.836799    \n",
       "regionOther                   -5.436e-01  1.614e-01  -3.367 0.000759 ***\n",
       "regionEurope                   4.503e-03  1.623e-01   0.028 0.977863    \n",
       "---\n",
       "Signif. codes:  0 '***' 0.001 '**' 0.01 '*' 0.05 '.' 0.1 ' ' 1\n",
       "\n",
       "(Dispersion parameter for binomial family taken to be 1)\n",
       "\n",
       "    Null deviance: 24138  on 21502  degrees of freedom\n",
       "Residual deviance: 14016  on 21449  degrees of freedom\n",
       "AIC: 14124\n",
       "\n",
       "Number of Fisher Scoring iterations: 13\n"
      ]
     },
     "metadata": {},
     "output_type": "display_data"
    },
    {
     "data": {
      "image/png": "[encoded data removed]",
      "text/plain": [
       "Plot with title \"\""
      ]
     },
     "metadata": {},
     "output_type": "display_data"
    },
    {
     "data": {
      "image/png": "[encoded data removed]",
      "text/plain": [
       "Plot with title \"\""
      ]
     },
     "metadata": {},
     "output_type": "display_data"
    },
    {
     "data": {
      "image/png": "[encoded data removed]",
      "text/plain": [
       "Plot with title \"\""
      ]
     },
     "metadata": {},
     "output_type": "display_data"
    },
    {
     "data": {
      "image/png": "[encoded data removed]",
      "text/plain": [
       "Plot with title \"\""
      ]
     },
     "metadata": {},
     "output_type": "display_data"
    }
   ],
   "source": [
    "summary(model)\n",
    "plot(model)"
   ]
  },
  {
   "cell_type": "markdown",
   "metadata": {},
   "source": [
    "__We have still a lot of features! Some important, some not so much. R comes with an awesome function called step(). The step() function iteratively tries to remove predictor variables from the model in an attempt to delete variables that do not significantly add to the fit. How does it do this? It uses AIC. Read the wikipedia page for AIC if you want to further understand this, you can also check out help(step). This level of statistics is outside the scope of this project assignment so let's keep moving along__\n",
    "\n",
    "__Use new.model <- step(your.model.name) to use the step() function to create a new model__"
   ]
  },
  {
   "cell_type": "code",
   "execution_count": 146,
   "metadata": {},
   "outputs": [
    {
     "name": "stdout",
     "output_type": "stream",
     "text": [
      "Start:  AIC=14123.66\n",
      "income ~ age + type_employer + fnlwgt + education + education_num + \n",
      "    marital + occupation + relationship + race + sex + capital_gain + \n",
      "    capital_loss + hr_per_week + region\n",
      "\n"
     ]
    },
    {
     "name": "stderr",
     "output_type": "stream",
     "text": [
      "Warning message:\n",
      "\"glm.fit: fitted probabilities numerically 0 or 1 occurred\"Warning message:\n",
      "\"glm.fit: fitted probabilities numerically 0 or 1 occurred\"Warning message:\n",
      "\"glm.fit: fitted probabilities numerically 0 or 1 occurred\"Warning message:\n",
      "\"glm.fit: fitted probabilities numerically 0 or 1 occurred\"Warning message:\n",
      "\"glm.fit: fitted probabilities numerically 0 or 1 occurred\"Warning message:\n",
      "\"glm.fit: fitted probabilities numerically 0 or 1 occurred\"Warning message:\n",
      "\"glm.fit: fitted probabilities numerically 0 or 1 occurred\"Warning message:\n",
      "\"glm.fit: fitted probabilities numerically 0 or 1 occurred\"Warning message:\n",
      "\"glm.fit: fitted probabilities numerically 0 or 1 occurred\"Warning message:\n",
      "\"glm.fit: fitted probabilities numerically 0 or 1 occurred\"Warning message:\n",
      "\"glm.fit: fitted probabilities numerically 0 or 1 occurred\"Warning message:\n",
      "\"glm.fit: fitted probabilities numerically 0 or 1 occurred\"Warning message:\n",
      "\"glm.fit: fitted probabilities numerically 0 or 1 occurred\"Warning message:\n",
      "\"glm.fit: fitted probabilities numerically 0 or 1 occurred\""
     ]
    },
    {
     "name": "stdout",
     "output_type": "stream",
     "text": [
      "\n",
      "Step:  AIC=14123.66\n",
      "income ~ age + type_employer + fnlwgt + education + marital + \n",
      "    occupation + relationship + race + sex + capital_gain + capital_loss + \n",
      "    hr_per_week + region\n",
      "\n"
     ]
    },
    {
     "name": "stderr",
     "output_type": "stream",
     "text": [
      "Warning message:\n",
      "\"glm.fit: fitted probabilities numerically 0 or 1 occurred\"Warning message:\n",
      "\"glm.fit: fitted probabilities numerically 0 or 1 occurred\"Warning message:\n",
      "\"glm.fit: fitted probabilities numerically 0 or 1 occurred\"Warning message:\n",
      "\"glm.fit: fitted probabilities numerically 0 or 1 occurred\"Warning message:\n",
      "\"glm.fit: fitted probabilities numerically 0 or 1 occurred\"Warning message:\n",
      "\"glm.fit: fitted probabilities numerically 0 or 1 occurred\"Warning message:\n",
      "\"glm.fit: fitted probabilities numerically 0 or 1 occurred\"Warning message:\n",
      "\"glm.fit: fitted probabilities numerically 0 or 1 occurred\"Warning message:\n",
      "\"glm.fit: fitted probabilities numerically 0 or 1 occurred\"Warning message:\n",
      "\"glm.fit: fitted probabilities numerically 0 or 1 occurred\"Warning message:\n",
      "\"glm.fit: fitted probabilities numerically 0 or 1 occurred\"Warning message:\n",
      "\"glm.fit: fitted probabilities numerically 0 or 1 occurred\""
     ]
    },
    {
     "name": "stdout",
     "output_type": "stream",
     "text": [
      "                Df Deviance   AIC\n",
      "- race           4    14023 14123\n",
      "<none>                14016 14124\n",
      "- fnlwgt         1    14028 14134\n",
      "- region         4    14040 14140\n",
      "- type_employer  4    14060 14160\n",
      "- marital        2    14061 14165\n",
      "- sex            1    14101 14207\n",
      "- age            1    14191 14297\n",
      "- capital_loss   1    14220 14326\n",
      "- relationship   5    14263 14361\n",
      "- hr_per_week    1    14259 14365\n",
      "- occupation    13    14481 14563\n",
      "- education     15    14689 14767\n",
      "- capital_gain   1    15238 15344\n"
     ]
    },
    {
     "name": "stderr",
     "output_type": "stream",
     "text": [
      "Warning message:\n",
      "\"glm.fit: fitted probabilities numerically 0 or 1 occurred\""
     ]
    },
    {
     "name": "stdout",
     "output_type": "stream",
     "text": [
      "\n",
      "Step:  AIC=14123.25\n",
      "income ~ age + type_employer + fnlwgt + education + marital + \n",
      "    occupation + relationship + sex + capital_gain + capital_loss + \n",
      "    hr_per_week + region\n",
      "\n"
     ]
    },
    {
     "name": "stderr",
     "output_type": "stream",
     "text": [
      "Warning message:\n",
      "\"glm.fit: fitted probabilities numerically 0 or 1 occurred\"Warning message:\n",
      "\"glm.fit: fitted probabilities numerically 0 or 1 occurred\"Warning message:\n",
      "\"glm.fit: fitted probabilities numerically 0 or 1 occurred\"Warning message:\n",
      "\"glm.fit: fitted probabilities numerically 0 or 1 occurred\"Warning message:\n",
      "\"glm.fit: fitted probabilities numerically 0 or 1 occurred\"Warning message:\n",
      "\"glm.fit: fitted probabilities numerically 0 or 1 occurred\"Warning message:\n",
      "\"glm.fit: fitted probabilities numerically 0 or 1 occurred\"Warning message:\n",
      "\"glm.fit: fitted probabilities numerically 0 or 1 occurred\"Warning message:\n",
      "\"glm.fit: fitted probabilities numerically 0 or 1 occurred\"Warning message:\n",
      "\"glm.fit: fitted probabilities numerically 0 or 1 occurred\"Warning message:\n",
      "\"glm.fit: fitted probabilities numerically 0 or 1 occurred\""
     ]
    },
    {
     "name": "stdout",
     "output_type": "stream",
     "text": [
      "                Df Deviance   AIC\n",
      "<none>                14023 14123\n",
      "- fnlwgt         1    14036 14134\n",
      "- region         4    14052 14144\n",
      "- type_employer  4    14067 14159\n",
      "- marital        2    14069 14165\n",
      "- sex            1    14110 14208\n",
      "- age            1    14200 14298\n",
      "- capital_loss   1    14228 14326\n",
      "- relationship   5    14272 14362\n",
      "- hr_per_week    1    14267 14365\n",
      "- occupation    13    14494 14568\n",
      "- education     15    14706 14776\n",
      "- capital_gain   1    15243 15341\n"
     ]
    }
   ],
   "source": [
    "new.step.model <- step(model)"
   ]
  },
  {
   "cell_type": "code",
   "execution_count": 147,
   "metadata": {
    "scrolled": false
   },
   "outputs": [
    {
     "data": {
      "text/plain": [
       "\n",
       "Call:\n",
       "glm(formula = income ~ age + type_employer + fnlwgt + education + \n",
       "    marital + occupation + relationship + sex + capital_gain + \n",
       "    capital_loss + hr_per_week + region, family = binomial(logit), \n",
       "    data = train)\n",
       "\n",
       "Deviance Residuals: \n",
       "    Min       1Q   Median       3Q      Max  \n",
       "-5.0555  -0.5154  -0.1978  -0.0007   3.6702  \n",
       "\n",
       "Coefficients:\n",
       "                                Estimate Std. Error z value Pr(>|z|)    \n",
       "(Intercept)                   -6.668e+00  3.312e-01 -20.133  < 2e-16 ***\n",
       "age                            2.655e-02  2.003e-03  13.256  < 2e-16 ***\n",
       "type_employerself-emp         -7.340e-02  8.972e-02  -0.818 0.413317    \n",
       "type_employerPrivate           1.982e-01  7.251e-02   2.734 0.006254 ** \n",
       "type_employerFederal-gov       5.794e-01  1.245e-01   4.653 3.27e-06 ***\n",
       "type_employerUnemployed       -1.266e+01  2.384e+02  -0.053 0.957652    \n",
       "fnlwgt                         7.356e-07  2.043e-07   3.600 0.000318 ***\n",
       "education11th                  1.717e-02  2.585e-01   0.066 0.947052    \n",
       "education12th                  4.264e-01  3.230e-01   1.320 0.186817    \n",
       "education1st-4th              -2.758e-01  5.489e-01  -0.503 0.615312    \n",
       "education5th-6th              -2.794e-01  4.028e-01  -0.694 0.487899    \n",
       "education7th-8th              -5.285e-01  2.866e-01  -1.844 0.065170 .  \n",
       "education9th                  -3.004e-01  3.213e-01  -0.935 0.349738    \n",
       "educationAssoc-acdm            1.402e+00  2.159e-01   6.493 8.39e-11 ***\n",
       "educationAssoc-voc             1.252e+00  2.071e-01   6.046 1.49e-09 ***\n",
       "educationBachelors             1.909e+00  1.925e-01   9.921  < 2e-16 ***\n",
       "educationDoctorate             3.035e+00  2.654e-01  11.437  < 2e-16 ***\n",
       "educationHS-grad               8.153e-01  1.874e-01   4.350 1.36e-05 ***\n",
       "educationMasters               2.257e+00  2.048e-01  11.022  < 2e-16 ***\n",
       "educationPreschool            -1.124e+01  1.302e+02  -0.086 0.931237    \n",
       "educationProf-school           2.695e+00  2.437e-01  11.060  < 2e-16 ***\n",
       "educationSome-college          1.149e+00  1.900e-01   6.047 1.48e-09 ***\n",
       "maritalMarried                 1.217e+00  1.965e-01   6.191 5.98e-10 ***\n",
       "maritalNot-Married             4.594e-01  9.966e-02   4.610 4.03e-06 ***\n",
       "occupationExec-managerial      7.961e-01  9.092e-02   8.757  < 2e-16 ***\n",
       "occupationHandlers-cleaners   -6.615e-01  1.656e-01  -3.995 6.48e-05 ***\n",
       "occupationProf-specialty       4.649e-01  9.583e-02   4.851 1.23e-06 ***\n",
       "occupationOther-service       -9.414e-01  1.423e-01  -6.614 3.75e-11 ***\n",
       "occupationSales                2.333e-01  9.724e-02   2.399 0.016450 *  \n",
       "occupationCraft-repair         3.106e-02  9.424e-02   0.330 0.741715    \n",
       "occupationTransport-moving    -1.726e-01  1.172e-01  -1.473 0.140653    \n",
       "occupationFarming-fishing     -1.238e+00  1.695e-01  -7.307 2.73e-13 ***\n",
       "occupationMachine-op-inspct   -3.407e-01  1.200e-01  -2.838 0.004536 ** \n",
       "occupationTech-support         6.856e-01  1.303e-01   5.261 1.43e-07 ***\n",
       "occupationProtective-serv      4.839e-01  1.476e-01   3.279 0.001043 ** \n",
       "occupationArmed-Forces        -9.285e-01  1.610e+00  -0.577 0.564126    \n",
       "occupationPriv-house-serv     -3.527e+00  1.888e+00  -1.868 0.061742 .  \n",
       "relationshipNot-in-family     -9.507e-01  1.930e-01  -4.925 8.43e-07 ***\n",
       "relationshipOther-relative    -1.337e+00  2.825e-01  -4.732 2.23e-06 ***\n",
       "relationshipOwn-child         -1.877e+00  2.376e-01  -7.900 2.79e-15 ***\n",
       "relationshipUnmarried         -1.013e+00  2.157e-01  -4.696 2.66e-06 ***\n",
       "relationshipWife               1.307e+00  1.237e-01  10.563  < 2e-16 ***\n",
       "sexMale                        8.595e-01  9.422e-02   9.123  < 2e-16 ***\n",
       "capital_gain                   3.146e-04  1.264e-05  24.897  < 2e-16 ***\n",
       "capital_loss                   6.337e-04  4.487e-05  14.122  < 2e-16 ***\n",
       "hr_per_week                    3.087e-02  2.008e-03  15.373  < 2e-16 ***\n",
       "regionLatin.and.South.America -5.879e-01  1.586e-01  -3.707 0.000210 ***\n",
       "regionAsia                    -7.784e-02  1.468e-01  -0.530 0.596016    \n",
       "regionOther                   -5.680e-01  1.541e-01  -3.685 0.000229 ***\n",
       "regionEurope                   1.535e-02  1.623e-01   0.095 0.924643    \n",
       "---\n",
       "Signif. codes:  0 '***' 0.001 '**' 0.01 '*' 0.05 '.' 0.1 ' ' 1\n",
       "\n",
       "(Dispersion parameter for binomial family taken to be 1)\n",
       "\n",
       "    Null deviance: 24138  on 21502  degrees of freedom\n",
       "Residual deviance: 14023  on 21453  degrees of freedom\n",
       "AIC: 14123\n",
       "\n",
       "Number of Fisher Scoring iterations: 13\n"
      ]
     },
     "metadata": {},
     "output_type": "display_data"
    },
    {
     "data": {
      "image/png": "[encoded data removed]",
      "text/plain": [
       "Plot with title \"\""
      ]
     },
     "metadata": {},
     "output_type": "display_data"
    },
    {
     "data": {
      "image/png": "[encoded data removed]",
      "text/plain": [
       "Plot with title \"\""
      ]
     },
     "metadata": {},
     "output_type": "display_data"
    },
    {
     "data": {
      "image/png": "[encoded data removed]",
      "text/plain": [
       "Plot with title \"\""
      ]
     },
     "metadata": {},
     "output_type": "display_data"
    },
    {
     "data": {
      "image/png": "[encoded data removed]",
      "text/plain": [
       "Plot with title \"\""
      ]
     },
     "metadata": {},
     "output_type": "display_data"
    }
   ],
   "source": [
    "summary(new.step.model)\n",
    "plot(new.step.model)"
   ]
  },
  {
   "cell_type": "markdown",
   "metadata": {},
   "source": [
    "__You should have noticed that the step() function kept all the features used previously! While we used the AIC criteria to compare models, there are other criteria we could have used. If you want you can try reading about the variable inflation factor (VIF) and vif() function to explore other options for comparison criteria. In the meantime let's continue on and see how well our model performed against the test set.__\n",
    "\n",
    "__Create a confusion matrix using the predict function with type='response' as an argument inside of that function.__"
   ]
  },
  {
   "cell_type": "code",
   "execution_count": 148,
   "metadata": {},
   "outputs": [
    {
     "name": "stderr",
     "output_type": "stream",
     "text": [
      "Warning message in predict.lm(object, newdata, se.fit, scale = 1, type = if (type == :\n",
      "\"prediction from a rank-deficient fit may be misleading\""
     ]
    },
    {
     "data": {
      "text/plain": [
       "       \n",
       "        FALSE TRUE\n",
       "  <=50K  6416  504\n",
       "  >50K    899 1396"
      ]
     },
     "metadata": {},
     "output_type": "display_data"
    }
   ],
   "source": [
    "test$predicted.income = predict(model, newdata=test, type=\"response\")\n",
    "table(test$income, test$predicted.income > 0.5)"
   ]
  },
  {
   "cell_type": "code",
   "execution_count": 149,
   "metadata": {},
   "outputs": [
    {
     "data": {
      "image/png": "[encoded data removed]",
      "text/plain": [
       "plot without title"
      ]
     },
     "metadata": {},
     "output_type": "display_data"
    }
   ],
   "source": [
    "ggplot( data = test , aes( x = income, y = predicted.income) ) + geom_jitter(alpha = 0.4) + geom_boxplot(aes(color = income, fill = income), alpha = 0.5)"
   ]
  },
  {
   "cell_type": "markdown",
   "metadata": {},
   "source": [
    "__You'll notice we have a rank deficient fit. Find out more about what issues this may cause by reading [this stackexchange post](http://stats.stackexchange.com/questions/35071/what-is-rank-deficiency-and-how-to-deal-with-it).__\n",
    "\n",
    "__What was the accuracy of our model?__"
   ]
  },
  {
   "cell_type": "code",
   "execution_count": 150,
   "metadata": {},
   "outputs": [
    {
     "data": {
      "text/html": [
       "0.847748236570808"
      ],
      "text/latex": [
       "0.847748236570808"
      ],
      "text/markdown": [
       "0.847748236570808"
      ],
      "text/plain": [
       "[1] 0.8477482"
      ]
     },
     "metadata": {},
     "output_type": "display_data"
    }
   ],
   "source": [
    "( 6416 + 1396 ) / (6416 + 504 + 899 + 1396)"
   ]
  },
  {
   "cell_type": "markdown",
   "metadata": {},
   "source": [
    "__Calculate other measures of performance like, recall or precision.___\n",
    "\n"
   ]
  },
  {
   "cell_type": "code",
   "execution_count": 151,
   "metadata": {},
   "outputs": [
    {
     "data": {
      "text/html": [
       "0.877101845522898"
      ],
      "text/latex": [
       "0.877101845522898"
      ],
      "text/markdown": [
       "0.877101845522898"
      ],
      "text/plain": [
       "[1] 0.8771018"
      ]
     },
     "metadata": {},
     "output_type": "display_data"
    }
   ],
   "source": [
    "# Recall \n",
    "6416 / (6416 + 899)"
   ]
  },
  {
   "cell_type": "code",
   "execution_count": 152,
   "metadata": {},
   "outputs": [
    {
     "data": {
      "text/html": [
       "0.927167630057803"
      ],
      "text/latex": [
       "0.927167630057803"
      ],
      "text/markdown": [
       "0.927167630057803"
      ],
      "text/plain": [
       "[1] 0.9271676"
      ]
     },
     "metadata": {},
     "output_type": "display_data"
    }
   ],
   "source": [
    "# Precision\n",
    "6416 / (6416 + 504)"
   ]
  },
  {
   "cell_type": "code",
   "execution_count": null,
   "metadata": {},
   "outputs": [],
   "source": []
  }
 ],
 "metadata": {
  "kernelspec": {
   "display_name": "R",
   "language": "R",
   "name": "ir"
  },
  "language_info": {
   "codemirror_mode": "r",
   "file_extension": ".r",
   "mimetype": "text/x-r-source",
   "name": "R",
   "pygments_lexer": "r",
   "version": "3.6.1"
  }
 },
 "nbformat": 4,
 "nbformat_minor": 4
}
