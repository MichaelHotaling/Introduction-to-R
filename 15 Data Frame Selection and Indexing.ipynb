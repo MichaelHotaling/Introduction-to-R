{
 "cells": [
  {
   "cell_type": "code",
   "execution_count": 1,
   "metadata": {},
   "outputs": [
    {
     "data": {
      "text/html": [
       "<table>\n",
       "<caption>A data.frame: 7 × 3</caption>\n",
       "<thead>\n",
       "\t<tr><th scope=col>days</th><th scope=col>temp</th><th scope=col>rain</th></tr>\n",
       "\t<tr><th scope=col>&lt;fct&gt;</th><th scope=col>&lt;dbl&gt;</th><th scope=col>&lt;lgl&gt;</th></tr>\n",
       "</thead>\n",
       "<tbody>\n",
       "\t<tr><td>Mon </td><td>78</td><td> TRUE</td></tr>\n",
       "\t<tr><td>Tues</td><td>79</td><td>FALSE</td></tr>\n",
       "\t<tr><td>Wed </td><td>65</td><td>FALSE</td></tr>\n",
       "\t<tr><td>Thur</td><td>68</td><td>FALSE</td></tr>\n",
       "\t<tr><td>Fri </td><td>65</td><td> TRUE</td></tr>\n",
       "\t<tr><td>Sat </td><td>70</td><td>FALSE</td></tr>\n",
       "\t<tr><td>Sun </td><td>71</td><td> TRUE</td></tr>\n",
       "</tbody>\n",
       "</table>\n"
      ],
      "text/latex": [
       "A data.frame: 7 × 3\n",
       "\\begin{tabular}{lll}\n",
       " days & temp & rain\\\\\n",
       " <fct> & <dbl> & <lgl>\\\\\n",
       "\\hline\n",
       "\t Mon  & 78 &  TRUE\\\\\n",
       "\t Tues & 79 & FALSE\\\\\n",
       "\t Wed  & 65 & FALSE\\\\\n",
       "\t Thur & 68 & FALSE\\\\\n",
       "\t Fri  & 65 &  TRUE\\\\\n",
       "\t Sat  & 70 & FALSE\\\\\n",
       "\t Sun  & 71 &  TRUE\\\\\n",
       "\\end{tabular}\n"
      ],
      "text/markdown": [
       "\n",
       "A data.frame: 7 × 3\n",
       "\n",
       "| days &lt;fct&gt; | temp &lt;dbl&gt; | rain &lt;lgl&gt; |\n",
       "|---|---|---|\n",
       "| Mon  | 78 |  TRUE |\n",
       "| Tues | 79 | FALSE |\n",
       "| Wed  | 65 | FALSE |\n",
       "| Thur | 68 | FALSE |\n",
       "| Fri  | 65 |  TRUE |\n",
       "| Sat  | 70 | FALSE |\n",
       "| Sun  | 71 |  TRUE |\n",
       "\n"
      ],
      "text/plain": [
       "  days temp rain \n",
       "1 Mon  78    TRUE\n",
       "2 Tues 79   FALSE\n",
       "3 Wed  65   FALSE\n",
       "4 Thur 68   FALSE\n",
       "5 Fri  65    TRUE\n",
       "6 Sat  70   FALSE\n",
       "7 Sun  71    TRUE"
      ]
     },
     "metadata": {},
     "output_type": "display_data"
    }
   ],
   "source": [
    "#### lets make a dataframe!\n",
    "days <- c('Mon','Tues','Wed','Thur','Fri','Sat','Sun')\n",
    "temp <- c(78,79,65,68,65,70,71)\n",
    "rain <- c(TRUE,FALSE,FALSE,FALSE,TRUE,FALSE,TRUE)\n",
    "weather <- data.frame(days,temp,rain)\n",
    "weather"
   ]
  },
  {
   "cell_type": "code",
   "execution_count": 9,
   "metadata": {},
   "outputs": [
    {
     "data": {
      "text/html": [
       "<table>\n",
       "<caption>A data.frame: 1 × 3</caption>\n",
       "<thead>\n",
       "\t<tr><th></th><th scope=col>days</th><th scope=col>temp</th><th scope=col>rain</th></tr>\n",
       "\t<tr><th></th><th scope=col>&lt;fct&gt;</th><th scope=col>&lt;dbl&gt;</th><th scope=col>&lt;lgl&gt;</th></tr>\n",
       "</thead>\n",
       "<tbody>\n",
       "\t<tr><th scope=row>1</th><td>Mon</td><td>78</td><td>TRUE</td></tr>\n",
       "</tbody>\n",
       "</table>\n"
      ],
      "text/latex": [
       "A data.frame: 1 × 3\n",
       "\\begin{tabular}{r|lll}\n",
       "  & days & temp & rain\\\\\n",
       "  & <fct> & <dbl> & <lgl>\\\\\n",
       "\\hline\n",
       "\t1 & Mon & 78 & TRUE\\\\\n",
       "\\end{tabular}\n"
      ],
      "text/markdown": [
       "\n",
       "A data.frame: 1 × 3\n",
       "\n",
       "| <!--/--> | days &lt;fct&gt; | temp &lt;dbl&gt; | rain &lt;lgl&gt; |\n",
       "|---|---|---|---|\n",
       "| 1 | Mon | 78 | TRUE |\n",
       "\n"
      ],
      "text/plain": [
       "  days temp rain\n",
       "1 Mon  78   TRUE"
      ]
     },
     "metadata": {},
     "output_type": "display_data"
    },
    {
     "data": {
      "text/html": [
       "<style>\n",
       ".list-inline {list-style: none; margin:0; padding: 0}\n",
       ".list-inline>li {display: inline-block}\n",
       ".list-inline>li:not(:last-child)::after {content: \"\\00b7\"; padding: 0 .5ex}\n",
       "</style>\n",
       "<ol class=list-inline><li>TRUE</li><li>FALSE</li><li>FALSE</li><li>FALSE</li><li>TRUE</li><li>FALSE</li><li>TRUE</li></ol>\n"
      ],
      "text/latex": [
       "\\begin{enumerate*}\n",
       "\\item TRUE\n",
       "\\item FALSE\n",
       "\\item FALSE\n",
       "\\item FALSE\n",
       "\\item TRUE\n",
       "\\item FALSE\n",
       "\\item TRUE\n",
       "\\end{enumerate*}\n"
      ],
      "text/markdown": [
       "1. TRUE\n",
       "2. FALSE\n",
       "3. FALSE\n",
       "4. FALSE\n",
       "5. TRUE\n",
       "6. FALSE\n",
       "7. TRUE\n",
       "\n",
       "\n"
      ],
      "text/plain": [
       "[1]  TRUE FALSE FALSE FALSE  TRUE FALSE  TRUE"
      ]
     },
     "metadata": {},
     "output_type": "display_data"
    }
   ],
   "source": [
    "weather[1,] #we can pull the first row the same as we would pull the row from a matrix\n",
    "weather[,'rain'] # in data frames, we can pull elements that have non-numeric values"
   ]
  },
  {
   "cell_type": "code",
   "execution_count": 11,
   "metadata": {},
   "outputs": [
    {
     "data": {
      "text/html": [
       "<table>\n",
       "<caption>A data.frame: 5 × 2</caption>\n",
       "<thead>\n",
       "\t<tr><th></th><th scope=col>days</th><th scope=col>temp</th></tr>\n",
       "\t<tr><th></th><th scope=col>&lt;fct&gt;</th><th scope=col>&lt;dbl&gt;</th></tr>\n",
       "</thead>\n",
       "<tbody>\n",
       "\t<tr><th scope=row>1</th><td>Mon </td><td>78</td></tr>\n",
       "\t<tr><th scope=row>2</th><td>Tues</td><td>79</td></tr>\n",
       "\t<tr><th scope=row>3</th><td>Wed </td><td>65</td></tr>\n",
       "\t<tr><th scope=row>4</th><td>Thur</td><td>68</td></tr>\n",
       "\t<tr><th scope=row>5</th><td>Fri </td><td>65</td></tr>\n",
       "</tbody>\n",
       "</table>\n"
      ],
      "text/latex": [
       "A data.frame: 5 × 2\n",
       "\\begin{tabular}{r|ll}\n",
       "  & days & temp\\\\\n",
       "  & <fct> & <dbl>\\\\\n",
       "\\hline\n",
       "\t1 & Mon  & 78\\\\\n",
       "\t2 & Tues & 79\\\\\n",
       "\t3 & Wed  & 65\\\\\n",
       "\t4 & Thur & 68\\\\\n",
       "\t5 & Fri  & 65\\\\\n",
       "\\end{tabular}\n"
      ],
      "text/markdown": [
       "\n",
       "A data.frame: 5 × 2\n",
       "\n",
       "| <!--/--> | days &lt;fct&gt; | temp &lt;dbl&gt; |\n",
       "|---|---|---|\n",
       "| 1 | Mon  | 78 |\n",
       "| 2 | Tues | 79 |\n",
       "| 3 | Wed  | 65 |\n",
       "| 4 | Thur | 68 |\n",
       "| 5 | Fri  | 65 |\n",
       "\n"
      ],
      "text/plain": [
       "  days temp\n",
       "1 Mon  78  \n",
       "2 Tues 79  \n",
       "3 Wed  65  \n",
       "4 Thur 68  \n",
       "5 Fri  65  "
      ]
     },
     "metadata": {},
     "output_type": "display_data"
    }
   ],
   "source": [
    "weather[1:5,c('days','temp')] #we can pull data using a vector. Now we can get only days and temps. "
   ]
  },
  {
   "cell_type": "code",
   "execution_count": 14,
   "metadata": {
    "scrolled": true
   },
   "outputs": [
    {
     "data": {
      "text/html": [
       "<style>\n",
       ".list-inline {list-style: none; margin:0; padding: 0}\n",
       ".list-inline>li {display: inline-block}\n",
       ".list-inline>li:not(:last-child)::after {content: \"\\00b7\"; padding: 0 .5ex}\n",
       "</style>\n",
       "<ol class=list-inline><li>Mon</li><li>Tues</li><li>Wed</li><li>Thur</li><li>Fri</li><li>Sat</li><li>Sun</li></ol>\n",
       "\n",
       "<details>\n",
       "\t<summary style=display:list-item;cursor:pointer>\n",
       "\t\t<strong>Levels</strong>:\n",
       "\t</summary>\n",
       "\t<style>\n",
       "\t.list-inline {list-style: none; margin:0; padding: 0}\n",
       "\t.list-inline>li {display: inline-block}\n",
       "\t.list-inline>li:not(:last-child)::after {content: \"\\00b7\"; padding: 0 .5ex}\n",
       "\t</style>\n",
       "\t<ol class=list-inline><li>'Fri'</li><li>'Mon'</li><li>'Sat'</li><li>'Sun'</li><li>'Thur'</li><li>'Tues'</li><li>'Wed'</li></ol>\n",
       "</details>"
      ],
      "text/latex": [
       "\\begin{enumerate*}\n",
       "\\item Mon\n",
       "\\item Tues\n",
       "\\item Wed\n",
       "\\item Thur\n",
       "\\item Fri\n",
       "\\item Sat\n",
       "\\item Sun\n",
       "\\end{enumerate*}\n",
       "\n",
       "\\emph{Levels}: \\begin{enumerate*}\n",
       "\\item 'Fri'\n",
       "\\item 'Mon'\n",
       "\\item 'Sat'\n",
       "\\item 'Sun'\n",
       "\\item 'Thur'\n",
       "\\item 'Tues'\n",
       "\\item 'Wed'\n",
       "\\end{enumerate*}\n"
      ],
      "text/markdown": [
       "1. Mon\n",
       "2. Tues\n",
       "3. Wed\n",
       "4. Thur\n",
       "5. Fri\n",
       "6. Sat\n",
       "7. Sun\n",
       "\n",
       "\n",
       "\n",
       "**Levels**: 1. 'Fri'\n",
       "2. 'Mon'\n",
       "3. 'Sat'\n",
       "4. 'Sun'\n",
       "5. 'Thur'\n",
       "6. 'Tues'\n",
       "7. 'Wed'\n",
       "\n",
       "\n"
      ],
      "text/plain": [
       "[1] Mon  Tues Wed  Thur Fri  Sat  Sun \n",
       "Levels: Fri Mon Sat Sun Thur Tues Wed"
      ]
     },
     "metadata": {},
     "output_type": "display_data"
    },
    {
     "data": {
      "text/html": [
       "<style>\n",
       ".list-inline {list-style: none; margin:0; padding: 0}\n",
       ".list-inline>li {display: inline-block}\n",
       ".list-inline>li:not(:last-child)::after {content: \"\\00b7\"; padding: 0 .5ex}\n",
       "</style>\n",
       "<ol class=list-inline><li>78</li><li>79</li><li>65</li><li>68</li><li>65</li><li>70</li><li>71</li></ol>\n"
      ],
      "text/latex": [
       "\\begin{enumerate*}\n",
       "\\item 78\n",
       "\\item 79\n",
       "\\item 65\n",
       "\\item 68\n",
       "\\item 65\n",
       "\\item 70\n",
       "\\item 71\n",
       "\\end{enumerate*}\n"
      ],
      "text/markdown": [
       "1. 78\n",
       "2. 79\n",
       "3. 65\n",
       "4. 68\n",
       "5. 65\n",
       "6. 70\n",
       "7. 71\n",
       "\n",
       "\n"
      ],
      "text/plain": [
       "[1] 78 79 65 68 65 70 71"
      ]
     },
     "metadata": {},
     "output_type": "display_data"
    },
    {
     "data": {
      "text/html": [
       "<style>\n",
       ".list-inline {list-style: none; margin:0; padding: 0}\n",
       ".list-inline>li {display: inline-block}\n",
       ".list-inline>li:not(:last-child)::after {content: \"\\00b7\"; padding: 0 .5ex}\n",
       "</style>\n",
       "<ol class=list-inline><li>TRUE</li><li>FALSE</li><li>FALSE</li><li>FALSE</li><li>TRUE</li><li>FALSE</li><li>TRUE</li></ol>\n"
      ],
      "text/latex": [
       "\\begin{enumerate*}\n",
       "\\item TRUE\n",
       "\\item FALSE\n",
       "\\item FALSE\n",
       "\\item FALSE\n",
       "\\item TRUE\n",
       "\\item FALSE\n",
       "\\item TRUE\n",
       "\\end{enumerate*}\n"
      ],
      "text/markdown": [
       "1. TRUE\n",
       "2. FALSE\n",
       "3. FALSE\n",
       "4. FALSE\n",
       "5. TRUE\n",
       "6. FALSE\n",
       "7. TRUE\n",
       "\n",
       "\n"
      ],
      "text/plain": [
       "[1]  TRUE FALSE FALSE FALSE  TRUE FALSE  TRUE"
      ]
     },
     "metadata": {},
     "output_type": "display_data"
    }
   ],
   "source": [
    "weather$days #we can pull the entire column by using the $ \n",
    "weather$temp\n",
    "weather$rain"
   ]
  },
  {
   "cell_type": "code",
   "execution_count": 17,
   "metadata": {},
   "outputs": [
    {
     "data": {
      "text/html": [
       "<table>\n",
       "<caption>A data.frame: 3 × 3</caption>\n",
       "<thead>\n",
       "\t<tr><th></th><th scope=col>days</th><th scope=col>temp</th><th scope=col>rain</th></tr>\n",
       "\t<tr><th></th><th scope=col>&lt;fct&gt;</th><th scope=col>&lt;dbl&gt;</th><th scope=col>&lt;lgl&gt;</th></tr>\n",
       "</thead>\n",
       "<tbody>\n",
       "\t<tr><th scope=row>1</th><td>Mon</td><td>78</td><td>TRUE</td></tr>\n",
       "\t<tr><th scope=row>5</th><td>Fri</td><td>65</td><td>TRUE</td></tr>\n",
       "\t<tr><th scope=row>7</th><td>Sun</td><td>71</td><td>TRUE</td></tr>\n",
       "</tbody>\n",
       "</table>\n"
      ],
      "text/latex": [
       "A data.frame: 3 × 3\n",
       "\\begin{tabular}{r|lll}\n",
       "  & days & temp & rain\\\\\n",
       "  & <fct> & <dbl> & <lgl>\\\\\n",
       "\\hline\n",
       "\t1 & Mon & 78 & TRUE\\\\\n",
       "\t5 & Fri & 65 & TRUE\\\\\n",
       "\t7 & Sun & 71 & TRUE\\\\\n",
       "\\end{tabular}\n"
      ],
      "text/markdown": [
       "\n",
       "A data.frame: 3 × 3\n",
       "\n",
       "| <!--/--> | days &lt;fct&gt; | temp &lt;dbl&gt; | rain &lt;lgl&gt; |\n",
       "|---|---|---|---|\n",
       "| 1 | Mon | 78 | TRUE |\n",
       "| 5 | Fri | 65 | TRUE |\n",
       "| 7 | Sun | 71 | TRUE |\n",
       "\n"
      ],
      "text/plain": [
       "  days temp rain\n",
       "1 Mon  78   TRUE\n",
       "5 Fri  65   TRUE\n",
       "7 Sun  71   TRUE"
      ]
     },
     "metadata": {},
     "output_type": "display_data"
    }
   ],
   "source": [
    "#### let's only grab days where it rained. We can use the subset() condition to do that\n",
    "subset(weather,subset = rain == TRUE)"
   ]
  },
  {
   "cell_type": "code",
   "execution_count": 18,
   "metadata": {},
   "outputs": [
    {
     "data": {
      "text/html": [
       "<table>\n",
       "<caption>A data.frame: 3 × 3</caption>\n",
       "<thead>\n",
       "\t<tr><th></th><th scope=col>days</th><th scope=col>temp</th><th scope=col>rain</th></tr>\n",
       "\t<tr><th></th><th scope=col>&lt;fct&gt;</th><th scope=col>&lt;dbl&gt;</th><th scope=col>&lt;lgl&gt;</th></tr>\n",
       "</thead>\n",
       "<tbody>\n",
       "\t<tr><th scope=row>1</th><td>Mon </td><td>78</td><td> TRUE</td></tr>\n",
       "\t<tr><th scope=row>2</th><td>Tues</td><td>79</td><td>FALSE</td></tr>\n",
       "\t<tr><th scope=row>7</th><td>Sun </td><td>71</td><td> TRUE</td></tr>\n",
       "</tbody>\n",
       "</table>\n"
      ],
      "text/latex": [
       "A data.frame: 3 × 3\n",
       "\\begin{tabular}{r|lll}\n",
       "  & days & temp & rain\\\\\n",
       "  & <fct> & <dbl> & <lgl>\\\\\n",
       "\\hline\n",
       "\t1 & Mon  & 78 &  TRUE\\\\\n",
       "\t2 & Tues & 79 & FALSE\\\\\n",
       "\t7 & Sun  & 71 &  TRUE\\\\\n",
       "\\end{tabular}\n"
      ],
      "text/markdown": [
       "\n",
       "A data.frame: 3 × 3\n",
       "\n",
       "| <!--/--> | days &lt;fct&gt; | temp &lt;dbl&gt; | rain &lt;lgl&gt; |\n",
       "|---|---|---|---|\n",
       "| 1 | Mon  | 78 |  TRUE |\n",
       "| 2 | Tues | 79 | FALSE |\n",
       "| 7 | Sun  | 71 |  TRUE |\n",
       "\n"
      ],
      "text/plain": [
       "  days temp rain \n",
       "1 Mon  78    TRUE\n",
       "2 Tues 79   FALSE\n",
       "7 Sun  71    TRUE"
      ]
     },
     "metadata": {},
     "output_type": "display_data"
    }
   ],
   "source": [
    "#### let's only grab days when it was above 70 degrees\n",
    "subset(weather,subset = temp > 70)"
   ]
  },
  {
   "cell_type": "code",
   "execution_count": 21,
   "metadata": {},
   "outputs": [
    {
     "data": {
      "text/html": [
       "<style>\n",
       ".list-inline {list-style: none; margin:0; padding: 0}\n",
       ".list-inline>li {display: inline-block}\n",
       ".list-inline>li:not(:last-child)::after {content: \"\\00b7\"; padding: 0 .5ex}\n",
       "</style>\n",
       "<ol class=list-inline><li>3</li><li>5</li><li>4</li><li>6</li><li>7</li><li>1</li><li>2</li></ol>\n"
      ],
      "text/latex": [
       "\\begin{enumerate*}\n",
       "\\item 3\n",
       "\\item 5\n",
       "\\item 4\n",
       "\\item 6\n",
       "\\item 7\n",
       "\\item 1\n",
       "\\item 2\n",
       "\\end{enumerate*}\n"
      ],
      "text/markdown": [
       "1. 3\n",
       "2. 5\n",
       "3. 4\n",
       "4. 6\n",
       "5. 7\n",
       "6. 1\n",
       "7. 2\n",
       "\n",
       "\n"
      ],
      "text/plain": [
       "[1] 3 5 4 6 7 1 2"
      ]
     },
     "metadata": {},
     "output_type": "display_data"
    }
   ],
   "source": [
    "#### we can sort our data frame by using the order() function\n",
    "sorted.by.temp <- order(weather['temp'])\n",
    "sorted.by.temp #this will diplay the order of the values by their index values"
   ]
  },
  {
   "cell_type": "code",
   "execution_count": 24,
   "metadata": {},
   "outputs": [
    {
     "data": {
      "text/html": [
       "<table>\n",
       "<caption>A data.frame: 7 × 3</caption>\n",
       "<thead>\n",
       "\t<tr><th></th><th scope=col>days</th><th scope=col>temp</th><th scope=col>rain</th></tr>\n",
       "\t<tr><th></th><th scope=col>&lt;fct&gt;</th><th scope=col>&lt;dbl&gt;</th><th scope=col>&lt;lgl&gt;</th></tr>\n",
       "</thead>\n",
       "<tbody>\n",
       "\t<tr><th scope=row>3</th><td>Wed </td><td>65</td><td>FALSE</td></tr>\n",
       "\t<tr><th scope=row>5</th><td>Fri </td><td>65</td><td> TRUE</td></tr>\n",
       "\t<tr><th scope=row>4</th><td>Thur</td><td>68</td><td>FALSE</td></tr>\n",
       "\t<tr><th scope=row>6</th><td>Sat </td><td>70</td><td>FALSE</td></tr>\n",
       "\t<tr><th scope=row>7</th><td>Sun </td><td>71</td><td> TRUE</td></tr>\n",
       "\t<tr><th scope=row>1</th><td>Mon </td><td>78</td><td> TRUE</td></tr>\n",
       "\t<tr><th scope=row>2</th><td>Tues</td><td>79</td><td>FALSE</td></tr>\n",
       "</tbody>\n",
       "</table>\n"
      ],
      "text/latex": [
       "A data.frame: 7 × 3\n",
       "\\begin{tabular}{r|lll}\n",
       "  & days & temp & rain\\\\\n",
       "  & <fct> & <dbl> & <lgl>\\\\\n",
       "\\hline\n",
       "\t3 & Wed  & 65 & FALSE\\\\\n",
       "\t5 & Fri  & 65 &  TRUE\\\\\n",
       "\t4 & Thur & 68 & FALSE\\\\\n",
       "\t6 & Sat  & 70 & FALSE\\\\\n",
       "\t7 & Sun  & 71 &  TRUE\\\\\n",
       "\t1 & Mon  & 78 &  TRUE\\\\\n",
       "\t2 & Tues & 79 & FALSE\\\\\n",
       "\\end{tabular}\n"
      ],
      "text/markdown": [
       "\n",
       "A data.frame: 7 × 3\n",
       "\n",
       "| <!--/--> | days &lt;fct&gt; | temp &lt;dbl&gt; | rain &lt;lgl&gt; |\n",
       "|---|---|---|---|\n",
       "| 3 | Wed  | 65 | FALSE |\n",
       "| 5 | Fri  | 65 |  TRUE |\n",
       "| 4 | Thur | 68 | FALSE |\n",
       "| 6 | Sat  | 70 | FALSE |\n",
       "| 7 | Sun  | 71 |  TRUE |\n",
       "| 1 | Mon  | 78 |  TRUE |\n",
       "| 2 | Tues | 79 | FALSE |\n",
       "\n"
      ],
      "text/plain": [
       "  days temp rain \n",
       "3 Wed  65   FALSE\n",
       "5 Fri  65    TRUE\n",
       "4 Thur 68   FALSE\n",
       "6 Sat  70   FALSE\n",
       "7 Sun  71    TRUE\n",
       "1 Mon  78    TRUE\n",
       "2 Tues 79   FALSE"
      ]
     },
     "metadata": {},
     "output_type": "display_data"
    }
   ],
   "source": [
    "#### Now we can use this vector to sort our data frame by passing it through the data frame\n",
    "weather[sorted.by.temp,]"
   ]
  },
  {
   "cell_type": "code",
   "execution_count": null,
   "metadata": {},
   "outputs": [],
   "source": []
  }
 ],
 "metadata": {
  "kernelspec": {
   "display_name": "R",
   "language": "R",
   "name": "ir"
  },
  "language_info": {
   "codemirror_mode": "r",
   "file_extension": ".r",
   "mimetype": "text/x-r-source",
   "name": "R",
   "pygments_lexer": "r",
   "version": "3.6.1"
  }
 },
 "nbformat": 4,
 "nbformat_minor": 4
}
