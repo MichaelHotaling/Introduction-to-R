{
 "cells": [
  {
   "cell_type": "markdown",
   "metadata": {},
   "source": [
    "# Data Frame Selection and Indexing\n",
    "\n",
    "We've seen how to call build-in data frames and how to create the using the data.frame() function along with vectors. Let's revisit our weather data frame and learn to select elements from within the data frame usng the bracket notation."
   ]
  },
  {
   "cell_type": "code",
   "execution_count": 1,
   "metadata": {},
   "outputs": [
    {
     "data": {
      "text/html": [
       "<table>\n",
       "<caption>A data.frame: 7 × 3</caption>\n",
       "<thead>\n",
       "\t<tr><th scope=col>days</th><th scope=col>temp</th><th scope=col>rain</th></tr>\n",
       "\t<tr><th scope=col>&lt;fct&gt;</th><th scope=col>&lt;dbl&gt;</th><th scope=col>&lt;lgl&gt;</th></tr>\n",
       "</thead>\n",
       "<tbody>\n",
       "\t<tr><td>Mon </td><td>78</td><td> TRUE</td></tr>\n",
       "\t<tr><td>Tues</td><td>79</td><td>FALSE</td></tr>\n",
       "\t<tr><td>Wed </td><td>65</td><td>FALSE</td></tr>\n",
       "\t<tr><td>Thur</td><td>68</td><td>FALSE</td></tr>\n",
       "\t<tr><td>Fri </td><td>65</td><td> TRUE</td></tr>\n",
       "\t<tr><td>Sat </td><td>70</td><td>FALSE</td></tr>\n",
       "\t<tr><td>Sun </td><td>71</td><td> TRUE</td></tr>\n",
       "</tbody>\n",
       "</table>\n"
      ],
      "text/latex": [
       "A data.frame: 7 × 3\n",
       "\\begin{tabular}{lll}\n",
       " days & temp & rain\\\\\n",
       " <fct> & <dbl> & <lgl>\\\\\n",
       "\\hline\n",
       "\t Mon  & 78 &  TRUE\\\\\n",
       "\t Tues & 79 & FALSE\\\\\n",
       "\t Wed  & 65 & FALSE\\\\\n",
       "\t Thur & 68 & FALSE\\\\\n",
       "\t Fri  & 65 &  TRUE\\\\\n",
       "\t Sat  & 70 & FALSE\\\\\n",
       "\t Sun  & 71 &  TRUE\\\\\n",
       "\\end{tabular}\n"
      ],
      "text/markdown": [
       "\n",
       "A data.frame: 7 × 3\n",
       "\n",
       "| days &lt;fct&gt; | temp &lt;dbl&gt; | rain &lt;lgl&gt; |\n",
       "|---|---|---|\n",
       "| Mon  | 78 |  TRUE |\n",
       "| Tues | 79 | FALSE |\n",
       "| Wed  | 65 | FALSE |\n",
       "| Thur | 68 | FALSE |\n",
       "| Fri  | 65 |  TRUE |\n",
       "| Sat  | 70 | FALSE |\n",
       "| Sun  | 71 |  TRUE |\n",
       "\n"
      ],
      "text/plain": [
       "  days temp rain \n",
       "1 Mon  78    TRUE\n",
       "2 Tues 79   FALSE\n",
       "3 Wed  65   FALSE\n",
       "4 Thur 68   FALSE\n",
       "5 Fri  65    TRUE\n",
       "6 Sat  70   FALSE\n",
       "7 Sun  71    TRUE"
      ]
     },
     "metadata": {},
     "output_type": "display_data"
    }
   ],
   "source": [
    "# lets make a dataframe!\n",
    "days <- c('Mon','Tues','Wed','Thur','Fri','Sat','Sun')\n",
    "temp <- c(78,79,65,68,65,70,71)\n",
    "rain <- c(TRUE,FALSE,FALSE,FALSE,TRUE,FALSE,TRUE)\n",
    "weather <- data.frame(days,temp,rain)\n",
    "weather"
   ]
  },
  {
   "cell_type": "markdown",
   "metadata": {},
   "source": [
    "We can use the bracket notation we used for matrices:\n",
    "\n",
    "dataframe[rows,columns]"
   ]
  },
  {
   "cell_type": "code",
   "execution_count": 4,
   "metadata": {},
   "outputs": [
    {
     "data": {
      "text/html": [
       "<table>\n",
       "<caption>A data.frame: 1 × 3</caption>\n",
       "<thead>\n",
       "\t<tr><th></th><th scope=col>days</th><th scope=col>temp</th><th scope=col>rain</th></tr>\n",
       "\t<tr><th></th><th scope=col>&lt;fct&gt;</th><th scope=col>&lt;dbl&gt;</th><th scope=col>&lt;lgl&gt;</th></tr>\n",
       "</thead>\n",
       "<tbody>\n",
       "\t<tr><th scope=row>1</th><td>Mon</td><td>78</td><td>TRUE</td></tr>\n",
       "</tbody>\n",
       "</table>\n"
      ],
      "text/latex": [
       "A data.frame: 1 × 3\n",
       "\\begin{tabular}{r|lll}\n",
       "  & days & temp & rain\\\\\n",
       "  & <fct> & <dbl> & <lgl>\\\\\n",
       "\\hline\n",
       "\t1 & Mon & 78 & TRUE\\\\\n",
       "\\end{tabular}\n"
      ],
      "text/markdown": [
       "\n",
       "A data.frame: 1 × 3\n",
       "\n",
       "| <!--/--> | days &lt;fct&gt; | temp &lt;dbl&gt; | rain &lt;lgl&gt; |\n",
       "|---|---|---|---|\n",
       "| 1 | Mon | 78 | TRUE |\n",
       "\n"
      ],
      "text/plain": [
       "  days temp rain\n",
       "1 Mon  78   TRUE"
      ]
     },
     "metadata": {},
     "output_type": "display_data"
    }
   ],
   "source": [
    "# We can pull the first row the same as we would pull the row from a matrix\n",
    "weather[1,] "
   ]
  },
  {
   "cell_type": "code",
   "execution_count": 11,
   "metadata": {},
   "outputs": [
    {
     "data": {
      "text/html": [
       "<style>\n",
       ".list-inline {list-style: none; margin:0; padding: 0}\n",
       ".list-inline>li {display: inline-block}\n",
       ".list-inline>li:not(:last-child)::after {content: \"\\00b7\"; padding: 0 .5ex}\n",
       "</style>\n",
       "<ol class=list-inline><li>78</li><li>79</li><li>65</li><li>68</li><li>65</li><li>70</li><li>71</li></ol>\n"
      ],
      "text/latex": [
       "\\begin{enumerate*}\n",
       "\\item 78\n",
       "\\item 79\n",
       "\\item 65\n",
       "\\item 68\n",
       "\\item 65\n",
       "\\item 70\n",
       "\\item 71\n",
       "\\end{enumerate*}\n"
      ],
      "text/markdown": [
       "1. 78\n",
       "2. 79\n",
       "3. 65\n",
       "4. 68\n",
       "5. 65\n",
       "6. 70\n",
       "7. 71\n",
       "\n",
       "\n"
      ],
      "text/plain": [
       "[1] 78 79 65 68 65 70 71"
      ]
     },
     "metadata": {},
     "output_type": "display_data"
    }
   ],
   "source": [
    "# Let's pull the 2nd column\n",
    "weather[,2]"
   ]
  },
  {
   "cell_type": "code",
   "execution_count": 12,
   "metadata": {},
   "outputs": [
    {
     "data": {
      "text/html": [
       "<table>\n",
       "<caption>A data.frame: 1 × 3</caption>\n",
       "<thead>\n",
       "\t<tr><th></th><th scope=col>days</th><th scope=col>temp</th><th scope=col>rain</th></tr>\n",
       "\t<tr><th></th><th scope=col>&lt;fct&gt;</th><th scope=col>&lt;dbl&gt;</th><th scope=col>&lt;lgl&gt;</th></tr>\n",
       "</thead>\n",
       "<tbody>\n",
       "\t<tr><th scope=row>5</th><td>Fri</td><td>65</td><td>TRUE</td></tr>\n",
       "</tbody>\n",
       "</table>\n"
      ],
      "text/latex": [
       "A data.frame: 1 × 3\n",
       "\\begin{tabular}{r|lll}\n",
       "  & days & temp & rain\\\\\n",
       "  & <fct> & <dbl> & <lgl>\\\\\n",
       "\\hline\n",
       "\t5 & Fri & 65 & TRUE\\\\\n",
       "\\end{tabular}\n"
      ],
      "text/markdown": [
       "\n",
       "A data.frame: 1 × 3\n",
       "\n",
       "| <!--/--> | days &lt;fct&gt; | temp &lt;dbl&gt; | rain &lt;lgl&gt; |\n",
       "|---|---|---|---|\n",
       "| 5 | Fri | 65 | TRUE |\n",
       "\n"
      ],
      "text/plain": [
       "  days temp rain\n",
       "5 Fri  65   TRUE"
      ]
     },
     "metadata": {},
     "output_type": "display_data"
    }
   ],
   "source": [
    "# Let's grab Fridays data\n",
    "weather[5,]"
   ]
  },
  {
   "cell_type": "markdown",
   "metadata": {},
   "source": [
    "## Selecting Data using Column Names\n",
    "\n",
    "Here's where data frames become very powerful. We can use column names to select data for the columns instead of having to remember the index number. Here's an example"
   ]
  },
  {
   "cell_type": "code",
   "execution_count": 13,
   "metadata": {},
   "outputs": [
    {
     "data": {
      "text/html": [
       "<style>\n",
       ".list-inline {list-style: none; margin:0; padding: 0}\n",
       ".list-inline>li {display: inline-block}\n",
       ".list-inline>li:not(:last-child)::after {content: \"\\00b7\"; padding: 0 .5ex}\n",
       "</style>\n",
       "<ol class=list-inline><li>TRUE</li><li>FALSE</li><li>FALSE</li><li>FALSE</li><li>TRUE</li><li>FALSE</li><li>TRUE</li></ol>\n"
      ],
      "text/latex": [
       "\\begin{enumerate*}\n",
       "\\item TRUE\n",
       "\\item FALSE\n",
       "\\item FALSE\n",
       "\\item FALSE\n",
       "\\item TRUE\n",
       "\\item FALSE\n",
       "\\item TRUE\n",
       "\\end{enumerate*}\n"
      ],
      "text/markdown": [
       "1. TRUE\n",
       "2. FALSE\n",
       "3. FALSE\n",
       "4. FALSE\n",
       "5. TRUE\n",
       "6. FALSE\n",
       "7. TRUE\n",
       "\n",
       "\n"
      ],
      "text/plain": [
       "[1]  TRUE FALSE FALSE FALSE  TRUE FALSE  TRUE"
      ]
     },
     "metadata": {},
     "output_type": "display_data"
    }
   ],
   "source": [
    "# Let's pul all the rain values\n",
    "weather[,'rain']"
   ]
  },
  {
   "cell_type": "code",
   "execution_count": 14,
   "metadata": {},
   "outputs": [
    {
     "data": {
      "text/html": [
       "<table>\n",
       "<caption>A data.frame: 5 × 2</caption>\n",
       "<thead>\n",
       "\t<tr><th></th><th scope=col>days</th><th scope=col>temp</th></tr>\n",
       "\t<tr><th></th><th scope=col>&lt;fct&gt;</th><th scope=col>&lt;dbl&gt;</th></tr>\n",
       "</thead>\n",
       "<tbody>\n",
       "\t<tr><th scope=row>1</th><td>Mon </td><td>78</td></tr>\n",
       "\t<tr><th scope=row>2</th><td>Tues</td><td>79</td></tr>\n",
       "\t<tr><th scope=row>3</th><td>Wed </td><td>65</td></tr>\n",
       "\t<tr><th scope=row>4</th><td>Thur</td><td>68</td></tr>\n",
       "\t<tr><th scope=row>5</th><td>Fri </td><td>65</td></tr>\n",
       "</tbody>\n",
       "</table>\n"
      ],
      "text/latex": [
       "A data.frame: 5 × 2\n",
       "\\begin{tabular}{r|ll}\n",
       "  & days & temp\\\\\n",
       "  & <fct> & <dbl>\\\\\n",
       "\\hline\n",
       "\t1 & Mon  & 78\\\\\n",
       "\t2 & Tues & 79\\\\\n",
       "\t3 & Wed  & 65\\\\\n",
       "\t4 & Thur & 68\\\\\n",
       "\t5 & Fri  & 65\\\\\n",
       "\\end{tabular}\n"
      ],
      "text/markdown": [
       "\n",
       "A data.frame: 5 × 2\n",
       "\n",
       "| <!--/--> | days &lt;fct&gt; | temp &lt;dbl&gt; |\n",
       "|---|---|---|\n",
       "| 1 | Mon  | 78 |\n",
       "| 2 | Tues | 79 |\n",
       "| 3 | Wed  | 65 |\n",
       "| 4 | Thur | 68 |\n",
       "| 5 | Fri  | 65 |\n",
       "\n"
      ],
      "text/plain": [
       "  days temp\n",
       "1 Mon  78  \n",
       "2 Tues 79  \n",
       "3 Wed  65  \n",
       "4 Thur 68  \n",
       "5 Fri  65  "
      ]
     },
     "metadata": {},
     "output_type": "display_data"
    }
   ],
   "source": [
    "# We can pull data using a vector. Now we can get only days and temps. \n",
    "weather[1:5,c('days','temp')] "
   ]
  },
  {
   "cell_type": "markdown",
   "metadata": {},
   "source": [
    "If you want all the values of a particular column, you can use the dollar sign $ directly after the data frame name. Here's an example\n",
    "\n",
    "df.name$column.name"
   ]
  },
  {
   "cell_type": "code",
   "execution_count": 15,
   "metadata": {
    "scrolled": true
   },
   "outputs": [
    {
     "data": {
      "text/html": [
       "<style>\n",
       ".list-inline {list-style: none; margin:0; padding: 0}\n",
       ".list-inline>li {display: inline-block}\n",
       ".list-inline>li:not(:last-child)::after {content: \"\\00b7\"; padding: 0 .5ex}\n",
       "</style>\n",
       "<ol class=list-inline><li>Mon</li><li>Tues</li><li>Wed</li><li>Thur</li><li>Fri</li><li>Sat</li><li>Sun</li></ol>\n",
       "\n",
       "<details>\n",
       "\t<summary style=display:list-item;cursor:pointer>\n",
       "\t\t<strong>Levels</strong>:\n",
       "\t</summary>\n",
       "\t<style>\n",
       "\t.list-inline {list-style: none; margin:0; padding: 0}\n",
       "\t.list-inline>li {display: inline-block}\n",
       "\t.list-inline>li:not(:last-child)::after {content: \"\\00b7\"; padding: 0 .5ex}\n",
       "\t</style>\n",
       "\t<ol class=list-inline><li>'Fri'</li><li>'Mon'</li><li>'Sat'</li><li>'Sun'</li><li>'Thur'</li><li>'Tues'</li><li>'Wed'</li></ol>\n",
       "</details>"
      ],
      "text/latex": [
       "\\begin{enumerate*}\n",
       "\\item Mon\n",
       "\\item Tues\n",
       "\\item Wed\n",
       "\\item Thur\n",
       "\\item Fri\n",
       "\\item Sat\n",
       "\\item Sun\n",
       "\\end{enumerate*}\n",
       "\n",
       "\\emph{Levels}: \\begin{enumerate*}\n",
       "\\item 'Fri'\n",
       "\\item 'Mon'\n",
       "\\item 'Sat'\n",
       "\\item 'Sun'\n",
       "\\item 'Thur'\n",
       "\\item 'Tues'\n",
       "\\item 'Wed'\n",
       "\\end{enumerate*}\n"
      ],
      "text/markdown": [
       "1. Mon\n",
       "2. Tues\n",
       "3. Wed\n",
       "4. Thur\n",
       "5. Fri\n",
       "6. Sat\n",
       "7. Sun\n",
       "\n",
       "\n",
       "\n",
       "**Levels**: 1. 'Fri'\n",
       "2. 'Mon'\n",
       "3. 'Sat'\n",
       "4. 'Sun'\n",
       "5. 'Thur'\n",
       "6. 'Tues'\n",
       "7. 'Wed'\n",
       "\n",
       "\n"
      ],
      "text/plain": [
       "[1] Mon  Tues Wed  Thur Fri  Sat  Sun \n",
       "Levels: Fri Mon Sat Sun Thur Tues Wed"
      ]
     },
     "metadata": {},
     "output_type": "display_data"
    },
    {
     "data": {
      "text/html": [
       "<style>\n",
       ".list-inline {list-style: none; margin:0; padding: 0}\n",
       ".list-inline>li {display: inline-block}\n",
       ".list-inline>li:not(:last-child)::after {content: \"\\00b7\"; padding: 0 .5ex}\n",
       "</style>\n",
       "<ol class=list-inline><li>78</li><li>79</li><li>65</li><li>68</li><li>65</li><li>70</li><li>71</li></ol>\n"
      ],
      "text/latex": [
       "\\begin{enumerate*}\n",
       "\\item 78\n",
       "\\item 79\n",
       "\\item 65\n",
       "\\item 68\n",
       "\\item 65\n",
       "\\item 70\n",
       "\\item 71\n",
       "\\end{enumerate*}\n"
      ],
      "text/markdown": [
       "1. 78\n",
       "2. 79\n",
       "3. 65\n",
       "4. 68\n",
       "5. 65\n",
       "6. 70\n",
       "7. 71\n",
       "\n",
       "\n"
      ],
      "text/plain": [
       "[1] 78 79 65 68 65 70 71"
      ]
     },
     "metadata": {},
     "output_type": "display_data"
    },
    {
     "data": {
      "text/html": [
       "<style>\n",
       ".list-inline {list-style: none; margin:0; padding: 0}\n",
       ".list-inline>li {display: inline-block}\n",
       ".list-inline>li:not(:last-child)::after {content: \"\\00b7\"; padding: 0 .5ex}\n",
       "</style>\n",
       "<ol class=list-inline><li>TRUE</li><li>FALSE</li><li>FALSE</li><li>FALSE</li><li>TRUE</li><li>FALSE</li><li>TRUE</li></ol>\n"
      ],
      "text/latex": [
       "\\begin{enumerate*}\n",
       "\\item TRUE\n",
       "\\item FALSE\n",
       "\\item FALSE\n",
       "\\item FALSE\n",
       "\\item TRUE\n",
       "\\item FALSE\n",
       "\\item TRUE\n",
       "\\end{enumerate*}\n"
      ],
      "text/markdown": [
       "1. TRUE\n",
       "2. FALSE\n",
       "3. FALSE\n",
       "4. FALSE\n",
       "5. TRUE\n",
       "6. FALSE\n",
       "7. TRUE\n",
       "\n",
       "\n"
      ],
      "text/plain": [
       "[1]  TRUE FALSE FALSE FALSE  TRUE FALSE  TRUE"
      ]
     },
     "metadata": {},
     "output_type": "display_data"
    }
   ],
   "source": [
    "weather$days #we can pull the entire column by using the $ \n",
    "weather$temp\n",
    "weather$rain"
   ]
  },
  {
   "cell_type": "markdown",
   "metadata": {},
   "source": [
    "## Filtering with a Subset Condition\n",
    "\n",
    "We can use the subset() function to  grab a subset of values from our data frame based off some conditions. For example, imagine we wanted to grab the days where it rained (rain = TRUE), we can use the subset() function as follows"
   ]
  },
  {
   "cell_type": "code",
   "execution_count": 16,
   "metadata": {},
   "outputs": [
    {
     "data": {
      "text/html": [
       "<table>\n",
       "<caption>A data.frame: 3 × 3</caption>\n",
       "<thead>\n",
       "\t<tr><th></th><th scope=col>days</th><th scope=col>temp</th><th scope=col>rain</th></tr>\n",
       "\t<tr><th></th><th scope=col>&lt;fct&gt;</th><th scope=col>&lt;dbl&gt;</th><th scope=col>&lt;lgl&gt;</th></tr>\n",
       "</thead>\n",
       "<tbody>\n",
       "\t<tr><th scope=row>1</th><td>Mon</td><td>78</td><td>TRUE</td></tr>\n",
       "\t<tr><th scope=row>5</th><td>Fri</td><td>65</td><td>TRUE</td></tr>\n",
       "\t<tr><th scope=row>7</th><td>Sun</td><td>71</td><td>TRUE</td></tr>\n",
       "</tbody>\n",
       "</table>\n"
      ],
      "text/latex": [
       "A data.frame: 3 × 3\n",
       "\\begin{tabular}{r|lll}\n",
       "  & days & temp & rain\\\\\n",
       "  & <fct> & <dbl> & <lgl>\\\\\n",
       "\\hline\n",
       "\t1 & Mon & 78 & TRUE\\\\\n",
       "\t5 & Fri & 65 & TRUE\\\\\n",
       "\t7 & Sun & 71 & TRUE\\\\\n",
       "\\end{tabular}\n"
      ],
      "text/markdown": [
       "\n",
       "A data.frame: 3 × 3\n",
       "\n",
       "| <!--/--> | days &lt;fct&gt; | temp &lt;dbl&gt; | rain &lt;lgl&gt; |\n",
       "|---|---|---|---|\n",
       "| 1 | Mon | 78 | TRUE |\n",
       "| 5 | Fri | 65 | TRUE |\n",
       "| 7 | Sun | 71 | TRUE |\n",
       "\n"
      ],
      "text/plain": [
       "  days temp rain\n",
       "1 Mon  78   TRUE\n",
       "5 Fri  65   TRUE\n",
       "7 Sun  71   TRUE"
      ]
     },
     "metadata": {},
     "output_type": "display_data"
    }
   ],
   "source": [
    "subset(weather,subset = rain == TRUE)"
   ]
  },
  {
   "cell_type": "markdown",
   "metadata": {},
   "source": [
    "See ow the condition uses some sort of comparison operator? In the case above we use == . Let's grab days where it was above 70 degrees"
   ]
  },
  {
   "cell_type": "code",
   "execution_count": 18,
   "metadata": {},
   "outputs": [
    {
     "data": {
      "text/html": [
       "<table>\n",
       "<caption>A data.frame: 3 × 3</caption>\n",
       "<thead>\n",
       "\t<tr><th></th><th scope=col>days</th><th scope=col>temp</th><th scope=col>rain</th></tr>\n",
       "\t<tr><th></th><th scope=col>&lt;fct&gt;</th><th scope=col>&lt;dbl&gt;</th><th scope=col>&lt;lgl&gt;</th></tr>\n",
       "</thead>\n",
       "<tbody>\n",
       "\t<tr><th scope=row>1</th><td>Mon </td><td>78</td><td> TRUE</td></tr>\n",
       "\t<tr><th scope=row>2</th><td>Tues</td><td>79</td><td>FALSE</td></tr>\n",
       "\t<tr><th scope=row>7</th><td>Sun </td><td>71</td><td> TRUE</td></tr>\n",
       "</tbody>\n",
       "</table>\n"
      ],
      "text/latex": [
       "A data.frame: 3 × 3\n",
       "\\begin{tabular}{r|lll}\n",
       "  & days & temp & rain\\\\\n",
       "  & <fct> & <dbl> & <lgl>\\\\\n",
       "\\hline\n",
       "\t1 & Mon  & 78 &  TRUE\\\\\n",
       "\t2 & Tues & 79 & FALSE\\\\\n",
       "\t7 & Sun  & 71 &  TRUE\\\\\n",
       "\\end{tabular}\n"
      ],
      "text/markdown": [
       "\n",
       "A data.frame: 3 × 3\n",
       "\n",
       "| <!--/--> | days &lt;fct&gt; | temp &lt;dbl&gt; | rain &lt;lgl&gt; |\n",
       "|---|---|---|---|\n",
       "| 1 | Mon  | 78 |  TRUE |\n",
       "| 2 | Tues | 79 | FALSE |\n",
       "| 7 | Sun  | 71 |  TRUE |\n",
       "\n"
      ],
      "text/plain": [
       "  days temp rain \n",
       "1 Mon  78    TRUE\n",
       "2 Tues 79   FALSE\n",
       "7 Sun  71    TRUE"
      ]
     },
     "metadata": {},
     "output_type": "display_data"
    }
   ],
   "source": [
    "subset(weather,subset = temp > 70)"
   ]
  },
  {
   "cell_type": "markdown",
   "metadata": {},
   "source": [
    "Something worth noting is that we didn't pass in the column name as a string. The subset identified the column we were referring to in the data frame.\n",
    "\n",
    "## Ordering a Data Frame\n",
    "\n",
    "We can sort the order of our data frame by using the order function. You can pass in the column you want to sort by into the order() function, then you can use that vector to select from the data frame. Let's try to sort our data frame by temperature."
   ]
  },
  {
   "cell_type": "code",
   "execution_count": 19,
   "metadata": {},
   "outputs": [],
   "source": [
    "sorted.by.temp <- order(weather['temp'])"
   ]
  },
  {
   "cell_type": "code",
   "execution_count": 20,
   "metadata": {},
   "outputs": [
    {
     "data": {
      "text/html": [
       "<table>\n",
       "<caption>A data.frame: 7 × 3</caption>\n",
       "<thead>\n",
       "\t<tr><th></th><th scope=col>days</th><th scope=col>temp</th><th scope=col>rain</th></tr>\n",
       "\t<tr><th></th><th scope=col>&lt;fct&gt;</th><th scope=col>&lt;dbl&gt;</th><th scope=col>&lt;lgl&gt;</th></tr>\n",
       "</thead>\n",
       "<tbody>\n",
       "\t<tr><th scope=row>3</th><td>Wed </td><td>65</td><td>FALSE</td></tr>\n",
       "\t<tr><th scope=row>5</th><td>Fri </td><td>65</td><td> TRUE</td></tr>\n",
       "\t<tr><th scope=row>4</th><td>Thur</td><td>68</td><td>FALSE</td></tr>\n",
       "\t<tr><th scope=row>6</th><td>Sat </td><td>70</td><td>FALSE</td></tr>\n",
       "\t<tr><th scope=row>7</th><td>Sun </td><td>71</td><td> TRUE</td></tr>\n",
       "\t<tr><th scope=row>1</th><td>Mon </td><td>78</td><td> TRUE</td></tr>\n",
       "\t<tr><th scope=row>2</th><td>Tues</td><td>79</td><td>FALSE</td></tr>\n",
       "</tbody>\n",
       "</table>\n"
      ],
      "text/latex": [
       "A data.frame: 7 × 3\n",
       "\\begin{tabular}{r|lll}\n",
       "  & days & temp & rain\\\\\n",
       "  & <fct> & <dbl> & <lgl>\\\\\n",
       "\\hline\n",
       "\t3 & Wed  & 65 & FALSE\\\\\n",
       "\t5 & Fri  & 65 &  TRUE\\\\\n",
       "\t4 & Thur & 68 & FALSE\\\\\n",
       "\t6 & Sat  & 70 & FALSE\\\\\n",
       "\t7 & Sun  & 71 &  TRUE\\\\\n",
       "\t1 & Mon  & 78 &  TRUE\\\\\n",
       "\t2 & Tues & 79 & FALSE\\\\\n",
       "\\end{tabular}\n"
      ],
      "text/markdown": [
       "\n",
       "A data.frame: 7 × 3\n",
       "\n",
       "| <!--/--> | days &lt;fct&gt; | temp &lt;dbl&gt; | rain &lt;lgl&gt; |\n",
       "|---|---|---|---|\n",
       "| 3 | Wed  | 65 | FALSE |\n",
       "| 5 | Fri  | 65 |  TRUE |\n",
       "| 4 | Thur | 68 | FALSE |\n",
       "| 6 | Sat  | 70 | FALSE |\n",
       "| 7 | Sun  | 71 |  TRUE |\n",
       "| 1 | Mon  | 78 |  TRUE |\n",
       "| 2 | Tues | 79 | FALSE |\n",
       "\n"
      ],
      "text/plain": [
       "  days temp rain \n",
       "3 Wed  65   FALSE\n",
       "5 Fri  65    TRUE\n",
       "4 Thur 68   FALSE\n",
       "6 Sat  70   FALSE\n",
       "7 Sun  71    TRUE\n",
       "1 Mon  78    TRUE\n",
       "2 Tues 79   FALSE"
      ]
     },
     "metadata": {},
     "output_type": "display_data"
    }
   ],
   "source": [
    "# Now we can use this vector to sort our data frame by passing it through the data frame\n",
    "weather[sorted.by.temp,]"
   ]
  },
  {
   "cell_type": "markdown",
   "metadata": {},
   "source": [
    "What does sorted.by.temp look like?"
   ]
  },
  {
   "cell_type": "code",
   "execution_count": 21,
   "metadata": {},
   "outputs": [
    {
     "data": {
      "text/html": [
       "<style>\n",
       ".list-inline {list-style: none; margin:0; padding: 0}\n",
       ".list-inline>li {display: inline-block}\n",
       ".list-inline>li:not(:last-child)::after {content: \"\\00b7\"; padding: 0 .5ex}\n",
       "</style>\n",
       "<ol class=list-inline><li>3</li><li>5</li><li>4</li><li>6</li><li>7</li><li>1</li><li>2</li></ol>\n"
      ],
      "text/latex": [
       "\\begin{enumerate*}\n",
       "\\item 3\n",
       "\\item 5\n",
       "\\item 4\n",
       "\\item 6\n",
       "\\item 7\n",
       "\\item 1\n",
       "\\item 2\n",
       "\\end{enumerate*}\n"
      ],
      "text/markdown": [
       "1. 3\n",
       "2. 5\n",
       "3. 4\n",
       "4. 6\n",
       "5. 7\n",
       "6. 1\n",
       "7. 2\n",
       "\n",
       "\n"
      ],
      "text/plain": [
       "[1] 3 5 4 6 7 1 2"
      ]
     },
     "metadata": {},
     "output_type": "display_data"
    }
   ],
   "source": [
    "sorted.by.temp"
   ]
  },
  {
   "cell_type": "markdown",
   "metadata": {},
   "source": [
    "That makes sense. We are just asking to return the elements in that order. (by default it is set to ascending. We can pass a negative sign to do a descending order)"
   ]
  },
  {
   "cell_type": "code",
   "execution_count": 26,
   "metadata": {},
   "outputs": [
    {
     "data": {
      "text/html": [
       "<table>\n",
       "<caption>A data.frame: 7 × 3</caption>\n",
       "<thead>\n",
       "\t<tr><th></th><th scope=col>days</th><th scope=col>temp</th><th scope=col>rain</th></tr>\n",
       "\t<tr><th></th><th scope=col>&lt;fct&gt;</th><th scope=col>&lt;dbl&gt;</th><th scope=col>&lt;lgl&gt;</th></tr>\n",
       "</thead>\n",
       "<tbody>\n",
       "\t<tr><th scope=row>2</th><td>Tues</td><td>79</td><td>FALSE</td></tr>\n",
       "\t<tr><th scope=row>1</th><td>Mon </td><td>78</td><td> TRUE</td></tr>\n",
       "\t<tr><th scope=row>7</th><td>Sun </td><td>71</td><td> TRUE</td></tr>\n",
       "\t<tr><th scope=row>6</th><td>Sat </td><td>70</td><td>FALSE</td></tr>\n",
       "\t<tr><th scope=row>4</th><td>Thur</td><td>68</td><td>FALSE</td></tr>\n",
       "\t<tr><th scope=row>3</th><td>Wed </td><td>65</td><td>FALSE</td></tr>\n",
       "\t<tr><th scope=row>5</th><td>Fri </td><td>65</td><td> TRUE</td></tr>\n",
       "</tbody>\n",
       "</table>\n"
      ],
      "text/latex": [
       "A data.frame: 7 × 3\n",
       "\\begin{tabular}{r|lll}\n",
       "  & days & temp & rain\\\\\n",
       "  & <fct> & <dbl> & <lgl>\\\\\n",
       "\\hline\n",
       "\t2 & Tues & 79 & FALSE\\\\\n",
       "\t1 & Mon  & 78 &  TRUE\\\\\n",
       "\t7 & Sun  & 71 &  TRUE\\\\\n",
       "\t6 & Sat  & 70 & FALSE\\\\\n",
       "\t4 & Thur & 68 & FALSE\\\\\n",
       "\t3 & Wed  & 65 & FALSE\\\\\n",
       "\t5 & Fri  & 65 &  TRUE\\\\\n",
       "\\end{tabular}\n"
      ],
      "text/markdown": [
       "\n",
       "A data.frame: 7 × 3\n",
       "\n",
       "| <!--/--> | days &lt;fct&gt; | temp &lt;dbl&gt; | rain &lt;lgl&gt; |\n",
       "|---|---|---|---|\n",
       "| 2 | Tues | 79 | FALSE |\n",
       "| 1 | Mon  | 78 |  TRUE |\n",
       "| 7 | Sun  | 71 |  TRUE |\n",
       "| 6 | Sat  | 70 | FALSE |\n",
       "| 4 | Thur | 68 | FALSE |\n",
       "| 3 | Wed  | 65 | FALSE |\n",
       "| 5 | Fri  | 65 |  TRUE |\n",
       "\n"
      ],
      "text/plain": [
       "  days temp rain \n",
       "2 Tues 79   FALSE\n",
       "1 Mon  78    TRUE\n",
       "7 Sun  71    TRUE\n",
       "6 Sat  70   FALSE\n",
       "4 Thur 68   FALSE\n",
       "3 Wed  65   FALSE\n",
       "5 Fri  65    TRUE"
      ]
     },
     "metadata": {},
     "output_type": "display_data"
    }
   ],
   "source": [
    "descending.temp <- order(-weather['temp'])\n",
    "weather[descending.temp,] # Don't forget we are calling the row number when doing this!"
   ]
  },
  {
   "cell_type": "markdown",
   "metadata": {},
   "source": [
    "We can also use the subset notation since it is easier and requires less brackets. "
   ]
  },
  {
   "cell_type": "code",
   "execution_count": 30,
   "metadata": {},
   "outputs": [
    {
     "data": {
      "text/html": [
       "<table>\n",
       "<caption>A data.frame: 7 × 3</caption>\n",
       "<thead>\n",
       "\t<tr><th></th><th scope=col>days</th><th scope=col>temp</th><th scope=col>rain</th></tr>\n",
       "\t<tr><th></th><th scope=col>&lt;fct&gt;</th><th scope=col>&lt;dbl&gt;</th><th scope=col>&lt;lgl&gt;</th></tr>\n",
       "</thead>\n",
       "<tbody>\n",
       "\t<tr><th scope=row>3</th><td>Wed </td><td>65</td><td>FALSE</td></tr>\n",
       "\t<tr><th scope=row>5</th><td>Fri </td><td>65</td><td> TRUE</td></tr>\n",
       "\t<tr><th scope=row>4</th><td>Thur</td><td>68</td><td>FALSE</td></tr>\n",
       "\t<tr><th scope=row>6</th><td>Sat </td><td>70</td><td>FALSE</td></tr>\n",
       "\t<tr><th scope=row>7</th><td>Sun </td><td>71</td><td> TRUE</td></tr>\n",
       "\t<tr><th scope=row>1</th><td>Mon </td><td>78</td><td> TRUE</td></tr>\n",
       "\t<tr><th scope=row>2</th><td>Tues</td><td>79</td><td>FALSE</td></tr>\n",
       "</tbody>\n",
       "</table>\n"
      ],
      "text/latex": [
       "A data.frame: 7 × 3\n",
       "\\begin{tabular}{r|lll}\n",
       "  & days & temp & rain\\\\\n",
       "  & <fct> & <dbl> & <lgl>\\\\\n",
       "\\hline\n",
       "\t3 & Wed  & 65 & FALSE\\\\\n",
       "\t5 & Fri  & 65 &  TRUE\\\\\n",
       "\t4 & Thur & 68 & FALSE\\\\\n",
       "\t6 & Sat  & 70 & FALSE\\\\\n",
       "\t7 & Sun  & 71 &  TRUE\\\\\n",
       "\t1 & Mon  & 78 &  TRUE\\\\\n",
       "\t2 & Tues & 79 & FALSE\\\\\n",
       "\\end{tabular}\n"
      ],
      "text/markdown": [
       "\n",
       "A data.frame: 7 × 3\n",
       "\n",
       "| <!--/--> | days &lt;fct&gt; | temp &lt;dbl&gt; | rain &lt;lgl&gt; |\n",
       "|---|---|---|---|\n",
       "| 3 | Wed  | 65 | FALSE |\n",
       "| 5 | Fri  | 65 |  TRUE |\n",
       "| 4 | Thur | 68 | FALSE |\n",
       "| 6 | Sat  | 70 | FALSE |\n",
       "| 7 | Sun  | 71 |  TRUE |\n",
       "| 1 | Mon  | 78 |  TRUE |\n",
       "| 2 | Tues | 79 | FALSE |\n",
       "\n"
      ],
      "text/plain": [
       "  days temp rain \n",
       "3 Wed  65   FALSE\n",
       "5 Fri  65    TRUE\n",
       "4 Thur 68   FALSE\n",
       "6 Sat  70   FALSE\n",
       "7 Sun  71    TRUE\n",
       "1 Mon  78    TRUE\n",
       "2 Tues 79   FALSE"
      ]
     },
     "metadata": {},
     "output_type": "display_data"
    }
   ],
   "source": [
    "sort.temperature <- order(weather$temp)\n",
    "weather[sort.temperature,]"
   ]
  },
  {
   "cell_type": "markdown",
   "metadata": {},
   "source": [
    "We can add a negative sign again in front of the column name"
   ]
  },
  {
   "cell_type": "code",
   "execution_count": 31,
   "metadata": {},
   "outputs": [
    {
     "data": {
      "text/html": [
       "<table>\n",
       "<caption>A data.frame: 7 × 3</caption>\n",
       "<thead>\n",
       "\t<tr><th></th><th scope=col>days</th><th scope=col>temp</th><th scope=col>rain</th></tr>\n",
       "\t<tr><th></th><th scope=col>&lt;fct&gt;</th><th scope=col>&lt;dbl&gt;</th><th scope=col>&lt;lgl&gt;</th></tr>\n",
       "</thead>\n",
       "<tbody>\n",
       "\t<tr><th scope=row>2</th><td>Tues</td><td>79</td><td>FALSE</td></tr>\n",
       "\t<tr><th scope=row>1</th><td>Mon </td><td>78</td><td> TRUE</td></tr>\n",
       "\t<tr><th scope=row>7</th><td>Sun </td><td>71</td><td> TRUE</td></tr>\n",
       "\t<tr><th scope=row>6</th><td>Sat </td><td>70</td><td>FALSE</td></tr>\n",
       "\t<tr><th scope=row>4</th><td>Thur</td><td>68</td><td>FALSE</td></tr>\n",
       "\t<tr><th scope=row>3</th><td>Wed </td><td>65</td><td>FALSE</td></tr>\n",
       "\t<tr><th scope=row>5</th><td>Fri </td><td>65</td><td> TRUE</td></tr>\n",
       "</tbody>\n",
       "</table>\n"
      ],
      "text/latex": [
       "A data.frame: 7 × 3\n",
       "\\begin{tabular}{r|lll}\n",
       "  & days & temp & rain\\\\\n",
       "  & <fct> & <dbl> & <lgl>\\\\\n",
       "\\hline\n",
       "\t2 & Tues & 79 & FALSE\\\\\n",
       "\t1 & Mon  & 78 &  TRUE\\\\\n",
       "\t7 & Sun  & 71 &  TRUE\\\\\n",
       "\t6 & Sat  & 70 & FALSE\\\\\n",
       "\t4 & Thur & 68 & FALSE\\\\\n",
       "\t3 & Wed  & 65 & FALSE\\\\\n",
       "\t5 & Fri  & 65 &  TRUE\\\\\n",
       "\\end{tabular}\n"
      ],
      "text/markdown": [
       "\n",
       "A data.frame: 7 × 3\n",
       "\n",
       "| <!--/--> | days &lt;fct&gt; | temp &lt;dbl&gt; | rain &lt;lgl&gt; |\n",
       "|---|---|---|---|\n",
       "| 2 | Tues | 79 | FALSE |\n",
       "| 1 | Mon  | 78 |  TRUE |\n",
       "| 7 | Sun  | 71 |  TRUE |\n",
       "| 6 | Sat  | 70 | FALSE |\n",
       "| 4 | Thur | 68 | FALSE |\n",
       "| 3 | Wed  | 65 | FALSE |\n",
       "| 5 | Fri  | 65 |  TRUE |\n",
       "\n"
      ],
      "text/plain": [
       "  days temp rain \n",
       "2 Tues 79   FALSE\n",
       "1 Mon  78    TRUE\n",
       "7 Sun  71    TRUE\n",
       "6 Sat  70   FALSE\n",
       "4 Thur 68   FALSE\n",
       "3 Wed  65   FALSE\n",
       "5 Fri  65    TRUE"
      ]
     },
     "metadata": {},
     "output_type": "display_data"
    }
   ],
   "source": [
    "sort.temperature <- order(-weather$temp)\n",
    "weather[sort.temperature,]"
   ]
  },
  {
   "cell_type": "markdown",
   "metadata": {},
   "source": [
    "That's it for data frames! We will definitely revisit this and explore data frames A LOT more, but we should test you understanding first! Up next an exercise!"
   ]
  }
 ],
 "metadata": {
  "kernelspec": {
   "display_name": "R",
   "language": "R",
   "name": "ir"
  },
  "language_info": {
   "codemirror_mode": "r",
   "file_extension": ".r",
   "mimetype": "text/x-r-source",
   "name": "R",
   "pygments_lexer": "r",
   "version": "3.6.1"
  }
 },
 "nbformat": 4,
 "nbformat_minor": 4
}
