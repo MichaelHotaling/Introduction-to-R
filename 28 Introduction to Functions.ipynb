{
 "cells": [
  {
   "cell_type": "markdown",
   "metadata": {},
   "source": [
    "# Introduction to Functions\n",
    "\n",
    "This notebook will consist of explaining hwat a function is in R and how to create one. Functions will be one of our main building blocks when we construct larger and larger amounts of code to solve problems\n",
    "\n",
    "So what is a function?\n",
    "\n",
    "Formally, a function is a useful device that groups together a set of statements so they can be run more than once. They can also let us specify parameters that can serve as inputs to the functions.\n",
    "\n",
    "On a more fundamental level, functions allow us to not have to repeatedly write the same code again and again. If you remember back to the lessons on strings and lists, we used the function __length()__ multiple times to get the length of a string. Since checking the length of a sequence is a common task, you would want to write a function that would help do it repeatedly and on command. Functions will be one of the most basic levels of reusing code in R and will allow us to start thinking about designing programs. \n",
    "    \n",
    "We already have seen plenty of build-in functions in R such as __sum()__, __length()__, __mean()__, and __round__. If you need a refresher on any functions we've used, you can also use the __help()__ function!"
   ]
  },
  {
   "cell_type": "code",
   "execution_count": 1,
   "metadata": {},
   "outputs": [],
   "source": [
    "help(sum)"
   ]
  },
  {
   "cell_type": "markdown",
   "metadata": {},
   "source": [
    "## Example 1"
   ]
  },
  {
   "cell_type": "code",
   "execution_count": 2,
   "metadata": {},
   "outputs": [
    {
     "name": "stdout",
     "output_type": "stream",
     "text": [
      "[1] \"hello!\"\n"
     ]
    }
   ],
   "source": [
    "# Simple function, no inputs!\n",
    "hello <- function(){\n",
    "    print('hello!')\n",
    "}\n",
    "\n",
    "hello()"
   ]
  },
  {
   "cell_type": "code",
   "execution_count": 3,
   "metadata": {},
   "outputs": [
    {
     "name": "stdout",
     "output_type": "stream",
     "text": [
      "[1] \"Hello Mike !\"\n"
     ]
    }
   ],
   "source": [
    "hello.name <- function(name){\n",
    "    print(paste('Hello',name ,\"!\"))\n",
    "}\n",
    "\n",
    "hello.name(\"Mike\")"
   ]
  },
  {
   "cell_type": "markdown",
   "metadata": {},
   "source": [
    "## Example 2"
   ]
  },
  {
   "cell_type": "code",
   "execution_count": 4,
   "metadata": {},
   "outputs": [
    {
     "name": "stdout",
     "output_type": "stream",
     "text": [
      "[1] 20\n"
     ]
    }
   ],
   "source": [
    "add.2.numbers <- function(number1,number2){\n",
    "    print(number1 + number2)\n",
    "}\n",
    "\n",
    "add.2.numbers(9,11)"
   ]
  },
  {
   "cell_type": "markdown",
   "metadata": {},
   "source": [
    "## Default values\n",
    "\n",
    "Notice that so far we've had to define every single argument in the function when using it, but we can also have default values by using an equals sign. Here's and example"
   ]
  },
  {
   "cell_type": "code",
   "execution_count": 5,
   "metadata": {},
   "outputs": [
    {
     "name": "stdout",
     "output_type": "stream",
     "text": [
      "[1] \"Hello Bob\"\n",
      "[1] \"Hello Jacon\"\n"
     ]
    }
   ],
   "source": [
    "hello.to.you <-function(name='Bob'){\n",
    "    print(paste(\"Hello\",name))\n",
    "}\n",
    "\n",
    "hello.to.you() # Returns the default value\n",
    "hello.to.you(\"Jacon\") #Returns the user input"
   ]
  },
  {
   "cell_type": "markdown",
   "metadata": {},
   "source": [
    "## Returning Values\n",
    "\n",
    "So far, we've only been printing out results, but what if we wanted to __return__ the results so that we could assign them to variables? We can use the __return__ keyword for this task"
   ]
  },
  {
   "cell_type": "code",
   "execution_count": 6,
   "metadata": {},
   "outputs": [
    {
     "data": {
      "text/html": [
       "0.500201194562304"
      ],
      "text/latex": [
       "0.500201194562304"
      ],
      "text/markdown": [
       "0.500201194562304"
      ],
      "text/plain": [
       "[1] 0.5002012"
      ]
     },
     "metadata": {},
     "output_type": "display_data"
    },
    {
     "data": {
      "text/html": [
       "3.05895766892783"
      ],
      "text/latex": [
       "3.05895766892783"
      ],
      "text/markdown": [
       "3.05895766892783"
      ],
      "text/plain": [
       "[1] 3.058958"
      ]
     },
     "metadata": {},
     "output_type": "display_data"
    }
   ],
   "source": [
    "radius <-function(circumference){ # This function will take in the circumference of a circle and calculate the radius\n",
    "    return( circumference /(2 * 3.141593))\n",
    "}\n",
    "\n",
    "area.of.circle <- function(radius){ # This function will take in the radius of a circle and calculate the area\n",
    "    return(radius * radius * 3.141593)\n",
    "}\n",
    "\n",
    "radius(22/7)\n",
    "\n",
    "rad <- radius(6.2)\n",
    "\n",
    "area.of.circle(rad)"
   ]
  },
  {
   "cell_type": "code",
   "execution_count": 7,
   "metadata": {},
   "outputs": [
    {
     "data": {
      "text/html": [
       "'Mr. Bond'"
      ],
      "text/latex": [
       "'Mr. Bond'"
      ],
      "text/markdown": [
       "'Mr. Bond'"
      ],
      "text/plain": [
       "[1] \"Mr. Bond\""
      ]
     },
     "metadata": {},
     "output_type": "display_data"
    },
    {
     "data": {
      "text/html": [
       "'Mr. Dickerson'"
      ],
      "text/latex": [
       "'Mr. Dickerson'"
      ],
      "text/markdown": [
       "'Mr. Dickerson'"
      ],
      "text/plain": [
       "[1] \"Mr. Dickerson\""
      ]
     },
     "metadata": {},
     "output_type": "display_data"
    },
    {
     "name": "stdout",
     "output_type": "stream",
     "text": [
      "[1] \"Madam Marie Curie and Sir Issac Newton got tea together last Tuesday\"\n"
     ]
    }
   ],
   "source": [
    "formal.title <- function(name = 'Bond' ,title='Mr.'){\n",
    "    return(paste(title,name))\n",
    "}\n",
    "\n",
    "formal.title()\n",
    "formal.title('Dickerson')\n",
    "scientist.1 <- formal.title('Marie Curie' ,'Madam')\n",
    "scientist.2 <- formal.title('Issac Newton', 'Sir')\n",
    "\n",
    "print(paste(scientist.1,\"and\",scientist.2,\"got tea together last Tuesday\"))\n",
    "\n"
   ]
  },
  {
   "cell_type": "markdown",
   "metadata": {},
   "source": [
    "## Scope\n",
    "\n",
    "Scope is the term we use to describe how objects and variables get defined within R. When we discuss scope with functions, we can say that if a variable is defined only inside a functon, than its scope is limited to that function. Here's an example"
   ]
  },
  {
   "cell_type": "code",
   "execution_count": 8,
   "metadata": {},
   "outputs": [
    {
     "data": {
      "text/html": [
       "16777216"
      ],
      "text/latex": [
       "16777216"
      ],
      "text/markdown": [
       "16777216"
      ],
      "text/plain": [
       "[1] 16777216"
      ]
     },
     "metadata": {},
     "output_type": "display_data"
    },
    {
     "ename": "ERROR",
     "evalue": "Error in eval(expr, envir, enclos): object 'result' not found\n",
     "output_type": "error",
     "traceback": [
      "Error in eval(expr, envir, enclos): object 'result' not found\nTraceback:\n"
     ]
    }
   ],
   "source": [
    "number.enlarger <-function(input){\n",
    "    result <- input^input\n",
    "    return(result)\n",
    "}\n",
    "\n",
    "number.enlarger(8)\n",
    "#input\n",
    "result"
   ]
  },
  {
   "cell_type": "markdown",
   "metadata": {},
   "source": [
    "These variables aren't found because theya re defined inside the scope of the function. So variables defined inside the scope of a function are only defined inside that function. However, variables assigned outside the function are called _global_variables_ and the function will access them due to their scope. For example"
   ]
  },
  {
   "cell_type": "code",
   "execution_count": 9,
   "metadata": {},
   "outputs": [],
   "source": [
    "gvariable1 <- \"I'm a global variable\"\n",
    "gvariable2 <- \"I'm a global variable too!\"\n",
    "\n",
    "fun <- function(stuff){\n",
    "    print(gvariable1) \n",
    "    gvariable2 <- 'Reassign stuff inside func'\n",
    "    print(gvariable2)\n",
    "}"
   ]
  },
  {
   "cell_type": "code",
   "execution_count": 11,
   "metadata": {},
   "outputs": [
    {
     "name": "stdout",
     "output_type": "stream",
     "text": [
      "[1] \"I'm a global variable\"\n",
      "[1] \"I'm a global variable too!\"\n",
      "[1] \"I'm a global variable\"\n",
      "[1] \"Reassign stuff inside func\"\n",
      "[1] \"I'm a global variable\"\n"
     ]
    }
   ],
   "source": [
    "print(gvariable1) #print v\n",
    "print(gvariable2) #print stuff\n",
    "fun(gvariable2) # pass stuff to function\n",
    "# reassignment only happens in scope of function\n",
    "print(gvariable1)"
   ]
  },
  {
   "cell_type": "markdown",
   "metadata": {},
   "source": [
    "So what is happening above? The following happens\n",
    "\n",
    "__print(gvariable1)__ will print the global variable ___\"gvariable\"___, the outer scope\n",
    "\n",
    "__print(gvariable2)__ will also print the global variable ___\"gvariable2\"___\n",
    "\n",
    "__fun(gvariable2)__ will accept an argument ___gvariable2___, print out ___gvariable1___, and then reassign ___gvariable2___ (in the scope of the function) and print out the reassignment. Notice two things:\n",
    "\n",
    "- The reassignment of gvariable2 only effects the scope of the gvariable2 variable inside the function\n",
    "- The fun function first checks to see if gvariable1 is defined at the function scope, if not (which was the case) it will then search the global scope for a variable names \"gvariable1\", leading to it printing out \"I'm global variable\".\n",
    "\n",
    "Check out the function below and make sure you understand it:"
   ]
  },
  {
   "cell_type": "code",
   "execution_count": 12,
   "metadata": {},
   "outputs": [
    {
     "data": {
      "text/html": [
       "10"
      ],
      "text/latex": [
       "10"
      ],
      "text/markdown": [
       "10"
      ],
      "text/plain": [
       "[1] 10"
      ]
     },
     "metadata": {},
     "output_type": "display_data"
    },
    {
     "data": {
      "text/html": [
       "5"
      ],
      "text/latex": [
       "5"
      ],
      "text/markdown": [
       "5"
      ],
      "text/plain": [
       "[1] 5"
      ]
     },
     "metadata": {},
     "output_type": "display_data"
    }
   ],
   "source": [
    "double <- function(a) {\n",
    "  a <- 2*a\n",
    "  a\n",
    "}\n",
    "var <- 5\n",
    "double(var)\n",
    "var"
   ]
  }
 ],
 "metadata": {
  "kernelspec": {
   "display_name": "R",
   "language": "R",
   "name": "ir"
  },
  "language_info": {
   "codemirror_mode": "r",
   "file_extension": ".r",
   "mimetype": "text/x-r-source",
   "name": "R",
   "pygments_lexer": "r",
   "version": "3.6.1"
  }
 },
 "nbformat": 4,
 "nbformat_minor": 4
}
