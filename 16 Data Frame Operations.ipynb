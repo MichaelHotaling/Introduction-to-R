{
 "cells": [
  {
   "cell_type": "markdown",
   "metadata": {},
   "source": [
    "# Overview of Data Frame Operations\n",
    "\n",
    "Data frames are the workhorse of R, so in this lecture we will basically be creating a \"cheat sheet\" of common operations used with data frames and R. This will be a very critical lecture so be sure to understand all of the material \n",
    "\n",
    "- Creating Data Frames\n",
    "- Importing and Exporting Data\n",
    "- Getting Information about Data Frame\n",
    "- Referencing Cells\n",
    "- Referencing Rows\n",
    "- Referencing Columns\n",
    "- Adding Rows\n",
    "- Adding Columns\n",
    "- Setting Column Names\n",
    "- Selecting Multiple Rows\n",
    "- Selecting Multiple Columns\n",
    "- Dealing with Missing Dataa"
   ]
  },
  {
   "cell_type": "markdown",
   "metadata": {},
   "source": [
    "## Creating Data Frames\n",
    "\n",
    "Let's first create an empty data frame"
   ]
  },
  {
   "cell_type": "code",
   "execution_count": 1,
   "metadata": {},
   "outputs": [
    {
     "data": {
      "text/html": [
       "<table>\n",
       "<caption>A data.frame: 10 × 2</caption>\n",
       "<thead>\n",
       "\t<tr><th scope=col>Students</th><th scope=col>First.Test</th></tr>\n",
       "\t<tr><th scope=col>&lt;fct&gt;</th><th scope=col>&lt;dbl&gt;</th></tr>\n",
       "</thead>\n",
       "<tbody>\n",
       "\t<tr><td>Sai     </td><td> 45</td></tr>\n",
       "\t<tr><td>Jacob   </td><td> 87</td></tr>\n",
       "\t<tr><td>Elroy   </td><td> 80</td></tr>\n",
       "\t<tr><td>Zoey    </td><td> 90</td></tr>\n",
       "\t<tr><td>Bob     </td><td> 98</td></tr>\n",
       "\t<tr><td>Mike    </td><td> 30</td></tr>\n",
       "\t<tr><td>Andrew  </td><td> 89</td></tr>\n",
       "\t<tr><td>James   </td><td>100</td></tr>\n",
       "\t<tr><td>Oleg    </td><td> 95</td></tr>\n",
       "\t<tr><td>Valentin</td><td>100</td></tr>\n",
       "</tbody>\n",
       "</table>\n"
      ],
      "text/latex": [
       "A data.frame: 10 × 2\n",
       "\\begin{tabular}{ll}\n",
       " Students & First.Test\\\\\n",
       " <fct> & <dbl>\\\\\n",
       "\\hline\n",
       "\t Sai      &  45\\\\\n",
       "\t Jacob    &  87\\\\\n",
       "\t Elroy    &  80\\\\\n",
       "\t Zoey     &  90\\\\\n",
       "\t Bob      &  98\\\\\n",
       "\t Mike     &  30\\\\\n",
       "\t Andrew   &  89\\\\\n",
       "\t James    & 100\\\\\n",
       "\t Oleg     &  95\\\\\n",
       "\t Valentin & 100\\\\\n",
       "\\end{tabular}\n"
      ],
      "text/markdown": [
       "\n",
       "A data.frame: 10 × 2\n",
       "\n",
       "| Students &lt;fct&gt; | First.Test &lt;dbl&gt; |\n",
       "|---|---|\n",
       "| Sai      |  45 |\n",
       "| Jacob    |  87 |\n",
       "| Elroy    |  80 |\n",
       "| Zoey     |  90 |\n",
       "| Bob      |  98 |\n",
       "| Mike     |  30 |\n",
       "| Andrew   |  89 |\n",
       "| James    | 100 |\n",
       "| Oleg     |  95 |\n",
       "| Valentin | 100 |\n",
       "\n"
      ],
      "text/plain": [
       "   Students First.Test\n",
       "1  Sai       45       \n",
       "2  Jacob     87       \n",
       "3  Elroy     80       \n",
       "4  Zoey      90       \n",
       "5  Bob       98       \n",
       "6  Mike      30       \n",
       "7  Andrew    89       \n",
       "8  James    100       \n",
       "9  Oleg      95       \n",
       "10 Valentin 100       "
      ]
     },
     "metadata": {},
     "output_type": "display_data"
    }
   ],
   "source": [
    "empty <- data.frame() # empty data frame\n",
    "\n",
    "# let's now create a vector of names \n",
    "names <-  c(\"Sai\",\"Jacob\",\"Elroy\",\"Zoey\",\"Bob\",\"Mike\",\"Andrew\",\"James\",\"Oleg\",\"Valentin\")\n",
    "\n",
    "# Let's have test scores be the second vector\n",
    "test <- c(45,87,80,90,98,30,89,100,95,100)\n",
    "\n",
    "# lets make our data frame and name the columns\n",
    "df <- data.frame(\"Students\" = names, \"First.Test\" = test) \n",
    "df"
   ]
  },
  {
   "cell_type": "markdown",
   "metadata": {},
   "source": [
    "## Importing and Exporting Data\n",
    "\n",
    "We will go over this more later"
   ]
  },
  {
   "cell_type": "code",
   "execution_count": 2,
   "metadata": {},
   "outputs": [],
   "source": [
    "#d2 <- read.csv('some_file.csv')\n",
    "\n",
    "#For Excel File\n",
    "#load the readxl package\n",
    "#library(readxl)\n",
    "\n",
    "#Call info from the sheets using read.excel\n",
    "#df <- read_excel('some_file.xlsx', sheet = 'Sheet1')\n",
    "\n",
    "# Output to CSV\n",
    "#write.csv(df,file='some_file.csv')"
   ]
  },
  {
   "cell_type": "markdown",
   "metadata": {},
   "source": [
    "## Getting Information about Data Frames"
   ]
  },
  {
   "cell_type": "code",
   "execution_count": 3,
   "metadata": {},
   "outputs": [
    {
     "data": {
      "text/html": [
       "10"
      ],
      "text/latex": [
       "10"
      ],
      "text/markdown": [
       "10"
      ],
      "text/plain": [
       "[1] 10"
      ]
     },
     "metadata": {},
     "output_type": "display_data"
    },
    {
     "data": {
      "text/html": [
       "2"
      ],
      "text/latex": [
       "2"
      ],
      "text/markdown": [
       "2"
      ],
      "text/plain": [
       "[1] 2"
      ]
     },
     "metadata": {},
     "output_type": "display_data"
    }
   ],
   "source": [
    "# Count the numbers of rows and columns\n",
    "nrow(df)\n",
    "ncol(df)"
   ]
  },
  {
   "cell_type": "code",
   "execution_count": 4,
   "metadata": {},
   "outputs": [
    {
     "data": {
      "text/html": [
       "<style>\n",
       ".list-inline {list-style: none; margin:0; padding: 0}\n",
       ".list-inline>li {display: inline-block}\n",
       ".list-inline>li:not(:last-child)::after {content: \"\\00b7\"; padding: 0 .5ex}\n",
       "</style>\n",
       "<ol class=list-inline><li>'Students'</li><li>'First.Test'</li></ol>\n"
      ],
      "text/latex": [
       "\\begin{enumerate*}\n",
       "\\item 'Students'\n",
       "\\item 'First.Test'\n",
       "\\end{enumerate*}\n"
      ],
      "text/markdown": [
       "1. 'Students'\n",
       "2. 'First.Test'\n",
       "\n",
       "\n"
      ],
      "text/plain": [
       "[1] \"Students\"   \"First.Test\""
      ]
     },
     "metadata": {},
     "output_type": "display_data"
    },
    {
     "data": {
      "text/html": [
       "<style>\n",
       ".list-inline {list-style: none; margin:0; padding: 0}\n",
       ".list-inline>li {display: inline-block}\n",
       ".list-inline>li:not(:last-child)::after {content: \"\\00b7\"; padding: 0 .5ex}\n",
       "</style>\n",
       "<ol class=list-inline><li>'1'</li><li>'2'</li><li>'3'</li><li>'4'</li><li>'5'</li><li>'6'</li><li>'7'</li><li>'8'</li><li>'9'</li><li>'10'</li></ol>\n"
      ],
      "text/latex": [
       "\\begin{enumerate*}\n",
       "\\item '1'\n",
       "\\item '2'\n",
       "\\item '3'\n",
       "\\item '4'\n",
       "\\item '5'\n",
       "\\item '6'\n",
       "\\item '7'\n",
       "\\item '8'\n",
       "\\item '9'\n",
       "\\item '10'\n",
       "\\end{enumerate*}\n"
      ],
      "text/markdown": [
       "1. '1'\n",
       "2. '2'\n",
       "3. '3'\n",
       "4. '4'\n",
       "5. '5'\n",
       "6. '6'\n",
       "7. '7'\n",
       "8. '8'\n",
       "9. '9'\n",
       "10. '10'\n",
       "\n",
       "\n"
      ],
      "text/plain": [
       " [1] \"1\"  \"2\"  \"3\"  \"4\"  \"5\"  \"6\"  \"7\"  \"8\"  \"9\"  \"10\""
      ]
     },
     "metadata": {},
     "output_type": "display_data"
    }
   ],
   "source": [
    "# Column and Row Names\n",
    "colnames(df)\n",
    "rownames(df) # this will return the index value, not names or test scores. "
   ]
  },
  {
   "cell_type": "markdown",
   "metadata": {},
   "source": [
    "## Referencing Cells\n",
    "\n",
    "You can think of the basics as using two sets of brackets for a single cell and using a signle set of brackets for multiple cells. Here's an example"
   ]
  },
  {
   "cell_type": "code",
   "execution_count": 5,
   "metadata": {},
   "outputs": [
    {
     "data": {
      "text/html": [
       "98"
      ],
      "text/latex": [
       "98"
      ],
      "text/markdown": [
       "98"
      ],
      "text/plain": [
       "[1] 98"
      ]
     },
     "metadata": {},
     "output_type": "display_data"
    },
    {
     "data": {
      "text/html": [
       "<table>\n",
       "<caption>A data.frame: 5 × 2</caption>\n",
       "<thead>\n",
       "\t<tr><th></th><th scope=col>Students</th><th scope=col>First.Test</th></tr>\n",
       "\t<tr><th></th><th scope=col>&lt;fct&gt;</th><th scope=col>&lt;dbl&gt;</th></tr>\n",
       "</thead>\n",
       "<tbody>\n",
       "\t<tr><th scope=row>1</th><td>Sai  </td><td>45</td></tr>\n",
       "\t<tr><th scope=row>2</th><td>Jacob</td><td>87</td></tr>\n",
       "\t<tr><th scope=row>3</th><td>Elroy</td><td>80</td></tr>\n",
       "\t<tr><th scope=row>4</th><td>Zoey </td><td>90</td></tr>\n",
       "\t<tr><th scope=row>5</th><td>Bob  </td><td>98</td></tr>\n",
       "</tbody>\n",
       "</table>\n"
      ],
      "text/latex": [
       "A data.frame: 5 × 2\n",
       "\\begin{tabular}{r|ll}\n",
       "  & Students & First.Test\\\\\n",
       "  & <fct> & <dbl>\\\\\n",
       "\\hline\n",
       "\t1 & Sai   & 45\\\\\n",
       "\t2 & Jacob & 87\\\\\n",
       "\t3 & Elroy & 80\\\\\n",
       "\t4 & Zoey  & 90\\\\\n",
       "\t5 & Bob   & 98\\\\\n",
       "\\end{tabular}\n"
      ],
      "text/markdown": [
       "\n",
       "A data.frame: 5 × 2\n",
       "\n",
       "| <!--/--> | Students &lt;fct&gt; | First.Test &lt;dbl&gt; |\n",
       "|---|---|---|\n",
       "| 1 | Sai   | 45 |\n",
       "| 2 | Jacob | 87 |\n",
       "| 3 | Elroy | 80 |\n",
       "| 4 | Zoey  | 90 |\n",
       "| 5 | Bob   | 98 |\n",
       "\n"
      ],
      "text/plain": [
       "  Students First.Test\n",
       "1 Sai      45        \n",
       "2 Jacob    87        \n",
       "3 Elroy    80        \n",
       "4 Zoey     90        \n",
       "5 Bob      98        "
      ]
     },
     "metadata": {},
     "output_type": "display_data"
    },
    {
     "data": {
      "text/html": [
       "<table>\n",
       "<caption>A data.frame: 5 × 2</caption>\n",
       "<thead>\n",
       "\t<tr><th></th><th scope=col>Students</th><th scope=col>First.Test</th></tr>\n",
       "\t<tr><th></th><th scope=col>&lt;fct&gt;</th><th scope=col>&lt;dbl&gt;</th></tr>\n",
       "</thead>\n",
       "<tbody>\n",
       "\t<tr><th scope=row>1</th><td>Sai  </td><td>45</td></tr>\n",
       "\t<tr><th scope=row>2</th><td>Jacob</td><td>87</td></tr>\n",
       "\t<tr><th scope=row>3</th><td>Elroy</td><td>80</td></tr>\n",
       "\t<tr><th scope=row>4</th><td>Zoey </td><td>90</td></tr>\n",
       "\t<tr><th scope=row>5</th><td>Bob  </td><td>98</td></tr>\n",
       "</tbody>\n",
       "</table>\n"
      ],
      "text/latex": [
       "A data.frame: 5 × 2\n",
       "\\begin{tabular}{r|ll}\n",
       "  & Students & First.Test\\\\\n",
       "  & <fct> & <dbl>\\\\\n",
       "\\hline\n",
       "\t1 & Sai   & 45\\\\\n",
       "\t2 & Jacob & 87\\\\\n",
       "\t3 & Elroy & 80\\\\\n",
       "\t4 & Zoey  & 90\\\\\n",
       "\t5 & Bob   & 98\\\\\n",
       "\\end{tabular}\n"
      ],
      "text/markdown": [
       "\n",
       "A data.frame: 5 × 2\n",
       "\n",
       "| <!--/--> | Students &lt;fct&gt; | First.Test &lt;dbl&gt; |\n",
       "|---|---|---|\n",
       "| 1 | Sai   | 45 |\n",
       "| 2 | Jacob | 87 |\n",
       "| 3 | Elroy | 80 |\n",
       "| 4 | Zoey  | 90 |\n",
       "| 5 | Bob   | 98 |\n",
       "\n"
      ],
      "text/plain": [
       "  Students First.Test\n",
       "1 Sai      45        \n",
       "2 Jacob    87        \n",
       "3 Elroy    80        \n",
       "4 Zoey     90        \n",
       "5 Bob      98        "
      ]
     },
     "metadata": {},
     "output_type": "display_data"
    },
    {
     "data": {
      "text/html": [
       "<table>\n",
       "<caption>A data.frame: 10 × 2</caption>\n",
       "<thead>\n",
       "\t<tr><th scope=col>Students</th><th scope=col>First.Test</th></tr>\n",
       "\t<tr><th scope=col>&lt;fct&gt;</th><th scope=col>&lt;dbl&gt;</th></tr>\n",
       "</thead>\n",
       "<tbody>\n",
       "\t<tr><td>Sai     </td><td> 45</td></tr>\n",
       "\t<tr><td>Jacob   </td><td>100</td></tr>\n",
       "\t<tr><td>Elroy   </td><td> 80</td></tr>\n",
       "\t<tr><td>Zoey    </td><td> 90</td></tr>\n",
       "\t<tr><td>Bob     </td><td> 98</td></tr>\n",
       "\t<tr><td>Mike    </td><td> 30</td></tr>\n",
       "\t<tr><td>Andrew  </td><td> 89</td></tr>\n",
       "\t<tr><td>James   </td><td>100</td></tr>\n",
       "\t<tr><td>Oleg    </td><td> 95</td></tr>\n",
       "\t<tr><td>Valentin</td><td>100</td></tr>\n",
       "</tbody>\n",
       "</table>\n"
      ],
      "text/latex": [
       "A data.frame: 10 × 2\n",
       "\\begin{tabular}{ll}\n",
       " Students & First.Test\\\\\n",
       " <fct> & <dbl>\\\\\n",
       "\\hline\n",
       "\t Sai      &  45\\\\\n",
       "\t Jacob    & 100\\\\\n",
       "\t Elroy    &  80\\\\\n",
       "\t Zoey     &  90\\\\\n",
       "\t Bob      &  98\\\\\n",
       "\t Mike     &  30\\\\\n",
       "\t Andrew   &  89\\\\\n",
       "\t James    & 100\\\\\n",
       "\t Oleg     &  95\\\\\n",
       "\t Valentin & 100\\\\\n",
       "\\end{tabular}\n"
      ],
      "text/markdown": [
       "\n",
       "A data.frame: 10 × 2\n",
       "\n",
       "| Students &lt;fct&gt; | First.Test &lt;dbl&gt; |\n",
       "|---|---|\n",
       "| Sai      |  45 |\n",
       "| Jacob    | 100 |\n",
       "| Elroy    |  80 |\n",
       "| Zoey     |  90 |\n",
       "| Bob      |  98 |\n",
       "| Mike     |  30 |\n",
       "| Andrew   |  89 |\n",
       "| James    | 100 |\n",
       "| Oleg     |  95 |\n",
       "| Valentin | 100 |\n",
       "\n"
      ],
      "text/plain": [
       "   Students First.Test\n",
       "1  Sai       45       \n",
       "2  Jacob    100       \n",
       "3  Elroy     80       \n",
       "4  Zoey      90       \n",
       "5  Bob       98       \n",
       "6  Mike      30       \n",
       "7  Andrew    89       \n",
       "8  James    100       \n",
       "9  Oleg      95       \n",
       "10 Valentin 100       "
      ]
     },
     "metadata": {},
     "output_type": "display_data"
    }
   ],
   "source": [
    "vec <- df[[5, 2]] # get cell by [[row,col]] num\n",
    "vec\n",
    "newdf <- df[1:5, 1:2] # get multiple cells in new df\n",
    "newdf\n",
    "\n",
    "df[[2, 'First.Test']] <- 100 # reassign a single cell. Jacob retakes the test and gets a 100\n",
    "\n",
    "newdf\n",
    "df"
   ]
  },
  {
   "cell_type": "markdown",
   "metadata": {},
   "source": [
    "## Referencing Rows\n",
    "Usually you'll want to use the [row, ] function"
   ]
  },
  {
   "cell_type": "code",
   "execution_count": 6,
   "metadata": {},
   "outputs": [
    {
     "data": {
      "text/html": [
       "<table>\n",
       "<caption>A data.frame: 1 × 2</caption>\n",
       "<thead>\n",
       "\t<tr><th></th><th scope=col>Students</th><th scope=col>First.Test</th></tr>\n",
       "\t<tr><th></th><th scope=col>&lt;fct&gt;</th><th scope=col>&lt;dbl&gt;</th></tr>\n",
       "</thead>\n",
       "<tbody>\n",
       "\t<tr><th scope=row>1</th><td>Sai</td><td>45</td></tr>\n",
       "</tbody>\n",
       "</table>\n"
      ],
      "text/latex": [
       "A data.frame: 1 × 2\n",
       "\\begin{tabular}{r|ll}\n",
       "  & Students & First.Test\\\\\n",
       "  & <fct> & <dbl>\\\\\n",
       "\\hline\n",
       "\t1 & Sai & 45\\\\\n",
       "\\end{tabular}\n"
      ],
      "text/markdown": [
       "\n",
       "A data.frame: 1 × 2\n",
       "\n",
       "| <!--/--> | Students &lt;fct&gt; | First.Test &lt;dbl&gt; |\n",
       "|---|---|---|\n",
       "| 1 | Sai | 45 |\n",
       "\n"
      ],
      "text/plain": [
       "  Students First.Test\n",
       "1 Sai      45        "
      ]
     },
     "metadata": {},
     "output_type": "display_data"
    }
   ],
   "source": [
    "rowdf <- df[1,]\n",
    "rowdf"
   ]
  },
  {
   "cell_type": "markdown",
   "metadata": {},
   "source": [
    "If you want to get a row as a vector, use the following notation"
   ]
  },
  {
   "cell_type": "code",
   "execution_count": 7,
   "metadata": {},
   "outputs": [
    {
     "data": {
      "text/html": [
       "<style>\n",
       ".list-inline {list-style: none; margin:0; padding: 0}\n",
       ".list-inline>li {display: inline-block}\n",
       ".list-inline>li:not(:last-child)::after {content: \"\\00b7\"; padding: 0 .5ex}\n",
       "</style>\n",
       "<ol class=list-inline><li>8</li><li>45</li></ol>\n"
      ],
      "text/latex": [
       "\\begin{enumerate*}\n",
       "\\item 8\n",
       "\\item 45\n",
       "\\end{enumerate*}\n"
      ],
      "text/markdown": [
       "1. 8\n",
       "2. 45\n",
       "\n",
       "\n"
      ],
      "text/plain": [
       "[1]  8 45"
      ]
     },
     "metadata": {},
     "output_type": "display_data"
    }
   ],
   "source": [
    "vrow <- as.numeric(as.vector(df[1,]))\n",
    "vrow # Characters are reassigned as a numeric "
   ]
  },
  {
   "cell_type": "markdown",
   "metadata": {},
   "source": [
    "## Referencing Columns\n",
    "Most column references will return a vector\n"
   ]
  },
  {
   "cell_type": "code",
   "execution_count": 8,
   "metadata": {},
   "outputs": [
    {
     "data": {
      "text/html": [
       "<table>\n",
       "<caption>A data.frame: 6 × 11</caption>\n",
       "<thead>\n",
       "\t<tr><th></th><th scope=col>mpg</th><th scope=col>cyl</th><th scope=col>disp</th><th scope=col>hp</th><th scope=col>drat</th><th scope=col>wt</th><th scope=col>qsec</th><th scope=col>vs</th><th scope=col>am</th><th scope=col>gear</th><th scope=col>carb</th></tr>\n",
       "\t<tr><th></th><th scope=col>&lt;dbl&gt;</th><th scope=col>&lt;dbl&gt;</th><th scope=col>&lt;dbl&gt;</th><th scope=col>&lt;dbl&gt;</th><th scope=col>&lt;dbl&gt;</th><th scope=col>&lt;dbl&gt;</th><th scope=col>&lt;dbl&gt;</th><th scope=col>&lt;dbl&gt;</th><th scope=col>&lt;dbl&gt;</th><th scope=col>&lt;dbl&gt;</th><th scope=col>&lt;dbl&gt;</th></tr>\n",
       "</thead>\n",
       "<tbody>\n",
       "\t<tr><th scope=row>Mazda RX4</th><td>21.0</td><td>6</td><td>160</td><td>110</td><td>3.90</td><td>2.620</td><td>16.46</td><td>0</td><td>1</td><td>4</td><td>4</td></tr>\n",
       "\t<tr><th scope=row>Mazda RX4 Wag</th><td>21.0</td><td>6</td><td>160</td><td>110</td><td>3.90</td><td>2.875</td><td>17.02</td><td>0</td><td>1</td><td>4</td><td>4</td></tr>\n",
       "\t<tr><th scope=row>Datsun 710</th><td>22.8</td><td>4</td><td>108</td><td> 93</td><td>3.85</td><td>2.320</td><td>18.61</td><td>1</td><td>1</td><td>4</td><td>1</td></tr>\n",
       "\t<tr><th scope=row>Hornet 4 Drive</th><td>21.4</td><td>6</td><td>258</td><td>110</td><td>3.08</td><td>3.215</td><td>19.44</td><td>1</td><td>0</td><td>3</td><td>1</td></tr>\n",
       "\t<tr><th scope=row>Hornet Sportabout</th><td>18.7</td><td>8</td><td>360</td><td>175</td><td>3.15</td><td>3.440</td><td>17.02</td><td>0</td><td>0</td><td>3</td><td>2</td></tr>\n",
       "\t<tr><th scope=row>Valiant</th><td>18.1</td><td>6</td><td>225</td><td>105</td><td>2.76</td><td>3.460</td><td>20.22</td><td>1</td><td>0</td><td>3</td><td>1</td></tr>\n",
       "</tbody>\n",
       "</table>\n"
      ],
      "text/latex": [
       "A data.frame: 6 × 11\n",
       "\\begin{tabular}{r|lllllllllll}\n",
       "  & mpg & cyl & disp & hp & drat & wt & qsec & vs & am & gear & carb\\\\\n",
       "  & <dbl> & <dbl> & <dbl> & <dbl> & <dbl> & <dbl> & <dbl> & <dbl> & <dbl> & <dbl> & <dbl>\\\\\n",
       "\\hline\n",
       "\tMazda RX4 & 21.0 & 6 & 160 & 110 & 3.90 & 2.620 & 16.46 & 0 & 1 & 4 & 4\\\\\n",
       "\tMazda RX4 Wag & 21.0 & 6 & 160 & 110 & 3.90 & 2.875 & 17.02 & 0 & 1 & 4 & 4\\\\\n",
       "\tDatsun 710 & 22.8 & 4 & 108 &  93 & 3.85 & 2.320 & 18.61 & 1 & 1 & 4 & 1\\\\\n",
       "\tHornet 4 Drive & 21.4 & 6 & 258 & 110 & 3.08 & 3.215 & 19.44 & 1 & 0 & 3 & 1\\\\\n",
       "\tHornet Sportabout & 18.7 & 8 & 360 & 175 & 3.15 & 3.440 & 17.02 & 0 & 0 & 3 & 2\\\\\n",
       "\tValiant & 18.1 & 6 & 225 & 105 & 2.76 & 3.460 & 20.22 & 1 & 0 & 3 & 1\\\\\n",
       "\\end{tabular}\n"
      ],
      "text/markdown": [
       "\n",
       "A data.frame: 6 × 11\n",
       "\n",
       "| <!--/--> | mpg &lt;dbl&gt; | cyl &lt;dbl&gt; | disp &lt;dbl&gt; | hp &lt;dbl&gt; | drat &lt;dbl&gt; | wt &lt;dbl&gt; | qsec &lt;dbl&gt; | vs &lt;dbl&gt; | am &lt;dbl&gt; | gear &lt;dbl&gt; | carb &lt;dbl&gt; |\n",
       "|---|---|---|---|---|---|---|---|---|---|---|---|\n",
       "| Mazda RX4 | 21.0 | 6 | 160 | 110 | 3.90 | 2.620 | 16.46 | 0 | 1 | 4 | 4 |\n",
       "| Mazda RX4 Wag | 21.0 | 6 | 160 | 110 | 3.90 | 2.875 | 17.02 | 0 | 1 | 4 | 4 |\n",
       "| Datsun 710 | 22.8 | 4 | 108 |  93 | 3.85 | 2.320 | 18.61 | 1 | 1 | 4 | 1 |\n",
       "| Hornet 4 Drive | 21.4 | 6 | 258 | 110 | 3.08 | 3.215 | 19.44 | 1 | 0 | 3 | 1 |\n",
       "| Hornet Sportabout | 18.7 | 8 | 360 | 175 | 3.15 | 3.440 | 17.02 | 0 | 0 | 3 | 2 |\n",
       "| Valiant | 18.1 | 6 | 225 | 105 | 2.76 | 3.460 | 20.22 | 1 | 0 | 3 | 1 |\n",
       "\n"
      ],
      "text/plain": [
       "                  mpg  cyl disp hp  drat wt    qsec  vs am gear carb\n",
       "Mazda RX4         21.0 6   160  110 3.90 2.620 16.46 0  1  4    4   \n",
       "Mazda RX4 Wag     21.0 6   160  110 3.90 2.875 17.02 0  1  4    4   \n",
       "Datsun 710        22.8 4   108   93 3.85 2.320 18.61 1  1  4    1   \n",
       "Hornet 4 Drive    21.4 6   258  110 3.08 3.215 19.44 1  0  3    1   \n",
       "Hornet Sportabout 18.7 8   360  175 3.15 3.440 17.02 0  0  3    2   \n",
       "Valiant           18.1 6   225  105 2.76 3.460 20.22 1  0  3    1   "
      ]
     },
     "metadata": {},
     "output_type": "display_data"
    }
   ],
   "source": [
    "cars <- mtcars\n",
    "head(cars)"
   ]
  },
  {
   "cell_type": "code",
   "execution_count": 9,
   "metadata": {},
   "outputs": [
    {
     "data": {
      "text/html": [
       "<style>\n",
       ".list-inline {list-style: none; margin:0; padding: 0}\n",
       ".list-inline>li {display: inline-block}\n",
       ".list-inline>li:not(:last-child)::after {content: \"\\00b7\"; padding: 0 .5ex}\n",
       "</style>\n",
       "<ol class=list-inline><li>21</li><li>21</li><li>22.8</li><li>21.4</li><li>18.7</li><li>18.1</li><li>14.3</li><li>24.4</li><li>22.8</li><li>19.2</li><li>17.8</li><li>16.4</li><li>17.3</li><li>15.2</li><li>10.4</li><li>10.4</li><li>14.7</li><li>32.4</li><li>30.4</li><li>33.9</li><li>21.5</li><li>15.5</li><li>15.2</li><li>13.3</li><li>19.2</li><li>27.3</li><li>26</li><li>30.4</li><li>15.8</li><li>19.7</li><li>15</li><li>21.4</li></ol>\n"
      ],
      "text/latex": [
       "\\begin{enumerate*}\n",
       "\\item 21\n",
       "\\item 21\n",
       "\\item 22.8\n",
       "\\item 21.4\n",
       "\\item 18.7\n",
       "\\item 18.1\n",
       "\\item 14.3\n",
       "\\item 24.4\n",
       "\\item 22.8\n",
       "\\item 19.2\n",
       "\\item 17.8\n",
       "\\item 16.4\n",
       "\\item 17.3\n",
       "\\item 15.2\n",
       "\\item 10.4\n",
       "\\item 10.4\n",
       "\\item 14.7\n",
       "\\item 32.4\n",
       "\\item 30.4\n",
       "\\item 33.9\n",
       "\\item 21.5\n",
       "\\item 15.5\n",
       "\\item 15.2\n",
       "\\item 13.3\n",
       "\\item 19.2\n",
       "\\item 27.3\n",
       "\\item 26\n",
       "\\item 30.4\n",
       "\\item 15.8\n",
       "\\item 19.7\n",
       "\\item 15\n",
       "\\item 21.4\n",
       "\\end{enumerate*}\n"
      ],
      "text/markdown": [
       "1. 21\n",
       "2. 21\n",
       "3. 22.8\n",
       "4. 21.4\n",
       "5. 18.7\n",
       "6. 18.1\n",
       "7. 14.3\n",
       "8. 24.4\n",
       "9. 22.8\n",
       "10. 19.2\n",
       "11. 17.8\n",
       "12. 16.4\n",
       "13. 17.3\n",
       "14. 15.2\n",
       "15. 10.4\n",
       "16. 10.4\n",
       "17. 14.7\n",
       "18. 32.4\n",
       "19. 30.4\n",
       "20. 33.9\n",
       "21. 21.5\n",
       "22. 15.5\n",
       "23. 15.2\n",
       "24. 13.3\n",
       "25. 19.2\n",
       "26. 27.3\n",
       "27. 26\n",
       "28. 30.4\n",
       "29. 15.8\n",
       "30. 19.7\n",
       "31. 15\n",
       "32. 21.4\n",
       "\n",
       "\n"
      ],
      "text/plain": [
       " [1] 21.0 21.0 22.8 21.4 18.7 18.1 14.3 24.4 22.8 19.2 17.8 16.4 17.3 15.2 10.4\n",
       "[16] 10.4 14.7 32.4 30.4 33.9 21.5 15.5 15.2 13.3 19.2 27.3 26.0 30.4 15.8 19.7\n",
       "[31] 15.0 21.4"
      ]
     },
     "metadata": {},
     "output_type": "display_data"
    },
    {
     "data": {
      "text/html": [
       "<style>\n",
       ".list-inline {list-style: none; margin:0; padding: 0}\n",
       ".list-inline>li {display: inline-block}\n",
       ".list-inline>li:not(:last-child)::after {content: \"\\00b7\"; padding: 0 .5ex}\n",
       "</style>\n",
       "<ol class=list-inline><li>21</li><li>21</li><li>22.8</li><li>21.4</li><li>18.7</li><li>18.1</li><li>14.3</li><li>24.4</li><li>22.8</li><li>19.2</li><li>17.8</li><li>16.4</li><li>17.3</li><li>15.2</li><li>10.4</li><li>10.4</li><li>14.7</li><li>32.4</li><li>30.4</li><li>33.9</li><li>21.5</li><li>15.5</li><li>15.2</li><li>13.3</li><li>19.2</li><li>27.3</li><li>26</li><li>30.4</li><li>15.8</li><li>19.7</li><li>15</li><li>21.4</li></ol>\n"
      ],
      "text/latex": [
       "\\begin{enumerate*}\n",
       "\\item 21\n",
       "\\item 21\n",
       "\\item 22.8\n",
       "\\item 21.4\n",
       "\\item 18.7\n",
       "\\item 18.1\n",
       "\\item 14.3\n",
       "\\item 24.4\n",
       "\\item 22.8\n",
       "\\item 19.2\n",
       "\\item 17.8\n",
       "\\item 16.4\n",
       "\\item 17.3\n",
       "\\item 15.2\n",
       "\\item 10.4\n",
       "\\item 10.4\n",
       "\\item 14.7\n",
       "\\item 32.4\n",
       "\\item 30.4\n",
       "\\item 33.9\n",
       "\\item 21.5\n",
       "\\item 15.5\n",
       "\\item 15.2\n",
       "\\item 13.3\n",
       "\\item 19.2\n",
       "\\item 27.3\n",
       "\\item 26\n",
       "\\item 30.4\n",
       "\\item 15.8\n",
       "\\item 19.7\n",
       "\\item 15\n",
       "\\item 21.4\n",
       "\\end{enumerate*}\n"
      ],
      "text/markdown": [
       "1. 21\n",
       "2. 21\n",
       "3. 22.8\n",
       "4. 21.4\n",
       "5. 18.7\n",
       "6. 18.1\n",
       "7. 14.3\n",
       "8. 24.4\n",
       "9. 22.8\n",
       "10. 19.2\n",
       "11. 17.8\n",
       "12. 16.4\n",
       "13. 17.3\n",
       "14. 15.2\n",
       "15. 10.4\n",
       "16. 10.4\n",
       "17. 14.7\n",
       "18. 32.4\n",
       "19. 30.4\n",
       "20. 33.9\n",
       "21. 21.5\n",
       "22. 15.5\n",
       "23. 15.2\n",
       "24. 13.3\n",
       "25. 19.2\n",
       "26. 27.3\n",
       "27. 26\n",
       "28. 30.4\n",
       "29. 15.8\n",
       "30. 19.7\n",
       "31. 15\n",
       "32. 21.4\n",
       "\n",
       "\n"
      ],
      "text/plain": [
       " [1] 21.0 21.0 22.8 21.4 18.7 18.1 14.3 24.4 22.8 19.2 17.8 16.4 17.3 15.2 10.4\n",
       "[16] 10.4 14.7 32.4 30.4 33.9 21.5 15.5 15.2 13.3 19.2 27.3 26.0 30.4 15.8 19.7\n",
       "[31] 15.0 21.4"
      ]
     },
     "metadata": {},
     "output_type": "display_data"
    },
    {
     "data": {
      "text/html": [
       "<style>\n",
       ".list-inline {list-style: none; margin:0; padding: 0}\n",
       ".list-inline>li {display: inline-block}\n",
       ".list-inline>li:not(:last-child)::after {content: \"\\00b7\"; padding: 0 .5ex}\n",
       "</style>\n",
       "<ol class=list-inline><li>21</li><li>21</li><li>22.8</li><li>21.4</li><li>18.7</li><li>18.1</li><li>14.3</li><li>24.4</li><li>22.8</li><li>19.2</li><li>17.8</li><li>16.4</li><li>17.3</li><li>15.2</li><li>10.4</li><li>10.4</li><li>14.7</li><li>32.4</li><li>30.4</li><li>33.9</li><li>21.5</li><li>15.5</li><li>15.2</li><li>13.3</li><li>19.2</li><li>27.3</li><li>26</li><li>30.4</li><li>15.8</li><li>19.7</li><li>15</li><li>21.4</li></ol>\n"
      ],
      "text/latex": [
       "\\begin{enumerate*}\n",
       "\\item 21\n",
       "\\item 21\n",
       "\\item 22.8\n",
       "\\item 21.4\n",
       "\\item 18.7\n",
       "\\item 18.1\n",
       "\\item 14.3\n",
       "\\item 24.4\n",
       "\\item 22.8\n",
       "\\item 19.2\n",
       "\\item 17.8\n",
       "\\item 16.4\n",
       "\\item 17.3\n",
       "\\item 15.2\n",
       "\\item 10.4\n",
       "\\item 10.4\n",
       "\\item 14.7\n",
       "\\item 32.4\n",
       "\\item 30.4\n",
       "\\item 33.9\n",
       "\\item 21.5\n",
       "\\item 15.5\n",
       "\\item 15.2\n",
       "\\item 13.3\n",
       "\\item 19.2\n",
       "\\item 27.3\n",
       "\\item 26\n",
       "\\item 30.4\n",
       "\\item 15.8\n",
       "\\item 19.7\n",
       "\\item 15\n",
       "\\item 21.4\n",
       "\\end{enumerate*}\n"
      ],
      "text/markdown": [
       "1. 21\n",
       "2. 21\n",
       "3. 22.8\n",
       "4. 21.4\n",
       "5. 18.7\n",
       "6. 18.1\n",
       "7. 14.3\n",
       "8. 24.4\n",
       "9. 22.8\n",
       "10. 19.2\n",
       "11. 17.8\n",
       "12. 16.4\n",
       "13. 17.3\n",
       "14. 15.2\n",
       "15. 10.4\n",
       "16. 10.4\n",
       "17. 14.7\n",
       "18. 32.4\n",
       "19. 30.4\n",
       "20. 33.9\n",
       "21. 21.5\n",
       "22. 15.5\n",
       "23. 15.2\n",
       "24. 13.3\n",
       "25. 19.2\n",
       "26. 27.3\n",
       "27. 26\n",
       "28. 30.4\n",
       "29. 15.8\n",
       "30. 19.7\n",
       "31. 15\n",
       "32. 21.4\n",
       "\n",
       "\n"
      ],
      "text/plain": [
       " [1] 21.0 21.0 22.8 21.4 18.7 18.1 14.3 24.4 22.8 19.2 17.8 16.4 17.3 15.2 10.4\n",
       "[16] 10.4 14.7 32.4 30.4 33.9 21.5 15.5 15.2 13.3 19.2 27.3 26.0 30.4 15.8 19.7\n",
       "[31] 15.0 21.4"
      ]
     },
     "metadata": {},
     "output_type": "display_data"
    },
    {
     "data": {
      "text/html": [
       "<style>\n",
       ".list-inline {list-style: none; margin:0; padding: 0}\n",
       ".list-inline>li {display: inline-block}\n",
       ".list-inline>li:not(:last-child)::after {content: \"\\00b7\"; padding: 0 .5ex}\n",
       "</style>\n",
       "<ol class=list-inline><li>21</li><li>21</li><li>22.8</li><li>21.4</li><li>18.7</li><li>18.1</li><li>14.3</li><li>24.4</li><li>22.8</li><li>19.2</li><li>17.8</li><li>16.4</li><li>17.3</li><li>15.2</li><li>10.4</li><li>10.4</li><li>14.7</li><li>32.4</li><li>30.4</li><li>33.9</li><li>21.5</li><li>15.5</li><li>15.2</li><li>13.3</li><li>19.2</li><li>27.3</li><li>26</li><li>30.4</li><li>15.8</li><li>19.7</li><li>15</li><li>21.4</li></ol>\n"
      ],
      "text/latex": [
       "\\begin{enumerate*}\n",
       "\\item 21\n",
       "\\item 21\n",
       "\\item 22.8\n",
       "\\item 21.4\n",
       "\\item 18.7\n",
       "\\item 18.1\n",
       "\\item 14.3\n",
       "\\item 24.4\n",
       "\\item 22.8\n",
       "\\item 19.2\n",
       "\\item 17.8\n",
       "\\item 16.4\n",
       "\\item 17.3\n",
       "\\item 15.2\n",
       "\\item 10.4\n",
       "\\item 10.4\n",
       "\\item 14.7\n",
       "\\item 32.4\n",
       "\\item 30.4\n",
       "\\item 33.9\n",
       "\\item 21.5\n",
       "\\item 15.5\n",
       "\\item 15.2\n",
       "\\item 13.3\n",
       "\\item 19.2\n",
       "\\item 27.3\n",
       "\\item 26\n",
       "\\item 30.4\n",
       "\\item 15.8\n",
       "\\item 19.7\n",
       "\\item 15\n",
       "\\item 21.4\n",
       "\\end{enumerate*}\n"
      ],
      "text/markdown": [
       "1. 21\n",
       "2. 21\n",
       "3. 22.8\n",
       "4. 21.4\n",
       "5. 18.7\n",
       "6. 18.1\n",
       "7. 14.3\n",
       "8. 24.4\n",
       "9. 22.8\n",
       "10. 19.2\n",
       "11. 17.8\n",
       "12. 16.4\n",
       "13. 17.3\n",
       "14. 15.2\n",
       "15. 10.4\n",
       "16. 10.4\n",
       "17. 14.7\n",
       "18. 32.4\n",
       "19. 30.4\n",
       "20. 33.9\n",
       "21. 21.5\n",
       "22. 15.5\n",
       "23. 15.2\n",
       "24. 13.3\n",
       "25. 19.2\n",
       "26. 27.3\n",
       "27. 26\n",
       "28. 30.4\n",
       "29. 15.8\n",
       "30. 19.7\n",
       "31. 15\n",
       "32. 21.4\n",
       "\n",
       "\n"
      ],
      "text/plain": [
       " [1] 21.0 21.0 22.8 21.4 18.7 18.1 14.3 24.4 22.8 19.2 17.8 16.4 17.3 15.2 10.4\n",
       "[16] 10.4 14.7 32.4 30.4 33.9 21.5 15.5 15.2 13.3 19.2 27.3 26.0 30.4 15.8 19.7\n",
       "[31] 15.0 21.4"
      ]
     },
     "metadata": {},
     "output_type": "display_data"
    }
   ],
   "source": [
    "colv1 <- cars$mpg # returns a vector\n",
    "colv1\n",
    "\n",
    "colv2 <- cars[, 'mpg'] # returns vector\n",
    "colv2\n",
    "\n",
    "colv3<- cars[, 1] # a is int or string\n",
    "colv3\n",
    "\n",
    "colv4 <- cars[['mpg']] # returns a vector\n",
    "colv4"
   ]
  },
  {
   "cell_type": "code",
   "execution_count": 10,
   "metadata": {},
   "outputs": [
    {
     "data": {
      "text/html": [
       "<table>\n",
       "<caption>A data.frame: 6 × 1</caption>\n",
       "<thead>\n",
       "\t<tr><th></th><th scope=col>mpg</th></tr>\n",
       "\t<tr><th></th><th scope=col>&lt;dbl&gt;</th></tr>\n",
       "</thead>\n",
       "<tbody>\n",
       "\t<tr><th scope=row>Mazda RX4</th><td>21.0</td></tr>\n",
       "\t<tr><th scope=row>Mazda RX4 Wag</th><td>21.0</td></tr>\n",
       "\t<tr><th scope=row>Datsun 710</th><td>22.8</td></tr>\n",
       "\t<tr><th scope=row>Hornet 4 Drive</th><td>21.4</td></tr>\n",
       "\t<tr><th scope=row>Hornet Sportabout</th><td>18.7</td></tr>\n",
       "\t<tr><th scope=row>Valiant</th><td>18.1</td></tr>\n",
       "</tbody>\n",
       "</table>\n"
      ],
      "text/latex": [
       "A data.frame: 6 × 1\n",
       "\\begin{tabular}{r|l}\n",
       "  & mpg\\\\\n",
       "  & <dbl>\\\\\n",
       "\\hline\n",
       "\tMazda RX4 & 21.0\\\\\n",
       "\tMazda RX4 Wag & 21.0\\\\\n",
       "\tDatsun 710 & 22.8\\\\\n",
       "\tHornet 4 Drive & 21.4\\\\\n",
       "\tHornet Sportabout & 18.7\\\\\n",
       "\tValiant & 18.1\\\\\n",
       "\\end{tabular}\n"
      ],
      "text/markdown": [
       "\n",
       "A data.frame: 6 × 1\n",
       "\n",
       "| <!--/--> | mpg &lt;dbl&gt; |\n",
       "|---|---|\n",
       "| Mazda RX4 | 21.0 |\n",
       "| Mazda RX4 Wag | 21.0 |\n",
       "| Datsun 710 | 22.8 |\n",
       "| Hornet 4 Drive | 21.4 |\n",
       "| Hornet Sportabout | 18.7 |\n",
       "| Valiant | 18.1 |\n",
       "\n"
      ],
      "text/plain": [
       "                  mpg \n",
       "Mazda RX4         21.0\n",
       "Mazda RX4 Wag     21.0\n",
       "Datsun 710        22.8\n",
       "Hornet 4 Drive    21.4\n",
       "Hornet Sportabout 18.7\n",
       "Valiant           18.1"
      ]
     },
     "metadata": {},
     "output_type": "display_data"
    },
    {
     "data": {
      "text/html": [
       "<table>\n",
       "<caption>A data.frame: 6 × 1</caption>\n",
       "<thead>\n",
       "\t<tr><th></th><th scope=col>mpg</th></tr>\n",
       "\t<tr><th></th><th scope=col>&lt;dbl&gt;</th></tr>\n",
       "</thead>\n",
       "<tbody>\n",
       "\t<tr><th scope=row>Mazda RX4</th><td>21.0</td></tr>\n",
       "\t<tr><th scope=row>Mazda RX4 Wag</th><td>21.0</td></tr>\n",
       "\t<tr><th scope=row>Datsun 710</th><td>22.8</td></tr>\n",
       "\t<tr><th scope=row>Hornet 4 Drive</th><td>21.4</td></tr>\n",
       "\t<tr><th scope=row>Hornet Sportabout</th><td>18.7</td></tr>\n",
       "\t<tr><th scope=row>Valiant</th><td>18.1</td></tr>\n",
       "</tbody>\n",
       "</table>\n"
      ],
      "text/latex": [
       "A data.frame: 6 × 1\n",
       "\\begin{tabular}{r|l}\n",
       "  & mpg\\\\\n",
       "  & <dbl>\\\\\n",
       "\\hline\n",
       "\tMazda RX4 & 21.0\\\\\n",
       "\tMazda RX4 Wag & 21.0\\\\\n",
       "\tDatsun 710 & 22.8\\\\\n",
       "\tHornet 4 Drive & 21.4\\\\\n",
       "\tHornet Sportabout & 18.7\\\\\n",
       "\tValiant & 18.1\\\\\n",
       "\\end{tabular}\n"
      ],
      "text/markdown": [
       "\n",
       "A data.frame: 6 × 1\n",
       "\n",
       "| <!--/--> | mpg &lt;dbl&gt; |\n",
       "|---|---|\n",
       "| Mazda RX4 | 21.0 |\n",
       "| Mazda RX4 Wag | 21.0 |\n",
       "| Datsun 710 | 22.8 |\n",
       "| Hornet 4 Drive | 21.4 |\n",
       "| Hornet Sportabout | 18.7 |\n",
       "| Valiant | 18.1 |\n",
       "\n"
      ],
      "text/plain": [
       "                  mpg \n",
       "Mazda RX4         21.0\n",
       "Mazda RX4 Wag     21.0\n",
       "Datsun 710        22.8\n",
       "Hornet 4 Drive    21.4\n",
       "Hornet Sportabout 18.7\n",
       "Valiant           18.1"
      ]
     },
     "metadata": {},
     "output_type": "display_data"
    }
   ],
   "source": [
    "# Ways of Returning Data Frames\n",
    "mpgdf <- cars['mpg'] # returns 1 col df\n",
    "head(mpgdf)\n",
    "\n",
    "mpgdf2 <- cars[1] # returns 1 col df\n",
    "head(mpgdf2)"
   ]
  },
  {
   "cell_type": "markdown",
   "metadata": {},
   "source": [
    "## Adding Rows"
   ]
  },
  {
   "cell_type": "code",
   "execution_count": 11,
   "metadata": {},
   "outputs": [
    {
     "data": {
      "text/html": [
       "<table>\n",
       "<caption>A data.frame: 1 × 2</caption>\n",
       "<thead>\n",
       "\t<tr><th scope=col>Students</th><th scope=col>First.Test</th></tr>\n",
       "\t<tr><th scope=col>&lt;fct&gt;</th><th scope=col>&lt;dbl&gt;</th></tr>\n",
       "</thead>\n",
       "<tbody>\n",
       "\t<tr><td>Ryan</td><td>80</td></tr>\n",
       "</tbody>\n",
       "</table>\n"
      ],
      "text/latex": [
       "A data.frame: 1 × 2\n",
       "\\begin{tabular}{ll}\n",
       " Students & First.Test\\\\\n",
       " <fct> & <dbl>\\\\\n",
       "\\hline\n",
       "\t Ryan & 80\\\\\n",
       "\\end{tabular}\n"
      ],
      "text/markdown": [
       "\n",
       "A data.frame: 1 × 2\n",
       "\n",
       "| Students &lt;fct&gt; | First.Test &lt;dbl&gt; |\n",
       "|---|---|\n",
       "| Ryan | 80 |\n",
       "\n"
      ],
      "text/plain": [
       "  Students First.Test\n",
       "1 Ryan     80        "
      ]
     },
     "metadata": {},
     "output_type": "display_data"
    }
   ],
   "source": [
    "# Both arguments are DFs\n",
    "Ryans.Test <- data.frame(\"Students\" = \"Ryan\", \"First.Test\" = 80)\n",
    "Ryans.Test"
   ]
  },
  {
   "cell_type": "markdown",
   "metadata": {
    "scrolled": true
   },
   "source": [
    "Use rbind to bind the new row!"
   ]
  },
  {
   "cell_type": "code",
   "execution_count": 12,
   "metadata": {},
   "outputs": [
    {
     "data": {
      "text/html": [
       "<table>\n",
       "<caption>A data.frame: 11 × 2</caption>\n",
       "<thead>\n",
       "\t<tr><th scope=col>Students</th><th scope=col>First.Test</th></tr>\n",
       "\t<tr><th scope=col>&lt;fct&gt;</th><th scope=col>&lt;dbl&gt;</th></tr>\n",
       "</thead>\n",
       "<tbody>\n",
       "\t<tr><td>Sai     </td><td> 45</td></tr>\n",
       "\t<tr><td>Jacob   </td><td>100</td></tr>\n",
       "\t<tr><td>Elroy   </td><td> 80</td></tr>\n",
       "\t<tr><td>Zoey    </td><td> 90</td></tr>\n",
       "\t<tr><td>Bob     </td><td> 98</td></tr>\n",
       "\t<tr><td>Mike    </td><td> 30</td></tr>\n",
       "\t<tr><td>Andrew  </td><td> 89</td></tr>\n",
       "\t<tr><td>James   </td><td>100</td></tr>\n",
       "\t<tr><td>Oleg    </td><td> 95</td></tr>\n",
       "\t<tr><td>Valentin</td><td>100</td></tr>\n",
       "\t<tr><td>Ryan    </td><td> 80</td></tr>\n",
       "</tbody>\n",
       "</table>\n"
      ],
      "text/latex": [
       "A data.frame: 11 × 2\n",
       "\\begin{tabular}{ll}\n",
       " Students & First.Test\\\\\n",
       " <fct> & <dbl>\\\\\n",
       "\\hline\n",
       "\t Sai      &  45\\\\\n",
       "\t Jacob    & 100\\\\\n",
       "\t Elroy    &  80\\\\\n",
       "\t Zoey     &  90\\\\\n",
       "\t Bob      &  98\\\\\n",
       "\t Mike     &  30\\\\\n",
       "\t Andrew   &  89\\\\\n",
       "\t James    & 100\\\\\n",
       "\t Oleg     &  95\\\\\n",
       "\t Valentin & 100\\\\\n",
       "\t Ryan     &  80\\\\\n",
       "\\end{tabular}\n"
      ],
      "text/markdown": [
       "\n",
       "A data.frame: 11 × 2\n",
       "\n",
       "| Students &lt;fct&gt; | First.Test &lt;dbl&gt; |\n",
       "|---|---|\n",
       "| Sai      |  45 |\n",
       "| Jacob    | 100 |\n",
       "| Elroy    |  80 |\n",
       "| Zoey     |  90 |\n",
       "| Bob      |  98 |\n",
       "| Mike     |  30 |\n",
       "| Andrew   |  89 |\n",
       "| James    | 100 |\n",
       "| Oleg     |  95 |\n",
       "| Valentin | 100 |\n",
       "| Ryan     |  80 |\n",
       "\n"
      ],
      "text/plain": [
       "   Students First.Test\n",
       "1  Sai       45       \n",
       "2  Jacob    100       \n",
       "3  Elroy     80       \n",
       "4  Zoey      90       \n",
       "5  Bob       98       \n",
       "6  Mike      30       \n",
       "7  Andrew    89       \n",
       "8  James    100       \n",
       "9  Oleg      95       \n",
       "10 Valentin 100       \n",
       "11 Ryan      80       "
      ]
     },
     "metadata": {},
     "output_type": "display_data"
    }
   ],
   "source": [
    "dfnew <- rbind(df,Ryans.Test)\n",
    "dfnew"
   ]
  },
  {
   "cell_type": "markdown",
   "metadata": {},
   "source": [
    "## Adding Columns"
   ]
  },
  {
   "cell_type": "code",
   "execution_count": 13,
   "metadata": {},
   "outputs": [
    {
     "data": {
      "text/html": [
       "<table>\n",
       "<caption>A data.frame: 11 × 3</caption>\n",
       "<thead>\n",
       "\t<tr><th scope=col>Students</th><th scope=col>First.Test</th><th scope=col>Second.Test</th></tr>\n",
       "\t<tr><th scope=col>&lt;fct&gt;</th><th scope=col>&lt;dbl&gt;</th><th scope=col>&lt;lgl&gt;</th></tr>\n",
       "</thead>\n",
       "<tbody>\n",
       "\t<tr><td>Sai     </td><td> 45</td><td>NA</td></tr>\n",
       "\t<tr><td>Jacob   </td><td>100</td><td>NA</td></tr>\n",
       "\t<tr><td>Elroy   </td><td> 80</td><td>NA</td></tr>\n",
       "\t<tr><td>Zoey    </td><td> 90</td><td>NA</td></tr>\n",
       "\t<tr><td>Bob     </td><td> 98</td><td>NA</td></tr>\n",
       "\t<tr><td>Mike    </td><td> 30</td><td>NA</td></tr>\n",
       "\t<tr><td>Andrew  </td><td> 89</td><td>NA</td></tr>\n",
       "\t<tr><td>James   </td><td>100</td><td>NA</td></tr>\n",
       "\t<tr><td>Oleg    </td><td> 95</td><td>NA</td></tr>\n",
       "\t<tr><td>Valentin</td><td>100</td><td>NA</td></tr>\n",
       "\t<tr><td>Ryan    </td><td> 80</td><td>NA</td></tr>\n",
       "</tbody>\n",
       "</table>\n"
      ],
      "text/latex": [
       "A data.frame: 11 × 3\n",
       "\\begin{tabular}{lll}\n",
       " Students & First.Test & Second.Test\\\\\n",
       " <fct> & <dbl> & <lgl>\\\\\n",
       "\\hline\n",
       "\t Sai      &  45 & NA\\\\\n",
       "\t Jacob    & 100 & NA\\\\\n",
       "\t Elroy    &  80 & NA\\\\\n",
       "\t Zoey     &  90 & NA\\\\\n",
       "\t Bob      &  98 & NA\\\\\n",
       "\t Mike     &  30 & NA\\\\\n",
       "\t Andrew   &  89 & NA\\\\\n",
       "\t James    & 100 & NA\\\\\n",
       "\t Oleg     &  95 & NA\\\\\n",
       "\t Valentin & 100 & NA\\\\\n",
       "\t Ryan     &  80 & NA\\\\\n",
       "\\end{tabular}\n"
      ],
      "text/markdown": [
       "\n",
       "A data.frame: 11 × 3\n",
       "\n",
       "| Students &lt;fct&gt; | First.Test &lt;dbl&gt; | Second.Test &lt;lgl&gt; |\n",
       "|---|---|---|\n",
       "| Sai      |  45 | NA |\n",
       "| Jacob    | 100 | NA |\n",
       "| Elroy    |  80 | NA |\n",
       "| Zoey     |  90 | NA |\n",
       "| Bob      |  98 | NA |\n",
       "| Mike     |  30 | NA |\n",
       "| Andrew   |  89 | NA |\n",
       "| James    | 100 | NA |\n",
       "| Oleg     |  95 | NA |\n",
       "| Valentin | 100 | NA |\n",
       "| Ryan     |  80 | NA |\n",
       "\n"
      ],
      "text/plain": [
       "   Students First.Test Second.Test\n",
       "1  Sai       45        NA         \n",
       "2  Jacob    100        NA         \n",
       "3  Elroy     80        NA         \n",
       "4  Zoey      90        NA         \n",
       "5  Bob       98        NA         \n",
       "6  Mike      30        NA         \n",
       "7  Andrew    89        NA         \n",
       "8  James    100        NA         \n",
       "9  Oleg      95        NA         \n",
       "10 Valentin 100        NA         \n",
       "11 Ryan      80        NA         "
      ]
     },
     "metadata": {},
     "output_type": "display_data"
    }
   ],
   "source": [
    "dfnew$Second.Test <- rep(NA, nrow(dfnew)) # NA column\n",
    "dfnew"
   ]
  },
  {
   "cell_type": "code",
   "execution_count": 14,
   "metadata": {},
   "outputs": [
    {
     "data": {
      "text/html": [
       "<table>\n",
       "<caption>A data.frame: 11 × 3</caption>\n",
       "<thead>\n",
       "\t<tr><th scope=col>Students</th><th scope=col>First.Test</th><th scope=col>Second.Test</th></tr>\n",
       "\t<tr><th scope=col>&lt;fct&gt;</th><th scope=col>&lt;dbl&gt;</th><th scope=col>&lt;dbl&gt;</th></tr>\n",
       "</thead>\n",
       "<tbody>\n",
       "\t<tr><td>Sai     </td><td> 45</td><td>40</td></tr>\n",
       "\t<tr><td>Jacob   </td><td>100</td><td>95</td></tr>\n",
       "\t<tr><td>Elroy   </td><td> 80</td><td>75</td></tr>\n",
       "\t<tr><td>Zoey    </td><td> 90</td><td>85</td></tr>\n",
       "\t<tr><td>Bob     </td><td> 98</td><td>93</td></tr>\n",
       "\t<tr><td>Mike    </td><td> 30</td><td>25</td></tr>\n",
       "\t<tr><td>Andrew  </td><td> 89</td><td>84</td></tr>\n",
       "\t<tr><td>James   </td><td>100</td><td>95</td></tr>\n",
       "\t<tr><td>Oleg    </td><td> 95</td><td>90</td></tr>\n",
       "\t<tr><td>Valentin</td><td>100</td><td>95</td></tr>\n",
       "\t<tr><td>Ryan    </td><td> 80</td><td>75</td></tr>\n",
       "</tbody>\n",
       "</table>\n"
      ],
      "text/latex": [
       "A data.frame: 11 × 3\n",
       "\\begin{tabular}{lll}\n",
       " Students & First.Test & Second.Test\\\\\n",
       " <fct> & <dbl> & <dbl>\\\\\n",
       "\\hline\n",
       "\t Sai      &  45 & 40\\\\\n",
       "\t Jacob    & 100 & 95\\\\\n",
       "\t Elroy    &  80 & 75\\\\\n",
       "\t Zoey     &  90 & 85\\\\\n",
       "\t Bob      &  98 & 93\\\\\n",
       "\t Mike     &  30 & 25\\\\\n",
       "\t Andrew   &  89 & 84\\\\\n",
       "\t James    & 100 & 95\\\\\n",
       "\t Oleg     &  95 & 90\\\\\n",
       "\t Valentin & 100 & 95\\\\\n",
       "\t Ryan     &  80 & 75\\\\\n",
       "\\end{tabular}\n"
      ],
      "text/markdown": [
       "\n",
       "A data.frame: 11 × 3\n",
       "\n",
       "| Students &lt;fct&gt; | First.Test &lt;dbl&gt; | Second.Test &lt;dbl&gt; |\n",
       "|---|---|---|\n",
       "| Sai      |  45 | 40 |\n",
       "| Jacob    | 100 | 95 |\n",
       "| Elroy    |  80 | 75 |\n",
       "| Zoey     |  90 | 85 |\n",
       "| Bob      |  98 | 93 |\n",
       "| Mike     |  30 | 25 |\n",
       "| Andrew   |  89 | 84 |\n",
       "| James    | 100 | 95 |\n",
       "| Oleg     |  95 | 90 |\n",
       "| Valentin | 100 | 95 |\n",
       "| Ryan     |  80 | 75 |\n",
       "\n"
      ],
      "text/plain": [
       "   Students First.Test Second.Test\n",
       "1  Sai       45        40         \n",
       "2  Jacob    100        95         \n",
       "3  Elroy     80        75         \n",
       "4  Zoey      90        85         \n",
       "5  Bob       98        93         \n",
       "6  Mike      30        25         \n",
       "7  Andrew    89        84         \n",
       "8  James    100        95         \n",
       "9  Oleg      95        90         \n",
       "10 Valentin 100        95         \n",
       "11 Ryan      80        75         "
      ]
     },
     "metadata": {},
     "output_type": "display_data"
    }
   ],
   "source": [
    "dfnew[, 'Second.Test'] <- dfnew$First.Test - 5 # We can copy and adjust a column. \n",
    "dfnew"
   ]
  },
  {
   "cell_type": "markdown",
   "metadata": {},
   "source": [
    "We can also use equations"
   ]
  },
  {
   "cell_type": "code",
   "execution_count": 15,
   "metadata": {},
   "outputs": [
    {
     "data": {
      "text/html": [
       "<table>\n",
       "<caption>A data.frame: 11 × 4</caption>\n",
       "<thead>\n",
       "\t<tr><th scope=col>Students</th><th scope=col>First.Test</th><th scope=col>Second.Test</th><th scope=col>First.Quarter.Average</th></tr>\n",
       "\t<tr><th scope=col>&lt;fct&gt;</th><th scope=col>&lt;dbl&gt;</th><th scope=col>&lt;dbl&gt;</th><th scope=col>&lt;dbl&gt;</th></tr>\n",
       "</thead>\n",
       "<tbody>\n",
       "\t<tr><td>Sai     </td><td> 45</td><td>40</td><td>42.5</td></tr>\n",
       "\t<tr><td>Jacob   </td><td>100</td><td>95</td><td>97.5</td></tr>\n",
       "\t<tr><td>Elroy   </td><td> 80</td><td>75</td><td>77.5</td></tr>\n",
       "\t<tr><td>Zoey    </td><td> 90</td><td>85</td><td>87.5</td></tr>\n",
       "\t<tr><td>Bob     </td><td> 98</td><td>93</td><td>95.5</td></tr>\n",
       "\t<tr><td>Mike    </td><td> 30</td><td>25</td><td>27.5</td></tr>\n",
       "\t<tr><td>Andrew  </td><td> 89</td><td>84</td><td>86.5</td></tr>\n",
       "\t<tr><td>James   </td><td>100</td><td>95</td><td>97.5</td></tr>\n",
       "\t<tr><td>Oleg    </td><td> 95</td><td>90</td><td>92.5</td></tr>\n",
       "\t<tr><td>Valentin</td><td>100</td><td>95</td><td>97.5</td></tr>\n",
       "\t<tr><td>Ryan    </td><td> 80</td><td>75</td><td>77.5</td></tr>\n",
       "</tbody>\n",
       "</table>\n"
      ],
      "text/latex": [
       "A data.frame: 11 × 4\n",
       "\\begin{tabular}{llll}\n",
       " Students & First.Test & Second.Test & First.Quarter.Average\\\\\n",
       " <fct> & <dbl> & <dbl> & <dbl>\\\\\n",
       "\\hline\n",
       "\t Sai      &  45 & 40 & 42.5\\\\\n",
       "\t Jacob    & 100 & 95 & 97.5\\\\\n",
       "\t Elroy    &  80 & 75 & 77.5\\\\\n",
       "\t Zoey     &  90 & 85 & 87.5\\\\\n",
       "\t Bob      &  98 & 93 & 95.5\\\\\n",
       "\t Mike     &  30 & 25 & 27.5\\\\\n",
       "\t Andrew   &  89 & 84 & 86.5\\\\\n",
       "\t James    & 100 & 95 & 97.5\\\\\n",
       "\t Oleg     &  95 & 90 & 92.5\\\\\n",
       "\t Valentin & 100 & 95 & 97.5\\\\\n",
       "\t Ryan     &  80 & 75 & 77.5\\\\\n",
       "\\end{tabular}\n"
      ],
      "text/markdown": [
       "\n",
       "A data.frame: 11 × 4\n",
       "\n",
       "| Students &lt;fct&gt; | First.Test &lt;dbl&gt; | Second.Test &lt;dbl&gt; | First.Quarter.Average &lt;dbl&gt; |\n",
       "|---|---|---|---|\n",
       "| Sai      |  45 | 40 | 42.5 |\n",
       "| Jacob    | 100 | 95 | 97.5 |\n",
       "| Elroy    |  80 | 75 | 77.5 |\n",
       "| Zoey     |  90 | 85 | 87.5 |\n",
       "| Bob      |  98 | 93 | 95.5 |\n",
       "| Mike     |  30 | 25 | 27.5 |\n",
       "| Andrew   |  89 | 84 | 86.5 |\n",
       "| James    | 100 | 95 | 97.5 |\n",
       "| Oleg     |  95 | 90 | 92.5 |\n",
       "| Valentin | 100 | 95 | 97.5 |\n",
       "| Ryan     |  80 | 75 | 77.5 |\n",
       "\n"
      ],
      "text/plain": [
       "   Students First.Test Second.Test First.Quarter.Average\n",
       "1  Sai       45        40          42.5                 \n",
       "2  Jacob    100        95          97.5                 \n",
       "3  Elroy     80        75          77.5                 \n",
       "4  Zoey      90        85          87.5                 \n",
       "5  Bob       98        93          95.5                 \n",
       "6  Mike      30        25          27.5                 \n",
       "7  Andrew    89        84          86.5                 \n",
       "8  James    100        95          97.5                 \n",
       "9  Oleg      95        90          92.5                 \n",
       "10 Valentin 100        95          97.5                 \n",
       "11 Ryan      80        75          77.5                 "
      ]
     },
     "metadata": {},
     "output_type": "display_data"
    }
   ],
   "source": [
    "dfnew[['First.Quarter.Average']] <- (dfnew$First.Test + dfnew$Second.Test)/2\n",
    "dfnew"
   ]
  },
  {
   "cell_type": "markdown",
   "metadata": {},
   "source": [
    "#We can also use cbind() which makes things easier"
   ]
  },
  {
   "cell_type": "code",
   "execution_count": 16,
   "metadata": {},
   "outputs": [
    {
     "data": {
      "text/html": [
       "<table>\n",
       "<caption>A data.frame: 11 × 5</caption>\n",
       "<thead>\n",
       "\t<tr><th scope=col>Students</th><th scope=col>First.Test</th><th scope=col>Second.Test</th><th scope=col>First.Quarter.Average</th><th scope=col>Third.Test</th></tr>\n",
       "\t<tr><th scope=col>&lt;fct&gt;</th><th scope=col>&lt;dbl&gt;</th><th scope=col>&lt;dbl&gt;</th><th scope=col>&lt;dbl&gt;</th><th scope=col>&lt;dbl&gt;</th></tr>\n",
       "</thead>\n",
       "<tbody>\n",
       "\t<tr><td>Sai     </td><td> 45</td><td>40</td><td>42.5</td><td> 60</td></tr>\n",
       "\t<tr><td>Jacob   </td><td>100</td><td>95</td><td>97.5</td><td> 91</td></tr>\n",
       "\t<tr><td>Elroy   </td><td> 80</td><td>75</td><td>77.5</td><td>100</td></tr>\n",
       "\t<tr><td>Zoey    </td><td> 90</td><td>85</td><td>87.5</td><td> 80</td></tr>\n",
       "\t<tr><td>Bob     </td><td> 98</td><td>93</td><td>95.5</td><td> 89</td></tr>\n",
       "\t<tr><td>Mike    </td><td> 30</td><td>25</td><td>27.5</td><td> 95</td></tr>\n",
       "\t<tr><td>Andrew  </td><td> 89</td><td>84</td><td>86.5</td><td> 60</td></tr>\n",
       "\t<tr><td>James   </td><td>100</td><td>95</td><td>97.5</td><td> 99</td></tr>\n",
       "\t<tr><td>Oleg    </td><td> 95</td><td>90</td><td>92.5</td><td>100</td></tr>\n",
       "\t<tr><td>Valentin</td><td>100</td><td>95</td><td>97.5</td><td> 87</td></tr>\n",
       "\t<tr><td>Ryan    </td><td> 80</td><td>75</td><td>77.5</td><td> 81</td></tr>\n",
       "</tbody>\n",
       "</table>\n"
      ],
      "text/latex": [
       "A data.frame: 11 × 5\n",
       "\\begin{tabular}{lllll}\n",
       " Students & First.Test & Second.Test & First.Quarter.Average & Third.Test\\\\\n",
       " <fct> & <dbl> & <dbl> & <dbl> & <dbl>\\\\\n",
       "\\hline\n",
       "\t Sai      &  45 & 40 & 42.5 &  60\\\\\n",
       "\t Jacob    & 100 & 95 & 97.5 &  91\\\\\n",
       "\t Elroy    &  80 & 75 & 77.5 & 100\\\\\n",
       "\t Zoey     &  90 & 85 & 87.5 &  80\\\\\n",
       "\t Bob      &  98 & 93 & 95.5 &  89\\\\\n",
       "\t Mike     &  30 & 25 & 27.5 &  95\\\\\n",
       "\t Andrew   &  89 & 84 & 86.5 &  60\\\\\n",
       "\t James    & 100 & 95 & 97.5 &  99\\\\\n",
       "\t Oleg     &  95 & 90 & 92.5 & 100\\\\\n",
       "\t Valentin & 100 & 95 & 97.5 &  87\\\\\n",
       "\t Ryan     &  80 & 75 & 77.5 &  81\\\\\n",
       "\\end{tabular}\n"
      ],
      "text/markdown": [
       "\n",
       "A data.frame: 11 × 5\n",
       "\n",
       "| Students &lt;fct&gt; | First.Test &lt;dbl&gt; | Second.Test &lt;dbl&gt; | First.Quarter.Average &lt;dbl&gt; | Third.Test &lt;dbl&gt; |\n",
       "|---|---|---|---|---|\n",
       "| Sai      |  45 | 40 | 42.5 |  60 |\n",
       "| Jacob    | 100 | 95 | 97.5 |  91 |\n",
       "| Elroy    |  80 | 75 | 77.5 | 100 |\n",
       "| Zoey     |  90 | 85 | 87.5 |  80 |\n",
       "| Bob      |  98 | 93 | 95.5 |  89 |\n",
       "| Mike     |  30 | 25 | 27.5 |  95 |\n",
       "| Andrew   |  89 | 84 | 86.5 |  60 |\n",
       "| James    | 100 | 95 | 97.5 |  99 |\n",
       "| Oleg     |  95 | 90 | 92.5 | 100 |\n",
       "| Valentin | 100 | 95 | 97.5 |  87 |\n",
       "| Ryan     |  80 | 75 | 77.5 |  81 |\n",
       "\n"
      ],
      "text/plain": [
       "   Students First.Test Second.Test First.Quarter.Average Third.Test\n",
       "1  Sai       45        40          42.5                   60       \n",
       "2  Jacob    100        95          97.5                   91       \n",
       "3  Elroy     80        75          77.5                  100       \n",
       "4  Zoey      90        85          87.5                   80       \n",
       "5  Bob       98        93          95.5                   89       \n",
       "6  Mike      30        25          27.5                   95       \n",
       "7  Andrew    89        84          86.5                   60       \n",
       "8  James    100        95          97.5                   99       \n",
       "9  Oleg      95        90          92.5                  100       \n",
       "10 Valentin 100        95          97.5                   87       \n",
       "11 Ryan      80        75          77.5                   81       "
      ]
     },
     "metadata": {},
     "output_type": "display_data"
    }
   ],
   "source": [
    "Third.Test <- c(60,91,100,80,89,95,60,99,100,87,81)\n",
    "\n",
    "dfnew$Third.Test <- rep(NA, nrow(dfnew)) # Makes a new column\n",
    "\n",
    "dfnew[, 'Third.Test'] <- Third.Test\n",
    "dfnew"
   ]
  },
  {
   "cell_type": "markdown",
   "metadata": {},
   "source": [
    "## Setting Column Names"
   ]
  },
  {
   "cell_type": "code",
   "execution_count": 17,
   "metadata": {},
   "outputs": [
    {
     "data": {
      "text/html": [
       "<table>\n",
       "<caption>A data.frame: 11 × 5</caption>\n",
       "<thead>\n",
       "\t<tr><th scope=col>Students</th><th scope=col>First.Test</th><th scope=col>Final.Score</th><th scope=col>First.Quarter.Average</th><th scope=col>Third.Test</th></tr>\n",
       "\t<tr><th scope=col>&lt;fct&gt;</th><th scope=col>&lt;dbl&gt;</th><th scope=col>&lt;dbl&gt;</th><th scope=col>&lt;dbl&gt;</th><th scope=col>&lt;dbl&gt;</th></tr>\n",
       "</thead>\n",
       "<tbody>\n",
       "\t<tr><td>Sai     </td><td> 45</td><td>40</td><td>42.5</td><td> 60</td></tr>\n",
       "\t<tr><td>Jacob   </td><td>100</td><td>95</td><td>97.5</td><td> 91</td></tr>\n",
       "\t<tr><td>Elroy   </td><td> 80</td><td>75</td><td>77.5</td><td>100</td></tr>\n",
       "\t<tr><td>Zoey    </td><td> 90</td><td>85</td><td>87.5</td><td> 80</td></tr>\n",
       "\t<tr><td>Bob     </td><td> 98</td><td>93</td><td>95.5</td><td> 89</td></tr>\n",
       "\t<tr><td>Mike    </td><td> 30</td><td>25</td><td>27.5</td><td> 95</td></tr>\n",
       "\t<tr><td>Andrew  </td><td> 89</td><td>84</td><td>86.5</td><td> 60</td></tr>\n",
       "\t<tr><td>James   </td><td>100</td><td>95</td><td>97.5</td><td> 99</td></tr>\n",
       "\t<tr><td>Oleg    </td><td> 95</td><td>90</td><td>92.5</td><td>100</td></tr>\n",
       "\t<tr><td>Valentin</td><td>100</td><td>95</td><td>97.5</td><td> 87</td></tr>\n",
       "\t<tr><td>Ryan    </td><td> 80</td><td>75</td><td>77.5</td><td> 81</td></tr>\n",
       "</tbody>\n",
       "</table>\n"
      ],
      "text/latex": [
       "A data.frame: 11 × 5\n",
       "\\begin{tabular}{lllll}\n",
       " Students & First.Test & Final.Score & First.Quarter.Average & Third.Test\\\\\n",
       " <fct> & <dbl> & <dbl> & <dbl> & <dbl>\\\\\n",
       "\\hline\n",
       "\t Sai      &  45 & 40 & 42.5 &  60\\\\\n",
       "\t Jacob    & 100 & 95 & 97.5 &  91\\\\\n",
       "\t Elroy    &  80 & 75 & 77.5 & 100\\\\\n",
       "\t Zoey     &  90 & 85 & 87.5 &  80\\\\\n",
       "\t Bob      &  98 & 93 & 95.5 &  89\\\\\n",
       "\t Mike     &  30 & 25 & 27.5 &  95\\\\\n",
       "\t Andrew   &  89 & 84 & 86.5 &  60\\\\\n",
       "\t James    & 100 & 95 & 97.5 &  99\\\\\n",
       "\t Oleg     &  95 & 90 & 92.5 & 100\\\\\n",
       "\t Valentin & 100 & 95 & 97.5 &  87\\\\\n",
       "\t Ryan     &  80 & 75 & 77.5 &  81\\\\\n",
       "\\end{tabular}\n"
      ],
      "text/markdown": [
       "\n",
       "A data.frame: 11 × 5\n",
       "\n",
       "| Students &lt;fct&gt; | First.Test &lt;dbl&gt; | Final.Score &lt;dbl&gt; | First.Quarter.Average &lt;dbl&gt; | Third.Test &lt;dbl&gt; |\n",
       "|---|---|---|---|---|\n",
       "| Sai      |  45 | 40 | 42.5 |  60 |\n",
       "| Jacob    | 100 | 95 | 97.5 |  91 |\n",
       "| Elroy    |  80 | 75 | 77.5 | 100 |\n",
       "| Zoey     |  90 | 85 | 87.5 |  80 |\n",
       "| Bob      |  98 | 93 | 95.5 |  89 |\n",
       "| Mike     |  30 | 25 | 27.5 |  95 |\n",
       "| Andrew   |  89 | 84 | 86.5 |  60 |\n",
       "| James    | 100 | 95 | 97.5 |  99 |\n",
       "| Oleg     |  95 | 90 | 92.5 | 100 |\n",
       "| Valentin | 100 | 95 | 97.5 |  87 |\n",
       "| Ryan     |  80 | 75 | 77.5 |  81 |\n",
       "\n"
      ],
      "text/plain": [
       "   Students First.Test Final.Score First.Quarter.Average Third.Test\n",
       "1  Sai       45        40          42.5                   60       \n",
       "2  Jacob    100        95          97.5                   91       \n",
       "3  Elroy     80        75          77.5                  100       \n",
       "4  Zoey      90        85          87.5                   80       \n",
       "5  Bob       98        93          95.5                   89       \n",
       "6  Mike      30        25          27.5                   95       \n",
       "7  Andrew    89        84          86.5                   60       \n",
       "8  James    100        95          97.5                   99       \n",
       "9  Oleg      95        90          92.5                  100       \n",
       "10 Valentin 100        95          97.5                   87       \n",
       "11 Ryan      80        75          77.5                   81       "
      ]
     },
     "metadata": {},
     "output_type": "display_data"
    },
    {
     "data": {
      "text/html": [
       "<table>\n",
       "<caption>A data.frame: 11 × 5</caption>\n",
       "<thead>\n",
       "\t<tr><th scope=col>Names of Students</th><th scope=col>First.Exam</th><th scope=col>Second.Exam</th><th scope=col>Third.Exam</th><th scope=col>Fourth.Exam</th></tr>\n",
       "\t<tr><th scope=col>&lt;fct&gt;</th><th scope=col>&lt;dbl&gt;</th><th scope=col>&lt;dbl&gt;</th><th scope=col>&lt;dbl&gt;</th><th scope=col>&lt;dbl&gt;</th></tr>\n",
       "</thead>\n",
       "<tbody>\n",
       "\t<tr><td>Sai     </td><td> 45</td><td>40</td><td>42.5</td><td> 60</td></tr>\n",
       "\t<tr><td>Jacob   </td><td>100</td><td>95</td><td>97.5</td><td> 91</td></tr>\n",
       "\t<tr><td>Elroy   </td><td> 80</td><td>75</td><td>77.5</td><td>100</td></tr>\n",
       "\t<tr><td>Zoey    </td><td> 90</td><td>85</td><td>87.5</td><td> 80</td></tr>\n",
       "\t<tr><td>Bob     </td><td> 98</td><td>93</td><td>95.5</td><td> 89</td></tr>\n",
       "\t<tr><td>Mike    </td><td> 30</td><td>25</td><td>27.5</td><td> 95</td></tr>\n",
       "\t<tr><td>Andrew  </td><td> 89</td><td>84</td><td>86.5</td><td> 60</td></tr>\n",
       "\t<tr><td>James   </td><td>100</td><td>95</td><td>97.5</td><td> 99</td></tr>\n",
       "\t<tr><td>Oleg    </td><td> 95</td><td>90</td><td>92.5</td><td>100</td></tr>\n",
       "\t<tr><td>Valentin</td><td>100</td><td>95</td><td>97.5</td><td> 87</td></tr>\n",
       "\t<tr><td>Ryan    </td><td> 80</td><td>75</td><td>77.5</td><td> 81</td></tr>\n",
       "</tbody>\n",
       "</table>\n"
      ],
      "text/latex": [
       "A data.frame: 11 × 5\n",
       "\\begin{tabular}{lllll}\n",
       " Names of Students & First.Exam & Second.Exam & Third.Exam & Fourth.Exam\\\\\n",
       " <fct> & <dbl> & <dbl> & <dbl> & <dbl>\\\\\n",
       "\\hline\n",
       "\t Sai      &  45 & 40 & 42.5 &  60\\\\\n",
       "\t Jacob    & 100 & 95 & 97.5 &  91\\\\\n",
       "\t Elroy    &  80 & 75 & 77.5 & 100\\\\\n",
       "\t Zoey     &  90 & 85 & 87.5 &  80\\\\\n",
       "\t Bob      &  98 & 93 & 95.5 &  89\\\\\n",
       "\t Mike     &  30 & 25 & 27.5 &  95\\\\\n",
       "\t Andrew   &  89 & 84 & 86.5 &  60\\\\\n",
       "\t James    & 100 & 95 & 97.5 &  99\\\\\n",
       "\t Oleg     &  95 & 90 & 92.5 & 100\\\\\n",
       "\t Valentin & 100 & 95 & 97.5 &  87\\\\\n",
       "\t Ryan     &  80 & 75 & 77.5 &  81\\\\\n",
       "\\end{tabular}\n"
      ],
      "text/markdown": [
       "\n",
       "A data.frame: 11 × 5\n",
       "\n",
       "| Names of Students &lt;fct&gt; | First.Exam &lt;dbl&gt; | Second.Exam &lt;dbl&gt; | Third.Exam &lt;dbl&gt; | Fourth.Exam &lt;dbl&gt; |\n",
       "|---|---|---|---|---|\n",
       "| Sai      |  45 | 40 | 42.5 |  60 |\n",
       "| Jacob    | 100 | 95 | 97.5 |  91 |\n",
       "| Elroy    |  80 | 75 | 77.5 | 100 |\n",
       "| Zoey     |  90 | 85 | 87.5 |  80 |\n",
       "| Bob      |  98 | 93 | 95.5 |  89 |\n",
       "| Mike     |  30 | 25 | 27.5 |  95 |\n",
       "| Andrew   |  89 | 84 | 86.5 |  60 |\n",
       "| James    | 100 | 95 | 97.5 |  99 |\n",
       "| Oleg     |  95 | 90 | 92.5 | 100 |\n",
       "| Valentin | 100 | 95 | 97.5 |  87 |\n",
       "| Ryan     |  80 | 75 | 77.5 |  81 |\n",
       "\n"
      ],
      "text/plain": [
       "   Names of Students First.Exam Second.Exam Third.Exam Fourth.Exam\n",
       "1  Sai                45        40          42.5        60        \n",
       "2  Jacob             100        95          97.5        91        \n",
       "3  Elroy              80        75          77.5       100        \n",
       "4  Zoey               90        85          87.5        80        \n",
       "5  Bob                98        93          95.5        89        \n",
       "6  Mike               30        25          27.5        95        \n",
       "7  Andrew             89        84          86.5        60        \n",
       "8  James             100        95          97.5        99        \n",
       "9  Oleg               95        90          92.5       100        \n",
       "10 Valentin          100        95          97.5        87        \n",
       "11 Ryan               80        75          77.5        81        "
      ]
     },
     "metadata": {},
     "output_type": "display_data"
    }
   ],
   "source": [
    "# Rename second column\n",
    "colnames(dfnew)[3] <- 'Final.Score' # Renames the 3rd column to Final.Score\n",
    "dfnew\n",
    "\n",
    "# Rename all at once with a vector\n",
    "colnames(dfnew) <- c('Names of Students', 'First.Exam', 'Second.Exam', 'Third.Exam' ,'Fourth.Exam')\n",
    "dfnew"
   ]
  },
  {
   "cell_type": "markdown",
   "metadata": {},
   "source": [
    "## Selecting Multiple Rows"
   ]
  },
  {
   "cell_type": "code",
   "execution_count": 18,
   "metadata": {},
   "outputs": [
    {
     "data": {
      "text/html": [
       "<table>\n",
       "<caption>A data.frame: 4 × 5</caption>\n",
       "<thead>\n",
       "\t<tr><th></th><th scope=col>Names of Students</th><th scope=col>First.Exam</th><th scope=col>Second.Exam</th><th scope=col>Third.Exam</th><th scope=col>Fourth.Exam</th></tr>\n",
       "\t<tr><th></th><th scope=col>&lt;fct&gt;</th><th scope=col>&lt;dbl&gt;</th><th scope=col>&lt;dbl&gt;</th><th scope=col>&lt;dbl&gt;</th><th scope=col>&lt;dbl&gt;</th></tr>\n",
       "</thead>\n",
       "<tbody>\n",
       "\t<tr><th scope=row>1</th><td>Sai  </td><td> 45</td><td>40</td><td>42.5</td><td> 60</td></tr>\n",
       "\t<tr><th scope=row>2</th><td>Jacob</td><td>100</td><td>95</td><td>97.5</td><td> 91</td></tr>\n",
       "\t<tr><th scope=row>3</th><td>Elroy</td><td> 80</td><td>75</td><td>77.5</td><td>100</td></tr>\n",
       "\t<tr><th scope=row>4</th><td>Zoey </td><td> 90</td><td>85</td><td>87.5</td><td> 80</td></tr>\n",
       "</tbody>\n",
       "</table>\n"
      ],
      "text/latex": [
       "A data.frame: 4 × 5\n",
       "\\begin{tabular}{r|lllll}\n",
       "  & Names of Students & First.Exam & Second.Exam & Third.Exam & Fourth.Exam\\\\\n",
       "  & <fct> & <dbl> & <dbl> & <dbl> & <dbl>\\\\\n",
       "\\hline\n",
       "\t1 & Sai   &  45 & 40 & 42.5 &  60\\\\\n",
       "\t2 & Jacob & 100 & 95 & 97.5 &  91\\\\\n",
       "\t3 & Elroy &  80 & 75 & 77.5 & 100\\\\\n",
       "\t4 & Zoey  &  90 & 85 & 87.5 &  80\\\\\n",
       "\\end{tabular}\n"
      ],
      "text/markdown": [
       "\n",
       "A data.frame: 4 × 5\n",
       "\n",
       "| <!--/--> | Names of Students &lt;fct&gt; | First.Exam &lt;dbl&gt; | Second.Exam &lt;dbl&gt; | Third.Exam &lt;dbl&gt; | Fourth.Exam &lt;dbl&gt; |\n",
       "|---|---|---|---|---|---|\n",
       "| 1 | Sai   |  45 | 40 | 42.5 |  60 |\n",
       "| 2 | Jacob | 100 | 95 | 97.5 |  91 |\n",
       "| 3 | Elroy |  80 | 75 | 77.5 | 100 |\n",
       "| 4 | Zoey  |  90 | 85 | 87.5 |  80 |\n",
       "\n"
      ],
      "text/plain": [
       "  Names of Students First.Exam Second.Exam Third.Exam Fourth.Exam\n",
       "1 Sai                45        40          42.5        60        \n",
       "2 Jacob             100        95          97.5        91        \n",
       "3 Elroy              80        75          77.5       100        \n",
       "4 Zoey               90        85          87.5        80        "
      ]
     },
     "metadata": {},
     "output_type": "display_data"
    }
   ],
   "source": [
    "first.four.rows <- dfnew[1:4, ] # Same as head(df, 4)\n",
    "first.four.rows"
   ]
  },
  {
   "cell_type": "code",
   "execution_count": 19,
   "metadata": {},
   "outputs": [
    {
     "data": {
      "text/html": [
       "<table>\n",
       "<caption>A data.frame: 10 × 5</caption>\n",
       "<thead>\n",
       "\t<tr><th></th><th scope=col>Names of Students</th><th scope=col>First.Exam</th><th scope=col>Second.Exam</th><th scope=col>Third.Exam</th><th scope=col>Fourth.Exam</th></tr>\n",
       "\t<tr><th></th><th scope=col>&lt;fct&gt;</th><th scope=col>&lt;dbl&gt;</th><th scope=col>&lt;dbl&gt;</th><th scope=col>&lt;dbl&gt;</th><th scope=col>&lt;dbl&gt;</th></tr>\n",
       "</thead>\n",
       "<tbody>\n",
       "\t<tr><th scope=row>1</th><td>Sai     </td><td> 45</td><td>40</td><td>42.5</td><td> 60</td></tr>\n",
       "\t<tr><th scope=row>3</th><td>Elroy   </td><td> 80</td><td>75</td><td>77.5</td><td>100</td></tr>\n",
       "\t<tr><th scope=row>4</th><td>Zoey    </td><td> 90</td><td>85</td><td>87.5</td><td> 80</td></tr>\n",
       "\t<tr><th scope=row>5</th><td>Bob     </td><td> 98</td><td>93</td><td>95.5</td><td> 89</td></tr>\n",
       "\t<tr><th scope=row>6</th><td>Mike    </td><td> 30</td><td>25</td><td>27.5</td><td> 95</td></tr>\n",
       "\t<tr><th scope=row>7</th><td>Andrew  </td><td> 89</td><td>84</td><td>86.5</td><td> 60</td></tr>\n",
       "\t<tr><th scope=row>8</th><td>James   </td><td>100</td><td>95</td><td>97.5</td><td> 99</td></tr>\n",
       "\t<tr><th scope=row>9</th><td>Oleg    </td><td> 95</td><td>90</td><td>92.5</td><td>100</td></tr>\n",
       "\t<tr><th scope=row>10</th><td>Valentin</td><td>100</td><td>95</td><td>97.5</td><td> 87</td></tr>\n",
       "\t<tr><th scope=row>11</th><td>Ryan    </td><td> 80</td><td>75</td><td>77.5</td><td> 81</td></tr>\n",
       "</tbody>\n",
       "</table>\n"
      ],
      "text/latex": [
       "A data.frame: 10 × 5\n",
       "\\begin{tabular}{r|lllll}\n",
       "  & Names of Students & First.Exam & Second.Exam & Third.Exam & Fourth.Exam\\\\\n",
       "  & <fct> & <dbl> & <dbl> & <dbl> & <dbl>\\\\\n",
       "\\hline\n",
       "\t1 & Sai      &  45 & 40 & 42.5 &  60\\\\\n",
       "\t3 & Elroy    &  80 & 75 & 77.5 & 100\\\\\n",
       "\t4 & Zoey     &  90 & 85 & 87.5 &  80\\\\\n",
       "\t5 & Bob      &  98 & 93 & 95.5 &  89\\\\\n",
       "\t6 & Mike     &  30 & 25 & 27.5 &  95\\\\\n",
       "\t7 & Andrew   &  89 & 84 & 86.5 &  60\\\\\n",
       "\t8 & James    & 100 & 95 & 97.5 &  99\\\\\n",
       "\t9 & Oleg     &  95 & 90 & 92.5 & 100\\\\\n",
       "\t10 & Valentin & 100 & 95 & 97.5 &  87\\\\\n",
       "\t11 & Ryan     &  80 & 75 & 77.5 &  81\\\\\n",
       "\\end{tabular}\n"
      ],
      "text/markdown": [
       "\n",
       "A data.frame: 10 × 5\n",
       "\n",
       "| <!--/--> | Names of Students &lt;fct&gt; | First.Exam &lt;dbl&gt; | Second.Exam &lt;dbl&gt; | Third.Exam &lt;dbl&gt; | Fourth.Exam &lt;dbl&gt; |\n",
       "|---|---|---|---|---|---|\n",
       "| 1 | Sai      |  45 | 40 | 42.5 |  60 |\n",
       "| 3 | Elroy    |  80 | 75 | 77.5 | 100 |\n",
       "| 4 | Zoey     |  90 | 85 | 87.5 |  80 |\n",
       "| 5 | Bob      |  98 | 93 | 95.5 |  89 |\n",
       "| 6 | Mike     |  30 | 25 | 27.5 |  95 |\n",
       "| 7 | Andrew   |  89 | 84 | 86.5 |  60 |\n",
       "| 8 | James    | 100 | 95 | 97.5 |  99 |\n",
       "| 9 | Oleg     |  95 | 90 | 92.5 | 100 |\n",
       "| 10 | Valentin | 100 | 95 | 97.5 |  87 |\n",
       "| 11 | Ryan     |  80 | 75 | 77.5 |  81 |\n",
       "\n"
      ],
      "text/plain": [
       "   Names of Students First.Exam Second.Exam Third.Exam Fourth.Exam\n",
       "1  Sai                45        40          42.5        60        \n",
       "3  Elroy              80        75          77.5       100        \n",
       "4  Zoey               90        85          87.5        80        \n",
       "5  Bob                98        93          95.5        89        \n",
       "6  Mike               30        25          27.5        95        \n",
       "7  Andrew             89        84          86.5        60        \n",
       "8  James             100        95          97.5        99        \n",
       "9  Oleg               95        90          92.5       100        \n",
       "10 Valentin          100        95          97.5        87        \n",
       "11 Ryan               80        75          77.5        81        "
      ]
     },
     "metadata": {},
     "output_type": "display_data"
    }
   ],
   "source": [
    "everything.but.row.two <- dfnew[-2, ] # We can remove Jacob from the list \n",
    "everything.but.row.two"
   ]
  },
  {
   "cell_type": "code",
   "execution_count": 20,
   "metadata": {},
   "outputs": [
    {
     "data": {
      "text/html": [
       "<table>\n",
       "<caption>A data.frame: 9 × 5</caption>\n",
       "<thead>\n",
       "\t<tr><th></th><th scope=col>Names of Students</th><th scope=col>First.Exam</th><th scope=col>Second.Exam</th><th scope=col>Third.Exam</th><th scope=col>Fourth.Exam</th></tr>\n",
       "\t<tr><th></th><th scope=col>&lt;fct&gt;</th><th scope=col>&lt;dbl&gt;</th><th scope=col>&lt;dbl&gt;</th><th scope=col>&lt;dbl&gt;</th><th scope=col>&lt;dbl&gt;</th></tr>\n",
       "</thead>\n",
       "<tbody>\n",
       "\t<tr><th scope=row>2</th><td>Jacob   </td><td>100</td><td>95</td><td>97.5</td><td> 91</td></tr>\n",
       "\t<tr><th scope=row>3</th><td>Elroy   </td><td> 80</td><td>75</td><td>77.5</td><td>100</td></tr>\n",
       "\t<tr><th scope=row>4</th><td>Zoey    </td><td> 90</td><td>85</td><td>87.5</td><td> 80</td></tr>\n",
       "\t<tr><th scope=row>5</th><td>Bob     </td><td> 98</td><td>93</td><td>95.5</td><td> 89</td></tr>\n",
       "\t<tr><th scope=row>7</th><td>Andrew  </td><td> 89</td><td>84</td><td>86.5</td><td> 60</td></tr>\n",
       "\t<tr><th scope=row>8</th><td>James   </td><td>100</td><td>95</td><td>97.5</td><td> 99</td></tr>\n",
       "\t<tr><th scope=row>9</th><td>Oleg    </td><td> 95</td><td>90</td><td>92.5</td><td>100</td></tr>\n",
       "\t<tr><th scope=row>10</th><td>Valentin</td><td>100</td><td>95</td><td>97.5</td><td> 87</td></tr>\n",
       "\t<tr><th scope=row>11</th><td>Ryan    </td><td> 80</td><td>75</td><td>77.5</td><td> 81</td></tr>\n",
       "</tbody>\n",
       "</table>\n"
      ],
      "text/latex": [
       "A data.frame: 9 × 5\n",
       "\\begin{tabular}{r|lllll}\n",
       "  & Names of Students & First.Exam & Second.Exam & Third.Exam & Fourth.Exam\\\\\n",
       "  & <fct> & <dbl> & <dbl> & <dbl> & <dbl>\\\\\n",
       "\\hline\n",
       "\t2 & Jacob    & 100 & 95 & 97.5 &  91\\\\\n",
       "\t3 & Elroy    &  80 & 75 & 77.5 & 100\\\\\n",
       "\t4 & Zoey     &  90 & 85 & 87.5 &  80\\\\\n",
       "\t5 & Bob      &  98 & 93 & 95.5 &  89\\\\\n",
       "\t7 & Andrew   &  89 & 84 & 86.5 &  60\\\\\n",
       "\t8 & James    & 100 & 95 & 97.5 &  99\\\\\n",
       "\t9 & Oleg     &  95 & 90 & 92.5 & 100\\\\\n",
       "\t10 & Valentin & 100 & 95 & 97.5 &  87\\\\\n",
       "\t11 & Ryan     &  80 & 75 & 77.5 &  81\\\\\n",
       "\\end{tabular}\n"
      ],
      "text/markdown": [
       "\n",
       "A data.frame: 9 × 5\n",
       "\n",
       "| <!--/--> | Names of Students &lt;fct&gt; | First.Exam &lt;dbl&gt; | Second.Exam &lt;dbl&gt; | Third.Exam &lt;dbl&gt; | Fourth.Exam &lt;dbl&gt; |\n",
       "|---|---|---|---|---|---|\n",
       "| 2 | Jacob    | 100 | 95 | 97.5 |  91 |\n",
       "| 3 | Elroy    |  80 | 75 | 77.5 | 100 |\n",
       "| 4 | Zoey     |  90 | 85 | 87.5 |  80 |\n",
       "| 5 | Bob      |  98 | 93 | 95.5 |  89 |\n",
       "| 7 | Andrew   |  89 | 84 | 86.5 |  60 |\n",
       "| 8 | James    | 100 | 95 | 97.5 |  99 |\n",
       "| 9 | Oleg     |  95 | 90 | 92.5 | 100 |\n",
       "| 10 | Valentin | 100 | 95 | 97.5 |  87 |\n",
       "| 11 | Ryan     |  80 | 75 | 77.5 |  81 |\n",
       "\n"
      ],
      "text/plain": [
       "   Names of Students First.Exam Second.Exam Third.Exam Fourth.Exam\n",
       "2  Jacob             100        95          97.5        91        \n",
       "3  Elroy              80        75          77.5       100        \n",
       "4  Zoey               90        85          87.5        80        \n",
       "5  Bob                98        93          95.5        89        \n",
       "7  Andrew             89        84          86.5        60        \n",
       "8  James             100        95          97.5        99        \n",
       "9  Oleg               95        90          92.5       100        \n",
       "10 Valentin          100        95          97.5        87        \n",
       "11 Ryan               80        75          77.5        81        "
      ]
     },
     "metadata": {},
     "output_type": "display_data"
    },
    {
     "data": {
      "text/html": [
       "<table>\n",
       "<caption>A data.frame: 2 × 5</caption>\n",
       "<thead>\n",
       "\t<tr><th></th><th scope=col>Names of Students</th><th scope=col>First.Exam</th><th scope=col>Second.Exam</th><th scope=col>Third.Exam</th><th scope=col>Fourth.Exam</th></tr>\n",
       "\t<tr><th></th><th scope=col>&lt;fct&gt;</th><th scope=col>&lt;dbl&gt;</th><th scope=col>&lt;dbl&gt;</th><th scope=col>&lt;dbl&gt;</th><th scope=col>&lt;dbl&gt;</th></tr>\n",
       "</thead>\n",
       "<tbody>\n",
       "\t<tr><th scope=row>1</th><td>Sai </td><td>45</td><td>40</td><td>42.5</td><td>60</td></tr>\n",
       "\t<tr><th scope=row>6</th><td>Mike</td><td>30</td><td>25</td><td>27.5</td><td>95</td></tr>\n",
       "</tbody>\n",
       "</table>\n"
      ],
      "text/latex": [
       "A data.frame: 2 × 5\n",
       "\\begin{tabular}{r|lllll}\n",
       "  & Names of Students & First.Exam & Second.Exam & Third.Exam & Fourth.Exam\\\\\n",
       "  & <fct> & <dbl> & <dbl> & <dbl> & <dbl>\\\\\n",
       "\\hline\n",
       "\t1 & Sai  & 45 & 40 & 42.5 & 60\\\\\n",
       "\t6 & Mike & 30 & 25 & 27.5 & 95\\\\\n",
       "\\end{tabular}\n"
      ],
      "text/markdown": [
       "\n",
       "A data.frame: 2 × 5\n",
       "\n",
       "| <!--/--> | Names of Students &lt;fct&gt; | First.Exam &lt;dbl&gt; | Second.Exam &lt;dbl&gt; | Third.Exam &lt;dbl&gt; | Fourth.Exam &lt;dbl&gt; |\n",
       "|---|---|---|---|---|---|\n",
       "| 1 | Sai  | 45 | 40 | 42.5 | 60 |\n",
       "| 6 | Mike | 30 | 25 | 27.5 | 95 |\n",
       "\n"
      ],
      "text/plain": [
       "  Names of Students First.Exam Second.Exam Third.Exam Fourth.Exam\n",
       "1 Sai               45         40          42.5       60         \n",
       "6 Mike              30         25          27.5       95         "
      ]
     },
     "metadata": {},
     "output_type": "display_data"
    },
    {
     "data": {
      "text/html": [
       "<table>\n",
       "<caption>A data.frame: 5 × 5</caption>\n",
       "<thead>\n",
       "\t<tr><th></th><th scope=col>Names of Students</th><th scope=col>First.Exam</th><th scope=col>Second.Exam</th><th scope=col>Third.Exam</th><th scope=col>Fourth.Exam</th></tr>\n",
       "\t<tr><th></th><th scope=col>&lt;fct&gt;</th><th scope=col>&lt;dbl&gt;</th><th scope=col>&lt;dbl&gt;</th><th scope=col>&lt;dbl&gt;</th><th scope=col>&lt;dbl&gt;</th></tr>\n",
       "</thead>\n",
       "<tbody>\n",
       "\t<tr><th scope=row>2</th><td>Jacob   </td><td>100</td><td>95</td><td>97.5</td><td> 91</td></tr>\n",
       "\t<tr><th scope=row>5</th><td>Bob     </td><td> 98</td><td>93</td><td>95.5</td><td> 89</td></tr>\n",
       "\t<tr><th scope=row>8</th><td>James   </td><td>100</td><td>95</td><td>97.5</td><td> 99</td></tr>\n",
       "\t<tr><th scope=row>9</th><td>Oleg    </td><td> 95</td><td>90</td><td>92.5</td><td>100</td></tr>\n",
       "\t<tr><th scope=row>10</th><td>Valentin</td><td>100</td><td>95</td><td>97.5</td><td> 87</td></tr>\n",
       "</tbody>\n",
       "</table>\n"
      ],
      "text/latex": [
       "A data.frame: 5 × 5\n",
       "\\begin{tabular}{r|lllll}\n",
       "  & Names of Students & First.Exam & Second.Exam & Third.Exam & Fourth.Exam\\\\\n",
       "  & <fct> & <dbl> & <dbl> & <dbl> & <dbl>\\\\\n",
       "\\hline\n",
       "\t2 & Jacob    & 100 & 95 & 97.5 &  91\\\\\n",
       "\t5 & Bob      &  98 & 93 & 95.5 &  89\\\\\n",
       "\t8 & James    & 100 & 95 & 97.5 &  99\\\\\n",
       "\t9 & Oleg     &  95 & 90 & 92.5 & 100\\\\\n",
       "\t10 & Valentin & 100 & 95 & 97.5 &  87\\\\\n",
       "\\end{tabular}\n"
      ],
      "text/markdown": [
       "\n",
       "A data.frame: 5 × 5\n",
       "\n",
       "| <!--/--> | Names of Students &lt;fct&gt; | First.Exam &lt;dbl&gt; | Second.Exam &lt;dbl&gt; | Third.Exam &lt;dbl&gt; | Fourth.Exam &lt;dbl&gt; |\n",
       "|---|---|---|---|---|---|\n",
       "| 2 | Jacob    | 100 | 95 | 97.5 |  91 |\n",
       "| 5 | Bob      |  98 | 93 | 95.5 |  89 |\n",
       "| 8 | James    | 100 | 95 | 97.5 |  99 |\n",
       "| 9 | Oleg     |  95 | 90 | 92.5 | 100 |\n",
       "| 10 | Valentin | 100 | 95 | 97.5 |  87 |\n",
       "\n"
      ],
      "text/plain": [
       "   Names of Students First.Exam Second.Exam Third.Exam Fourth.Exam\n",
       "2  Jacob             100        95          97.5        91        \n",
       "5  Bob                98        93          95.5        89        \n",
       "8  James             100        95          97.5        99        \n",
       "9  Oleg               95        90          92.5       100        \n",
       "10 Valentin          100        95          97.5        87        "
      ]
     },
     "metadata": {},
     "output_type": "display_data"
    }
   ],
   "source": [
    "# Conditional Selection\n",
    "studends.passing <- dfnew[(dfnew$First.Exam > 65 ),]#& dfnew$Second.Exam > 65)]\n",
    "studends.passing\n",
    "\n",
    "students.failing <- subset(dfnew, (First.Exam + Second.Exam + Third.Exam + Fourth.Exam) / 4 < 65 )\n",
    "students.failing\n",
    "\n",
    "honor.students <- subset(dfnew, (First.Exam + Second.Exam + Third.Exam + Fourth.Exam) / 4 > 90 )\n",
    "honor.students"
   ]
  },
  {
   "cell_type": "markdown",
   "metadata": {},
   "source": [
    "## Selecting Multiple Columns"
   ]
  },
  {
   "cell_type": "code",
   "execution_count": 21,
   "metadata": {},
   "outputs": [
    {
     "data": {
      "text/html": [
       "<table>\n",
       "<caption>A data.frame: 11 × 3</caption>\n",
       "<thead>\n",
       "\t<tr><th scope=col>Names of Students</th><th scope=col>First.Exam</th><th scope=col>Third.Exam</th></tr>\n",
       "\t<tr><th scope=col>&lt;fct&gt;</th><th scope=col>&lt;dbl&gt;</th><th scope=col>&lt;dbl&gt;</th></tr>\n",
       "</thead>\n",
       "<tbody>\n",
       "\t<tr><td>Sai     </td><td> 45</td><td>42.5</td></tr>\n",
       "\t<tr><td>Jacob   </td><td>100</td><td>97.5</td></tr>\n",
       "\t<tr><td>Elroy   </td><td> 80</td><td>77.5</td></tr>\n",
       "\t<tr><td>Zoey    </td><td> 90</td><td>87.5</td></tr>\n",
       "\t<tr><td>Bob     </td><td> 98</td><td>95.5</td></tr>\n",
       "\t<tr><td>Mike    </td><td> 30</td><td>27.5</td></tr>\n",
       "\t<tr><td>Andrew  </td><td> 89</td><td>86.5</td></tr>\n",
       "\t<tr><td>James   </td><td>100</td><td>97.5</td></tr>\n",
       "\t<tr><td>Oleg    </td><td> 95</td><td>92.5</td></tr>\n",
       "\t<tr><td>Valentin</td><td>100</td><td>97.5</td></tr>\n",
       "\t<tr><td>Ryan    </td><td> 80</td><td>77.5</td></tr>\n",
       "</tbody>\n",
       "</table>\n"
      ],
      "text/latex": [
       "A data.frame: 11 × 3\n",
       "\\begin{tabular}{lll}\n",
       " Names of Students & First.Exam & Third.Exam\\\\\n",
       " <fct> & <dbl> & <dbl>\\\\\n",
       "\\hline\n",
       "\t Sai      &  45 & 42.5\\\\\n",
       "\t Jacob    & 100 & 97.5\\\\\n",
       "\t Elroy    &  80 & 77.5\\\\\n",
       "\t Zoey     &  90 & 87.5\\\\\n",
       "\t Bob      &  98 & 95.5\\\\\n",
       "\t Mike     &  30 & 27.5\\\\\n",
       "\t Andrew   &  89 & 86.5\\\\\n",
       "\t James    & 100 & 97.5\\\\\n",
       "\t Oleg     &  95 & 92.5\\\\\n",
       "\t Valentin & 100 & 97.5\\\\\n",
       "\t Ryan     &  80 & 77.5\\\\\n",
       "\\end{tabular}\n"
      ],
      "text/markdown": [
       "\n",
       "A data.frame: 11 × 3\n",
       "\n",
       "| Names of Students &lt;fct&gt; | First.Exam &lt;dbl&gt; | Third.Exam &lt;dbl&gt; |\n",
       "|---|---|---|\n",
       "| Sai      |  45 | 42.5 |\n",
       "| Jacob    | 100 | 97.5 |\n",
       "| Elroy    |  80 | 77.5 |\n",
       "| Zoey     |  90 | 87.5 |\n",
       "| Bob      |  98 | 95.5 |\n",
       "| Mike     |  30 | 27.5 |\n",
       "| Andrew   |  89 | 86.5 |\n",
       "| James    | 100 | 97.5 |\n",
       "| Oleg     |  95 | 92.5 |\n",
       "| Valentin | 100 | 97.5 |\n",
       "| Ryan     |  80 | 77.5 |\n",
       "\n"
      ],
      "text/plain": [
       "   Names of Students First.Exam Third.Exam\n",
       "1  Sai                45        42.5      \n",
       "2  Jacob             100        97.5      \n",
       "3  Elroy              80        77.5      \n",
       "4  Zoey               90        87.5      \n",
       "5  Bob                98        95.5      \n",
       "6  Mike               30        27.5      \n",
       "7  Andrew             89        86.5      \n",
       "8  James             100        97.5      \n",
       "9  Oleg               95        92.5      \n",
       "10 Valentin          100        97.5      \n",
       "11 Ryan               80        77.5      "
      ]
     },
     "metadata": {},
     "output_type": "display_data"
    }
   ],
   "source": [
    "dfnew[, c(1, 2, 4)] #Grab cols 1 2 2"
   ]
  },
  {
   "cell_type": "code",
   "execution_count": 22,
   "metadata": {},
   "outputs": [
    {
     "data": {
      "text/html": [
       "<table>\n",
       "<caption>A data.frame: 11 × 2</caption>\n",
       "<thead>\n",
       "\t<tr><th scope=col>Names of Students</th><th scope=col>Third.Exam</th></tr>\n",
       "\t<tr><th scope=col>&lt;fct&gt;</th><th scope=col>&lt;dbl&gt;</th></tr>\n",
       "</thead>\n",
       "<tbody>\n",
       "\t<tr><td>Sai     </td><td>42.5</td></tr>\n",
       "\t<tr><td>Jacob   </td><td>97.5</td></tr>\n",
       "\t<tr><td>Elroy   </td><td>77.5</td></tr>\n",
       "\t<tr><td>Zoey    </td><td>87.5</td></tr>\n",
       "\t<tr><td>Bob     </td><td>95.5</td></tr>\n",
       "\t<tr><td>Mike    </td><td>27.5</td></tr>\n",
       "\t<tr><td>Andrew  </td><td>86.5</td></tr>\n",
       "\t<tr><td>James   </td><td>97.5</td></tr>\n",
       "\t<tr><td>Oleg    </td><td>92.5</td></tr>\n",
       "\t<tr><td>Valentin</td><td>97.5</td></tr>\n",
       "\t<tr><td>Ryan    </td><td>77.5</td></tr>\n",
       "</tbody>\n",
       "</table>\n"
      ],
      "text/latex": [
       "A data.frame: 11 × 2\n",
       "\\begin{tabular}{ll}\n",
       " Names of Students & Third.Exam\\\\\n",
       " <fct> & <dbl>\\\\\n",
       "\\hline\n",
       "\t Sai      & 42.5\\\\\n",
       "\t Jacob    & 97.5\\\\\n",
       "\t Elroy    & 77.5\\\\\n",
       "\t Zoey     & 87.5\\\\\n",
       "\t Bob      & 95.5\\\\\n",
       "\t Mike     & 27.5\\\\\n",
       "\t Andrew   & 86.5\\\\\n",
       "\t James    & 97.5\\\\\n",
       "\t Oleg     & 92.5\\\\\n",
       "\t Valentin & 97.5\\\\\n",
       "\t Ryan     & 77.5\\\\\n",
       "\\end{tabular}\n"
      ],
      "text/markdown": [
       "\n",
       "A data.frame: 11 × 2\n",
       "\n",
       "| Names of Students &lt;fct&gt; | Third.Exam &lt;dbl&gt; |\n",
       "|---|---|\n",
       "| Sai      | 42.5 |\n",
       "| Jacob    | 97.5 |\n",
       "| Elroy    | 77.5 |\n",
       "| Zoey     | 87.5 |\n",
       "| Bob      | 95.5 |\n",
       "| Mike     | 27.5 |\n",
       "| Andrew   | 86.5 |\n",
       "| James    | 97.5 |\n",
       "| Oleg     | 92.5 |\n",
       "| Valentin | 97.5 |\n",
       "| Ryan     | 77.5 |\n",
       "\n"
      ],
      "text/plain": [
       "   Names of Students Third.Exam\n",
       "1  Sai               42.5      \n",
       "2  Jacob             97.5      \n",
       "3  Elroy             77.5      \n",
       "4  Zoey              87.5      \n",
       "5  Bob               95.5      \n",
       "6  Mike              27.5      \n",
       "7  Andrew            86.5      \n",
       "8  James             97.5      \n",
       "9  Oleg              92.5      \n",
       "10 Valentin          97.5      \n",
       "11 Ryan              77.5      "
      ]
     },
     "metadata": {},
     "output_type": "display_data"
    }
   ],
   "source": [
    "dfnew[, c(\"Names of Students\", 'Third.Exam')] # by name"
   ]
  },
  {
   "cell_type": "code",
   "execution_count": 23,
   "metadata": {},
   "outputs": [
    {
     "data": {
      "text/html": [
       "<table>\n",
       "<caption>A data.frame: 11 × 4</caption>\n",
       "<thead>\n",
       "\t<tr><th scope=col>First.Exam</th><th scope=col>Second.Exam</th><th scope=col>Third.Exam</th><th scope=col>Fourth.Exam</th></tr>\n",
       "\t<tr><th scope=col>&lt;dbl&gt;</th><th scope=col>&lt;dbl&gt;</th><th scope=col>&lt;dbl&gt;</th><th scope=col>&lt;dbl&gt;</th></tr>\n",
       "</thead>\n",
       "<tbody>\n",
       "\t<tr><td> 45</td><td>40</td><td>42.5</td><td> 60</td></tr>\n",
       "\t<tr><td>100</td><td>95</td><td>97.5</td><td> 91</td></tr>\n",
       "\t<tr><td> 80</td><td>75</td><td>77.5</td><td>100</td></tr>\n",
       "\t<tr><td> 90</td><td>85</td><td>87.5</td><td> 80</td></tr>\n",
       "\t<tr><td> 98</td><td>93</td><td>95.5</td><td> 89</td></tr>\n",
       "\t<tr><td> 30</td><td>25</td><td>27.5</td><td> 95</td></tr>\n",
       "\t<tr><td> 89</td><td>84</td><td>86.5</td><td> 60</td></tr>\n",
       "\t<tr><td>100</td><td>95</td><td>97.5</td><td> 99</td></tr>\n",
       "\t<tr><td> 95</td><td>90</td><td>92.5</td><td>100</td></tr>\n",
       "\t<tr><td>100</td><td>95</td><td>97.5</td><td> 87</td></tr>\n",
       "\t<tr><td> 80</td><td>75</td><td>77.5</td><td> 81</td></tr>\n",
       "</tbody>\n",
       "</table>\n"
      ],
      "text/latex": [
       "A data.frame: 11 × 4\n",
       "\\begin{tabular}{llll}\n",
       " First.Exam & Second.Exam & Third.Exam & Fourth.Exam\\\\\n",
       " <dbl> & <dbl> & <dbl> & <dbl>\\\\\n",
       "\\hline\n",
       "\t  45 & 40 & 42.5 &  60\\\\\n",
       "\t 100 & 95 & 97.5 &  91\\\\\n",
       "\t  80 & 75 & 77.5 & 100\\\\\n",
       "\t  90 & 85 & 87.5 &  80\\\\\n",
       "\t  98 & 93 & 95.5 &  89\\\\\n",
       "\t  30 & 25 & 27.5 &  95\\\\\n",
       "\t  89 & 84 & 86.5 &  60\\\\\n",
       "\t 100 & 95 & 97.5 &  99\\\\\n",
       "\t  95 & 90 & 92.5 & 100\\\\\n",
       "\t 100 & 95 & 97.5 &  87\\\\\n",
       "\t  80 & 75 & 77.5 &  81\\\\\n",
       "\\end{tabular}\n"
      ],
      "text/markdown": [
       "\n",
       "A data.frame: 11 × 4\n",
       "\n",
       "| First.Exam &lt;dbl&gt; | Second.Exam &lt;dbl&gt; | Third.Exam &lt;dbl&gt; | Fourth.Exam &lt;dbl&gt; |\n",
       "|---|---|---|---|\n",
       "|  45 | 40 | 42.5 |  60 |\n",
       "| 100 | 95 | 97.5 |  91 |\n",
       "|  80 | 75 | 77.5 | 100 |\n",
       "|  90 | 85 | 87.5 |  80 |\n",
       "|  98 | 93 | 95.5 |  89 |\n",
       "|  30 | 25 | 27.5 |  95 |\n",
       "|  89 | 84 | 86.5 |  60 |\n",
       "| 100 | 95 | 97.5 |  99 |\n",
       "|  95 | 90 | 92.5 | 100 |\n",
       "| 100 | 95 | 97.5 |  87 |\n",
       "|  80 | 75 | 77.5 |  81 |\n",
       "\n"
      ],
      "text/plain": [
       "   First.Exam Second.Exam Third.Exam Fourth.Exam\n",
       "1   45        40          42.5        60        \n",
       "2  100        95          97.5        91        \n",
       "3   80        75          77.5       100        \n",
       "4   90        85          87.5        80        \n",
       "5   98        93          95.5        89        \n",
       "6   30        25          27.5        95        \n",
       "7   89        84          86.5        60        \n",
       "8  100        95          97.5        99        \n",
       "9   95        90          92.5       100        \n",
       "10 100        95          97.5        87        \n",
       "11  80        75          77.5        81        "
      ]
     },
     "metadata": {},
     "output_type": "display_data"
    }
   ],
   "source": [
    "dfnew[, -1] # keep all but first column"
   ]
  },
  {
   "cell_type": "code",
   "execution_count": 24,
   "metadata": {},
   "outputs": [
    {
     "data": {
      "text/html": [
       "<table>\n",
       "<caption>A data.frame: 11 × 3</caption>\n",
       "<thead>\n",
       "\t<tr><th scope=col>First.Exam</th><th scope=col>Third.Exam</th><th scope=col>Fourth.Exam</th></tr>\n",
       "\t<tr><th scope=col>&lt;dbl&gt;</th><th scope=col>&lt;dbl&gt;</th><th scope=col>&lt;dbl&gt;</th></tr>\n",
       "</thead>\n",
       "<tbody>\n",
       "\t<tr><td> 45</td><td>42.5</td><td> 60</td></tr>\n",
       "\t<tr><td>100</td><td>97.5</td><td> 91</td></tr>\n",
       "\t<tr><td> 80</td><td>77.5</td><td>100</td></tr>\n",
       "\t<tr><td> 90</td><td>87.5</td><td> 80</td></tr>\n",
       "\t<tr><td> 98</td><td>95.5</td><td> 89</td></tr>\n",
       "\t<tr><td> 30</td><td>27.5</td><td> 95</td></tr>\n",
       "\t<tr><td> 89</td><td>86.5</td><td> 60</td></tr>\n",
       "\t<tr><td>100</td><td>97.5</td><td> 99</td></tr>\n",
       "\t<tr><td> 95</td><td>92.5</td><td>100</td></tr>\n",
       "\t<tr><td>100</td><td>97.5</td><td> 87</td></tr>\n",
       "\t<tr><td> 80</td><td>77.5</td><td> 81</td></tr>\n",
       "</tbody>\n",
       "</table>\n"
      ],
      "text/latex": [
       "A data.frame: 11 × 3\n",
       "\\begin{tabular}{lll}\n",
       " First.Exam & Third.Exam & Fourth.Exam\\\\\n",
       " <dbl> & <dbl> & <dbl>\\\\\n",
       "\\hline\n",
       "\t  45 & 42.5 &  60\\\\\n",
       "\t 100 & 97.5 &  91\\\\\n",
       "\t  80 & 77.5 & 100\\\\\n",
       "\t  90 & 87.5 &  80\\\\\n",
       "\t  98 & 95.5 &  89\\\\\n",
       "\t  30 & 27.5 &  95\\\\\n",
       "\t  89 & 86.5 &  60\\\\\n",
       "\t 100 & 97.5 &  99\\\\\n",
       "\t  95 & 92.5 & 100\\\\\n",
       "\t 100 & 97.5 &  87\\\\\n",
       "\t  80 & 77.5 &  81\\\\\n",
       "\\end{tabular}\n"
      ],
      "text/markdown": [
       "\n",
       "A data.frame: 11 × 3\n",
       "\n",
       "| First.Exam &lt;dbl&gt; | Third.Exam &lt;dbl&gt; | Fourth.Exam &lt;dbl&gt; |\n",
       "|---|---|---|\n",
       "|  45 | 42.5 |  60 |\n",
       "| 100 | 97.5 |  91 |\n",
       "|  80 | 77.5 | 100 |\n",
       "|  90 | 87.5 |  80 |\n",
       "|  98 | 95.5 |  89 |\n",
       "|  30 | 27.5 |  95 |\n",
       "|  89 | 86.5 |  60 |\n",
       "| 100 | 97.5 |  99 |\n",
       "|  95 | 92.5 | 100 |\n",
       "| 100 | 97.5 |  87 |\n",
       "|  80 | 77.5 |  81 |\n",
       "\n"
      ],
      "text/plain": [
       "   First.Exam Third.Exam Fourth.Exam\n",
       "1   45        42.5        60        \n",
       "2  100        97.5        91        \n",
       "3   80        77.5       100        \n",
       "4   90        87.5        80        \n",
       "5   98        95.5        89        \n",
       "6   30        27.5        95        \n",
       "7   89        86.5        60        \n",
       "8  100        97.5        99        \n",
       "9   95        92.5       100        \n",
       "10 100        97.5        87        \n",
       "11  80        77.5        81        "
      ]
     },
     "metadata": {},
     "output_type": "display_data"
    }
   ],
   "source": [
    "dfnew[, -c(1, 3)] # drop cols 1 and 3"
   ]
  },
  {
   "cell_type": "markdown",
   "metadata": {
    "scrolled": true
   },
   "source": [
    "## Dealing with Missing Data\n",
    "Dealing with missing data is a very important skill to know when working with data frames!"
   ]
  },
  {
   "cell_type": "code",
   "execution_count": 25,
   "metadata": {},
   "outputs": [
    {
     "data": {
      "text/html": [
       "FALSE"
      ],
      "text/latex": [
       "FALSE"
      ],
      "text/markdown": [
       "FALSE"
      ],
      "text/plain": [
       "[1] FALSE"
      ]
     },
     "metadata": {},
     "output_type": "display_data"
    }
   ],
   "source": [
    "any(is.na(mtcars)) # detect anywhere in df"
   ]
  },
  {
   "cell_type": "code",
   "execution_count": 26,
   "metadata": {},
   "outputs": [
    {
     "data": {
      "text/html": [
       "TRUE"
      ],
      "text/latex": [
       "TRUE"
      ],
      "text/markdown": [
       "TRUE"
      ],
      "text/plain": [
       "[1] TRUE"
      ]
     },
     "metadata": {},
     "output_type": "display_data"
    },
    {
     "data": {
      "text/html": [
       "<table>\n",
       "<caption>A data.frame: 11 × 5</caption>\n",
       "<thead>\n",
       "\t<tr><th scope=col>Names of Students</th><th scope=col>First.Exam</th><th scope=col>Second.Exam</th><th scope=col>Third.Exam</th><th scope=col>Fourth.Exam</th></tr>\n",
       "\t<tr><th scope=col>&lt;fct&gt;</th><th scope=col>&lt;dbl&gt;</th><th scope=col>&lt;dbl&gt;</th><th scope=col>&lt;dbl&gt;</th><th scope=col>&lt;dbl&gt;</th></tr>\n",
       "</thead>\n",
       "<tbody>\n",
       "\t<tr><td>Sai     </td><td> 45</td><td>40</td><td>42.5</td><td> 60</td></tr>\n",
       "\t<tr><td>Jacob   </td><td>100</td><td>95</td><td>97.5</td><td> 91</td></tr>\n",
       "\t<tr><td>Elroy   </td><td> 80</td><td>75</td><td>77.5</td><td>100</td></tr>\n",
       "\t<tr><td>Zoey    </td><td> 90</td><td>85</td><td>87.5</td><td> 80</td></tr>\n",
       "\t<tr><td>Bob     </td><td> 98</td><td>93</td><td>95.5</td><td> 89</td></tr>\n",
       "\t<tr><td>Mike    </td><td> 30</td><td>NA</td><td>27.5</td><td> 95</td></tr>\n",
       "\t<tr><td>Andrew  </td><td> 89</td><td>84</td><td>86.5</td><td> 60</td></tr>\n",
       "\t<tr><td>James   </td><td>100</td><td>95</td><td>97.5</td><td> 99</td></tr>\n",
       "\t<tr><td>Oleg    </td><td> 95</td><td>90</td><td>92.5</td><td>100</td></tr>\n",
       "\t<tr><td>Valentin</td><td>100</td><td>95</td><td>97.5</td><td> 87</td></tr>\n",
       "\t<tr><td>Ryan    </td><td> 80</td><td>75</td><td>77.5</td><td> 81</td></tr>\n",
       "</tbody>\n",
       "</table>\n"
      ],
      "text/latex": [
       "A data.frame: 11 × 5\n",
       "\\begin{tabular}{lllll}\n",
       " Names of Students & First.Exam & Second.Exam & Third.Exam & Fourth.Exam\\\\\n",
       " <fct> & <dbl> & <dbl> & <dbl> & <dbl>\\\\\n",
       "\\hline\n",
       "\t Sai      &  45 & 40 & 42.5 &  60\\\\\n",
       "\t Jacob    & 100 & 95 & 97.5 &  91\\\\\n",
       "\t Elroy    &  80 & 75 & 77.5 & 100\\\\\n",
       "\t Zoey     &  90 & 85 & 87.5 &  80\\\\\n",
       "\t Bob      &  98 & 93 & 95.5 &  89\\\\\n",
       "\t Mike     &  30 & NA & 27.5 &  95\\\\\n",
       "\t Andrew   &  89 & 84 & 86.5 &  60\\\\\n",
       "\t James    & 100 & 95 & 97.5 &  99\\\\\n",
       "\t Oleg     &  95 & 90 & 92.5 & 100\\\\\n",
       "\t Valentin & 100 & 95 & 97.5 &  87\\\\\n",
       "\t Ryan     &  80 & 75 & 77.5 &  81\\\\\n",
       "\\end{tabular}\n"
      ],
      "text/markdown": [
       "\n",
       "A data.frame: 11 × 5\n",
       "\n",
       "| Names of Students &lt;fct&gt; | First.Exam &lt;dbl&gt; | Second.Exam &lt;dbl&gt; | Third.Exam &lt;dbl&gt; | Fourth.Exam &lt;dbl&gt; |\n",
       "|---|---|---|---|---|\n",
       "| Sai      |  45 | 40 | 42.5 |  60 |\n",
       "| Jacob    | 100 | 95 | 97.5 |  91 |\n",
       "| Elroy    |  80 | 75 | 77.5 | 100 |\n",
       "| Zoey     |  90 | 85 | 87.5 |  80 |\n",
       "| Bob      |  98 | 93 | 95.5 |  89 |\n",
       "| Mike     |  30 | NA | 27.5 |  95 |\n",
       "| Andrew   |  89 | 84 | 86.5 |  60 |\n",
       "| James    | 100 | 95 | 97.5 |  99 |\n",
       "| Oleg     |  95 | 90 | 92.5 | 100 |\n",
       "| Valentin | 100 | 95 | 97.5 |  87 |\n",
       "| Ryan     |  80 | 75 | 77.5 |  81 |\n",
       "\n"
      ],
      "text/plain": [
       "   Names of Students First.Exam Second.Exam Third.Exam Fourth.Exam\n",
       "1  Sai                45        40          42.5        60        \n",
       "2  Jacob             100        95          97.5        91        \n",
       "3  Elroy              80        75          77.5       100        \n",
       "4  Zoey               90        85          87.5        80        \n",
       "5  Bob                98        93          95.5        89        \n",
       "6  Mike               30        NA          27.5        95        \n",
       "7  Andrew             89        84          86.5        60        \n",
       "8  James             100        95          97.5        99        \n",
       "9  Oleg               95        90          92.5       100        \n",
       "10 Valentin          100        95          97.5        87        \n",
       "11 Ryan               80        75          77.5        81        "
      ]
     },
     "metadata": {},
     "output_type": "display_data"
    }
   ],
   "source": [
    "#We have an empty cell in dfnew\n",
    "dfnew[[6, 'Second.Exam']] <- NA # reassign a single cell. Mike doesn't have a score for the second exam\n",
    "any(is.na(dfnew)) # checks to see if there are any NA values\n",
    "dfnew"
   ]
  },
  {
   "cell_type": "code",
   "execution_count": 31,
   "metadata": {},
   "outputs": [
    {
     "data": {
      "text/html": [
       "<table>\n",
       "<caption>A data.frame: 10 × 5</caption>\n",
       "<thead>\n",
       "\t<tr><th></th><th scope=col>Names of Students</th><th scope=col>First.Exam</th><th scope=col>Second.Exam</th><th scope=col>Third.Exam</th><th scope=col>Fourth.Exam</th></tr>\n",
       "\t<tr><th></th><th scope=col>&lt;fct&gt;</th><th scope=col>&lt;dbl&gt;</th><th scope=col>&lt;dbl&gt;</th><th scope=col>&lt;dbl&gt;</th><th scope=col>&lt;dbl&gt;</th></tr>\n",
       "</thead>\n",
       "<tbody>\n",
       "\t<tr><th scope=row>1</th><td>Sai     </td><td> 45</td><td>40</td><td>42.5</td><td> 60</td></tr>\n",
       "\t<tr><th scope=row>2</th><td>Jacob   </td><td>100</td><td>95</td><td>97.5</td><td> 91</td></tr>\n",
       "\t<tr><th scope=row>3</th><td>Elroy   </td><td> 80</td><td>75</td><td>77.5</td><td>100</td></tr>\n",
       "\t<tr><th scope=row>4</th><td>Zoey    </td><td> 90</td><td>85</td><td>87.5</td><td> 80</td></tr>\n",
       "\t<tr><th scope=row>5</th><td>Bob     </td><td> 98</td><td>93</td><td>95.5</td><td> 89</td></tr>\n",
       "\t<tr><th scope=row>7</th><td>Andrew  </td><td> 89</td><td>84</td><td>86.5</td><td> 60</td></tr>\n",
       "\t<tr><th scope=row>8</th><td>James   </td><td>100</td><td>95</td><td>97.5</td><td> 99</td></tr>\n",
       "\t<tr><th scope=row>9</th><td>Oleg    </td><td> 95</td><td>90</td><td>92.5</td><td>100</td></tr>\n",
       "\t<tr><th scope=row>10</th><td>Valentin</td><td>100</td><td>95</td><td>97.5</td><td> 87</td></tr>\n",
       "\t<tr><th scope=row>11</th><td>Ryan    </td><td> 80</td><td>75</td><td>77.5</td><td> 81</td></tr>\n",
       "</tbody>\n",
       "</table>\n"
      ],
      "text/latex": [
       "A data.frame: 10 × 5\n",
       "\\begin{tabular}{r|lllll}\n",
       "  & Names of Students & First.Exam & Second.Exam & Third.Exam & Fourth.Exam\\\\\n",
       "  & <fct> & <dbl> & <dbl> & <dbl> & <dbl>\\\\\n",
       "\\hline\n",
       "\t1 & Sai      &  45 & 40 & 42.5 &  60\\\\\n",
       "\t2 & Jacob    & 100 & 95 & 97.5 &  91\\\\\n",
       "\t3 & Elroy    &  80 & 75 & 77.5 & 100\\\\\n",
       "\t4 & Zoey     &  90 & 85 & 87.5 &  80\\\\\n",
       "\t5 & Bob      &  98 & 93 & 95.5 &  89\\\\\n",
       "\t7 & Andrew   &  89 & 84 & 86.5 &  60\\\\\n",
       "\t8 & James    & 100 & 95 & 97.5 &  99\\\\\n",
       "\t9 & Oleg     &  95 & 90 & 92.5 & 100\\\\\n",
       "\t10 & Valentin & 100 & 95 & 97.5 &  87\\\\\n",
       "\t11 & Ryan     &  80 & 75 & 77.5 &  81\\\\\n",
       "\\end{tabular}\n"
      ],
      "text/markdown": [
       "\n",
       "A data.frame: 10 × 5\n",
       "\n",
       "| <!--/--> | Names of Students &lt;fct&gt; | First.Exam &lt;dbl&gt; | Second.Exam &lt;dbl&gt; | Third.Exam &lt;dbl&gt; | Fourth.Exam &lt;dbl&gt; |\n",
       "|---|---|---|---|---|---|\n",
       "| 1 | Sai      |  45 | 40 | 42.5 |  60 |\n",
       "| 2 | Jacob    | 100 | 95 | 97.5 |  91 |\n",
       "| 3 | Elroy    |  80 | 75 | 77.5 | 100 |\n",
       "| 4 | Zoey     |  90 | 85 | 87.5 |  80 |\n",
       "| 5 | Bob      |  98 | 93 | 95.5 |  89 |\n",
       "| 7 | Andrew   |  89 | 84 | 86.5 |  60 |\n",
       "| 8 | James    | 100 | 95 | 97.5 |  99 |\n",
       "| 9 | Oleg     |  95 | 90 | 92.5 | 100 |\n",
       "| 10 | Valentin | 100 | 95 | 97.5 |  87 |\n",
       "| 11 | Ryan     |  80 | 75 | 77.5 |  81 |\n",
       "\n"
      ],
      "text/plain": [
       "   Names of Students First.Exam Second.Exam Third.Exam Fourth.Exam\n",
       "1  Sai                45        40          42.5        60        \n",
       "2  Jacob             100        95          97.5        91        \n",
       "3  Elroy              80        75          77.5       100        \n",
       "4  Zoey               90        85          87.5        80        \n",
       "5  Bob                98        93          95.5        89        \n",
       "7  Andrew             89        84          86.5        60        \n",
       "8  James             100        95          97.5        99        \n",
       "9  Oleg               95        90          92.5       100        \n",
       "10 Valentin          100        95          97.5        87        \n",
       "11 Ryan               80        75          77.5        81        "
      ]
     },
     "metadata": {},
     "output_type": "display_data"
    }
   ],
   "source": [
    "# We can delete the row that contains missing data\n",
    "dfnew <- dfnew[!is.na(dfnew$Second.Exam), ] # Good bye, Mike! \n",
    "dfnew"
   ]
  },
  {
   "cell_type": "code",
   "execution_count": 28,
   "metadata": {},
   "outputs": [
    {
     "data": {
      "text/html": [
       "<table>\n",
       "<caption>A data.frame: 11 × 5</caption>\n",
       "<thead>\n",
       "\t<tr><th scope=col>Names of Students</th><th scope=col>First.Exam</th><th scope=col>Second.Exam</th><th scope=col>Third.Exam</th><th scope=col>Fourth.Exam</th></tr>\n",
       "\t<tr><th scope=col>&lt;fct&gt;</th><th scope=col>&lt;dbl&gt;</th><th scope=col>&lt;dbl&gt;</th><th scope=col>&lt;dbl&gt;</th><th scope=col>&lt;dbl&gt;</th></tr>\n",
       "</thead>\n",
       "<tbody>\n",
       "\t<tr><td>Sai     </td><td> 45</td><td>40</td><td>42.5</td><td> 60</td></tr>\n",
       "\t<tr><td>Jacob   </td><td>100</td><td>95</td><td>97.5</td><td> 91</td></tr>\n",
       "\t<tr><td>Elroy   </td><td> 80</td><td>75</td><td>77.5</td><td>100</td></tr>\n",
       "\t<tr><td>Zoey    </td><td> 90</td><td>85</td><td>87.5</td><td> 80</td></tr>\n",
       "\t<tr><td>Bob     </td><td> 98</td><td>93</td><td>95.5</td><td> 89</td></tr>\n",
       "\t<tr><td>Mike    </td><td> 30</td><td> 0</td><td>27.5</td><td> 95</td></tr>\n",
       "\t<tr><td>Andrew  </td><td> 89</td><td>84</td><td>86.5</td><td> 60</td></tr>\n",
       "\t<tr><td>James   </td><td>100</td><td>95</td><td>97.5</td><td> 99</td></tr>\n",
       "\t<tr><td>Oleg    </td><td> 95</td><td>90</td><td>92.5</td><td>100</td></tr>\n",
       "\t<tr><td>Valentin</td><td>100</td><td>95</td><td>97.5</td><td> 87</td></tr>\n",
       "\t<tr><td>Ryan    </td><td> 80</td><td>75</td><td>77.5</td><td> 81</td></tr>\n",
       "</tbody>\n",
       "</table>\n"
      ],
      "text/latex": [
       "A data.frame: 11 × 5\n",
       "\\begin{tabular}{lllll}\n",
       " Names of Students & First.Exam & Second.Exam & Third.Exam & Fourth.Exam\\\\\n",
       " <fct> & <dbl> & <dbl> & <dbl> & <dbl>\\\\\n",
       "\\hline\n",
       "\t Sai      &  45 & 40 & 42.5 &  60\\\\\n",
       "\t Jacob    & 100 & 95 & 97.5 &  91\\\\\n",
       "\t Elroy    &  80 & 75 & 77.5 & 100\\\\\n",
       "\t Zoey     &  90 & 85 & 87.5 &  80\\\\\n",
       "\t Bob      &  98 & 93 & 95.5 &  89\\\\\n",
       "\t Mike     &  30 &  0 & 27.5 &  95\\\\\n",
       "\t Andrew   &  89 & 84 & 86.5 &  60\\\\\n",
       "\t James    & 100 & 95 & 97.5 &  99\\\\\n",
       "\t Oleg     &  95 & 90 & 92.5 & 100\\\\\n",
       "\t Valentin & 100 & 95 & 97.5 &  87\\\\\n",
       "\t Ryan     &  80 & 75 & 77.5 &  81\\\\\n",
       "\\end{tabular}\n"
      ],
      "text/markdown": [
       "\n",
       "A data.frame: 11 × 5\n",
       "\n",
       "| Names of Students &lt;fct&gt; | First.Exam &lt;dbl&gt; | Second.Exam &lt;dbl&gt; | Third.Exam &lt;dbl&gt; | Fourth.Exam &lt;dbl&gt; |\n",
       "|---|---|---|---|---|\n",
       "| Sai      |  45 | 40 | 42.5 |  60 |\n",
       "| Jacob    | 100 | 95 | 97.5 |  91 |\n",
       "| Elroy    |  80 | 75 | 77.5 | 100 |\n",
       "| Zoey     |  90 | 85 | 87.5 |  80 |\n",
       "| Bob      |  98 | 93 | 95.5 |  89 |\n",
       "| Mike     |  30 |  0 | 27.5 |  95 |\n",
       "| Andrew   |  89 | 84 | 86.5 |  60 |\n",
       "| James    | 100 | 95 | 97.5 |  99 |\n",
       "| Oleg     |  95 | 90 | 92.5 | 100 |\n",
       "| Valentin | 100 | 95 | 97.5 |  87 |\n",
       "| Ryan     |  80 | 75 | 77.5 |  81 |\n",
       "\n"
      ],
      "text/plain": [
       "   Names of Students First.Exam Second.Exam Third.Exam Fourth.Exam\n",
       "1  Sai                45        40          42.5        60        \n",
       "2  Jacob             100        95          97.5        91        \n",
       "3  Elroy              80        75          77.5       100        \n",
       "4  Zoey               90        85          87.5        80        \n",
       "5  Bob                98        93          95.5        89        \n",
       "6  Mike               30         0          27.5        95        \n",
       "7  Andrew             89        84          86.5        60        \n",
       "8  James             100        95          97.5        99        \n",
       "9  Oleg               95        90          92.5       100        \n",
       "10 Valentin          100        95          97.5        87        \n",
       "11 Ryan               80        75          77.5        81        "
      ]
     },
     "metadata": {},
     "output_type": "display_data"
    }
   ],
   "source": [
    "# Or we can replace NAs with something else\n",
    "dfnew[is.na(dfnew)] <- 0 # Replaces all NA values with 0's\n",
    "dfnew"
   ]
  },
  {
   "cell_type": "code",
   "execution_count": 30,
   "metadata": {},
   "outputs": [
    {
     "data": {
      "text/html": [
       "<table>\n",
       "<caption>A data.frame: 11 × 5</caption>\n",
       "<thead>\n",
       "\t<tr><th scope=col>Names of Students</th><th scope=col>First.Exam</th><th scope=col>Second.Exam</th><th scope=col>Third.Exam</th><th scope=col>Fourth.Exam</th></tr>\n",
       "\t<tr><th scope=col>&lt;fct&gt;</th><th scope=col>&lt;dbl&gt;</th><th scope=col>&lt;dbl&gt;</th><th scope=col>&lt;dbl&gt;</th><th scope=col>&lt;dbl&gt;</th></tr>\n",
       "</thead>\n",
       "<tbody>\n",
       "\t<tr><td>Sai     </td><td> 45</td><td>40</td><td>42.5</td><td> 60</td></tr>\n",
       "\t<tr><td>Jacob   </td><td>100</td><td>95</td><td>97.5</td><td> 91</td></tr>\n",
       "\t<tr><td>Elroy   </td><td> 80</td><td>75</td><td>77.5</td><td>100</td></tr>\n",
       "\t<tr><td>Zoey    </td><td> 90</td><td>85</td><td>87.5</td><td> 80</td></tr>\n",
       "\t<tr><td>Bob     </td><td> 98</td><td>93</td><td>95.5</td><td> 89</td></tr>\n",
       "\t<tr><td>Mike    </td><td> 30</td><td>NA</td><td>27.5</td><td> 95</td></tr>\n",
       "\t<tr><td>Andrew  </td><td> 89</td><td>84</td><td>86.5</td><td> 60</td></tr>\n",
       "\t<tr><td>James   </td><td>100</td><td>95</td><td>97.5</td><td> 99</td></tr>\n",
       "\t<tr><td>Oleg    </td><td> 95</td><td>90</td><td>92.5</td><td>100</td></tr>\n",
       "\t<tr><td>Valentin</td><td>100</td><td>95</td><td>97.5</td><td> 87</td></tr>\n",
       "\t<tr><td>Ryan    </td><td> 80</td><td>75</td><td>77.5</td><td> 81</td></tr>\n",
       "</tbody>\n",
       "</table>\n"
      ],
      "text/latex": [
       "A data.frame: 11 × 5\n",
       "\\begin{tabular}{lllll}\n",
       " Names of Students & First.Exam & Second.Exam & Third.Exam & Fourth.Exam\\\\\n",
       " <fct> & <dbl> & <dbl> & <dbl> & <dbl>\\\\\n",
       "\\hline\n",
       "\t Sai      &  45 & 40 & 42.5 &  60\\\\\n",
       "\t Jacob    & 100 & 95 & 97.5 &  91\\\\\n",
       "\t Elroy    &  80 & 75 & 77.5 & 100\\\\\n",
       "\t Zoey     &  90 & 85 & 87.5 &  80\\\\\n",
       "\t Bob      &  98 & 93 & 95.5 &  89\\\\\n",
       "\t Mike     &  30 & NA & 27.5 &  95\\\\\n",
       "\t Andrew   &  89 & 84 & 86.5 &  60\\\\\n",
       "\t James    & 100 & 95 & 97.5 &  99\\\\\n",
       "\t Oleg     &  95 & 90 & 92.5 & 100\\\\\n",
       "\t Valentin & 100 & 95 & 97.5 &  87\\\\\n",
       "\t Ryan     &  80 & 75 & 77.5 &  81\\\\\n",
       "\\end{tabular}\n"
      ],
      "text/markdown": [
       "\n",
       "A data.frame: 11 × 5\n",
       "\n",
       "| Names of Students &lt;fct&gt; | First.Exam &lt;dbl&gt; | Second.Exam &lt;dbl&gt; | Third.Exam &lt;dbl&gt; | Fourth.Exam &lt;dbl&gt; |\n",
       "|---|---|---|---|---|\n",
       "| Sai      |  45 | 40 | 42.5 |  60 |\n",
       "| Jacob    | 100 | 95 | 97.5 |  91 |\n",
       "| Elroy    |  80 | 75 | 77.5 | 100 |\n",
       "| Zoey     |  90 | 85 | 87.5 |  80 |\n",
       "| Bob      |  98 | 93 | 95.5 |  89 |\n",
       "| Mike     |  30 | NA | 27.5 |  95 |\n",
       "| Andrew   |  89 | 84 | 86.5 |  60 |\n",
       "| James    | 100 | 95 | 97.5 |  99 |\n",
       "| Oleg     |  95 | 90 | 92.5 | 100 |\n",
       "| Valentin | 100 | 95 | 97.5 |  87 |\n",
       "| Ryan     |  80 | 75 | 77.5 |  81 |\n",
       "\n"
      ],
      "text/plain": [
       "   Names of Students First.Exam Second.Exam Third.Exam Fourth.Exam\n",
       "1  Sai                45        40          42.5        60        \n",
       "2  Jacob             100        95          97.5        91        \n",
       "3  Elroy              80        75          77.5       100        \n",
       "4  Zoey               90        85          87.5        80        \n",
       "5  Bob                98        93          95.5        89        \n",
       "6  Mike               30        NA          27.5        95        \n",
       "7  Andrew             89        84          86.5        60        \n",
       "8  James             100        95          97.5        99        \n",
       "9  Oleg               95        90          92.5       100        \n",
       "10 Valentin          100        95          97.5        87        \n",
       "11 Ryan               80        75          77.5        81        "
      ]
     },
     "metadata": {},
     "output_type": "display_data"
    },
    {
     "data": {
      "text/html": [
       "<table>\n",
       "<caption>A data.frame: 11 × 5</caption>\n",
       "<thead>\n",
       "\t<tr><th scope=col>Names of Students</th><th scope=col>First.Exam</th><th scope=col>Second.Exam</th><th scope=col>Third.Exam</th><th scope=col>Fourth.Exam</th></tr>\n",
       "\t<tr><th scope=col>&lt;fct&gt;</th><th scope=col>&lt;dbl&gt;</th><th scope=col>&lt;dbl&gt;</th><th scope=col>&lt;dbl&gt;</th><th scope=col>&lt;dbl&gt;</th></tr>\n",
       "</thead>\n",
       "<tbody>\n",
       "\t<tr><td>Sai     </td><td> 45</td><td>40.0</td><td>42.5</td><td> 60</td></tr>\n",
       "\t<tr><td>Jacob   </td><td>100</td><td>95.0</td><td>97.5</td><td> 91</td></tr>\n",
       "\t<tr><td>Elroy   </td><td> 80</td><td>75.0</td><td>77.5</td><td>100</td></tr>\n",
       "\t<tr><td>Zoey    </td><td> 90</td><td>85.0</td><td>87.5</td><td> 80</td></tr>\n",
       "\t<tr><td>Bob     </td><td> 98</td><td>93.0</td><td>95.5</td><td> 89</td></tr>\n",
       "\t<tr><td>Mike    </td><td> 30</td><td>82.7</td><td>27.5</td><td> 95</td></tr>\n",
       "\t<tr><td>Andrew  </td><td> 89</td><td>84.0</td><td>86.5</td><td> 60</td></tr>\n",
       "\t<tr><td>James   </td><td>100</td><td>95.0</td><td>97.5</td><td> 99</td></tr>\n",
       "\t<tr><td>Oleg    </td><td> 95</td><td>90.0</td><td>92.5</td><td>100</td></tr>\n",
       "\t<tr><td>Valentin</td><td>100</td><td>95.0</td><td>97.5</td><td> 87</td></tr>\n",
       "\t<tr><td>Ryan    </td><td> 80</td><td>75.0</td><td>77.5</td><td> 81</td></tr>\n",
       "</tbody>\n",
       "</table>\n"
      ],
      "text/latex": [
       "A data.frame: 11 × 5\n",
       "\\begin{tabular}{lllll}\n",
       " Names of Students & First.Exam & Second.Exam & Third.Exam & Fourth.Exam\\\\\n",
       " <fct> & <dbl> & <dbl> & <dbl> & <dbl>\\\\\n",
       "\\hline\n",
       "\t Sai      &  45 & 40.0 & 42.5 &  60\\\\\n",
       "\t Jacob    & 100 & 95.0 & 97.5 &  91\\\\\n",
       "\t Elroy    &  80 & 75.0 & 77.5 & 100\\\\\n",
       "\t Zoey     &  90 & 85.0 & 87.5 &  80\\\\\n",
       "\t Bob      &  98 & 93.0 & 95.5 &  89\\\\\n",
       "\t Mike     &  30 & 82.7 & 27.5 &  95\\\\\n",
       "\t Andrew   &  89 & 84.0 & 86.5 &  60\\\\\n",
       "\t James    & 100 & 95.0 & 97.5 &  99\\\\\n",
       "\t Oleg     &  95 & 90.0 & 92.5 & 100\\\\\n",
       "\t Valentin & 100 & 95.0 & 97.5 &  87\\\\\n",
       "\t Ryan     &  80 & 75.0 & 77.5 &  81\\\\\n",
       "\\end{tabular}\n"
      ],
      "text/markdown": [
       "\n",
       "A data.frame: 11 × 5\n",
       "\n",
       "| Names of Students &lt;fct&gt; | First.Exam &lt;dbl&gt; | Second.Exam &lt;dbl&gt; | Third.Exam &lt;dbl&gt; | Fourth.Exam &lt;dbl&gt; |\n",
       "|---|---|---|---|---|\n",
       "| Sai      |  45 | 40.0 | 42.5 |  60 |\n",
       "| Jacob    | 100 | 95.0 | 97.5 |  91 |\n",
       "| Elroy    |  80 | 75.0 | 77.5 | 100 |\n",
       "| Zoey     |  90 | 85.0 | 87.5 |  80 |\n",
       "| Bob      |  98 | 93.0 | 95.5 |  89 |\n",
       "| Mike     |  30 | 82.7 | 27.5 |  95 |\n",
       "| Andrew   |  89 | 84.0 | 86.5 |  60 |\n",
       "| James    | 100 | 95.0 | 97.5 |  99 |\n",
       "| Oleg     |  95 | 90.0 | 92.5 | 100 |\n",
       "| Valentin | 100 | 95.0 | 97.5 |  87 |\n",
       "| Ryan     |  80 | 75.0 | 77.5 |  81 |\n",
       "\n"
      ],
      "text/plain": [
       "   Names of Students First.Exam Second.Exam Third.Exam Fourth.Exam\n",
       "1  Sai                45        40.0        42.5        60        \n",
       "2  Jacob             100        95.0        97.5        91        \n",
       "3  Elroy              80        75.0        77.5       100        \n",
       "4  Zoey               90        85.0        87.5        80        \n",
       "5  Bob                98        93.0        95.5        89        \n",
       "6  Mike               30        82.7        27.5        95        \n",
       "7  Andrew             89        84.0        86.5        60        \n",
       "8  James             100        95.0        97.5        99        \n",
       "9  Oleg               95        90.0        92.5       100        \n",
       "10 Valentin          100        95.0        97.5        87        \n",
       "11 Ryan               80        75.0        77.5        81        "
      ]
     },
     "metadata": {},
     "output_type": "display_data"
    }
   ],
   "source": [
    "#Or we can add in the average value for that row \n",
    "\n",
    "dfnew[[6, 'Second.Exam']] <- NA \n",
    "dfnew\n",
    "\n",
    "dfnew$Second.Exam[is.na(dfnew$Second.Exam)] <- mean(dfnew$Second.Exam)\n",
    "dfnew"
   ]
  },
  {
   "cell_type": "code",
   "execution_count": null,
   "metadata": {},
   "outputs": [],
   "source": []
  }
 ],
 "metadata": {
  "kernelspec": {
   "display_name": "R",
   "language": "R",
   "name": "ir"
  },
  "language_info": {
   "codemirror_mode": "r",
   "file_extension": ".r",
   "mimetype": "text/x-r-source",
   "name": "R",
   "pygments_lexer": "r",
   "version": "3.6.1"
  }
 },
 "nbformat": 4,
 "nbformat_minor": 4
}
