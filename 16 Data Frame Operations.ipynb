{
 "cells": [
  {
   "cell_type": "code",
   "execution_count": 4,
   "metadata": {},
   "outputs": [],
   "source": [
    "#### data frames are the work horse of R, so be sure to understand all the following topics\n",
    "#### #1 Creating Data Frames\n",
    "#### #2 Importing and Exporting Data\n",
    "#### #3 Getting Information about Data Frames\n",
    "#### #4 Referencing Cells\n",
    "#### #5 Referencing Rows\n",
    "#### #6 Referencing Columns\n",
    "#### #7 Adding Rows\n",
    "#### #8 Adding Columns\n",
    "#### #9 Setting Column Names\n",
    "#### #10 Selecting Multiple Rows\n",
    "#### #11 Selecting Multiple Columns\n",
    "#### #12 Dealing with Missing Data"
   ]
  },
  {
   "cell_type": "code",
   "execution_count": 5,
   "metadata": {},
   "outputs": [],
   "source": [
    "#### #1 Creating Data Frames\n",
    "#lets first create an empty data frame\n",
    "empty <- data.frame()"
   ]
  },
  {
   "cell_type": "code",
   "execution_count": 28,
   "metadata": {},
   "outputs": [],
   "source": [
    "# lets now create a vector \n",
    "c1 <-  runif(10)"
   ]
  },
  {
   "cell_type": "code",
   "execution_count": 29,
   "metadata": {},
   "outputs": [],
   "source": [
    "#we can use the built in vector 'letters' to make the next vector\n",
    "c2 <- letters[1:10]"
   ]
  },
  {
   "cell_type": "code",
   "execution_count": 30,
   "metadata": {},
   "outputs": [
    {
     "data": {
      "text/html": [
       "<style>\n",
       ".list-inline {list-style: none; margin:0; padding: 0}\n",
       ".list-inline>li {display: inline-block}\n",
       ".list-inline>li:not(:last-child)::after {content: \"\\00b7\"; padding: 0 .5ex}\n",
       "</style>\n",
       "<ol class=list-inline><li>0.383380907354876</li><li>0.696825159713626</li><li>0.201767750317231</li><li>0.690234345383942</li><li>0.0209635361097753</li><li>0.140995271969587</li><li>0.244022584753111</li><li>0.790130277629942</li><li>0.601322462782264</li><li>0.96245306963101</li></ol>\n"
      ],
      "text/latex": [
       "\\begin{enumerate*}\n",
       "\\item 0.383380907354876\n",
       "\\item 0.696825159713626\n",
       "\\item 0.201767750317231\n",
       "\\item 0.690234345383942\n",
       "\\item 0.0209635361097753\n",
       "\\item 0.140995271969587\n",
       "\\item 0.244022584753111\n",
       "\\item 0.790130277629942\n",
       "\\item 0.601322462782264\n",
       "\\item 0.96245306963101\n",
       "\\end{enumerate*}\n"
      ],
      "text/markdown": [
       "1. 0.383380907354876\n",
       "2. 0.696825159713626\n",
       "3. 0.201767750317231\n",
       "4. 0.690234345383942\n",
       "5. 0.0209635361097753\n",
       "6. 0.140995271969587\n",
       "7. 0.244022584753111\n",
       "8. 0.790130277629942\n",
       "9. 0.601322462782264\n",
       "10. 0.96245306963101\n",
       "\n",
       "\n"
      ],
      "text/plain": [
       " [1] 0.38338091 0.69682516 0.20176775 0.69023435 0.02096354 0.14099527\n",
       " [7] 0.24402258 0.79013028 0.60132246 0.96245307"
      ]
     },
     "metadata": {},
     "output_type": "display_data"
    },
    {
     "data": {
      "text/html": [
       "<style>\n",
       ".list-inline {list-style: none; margin:0; padding: 0}\n",
       ".list-inline>li {display: inline-block}\n",
       ".list-inline>li:not(:last-child)::after {content: \"\\00b7\"; padding: 0 .5ex}\n",
       "</style>\n",
       "<ol class=list-inline><li>'a'</li><li>'b'</li><li>'c'</li><li>'d'</li><li>'e'</li><li>'f'</li><li>'g'</li><li>'h'</li><li>'i'</li><li>'j'</li></ol>\n"
      ],
      "text/latex": [
       "\\begin{enumerate*}\n",
       "\\item 'a'\n",
       "\\item 'b'\n",
       "\\item 'c'\n",
       "\\item 'd'\n",
       "\\item 'e'\n",
       "\\item 'f'\n",
       "\\item 'g'\n",
       "\\item 'h'\n",
       "\\item 'i'\n",
       "\\item 'j'\n",
       "\\end{enumerate*}\n"
      ],
      "text/markdown": [
       "1. 'a'\n",
       "2. 'b'\n",
       "3. 'c'\n",
       "4. 'd'\n",
       "5. 'e'\n",
       "6. 'f'\n",
       "7. 'g'\n",
       "8. 'h'\n",
       "9. 'i'\n",
       "10. 'j'\n",
       "\n",
       "\n"
      ],
      "text/plain": [
       " [1] \"a\" \"b\" \"c\" \"d\" \"e\" \"f\" \"g\" \"h\" \"i\" \"j\""
      ]
     },
     "metadata": {},
     "output_type": "display_data"
    }
   ],
   "source": [
    "c1\n",
    "c2"
   ]
  },
  {
   "cell_type": "code",
   "execution_count": 31,
   "metadata": {},
   "outputs": [
    {
     "data": {
      "text/html": [
       "<table>\n",
       "<caption>A data.frame: 10 × 2</caption>\n",
       "<thead>\n",
       "\t<tr><th scope=col>numbers</th><th scope=col>letters</th></tr>\n",
       "\t<tr><th scope=col>&lt;dbl&gt;</th><th scope=col>&lt;fct&gt;</th></tr>\n",
       "</thead>\n",
       "<tbody>\n",
       "\t<tr><td>0.38338091</td><td>a</td></tr>\n",
       "\t<tr><td>0.69682516</td><td>b</td></tr>\n",
       "\t<tr><td>0.20176775</td><td>c</td></tr>\n",
       "\t<tr><td>0.69023435</td><td>d</td></tr>\n",
       "\t<tr><td>0.02096354</td><td>e</td></tr>\n",
       "\t<tr><td>0.14099527</td><td>f</td></tr>\n",
       "\t<tr><td>0.24402258</td><td>g</td></tr>\n",
       "\t<tr><td>0.79013028</td><td>h</td></tr>\n",
       "\t<tr><td>0.60132246</td><td>i</td></tr>\n",
       "\t<tr><td>0.96245307</td><td>j</td></tr>\n",
       "</tbody>\n",
       "</table>\n"
      ],
      "text/latex": [
       "A data.frame: 10 × 2\n",
       "\\begin{tabular}{ll}\n",
       " numbers & letters\\\\\n",
       " <dbl> & <fct>\\\\\n",
       "\\hline\n",
       "\t 0.38338091 & a\\\\\n",
       "\t 0.69682516 & b\\\\\n",
       "\t 0.20176775 & c\\\\\n",
       "\t 0.69023435 & d\\\\\n",
       "\t 0.02096354 & e\\\\\n",
       "\t 0.14099527 & f\\\\\n",
       "\t 0.24402258 & g\\\\\n",
       "\t 0.79013028 & h\\\\\n",
       "\t 0.60132246 & i\\\\\n",
       "\t 0.96245307 & j\\\\\n",
       "\\end{tabular}\n"
      ],
      "text/markdown": [
       "\n",
       "A data.frame: 10 × 2\n",
       "\n",
       "| numbers &lt;dbl&gt; | letters &lt;fct&gt; |\n",
       "|---|---|\n",
       "| 0.38338091 | a |\n",
       "| 0.69682516 | b |\n",
       "| 0.20176775 | c |\n",
       "| 0.69023435 | d |\n",
       "| 0.02096354 | e |\n",
       "| 0.14099527 | f |\n",
       "| 0.24402258 | g |\n",
       "| 0.79013028 | h |\n",
       "| 0.60132246 | i |\n",
       "| 0.96245307 | j |\n",
       "\n"
      ],
      "text/plain": [
       "   numbers    letters\n",
       "1  0.38338091 a      \n",
       "2  0.69682516 b      \n",
       "3  0.20176775 c      \n",
       "4  0.69023435 d      \n",
       "5  0.02096354 e      \n",
       "6  0.14099527 f      \n",
       "7  0.24402258 g      \n",
       "8  0.79013028 h      \n",
       "9  0.60132246 i      \n",
       "10 0.96245307 j      "
      ]
     },
     "metadata": {},
     "output_type": "display_data"
    }
   ],
   "source": [
    "# lets make our data frame and name the columns\n",
    "df <- data.frame(\"numbers\" = c1, \"letters\" = c2) \n",
    "df"
   ]
  },
  {
   "cell_type": "code",
   "execution_count": 33,
   "metadata": {},
   "outputs": [
    {
     "data": {
      "text/html": [
       "<table>\n",
       "<caption>A data.frame: 10 × 3</caption>\n",
       "<thead>\n",
       "\t<tr><th scope=col>X</th><th scope=col>numbers</th><th scope=col>letters</th></tr>\n",
       "\t<tr><th scope=col>&lt;int&gt;</th><th scope=col>&lt;dbl&gt;</th><th scope=col>&lt;fct&gt;</th></tr>\n",
       "</thead>\n",
       "<tbody>\n",
       "\t<tr><td> 1</td><td>0.38338091</td><td>a</td></tr>\n",
       "\t<tr><td> 2</td><td>0.69682516</td><td>b</td></tr>\n",
       "\t<tr><td> 3</td><td>0.20176775</td><td>c</td></tr>\n",
       "\t<tr><td> 4</td><td>0.69023435</td><td>d</td></tr>\n",
       "\t<tr><td> 5</td><td>0.02096354</td><td>e</td></tr>\n",
       "\t<tr><td> 6</td><td>0.14099527</td><td>f</td></tr>\n",
       "\t<tr><td> 7</td><td>0.24402258</td><td>g</td></tr>\n",
       "\t<tr><td> 8</td><td>0.79013028</td><td>h</td></tr>\n",
       "\t<tr><td> 9</td><td>0.60132246</td><td>i</td></tr>\n",
       "\t<tr><td>10</td><td>0.96245307</td><td>j</td></tr>\n",
       "</tbody>\n",
       "</table>\n"
      ],
      "text/latex": [
       "A data.frame: 10 × 3\n",
       "\\begin{tabular}{lll}\n",
       " X & numbers & letters\\\\\n",
       " <int> & <dbl> & <fct>\\\\\n",
       "\\hline\n",
       "\t  1 & 0.38338091 & a\\\\\n",
       "\t  2 & 0.69682516 & b\\\\\n",
       "\t  3 & 0.20176775 & c\\\\\n",
       "\t  4 & 0.69023435 & d\\\\\n",
       "\t  5 & 0.02096354 & e\\\\\n",
       "\t  6 & 0.14099527 & f\\\\\n",
       "\t  7 & 0.24402258 & g\\\\\n",
       "\t  8 & 0.79013028 & h\\\\\n",
       "\t  9 & 0.60132246 & i\\\\\n",
       "\t 10 & 0.96245307 & j\\\\\n",
       "\\end{tabular}\n"
      ],
      "text/markdown": [
       "\n",
       "A data.frame: 10 × 3\n",
       "\n",
       "| X &lt;int&gt; | numbers &lt;dbl&gt; | letters &lt;fct&gt; |\n",
       "|---|---|---|\n",
       "|  1 | 0.38338091 | a |\n",
       "|  2 | 0.69682516 | b |\n",
       "|  3 | 0.20176775 | c |\n",
       "|  4 | 0.69023435 | d |\n",
       "|  5 | 0.02096354 | e |\n",
       "|  6 | 0.14099527 | f |\n",
       "|  7 | 0.24402258 | g |\n",
       "|  8 | 0.79013028 | h |\n",
       "|  9 | 0.60132246 | i |\n",
       "| 10 | 0.96245307 | j |\n",
       "\n"
      ],
      "text/plain": [
       "   X  numbers    letters\n",
       "1   1 0.38338091 a      \n",
       "2   2 0.69682516 b      \n",
       "3   3 0.20176775 c      \n",
       "4   4 0.69023435 d      \n",
       "5   5 0.02096354 e      \n",
       "6   6 0.14099527 f      \n",
       "7   7 0.24402258 g      \n",
       "8   8 0.79013028 h      \n",
       "9   9 0.60132246 i      \n",
       "10 10 0.96245307 j      "
      ]
     },
     "metadata": {},
     "output_type": "display_data"
    }
   ],
   "source": [
    "#### #2 Importing and Exporting Data\n",
    "write.csv(df,file = 'saved_df.csv') #this will save the csv file to the hard drive\n",
    "df2 <- read.csv('saved_df.csv') # this will assign a new variable the csv data frame file\n",
    "df2"
   ]
  },
  {
   "cell_type": "code",
   "execution_count": 34,
   "metadata": {},
   "outputs": [],
   "source": [
    "### #3 Getting information about the dataframe\n",
    "# Lets say we want to know the number of column and rows\n",
    "# we can use the nrow() and ncol() function to check both values"
   ]
  },
  {
   "cell_type": "code",
   "execution_count": 35,
   "metadata": {},
   "outputs": [
    {
     "data": {
      "text/html": [
       "10"
      ],
      "text/latex": [
       "10"
      ],
      "text/markdown": [
       "10"
      ],
      "text/plain": [
       "[1] 10"
      ]
     },
     "metadata": {},
     "output_type": "display_data"
    },
    {
     "data": {
      "text/html": [
       "2"
      ],
      "text/latex": [
       "2"
      ],
      "text/markdown": [
       "2"
      ],
      "text/plain": [
       "[1] 2"
      ]
     },
     "metadata": {},
     "output_type": "display_data"
    }
   ],
   "source": [
    "nrow(df) #these won't provide the names for the columns and row, just the values\n",
    "ncol(df)"
   ]
  },
  {
   "cell_type": "code",
   "execution_count": 41,
   "metadata": {},
   "outputs": [
    {
     "data": {
      "text/html": [
       "<style>\n",
       ".list-inline {list-style: none; margin:0; padding: 0}\n",
       ".list-inline>li {display: inline-block}\n",
       ".list-inline>li:not(:last-child)::after {content: \"\\00b7\"; padding: 0 .5ex}\n",
       "</style>\n",
       "<ol class=list-inline><li>'X'</li><li>'numbers'</li><li>'letters'</li></ol>\n"
      ],
      "text/latex": [
       "\\begin{enumerate*}\n",
       "\\item 'X'\n",
       "\\item 'numbers'\n",
       "\\item 'letters'\n",
       "\\end{enumerate*}\n"
      ],
      "text/markdown": [
       "1. 'X'\n",
       "2. 'numbers'\n",
       "3. 'letters'\n",
       "\n",
       "\n"
      ],
      "text/plain": [
       "[1] \"X\"       \"numbers\" \"letters\""
      ]
     },
     "metadata": {},
     "output_type": "display_data"
    },
    {
     "data": {
      "text/html": [
       "<style>\n",
       ".list-inline {list-style: none; margin:0; padding: 0}\n",
       ".list-inline>li {display: inline-block}\n",
       ".list-inline>li:not(:last-child)::after {content: \"\\00b7\"; padding: 0 .5ex}\n",
       "</style>\n",
       "<ol class=list-inline><li>'1'</li><li>'2'</li><li>'3'</li><li>'4'</li><li>'5'</li><li>'6'</li><li>'7'</li><li>'8'</li><li>'9'</li><li>'10'</li></ol>\n"
      ],
      "text/latex": [
       "\\begin{enumerate*}\n",
       "\\item '1'\n",
       "\\item '2'\n",
       "\\item '3'\n",
       "\\item '4'\n",
       "\\item '5'\n",
       "\\item '6'\n",
       "\\item '7'\n",
       "\\item '8'\n",
       "\\item '9'\n",
       "\\item '10'\n",
       "\\end{enumerate*}\n"
      ],
      "text/markdown": [
       "1. '1'\n",
       "2. '2'\n",
       "3. '3'\n",
       "4. '4'\n",
       "5. '5'\n",
       "6. '6'\n",
       "7. '7'\n",
       "8. '8'\n",
       "9. '9'\n",
       "10. '10'\n",
       "\n",
       "\n"
      ],
      "text/plain": [
       " [1] \"1\"  \"2\"  \"3\"  \"4\"  \"5\"  \"6\"  \"7\"  \"8\"  \"9\"  \"10\""
      ]
     },
     "metadata": {},
     "output_type": "display_data"
    }
   ],
   "source": [
    "colnames(df2)\n",
    "rownames(df2) #be careful with this because this can be a massive amount of data depending on how much your data frame contains\n",
    "#if you've already imported data from a csv, this will just return the number from which row the data came from"
   ]
  },
  {
   "cell_type": "code",
   "execution_count": 42,
   "metadata": {},
   "outputs": [
    {
     "name": "stdout",
     "output_type": "stream",
     "text": [
      "'data.frame':\t10 obs. of  2 variables:\n",
      " $ numbers: num  0.383 0.697 0.202 0.69 0.021 ...\n",
      " $ letters: Factor w/ 10 levels \"a\",\"b\",\"c\",\"d\",..: 1 2 3 4 5 6 7 8 9 10\n"
     ]
    }
   ],
   "source": [
    "str(df)"
   ]
  },
  {
   "cell_type": "code",
   "execution_count": 43,
   "metadata": {},
   "outputs": [
    {
     "data": {
      "text/plain": [
       "    numbers           letters \n",
       " Min.   :0.02096   a      :1  \n",
       " 1st Qu.:0.21233   b      :1  \n",
       " Median :0.49235   c      :1  \n",
       " Mean   :0.47321   d      :1  \n",
       " 3rd Qu.:0.69518   e      :1  \n",
       " Max.   :0.96245   f      :1  \n",
       "                   (Other):4  "
      ]
     },
     "metadata": {},
     "output_type": "display_data"
    }
   ],
   "source": [
    "summary(df) #the numbers column is significant, but the letters column will just return one value for each letter"
   ]
  },
  {
   "cell_type": "code",
   "execution_count": 45,
   "metadata": {},
   "outputs": [
    {
     "data": {
      "text/html": [
       "<table>\n",
       "<caption>A data.frame: 10 × 2</caption>\n",
       "<thead>\n",
       "\t<tr><th scope=col>numbers</th><th scope=col>letters</th></tr>\n",
       "\t<tr><th scope=col>&lt;dbl&gt;</th><th scope=col>&lt;fct&gt;</th></tr>\n",
       "</thead>\n",
       "<tbody>\n",
       "\t<tr><td>0.38338091</td><td>a</td></tr>\n",
       "\t<tr><td>0.69682516</td><td>b</td></tr>\n",
       "\t<tr><td>0.20176775</td><td>c</td></tr>\n",
       "\t<tr><td>0.69023435</td><td>d</td></tr>\n",
       "\t<tr><td>0.02096354</td><td>e</td></tr>\n",
       "\t<tr><td>0.14099527</td><td>f</td></tr>\n",
       "\t<tr><td>0.24402258</td><td>g</td></tr>\n",
       "\t<tr><td>0.79013028</td><td>h</td></tr>\n",
       "\t<tr><td>0.60132246</td><td>i</td></tr>\n",
       "\t<tr><td>0.96245307</td><td>j</td></tr>\n",
       "</tbody>\n",
       "</table>\n"
      ],
      "text/latex": [
       "A data.frame: 10 × 2\n",
       "\\begin{tabular}{ll}\n",
       " numbers & letters\\\\\n",
       " <dbl> & <fct>\\\\\n",
       "\\hline\n",
       "\t 0.38338091 & a\\\\\n",
       "\t 0.69682516 & b\\\\\n",
       "\t 0.20176775 & c\\\\\n",
       "\t 0.69023435 & d\\\\\n",
       "\t 0.02096354 & e\\\\\n",
       "\t 0.14099527 & f\\\\\n",
       "\t 0.24402258 & g\\\\\n",
       "\t 0.79013028 & h\\\\\n",
       "\t 0.60132246 & i\\\\\n",
       "\t 0.96245307 & j\\\\\n",
       "\\end{tabular}\n"
      ],
      "text/markdown": [
       "\n",
       "A data.frame: 10 × 2\n",
       "\n",
       "| numbers &lt;dbl&gt; | letters &lt;fct&gt; |\n",
       "|---|---|\n",
       "| 0.38338091 | a |\n",
       "| 0.69682516 | b |\n",
       "| 0.20176775 | c |\n",
       "| 0.69023435 | d |\n",
       "| 0.02096354 | e |\n",
       "| 0.14099527 | f |\n",
       "| 0.24402258 | g |\n",
       "| 0.79013028 | h |\n",
       "| 0.60132246 | i |\n",
       "| 0.96245307 | j |\n",
       "\n"
      ],
      "text/plain": [
       "   numbers    letters\n",
       "1  0.38338091 a      \n",
       "2  0.69682516 b      \n",
       "3  0.20176775 c      \n",
       "4  0.69023435 d      \n",
       "5  0.02096354 e      \n",
       "6  0.14099527 f      \n",
       "7  0.24402258 g      \n",
       "8  0.79013028 h      \n",
       "9  0.60132246 i      \n",
       "10 0.96245307 j      "
      ]
     },
     "metadata": {},
     "output_type": "display_data"
    },
    {
     "data": {
      "text/html": [
       "e\n",
       "<details>\n",
       "\t<summary style=display:list-item;cursor:pointer>\n",
       "\t\t<strong>Levels</strong>:\n",
       "\t</summary>\n",
       "\t<style>\n",
       "\t.list-inline {list-style: none; margin:0; padding: 0}\n",
       "\t.list-inline>li {display: inline-block}\n",
       "\t.list-inline>li:not(:last-child)::after {content: \"\\00b7\"; padding: 0 .5ex}\n",
       "\t</style>\n",
       "\t<ol class=list-inline><li>'a'</li><li>'b'</li><li>'c'</li><li>'d'</li><li>'e'</li><li>'f'</li><li>'g'</li><li>'h'</li><li>'i'</li><li>'j'</li></ol>\n",
       "</details>"
      ],
      "text/latex": [
       "e\n",
       "\\emph{Levels}: \\begin{enumerate*}\n",
       "\\item 'a'\n",
       "\\item 'b'\n",
       "\\item 'c'\n",
       "\\item 'd'\n",
       "\\item 'e'\n",
       "\\item 'f'\n",
       "\\item 'g'\n",
       "\\item 'h'\n",
       "\\item 'i'\n",
       "\\item 'j'\n",
       "\\end{enumerate*}\n"
      ],
      "text/markdown": [
       "e\n",
       "**Levels**: 1. 'a'\n",
       "2. 'b'\n",
       "3. 'c'\n",
       "4. 'd'\n",
       "5. 'e'\n",
       "6. 'f'\n",
       "7. 'g'\n",
       "8. 'h'\n",
       "9. 'i'\n",
       "10. 'j'\n",
       "\n",
       "\n"
      ],
      "text/plain": [
       "[1] e\n",
       "Levels: a b c d e f g h i j"
      ]
     },
     "metadata": {},
     "output_type": "display_data"
    }
   ],
   "source": [
    "#### #4 Referencing Cells\n",
    "df\n",
    "df[5,2] #the same notation as calling a value as a matrix, but not incredbly useful since we would have to know the column id#"
   ]
  },
  {
   "cell_type": "code",
   "execution_count": 49,
   "metadata": {},
   "outputs": [
    {
     "data": {
      "text/html": [
       "0.0209635361097753"
      ],
      "text/latex": [
       "0.0209635361097753"
      ],
      "text/markdown": [
       "0.0209635361097753"
      ],
      "text/plain": [
       "[1] 0.02096354"
      ]
     },
     "metadata": {},
     "output_type": "display_data"
    }
   ],
   "source": [
    "df[5,'numbers'] #this will call the value on the 5th row under the 'numbers' column"
   ]
  },
  {
   "cell_type": "code",
   "execution_count": 52,
   "metadata": {},
   "outputs": [
    {
     "data": {
      "text/html": [
       "<table>\n",
       "<caption>A data.frame: 10 × 2</caption>\n",
       "<thead>\n",
       "\t<tr><th scope=col>numbers</th><th scope=col>letters</th></tr>\n",
       "\t<tr><th scope=col>&lt;dbl&gt;</th><th scope=col>&lt;fct&gt;</th></tr>\n",
       "</thead>\n",
       "<tbody>\n",
       "\t<tr><td>  0.38338091</td><td>a</td></tr>\n",
       "\t<tr><td>999.00000000</td><td>b</td></tr>\n",
       "\t<tr><td>  0.20176775</td><td>c</td></tr>\n",
       "\t<tr><td>  0.69023435</td><td>d</td></tr>\n",
       "\t<tr><td>  0.02096354</td><td>e</td></tr>\n",
       "\t<tr><td>  0.14099527</td><td>f</td></tr>\n",
       "\t<tr><td>  0.24402258</td><td>g</td></tr>\n",
       "\t<tr><td>  0.79013028</td><td>h</td></tr>\n",
       "\t<tr><td>  0.60132246</td><td>i</td></tr>\n",
       "\t<tr><td>  0.96245307</td><td>j</td></tr>\n",
       "</tbody>\n",
       "</table>\n"
      ],
      "text/latex": [
       "A data.frame: 10 × 2\n",
       "\\begin{tabular}{ll}\n",
       " numbers & letters\\\\\n",
       " <dbl> & <fct>\\\\\n",
       "\\hline\n",
       "\t   0.38338091 & a\\\\\n",
       "\t 999.00000000 & b\\\\\n",
       "\t   0.20176775 & c\\\\\n",
       "\t   0.69023435 & d\\\\\n",
       "\t   0.02096354 & e\\\\\n",
       "\t   0.14099527 & f\\\\\n",
       "\t   0.24402258 & g\\\\\n",
       "\t   0.79013028 & h\\\\\n",
       "\t   0.60132246 & i\\\\\n",
       "\t   0.96245307 & j\\\\\n",
       "\\end{tabular}\n"
      ],
      "text/markdown": [
       "\n",
       "A data.frame: 10 × 2\n",
       "\n",
       "| numbers &lt;dbl&gt; | letters &lt;fct&gt; |\n",
       "|---|---|\n",
       "|   0.38338091 | a |\n",
       "| 999.00000000 | b |\n",
       "|   0.20176775 | c |\n",
       "|   0.69023435 | d |\n",
       "|   0.02096354 | e |\n",
       "|   0.14099527 | f |\n",
       "|   0.24402258 | g |\n",
       "|   0.79013028 | h |\n",
       "|   0.60132246 | i |\n",
       "|   0.96245307 | j |\n",
       "\n"
      ],
      "text/plain": [
       "   numbers      letters\n",
       "1    0.38338091 a      \n",
       "2  999.00000000 b      \n",
       "3    0.20176775 c      \n",
       "4    0.69023435 d      \n",
       "5    0.02096354 e      \n",
       "6    0.14099527 f      \n",
       "7    0.24402258 g      \n",
       "8    0.79013028 h      \n",
       "9    0.60132246 i      \n",
       "10   0.96245307 j      "
      ]
     },
     "metadata": {},
     "output_type": "display_data"
    }
   ],
   "source": [
    "#lets change that number using an assignment\n",
    "df[[2,'numbers']] <- 999\n",
    "df"
   ]
  },
  {
   "cell_type": "code",
   "execution_count": 53,
   "metadata": {},
   "outputs": [],
   "source": [
    "#### #5 Referencing Rows\n",
    "#referencing a row is similar to referencing a cell, you just don't need double bracket notation"
   ]
  },
  {
   "cell_type": "code",
   "execution_count": 55,
   "metadata": {},
   "outputs": [
    {
     "data": {
      "text/html": [
       "<table>\n",
       "<caption>A data.frame: 1 × 2</caption>\n",
       "<thead>\n",
       "\t<tr><th></th><th scope=col>numbers</th><th scope=col>letters</th></tr>\n",
       "\t<tr><th></th><th scope=col>&lt;dbl&gt;</th><th scope=col>&lt;fct&gt;</th></tr>\n",
       "</thead>\n",
       "<tbody>\n",
       "\t<tr><th scope=row>3</th><td>0.2017678</td><td>c</td></tr>\n",
       "</tbody>\n",
       "</table>\n"
      ],
      "text/latex": [
       "A data.frame: 1 × 2\n",
       "\\begin{tabular}{r|ll}\n",
       "  & numbers & letters\\\\\n",
       "  & <dbl> & <fct>\\\\\n",
       "\\hline\n",
       "\t3 & 0.2017678 & c\\\\\n",
       "\\end{tabular}\n"
      ],
      "text/markdown": [
       "\n",
       "A data.frame: 1 × 2\n",
       "\n",
       "| <!--/--> | numbers &lt;dbl&gt; | letters &lt;fct&gt; |\n",
       "|---|---|---|\n",
       "| 3 | 0.2017678 | c |\n",
       "\n"
      ],
      "text/plain": [
       "  numbers   letters\n",
       "3 0.2017678 c      "
      ]
     },
     "metadata": {},
     "output_type": "display_data"
    }
   ],
   "source": [
    "df[3,]"
   ]
  },
  {
   "cell_type": "code",
   "execution_count": 56,
   "metadata": {},
   "outputs": [
    {
     "data": {
      "text/html": [
       "<table>\n",
       "<caption>A data.frame: 6 × 11</caption>\n",
       "<thead>\n",
       "\t<tr><th></th><th scope=col>mpg</th><th scope=col>cyl</th><th scope=col>disp</th><th scope=col>hp</th><th scope=col>drat</th><th scope=col>wt</th><th scope=col>qsec</th><th scope=col>vs</th><th scope=col>am</th><th scope=col>gear</th><th scope=col>carb</th></tr>\n",
       "\t<tr><th></th><th scope=col>&lt;dbl&gt;</th><th scope=col>&lt;dbl&gt;</th><th scope=col>&lt;dbl&gt;</th><th scope=col>&lt;dbl&gt;</th><th scope=col>&lt;dbl&gt;</th><th scope=col>&lt;dbl&gt;</th><th scope=col>&lt;dbl&gt;</th><th scope=col>&lt;dbl&gt;</th><th scope=col>&lt;dbl&gt;</th><th scope=col>&lt;dbl&gt;</th><th scope=col>&lt;dbl&gt;</th></tr>\n",
       "</thead>\n",
       "<tbody>\n",
       "\t<tr><th scope=row>Mazda RX4</th><td>21.0</td><td>6</td><td>160</td><td>110</td><td>3.90</td><td>2.620</td><td>16.46</td><td>0</td><td>1</td><td>4</td><td>4</td></tr>\n",
       "\t<tr><th scope=row>Mazda RX4 Wag</th><td>21.0</td><td>6</td><td>160</td><td>110</td><td>3.90</td><td>2.875</td><td>17.02</td><td>0</td><td>1</td><td>4</td><td>4</td></tr>\n",
       "\t<tr><th scope=row>Datsun 710</th><td>22.8</td><td>4</td><td>108</td><td> 93</td><td>3.85</td><td>2.320</td><td>18.61</td><td>1</td><td>1</td><td>4</td><td>1</td></tr>\n",
       "\t<tr><th scope=row>Hornet 4 Drive</th><td>21.4</td><td>6</td><td>258</td><td>110</td><td>3.08</td><td>3.215</td><td>19.44</td><td>1</td><td>0</td><td>3</td><td>1</td></tr>\n",
       "\t<tr><th scope=row>Hornet Sportabout</th><td>18.7</td><td>8</td><td>360</td><td>175</td><td>3.15</td><td>3.440</td><td>17.02</td><td>0</td><td>0</td><td>3</td><td>2</td></tr>\n",
       "\t<tr><th scope=row>Valiant</th><td>18.1</td><td>6</td><td>225</td><td>105</td><td>2.76</td><td>3.460</td><td>20.22</td><td>1</td><td>0</td><td>3</td><td>1</td></tr>\n",
       "</tbody>\n",
       "</table>\n"
      ],
      "text/latex": [
       "A data.frame: 6 × 11\n",
       "\\begin{tabular}{r|lllllllllll}\n",
       "  & mpg & cyl & disp & hp & drat & wt & qsec & vs & am & gear & carb\\\\\n",
       "  & <dbl> & <dbl> & <dbl> & <dbl> & <dbl> & <dbl> & <dbl> & <dbl> & <dbl> & <dbl> & <dbl>\\\\\n",
       "\\hline\n",
       "\tMazda RX4 & 21.0 & 6 & 160 & 110 & 3.90 & 2.620 & 16.46 & 0 & 1 & 4 & 4\\\\\n",
       "\tMazda RX4 Wag & 21.0 & 6 & 160 & 110 & 3.90 & 2.875 & 17.02 & 0 & 1 & 4 & 4\\\\\n",
       "\tDatsun 710 & 22.8 & 4 & 108 &  93 & 3.85 & 2.320 & 18.61 & 1 & 1 & 4 & 1\\\\\n",
       "\tHornet 4 Drive & 21.4 & 6 & 258 & 110 & 3.08 & 3.215 & 19.44 & 1 & 0 & 3 & 1\\\\\n",
       "\tHornet Sportabout & 18.7 & 8 & 360 & 175 & 3.15 & 3.440 & 17.02 & 0 & 0 & 3 & 2\\\\\n",
       "\tValiant & 18.1 & 6 & 225 & 105 & 2.76 & 3.460 & 20.22 & 1 & 0 & 3 & 1\\\\\n",
       "\\end{tabular}\n"
      ],
      "text/markdown": [
       "\n",
       "A data.frame: 6 × 11\n",
       "\n",
       "| <!--/--> | mpg &lt;dbl&gt; | cyl &lt;dbl&gt; | disp &lt;dbl&gt; | hp &lt;dbl&gt; | drat &lt;dbl&gt; | wt &lt;dbl&gt; | qsec &lt;dbl&gt; | vs &lt;dbl&gt; | am &lt;dbl&gt; | gear &lt;dbl&gt; | carb &lt;dbl&gt; |\n",
       "|---|---|---|---|---|---|---|---|---|---|---|---|\n",
       "| Mazda RX4 | 21.0 | 6 | 160 | 110 | 3.90 | 2.620 | 16.46 | 0 | 1 | 4 | 4 |\n",
       "| Mazda RX4 Wag | 21.0 | 6 | 160 | 110 | 3.90 | 2.875 | 17.02 | 0 | 1 | 4 | 4 |\n",
       "| Datsun 710 | 22.8 | 4 | 108 |  93 | 3.85 | 2.320 | 18.61 | 1 | 1 | 4 | 1 |\n",
       "| Hornet 4 Drive | 21.4 | 6 | 258 | 110 | 3.08 | 3.215 | 19.44 | 1 | 0 | 3 | 1 |\n",
       "| Hornet Sportabout | 18.7 | 8 | 360 | 175 | 3.15 | 3.440 | 17.02 | 0 | 0 | 3 | 2 |\n",
       "| Valiant | 18.1 | 6 | 225 | 105 | 2.76 | 3.460 | 20.22 | 1 | 0 | 3 | 1 |\n",
       "\n"
      ],
      "text/plain": [
       "                  mpg  cyl disp hp  drat wt    qsec  vs am gear carb\n",
       "Mazda RX4         21.0 6   160  110 3.90 2.620 16.46 0  1  4    4   \n",
       "Mazda RX4 Wag     21.0 6   160  110 3.90 2.875 17.02 0  1  4    4   \n",
       "Datsun 710        22.8 4   108   93 3.85 2.320 18.61 1  1  4    1   \n",
       "Hornet 4 Drive    21.4 6   258  110 3.08 3.215 19.44 1  0  3    1   \n",
       "Hornet Sportabout 18.7 8   360  175 3.15 3.440 17.02 0  0  3    2   \n",
       "Valiant           18.1 6   225  105 2.76 3.460 20.22 1  0  3    1   "
      ]
     },
     "metadata": {},
     "output_type": "display_data"
    }
   ],
   "source": [
    "#### #6 Referencing Columns\n",
    "# lets use a different data frame for this example\n",
    "head(mtcars)"
   ]
  },
  {
   "cell_type": "code",
   "execution_count": 64,
   "metadata": {
    "scrolled": true
   },
   "outputs": [
    {
     "data": {
      "text/html": [
       "<style>\n",
       ".list-inline {list-style: none; margin:0; padding: 0}\n",
       ".list-inline>li {display: inline-block}\n",
       ".list-inline>li:not(:last-child)::after {content: \"\\00b7\"; padding: 0 .5ex}\n",
       "</style>\n",
       "<ol class=list-inline><li>21</li><li>21</li><li>22.8</li><li>21.4</li><li>18.7</li><li>18.1</li><li>14.3</li><li>24.4</li><li>22.8</li><li>19.2</li><li>17.8</li><li>16.4</li><li>17.3</li><li>15.2</li><li>10.4</li><li>10.4</li><li>14.7</li><li>32.4</li><li>30.4</li><li>33.9</li><li>21.5</li><li>15.5</li><li>15.2</li><li>13.3</li><li>19.2</li><li>27.3</li><li>26</li><li>30.4</li><li>15.8</li><li>19.7</li><li>15</li><li>21.4</li></ol>\n"
      ],
      "text/latex": [
       "\\begin{enumerate*}\n",
       "\\item 21\n",
       "\\item 21\n",
       "\\item 22.8\n",
       "\\item 21.4\n",
       "\\item 18.7\n",
       "\\item 18.1\n",
       "\\item 14.3\n",
       "\\item 24.4\n",
       "\\item 22.8\n",
       "\\item 19.2\n",
       "\\item 17.8\n",
       "\\item 16.4\n",
       "\\item 17.3\n",
       "\\item 15.2\n",
       "\\item 10.4\n",
       "\\item 10.4\n",
       "\\item 14.7\n",
       "\\item 32.4\n",
       "\\item 30.4\n",
       "\\item 33.9\n",
       "\\item 21.5\n",
       "\\item 15.5\n",
       "\\item 15.2\n",
       "\\item 13.3\n",
       "\\item 19.2\n",
       "\\item 27.3\n",
       "\\item 26\n",
       "\\item 30.4\n",
       "\\item 15.8\n",
       "\\item 19.7\n",
       "\\item 15\n",
       "\\item 21.4\n",
       "\\end{enumerate*}\n"
      ],
      "text/markdown": [
       "1. 21\n",
       "2. 21\n",
       "3. 22.8\n",
       "4. 21.4\n",
       "5. 18.7\n",
       "6. 18.1\n",
       "7. 14.3\n",
       "8. 24.4\n",
       "9. 22.8\n",
       "10. 19.2\n",
       "11. 17.8\n",
       "12. 16.4\n",
       "13. 17.3\n",
       "14. 15.2\n",
       "15. 10.4\n",
       "16. 10.4\n",
       "17. 14.7\n",
       "18. 32.4\n",
       "19. 30.4\n",
       "20. 33.9\n",
       "21. 21.5\n",
       "22. 15.5\n",
       "23. 15.2\n",
       "24. 13.3\n",
       "25. 19.2\n",
       "26. 27.3\n",
       "27. 26\n",
       "28. 30.4\n",
       "29. 15.8\n",
       "30. 19.7\n",
       "31. 15\n",
       "32. 21.4\n",
       "\n",
       "\n"
      ],
      "text/plain": [
       " [1] 21.0 21.0 22.8 21.4 18.7 18.1 14.3 24.4 22.8 19.2 17.8 16.4 17.3 15.2 10.4\n",
       "[16] 10.4 14.7 32.4 30.4 33.9 21.5 15.5 15.2 13.3 19.2 27.3 26.0 30.4 15.8 19.7\n",
       "[31] 15.0 21.4"
      ]
     },
     "metadata": {},
     "output_type": "display_data"
    },
    {
     "data": {
      "text/html": [
       "<style>\n",
       ".list-inline {list-style: none; margin:0; padding: 0}\n",
       ".list-inline>li {display: inline-block}\n",
       ".list-inline>li:not(:last-child)::after {content: \"\\00b7\"; padding: 0 .5ex}\n",
       "</style>\n",
       "<ol class=list-inline><li>21</li><li>21</li><li>22.8</li><li>21.4</li><li>18.7</li><li>18.1</li><li>14.3</li><li>24.4</li><li>22.8</li><li>19.2</li><li>17.8</li><li>16.4</li><li>17.3</li><li>15.2</li><li>10.4</li><li>10.4</li><li>14.7</li><li>32.4</li><li>30.4</li><li>33.9</li><li>21.5</li><li>15.5</li><li>15.2</li><li>13.3</li><li>19.2</li><li>27.3</li><li>26</li><li>30.4</li><li>15.8</li><li>19.7</li><li>15</li><li>21.4</li></ol>\n"
      ],
      "text/latex": [
       "\\begin{enumerate*}\n",
       "\\item 21\n",
       "\\item 21\n",
       "\\item 22.8\n",
       "\\item 21.4\n",
       "\\item 18.7\n",
       "\\item 18.1\n",
       "\\item 14.3\n",
       "\\item 24.4\n",
       "\\item 22.8\n",
       "\\item 19.2\n",
       "\\item 17.8\n",
       "\\item 16.4\n",
       "\\item 17.3\n",
       "\\item 15.2\n",
       "\\item 10.4\n",
       "\\item 10.4\n",
       "\\item 14.7\n",
       "\\item 32.4\n",
       "\\item 30.4\n",
       "\\item 33.9\n",
       "\\item 21.5\n",
       "\\item 15.5\n",
       "\\item 15.2\n",
       "\\item 13.3\n",
       "\\item 19.2\n",
       "\\item 27.3\n",
       "\\item 26\n",
       "\\item 30.4\n",
       "\\item 15.8\n",
       "\\item 19.7\n",
       "\\item 15\n",
       "\\item 21.4\n",
       "\\end{enumerate*}\n"
      ],
      "text/markdown": [
       "1. 21\n",
       "2. 21\n",
       "3. 22.8\n",
       "4. 21.4\n",
       "5. 18.7\n",
       "6. 18.1\n",
       "7. 14.3\n",
       "8. 24.4\n",
       "9. 22.8\n",
       "10. 19.2\n",
       "11. 17.8\n",
       "12. 16.4\n",
       "13. 17.3\n",
       "14. 15.2\n",
       "15. 10.4\n",
       "16. 10.4\n",
       "17. 14.7\n",
       "18. 32.4\n",
       "19. 30.4\n",
       "20. 33.9\n",
       "21. 21.5\n",
       "22. 15.5\n",
       "23. 15.2\n",
       "24. 13.3\n",
       "25. 19.2\n",
       "26. 27.3\n",
       "27. 26\n",
       "28. 30.4\n",
       "29. 15.8\n",
       "30. 19.7\n",
       "31. 15\n",
       "32. 21.4\n",
       "\n",
       "\n"
      ],
      "text/plain": [
       " [1] 21.0 21.0 22.8 21.4 18.7 18.1 14.3 24.4 22.8 19.2 17.8 16.4 17.3 15.2 10.4\n",
       "[16] 10.4 14.7 32.4 30.4 33.9 21.5 15.5 15.2 13.3 19.2 27.3 26.0 30.4 15.8 19.7\n",
       "[31] 15.0 21.4"
      ]
     },
     "metadata": {},
     "output_type": "display_data"
    },
    {
     "data": {
      "text/html": [
       "<style>\n",
       ".list-inline {list-style: none; margin:0; padding: 0}\n",
       ".list-inline>li {display: inline-block}\n",
       ".list-inline>li:not(:last-child)::after {content: \"\\00b7\"; padding: 0 .5ex}\n",
       "</style>\n",
       "<ol class=list-inline><li>21</li><li>21</li><li>22.8</li><li>21.4</li><li>18.7</li><li>18.1</li><li>14.3</li><li>24.4</li><li>22.8</li><li>19.2</li><li>17.8</li><li>16.4</li><li>17.3</li><li>15.2</li><li>10.4</li><li>10.4</li><li>14.7</li><li>32.4</li><li>30.4</li><li>33.9</li><li>21.5</li><li>15.5</li><li>15.2</li><li>13.3</li><li>19.2</li><li>27.3</li><li>26</li><li>30.4</li><li>15.8</li><li>19.7</li><li>15</li><li>21.4</li></ol>\n"
      ],
      "text/latex": [
       "\\begin{enumerate*}\n",
       "\\item 21\n",
       "\\item 21\n",
       "\\item 22.8\n",
       "\\item 21.4\n",
       "\\item 18.7\n",
       "\\item 18.1\n",
       "\\item 14.3\n",
       "\\item 24.4\n",
       "\\item 22.8\n",
       "\\item 19.2\n",
       "\\item 17.8\n",
       "\\item 16.4\n",
       "\\item 17.3\n",
       "\\item 15.2\n",
       "\\item 10.4\n",
       "\\item 10.4\n",
       "\\item 14.7\n",
       "\\item 32.4\n",
       "\\item 30.4\n",
       "\\item 33.9\n",
       "\\item 21.5\n",
       "\\item 15.5\n",
       "\\item 15.2\n",
       "\\item 13.3\n",
       "\\item 19.2\n",
       "\\item 27.3\n",
       "\\item 26\n",
       "\\item 30.4\n",
       "\\item 15.8\n",
       "\\item 19.7\n",
       "\\item 15\n",
       "\\item 21.4\n",
       "\\end{enumerate*}\n"
      ],
      "text/markdown": [
       "1. 21\n",
       "2. 21\n",
       "3. 22.8\n",
       "4. 21.4\n",
       "5. 18.7\n",
       "6. 18.1\n",
       "7. 14.3\n",
       "8. 24.4\n",
       "9. 22.8\n",
       "10. 19.2\n",
       "11. 17.8\n",
       "12. 16.4\n",
       "13. 17.3\n",
       "14. 15.2\n",
       "15. 10.4\n",
       "16. 10.4\n",
       "17. 14.7\n",
       "18. 32.4\n",
       "19. 30.4\n",
       "20. 33.9\n",
       "21. 21.5\n",
       "22. 15.5\n",
       "23. 15.2\n",
       "24. 13.3\n",
       "25. 19.2\n",
       "26. 27.3\n",
       "27. 26\n",
       "28. 30.4\n",
       "29. 15.8\n",
       "30. 19.7\n",
       "31. 15\n",
       "32. 21.4\n",
       "\n",
       "\n"
      ],
      "text/plain": [
       " [1] 21.0 21.0 22.8 21.4 18.7 18.1 14.3 24.4 22.8 19.2 17.8 16.4 17.3 15.2 10.4\n",
       "[16] 10.4 14.7 32.4 30.4 33.9 21.5 15.5 15.2 13.3 19.2 27.3 26.0 30.4 15.8 19.7\n",
       "[31] 15.0 21.4"
      ]
     },
     "metadata": {},
     "output_type": "display_data"
    },
    {
     "data": {
      "text/html": [
       "<table>\n",
       "<caption>A data.frame: 32 × 1</caption>\n",
       "<thead>\n",
       "\t<tr><th></th><th scope=col>mpg</th></tr>\n",
       "\t<tr><th></th><th scope=col>&lt;dbl&gt;</th></tr>\n",
       "</thead>\n",
       "<tbody>\n",
       "\t<tr><th scope=row>Mazda RX4</th><td>21.0</td></tr>\n",
       "\t<tr><th scope=row>Mazda RX4 Wag</th><td>21.0</td></tr>\n",
       "\t<tr><th scope=row>Datsun 710</th><td>22.8</td></tr>\n",
       "\t<tr><th scope=row>Hornet 4 Drive</th><td>21.4</td></tr>\n",
       "\t<tr><th scope=row>Hornet Sportabout</th><td>18.7</td></tr>\n",
       "\t<tr><th scope=row>Valiant</th><td>18.1</td></tr>\n",
       "\t<tr><th scope=row>Duster 360</th><td>14.3</td></tr>\n",
       "\t<tr><th scope=row>Merc 240D</th><td>24.4</td></tr>\n",
       "\t<tr><th scope=row>Merc 230</th><td>22.8</td></tr>\n",
       "\t<tr><th scope=row>Merc 280</th><td>19.2</td></tr>\n",
       "\t<tr><th scope=row>Merc 280C</th><td>17.8</td></tr>\n",
       "\t<tr><th scope=row>Merc 450SE</th><td>16.4</td></tr>\n",
       "\t<tr><th scope=row>Merc 450SL</th><td>17.3</td></tr>\n",
       "\t<tr><th scope=row>Merc 450SLC</th><td>15.2</td></tr>\n",
       "\t<tr><th scope=row>Cadillac Fleetwood</th><td>10.4</td></tr>\n",
       "\t<tr><th scope=row>Lincoln Continental</th><td>10.4</td></tr>\n",
       "\t<tr><th scope=row>Chrysler Imperial</th><td>14.7</td></tr>\n",
       "\t<tr><th scope=row>Fiat 128</th><td>32.4</td></tr>\n",
       "\t<tr><th scope=row>Honda Civic</th><td>30.4</td></tr>\n",
       "\t<tr><th scope=row>Toyota Corolla</th><td>33.9</td></tr>\n",
       "\t<tr><th scope=row>Toyota Corona</th><td>21.5</td></tr>\n",
       "\t<tr><th scope=row>Dodge Challenger</th><td>15.5</td></tr>\n",
       "\t<tr><th scope=row>AMC Javelin</th><td>15.2</td></tr>\n",
       "\t<tr><th scope=row>Camaro Z28</th><td>13.3</td></tr>\n",
       "\t<tr><th scope=row>Pontiac Firebird</th><td>19.2</td></tr>\n",
       "\t<tr><th scope=row>Fiat X1-9</th><td>27.3</td></tr>\n",
       "\t<tr><th scope=row>Porsche 914-2</th><td>26.0</td></tr>\n",
       "\t<tr><th scope=row>Lotus Europa</th><td>30.4</td></tr>\n",
       "\t<tr><th scope=row>Ford Pantera L</th><td>15.8</td></tr>\n",
       "\t<tr><th scope=row>Ferrari Dino</th><td>19.7</td></tr>\n",
       "\t<tr><th scope=row>Maserati Bora</th><td>15.0</td></tr>\n",
       "\t<tr><th scope=row>Volvo 142E</th><td>21.4</td></tr>\n",
       "</tbody>\n",
       "</table>\n"
      ],
      "text/latex": [
       "A data.frame: 32 × 1\n",
       "\\begin{tabular}{r|l}\n",
       "  & mpg\\\\\n",
       "  & <dbl>\\\\\n",
       "\\hline\n",
       "\tMazda RX4 & 21.0\\\\\n",
       "\tMazda RX4 Wag & 21.0\\\\\n",
       "\tDatsun 710 & 22.8\\\\\n",
       "\tHornet 4 Drive & 21.4\\\\\n",
       "\tHornet Sportabout & 18.7\\\\\n",
       "\tValiant & 18.1\\\\\n",
       "\tDuster 360 & 14.3\\\\\n",
       "\tMerc 240D & 24.4\\\\\n",
       "\tMerc 230 & 22.8\\\\\n",
       "\tMerc 280 & 19.2\\\\\n",
       "\tMerc 280C & 17.8\\\\\n",
       "\tMerc 450SE & 16.4\\\\\n",
       "\tMerc 450SL & 17.3\\\\\n",
       "\tMerc 450SLC & 15.2\\\\\n",
       "\tCadillac Fleetwood & 10.4\\\\\n",
       "\tLincoln Continental & 10.4\\\\\n",
       "\tChrysler Imperial & 14.7\\\\\n",
       "\tFiat 128 & 32.4\\\\\n",
       "\tHonda Civic & 30.4\\\\\n",
       "\tToyota Corolla & 33.9\\\\\n",
       "\tToyota Corona & 21.5\\\\\n",
       "\tDodge Challenger & 15.5\\\\\n",
       "\tAMC Javelin & 15.2\\\\\n",
       "\tCamaro Z28 & 13.3\\\\\n",
       "\tPontiac Firebird & 19.2\\\\\n",
       "\tFiat X1-9 & 27.3\\\\\n",
       "\tPorsche 914-2 & 26.0\\\\\n",
       "\tLotus Europa & 30.4\\\\\n",
       "\tFord Pantera L & 15.8\\\\\n",
       "\tFerrari Dino & 19.7\\\\\n",
       "\tMaserati Bora & 15.0\\\\\n",
       "\tVolvo 142E & 21.4\\\\\n",
       "\\end{tabular}\n"
      ],
      "text/markdown": [
       "\n",
       "A data.frame: 32 × 1\n",
       "\n",
       "| <!--/--> | mpg &lt;dbl&gt; |\n",
       "|---|---|\n",
       "| Mazda RX4 | 21.0 |\n",
       "| Mazda RX4 Wag | 21.0 |\n",
       "| Datsun 710 | 22.8 |\n",
       "| Hornet 4 Drive | 21.4 |\n",
       "| Hornet Sportabout | 18.7 |\n",
       "| Valiant | 18.1 |\n",
       "| Duster 360 | 14.3 |\n",
       "| Merc 240D | 24.4 |\n",
       "| Merc 230 | 22.8 |\n",
       "| Merc 280 | 19.2 |\n",
       "| Merc 280C | 17.8 |\n",
       "| Merc 450SE | 16.4 |\n",
       "| Merc 450SL | 17.3 |\n",
       "| Merc 450SLC | 15.2 |\n",
       "| Cadillac Fleetwood | 10.4 |\n",
       "| Lincoln Continental | 10.4 |\n",
       "| Chrysler Imperial | 14.7 |\n",
       "| Fiat 128 | 32.4 |\n",
       "| Honda Civic | 30.4 |\n",
       "| Toyota Corolla | 33.9 |\n",
       "| Toyota Corona | 21.5 |\n",
       "| Dodge Challenger | 15.5 |\n",
       "| AMC Javelin | 15.2 |\n",
       "| Camaro Z28 | 13.3 |\n",
       "| Pontiac Firebird | 19.2 |\n",
       "| Fiat X1-9 | 27.3 |\n",
       "| Porsche 914-2 | 26.0 |\n",
       "| Lotus Europa | 30.4 |\n",
       "| Ford Pantera L | 15.8 |\n",
       "| Ferrari Dino | 19.7 |\n",
       "| Maserati Bora | 15.0 |\n",
       "| Volvo 142E | 21.4 |\n",
       "\n"
      ],
      "text/plain": [
       "                    mpg \n",
       "Mazda RX4           21.0\n",
       "Mazda RX4 Wag       21.0\n",
       "Datsun 710          22.8\n",
       "Hornet 4 Drive      21.4\n",
       "Hornet Sportabout   18.7\n",
       "Valiant             18.1\n",
       "Duster 360          14.3\n",
       "Merc 240D           24.4\n",
       "Merc 230            22.8\n",
       "Merc 280            19.2\n",
       "Merc 280C           17.8\n",
       "Merc 450SE          16.4\n",
       "Merc 450SL          17.3\n",
       "Merc 450SLC         15.2\n",
       "Cadillac Fleetwood  10.4\n",
       "Lincoln Continental 10.4\n",
       "Chrysler Imperial   14.7\n",
       "Fiat 128            32.4\n",
       "Honda Civic         30.4\n",
       "Toyota Corolla      33.9\n",
       "Toyota Corona       21.5\n",
       "Dodge Challenger    15.5\n",
       "AMC Javelin         15.2\n",
       "Camaro Z28          13.3\n",
       "Pontiac Firebird    19.2\n",
       "Fiat X1-9           27.3\n",
       "Porsche 914-2       26.0\n",
       "Lotus Europa        30.4\n",
       "Ford Pantera L      15.8\n",
       "Ferrari Dino        19.7\n",
       "Maserati Bora       15.0\n",
       "Volvo 142E          21.4"
      ]
     },
     "metadata": {},
     "output_type": "display_data"
    }
   ],
   "source": [
    "mtcars$mpg # This is how you can get a vector back. This is the most common way\n",
    "mtcars[,'mpg'] # this is a similar way to pull the column \n",
    "mtcars[['mpg']]\n",
    "mtcars['mpg'] #this will add the name value of the data frame"
   ]
  },
  {
   "cell_type": "code",
   "execution_count": 65,
   "metadata": {},
   "outputs": [
    {
     "data": {
      "text/html": [
       "<table>\n",
       "<caption>A data.frame: 32 × 2</caption>\n",
       "<thead>\n",
       "\t<tr><th></th><th scope=col>mpg</th><th scope=col>cyl</th></tr>\n",
       "\t<tr><th></th><th scope=col>&lt;dbl&gt;</th><th scope=col>&lt;dbl&gt;</th></tr>\n",
       "</thead>\n",
       "<tbody>\n",
       "\t<tr><th scope=row>Mazda RX4</th><td>21.0</td><td>6</td></tr>\n",
       "\t<tr><th scope=row>Mazda RX4 Wag</th><td>21.0</td><td>6</td></tr>\n",
       "\t<tr><th scope=row>Datsun 710</th><td>22.8</td><td>4</td></tr>\n",
       "\t<tr><th scope=row>Hornet 4 Drive</th><td>21.4</td><td>6</td></tr>\n",
       "\t<tr><th scope=row>Hornet Sportabout</th><td>18.7</td><td>8</td></tr>\n",
       "\t<tr><th scope=row>Valiant</th><td>18.1</td><td>6</td></tr>\n",
       "\t<tr><th scope=row>Duster 360</th><td>14.3</td><td>8</td></tr>\n",
       "\t<tr><th scope=row>Merc 240D</th><td>24.4</td><td>4</td></tr>\n",
       "\t<tr><th scope=row>Merc 230</th><td>22.8</td><td>4</td></tr>\n",
       "\t<tr><th scope=row>Merc 280</th><td>19.2</td><td>6</td></tr>\n",
       "\t<tr><th scope=row>Merc 280C</th><td>17.8</td><td>6</td></tr>\n",
       "\t<tr><th scope=row>Merc 450SE</th><td>16.4</td><td>8</td></tr>\n",
       "\t<tr><th scope=row>Merc 450SL</th><td>17.3</td><td>8</td></tr>\n",
       "\t<tr><th scope=row>Merc 450SLC</th><td>15.2</td><td>8</td></tr>\n",
       "\t<tr><th scope=row>Cadillac Fleetwood</th><td>10.4</td><td>8</td></tr>\n",
       "\t<tr><th scope=row>Lincoln Continental</th><td>10.4</td><td>8</td></tr>\n",
       "\t<tr><th scope=row>Chrysler Imperial</th><td>14.7</td><td>8</td></tr>\n",
       "\t<tr><th scope=row>Fiat 128</th><td>32.4</td><td>4</td></tr>\n",
       "\t<tr><th scope=row>Honda Civic</th><td>30.4</td><td>4</td></tr>\n",
       "\t<tr><th scope=row>Toyota Corolla</th><td>33.9</td><td>4</td></tr>\n",
       "\t<tr><th scope=row>Toyota Corona</th><td>21.5</td><td>4</td></tr>\n",
       "\t<tr><th scope=row>Dodge Challenger</th><td>15.5</td><td>8</td></tr>\n",
       "\t<tr><th scope=row>AMC Javelin</th><td>15.2</td><td>8</td></tr>\n",
       "\t<tr><th scope=row>Camaro Z28</th><td>13.3</td><td>8</td></tr>\n",
       "\t<tr><th scope=row>Pontiac Firebird</th><td>19.2</td><td>8</td></tr>\n",
       "\t<tr><th scope=row>Fiat X1-9</th><td>27.3</td><td>4</td></tr>\n",
       "\t<tr><th scope=row>Porsche 914-2</th><td>26.0</td><td>4</td></tr>\n",
       "\t<tr><th scope=row>Lotus Europa</th><td>30.4</td><td>4</td></tr>\n",
       "\t<tr><th scope=row>Ford Pantera L</th><td>15.8</td><td>8</td></tr>\n",
       "\t<tr><th scope=row>Ferrari Dino</th><td>19.7</td><td>6</td></tr>\n",
       "\t<tr><th scope=row>Maserati Bora</th><td>15.0</td><td>8</td></tr>\n",
       "\t<tr><th scope=row>Volvo 142E</th><td>21.4</td><td>4</td></tr>\n",
       "</tbody>\n",
       "</table>\n"
      ],
      "text/latex": [
       "A data.frame: 32 × 2\n",
       "\\begin{tabular}{r|ll}\n",
       "  & mpg & cyl\\\\\n",
       "  & <dbl> & <dbl>\\\\\n",
       "\\hline\n",
       "\tMazda RX4 & 21.0 & 6\\\\\n",
       "\tMazda RX4 Wag & 21.0 & 6\\\\\n",
       "\tDatsun 710 & 22.8 & 4\\\\\n",
       "\tHornet 4 Drive & 21.4 & 6\\\\\n",
       "\tHornet Sportabout & 18.7 & 8\\\\\n",
       "\tValiant & 18.1 & 6\\\\\n",
       "\tDuster 360 & 14.3 & 8\\\\\n",
       "\tMerc 240D & 24.4 & 4\\\\\n",
       "\tMerc 230 & 22.8 & 4\\\\\n",
       "\tMerc 280 & 19.2 & 6\\\\\n",
       "\tMerc 280C & 17.8 & 6\\\\\n",
       "\tMerc 450SE & 16.4 & 8\\\\\n",
       "\tMerc 450SL & 17.3 & 8\\\\\n",
       "\tMerc 450SLC & 15.2 & 8\\\\\n",
       "\tCadillac Fleetwood & 10.4 & 8\\\\\n",
       "\tLincoln Continental & 10.4 & 8\\\\\n",
       "\tChrysler Imperial & 14.7 & 8\\\\\n",
       "\tFiat 128 & 32.4 & 4\\\\\n",
       "\tHonda Civic & 30.4 & 4\\\\\n",
       "\tToyota Corolla & 33.9 & 4\\\\\n",
       "\tToyota Corona & 21.5 & 4\\\\\n",
       "\tDodge Challenger & 15.5 & 8\\\\\n",
       "\tAMC Javelin & 15.2 & 8\\\\\n",
       "\tCamaro Z28 & 13.3 & 8\\\\\n",
       "\tPontiac Firebird & 19.2 & 8\\\\\n",
       "\tFiat X1-9 & 27.3 & 4\\\\\n",
       "\tPorsche 914-2 & 26.0 & 4\\\\\n",
       "\tLotus Europa & 30.4 & 4\\\\\n",
       "\tFord Pantera L & 15.8 & 8\\\\\n",
       "\tFerrari Dino & 19.7 & 6\\\\\n",
       "\tMaserati Bora & 15.0 & 8\\\\\n",
       "\tVolvo 142E & 21.4 & 4\\\\\n",
       "\\end{tabular}\n"
      ],
      "text/markdown": [
       "\n",
       "A data.frame: 32 × 2\n",
       "\n",
       "| <!--/--> | mpg &lt;dbl&gt; | cyl &lt;dbl&gt; |\n",
       "|---|---|---|\n",
       "| Mazda RX4 | 21.0 | 6 |\n",
       "| Mazda RX4 Wag | 21.0 | 6 |\n",
       "| Datsun 710 | 22.8 | 4 |\n",
       "| Hornet 4 Drive | 21.4 | 6 |\n",
       "| Hornet Sportabout | 18.7 | 8 |\n",
       "| Valiant | 18.1 | 6 |\n",
       "| Duster 360 | 14.3 | 8 |\n",
       "| Merc 240D | 24.4 | 4 |\n",
       "| Merc 230 | 22.8 | 4 |\n",
       "| Merc 280 | 19.2 | 6 |\n",
       "| Merc 280C | 17.8 | 6 |\n",
       "| Merc 450SE | 16.4 | 8 |\n",
       "| Merc 450SL | 17.3 | 8 |\n",
       "| Merc 450SLC | 15.2 | 8 |\n",
       "| Cadillac Fleetwood | 10.4 | 8 |\n",
       "| Lincoln Continental | 10.4 | 8 |\n",
       "| Chrysler Imperial | 14.7 | 8 |\n",
       "| Fiat 128 | 32.4 | 4 |\n",
       "| Honda Civic | 30.4 | 4 |\n",
       "| Toyota Corolla | 33.9 | 4 |\n",
       "| Toyota Corona | 21.5 | 4 |\n",
       "| Dodge Challenger | 15.5 | 8 |\n",
       "| AMC Javelin | 15.2 | 8 |\n",
       "| Camaro Z28 | 13.3 | 8 |\n",
       "| Pontiac Firebird | 19.2 | 8 |\n",
       "| Fiat X1-9 | 27.3 | 4 |\n",
       "| Porsche 914-2 | 26.0 | 4 |\n",
       "| Lotus Europa | 30.4 | 4 |\n",
       "| Ford Pantera L | 15.8 | 8 |\n",
       "| Ferrari Dino | 19.7 | 6 |\n",
       "| Maserati Bora | 15.0 | 8 |\n",
       "| Volvo 142E | 21.4 | 4 |\n",
       "\n"
      ],
      "text/plain": [
       "                    mpg  cyl\n",
       "Mazda RX4           21.0 6  \n",
       "Mazda RX4 Wag       21.0 6  \n",
       "Datsun 710          22.8 4  \n",
       "Hornet 4 Drive      21.4 6  \n",
       "Hornet Sportabout   18.7 8  \n",
       "Valiant             18.1 6  \n",
       "Duster 360          14.3 8  \n",
       "Merc 240D           24.4 4  \n",
       "Merc 230            22.8 4  \n",
       "Merc 280            19.2 6  \n",
       "Merc 280C           17.8 6  \n",
       "Merc 450SE          16.4 8  \n",
       "Merc 450SL          17.3 8  \n",
       "Merc 450SLC         15.2 8  \n",
       "Cadillac Fleetwood  10.4 8  \n",
       "Lincoln Continental 10.4 8  \n",
       "Chrysler Imperial   14.7 8  \n",
       "Fiat 128            32.4 4  \n",
       "Honda Civic         30.4 4  \n",
       "Toyota Corolla      33.9 4  \n",
       "Toyota Corona       21.5 4  \n",
       "Dodge Challenger    15.5 8  \n",
       "AMC Javelin         15.2 8  \n",
       "Camaro Z28          13.3 8  \n",
       "Pontiac Firebird    19.2 8  \n",
       "Fiat X1-9           27.3 4  \n",
       "Porsche 914-2       26.0 4  \n",
       "Lotus Europa        30.4 4  \n",
       "Ford Pantera L      15.8 8  \n",
       "Ferrari Dino        19.7 6  \n",
       "Maserati Bora       15.0 8  \n",
       "Volvo 142E          21.4 4  "
      ]
     },
     "metadata": {},
     "output_type": "display_data"
    }
   ],
   "source": [
    "mtcars[c('mpg','cyl')] #if you want to pull multiple columns"
   ]
  },
  {
   "cell_type": "code",
   "execution_count": null,
   "metadata": {},
   "outputs": [],
   "source": [
    "#### #7 Adding Rows"
   ]
  },
  {
   "cell_type": "code",
   "execution_count": 73,
   "metadata": {},
   "outputs": [
    {
     "data": {
      "text/html": [
       "<table>\n",
       "<caption>A data.frame: 1 × 2</caption>\n",
       "<thead>\n",
       "\t<tr><th scope=col>numbers</th><th scope=col>letters</th></tr>\n",
       "\t<tr><th scope=col>&lt;dbl&gt;</th><th scope=col>&lt;fct&gt;</th></tr>\n",
       "</thead>\n",
       "<tbody>\n",
       "\t<tr><td>2000</td><td>z</td></tr>\n",
       "</tbody>\n",
       "</table>\n"
      ],
      "text/latex": [
       "A data.frame: 1 × 2\n",
       "\\begin{tabular}{ll}\n",
       " numbers & letters\\\\\n",
       " <dbl> & <fct>\\\\\n",
       "\\hline\n",
       "\t 2000 & z\\\\\n",
       "\\end{tabular}\n"
      ],
      "text/markdown": [
       "\n",
       "A data.frame: 1 × 2\n",
       "\n",
       "| numbers &lt;dbl&gt; | letters &lt;fct&gt; |\n",
       "|---|---|\n",
       "| 2000 | z |\n",
       "\n"
      ],
      "text/plain": [
       "  numbers letters\n",
       "1 2000    z      "
      ]
     },
     "metadata": {},
     "output_type": "display_data"
    },
    {
     "data": {
      "text/html": [
       "<table>\n",
       "<caption>A data.frame: 10 × 2</caption>\n",
       "<thead>\n",
       "\t<tr><th scope=col>numbers</th><th scope=col>letters</th></tr>\n",
       "\t<tr><th scope=col>&lt;dbl&gt;</th><th scope=col>&lt;fct&gt;</th></tr>\n",
       "</thead>\n",
       "<tbody>\n",
       "\t<tr><td>  0.38338091</td><td>a</td></tr>\n",
       "\t<tr><td>999.00000000</td><td>b</td></tr>\n",
       "\t<tr><td>  0.20176775</td><td>c</td></tr>\n",
       "\t<tr><td>  0.69023435</td><td>d</td></tr>\n",
       "\t<tr><td>  0.02096354</td><td>e</td></tr>\n",
       "\t<tr><td>  0.14099527</td><td>f</td></tr>\n",
       "\t<tr><td>  0.24402258</td><td>g</td></tr>\n",
       "\t<tr><td>  0.79013028</td><td>h</td></tr>\n",
       "\t<tr><td>  0.60132246</td><td>i</td></tr>\n",
       "\t<tr><td>  0.96245307</td><td>j</td></tr>\n",
       "</tbody>\n",
       "</table>\n"
      ],
      "text/latex": [
       "A data.frame: 10 × 2\n",
       "\\begin{tabular}{ll}\n",
       " numbers & letters\\\\\n",
       " <dbl> & <fct>\\\\\n",
       "\\hline\n",
       "\t   0.38338091 & a\\\\\n",
       "\t 999.00000000 & b\\\\\n",
       "\t   0.20176775 & c\\\\\n",
       "\t   0.69023435 & d\\\\\n",
       "\t   0.02096354 & e\\\\\n",
       "\t   0.14099527 & f\\\\\n",
       "\t   0.24402258 & g\\\\\n",
       "\t   0.79013028 & h\\\\\n",
       "\t   0.60132246 & i\\\\\n",
       "\t   0.96245307 & j\\\\\n",
       "\\end{tabular}\n"
      ],
      "text/markdown": [
       "\n",
       "A data.frame: 10 × 2\n",
       "\n",
       "| numbers &lt;dbl&gt; | letters &lt;fct&gt; |\n",
       "|---|---|\n",
       "|   0.38338091 | a |\n",
       "| 999.00000000 | b |\n",
       "|   0.20176775 | c |\n",
       "|   0.69023435 | d |\n",
       "|   0.02096354 | e |\n",
       "|   0.14099527 | f |\n",
       "|   0.24402258 | g |\n",
       "|   0.79013028 | h |\n",
       "|   0.60132246 | i |\n",
       "|   0.96245307 | j |\n",
       "\n"
      ],
      "text/plain": [
       "   numbers      letters\n",
       "1    0.38338091 a      \n",
       "2  999.00000000 b      \n",
       "3    0.20176775 c      \n",
       "4    0.69023435 d      \n",
       "5    0.02096354 e      \n",
       "6    0.14099527 f      \n",
       "7    0.24402258 g      \n",
       "8    0.79013028 h      \n",
       "9    0.60132246 i      \n",
       "10   0.96245307 j      "
      ]
     },
     "metadata": {},
     "output_type": "display_data"
    }
   ],
   "source": [
    "df3 <- data.frame('numbers' = 2000, 'letters' = 'z')\n",
    "df3\n",
    "df"
   ]
  },
  {
   "cell_type": "code",
   "execution_count": 76,
   "metadata": {},
   "outputs": [
    {
     "data": {
      "text/html": [
       "<table>\n",
       "<caption>A data.frame: 11 × 2</caption>\n",
       "<thead>\n",
       "\t<tr><th scope=col>numbers</th><th scope=col>letters</th></tr>\n",
       "\t<tr><th scope=col>&lt;dbl&gt;</th><th scope=col>&lt;fct&gt;</th></tr>\n",
       "</thead>\n",
       "<tbody>\n",
       "\t<tr><td>3.833809e-01</td><td>a</td></tr>\n",
       "\t<tr><td>9.990000e+02</td><td>b</td></tr>\n",
       "\t<tr><td>2.017678e-01</td><td>c</td></tr>\n",
       "\t<tr><td>6.902343e-01</td><td>d</td></tr>\n",
       "\t<tr><td>2.096354e-02</td><td>e</td></tr>\n",
       "\t<tr><td>1.409953e-01</td><td>f</td></tr>\n",
       "\t<tr><td>2.440226e-01</td><td>g</td></tr>\n",
       "\t<tr><td>7.901303e-01</td><td>h</td></tr>\n",
       "\t<tr><td>6.013225e-01</td><td>i</td></tr>\n",
       "\t<tr><td>9.624531e-01</td><td>j</td></tr>\n",
       "\t<tr><td>2.000000e+03</td><td>z</td></tr>\n",
       "</tbody>\n",
       "</table>\n"
      ],
      "text/latex": [
       "A data.frame: 11 × 2\n",
       "\\begin{tabular}{ll}\n",
       " numbers & letters\\\\\n",
       " <dbl> & <fct>\\\\\n",
       "\\hline\n",
       "\t 3.833809e-01 & a\\\\\n",
       "\t 9.990000e+02 & b\\\\\n",
       "\t 2.017678e-01 & c\\\\\n",
       "\t 6.902343e-01 & d\\\\\n",
       "\t 2.096354e-02 & e\\\\\n",
       "\t 1.409953e-01 & f\\\\\n",
       "\t 2.440226e-01 & g\\\\\n",
       "\t 7.901303e-01 & h\\\\\n",
       "\t 6.013225e-01 & i\\\\\n",
       "\t 9.624531e-01 & j\\\\\n",
       "\t 2.000000e+03 & z\\\\\n",
       "\\end{tabular}\n"
      ],
      "text/markdown": [
       "\n",
       "A data.frame: 11 × 2\n",
       "\n",
       "| numbers &lt;dbl&gt; | letters &lt;fct&gt; |\n",
       "|---|---|\n",
       "| 3.833809e-01 | a |\n",
       "| 9.990000e+02 | b |\n",
       "| 2.017678e-01 | c |\n",
       "| 6.902343e-01 | d |\n",
       "| 2.096354e-02 | e |\n",
       "| 1.409953e-01 | f |\n",
       "| 2.440226e-01 | g |\n",
       "| 7.901303e-01 | h |\n",
       "| 6.013225e-01 | i |\n",
       "| 9.624531e-01 | j |\n",
       "| 2.000000e+03 | z |\n",
       "\n"
      ],
      "text/plain": [
       "   numbers      letters\n",
       "1  3.833809e-01 a      \n",
       "2  9.990000e+02 b      \n",
       "3  2.017678e-01 c      \n",
       "4  6.902343e-01 d      \n",
       "5  2.096354e-02 e      \n",
       "6  1.409953e-01 f      \n",
       "7  2.440226e-01 g      \n",
       "8  7.901303e-01 h      \n",
       "9  6.013225e-01 i      \n",
       "10 9.624531e-01 j      \n",
       "11 2.000000e+03 z      "
      ]
     },
     "metadata": {},
     "output_type": "display_data"
    }
   ],
   "source": [
    "dfnew <- rbind(df,df3)\n",
    "dfnew"
   ]
  },
  {
   "cell_type": "code",
   "execution_count": 77,
   "metadata": {},
   "outputs": [],
   "source": [
    "#### #8 Adding Columns\n",
    "dfnew$newcol <- round(200*dfnew$numbers,1)"
   ]
  },
  {
   "cell_type": "code",
   "execution_count": 78,
   "metadata": {},
   "outputs": [
    {
     "data": {
      "text/html": [
       "<table>\n",
       "<caption>A data.frame: 11 × 3</caption>\n",
       "<thead>\n",
       "\t<tr><th scope=col>numbers</th><th scope=col>letters</th><th scope=col>newcol</th></tr>\n",
       "\t<tr><th scope=col>&lt;dbl&gt;</th><th scope=col>&lt;fct&gt;</th><th scope=col>&lt;dbl&gt;</th></tr>\n",
       "</thead>\n",
       "<tbody>\n",
       "\t<tr><td>3.833809e-01</td><td>a</td><td>    76.7</td></tr>\n",
       "\t<tr><td>9.990000e+02</td><td>b</td><td>199800.0</td></tr>\n",
       "\t<tr><td>2.017678e-01</td><td>c</td><td>    40.4</td></tr>\n",
       "\t<tr><td>6.902343e-01</td><td>d</td><td>   138.0</td></tr>\n",
       "\t<tr><td>2.096354e-02</td><td>e</td><td>     4.2</td></tr>\n",
       "\t<tr><td>1.409953e-01</td><td>f</td><td>    28.2</td></tr>\n",
       "\t<tr><td>2.440226e-01</td><td>g</td><td>    48.8</td></tr>\n",
       "\t<tr><td>7.901303e-01</td><td>h</td><td>   158.0</td></tr>\n",
       "\t<tr><td>6.013225e-01</td><td>i</td><td>   120.3</td></tr>\n",
       "\t<tr><td>9.624531e-01</td><td>j</td><td>   192.5</td></tr>\n",
       "\t<tr><td>2.000000e+03</td><td>z</td><td>400000.0</td></tr>\n",
       "</tbody>\n",
       "</table>\n"
      ],
      "text/latex": [
       "A data.frame: 11 × 3\n",
       "\\begin{tabular}{lll}\n",
       " numbers & letters & newcol\\\\\n",
       " <dbl> & <fct> & <dbl>\\\\\n",
       "\\hline\n",
       "\t 3.833809e-01 & a &     76.7\\\\\n",
       "\t 9.990000e+02 & b & 199800.0\\\\\n",
       "\t 2.017678e-01 & c &     40.4\\\\\n",
       "\t 6.902343e-01 & d &    138.0\\\\\n",
       "\t 2.096354e-02 & e &      4.2\\\\\n",
       "\t 1.409953e-01 & f &     28.2\\\\\n",
       "\t 2.440226e-01 & g &     48.8\\\\\n",
       "\t 7.901303e-01 & h &    158.0\\\\\n",
       "\t 6.013225e-01 & i &    120.3\\\\\n",
       "\t 9.624531e-01 & j &    192.5\\\\\n",
       "\t 2.000000e+03 & z & 400000.0\\\\\n",
       "\\end{tabular}\n"
      ],
      "text/markdown": [
       "\n",
       "A data.frame: 11 × 3\n",
       "\n",
       "| numbers &lt;dbl&gt; | letters &lt;fct&gt; | newcol &lt;dbl&gt; |\n",
       "|---|---|---|\n",
       "| 3.833809e-01 | a |     76.7 |\n",
       "| 9.990000e+02 | b | 199800.0 |\n",
       "| 2.017678e-01 | c |     40.4 |\n",
       "| 6.902343e-01 | d |    138.0 |\n",
       "| 2.096354e-02 | e |      4.2 |\n",
       "| 1.409953e-01 | f |     28.2 |\n",
       "| 2.440226e-01 | g |     48.8 |\n",
       "| 7.901303e-01 | h |    158.0 |\n",
       "| 6.013225e-01 | i |    120.3 |\n",
       "| 9.624531e-01 | j |    192.5 |\n",
       "| 2.000000e+03 | z | 400000.0 |\n",
       "\n"
      ],
      "text/plain": [
       "   numbers      letters newcol  \n",
       "1  3.833809e-01 a           76.7\n",
       "2  9.990000e+02 b       199800.0\n",
       "3  2.017678e-01 c           40.4\n",
       "4  6.902343e-01 d          138.0\n",
       "5  2.096354e-02 e            4.2\n",
       "6  1.409953e-01 f           28.2\n",
       "7  2.440226e-01 g           48.8\n",
       "8  7.901303e-01 h          158.0\n",
       "9  6.013225e-01 i          120.3\n",
       "10 9.624531e-01 j          192.5\n",
       "11 2.000000e+03 z       400000.0"
      ]
     },
     "metadata": {},
     "output_type": "display_data"
    }
   ],
   "source": [
    "dfnew"
   ]
  },
  {
   "cell_type": "code",
   "execution_count": 82,
   "metadata": {},
   "outputs": [
    {
     "data": {
      "text/html": [
       "<style>\n",
       ".list-inline {list-style: none; margin:0; padding: 0}\n",
       ".list-inline>li {display: inline-block}\n",
       ".list-inline>li:not(:last-child)::after {content: \"\\00b7\"; padding: 0 .5ex}\n",
       "</style>\n",
       "<ol class=list-inline><li>'Numbers new name'</li><li>'letters new name'</li><li>'200x rounded'</li></ol>\n"
      ],
      "text/latex": [
       "\\begin{enumerate*}\n",
       "\\item 'Numbers new name'\n",
       "\\item 'letters new name'\n",
       "\\item '200x rounded'\n",
       "\\end{enumerate*}\n"
      ],
      "text/markdown": [
       "1. 'Numbers new name'\n",
       "2. 'letters new name'\n",
       "3. '200x rounded'\n",
       "\n",
       "\n"
      ],
      "text/plain": [
       "[1] \"Numbers new name\" \"letters new name\" \"200x rounded\"    "
      ]
     },
     "metadata": {},
     "output_type": "display_data"
    },
    {
     "data": {
      "text/html": [
       "<table>\n",
       "<caption>A data.frame: 11 × 3</caption>\n",
       "<thead>\n",
       "\t<tr><th scope=col>Numbers new name</th><th scope=col>letters new name</th><th scope=col>200x rounded</th></tr>\n",
       "\t<tr><th scope=col>&lt;dbl&gt;</th><th scope=col>&lt;fct&gt;</th><th scope=col>&lt;dbl&gt;</th></tr>\n",
       "</thead>\n",
       "<tbody>\n",
       "\t<tr><td>3.833809e-01</td><td>a</td><td>    76.7</td></tr>\n",
       "\t<tr><td>9.990000e+02</td><td>b</td><td>199800.0</td></tr>\n",
       "\t<tr><td>2.017678e-01</td><td>c</td><td>    40.4</td></tr>\n",
       "\t<tr><td>6.902343e-01</td><td>d</td><td>   138.0</td></tr>\n",
       "\t<tr><td>2.096354e-02</td><td>e</td><td>     4.2</td></tr>\n",
       "\t<tr><td>1.409953e-01</td><td>f</td><td>    28.2</td></tr>\n",
       "\t<tr><td>2.440226e-01</td><td>g</td><td>    48.8</td></tr>\n",
       "\t<tr><td>7.901303e-01</td><td>h</td><td>   158.0</td></tr>\n",
       "\t<tr><td>6.013225e-01</td><td>i</td><td>   120.3</td></tr>\n",
       "\t<tr><td>9.624531e-01</td><td>j</td><td>   192.5</td></tr>\n",
       "\t<tr><td>2.000000e+03</td><td>z</td><td>400000.0</td></tr>\n",
       "</tbody>\n",
       "</table>\n"
      ],
      "text/latex": [
       "A data.frame: 11 × 3\n",
       "\\begin{tabular}{lll}\n",
       " Numbers new name & letters new name & 200x rounded\\\\\n",
       " <dbl> & <fct> & <dbl>\\\\\n",
       "\\hline\n",
       "\t 3.833809e-01 & a &     76.7\\\\\n",
       "\t 9.990000e+02 & b & 199800.0\\\\\n",
       "\t 2.017678e-01 & c &     40.4\\\\\n",
       "\t 6.902343e-01 & d &    138.0\\\\\n",
       "\t 2.096354e-02 & e &      4.2\\\\\n",
       "\t 1.409953e-01 & f &     28.2\\\\\n",
       "\t 2.440226e-01 & g &     48.8\\\\\n",
       "\t 7.901303e-01 & h &    158.0\\\\\n",
       "\t 6.013225e-01 & i &    120.3\\\\\n",
       "\t 9.624531e-01 & j &    192.5\\\\\n",
       "\t 2.000000e+03 & z & 400000.0\\\\\n",
       "\\end{tabular}\n"
      ],
      "text/markdown": [
       "\n",
       "A data.frame: 11 × 3\n",
       "\n",
       "| Numbers new name &lt;dbl&gt; | letters new name &lt;fct&gt; | 200x rounded &lt;dbl&gt; |\n",
       "|---|---|---|\n",
       "| 3.833809e-01 | a |     76.7 |\n",
       "| 9.990000e+02 | b | 199800.0 |\n",
       "| 2.017678e-01 | c |     40.4 |\n",
       "| 6.902343e-01 | d |    138.0 |\n",
       "| 2.096354e-02 | e |      4.2 |\n",
       "| 1.409953e-01 | f |     28.2 |\n",
       "| 2.440226e-01 | g |     48.8 |\n",
       "| 7.901303e-01 | h |    158.0 |\n",
       "| 6.013225e-01 | i |    120.3 |\n",
       "| 9.624531e-01 | j |    192.5 |\n",
       "| 2.000000e+03 | z | 400000.0 |\n",
       "\n"
      ],
      "text/plain": [
       "   Numbers new name letters new name 200x rounded\n",
       "1  3.833809e-01     a                    76.7    \n",
       "2  9.990000e+02     b                199800.0    \n",
       "3  2.017678e-01     c                    40.4    \n",
       "4  6.902343e-01     d                   138.0    \n",
       "5  2.096354e-02     e                     4.2    \n",
       "6  1.409953e-01     f                    28.2    \n",
       "7  2.440226e-01     g                    48.8    \n",
       "8  7.901303e-01     h                   158.0    \n",
       "9  6.013225e-01     i                   120.3    \n",
       "10 9.624531e-01     j                   192.5    \n",
       "11 2.000000e+03     z                400000.0    "
      ]
     },
     "metadata": {},
     "output_type": "display_data"
    }
   ],
   "source": [
    "#### #9 Setting Column Names\n",
    "colnames(dfnew)\n",
    "colnames(dfnew) <- c('Numbers new name', 'letters new name',\"200x rounded\") # if we want to rename all the columns\n",
    "dfnew"
   ]
  },
  {
   "cell_type": "code",
   "execution_count": 84,
   "metadata": {},
   "outputs": [
    {
     "data": {
      "text/html": [
       "<table>\n",
       "<caption>A data.frame: 11 × 3</caption>\n",
       "<thead>\n",
       "\t<tr><th scope=col>small numbers</th><th scope=col>letters new name</th><th scope=col>large numbers</th></tr>\n",
       "\t<tr><th scope=col>&lt;dbl&gt;</th><th scope=col>&lt;fct&gt;</th><th scope=col>&lt;dbl&gt;</th></tr>\n",
       "</thead>\n",
       "<tbody>\n",
       "\t<tr><td>3.833809e-01</td><td>a</td><td>    76.7</td></tr>\n",
       "\t<tr><td>9.990000e+02</td><td>b</td><td>199800.0</td></tr>\n",
       "\t<tr><td>2.017678e-01</td><td>c</td><td>    40.4</td></tr>\n",
       "\t<tr><td>6.902343e-01</td><td>d</td><td>   138.0</td></tr>\n",
       "\t<tr><td>2.096354e-02</td><td>e</td><td>     4.2</td></tr>\n",
       "\t<tr><td>1.409953e-01</td><td>f</td><td>    28.2</td></tr>\n",
       "\t<tr><td>2.440226e-01</td><td>g</td><td>    48.8</td></tr>\n",
       "\t<tr><td>7.901303e-01</td><td>h</td><td>   158.0</td></tr>\n",
       "\t<tr><td>6.013225e-01</td><td>i</td><td>   120.3</td></tr>\n",
       "\t<tr><td>9.624531e-01</td><td>j</td><td>   192.5</td></tr>\n",
       "\t<tr><td>2.000000e+03</td><td>z</td><td>400000.0</td></tr>\n",
       "</tbody>\n",
       "</table>\n"
      ],
      "text/latex": [
       "A data.frame: 11 × 3\n",
       "\\begin{tabular}{lll}\n",
       " small numbers & letters new name & large numbers\\\\\n",
       " <dbl> & <fct> & <dbl>\\\\\n",
       "\\hline\n",
       "\t 3.833809e-01 & a &     76.7\\\\\n",
       "\t 9.990000e+02 & b & 199800.0\\\\\n",
       "\t 2.017678e-01 & c &     40.4\\\\\n",
       "\t 6.902343e-01 & d &    138.0\\\\\n",
       "\t 2.096354e-02 & e &      4.2\\\\\n",
       "\t 1.409953e-01 & f &     28.2\\\\\n",
       "\t 2.440226e-01 & g &     48.8\\\\\n",
       "\t 7.901303e-01 & h &    158.0\\\\\n",
       "\t 6.013225e-01 & i &    120.3\\\\\n",
       "\t 9.624531e-01 & j &    192.5\\\\\n",
       "\t 2.000000e+03 & z & 400000.0\\\\\n",
       "\\end{tabular}\n"
      ],
      "text/markdown": [
       "\n",
       "A data.frame: 11 × 3\n",
       "\n",
       "| small numbers &lt;dbl&gt; | letters new name &lt;fct&gt; | large numbers &lt;dbl&gt; |\n",
       "|---|---|---|\n",
       "| 3.833809e-01 | a |     76.7 |\n",
       "| 9.990000e+02 | b | 199800.0 |\n",
       "| 2.017678e-01 | c |     40.4 |\n",
       "| 6.902343e-01 | d |    138.0 |\n",
       "| 2.096354e-02 | e |      4.2 |\n",
       "| 1.409953e-01 | f |     28.2 |\n",
       "| 2.440226e-01 | g |     48.8 |\n",
       "| 7.901303e-01 | h |    158.0 |\n",
       "| 6.013225e-01 | i |    120.3 |\n",
       "| 9.624531e-01 | j |    192.5 |\n",
       "| 2.000000e+03 | z | 400000.0 |\n",
       "\n"
      ],
      "text/plain": [
       "   small numbers letters new name large numbers\n",
       "1  3.833809e-01  a                    76.7     \n",
       "2  9.990000e+02  b                199800.0     \n",
       "3  2.017678e-01  c                    40.4     \n",
       "4  6.902343e-01  d                   138.0     \n",
       "5  2.096354e-02  e                     4.2     \n",
       "6  1.409953e-01  f                    28.2     \n",
       "7  2.440226e-01  g                    48.8     \n",
       "8  7.901303e-01  h                   158.0     \n",
       "9  6.013225e-01  i                   120.3     \n",
       "10 9.624531e-01  j                   192.5     \n",
       "11 2.000000e+03  z                400000.0     "
      ]
     },
     "metadata": {},
     "output_type": "display_data"
    }
   ],
   "source": [
    "colnames(dfnew)[1] <- 'small numbers'\n",
    "colnames(dfnew)[3] <- 'large numbers'\n",
    "dfnew"
   ]
  },
  {
   "cell_type": "code",
   "execution_count": 85,
   "metadata": {},
   "outputs": [],
   "source": [
    "#### #10 Selecting Multiple Rows"
   ]
  },
  {
   "cell_type": "code",
   "execution_count": 87,
   "metadata": {},
   "outputs": [
    {
     "data": {
      "text/html": [
       "<table>\n",
       "<caption>A data.frame: 3 × 3</caption>\n",
       "<thead>\n",
       "\t<tr><th></th><th scope=col>small numbers</th><th scope=col>letters new name</th><th scope=col>large numbers</th></tr>\n",
       "\t<tr><th></th><th scope=col>&lt;dbl&gt;</th><th scope=col>&lt;fct&gt;</th><th scope=col>&lt;dbl&gt;</th></tr>\n",
       "</thead>\n",
       "<tbody>\n",
       "\t<tr><th scope=row>1</th><td>  0.3833809</td><td>a</td><td>    76.7</td></tr>\n",
       "\t<tr><th scope=row>2</th><td>999.0000000</td><td>b</td><td>199800.0</td></tr>\n",
       "\t<tr><th scope=row>3</th><td>  0.2017678</td><td>c</td><td>    40.4</td></tr>\n",
       "</tbody>\n",
       "</table>\n"
      ],
      "text/latex": [
       "A data.frame: 3 × 3\n",
       "\\begin{tabular}{r|lll}\n",
       "  & small numbers & letters new name & large numbers\\\\\n",
       "  & <dbl> & <fct> & <dbl>\\\\\n",
       "\\hline\n",
       "\t1 &   0.3833809 & a &     76.7\\\\\n",
       "\t2 & 999.0000000 & b & 199800.0\\\\\n",
       "\t3 &   0.2017678 & c &     40.4\\\\\n",
       "\\end{tabular}\n"
      ],
      "text/markdown": [
       "\n",
       "A data.frame: 3 × 3\n",
       "\n",
       "| <!--/--> | small numbers &lt;dbl&gt; | letters new name &lt;fct&gt; | large numbers &lt;dbl&gt; |\n",
       "|---|---|---|---|\n",
       "| 1 |   0.3833809 | a |     76.7 |\n",
       "| 2 | 999.0000000 | b | 199800.0 |\n",
       "| 3 |   0.2017678 | c |     40.4 |\n",
       "\n"
      ],
      "text/plain": [
       "  small numbers letters new name large numbers\n",
       "1   0.3833809   a                    76.7     \n",
       "2 999.0000000   b                199800.0     \n",
       "3   0.2017678   c                    40.4     "
      ]
     },
     "metadata": {},
     "output_type": "display_data"
    }
   ],
   "source": [
    "dfnew[1:3,] ##selects the rows 1,2,3 "
   ]
  },
  {
   "cell_type": "code",
   "execution_count": 91,
   "metadata": {},
   "outputs": [
    {
     "data": {
      "text/html": [
       "<table>\n",
       "<caption>A data.frame: 10 × 3</caption>\n",
       "<thead>\n",
       "\t<tr><th></th><th scope=col>small numbers</th><th scope=col>letters new name</th><th scope=col>large numbers</th></tr>\n",
       "\t<tr><th></th><th scope=col>&lt;dbl&gt;</th><th scope=col>&lt;fct&gt;</th><th scope=col>&lt;dbl&gt;</th></tr>\n",
       "</thead>\n",
       "<tbody>\n",
       "\t<tr><th scope=row>1</th><td>3.833809e-01</td><td>a</td><td>    76.7</td></tr>\n",
       "\t<tr><th scope=row>3</th><td>2.017678e-01</td><td>c</td><td>    40.4</td></tr>\n",
       "\t<tr><th scope=row>4</th><td>6.902343e-01</td><td>d</td><td>   138.0</td></tr>\n",
       "\t<tr><th scope=row>5</th><td>2.096354e-02</td><td>e</td><td>     4.2</td></tr>\n",
       "\t<tr><th scope=row>6</th><td>1.409953e-01</td><td>f</td><td>    28.2</td></tr>\n",
       "\t<tr><th scope=row>7</th><td>2.440226e-01</td><td>g</td><td>    48.8</td></tr>\n",
       "\t<tr><th scope=row>8</th><td>7.901303e-01</td><td>h</td><td>   158.0</td></tr>\n",
       "\t<tr><th scope=row>9</th><td>6.013225e-01</td><td>i</td><td>   120.3</td></tr>\n",
       "\t<tr><th scope=row>10</th><td>9.624531e-01</td><td>j</td><td>   192.5</td></tr>\n",
       "\t<tr><th scope=row>11</th><td>2.000000e+03</td><td>z</td><td>400000.0</td></tr>\n",
       "</tbody>\n",
       "</table>\n"
      ],
      "text/latex": [
       "A data.frame: 10 × 3\n",
       "\\begin{tabular}{r|lll}\n",
       "  & small numbers & letters new name & large numbers\\\\\n",
       "  & <dbl> & <fct> & <dbl>\\\\\n",
       "\\hline\n",
       "\t1 & 3.833809e-01 & a &     76.7\\\\\n",
       "\t3 & 2.017678e-01 & c &     40.4\\\\\n",
       "\t4 & 6.902343e-01 & d &    138.0\\\\\n",
       "\t5 & 2.096354e-02 & e &      4.2\\\\\n",
       "\t6 & 1.409953e-01 & f &     28.2\\\\\n",
       "\t7 & 2.440226e-01 & g &     48.8\\\\\n",
       "\t8 & 7.901303e-01 & h &    158.0\\\\\n",
       "\t9 & 6.013225e-01 & i &    120.3\\\\\n",
       "\t10 & 9.624531e-01 & j &    192.5\\\\\n",
       "\t11 & 2.000000e+03 & z & 400000.0\\\\\n",
       "\\end{tabular}\n"
      ],
      "text/markdown": [
       "\n",
       "A data.frame: 10 × 3\n",
       "\n",
       "| <!--/--> | small numbers &lt;dbl&gt; | letters new name &lt;fct&gt; | large numbers &lt;dbl&gt; |\n",
       "|---|---|---|---|\n",
       "| 1 | 3.833809e-01 | a |     76.7 |\n",
       "| 3 | 2.017678e-01 | c |     40.4 |\n",
       "| 4 | 6.902343e-01 | d |    138.0 |\n",
       "| 5 | 2.096354e-02 | e |      4.2 |\n",
       "| 6 | 1.409953e-01 | f |     28.2 |\n",
       "| 7 | 2.440226e-01 | g |     48.8 |\n",
       "| 8 | 7.901303e-01 | h |    158.0 |\n",
       "| 9 | 6.013225e-01 | i |    120.3 |\n",
       "| 10 | 9.624531e-01 | j |    192.5 |\n",
       "| 11 | 2.000000e+03 | z | 400000.0 |\n",
       "\n"
      ],
      "text/plain": [
       "   small numbers letters new name large numbers\n",
       "1  3.833809e-01  a                    76.7     \n",
       "3  2.017678e-01  c                    40.4     \n",
       "4  6.902343e-01  d                   138.0     \n",
       "5  2.096354e-02  e                     4.2     \n",
       "6  1.409953e-01  f                    28.2     \n",
       "7  2.440226e-01  g                    48.8     \n",
       "8  7.901303e-01  h                   158.0     \n",
       "9  6.013225e-01  i                   120.3     \n",
       "10 9.624531e-01  j                   192.5     \n",
       "11 2.000000e+03  z                400000.0     "
      ]
     },
     "metadata": {},
     "output_type": "display_data"
    }
   ],
   "source": [
    "dfnew[(-2),] #selects everything BUT the second row"
   ]
  },
  {
   "cell_type": "code",
   "execution_count": 92,
   "metadata": {},
   "outputs": [
    {
     "data": {
      "text/html": [
       "<table>\n",
       "<caption>A data.frame: 3 × 11</caption>\n",
       "<thead>\n",
       "\t<tr><th></th><th scope=col>mpg</th><th scope=col>cyl</th><th scope=col>disp</th><th scope=col>hp</th><th scope=col>drat</th><th scope=col>wt</th><th scope=col>qsec</th><th scope=col>vs</th><th scope=col>am</th><th scope=col>gear</th><th scope=col>carb</th></tr>\n",
       "\t<tr><th></th><th scope=col>&lt;dbl&gt;</th><th scope=col>&lt;dbl&gt;</th><th scope=col>&lt;dbl&gt;</th><th scope=col>&lt;dbl&gt;</th><th scope=col>&lt;dbl&gt;</th><th scope=col>&lt;dbl&gt;</th><th scope=col>&lt;dbl&gt;</th><th scope=col>&lt;dbl&gt;</th><th scope=col>&lt;dbl&gt;</th><th scope=col>&lt;dbl&gt;</th><th scope=col>&lt;dbl&gt;</th></tr>\n",
       "</thead>\n",
       "<tbody>\n",
       "\t<tr><th scope=row>Mazda RX4</th><td>21.0</td><td>6</td><td>160</td><td>110</td><td>3.90</td><td>2.620</td><td>16.46</td><td>0</td><td>1</td><td>4</td><td>4</td></tr>\n",
       "\t<tr><th scope=row>Mazda RX4 Wag</th><td>21.0</td><td>6</td><td>160</td><td>110</td><td>3.90</td><td>2.875</td><td>17.02</td><td>0</td><td>1</td><td>4</td><td>4</td></tr>\n",
       "\t<tr><th scope=row>Datsun 710</th><td>22.8</td><td>4</td><td>108</td><td> 93</td><td>3.85</td><td>2.320</td><td>18.61</td><td>1</td><td>1</td><td>4</td><td>1</td></tr>\n",
       "</tbody>\n",
       "</table>\n"
      ],
      "text/latex": [
       "A data.frame: 3 × 11\n",
       "\\begin{tabular}{r|lllllllllll}\n",
       "  & mpg & cyl & disp & hp & drat & wt & qsec & vs & am & gear & carb\\\\\n",
       "  & <dbl> & <dbl> & <dbl> & <dbl> & <dbl> & <dbl> & <dbl> & <dbl> & <dbl> & <dbl> & <dbl>\\\\\n",
       "\\hline\n",
       "\tMazda RX4 & 21.0 & 6 & 160 & 110 & 3.90 & 2.620 & 16.46 & 0 & 1 & 4 & 4\\\\\n",
       "\tMazda RX4 Wag & 21.0 & 6 & 160 & 110 & 3.90 & 2.875 & 17.02 & 0 & 1 & 4 & 4\\\\\n",
       "\tDatsun 710 & 22.8 & 4 & 108 &  93 & 3.85 & 2.320 & 18.61 & 1 & 1 & 4 & 1\\\\\n",
       "\\end{tabular}\n"
      ],
      "text/markdown": [
       "\n",
       "A data.frame: 3 × 11\n",
       "\n",
       "| <!--/--> | mpg &lt;dbl&gt; | cyl &lt;dbl&gt; | disp &lt;dbl&gt; | hp &lt;dbl&gt; | drat &lt;dbl&gt; | wt &lt;dbl&gt; | qsec &lt;dbl&gt; | vs &lt;dbl&gt; | am &lt;dbl&gt; | gear &lt;dbl&gt; | carb &lt;dbl&gt; |\n",
       "|---|---|---|---|---|---|---|---|---|---|---|---|\n",
       "| Mazda RX4 | 21.0 | 6 | 160 | 110 | 3.90 | 2.620 | 16.46 | 0 | 1 | 4 | 4 |\n",
       "| Mazda RX4 Wag | 21.0 | 6 | 160 | 110 | 3.90 | 2.875 | 17.02 | 0 | 1 | 4 | 4 |\n",
       "| Datsun 710 | 22.8 | 4 | 108 |  93 | 3.85 | 2.320 | 18.61 | 1 | 1 | 4 | 1 |\n",
       "\n"
      ],
      "text/plain": [
       "              mpg  cyl disp hp  drat wt    qsec  vs am gear carb\n",
       "Mazda RX4     21.0 6   160  110 3.90 2.620 16.46 0  1  4    4   \n",
       "Mazda RX4 Wag 21.0 6   160  110 3.90 2.875 17.02 0  1  4    4   \n",
       "Datsun 710    22.8 4   108   93 3.85 2.320 18.61 1  1  4    1   "
      ]
     },
     "metadata": {},
     "output_type": "display_data"
    }
   ],
   "source": [
    "head(mtcars,3) "
   ]
  },
  {
   "cell_type": "code",
   "execution_count": 97,
   "metadata": {},
   "outputs": [
    {
     "data": {
      "text/html": [
       "<table>\n",
       "<caption>A data.frame: 5 × 11</caption>\n",
       "<thead>\n",
       "\t<tr><th></th><th scope=col>mpg</th><th scope=col>cyl</th><th scope=col>disp</th><th scope=col>hp</th><th scope=col>drat</th><th scope=col>wt</th><th scope=col>qsec</th><th scope=col>vs</th><th scope=col>am</th><th scope=col>gear</th><th scope=col>carb</th></tr>\n",
       "\t<tr><th></th><th scope=col>&lt;dbl&gt;</th><th scope=col>&lt;dbl&gt;</th><th scope=col>&lt;dbl&gt;</th><th scope=col>&lt;dbl&gt;</th><th scope=col>&lt;dbl&gt;</th><th scope=col>&lt;dbl&gt;</th><th scope=col>&lt;dbl&gt;</th><th scope=col>&lt;dbl&gt;</th><th scope=col>&lt;dbl&gt;</th><th scope=col>&lt;dbl&gt;</th><th scope=col>&lt;dbl&gt;</th></tr>\n",
       "</thead>\n",
       "<tbody>\n",
       "\t<tr><th scope=row>Duster 360</th><td>14.3</td><td>8</td><td>360</td><td>245</td><td>3.21</td><td>3.570</td><td>15.84</td><td>0</td><td>0</td><td>3</td><td>4</td></tr>\n",
       "\t<tr><th scope=row>Cadillac Fleetwood</th><td>10.4</td><td>8</td><td>472</td><td>205</td><td>2.93</td><td>5.250</td><td>17.98</td><td>0</td><td>0</td><td>3</td><td>4</td></tr>\n",
       "\t<tr><th scope=row>Lincoln Continental</th><td>10.4</td><td>8</td><td>460</td><td>215</td><td>3.00</td><td>5.424</td><td>17.82</td><td>0</td><td>0</td><td>3</td><td>4</td></tr>\n",
       "\t<tr><th scope=row>Chrysler Imperial</th><td>14.7</td><td>8</td><td>440</td><td>230</td><td>3.23</td><td>5.345</td><td>17.42</td><td>0</td><td>0</td><td>3</td><td>4</td></tr>\n",
       "\t<tr><th scope=row>Camaro Z28</th><td>13.3</td><td>8</td><td>350</td><td>245</td><td>3.73</td><td>3.840</td><td>15.41</td><td>0</td><td>0</td><td>3</td><td>4</td></tr>\n",
       "</tbody>\n",
       "</table>\n"
      ],
      "text/latex": [
       "A data.frame: 5 × 11\n",
       "\\begin{tabular}{r|lllllllllll}\n",
       "  & mpg & cyl & disp & hp & drat & wt & qsec & vs & am & gear & carb\\\\\n",
       "  & <dbl> & <dbl> & <dbl> & <dbl> & <dbl> & <dbl> & <dbl> & <dbl> & <dbl> & <dbl> & <dbl>\\\\\n",
       "\\hline\n",
       "\tDuster 360 & 14.3 & 8 & 360 & 245 & 3.21 & 3.570 & 15.84 & 0 & 0 & 3 & 4\\\\\n",
       "\tCadillac Fleetwood & 10.4 & 8 & 472 & 205 & 2.93 & 5.250 & 17.98 & 0 & 0 & 3 & 4\\\\\n",
       "\tLincoln Continental & 10.4 & 8 & 460 & 215 & 3.00 & 5.424 & 17.82 & 0 & 0 & 3 & 4\\\\\n",
       "\tChrysler Imperial & 14.7 & 8 & 440 & 230 & 3.23 & 5.345 & 17.42 & 0 & 0 & 3 & 4\\\\\n",
       "\tCamaro Z28 & 13.3 & 8 & 350 & 245 & 3.73 & 3.840 & 15.41 & 0 & 0 & 3 & 4\\\\\n",
       "\\end{tabular}\n"
      ],
      "text/markdown": [
       "\n",
       "A data.frame: 5 × 11\n",
       "\n",
       "| <!--/--> | mpg &lt;dbl&gt; | cyl &lt;dbl&gt; | disp &lt;dbl&gt; | hp &lt;dbl&gt; | drat &lt;dbl&gt; | wt &lt;dbl&gt; | qsec &lt;dbl&gt; | vs &lt;dbl&gt; | am &lt;dbl&gt; | gear &lt;dbl&gt; | carb &lt;dbl&gt; |\n",
       "|---|---|---|---|---|---|---|---|---|---|---|---|\n",
       "| Duster 360 | 14.3 | 8 | 360 | 245 | 3.21 | 3.570 | 15.84 | 0 | 0 | 3 | 4 |\n",
       "| Cadillac Fleetwood | 10.4 | 8 | 472 | 205 | 2.93 | 5.250 | 17.98 | 0 | 0 | 3 | 4 |\n",
       "| Lincoln Continental | 10.4 | 8 | 460 | 215 | 3.00 | 5.424 | 17.82 | 0 | 0 | 3 | 4 |\n",
       "| Chrysler Imperial | 14.7 | 8 | 440 | 230 | 3.23 | 5.345 | 17.42 | 0 | 0 | 3 | 4 |\n",
       "| Camaro Z28 | 13.3 | 8 | 350 | 245 | 3.73 | 3.840 | 15.41 | 0 | 0 | 3 | 4 |\n",
       "\n"
      ],
      "text/plain": [
       "                    mpg  cyl disp hp  drat wt    qsec  vs am gear carb\n",
       "Duster 360          14.3 8   360  245 3.21 3.570 15.84 0  0  3    4   \n",
       "Cadillac Fleetwood  10.4 8   472  205 2.93 5.250 17.98 0  0  3    4   \n",
       "Lincoln Continental 10.4 8   460  215 3.00 5.424 17.82 0  0  3    4   \n",
       "Chrysler Imperial   14.7 8   440  230 3.23 5.345 17.42 0  0  3    4   \n",
       "Camaro Z28          13.3 8   350  245 3.73 3.840 15.41 0  0  3    4   "
      ]
     },
     "metadata": {},
     "output_type": "display_data"
    }
   ],
   "source": [
    "#Lets try conditional selection\n",
    "mtcars[ mtcars$mpg < 15 , ]"
   ]
  },
  {
   "cell_type": "code",
   "execution_count": 103,
   "metadata": {},
   "outputs": [
    {
     "data": {
      "text/html": [
       "<table>\n",
       "<caption>A data.frame: 3 × 11</caption>\n",
       "<thead>\n",
       "\t<tr><th></th><th scope=col>mpg</th><th scope=col>cyl</th><th scope=col>disp</th><th scope=col>hp</th><th scope=col>drat</th><th scope=col>wt</th><th scope=col>qsec</th><th scope=col>vs</th><th scope=col>am</th><th scope=col>gear</th><th scope=col>carb</th></tr>\n",
       "\t<tr><th></th><th scope=col>&lt;dbl&gt;</th><th scope=col>&lt;dbl&gt;</th><th scope=col>&lt;dbl&gt;</th><th scope=col>&lt;dbl&gt;</th><th scope=col>&lt;dbl&gt;</th><th scope=col>&lt;dbl&gt;</th><th scope=col>&lt;dbl&gt;</th><th scope=col>&lt;dbl&gt;</th><th scope=col>&lt;dbl&gt;</th><th scope=col>&lt;dbl&gt;</th><th scope=col>&lt;dbl&gt;</th></tr>\n",
       "</thead>\n",
       "<tbody>\n",
       "\t<tr><th scope=row>Mazda RX4</th><td>21.0</td><td>6</td><td>160</td><td>110</td><td>3.90</td><td>2.620</td><td>16.46</td><td>0</td><td>1</td><td>4</td><td>4</td></tr>\n",
       "\t<tr><th scope=row>Mazda RX4 Wag</th><td>21.0</td><td>6</td><td>160</td><td>110</td><td>3.90</td><td>2.875</td><td>17.02</td><td>0</td><td>1</td><td>4</td><td>4</td></tr>\n",
       "\t<tr><th scope=row>Hornet 4 Drive</th><td>21.4</td><td>6</td><td>258</td><td>110</td><td>3.08</td><td>3.215</td><td>19.44</td><td>1</td><td>0</td><td>3</td><td>1</td></tr>\n",
       "</tbody>\n",
       "</table>\n"
      ],
      "text/latex": [
       "A data.frame: 3 × 11\n",
       "\\begin{tabular}{r|lllllllllll}\n",
       "  & mpg & cyl & disp & hp & drat & wt & qsec & vs & am & gear & carb\\\\\n",
       "  & <dbl> & <dbl> & <dbl> & <dbl> & <dbl> & <dbl> & <dbl> & <dbl> & <dbl> & <dbl> & <dbl>\\\\\n",
       "\\hline\n",
       "\tMazda RX4 & 21.0 & 6 & 160 & 110 & 3.90 & 2.620 & 16.46 & 0 & 1 & 4 & 4\\\\\n",
       "\tMazda RX4 Wag & 21.0 & 6 & 160 & 110 & 3.90 & 2.875 & 17.02 & 0 & 1 & 4 & 4\\\\\n",
       "\tHornet 4 Drive & 21.4 & 6 & 258 & 110 & 3.08 & 3.215 & 19.44 & 1 & 0 & 3 & 1\\\\\n",
       "\\end{tabular}\n"
      ],
      "text/markdown": [
       "\n",
       "A data.frame: 3 × 11\n",
       "\n",
       "| <!--/--> | mpg &lt;dbl&gt; | cyl &lt;dbl&gt; | disp &lt;dbl&gt; | hp &lt;dbl&gt; | drat &lt;dbl&gt; | wt &lt;dbl&gt; | qsec &lt;dbl&gt; | vs &lt;dbl&gt; | am &lt;dbl&gt; | gear &lt;dbl&gt; | carb &lt;dbl&gt; |\n",
       "|---|---|---|---|---|---|---|---|---|---|---|---|\n",
       "| Mazda RX4 | 21.0 | 6 | 160 | 110 | 3.90 | 2.620 | 16.46 | 0 | 1 | 4 | 4 |\n",
       "| Mazda RX4 Wag | 21.0 | 6 | 160 | 110 | 3.90 | 2.875 | 17.02 | 0 | 1 | 4 | 4 |\n",
       "| Hornet 4 Drive | 21.4 | 6 | 258 | 110 | 3.08 | 3.215 | 19.44 | 1 | 0 | 3 | 1 |\n",
       "\n"
      ],
      "text/plain": [
       "               mpg  cyl disp hp  drat wt    qsec  vs am gear carb\n",
       "Mazda RX4      21.0 6   160  110 3.90 2.620 16.46 0  1  4    4   \n",
       "Mazda RX4 Wag  21.0 6   160  110 3.90 2.875 17.02 0  1  4    4   \n",
       "Hornet 4 Drive 21.4 6   258  110 3.08 3.215 19.44 1  0  3    1   "
      ]
     },
     "metadata": {},
     "output_type": "display_data"
    }
   ],
   "source": [
    "mtcars[ (mtcars$mpg > 20) & (mtcars$cyl == 6), ]"
   ]
  },
  {
   "cell_type": "code",
   "execution_count": null,
   "metadata": {},
   "outputs": [],
   "source": [
    "mtcars[ (mtcars$mpg > 20) & (mtcars$cyl == 6), ]"
   ]
  },
  {
   "cell_type": "code",
   "execution_count": null,
   "metadata": {},
   "outputs": [],
   "source": []
  }
 ],
 "metadata": {
  "kernelspec": {
   "display_name": "R",
   "language": "R",
   "name": "ir"
  },
  "language_info": {
   "codemirror_mode": "r",
   "file_extension": ".r",
   "mimetype": "text/x-r-source",
   "name": "R",
   "pygments_lexer": "r",
   "version": "3.6.1"
  }
 },
 "nbformat": 4,
 "nbformat_minor": 4
}
