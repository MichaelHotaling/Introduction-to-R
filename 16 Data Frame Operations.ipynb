{
 "cells": [
  {
   "cell_type": "markdown",
   "metadata": {},
   "source": [
    "# Overview of Data Frame Operations\n",
    "\n",
    "Data frames are the workhorse of R, so in this lecture we will basically be creating a \"cheat sheet\" of common operations used with data frames and R. This will be a very critical lecture so be sure to understand all of the material \n",
    "\n",
    "- Creating Data Frames\n",
    "- Importing and Exporting Data\n",
    "- Getting Information about Data Frame\n",
    "- Referencing Cells\n",
    "- Referencing Rows\n",
    "- Referencing Columns\n",
    "- Adding Rows\n",
    "- Adding Columns\n",
    "- Setting Column Names\n",
    "- Selecting Multiple Rows\n",
    "- Selecting Multiple Columns\n",
    "- Dealing with Missing Dataa"
   ]
  },
  {
   "cell_type": "markdown",
   "metadata": {},
   "source": [
    "## Creating Data Frames\n",
    "\n",
    "Let's first create an empty data frame"
   ]
  },
  {
   "cell_type": "code",
   "execution_count": 1,
   "metadata": {},
   "outputs": [
    {
     "data": {
      "text/html": [
       "<table>\n",
       "<caption>A data.frame: 10 × 2</caption>\n",
       "<thead>\n",
       "\t<tr><th scope=col>numbers</th><th scope=col>letters</th></tr>\n",
       "\t<tr><th scope=col>&lt;dbl&gt;</th><th scope=col>&lt;fct&gt;</th></tr>\n",
       "</thead>\n",
       "<tbody>\n",
       "\t<tr><td>0.39059836</td><td>a</td></tr>\n",
       "\t<tr><td>0.08741041</td><td>b</td></tr>\n",
       "\t<tr><td>0.02793079</td><td>c</td></tr>\n",
       "\t<tr><td>0.82038038</td><td>d</td></tr>\n",
       "\t<tr><td>0.99909567</td><td>e</td></tr>\n",
       "\t<tr><td>0.58412249</td><td>f</td></tr>\n",
       "\t<tr><td>0.26511445</td><td>g</td></tr>\n",
       "\t<tr><td>0.78301879</td><td>h</td></tr>\n",
       "\t<tr><td>0.64013416</td><td>i</td></tr>\n",
       "\t<tr><td>0.90595798</td><td>j</td></tr>\n",
       "</tbody>\n",
       "</table>\n"
      ],
      "text/latex": [
       "A data.frame: 10 × 2\n",
       "\\begin{tabular}{ll}\n",
       " numbers & letters\\\\\n",
       " <dbl> & <fct>\\\\\n",
       "\\hline\n",
       "\t 0.39059836 & a\\\\\n",
       "\t 0.08741041 & b\\\\\n",
       "\t 0.02793079 & c\\\\\n",
       "\t 0.82038038 & d\\\\\n",
       "\t 0.99909567 & e\\\\\n",
       "\t 0.58412249 & f\\\\\n",
       "\t 0.26511445 & g\\\\\n",
       "\t 0.78301879 & h\\\\\n",
       "\t 0.64013416 & i\\\\\n",
       "\t 0.90595798 & j\\\\\n",
       "\\end{tabular}\n"
      ],
      "text/markdown": [
       "\n",
       "A data.frame: 10 × 2\n",
       "\n",
       "| numbers &lt;dbl&gt; | letters &lt;fct&gt; |\n",
       "|---|---|\n",
       "| 0.39059836 | a |\n",
       "| 0.08741041 | b |\n",
       "| 0.02793079 | c |\n",
       "| 0.82038038 | d |\n",
       "| 0.99909567 | e |\n",
       "| 0.58412249 | f |\n",
       "| 0.26511445 | g |\n",
       "| 0.78301879 | h |\n",
       "| 0.64013416 | i |\n",
       "| 0.90595798 | j |\n",
       "\n"
      ],
      "text/plain": [
       "   numbers    letters\n",
       "1  0.39059836 a      \n",
       "2  0.08741041 b      \n",
       "3  0.02793079 c      \n",
       "4  0.82038038 d      \n",
       "5  0.99909567 e      \n",
       "6  0.58412249 f      \n",
       "7  0.26511445 g      \n",
       "8  0.78301879 h      \n",
       "9  0.64013416 i      \n",
       "10 0.90595798 j      "
      ]
     },
     "metadata": {},
     "output_type": "display_data"
    }
   ],
   "source": [
    "empty <- data.frame() # empty data frame\n",
    "\n",
    "# lets now create a vector \n",
    "c1 <-  runif(10)\n",
    "\n",
    "#we can use the built in vector 'letters' to make the next vector\n",
    "c2 <- letters[1:10]\n",
    "\n",
    "# lets make our data frame and name the columns\n",
    "df <- data.frame(\"numbers\" = c1, \"letters\" = c2) \n",
    "df"
   ]
  },
  {
   "cell_type": "markdown",
   "metadata": {},
   "source": [
    "## Importing and Exporting Data\n",
    "\n",
    "We will go over this more later"
   ]
  },
  {
   "cell_type": "code",
   "execution_count": 2,
   "metadata": {},
   "outputs": [],
   "source": [
    "#d2 <- read.csv('some_file.csv')\n",
    "\n",
    "#For Excel File\n",
    "#load the readxl package\n",
    "#library(readxl)\n",
    "\n",
    "#Call info from the sheets using read.excel\n",
    "#df <- read_excel('some_file.xlsx', sheet = 'Sheet1')\n",
    "\n",
    "# Output to CSV\n",
    "#write.csv(df,file='some_file.csv')"
   ]
  },
  {
   "cell_type": "markdown",
   "metadata": {},
   "source": [
    "## Getting Information about Data Frames"
   ]
  },
  {
   "cell_type": "code",
   "execution_count": 3,
   "metadata": {},
   "outputs": [
    {
     "data": {
      "text/html": [
       "10"
      ],
      "text/latex": [
       "10"
      ],
      "text/markdown": [
       "10"
      ],
      "text/plain": [
       "[1] 10"
      ]
     },
     "metadata": {},
     "output_type": "display_data"
    },
    {
     "data": {
      "text/html": [
       "2"
      ],
      "text/latex": [
       "2"
      ],
      "text/markdown": [
       "2"
      ],
      "text/plain": [
       "[1] 2"
      ]
     },
     "metadata": {},
     "output_type": "display_data"
    }
   ],
   "source": [
    "# Count the numbers of rows and columns\n",
    "nrow(df)\n",
    "ncol(df)"
   ]
  },
  {
   "cell_type": "code",
   "execution_count": 4,
   "metadata": {},
   "outputs": [
    {
     "data": {
      "text/html": [
       "<style>\n",
       ".list-inline {list-style: none; margin:0; padding: 0}\n",
       ".list-inline>li {display: inline-block}\n",
       ".list-inline>li:not(:last-child)::after {content: \"\\00b7\"; padding: 0 .5ex}\n",
       "</style>\n",
       "<ol class=list-inline><li>'numbers'</li><li>'letters'</li></ol>\n"
      ],
      "text/latex": [
       "\\begin{enumerate*}\n",
       "\\item 'numbers'\n",
       "\\item 'letters'\n",
       "\\end{enumerate*}\n"
      ],
      "text/markdown": [
       "1. 'numbers'\n",
       "2. 'letters'\n",
       "\n",
       "\n"
      ],
      "text/plain": [
       "[1] \"numbers\" \"letters\""
      ]
     },
     "metadata": {},
     "output_type": "display_data"
    },
    {
     "data": {
      "text/html": [
       "<style>\n",
       ".list-inline {list-style: none; margin:0; padding: 0}\n",
       ".list-inline>li {display: inline-block}\n",
       ".list-inline>li:not(:last-child)::after {content: \"\\00b7\"; padding: 0 .5ex}\n",
       "</style>\n",
       "<ol class=list-inline><li>'1'</li><li>'2'</li><li>'3'</li><li>'4'</li><li>'5'</li><li>'6'</li><li>'7'</li><li>'8'</li><li>'9'</li><li>'10'</li></ol>\n"
      ],
      "text/latex": [
       "\\begin{enumerate*}\n",
       "\\item '1'\n",
       "\\item '2'\n",
       "\\item '3'\n",
       "\\item '4'\n",
       "\\item '5'\n",
       "\\item '6'\n",
       "\\item '7'\n",
       "\\item '8'\n",
       "\\item '9'\n",
       "\\item '10'\n",
       "\\end{enumerate*}\n"
      ],
      "text/markdown": [
       "1. '1'\n",
       "2. '2'\n",
       "3. '3'\n",
       "4. '4'\n",
       "5. '5'\n",
       "6. '6'\n",
       "7. '7'\n",
       "8. '8'\n",
       "9. '9'\n",
       "10. '10'\n",
       "\n",
       "\n"
      ],
      "text/plain": [
       " [1] \"1\"  \"2\"  \"3\"  \"4\"  \"5\"  \"6\"  \"7\"  \"8\"  \"9\"  \"10\""
      ]
     },
     "metadata": {},
     "output_type": "display_data"
    }
   ],
   "source": [
    "# Column and Row Names\n",
    "colnames(df)\n",
    "rownames(df) # this will return the index value, not the random numbers"
   ]
  },
  {
   "cell_type": "markdown",
   "metadata": {},
   "source": [
    "## Referencing Cells\n",
    "\n",
    "You can think of the basics as using two sets of brackets for a single cell and using a signle set of brackets for multiple cells. Here's an example"
   ]
  },
  {
   "cell_type": "code",
   "execution_count": 5,
   "metadata": {},
   "outputs": [
    {
     "data": {
      "text/html": [
       "<table>\n",
       "<caption>A data.frame: 5 × 2</caption>\n",
       "<thead>\n",
       "\t<tr><th></th><th scope=col>numbers</th><th scope=col>letters</th></tr>\n",
       "\t<tr><th></th><th scope=col>&lt;dbl&gt;</th><th scope=col>&lt;fct&gt;</th></tr>\n",
       "</thead>\n",
       "<tbody>\n",
       "\t<tr><th scope=row>1</th><td>0.39059836</td><td>a</td></tr>\n",
       "\t<tr><th scope=row>2</th><td>0.08741041</td><td>b</td></tr>\n",
       "\t<tr><th scope=row>3</th><td>0.02793079</td><td>c</td></tr>\n",
       "\t<tr><th scope=row>4</th><td>0.82038038</td><td>d</td></tr>\n",
       "\t<tr><th scope=row>5</th><td>0.99909567</td><td>e</td></tr>\n",
       "</tbody>\n",
       "</table>\n"
      ],
      "text/latex": [
       "A data.frame: 5 × 2\n",
       "\\begin{tabular}{r|ll}\n",
       "  & numbers & letters\\\\\n",
       "  & <dbl> & <fct>\\\\\n",
       "\\hline\n",
       "\t1 & 0.39059836 & a\\\\\n",
       "\t2 & 0.08741041 & b\\\\\n",
       "\t3 & 0.02793079 & c\\\\\n",
       "\t4 & 0.82038038 & d\\\\\n",
       "\t5 & 0.99909567 & e\\\\\n",
       "\\end{tabular}\n"
      ],
      "text/markdown": [
       "\n",
       "A data.frame: 5 × 2\n",
       "\n",
       "| <!--/--> | numbers &lt;dbl&gt; | letters &lt;fct&gt; |\n",
       "|---|---|---|\n",
       "| 1 | 0.39059836 | a |\n",
       "| 2 | 0.08741041 | b |\n",
       "| 3 | 0.02793079 | c |\n",
       "| 4 | 0.82038038 | d |\n",
       "| 5 | 0.99909567 | e |\n",
       "\n"
      ],
      "text/plain": [
       "  numbers    letters\n",
       "1 0.39059836 a      \n",
       "2 0.08741041 b      \n",
       "3 0.02793079 c      \n",
       "4 0.82038038 d      \n",
       "5 0.99909567 e      "
      ]
     },
     "metadata": {},
     "output_type": "display_data"
    },
    {
     "data": {
      "text/html": [
       "<table>\n",
       "<caption>A data.frame: 10 × 2</caption>\n",
       "<thead>\n",
       "\t<tr><th scope=col>numbers</th><th scope=col>letters</th></tr>\n",
       "\t<tr><th scope=col>&lt;dbl&gt;</th><th scope=col>&lt;fct&gt;</th></tr>\n",
       "</thead>\n",
       "<tbody>\n",
       "\t<tr><td>3.905984e-01</td><td>a</td></tr>\n",
       "\t<tr><td>9.999900e+04</td><td>b</td></tr>\n",
       "\t<tr><td>2.793079e-02</td><td>c</td></tr>\n",
       "\t<tr><td>8.203804e-01</td><td>d</td></tr>\n",
       "\t<tr><td>9.990957e-01</td><td>e</td></tr>\n",
       "\t<tr><td>5.841225e-01</td><td>f</td></tr>\n",
       "\t<tr><td>2.651145e-01</td><td>g</td></tr>\n",
       "\t<tr><td>7.830188e-01</td><td>h</td></tr>\n",
       "\t<tr><td>6.401342e-01</td><td>i</td></tr>\n",
       "\t<tr><td>9.059580e-01</td><td>j</td></tr>\n",
       "</tbody>\n",
       "</table>\n"
      ],
      "text/latex": [
       "A data.frame: 10 × 2\n",
       "\\begin{tabular}{ll}\n",
       " numbers & letters\\\\\n",
       " <dbl> & <fct>\\\\\n",
       "\\hline\n",
       "\t 3.905984e-01 & a\\\\\n",
       "\t 9.999900e+04 & b\\\\\n",
       "\t 2.793079e-02 & c\\\\\n",
       "\t 8.203804e-01 & d\\\\\n",
       "\t 9.990957e-01 & e\\\\\n",
       "\t 5.841225e-01 & f\\\\\n",
       "\t 2.651145e-01 & g\\\\\n",
       "\t 7.830188e-01 & h\\\\\n",
       "\t 6.401342e-01 & i\\\\\n",
       "\t 9.059580e-01 & j\\\\\n",
       "\\end{tabular}\n"
      ],
      "text/markdown": [
       "\n",
       "A data.frame: 10 × 2\n",
       "\n",
       "| numbers &lt;dbl&gt; | letters &lt;fct&gt; |\n",
       "|---|---|\n",
       "| 3.905984e-01 | a |\n",
       "| 9.999900e+04 | b |\n",
       "| 2.793079e-02 | c |\n",
       "| 8.203804e-01 | d |\n",
       "| 9.990957e-01 | e |\n",
       "| 5.841225e-01 | f |\n",
       "| 2.651145e-01 | g |\n",
       "| 7.830188e-01 | h |\n",
       "| 6.401342e-01 | i |\n",
       "| 9.059580e-01 | j |\n",
       "\n"
      ],
      "text/plain": [
       "   numbers      letters\n",
       "1  3.905984e-01 a      \n",
       "2  9.999900e+04 b      \n",
       "3  2.793079e-02 c      \n",
       "4  8.203804e-01 d      \n",
       "5  9.990957e-01 e      \n",
       "6  5.841225e-01 f      \n",
       "7  2.651145e-01 g      \n",
       "8  7.830188e-01 h      \n",
       "9  6.401342e-01 i      \n",
       "10 9.059580e-01 j      "
      ]
     },
     "metadata": {},
     "output_type": "display_data"
    }
   ],
   "source": [
    "vec <- df[[5, 2]] # get cell by [[row,col]] num\n",
    "\n",
    "newdf <- df[1:5, 1:2] # get multiple cells in new df\n",
    "\n",
    "df[[2, 'numbers']] <- 99999 # reassign a single cell\n",
    "\n",
    "newdf\n",
    "df"
   ]
  },
  {
   "cell_type": "markdown",
   "metadata": {},
   "source": [
    "## Referencing Rows\n",
    "Usually you'll want to use the [row, ] function"
   ]
  },
  {
   "cell_type": "code",
   "execution_count": 6,
   "metadata": {},
   "outputs": [
    {
     "data": {
      "text/html": [
       "<table>\n",
       "<caption>A data.frame: 1 × 2</caption>\n",
       "<thead>\n",
       "\t<tr><th></th><th scope=col>numbers</th><th scope=col>letters</th></tr>\n",
       "\t<tr><th></th><th scope=col>&lt;dbl&gt;</th><th scope=col>&lt;fct&gt;</th></tr>\n",
       "</thead>\n",
       "<tbody>\n",
       "\t<tr><th scope=row>1</th><td>0.3905984</td><td>a</td></tr>\n",
       "</tbody>\n",
       "</table>\n"
      ],
      "text/latex": [
       "A data.frame: 1 × 2\n",
       "\\begin{tabular}{r|ll}\n",
       "  & numbers & letters\\\\\n",
       "  & <dbl> & <fct>\\\\\n",
       "\\hline\n",
       "\t1 & 0.3905984 & a\\\\\n",
       "\\end{tabular}\n"
      ],
      "text/markdown": [
       "\n",
       "A data.frame: 1 × 2\n",
       "\n",
       "| <!--/--> | numbers &lt;dbl&gt; | letters &lt;fct&gt; |\n",
       "|---|---|---|\n",
       "| 1 | 0.3905984 | a |\n",
       "\n"
      ],
      "text/plain": [
       "  numbers   letters\n",
       "1 0.3905984 a      "
      ]
     },
     "metadata": {},
     "output_type": "display_data"
    }
   ],
   "source": [
    "rowdf <- df[1,]\n",
    "rowdf"
   ]
  },
  {
   "cell_type": "markdown",
   "metadata": {},
   "source": [
    "If you want to get a row as a vector, use the following notation"
   ]
  },
  {
   "cell_type": "code",
   "execution_count": 7,
   "metadata": {},
   "outputs": [
    {
     "data": {
      "text/html": [
       "<style>\n",
       ".list-inline {list-style: none; margin:0; padding: 0}\n",
       ".list-inline>li {display: inline-block}\n",
       ".list-inline>li:not(:last-child)::after {content: \"\\00b7\"; padding: 0 .5ex}\n",
       "</style>\n",
       "<ol class=list-inline><li>0.390598358586431</li><li>1</li></ol>\n"
      ],
      "text/latex": [
       "\\begin{enumerate*}\n",
       "\\item 0.390598358586431\n",
       "\\item 1\n",
       "\\end{enumerate*}\n"
      ],
      "text/markdown": [
       "1. 0.390598358586431\n",
       "2. 1\n",
       "\n",
       "\n"
      ],
      "text/plain": [
       "[1] 0.3905984 1.0000000"
      ]
     },
     "metadata": {},
     "output_type": "display_data"
    }
   ],
   "source": [
    "vrow <- as.numeric(as.vector(df[1,]))\n",
    "vrow # a is assigned to a numeric "
   ]
  },
  {
   "cell_type": "markdown",
   "metadata": {},
   "source": [
    "## Referencing Columns\n",
    "Most column references will return a vector\n"
   ]
  },
  {
   "cell_type": "code",
   "execution_count": 8,
   "metadata": {},
   "outputs": [
    {
     "data": {
      "text/html": [
       "<table>\n",
       "<caption>A data.frame: 6 × 11</caption>\n",
       "<thead>\n",
       "\t<tr><th></th><th scope=col>mpg</th><th scope=col>cyl</th><th scope=col>disp</th><th scope=col>hp</th><th scope=col>drat</th><th scope=col>wt</th><th scope=col>qsec</th><th scope=col>vs</th><th scope=col>am</th><th scope=col>gear</th><th scope=col>carb</th></tr>\n",
       "\t<tr><th></th><th scope=col>&lt;dbl&gt;</th><th scope=col>&lt;dbl&gt;</th><th scope=col>&lt;dbl&gt;</th><th scope=col>&lt;dbl&gt;</th><th scope=col>&lt;dbl&gt;</th><th scope=col>&lt;dbl&gt;</th><th scope=col>&lt;dbl&gt;</th><th scope=col>&lt;dbl&gt;</th><th scope=col>&lt;dbl&gt;</th><th scope=col>&lt;dbl&gt;</th><th scope=col>&lt;dbl&gt;</th></tr>\n",
       "</thead>\n",
       "<tbody>\n",
       "\t<tr><th scope=row>Mazda RX4</th><td>21.0</td><td>6</td><td>160</td><td>110</td><td>3.90</td><td>2.620</td><td>16.46</td><td>0</td><td>1</td><td>4</td><td>4</td></tr>\n",
       "\t<tr><th scope=row>Mazda RX4 Wag</th><td>21.0</td><td>6</td><td>160</td><td>110</td><td>3.90</td><td>2.875</td><td>17.02</td><td>0</td><td>1</td><td>4</td><td>4</td></tr>\n",
       "\t<tr><th scope=row>Datsun 710</th><td>22.8</td><td>4</td><td>108</td><td> 93</td><td>3.85</td><td>2.320</td><td>18.61</td><td>1</td><td>1</td><td>4</td><td>1</td></tr>\n",
       "\t<tr><th scope=row>Hornet 4 Drive</th><td>21.4</td><td>6</td><td>258</td><td>110</td><td>3.08</td><td>3.215</td><td>19.44</td><td>1</td><td>0</td><td>3</td><td>1</td></tr>\n",
       "\t<tr><th scope=row>Hornet Sportabout</th><td>18.7</td><td>8</td><td>360</td><td>175</td><td>3.15</td><td>3.440</td><td>17.02</td><td>0</td><td>0</td><td>3</td><td>2</td></tr>\n",
       "\t<tr><th scope=row>Valiant</th><td>18.1</td><td>6</td><td>225</td><td>105</td><td>2.76</td><td>3.460</td><td>20.22</td><td>1</td><td>0</td><td>3</td><td>1</td></tr>\n",
       "</tbody>\n",
       "</table>\n"
      ],
      "text/latex": [
       "A data.frame: 6 × 11\n",
       "\\begin{tabular}{r|lllllllllll}\n",
       "  & mpg & cyl & disp & hp & drat & wt & qsec & vs & am & gear & carb\\\\\n",
       "  & <dbl> & <dbl> & <dbl> & <dbl> & <dbl> & <dbl> & <dbl> & <dbl> & <dbl> & <dbl> & <dbl>\\\\\n",
       "\\hline\n",
       "\tMazda RX4 & 21.0 & 6 & 160 & 110 & 3.90 & 2.620 & 16.46 & 0 & 1 & 4 & 4\\\\\n",
       "\tMazda RX4 Wag & 21.0 & 6 & 160 & 110 & 3.90 & 2.875 & 17.02 & 0 & 1 & 4 & 4\\\\\n",
       "\tDatsun 710 & 22.8 & 4 & 108 &  93 & 3.85 & 2.320 & 18.61 & 1 & 1 & 4 & 1\\\\\n",
       "\tHornet 4 Drive & 21.4 & 6 & 258 & 110 & 3.08 & 3.215 & 19.44 & 1 & 0 & 3 & 1\\\\\n",
       "\tHornet Sportabout & 18.7 & 8 & 360 & 175 & 3.15 & 3.440 & 17.02 & 0 & 0 & 3 & 2\\\\\n",
       "\tValiant & 18.1 & 6 & 225 & 105 & 2.76 & 3.460 & 20.22 & 1 & 0 & 3 & 1\\\\\n",
       "\\end{tabular}\n"
      ],
      "text/markdown": [
       "\n",
       "A data.frame: 6 × 11\n",
       "\n",
       "| <!--/--> | mpg &lt;dbl&gt; | cyl &lt;dbl&gt; | disp &lt;dbl&gt; | hp &lt;dbl&gt; | drat &lt;dbl&gt; | wt &lt;dbl&gt; | qsec &lt;dbl&gt; | vs &lt;dbl&gt; | am &lt;dbl&gt; | gear &lt;dbl&gt; | carb &lt;dbl&gt; |\n",
       "|---|---|---|---|---|---|---|---|---|---|---|---|\n",
       "| Mazda RX4 | 21.0 | 6 | 160 | 110 | 3.90 | 2.620 | 16.46 | 0 | 1 | 4 | 4 |\n",
       "| Mazda RX4 Wag | 21.0 | 6 | 160 | 110 | 3.90 | 2.875 | 17.02 | 0 | 1 | 4 | 4 |\n",
       "| Datsun 710 | 22.8 | 4 | 108 |  93 | 3.85 | 2.320 | 18.61 | 1 | 1 | 4 | 1 |\n",
       "| Hornet 4 Drive | 21.4 | 6 | 258 | 110 | 3.08 | 3.215 | 19.44 | 1 | 0 | 3 | 1 |\n",
       "| Hornet Sportabout | 18.7 | 8 | 360 | 175 | 3.15 | 3.440 | 17.02 | 0 | 0 | 3 | 2 |\n",
       "| Valiant | 18.1 | 6 | 225 | 105 | 2.76 | 3.460 | 20.22 | 1 | 0 | 3 | 1 |\n",
       "\n"
      ],
      "text/plain": [
       "                  mpg  cyl disp hp  drat wt    qsec  vs am gear carb\n",
       "Mazda RX4         21.0 6   160  110 3.90 2.620 16.46 0  1  4    4   \n",
       "Mazda RX4 Wag     21.0 6   160  110 3.90 2.875 17.02 0  1  4    4   \n",
       "Datsun 710        22.8 4   108   93 3.85 2.320 18.61 1  1  4    1   \n",
       "Hornet 4 Drive    21.4 6   258  110 3.08 3.215 19.44 1  0  3    1   \n",
       "Hornet Sportabout 18.7 8   360  175 3.15 3.440 17.02 0  0  3    2   \n",
       "Valiant           18.1 6   225  105 2.76 3.460 20.22 1  0  3    1   "
      ]
     },
     "metadata": {},
     "output_type": "display_data"
    }
   ],
   "source": [
    "cars <- mtcars\n",
    "head(cars)"
   ]
  },
  {
   "cell_type": "code",
   "execution_count": 9,
   "metadata": {},
   "outputs": [
    {
     "data": {
      "text/html": [
       "<style>\n",
       ".list-inline {list-style: none; margin:0; padding: 0}\n",
       ".list-inline>li {display: inline-block}\n",
       ".list-inline>li:not(:last-child)::after {content: \"\\00b7\"; padding: 0 .5ex}\n",
       "</style>\n",
       "<ol class=list-inline><li>21</li><li>21</li><li>22.8</li><li>21.4</li><li>18.7</li><li>18.1</li><li>14.3</li><li>24.4</li><li>22.8</li><li>19.2</li><li>17.8</li><li>16.4</li><li>17.3</li><li>15.2</li><li>10.4</li><li>10.4</li><li>14.7</li><li>32.4</li><li>30.4</li><li>33.9</li><li>21.5</li><li>15.5</li><li>15.2</li><li>13.3</li><li>19.2</li><li>27.3</li><li>26</li><li>30.4</li><li>15.8</li><li>19.7</li><li>15</li><li>21.4</li></ol>\n"
      ],
      "text/latex": [
       "\\begin{enumerate*}\n",
       "\\item 21\n",
       "\\item 21\n",
       "\\item 22.8\n",
       "\\item 21.4\n",
       "\\item 18.7\n",
       "\\item 18.1\n",
       "\\item 14.3\n",
       "\\item 24.4\n",
       "\\item 22.8\n",
       "\\item 19.2\n",
       "\\item 17.8\n",
       "\\item 16.4\n",
       "\\item 17.3\n",
       "\\item 15.2\n",
       "\\item 10.4\n",
       "\\item 10.4\n",
       "\\item 14.7\n",
       "\\item 32.4\n",
       "\\item 30.4\n",
       "\\item 33.9\n",
       "\\item 21.5\n",
       "\\item 15.5\n",
       "\\item 15.2\n",
       "\\item 13.3\n",
       "\\item 19.2\n",
       "\\item 27.3\n",
       "\\item 26\n",
       "\\item 30.4\n",
       "\\item 15.8\n",
       "\\item 19.7\n",
       "\\item 15\n",
       "\\item 21.4\n",
       "\\end{enumerate*}\n"
      ],
      "text/markdown": [
       "1. 21\n",
       "2. 21\n",
       "3. 22.8\n",
       "4. 21.4\n",
       "5. 18.7\n",
       "6. 18.1\n",
       "7. 14.3\n",
       "8. 24.4\n",
       "9. 22.8\n",
       "10. 19.2\n",
       "11. 17.8\n",
       "12. 16.4\n",
       "13. 17.3\n",
       "14. 15.2\n",
       "15. 10.4\n",
       "16. 10.4\n",
       "17. 14.7\n",
       "18. 32.4\n",
       "19. 30.4\n",
       "20. 33.9\n",
       "21. 21.5\n",
       "22. 15.5\n",
       "23. 15.2\n",
       "24. 13.3\n",
       "25. 19.2\n",
       "26. 27.3\n",
       "27. 26\n",
       "28. 30.4\n",
       "29. 15.8\n",
       "30. 19.7\n",
       "31. 15\n",
       "32. 21.4\n",
       "\n",
       "\n"
      ],
      "text/plain": [
       " [1] 21.0 21.0 22.8 21.4 18.7 18.1 14.3 24.4 22.8 19.2 17.8 16.4 17.3 15.2 10.4\n",
       "[16] 10.4 14.7 32.4 30.4 33.9 21.5 15.5 15.2 13.3 19.2 27.3 26.0 30.4 15.8 19.7\n",
       "[31] 15.0 21.4"
      ]
     },
     "metadata": {},
     "output_type": "display_data"
    },
    {
     "data": {
      "text/html": [
       "<style>\n",
       ".list-inline {list-style: none; margin:0; padding: 0}\n",
       ".list-inline>li {display: inline-block}\n",
       ".list-inline>li:not(:last-child)::after {content: \"\\00b7\"; padding: 0 .5ex}\n",
       "</style>\n",
       "<ol class=list-inline><li>21</li><li>21</li><li>22.8</li><li>21.4</li><li>18.7</li><li>18.1</li><li>14.3</li><li>24.4</li><li>22.8</li><li>19.2</li><li>17.8</li><li>16.4</li><li>17.3</li><li>15.2</li><li>10.4</li><li>10.4</li><li>14.7</li><li>32.4</li><li>30.4</li><li>33.9</li><li>21.5</li><li>15.5</li><li>15.2</li><li>13.3</li><li>19.2</li><li>27.3</li><li>26</li><li>30.4</li><li>15.8</li><li>19.7</li><li>15</li><li>21.4</li></ol>\n"
      ],
      "text/latex": [
       "\\begin{enumerate*}\n",
       "\\item 21\n",
       "\\item 21\n",
       "\\item 22.8\n",
       "\\item 21.4\n",
       "\\item 18.7\n",
       "\\item 18.1\n",
       "\\item 14.3\n",
       "\\item 24.4\n",
       "\\item 22.8\n",
       "\\item 19.2\n",
       "\\item 17.8\n",
       "\\item 16.4\n",
       "\\item 17.3\n",
       "\\item 15.2\n",
       "\\item 10.4\n",
       "\\item 10.4\n",
       "\\item 14.7\n",
       "\\item 32.4\n",
       "\\item 30.4\n",
       "\\item 33.9\n",
       "\\item 21.5\n",
       "\\item 15.5\n",
       "\\item 15.2\n",
       "\\item 13.3\n",
       "\\item 19.2\n",
       "\\item 27.3\n",
       "\\item 26\n",
       "\\item 30.4\n",
       "\\item 15.8\n",
       "\\item 19.7\n",
       "\\item 15\n",
       "\\item 21.4\n",
       "\\end{enumerate*}\n"
      ],
      "text/markdown": [
       "1. 21\n",
       "2. 21\n",
       "3. 22.8\n",
       "4. 21.4\n",
       "5. 18.7\n",
       "6. 18.1\n",
       "7. 14.3\n",
       "8. 24.4\n",
       "9. 22.8\n",
       "10. 19.2\n",
       "11. 17.8\n",
       "12. 16.4\n",
       "13. 17.3\n",
       "14. 15.2\n",
       "15. 10.4\n",
       "16. 10.4\n",
       "17. 14.7\n",
       "18. 32.4\n",
       "19. 30.4\n",
       "20. 33.9\n",
       "21. 21.5\n",
       "22. 15.5\n",
       "23. 15.2\n",
       "24. 13.3\n",
       "25. 19.2\n",
       "26. 27.3\n",
       "27. 26\n",
       "28. 30.4\n",
       "29. 15.8\n",
       "30. 19.7\n",
       "31. 15\n",
       "32. 21.4\n",
       "\n",
       "\n"
      ],
      "text/plain": [
       " [1] 21.0 21.0 22.8 21.4 18.7 18.1 14.3 24.4 22.8 19.2 17.8 16.4 17.3 15.2 10.4\n",
       "[16] 10.4 14.7 32.4 30.4 33.9 21.5 15.5 15.2 13.3 19.2 27.3 26.0 30.4 15.8 19.7\n",
       "[31] 15.0 21.4"
      ]
     },
     "metadata": {},
     "output_type": "display_data"
    },
    {
     "data": {
      "text/html": [
       "<style>\n",
       ".list-inline {list-style: none; margin:0; padding: 0}\n",
       ".list-inline>li {display: inline-block}\n",
       ".list-inline>li:not(:last-child)::after {content: \"\\00b7\"; padding: 0 .5ex}\n",
       "</style>\n",
       "<ol class=list-inline><li>21</li><li>21</li><li>22.8</li><li>21.4</li><li>18.7</li><li>18.1</li><li>14.3</li><li>24.4</li><li>22.8</li><li>19.2</li><li>17.8</li><li>16.4</li><li>17.3</li><li>15.2</li><li>10.4</li><li>10.4</li><li>14.7</li><li>32.4</li><li>30.4</li><li>33.9</li><li>21.5</li><li>15.5</li><li>15.2</li><li>13.3</li><li>19.2</li><li>27.3</li><li>26</li><li>30.4</li><li>15.8</li><li>19.7</li><li>15</li><li>21.4</li></ol>\n"
      ],
      "text/latex": [
       "\\begin{enumerate*}\n",
       "\\item 21\n",
       "\\item 21\n",
       "\\item 22.8\n",
       "\\item 21.4\n",
       "\\item 18.7\n",
       "\\item 18.1\n",
       "\\item 14.3\n",
       "\\item 24.4\n",
       "\\item 22.8\n",
       "\\item 19.2\n",
       "\\item 17.8\n",
       "\\item 16.4\n",
       "\\item 17.3\n",
       "\\item 15.2\n",
       "\\item 10.4\n",
       "\\item 10.4\n",
       "\\item 14.7\n",
       "\\item 32.4\n",
       "\\item 30.4\n",
       "\\item 33.9\n",
       "\\item 21.5\n",
       "\\item 15.5\n",
       "\\item 15.2\n",
       "\\item 13.3\n",
       "\\item 19.2\n",
       "\\item 27.3\n",
       "\\item 26\n",
       "\\item 30.4\n",
       "\\item 15.8\n",
       "\\item 19.7\n",
       "\\item 15\n",
       "\\item 21.4\n",
       "\\end{enumerate*}\n"
      ],
      "text/markdown": [
       "1. 21\n",
       "2. 21\n",
       "3. 22.8\n",
       "4. 21.4\n",
       "5. 18.7\n",
       "6. 18.1\n",
       "7. 14.3\n",
       "8. 24.4\n",
       "9. 22.8\n",
       "10. 19.2\n",
       "11. 17.8\n",
       "12. 16.4\n",
       "13. 17.3\n",
       "14. 15.2\n",
       "15. 10.4\n",
       "16. 10.4\n",
       "17. 14.7\n",
       "18. 32.4\n",
       "19. 30.4\n",
       "20. 33.9\n",
       "21. 21.5\n",
       "22. 15.5\n",
       "23. 15.2\n",
       "24. 13.3\n",
       "25. 19.2\n",
       "26. 27.3\n",
       "27. 26\n",
       "28. 30.4\n",
       "29. 15.8\n",
       "30. 19.7\n",
       "31. 15\n",
       "32. 21.4\n",
       "\n",
       "\n"
      ],
      "text/plain": [
       " [1] 21.0 21.0 22.8 21.4 18.7 18.1 14.3 24.4 22.8 19.2 17.8 16.4 17.3 15.2 10.4\n",
       "[16] 10.4 14.7 32.4 30.4 33.9 21.5 15.5 15.2 13.3 19.2 27.3 26.0 30.4 15.8 19.7\n",
       "[31] 15.0 21.4"
      ]
     },
     "metadata": {},
     "output_type": "display_data"
    },
    {
     "data": {
      "text/html": [
       "<style>\n",
       ".list-inline {list-style: none; margin:0; padding: 0}\n",
       ".list-inline>li {display: inline-block}\n",
       ".list-inline>li:not(:last-child)::after {content: \"\\00b7\"; padding: 0 .5ex}\n",
       "</style>\n",
       "<ol class=list-inline><li>21</li><li>21</li><li>22.8</li><li>21.4</li><li>18.7</li><li>18.1</li><li>14.3</li><li>24.4</li><li>22.8</li><li>19.2</li><li>17.8</li><li>16.4</li><li>17.3</li><li>15.2</li><li>10.4</li><li>10.4</li><li>14.7</li><li>32.4</li><li>30.4</li><li>33.9</li><li>21.5</li><li>15.5</li><li>15.2</li><li>13.3</li><li>19.2</li><li>27.3</li><li>26</li><li>30.4</li><li>15.8</li><li>19.7</li><li>15</li><li>21.4</li></ol>\n"
      ],
      "text/latex": [
       "\\begin{enumerate*}\n",
       "\\item 21\n",
       "\\item 21\n",
       "\\item 22.8\n",
       "\\item 21.4\n",
       "\\item 18.7\n",
       "\\item 18.1\n",
       "\\item 14.3\n",
       "\\item 24.4\n",
       "\\item 22.8\n",
       "\\item 19.2\n",
       "\\item 17.8\n",
       "\\item 16.4\n",
       "\\item 17.3\n",
       "\\item 15.2\n",
       "\\item 10.4\n",
       "\\item 10.4\n",
       "\\item 14.7\n",
       "\\item 32.4\n",
       "\\item 30.4\n",
       "\\item 33.9\n",
       "\\item 21.5\n",
       "\\item 15.5\n",
       "\\item 15.2\n",
       "\\item 13.3\n",
       "\\item 19.2\n",
       "\\item 27.3\n",
       "\\item 26\n",
       "\\item 30.4\n",
       "\\item 15.8\n",
       "\\item 19.7\n",
       "\\item 15\n",
       "\\item 21.4\n",
       "\\end{enumerate*}\n"
      ],
      "text/markdown": [
       "1. 21\n",
       "2. 21\n",
       "3. 22.8\n",
       "4. 21.4\n",
       "5. 18.7\n",
       "6. 18.1\n",
       "7. 14.3\n",
       "8. 24.4\n",
       "9. 22.8\n",
       "10. 19.2\n",
       "11. 17.8\n",
       "12. 16.4\n",
       "13. 17.3\n",
       "14. 15.2\n",
       "15. 10.4\n",
       "16. 10.4\n",
       "17. 14.7\n",
       "18. 32.4\n",
       "19. 30.4\n",
       "20. 33.9\n",
       "21. 21.5\n",
       "22. 15.5\n",
       "23. 15.2\n",
       "24. 13.3\n",
       "25. 19.2\n",
       "26. 27.3\n",
       "27. 26\n",
       "28. 30.4\n",
       "29. 15.8\n",
       "30. 19.7\n",
       "31. 15\n",
       "32. 21.4\n",
       "\n",
       "\n"
      ],
      "text/plain": [
       " [1] 21.0 21.0 22.8 21.4 18.7 18.1 14.3 24.4 22.8 19.2 17.8 16.4 17.3 15.2 10.4\n",
       "[16] 10.4 14.7 32.4 30.4 33.9 21.5 15.5 15.2 13.3 19.2 27.3 26.0 30.4 15.8 19.7\n",
       "[31] 15.0 21.4"
      ]
     },
     "metadata": {},
     "output_type": "display_data"
    }
   ],
   "source": [
    "colv1 <- cars$mpg # returns a vector\n",
    "colv1\n",
    "\n",
    "colv2 <- cars[, 'mpg'] # returns vector\n",
    "colv2\n",
    "\n",
    "colv3<- cars[, 1] # a is int or string\n",
    "colv3\n",
    "\n",
    "colv4 <- cars[['mpg']] # returns a vector\n",
    "colv4"
   ]
  },
  {
   "cell_type": "code",
   "execution_count": 10,
   "metadata": {},
   "outputs": [
    {
     "data": {
      "text/html": [
       "<table>\n",
       "<caption>A data.frame: 6 × 1</caption>\n",
       "<thead>\n",
       "\t<tr><th></th><th scope=col>mpg</th></tr>\n",
       "\t<tr><th></th><th scope=col>&lt;dbl&gt;</th></tr>\n",
       "</thead>\n",
       "<tbody>\n",
       "\t<tr><th scope=row>Mazda RX4</th><td>21.0</td></tr>\n",
       "\t<tr><th scope=row>Mazda RX4 Wag</th><td>21.0</td></tr>\n",
       "\t<tr><th scope=row>Datsun 710</th><td>22.8</td></tr>\n",
       "\t<tr><th scope=row>Hornet 4 Drive</th><td>21.4</td></tr>\n",
       "\t<tr><th scope=row>Hornet Sportabout</th><td>18.7</td></tr>\n",
       "\t<tr><th scope=row>Valiant</th><td>18.1</td></tr>\n",
       "</tbody>\n",
       "</table>\n"
      ],
      "text/latex": [
       "A data.frame: 6 × 1\n",
       "\\begin{tabular}{r|l}\n",
       "  & mpg\\\\\n",
       "  & <dbl>\\\\\n",
       "\\hline\n",
       "\tMazda RX4 & 21.0\\\\\n",
       "\tMazda RX4 Wag & 21.0\\\\\n",
       "\tDatsun 710 & 22.8\\\\\n",
       "\tHornet 4 Drive & 21.4\\\\\n",
       "\tHornet Sportabout & 18.7\\\\\n",
       "\tValiant & 18.1\\\\\n",
       "\\end{tabular}\n"
      ],
      "text/markdown": [
       "\n",
       "A data.frame: 6 × 1\n",
       "\n",
       "| <!--/--> | mpg &lt;dbl&gt; |\n",
       "|---|---|\n",
       "| Mazda RX4 | 21.0 |\n",
       "| Mazda RX4 Wag | 21.0 |\n",
       "| Datsun 710 | 22.8 |\n",
       "| Hornet 4 Drive | 21.4 |\n",
       "| Hornet Sportabout | 18.7 |\n",
       "| Valiant | 18.1 |\n",
       "\n"
      ],
      "text/plain": [
       "                  mpg \n",
       "Mazda RX4         21.0\n",
       "Mazda RX4 Wag     21.0\n",
       "Datsun 710        22.8\n",
       "Hornet 4 Drive    21.4\n",
       "Hornet Sportabout 18.7\n",
       "Valiant           18.1"
      ]
     },
     "metadata": {},
     "output_type": "display_data"
    },
    {
     "data": {
      "text/html": [
       "<table>\n",
       "<caption>A data.frame: 6 × 1</caption>\n",
       "<thead>\n",
       "\t<tr><th></th><th scope=col>mpg</th></tr>\n",
       "\t<tr><th></th><th scope=col>&lt;dbl&gt;</th></tr>\n",
       "</thead>\n",
       "<tbody>\n",
       "\t<tr><th scope=row>Mazda RX4</th><td>21.0</td></tr>\n",
       "\t<tr><th scope=row>Mazda RX4 Wag</th><td>21.0</td></tr>\n",
       "\t<tr><th scope=row>Datsun 710</th><td>22.8</td></tr>\n",
       "\t<tr><th scope=row>Hornet 4 Drive</th><td>21.4</td></tr>\n",
       "\t<tr><th scope=row>Hornet Sportabout</th><td>18.7</td></tr>\n",
       "\t<tr><th scope=row>Valiant</th><td>18.1</td></tr>\n",
       "</tbody>\n",
       "</table>\n"
      ],
      "text/latex": [
       "A data.frame: 6 × 1\n",
       "\\begin{tabular}{r|l}\n",
       "  & mpg\\\\\n",
       "  & <dbl>\\\\\n",
       "\\hline\n",
       "\tMazda RX4 & 21.0\\\\\n",
       "\tMazda RX4 Wag & 21.0\\\\\n",
       "\tDatsun 710 & 22.8\\\\\n",
       "\tHornet 4 Drive & 21.4\\\\\n",
       "\tHornet Sportabout & 18.7\\\\\n",
       "\tValiant & 18.1\\\\\n",
       "\\end{tabular}\n"
      ],
      "text/markdown": [
       "\n",
       "A data.frame: 6 × 1\n",
       "\n",
       "| <!--/--> | mpg &lt;dbl&gt; |\n",
       "|---|---|\n",
       "| Mazda RX4 | 21.0 |\n",
       "| Mazda RX4 Wag | 21.0 |\n",
       "| Datsun 710 | 22.8 |\n",
       "| Hornet 4 Drive | 21.4 |\n",
       "| Hornet Sportabout | 18.7 |\n",
       "| Valiant | 18.1 |\n",
       "\n"
      ],
      "text/plain": [
       "                  mpg \n",
       "Mazda RX4         21.0\n",
       "Mazda RX4 Wag     21.0\n",
       "Datsun 710        22.8\n",
       "Hornet 4 Drive    21.4\n",
       "Hornet Sportabout 18.7\n",
       "Valiant           18.1"
      ]
     },
     "metadata": {},
     "output_type": "display_data"
    }
   ],
   "source": [
    "# Ways of Returning Data Frames\n",
    "mpgdf <- cars['mpg'] # returns 1 col df\n",
    "head(mpgdf)\n",
    "\n",
    "mpgdf2 <- cars[1] # returns 1 col df\n",
    "head(mpgdf2)"
   ]
  },
  {
   "cell_type": "markdown",
   "metadata": {},
   "source": [
    "## Adding Rows"
   ]
  },
  {
   "cell_type": "code",
   "execution_count": 11,
   "metadata": {},
   "outputs": [
    {
     "data": {
      "text/html": [
       "<table>\n",
       "<caption>A data.frame: 1 × 2</caption>\n",
       "<thead>\n",
       "\t<tr><th scope=col>numbers</th><th scope=col>letters</th></tr>\n",
       "\t<tr><th scope=col>&lt;dbl&gt;</th><th scope=col>&lt;fct&gt;</th></tr>\n",
       "</thead>\n",
       "<tbody>\n",
       "\t<tr><td>2000</td><td>new row</td></tr>\n",
       "</tbody>\n",
       "</table>\n"
      ],
      "text/latex": [
       "A data.frame: 1 × 2\n",
       "\\begin{tabular}{ll}\n",
       " numbers & letters\\\\\n",
       " <dbl> & <fct>\\\\\n",
       "\\hline\n",
       "\t 2000 & new row\\\\\n",
       "\\end{tabular}\n"
      ],
      "text/markdown": [
       "\n",
       "A data.frame: 1 × 2\n",
       "\n",
       "| numbers &lt;dbl&gt; | letters &lt;fct&gt; |\n",
       "|---|---|\n",
       "| 2000 | new row |\n",
       "\n"
      ],
      "text/plain": [
       "  numbers letters\n",
       "1 2000    new row"
      ]
     },
     "metadata": {},
     "output_type": "display_data"
    }
   ],
   "source": [
    "# Both arguments are DFs\n",
    "df2 <- data.frame(\"numbers\" = 2000, \"letters\" = 'new row')\n",
    "df2"
   ]
  },
  {
   "cell_type": "markdown",
   "metadata": {
    "scrolled": true
   },
   "source": [
    "Use rbind to bind the new row!"
   ]
  },
  {
   "cell_type": "code",
   "execution_count": 12,
   "metadata": {},
   "outputs": [
    {
     "data": {
      "text/html": [
       "<table>\n",
       "<caption>A data.frame: 11 × 2</caption>\n",
       "<thead>\n",
       "\t<tr><th scope=col>numbers</th><th scope=col>letters</th></tr>\n",
       "\t<tr><th scope=col>&lt;dbl&gt;</th><th scope=col>&lt;fct&gt;</th></tr>\n",
       "</thead>\n",
       "<tbody>\n",
       "\t<tr><td>3.905984e-01</td><td>a      </td></tr>\n",
       "\t<tr><td>9.999900e+04</td><td>b      </td></tr>\n",
       "\t<tr><td>2.793079e-02</td><td>c      </td></tr>\n",
       "\t<tr><td>8.203804e-01</td><td>d      </td></tr>\n",
       "\t<tr><td>9.990957e-01</td><td>e      </td></tr>\n",
       "\t<tr><td>5.841225e-01</td><td>f      </td></tr>\n",
       "\t<tr><td>2.651145e-01</td><td>g      </td></tr>\n",
       "\t<tr><td>7.830188e-01</td><td>h      </td></tr>\n",
       "\t<tr><td>6.401342e-01</td><td>i      </td></tr>\n",
       "\t<tr><td>9.059580e-01</td><td>j      </td></tr>\n",
       "\t<tr><td>2.000000e+03</td><td>new row</td></tr>\n",
       "</tbody>\n",
       "</table>\n"
      ],
      "text/latex": [
       "A data.frame: 11 × 2\n",
       "\\begin{tabular}{ll}\n",
       " numbers & letters\\\\\n",
       " <dbl> & <fct>\\\\\n",
       "\\hline\n",
       "\t 3.905984e-01 & a      \\\\\n",
       "\t 9.999900e+04 & b      \\\\\n",
       "\t 2.793079e-02 & c      \\\\\n",
       "\t 8.203804e-01 & d      \\\\\n",
       "\t 9.990957e-01 & e      \\\\\n",
       "\t 5.841225e-01 & f      \\\\\n",
       "\t 2.651145e-01 & g      \\\\\n",
       "\t 7.830188e-01 & h      \\\\\n",
       "\t 6.401342e-01 & i      \\\\\n",
       "\t 9.059580e-01 & j      \\\\\n",
       "\t 2.000000e+03 & new row\\\\\n",
       "\\end{tabular}\n"
      ],
      "text/markdown": [
       "\n",
       "A data.frame: 11 × 2\n",
       "\n",
       "| numbers &lt;dbl&gt; | letters &lt;fct&gt; |\n",
       "|---|---|\n",
       "| 3.905984e-01 | a       |\n",
       "| 9.999900e+04 | b       |\n",
       "| 2.793079e-02 | c       |\n",
       "| 8.203804e-01 | d       |\n",
       "| 9.990957e-01 | e       |\n",
       "| 5.841225e-01 | f       |\n",
       "| 2.651145e-01 | g       |\n",
       "| 7.830188e-01 | h       |\n",
       "| 6.401342e-01 | i       |\n",
       "| 9.059580e-01 | j       |\n",
       "| 2.000000e+03 | new row |\n",
       "\n"
      ],
      "text/plain": [
       "   numbers      letters\n",
       "1  3.905984e-01 a      \n",
       "2  9.999900e+04 b      \n",
       "3  2.793079e-02 c      \n",
       "4  8.203804e-01 d      \n",
       "5  9.990957e-01 e      \n",
       "6  5.841225e-01 f      \n",
       "7  2.651145e-01 g      \n",
       "8  7.830188e-01 h      \n",
       "9  6.401342e-01 i      \n",
       "10 9.059580e-01 j      \n",
       "11 2.000000e+03 new row"
      ]
     },
     "metadata": {},
     "output_type": "display_data"
    }
   ],
   "source": [
    "dfnew <- rbind(df,df2)\n",
    "dfnew"
   ]
  },
  {
   "cell_type": "markdown",
   "metadata": {},
   "source": [
    "## Adding Columns"
   ]
  },
  {
   "cell_type": "code",
   "execution_count": 13,
   "metadata": {},
   "outputs": [
    {
     "data": {
      "text/html": [
       "<table>\n",
       "<caption>A data.frame: 10 × 3</caption>\n",
       "<thead>\n",
       "\t<tr><th scope=col>numbers</th><th scope=col>letters</th><th scope=col>newcol</th></tr>\n",
       "\t<tr><th scope=col>&lt;dbl&gt;</th><th scope=col>&lt;fct&gt;</th><th scope=col>&lt;lgl&gt;</th></tr>\n",
       "</thead>\n",
       "<tbody>\n",
       "\t<tr><td>3.905984e-01</td><td>a</td><td>NA</td></tr>\n",
       "\t<tr><td>9.999900e+04</td><td>b</td><td>NA</td></tr>\n",
       "\t<tr><td>2.793079e-02</td><td>c</td><td>NA</td></tr>\n",
       "\t<tr><td>8.203804e-01</td><td>d</td><td>NA</td></tr>\n",
       "\t<tr><td>9.990957e-01</td><td>e</td><td>NA</td></tr>\n",
       "\t<tr><td>5.841225e-01</td><td>f</td><td>NA</td></tr>\n",
       "\t<tr><td>2.651145e-01</td><td>g</td><td>NA</td></tr>\n",
       "\t<tr><td>7.830188e-01</td><td>h</td><td>NA</td></tr>\n",
       "\t<tr><td>6.401342e-01</td><td>i</td><td>NA</td></tr>\n",
       "\t<tr><td>9.059580e-01</td><td>j</td><td>NA</td></tr>\n",
       "</tbody>\n",
       "</table>\n"
      ],
      "text/latex": [
       "A data.frame: 10 × 3\n",
       "\\begin{tabular}{lll}\n",
       " numbers & letters & newcol\\\\\n",
       " <dbl> & <fct> & <lgl>\\\\\n",
       "\\hline\n",
       "\t 3.905984e-01 & a & NA\\\\\n",
       "\t 9.999900e+04 & b & NA\\\\\n",
       "\t 2.793079e-02 & c & NA\\\\\n",
       "\t 8.203804e-01 & d & NA\\\\\n",
       "\t 9.990957e-01 & e & NA\\\\\n",
       "\t 5.841225e-01 & f & NA\\\\\n",
       "\t 2.651145e-01 & g & NA\\\\\n",
       "\t 7.830188e-01 & h & NA\\\\\n",
       "\t 6.401342e-01 & i & NA\\\\\n",
       "\t 9.059580e-01 & j & NA\\\\\n",
       "\\end{tabular}\n"
      ],
      "text/markdown": [
       "\n",
       "A data.frame: 10 × 3\n",
       "\n",
       "| numbers &lt;dbl&gt; | letters &lt;fct&gt; | newcol &lt;lgl&gt; |\n",
       "|---|---|---|\n",
       "| 3.905984e-01 | a | NA |\n",
       "| 9.999900e+04 | b | NA |\n",
       "| 2.793079e-02 | c | NA |\n",
       "| 8.203804e-01 | d | NA |\n",
       "| 9.990957e-01 | e | NA |\n",
       "| 5.841225e-01 | f | NA |\n",
       "| 2.651145e-01 | g | NA |\n",
       "| 7.830188e-01 | h | NA |\n",
       "| 6.401342e-01 | i | NA |\n",
       "| 9.059580e-01 | j | NA |\n",
       "\n"
      ],
      "text/plain": [
       "   numbers      letters newcol\n",
       "1  3.905984e-01 a       NA    \n",
       "2  9.999900e+04 b       NA    \n",
       "3  2.793079e-02 c       NA    \n",
       "4  8.203804e-01 d       NA    \n",
       "5  9.990957e-01 e       NA    \n",
       "6  5.841225e-01 f       NA    \n",
       "7  2.651145e-01 g       NA    \n",
       "8  7.830188e-01 h       NA    \n",
       "9  6.401342e-01 i       NA    \n",
       "10 9.059580e-01 j       NA    "
      ]
     },
     "metadata": {},
     "output_type": "display_data"
    }
   ],
   "source": [
    "df$newcol <- rep(NA, nrow(df)) # NA column\n",
    "df"
   ]
  },
  {
   "cell_type": "code",
   "execution_count": 14,
   "metadata": {},
   "outputs": [
    {
     "data": {
      "text/html": [
       "<table>\n",
       "<caption>A data.frame: 10 × 4</caption>\n",
       "<thead>\n",
       "\t<tr><th scope=col>numbers</th><th scope=col>letters</th><th scope=col>newcol</th><th scope=col>copy.of.letters</th></tr>\n",
       "\t<tr><th scope=col>&lt;dbl&gt;</th><th scope=col>&lt;fct&gt;</th><th scope=col>&lt;lgl&gt;</th><th scope=col>&lt;fct&gt;</th></tr>\n",
       "</thead>\n",
       "<tbody>\n",
       "\t<tr><td>3.905984e-01</td><td>a</td><td>NA</td><td>a</td></tr>\n",
       "\t<tr><td>9.999900e+04</td><td>b</td><td>NA</td><td>b</td></tr>\n",
       "\t<tr><td>2.793079e-02</td><td>c</td><td>NA</td><td>c</td></tr>\n",
       "\t<tr><td>8.203804e-01</td><td>d</td><td>NA</td><td>d</td></tr>\n",
       "\t<tr><td>9.990957e-01</td><td>e</td><td>NA</td><td>e</td></tr>\n",
       "\t<tr><td>5.841225e-01</td><td>f</td><td>NA</td><td>f</td></tr>\n",
       "\t<tr><td>2.651145e-01</td><td>g</td><td>NA</td><td>g</td></tr>\n",
       "\t<tr><td>7.830188e-01</td><td>h</td><td>NA</td><td>h</td></tr>\n",
       "\t<tr><td>6.401342e-01</td><td>i</td><td>NA</td><td>i</td></tr>\n",
       "\t<tr><td>9.059580e-01</td><td>j</td><td>NA</td><td>j</td></tr>\n",
       "</tbody>\n",
       "</table>\n"
      ],
      "text/latex": [
       "A data.frame: 10 × 4\n",
       "\\begin{tabular}{llll}\n",
       " numbers & letters & newcol & copy.of.letters\\\\\n",
       " <dbl> & <fct> & <lgl> & <fct>\\\\\n",
       "\\hline\n",
       "\t 3.905984e-01 & a & NA & a\\\\\n",
       "\t 9.999900e+04 & b & NA & b\\\\\n",
       "\t 2.793079e-02 & c & NA & c\\\\\n",
       "\t 8.203804e-01 & d & NA & d\\\\\n",
       "\t 9.990957e-01 & e & NA & e\\\\\n",
       "\t 5.841225e-01 & f & NA & f\\\\\n",
       "\t 2.651145e-01 & g & NA & g\\\\\n",
       "\t 7.830188e-01 & h & NA & h\\\\\n",
       "\t 6.401342e-01 & i & NA & i\\\\\n",
       "\t 9.059580e-01 & j & NA & j\\\\\n",
       "\\end{tabular}\n"
      ],
      "text/markdown": [
       "\n",
       "A data.frame: 10 × 4\n",
       "\n",
       "| numbers &lt;dbl&gt; | letters &lt;fct&gt; | newcol &lt;lgl&gt; | copy.of.letters &lt;fct&gt; |\n",
       "|---|---|---|---|\n",
       "| 3.905984e-01 | a | NA | a |\n",
       "| 9.999900e+04 | b | NA | b |\n",
       "| 2.793079e-02 | c | NA | c |\n",
       "| 8.203804e-01 | d | NA | d |\n",
       "| 9.990957e-01 | e | NA | e |\n",
       "| 5.841225e-01 | f | NA | f |\n",
       "| 2.651145e-01 | g | NA | g |\n",
       "| 7.830188e-01 | h | NA | h |\n",
       "| 6.401342e-01 | i | NA | i |\n",
       "| 9.059580e-01 | j | NA | j |\n",
       "\n"
      ],
      "text/plain": [
       "   numbers      letters newcol copy.of.letters\n",
       "1  3.905984e-01 a       NA     a              \n",
       "2  9.999900e+04 b       NA     b              \n",
       "3  2.793079e-02 c       NA     c              \n",
       "4  8.203804e-01 d       NA     d              \n",
       "5  9.990957e-01 e       NA     e              \n",
       "6  5.841225e-01 f       NA     f              \n",
       "7  2.651145e-01 g       NA     g              \n",
       "8  7.830188e-01 h       NA     h              \n",
       "9  6.401342e-01 i       NA     i              \n",
       "10 9.059580e-01 j       NA     j              "
      ]
     },
     "metadata": {},
     "output_type": "display_data"
    }
   ],
   "source": [
    "df[, 'copy.of.letters'] <- df$letters # copy a col\n",
    "df"
   ]
  },
  {
   "cell_type": "markdown",
   "metadata": {},
   "source": [
    "We can also use equations"
   ]
  },
  {
   "cell_type": "code",
   "execution_count": 15,
   "metadata": {},
   "outputs": [
    {
     "data": {
      "text/html": [
       "<table>\n",
       "<caption>A data.frame: 10 × 5</caption>\n",
       "<thead>\n",
       "\t<tr><th scope=col>numbers</th><th scope=col>letters</th><th scope=col>newcol</th><th scope=col>copy.of.letters</th><th scope=col>numbers x numbers</th></tr>\n",
       "\t<tr><th scope=col>&lt;dbl&gt;</th><th scope=col>&lt;fct&gt;</th><th scope=col>&lt;lgl&gt;</th><th scope=col>&lt;fct&gt;</th><th scope=col>&lt;dbl&gt;</th></tr>\n",
       "</thead>\n",
       "<tbody>\n",
       "\t<tr><td>3.905984e-01</td><td>a</td><td>NA</td><td>a</td><td>1.525671e-01</td></tr>\n",
       "\t<tr><td>9.999900e+04</td><td>b</td><td>NA</td><td>b</td><td>9.999800e+09</td></tr>\n",
       "\t<tr><td>2.793079e-02</td><td>c</td><td>NA</td><td>c</td><td>7.801291e-04</td></tr>\n",
       "\t<tr><td>8.203804e-01</td><td>d</td><td>NA</td><td>d</td><td>6.730240e-01</td></tr>\n",
       "\t<tr><td>9.990957e-01</td><td>e</td><td>NA</td><td>e</td><td>9.981922e-01</td></tr>\n",
       "\t<tr><td>5.841225e-01</td><td>f</td><td>NA</td><td>f</td><td>3.411991e-01</td></tr>\n",
       "\t<tr><td>2.651145e-01</td><td>g</td><td>NA</td><td>g</td><td>7.028567e-02</td></tr>\n",
       "\t<tr><td>7.830188e-01</td><td>h</td><td>NA</td><td>h</td><td>6.131184e-01</td></tr>\n",
       "\t<tr><td>6.401342e-01</td><td>i</td><td>NA</td><td>i</td><td>4.097717e-01</td></tr>\n",
       "\t<tr><td>9.059580e-01</td><td>j</td><td>NA</td><td>j</td><td>8.207599e-01</td></tr>\n",
       "</tbody>\n",
       "</table>\n"
      ],
      "text/latex": [
       "A data.frame: 10 × 5\n",
       "\\begin{tabular}{lllll}\n",
       " numbers & letters & newcol & copy.of.letters & numbers x numbers\\\\\n",
       " <dbl> & <fct> & <lgl> & <fct> & <dbl>\\\\\n",
       "\\hline\n",
       "\t 3.905984e-01 & a & NA & a & 1.525671e-01\\\\\n",
       "\t 9.999900e+04 & b & NA & b & 9.999800e+09\\\\\n",
       "\t 2.793079e-02 & c & NA & c & 7.801291e-04\\\\\n",
       "\t 8.203804e-01 & d & NA & d & 6.730240e-01\\\\\n",
       "\t 9.990957e-01 & e & NA & e & 9.981922e-01\\\\\n",
       "\t 5.841225e-01 & f & NA & f & 3.411991e-01\\\\\n",
       "\t 2.651145e-01 & g & NA & g & 7.028567e-02\\\\\n",
       "\t 7.830188e-01 & h & NA & h & 6.131184e-01\\\\\n",
       "\t 6.401342e-01 & i & NA & i & 4.097717e-01\\\\\n",
       "\t 9.059580e-01 & j & NA & j & 8.207599e-01\\\\\n",
       "\\end{tabular}\n"
      ],
      "text/markdown": [
       "\n",
       "A data.frame: 10 × 5\n",
       "\n",
       "| numbers &lt;dbl&gt; | letters &lt;fct&gt; | newcol &lt;lgl&gt; | copy.of.letters &lt;fct&gt; | numbers x numbers &lt;dbl&gt; |\n",
       "|---|---|---|---|---|\n",
       "| 3.905984e-01 | a | NA | a | 1.525671e-01 |\n",
       "| 9.999900e+04 | b | NA | b | 9.999800e+09 |\n",
       "| 2.793079e-02 | c | NA | c | 7.801291e-04 |\n",
       "| 8.203804e-01 | d | NA | d | 6.730240e-01 |\n",
       "| 9.990957e-01 | e | NA | e | 9.981922e-01 |\n",
       "| 5.841225e-01 | f | NA | f | 3.411991e-01 |\n",
       "| 2.651145e-01 | g | NA | g | 7.028567e-02 |\n",
       "| 7.830188e-01 | h | NA | h | 6.131184e-01 |\n",
       "| 6.401342e-01 | i | NA | i | 4.097717e-01 |\n",
       "| 9.059580e-01 | j | NA | j | 8.207599e-01 |\n",
       "\n"
      ],
      "text/plain": [
       "   numbers      letters newcol copy.of.letters numbers x numbers\n",
       "1  3.905984e-01 a       NA     a               1.525671e-01     \n",
       "2  9.999900e+04 b       NA     b               9.999800e+09     \n",
       "3  2.793079e-02 c       NA     c               7.801291e-04     \n",
       "4  8.203804e-01 d       NA     d               6.730240e-01     \n",
       "5  9.990957e-01 e       NA     e               9.981922e-01     \n",
       "6  5.841225e-01 f       NA     f               3.411991e-01     \n",
       "7  2.651145e-01 g       NA     g               7.028567e-02     \n",
       "8  7.830188e-01 h       NA     h               6.131184e-01     \n",
       "9  6.401342e-01 i       NA     i               4.097717e-01     \n",
       "10 9.059580e-01 j       NA     j               8.207599e-01     "
      ]
     },
     "metadata": {},
     "output_type": "display_data"
    }
   ],
   "source": [
    "df[['numbers x numbers']] <- df$numbers * df$numbers\n",
    "df"
   ]
  },
  {
   "cell_type": "markdown",
   "metadata": {},
   "source": [
    "#We can also use cbind() which makes things easier"
   ]
  },
  {
   "cell_type": "code",
   "execution_count": 16,
   "metadata": {},
   "outputs": [
    {
     "data": {
      "text/html": [
       "<table>\n",
       "<caption>A data.frame: 10 × 6</caption>\n",
       "<thead>\n",
       "\t<tr><th scope=col>numbers</th><th scope=col>letters</th><th scope=col>newcol</th><th scope=col>copy.of.letters</th><th scope=col>numbers x numbers</th><th scope=col>df$letters</th></tr>\n",
       "\t<tr><th scope=col>&lt;dbl&gt;</th><th scope=col>&lt;fct&gt;</th><th scope=col>&lt;lgl&gt;</th><th scope=col>&lt;fct&gt;</th><th scope=col>&lt;dbl&gt;</th><th scope=col>&lt;fct&gt;</th></tr>\n",
       "</thead>\n",
       "<tbody>\n",
       "\t<tr><td>3.905984e-01</td><td>a</td><td>NA</td><td>a</td><td>1.525671e-01</td><td>a</td></tr>\n",
       "\t<tr><td>9.999900e+04</td><td>b</td><td>NA</td><td>b</td><td>9.999800e+09</td><td>b</td></tr>\n",
       "\t<tr><td>2.793079e-02</td><td>c</td><td>NA</td><td>c</td><td>7.801291e-04</td><td>c</td></tr>\n",
       "\t<tr><td>8.203804e-01</td><td>d</td><td>NA</td><td>d</td><td>6.730240e-01</td><td>d</td></tr>\n",
       "\t<tr><td>9.990957e-01</td><td>e</td><td>NA</td><td>e</td><td>9.981922e-01</td><td>e</td></tr>\n",
       "\t<tr><td>5.841225e-01</td><td>f</td><td>NA</td><td>f</td><td>3.411991e-01</td><td>f</td></tr>\n",
       "\t<tr><td>2.651145e-01</td><td>g</td><td>NA</td><td>g</td><td>7.028567e-02</td><td>g</td></tr>\n",
       "\t<tr><td>7.830188e-01</td><td>h</td><td>NA</td><td>h</td><td>6.131184e-01</td><td>h</td></tr>\n",
       "\t<tr><td>6.401342e-01</td><td>i</td><td>NA</td><td>i</td><td>4.097717e-01</td><td>i</td></tr>\n",
       "\t<tr><td>9.059580e-01</td><td>j</td><td>NA</td><td>j</td><td>8.207599e-01</td><td>j</td></tr>\n",
       "</tbody>\n",
       "</table>\n"
      ],
      "text/latex": [
       "A data.frame: 10 × 6\n",
       "\\begin{tabular}{llllll}\n",
       " numbers & letters & newcol & copy.of.letters & numbers x numbers & df\\$letters\\\\\n",
       " <dbl> & <fct> & <lgl> & <fct> & <dbl> & <fct>\\\\\n",
       "\\hline\n",
       "\t 3.905984e-01 & a & NA & a & 1.525671e-01 & a\\\\\n",
       "\t 9.999900e+04 & b & NA & b & 9.999800e+09 & b\\\\\n",
       "\t 2.793079e-02 & c & NA & c & 7.801291e-04 & c\\\\\n",
       "\t 8.203804e-01 & d & NA & d & 6.730240e-01 & d\\\\\n",
       "\t 9.990957e-01 & e & NA & e & 9.981922e-01 & e\\\\\n",
       "\t 5.841225e-01 & f & NA & f & 3.411991e-01 & f\\\\\n",
       "\t 2.651145e-01 & g & NA & g & 7.028567e-02 & g\\\\\n",
       "\t 7.830188e-01 & h & NA & h & 6.131184e-01 & h\\\\\n",
       "\t 6.401342e-01 & i & NA & i & 4.097717e-01 & i\\\\\n",
       "\t 9.059580e-01 & j & NA & j & 8.207599e-01 & j\\\\\n",
       "\\end{tabular}\n"
      ],
      "text/markdown": [
       "\n",
       "A data.frame: 10 × 6\n",
       "\n",
       "| numbers &lt;dbl&gt; | letters &lt;fct&gt; | newcol &lt;lgl&gt; | copy.of.letters &lt;fct&gt; | numbers x numbers &lt;dbl&gt; | df$letters &lt;fct&gt; |\n",
       "|---|---|---|---|---|---|\n",
       "| 3.905984e-01 | a | NA | a | 1.525671e-01 | a |\n",
       "| 9.999900e+04 | b | NA | b | 9.999800e+09 | b |\n",
       "| 2.793079e-02 | c | NA | c | 7.801291e-04 | c |\n",
       "| 8.203804e-01 | d | NA | d | 6.730240e-01 | d |\n",
       "| 9.990957e-01 | e | NA | e | 9.981922e-01 | e |\n",
       "| 5.841225e-01 | f | NA | f | 3.411991e-01 | f |\n",
       "| 2.651145e-01 | g | NA | g | 7.028567e-02 | g |\n",
       "| 7.830188e-01 | h | NA | h | 6.131184e-01 | h |\n",
       "| 6.401342e-01 | i | NA | i | 4.097717e-01 | i |\n",
       "| 9.059580e-01 | j | NA | j | 8.207599e-01 | j |\n",
       "\n"
      ],
      "text/plain": [
       "   numbers      letters newcol copy.of.letters numbers x numbers df$letters\n",
       "1  3.905984e-01 a       NA     a               1.525671e-01      a         \n",
       "2  9.999900e+04 b       NA     b               9.999800e+09      b         \n",
       "3  2.793079e-02 c       NA     c               7.801291e-04      c         \n",
       "4  8.203804e-01 d       NA     d               6.730240e-01      d         \n",
       "5  9.990957e-01 e       NA     e               9.981922e-01      e         \n",
       "6  5.841225e-01 f       NA     f               3.411991e-01      f         \n",
       "7  2.651145e-01 g       NA     g               7.028567e-02      g         \n",
       "8  7.830188e-01 h       NA     h               6.131184e-01      h         \n",
       "9  6.401342e-01 i       NA     i               4.097717e-01      i         \n",
       "10 9.059580e-01 j       NA     j               8.207599e-01      j         "
      ]
     },
     "metadata": {},
     "output_type": "display_data"
    }
   ],
   "source": [
    "df <- cbind(df, df$letters)\n",
    "df"
   ]
  },
  {
   "cell_type": "markdown",
   "metadata": {},
   "source": [
    "## Setting Column Names"
   ]
  },
  {
   "cell_type": "code",
   "execution_count": 17,
   "metadata": {},
   "outputs": [
    {
     "data": {
      "text/html": [
       "<table>\n",
       "<caption>A data.frame: 10 × 6</caption>\n",
       "<thead>\n",
       "\t<tr><th scope=col>numbers</th><th scope=col>SECOND COLUMN NEW NAME</th><th scope=col>newcol</th><th scope=col>copy.of.letters</th><th scope=col>numbers x numbers</th><th scope=col>df$letters</th></tr>\n",
       "\t<tr><th scope=col>&lt;dbl&gt;</th><th scope=col>&lt;fct&gt;</th><th scope=col>&lt;lgl&gt;</th><th scope=col>&lt;fct&gt;</th><th scope=col>&lt;dbl&gt;</th><th scope=col>&lt;fct&gt;</th></tr>\n",
       "</thead>\n",
       "<tbody>\n",
       "\t<tr><td>3.905984e-01</td><td>a</td><td>NA</td><td>a</td><td>1.525671e-01</td><td>a</td></tr>\n",
       "\t<tr><td>9.999900e+04</td><td>b</td><td>NA</td><td>b</td><td>9.999800e+09</td><td>b</td></tr>\n",
       "\t<tr><td>2.793079e-02</td><td>c</td><td>NA</td><td>c</td><td>7.801291e-04</td><td>c</td></tr>\n",
       "\t<tr><td>8.203804e-01</td><td>d</td><td>NA</td><td>d</td><td>6.730240e-01</td><td>d</td></tr>\n",
       "\t<tr><td>9.990957e-01</td><td>e</td><td>NA</td><td>e</td><td>9.981922e-01</td><td>e</td></tr>\n",
       "\t<tr><td>5.841225e-01</td><td>f</td><td>NA</td><td>f</td><td>3.411991e-01</td><td>f</td></tr>\n",
       "\t<tr><td>2.651145e-01</td><td>g</td><td>NA</td><td>g</td><td>7.028567e-02</td><td>g</td></tr>\n",
       "\t<tr><td>7.830188e-01</td><td>h</td><td>NA</td><td>h</td><td>6.131184e-01</td><td>h</td></tr>\n",
       "\t<tr><td>6.401342e-01</td><td>i</td><td>NA</td><td>i</td><td>4.097717e-01</td><td>i</td></tr>\n",
       "\t<tr><td>9.059580e-01</td><td>j</td><td>NA</td><td>j</td><td>8.207599e-01</td><td>j</td></tr>\n",
       "</tbody>\n",
       "</table>\n"
      ],
      "text/latex": [
       "A data.frame: 10 × 6\n",
       "\\begin{tabular}{llllll}\n",
       " numbers & SECOND COLUMN NEW NAME & newcol & copy.of.letters & numbers x numbers & df\\$letters\\\\\n",
       " <dbl> & <fct> & <lgl> & <fct> & <dbl> & <fct>\\\\\n",
       "\\hline\n",
       "\t 3.905984e-01 & a & NA & a & 1.525671e-01 & a\\\\\n",
       "\t 9.999900e+04 & b & NA & b & 9.999800e+09 & b\\\\\n",
       "\t 2.793079e-02 & c & NA & c & 7.801291e-04 & c\\\\\n",
       "\t 8.203804e-01 & d & NA & d & 6.730240e-01 & d\\\\\n",
       "\t 9.990957e-01 & e & NA & e & 9.981922e-01 & e\\\\\n",
       "\t 5.841225e-01 & f & NA & f & 3.411991e-01 & f\\\\\n",
       "\t 2.651145e-01 & g & NA & g & 7.028567e-02 & g\\\\\n",
       "\t 7.830188e-01 & h & NA & h & 6.131184e-01 & h\\\\\n",
       "\t 6.401342e-01 & i & NA & i & 4.097717e-01 & i\\\\\n",
       "\t 9.059580e-01 & j & NA & j & 8.207599e-01 & j\\\\\n",
       "\\end{tabular}\n"
      ],
      "text/markdown": [
       "\n",
       "A data.frame: 10 × 6\n",
       "\n",
       "| numbers &lt;dbl&gt; | SECOND COLUMN NEW NAME &lt;fct&gt; | newcol &lt;lgl&gt; | copy.of.letters &lt;fct&gt; | numbers x numbers &lt;dbl&gt; | df$letters &lt;fct&gt; |\n",
       "|---|---|---|---|---|---|\n",
       "| 3.905984e-01 | a | NA | a | 1.525671e-01 | a |\n",
       "| 9.999900e+04 | b | NA | b | 9.999800e+09 | b |\n",
       "| 2.793079e-02 | c | NA | c | 7.801291e-04 | c |\n",
       "| 8.203804e-01 | d | NA | d | 6.730240e-01 | d |\n",
       "| 9.990957e-01 | e | NA | e | 9.981922e-01 | e |\n",
       "| 5.841225e-01 | f | NA | f | 3.411991e-01 | f |\n",
       "| 2.651145e-01 | g | NA | g | 7.028567e-02 | g |\n",
       "| 7.830188e-01 | h | NA | h | 6.131184e-01 | h |\n",
       "| 6.401342e-01 | i | NA | i | 4.097717e-01 | i |\n",
       "| 9.059580e-01 | j | NA | j | 8.207599e-01 | j |\n",
       "\n"
      ],
      "text/plain": [
       "   numbers      SECOND COLUMN NEW NAME newcol copy.of.letters numbers x numbers\n",
       "1  3.905984e-01 a                      NA     a               1.525671e-01     \n",
       "2  9.999900e+04 b                      NA     b               9.999800e+09     \n",
       "3  2.793079e-02 c                      NA     c               7.801291e-04     \n",
       "4  8.203804e-01 d                      NA     d               6.730240e-01     \n",
       "5  9.990957e-01 e                      NA     e               9.981922e-01     \n",
       "6  5.841225e-01 f                      NA     f               3.411991e-01     \n",
       "7  2.651145e-01 g                      NA     g               7.028567e-02     \n",
       "8  7.830188e-01 h                      NA     h               6.131184e-01     \n",
       "9  6.401342e-01 i                      NA     i               4.097717e-01     \n",
       "10 9.059580e-01 j                      NA     j               8.207599e-01     \n",
       "   df$letters\n",
       "1  a         \n",
       "2  b         \n",
       "3  c         \n",
       "4  d         \n",
       "5  e         \n",
       "6  f         \n",
       "7  g         \n",
       "8  h         \n",
       "9  i         \n",
       "10 j         "
      ]
     },
     "metadata": {},
     "output_type": "display_data"
    },
    {
     "data": {
      "text/html": [
       "<table>\n",
       "<caption>A data.frame: 10 × 6</caption>\n",
       "<thead>\n",
       "\t<tr><th scope=col>col.name.1</th><th scope=col>col.name.2</th><th scope=col>newcol</th><th scope=col>copy.of.col2</th><th scope=col>col1.times.2</th><th scope=col>NA</th></tr>\n",
       "\t<tr><th scope=col>&lt;dbl&gt;</th><th scope=col>&lt;fct&gt;</th><th scope=col>&lt;lgl&gt;</th><th scope=col>&lt;fct&gt;</th><th scope=col>&lt;dbl&gt;</th><th scope=col>&lt;fct&gt;</th></tr>\n",
       "</thead>\n",
       "<tbody>\n",
       "\t<tr><td>3.905984e-01</td><td>a</td><td>NA</td><td>a</td><td>1.525671e-01</td><td>a</td></tr>\n",
       "\t<tr><td>9.999900e+04</td><td>b</td><td>NA</td><td>b</td><td>9.999800e+09</td><td>b</td></tr>\n",
       "\t<tr><td>2.793079e-02</td><td>c</td><td>NA</td><td>c</td><td>7.801291e-04</td><td>c</td></tr>\n",
       "\t<tr><td>8.203804e-01</td><td>d</td><td>NA</td><td>d</td><td>6.730240e-01</td><td>d</td></tr>\n",
       "\t<tr><td>9.990957e-01</td><td>e</td><td>NA</td><td>e</td><td>9.981922e-01</td><td>e</td></tr>\n",
       "\t<tr><td>5.841225e-01</td><td>f</td><td>NA</td><td>f</td><td>3.411991e-01</td><td>f</td></tr>\n",
       "\t<tr><td>2.651145e-01</td><td>g</td><td>NA</td><td>g</td><td>7.028567e-02</td><td>g</td></tr>\n",
       "\t<tr><td>7.830188e-01</td><td>h</td><td>NA</td><td>h</td><td>6.131184e-01</td><td>h</td></tr>\n",
       "\t<tr><td>6.401342e-01</td><td>i</td><td>NA</td><td>i</td><td>4.097717e-01</td><td>i</td></tr>\n",
       "\t<tr><td>9.059580e-01</td><td>j</td><td>NA</td><td>j</td><td>8.207599e-01</td><td>j</td></tr>\n",
       "</tbody>\n",
       "</table>\n"
      ],
      "text/latex": [
       "A data.frame: 10 × 6\n",
       "\\begin{tabular}{llllll}\n",
       " col.name.1 & col.name.2 & newcol & copy.of.col2 & col1.times.2 & NA\\\\\n",
       " <dbl> & <fct> & <lgl> & <fct> & <dbl> & <fct>\\\\\n",
       "\\hline\n",
       "\t 3.905984e-01 & a & NA & a & 1.525671e-01 & a\\\\\n",
       "\t 9.999900e+04 & b & NA & b & 9.999800e+09 & b\\\\\n",
       "\t 2.793079e-02 & c & NA & c & 7.801291e-04 & c\\\\\n",
       "\t 8.203804e-01 & d & NA & d & 6.730240e-01 & d\\\\\n",
       "\t 9.990957e-01 & e & NA & e & 9.981922e-01 & e\\\\\n",
       "\t 5.841225e-01 & f & NA & f & 3.411991e-01 & f\\\\\n",
       "\t 2.651145e-01 & g & NA & g & 7.028567e-02 & g\\\\\n",
       "\t 7.830188e-01 & h & NA & h & 6.131184e-01 & h\\\\\n",
       "\t 6.401342e-01 & i & NA & i & 4.097717e-01 & i\\\\\n",
       "\t 9.059580e-01 & j & NA & j & 8.207599e-01 & j\\\\\n",
       "\\end{tabular}\n"
      ],
      "text/markdown": [
       "\n",
       "A data.frame: 10 × 6\n",
       "\n",
       "| col.name.1 &lt;dbl&gt; | col.name.2 &lt;fct&gt; | newcol &lt;lgl&gt; | copy.of.col2 &lt;fct&gt; | col1.times.2 &lt;dbl&gt; | NA &lt;fct&gt; |\n",
       "|---|---|---|---|---|---|\n",
       "| 3.905984e-01 | a | NA | a | 1.525671e-01 | a |\n",
       "| 9.999900e+04 | b | NA | b | 9.999800e+09 | b |\n",
       "| 2.793079e-02 | c | NA | c | 7.801291e-04 | c |\n",
       "| 8.203804e-01 | d | NA | d | 6.730240e-01 | d |\n",
       "| 9.990957e-01 | e | NA | e | 9.981922e-01 | e |\n",
       "| 5.841225e-01 | f | NA | f | 3.411991e-01 | f |\n",
       "| 2.651145e-01 | g | NA | g | 7.028567e-02 | g |\n",
       "| 7.830188e-01 | h | NA | h | 6.131184e-01 | h |\n",
       "| 6.401342e-01 | i | NA | i | 4.097717e-01 | i |\n",
       "| 9.059580e-01 | j | NA | j | 8.207599e-01 | j |\n",
       "\n"
      ],
      "text/plain": [
       "   col.name.1   col.name.2 newcol copy.of.col2 col1.times.2 <NA>\n",
       "1  3.905984e-01 a          NA     a            1.525671e-01 a   \n",
       "2  9.999900e+04 b          NA     b            9.999800e+09 b   \n",
       "3  2.793079e-02 c          NA     c            7.801291e-04 c   \n",
       "4  8.203804e-01 d          NA     d            6.730240e-01 d   \n",
       "5  9.990957e-01 e          NA     e            9.981922e-01 e   \n",
       "6  5.841225e-01 f          NA     f            3.411991e-01 f   \n",
       "7  2.651145e-01 g          NA     g            7.028567e-02 g   \n",
       "8  7.830188e-01 h          NA     h            6.131184e-01 h   \n",
       "9  6.401342e-01 i          NA     i            4.097717e-01 i   \n",
       "10 9.059580e-01 j          NA     j            8.207599e-01 j   "
      ]
     },
     "metadata": {},
     "output_type": "display_data"
    }
   ],
   "source": [
    "# Rename second column\n",
    "colnames(df)[2] <- 'SECOND COLUMN NEW NAME'\n",
    "df\n",
    "\n",
    "# Rename all at once with a vector\n",
    "colnames(df) <- c('col.name.1', 'col.name.2', 'newcol', 'copy.of.col2' ,'col1.times.2')\n",
    "df"
   ]
  },
  {
   "cell_type": "markdown",
   "metadata": {},
   "source": [
    "## Selecting Multiple Rows"
   ]
  },
  {
   "cell_type": "code",
   "execution_count": 18,
   "metadata": {},
   "outputs": [
    {
     "data": {
      "text/html": [
       "<table>\n",
       "<caption>A data.frame: 10 × 6</caption>\n",
       "<thead>\n",
       "\t<tr><th></th><th scope=col>col.name.1</th><th scope=col>col.name.2</th><th scope=col>newcol</th><th scope=col>copy.of.col2</th><th scope=col>col1.times.2</th><th scope=col>NA</th></tr>\n",
       "\t<tr><th></th><th scope=col>&lt;dbl&gt;</th><th scope=col>&lt;fct&gt;</th><th scope=col>&lt;lgl&gt;</th><th scope=col>&lt;fct&gt;</th><th scope=col>&lt;dbl&gt;</th><th scope=col>&lt;fct&gt;</th></tr>\n",
       "</thead>\n",
       "<tbody>\n",
       "\t<tr><th scope=row>1</th><td>3.905984e-01</td><td>a</td><td>NA</td><td>a</td><td>1.525671e-01</td><td>a</td></tr>\n",
       "\t<tr><th scope=row>2</th><td>9.999900e+04</td><td>b</td><td>NA</td><td>b</td><td>9.999800e+09</td><td>b</td></tr>\n",
       "\t<tr><th scope=row>3</th><td>2.793079e-02</td><td>c</td><td>NA</td><td>c</td><td>7.801291e-04</td><td>c</td></tr>\n",
       "\t<tr><th scope=row>4</th><td>8.203804e-01</td><td>d</td><td>NA</td><td>d</td><td>6.730240e-01</td><td>d</td></tr>\n",
       "\t<tr><th scope=row>5</th><td>9.990957e-01</td><td>e</td><td>NA</td><td>e</td><td>9.981922e-01</td><td>e</td></tr>\n",
       "\t<tr><th scope=row>6</th><td>5.841225e-01</td><td>f</td><td>NA</td><td>f</td><td>3.411991e-01</td><td>f</td></tr>\n",
       "\t<tr><th scope=row>7</th><td>2.651145e-01</td><td>g</td><td>NA</td><td>g</td><td>7.028567e-02</td><td>g</td></tr>\n",
       "\t<tr><th scope=row>8</th><td>7.830188e-01</td><td>h</td><td>NA</td><td>h</td><td>6.131184e-01</td><td>h</td></tr>\n",
       "\t<tr><th scope=row>9</th><td>6.401342e-01</td><td>i</td><td>NA</td><td>i</td><td>4.097717e-01</td><td>i</td></tr>\n",
       "\t<tr><th scope=row>10</th><td>9.059580e-01</td><td>j</td><td>NA</td><td>j</td><td>8.207599e-01</td><td>j</td></tr>\n",
       "</tbody>\n",
       "</table>\n"
      ],
      "text/latex": [
       "A data.frame: 10 × 6\n",
       "\\begin{tabular}{r|llllll}\n",
       "  & col.name.1 & col.name.2 & newcol & copy.of.col2 & col1.times.2 & NA\\\\\n",
       "  & <dbl> & <fct> & <lgl> & <fct> & <dbl> & <fct>\\\\\n",
       "\\hline\n",
       "\t1 & 3.905984e-01 & a & NA & a & 1.525671e-01 & a\\\\\n",
       "\t2 & 9.999900e+04 & b & NA & b & 9.999800e+09 & b\\\\\n",
       "\t3 & 2.793079e-02 & c & NA & c & 7.801291e-04 & c\\\\\n",
       "\t4 & 8.203804e-01 & d & NA & d & 6.730240e-01 & d\\\\\n",
       "\t5 & 9.990957e-01 & e & NA & e & 9.981922e-01 & e\\\\\n",
       "\t6 & 5.841225e-01 & f & NA & f & 3.411991e-01 & f\\\\\n",
       "\t7 & 2.651145e-01 & g & NA & g & 7.028567e-02 & g\\\\\n",
       "\t8 & 7.830188e-01 & h & NA & h & 6.131184e-01 & h\\\\\n",
       "\t9 & 6.401342e-01 & i & NA & i & 4.097717e-01 & i\\\\\n",
       "\t10 & 9.059580e-01 & j & NA & j & 8.207599e-01 & j\\\\\n",
       "\\end{tabular}\n"
      ],
      "text/markdown": [
       "\n",
       "A data.frame: 10 × 6\n",
       "\n",
       "| <!--/--> | col.name.1 &lt;dbl&gt; | col.name.2 &lt;fct&gt; | newcol &lt;lgl&gt; | copy.of.col2 &lt;fct&gt; | col1.times.2 &lt;dbl&gt; | NA &lt;fct&gt; |\n",
       "|---|---|---|---|---|---|---|\n",
       "| 1 | 3.905984e-01 | a | NA | a | 1.525671e-01 | a |\n",
       "| 2 | 9.999900e+04 | b | NA | b | 9.999800e+09 | b |\n",
       "| 3 | 2.793079e-02 | c | NA | c | 7.801291e-04 | c |\n",
       "| 4 | 8.203804e-01 | d | NA | d | 6.730240e-01 | d |\n",
       "| 5 | 9.990957e-01 | e | NA | e | 9.981922e-01 | e |\n",
       "| 6 | 5.841225e-01 | f | NA | f | 3.411991e-01 | f |\n",
       "| 7 | 2.651145e-01 | g | NA | g | 7.028567e-02 | g |\n",
       "| 8 | 7.830188e-01 | h | NA | h | 6.131184e-01 | h |\n",
       "| 9 | 6.401342e-01 | i | NA | i | 4.097717e-01 | i |\n",
       "| 10 | 9.059580e-01 | j | NA | j | 8.207599e-01 | j |\n",
       "\n"
      ],
      "text/plain": [
       "   col.name.1   col.name.2 newcol copy.of.col2 col1.times.2 <NA>\n",
       "1  3.905984e-01 a          NA     a            1.525671e-01 a   \n",
       "2  9.999900e+04 b          NA     b            9.999800e+09 b   \n",
       "3  2.793079e-02 c          NA     c            7.801291e-04 c   \n",
       "4  8.203804e-01 d          NA     d            6.730240e-01 d   \n",
       "5  9.990957e-01 e          NA     e            9.981922e-01 e   \n",
       "6  5.841225e-01 f          NA     f            3.411991e-01 f   \n",
       "7  2.651145e-01 g          NA     g            7.028567e-02 g   \n",
       "8  7.830188e-01 h          NA     h            6.131184e-01 h   \n",
       "9  6.401342e-01 i          NA     i            4.097717e-01 i   \n",
       "10 9.059580e-01 j          NA     j            8.207599e-01 j   "
      ]
     },
     "metadata": {},
     "output_type": "display_data"
    }
   ],
   "source": [
    "first.ten.rows <- df[1:10, ] # Same as head(df, 10)\n",
    "first.ten.rows"
   ]
  },
  {
   "cell_type": "code",
   "execution_count": 19,
   "metadata": {},
   "outputs": [
    {
     "data": {
      "text/html": [
       "<table>\n",
       "<caption>A data.frame: 9 × 6</caption>\n",
       "<thead>\n",
       "\t<tr><th></th><th scope=col>col.name.1</th><th scope=col>col.name.2</th><th scope=col>newcol</th><th scope=col>copy.of.col2</th><th scope=col>col1.times.2</th><th scope=col>NA</th></tr>\n",
       "\t<tr><th></th><th scope=col>&lt;dbl&gt;</th><th scope=col>&lt;fct&gt;</th><th scope=col>&lt;lgl&gt;</th><th scope=col>&lt;fct&gt;</th><th scope=col>&lt;dbl&gt;</th><th scope=col>&lt;fct&gt;</th></tr>\n",
       "</thead>\n",
       "<tbody>\n",
       "\t<tr><th scope=row>1</th><td>0.39059836</td><td>a</td><td>NA</td><td>a</td><td>0.1525670777</td><td>a</td></tr>\n",
       "\t<tr><th scope=row>3</th><td>0.02793079</td><td>c</td><td>NA</td><td>c</td><td>0.0007801291</td><td>c</td></tr>\n",
       "\t<tr><th scope=row>4</th><td>0.82038038</td><td>d</td><td>NA</td><td>d</td><td>0.6730239700</td><td>d</td></tr>\n",
       "\t<tr><th scope=row>5</th><td>0.99909567</td><td>e</td><td>NA</td><td>e</td><td>0.9981921577</td><td>e</td></tr>\n",
       "\t<tr><th scope=row>6</th><td>0.58412249</td><td>f</td><td>NA</td><td>f</td><td>0.3411990799</td><td>f</td></tr>\n",
       "\t<tr><th scope=row>7</th><td>0.26511445</td><td>g</td><td>NA</td><td>g</td><td>0.0702856734</td><td>g</td></tr>\n",
       "\t<tr><th scope=row>8</th><td>0.78301879</td><td>h</td><td>NA</td><td>h</td><td>0.6131184210</td><td>h</td></tr>\n",
       "\t<tr><th scope=row>9</th><td>0.64013416</td><td>i</td><td>NA</td><td>i</td><td>0.4097717365</td><td>i</td></tr>\n",
       "\t<tr><th scope=row>10</th><td>0.90595798</td><td>j</td><td>NA</td><td>j</td><td>0.8207598701</td><td>j</td></tr>\n",
       "</tbody>\n",
       "</table>\n"
      ],
      "text/latex": [
       "A data.frame: 9 × 6\n",
       "\\begin{tabular}{r|llllll}\n",
       "  & col.name.1 & col.name.2 & newcol & copy.of.col2 & col1.times.2 & NA\\\\\n",
       "  & <dbl> & <fct> & <lgl> & <fct> & <dbl> & <fct>\\\\\n",
       "\\hline\n",
       "\t1 & 0.39059836 & a & NA & a & 0.1525670777 & a\\\\\n",
       "\t3 & 0.02793079 & c & NA & c & 0.0007801291 & c\\\\\n",
       "\t4 & 0.82038038 & d & NA & d & 0.6730239700 & d\\\\\n",
       "\t5 & 0.99909567 & e & NA & e & 0.9981921577 & e\\\\\n",
       "\t6 & 0.58412249 & f & NA & f & 0.3411990799 & f\\\\\n",
       "\t7 & 0.26511445 & g & NA & g & 0.0702856734 & g\\\\\n",
       "\t8 & 0.78301879 & h & NA & h & 0.6131184210 & h\\\\\n",
       "\t9 & 0.64013416 & i & NA & i & 0.4097717365 & i\\\\\n",
       "\t10 & 0.90595798 & j & NA & j & 0.8207598701 & j\\\\\n",
       "\\end{tabular}\n"
      ],
      "text/markdown": [
       "\n",
       "A data.frame: 9 × 6\n",
       "\n",
       "| <!--/--> | col.name.1 &lt;dbl&gt; | col.name.2 &lt;fct&gt; | newcol &lt;lgl&gt; | copy.of.col2 &lt;fct&gt; | col1.times.2 &lt;dbl&gt; | NA &lt;fct&gt; |\n",
       "|---|---|---|---|---|---|---|\n",
       "| 1 | 0.39059836 | a | NA | a | 0.1525670777 | a |\n",
       "| 3 | 0.02793079 | c | NA | c | 0.0007801291 | c |\n",
       "| 4 | 0.82038038 | d | NA | d | 0.6730239700 | d |\n",
       "| 5 | 0.99909567 | e | NA | e | 0.9981921577 | e |\n",
       "| 6 | 0.58412249 | f | NA | f | 0.3411990799 | f |\n",
       "| 7 | 0.26511445 | g | NA | g | 0.0702856734 | g |\n",
       "| 8 | 0.78301879 | h | NA | h | 0.6131184210 | h |\n",
       "| 9 | 0.64013416 | i | NA | i | 0.4097717365 | i |\n",
       "| 10 | 0.90595798 | j | NA | j | 0.8207598701 | j |\n",
       "\n"
      ],
      "text/plain": [
       "   col.name.1 col.name.2 newcol copy.of.col2 col1.times.2 <NA>\n",
       "1  0.39059836 a          NA     a            0.1525670777 a   \n",
       "3  0.02793079 c          NA     c            0.0007801291 c   \n",
       "4  0.82038038 d          NA     d            0.6730239700 d   \n",
       "5  0.99909567 e          NA     e            0.9981921577 e   \n",
       "6  0.58412249 f          NA     f            0.3411990799 f   \n",
       "7  0.26511445 g          NA     g            0.0702856734 g   \n",
       "8  0.78301879 h          NA     h            0.6131184210 h   \n",
       "9  0.64013416 i          NA     i            0.4097717365 i   \n",
       "10 0.90595798 j          NA     j            0.8207598701 j   "
      ]
     },
     "metadata": {},
     "output_type": "display_data"
    }
   ],
   "source": [
    "everything.but.row.two <- df[-2, ]\n",
    "everything.but.row.two"
   ]
  },
  {
   "cell_type": "code",
   "execution_count": 20,
   "metadata": {},
   "outputs": [
    {
     "data": {
      "text/html": [
       "<table>\n",
       "<caption>A data.frame: 1 × 6</caption>\n",
       "<thead>\n",
       "\t<tr><th></th><th scope=col>col.name.1</th><th scope=col>col.name.2</th><th scope=col>newcol</th><th scope=col>copy.of.col2</th><th scope=col>col1.times.2</th><th scope=col>NA</th></tr>\n",
       "\t<tr><th></th><th scope=col>&lt;dbl&gt;</th><th scope=col>&lt;fct&gt;</th><th scope=col>&lt;lgl&gt;</th><th scope=col>&lt;fct&gt;</th><th scope=col>&lt;dbl&gt;</th><th scope=col>&lt;fct&gt;</th></tr>\n",
       "</thead>\n",
       "<tbody>\n",
       "\t<tr><th scope=row>2</th><td>99999</td><td>b</td><td>NA</td><td>b</td><td>9999800001</td><td>b</td></tr>\n",
       "</tbody>\n",
       "</table>\n"
      ],
      "text/latex": [
       "A data.frame: 1 × 6\n",
       "\\begin{tabular}{r|llllll}\n",
       "  & col.name.1 & col.name.2 & newcol & copy.of.col2 & col1.times.2 & NA\\\\\n",
       "  & <dbl> & <fct> & <lgl> & <fct> & <dbl> & <fct>\\\\\n",
       "\\hline\n",
       "\t2 & 99999 & b & NA & b & 9999800001 & b\\\\\n",
       "\\end{tabular}\n"
      ],
      "text/markdown": [
       "\n",
       "A data.frame: 1 × 6\n",
       "\n",
       "| <!--/--> | col.name.1 &lt;dbl&gt; | col.name.2 &lt;fct&gt; | newcol &lt;lgl&gt; | copy.of.col2 &lt;fct&gt; | col1.times.2 &lt;dbl&gt; | NA &lt;fct&gt; |\n",
       "|---|---|---|---|---|---|---|\n",
       "| 2 | 99999 | b | NA | b | 9999800001 | b |\n",
       "\n"
      ],
      "text/plain": [
       "  col.name.1 col.name.2 newcol copy.of.col2 col1.times.2 <NA>\n",
       "2 99999      b          NA     b            9999800001   b   "
      ]
     },
     "metadata": {},
     "output_type": "display_data"
    },
    {
     "data": {
      "text/html": [
       "<table>\n",
       "<caption>A data.frame: 1 × 6</caption>\n",
       "<thead>\n",
       "\t<tr><th></th><th scope=col>col.name.1</th><th scope=col>col.name.2</th><th scope=col>newcol</th><th scope=col>copy.of.col2</th><th scope=col>col1.times.2</th><th scope=col>NA</th></tr>\n",
       "\t<tr><th></th><th scope=col>&lt;dbl&gt;</th><th scope=col>&lt;fct&gt;</th><th scope=col>&lt;lgl&gt;</th><th scope=col>&lt;fct&gt;</th><th scope=col>&lt;dbl&gt;</th><th scope=col>&lt;fct&gt;</th></tr>\n",
       "</thead>\n",
       "<tbody>\n",
       "\t<tr><th scope=row>2</th><td>99999</td><td>b</td><td>NA</td><td>b</td><td>9999800001</td><td>b</td></tr>\n",
       "</tbody>\n",
       "</table>\n"
      ],
      "text/latex": [
       "A data.frame: 1 × 6\n",
       "\\begin{tabular}{r|llllll}\n",
       "  & col.name.1 & col.name.2 & newcol & copy.of.col2 & col1.times.2 & NA\\\\\n",
       "  & <dbl> & <fct> & <lgl> & <fct> & <dbl> & <fct>\\\\\n",
       "\\hline\n",
       "\t2 & 99999 & b & NA & b & 9999800001 & b\\\\\n",
       "\\end{tabular}\n"
      ],
      "text/markdown": [
       "\n",
       "A data.frame: 1 × 6\n",
       "\n",
       "| <!--/--> | col.name.1 &lt;dbl&gt; | col.name.2 &lt;fct&gt; | newcol &lt;lgl&gt; | copy.of.col2 &lt;fct&gt; | col1.times.2 &lt;dbl&gt; | NA &lt;fct&gt; |\n",
       "|---|---|---|---|---|---|---|\n",
       "| 2 | 99999 | b | NA | b | 9999800001 | b |\n",
       "\n"
      ],
      "text/plain": [
       "  col.name.1 col.name.2 newcol copy.of.col2 col1.times.2 <NA>\n",
       "2 99999      b          NA     b            9999800001   b   "
      ]
     },
     "metadata": {},
     "output_type": "display_data"
    }
   ],
   "source": [
    "# Conditional Selection\n",
    "sub1 <- df[ (df$col.name.1 > 8 & df$col1.times.2 > 10), ]\n",
    "sub1\n",
    "\n",
    "sub2 <- subset(df, col.name.1 > 8 & col1.times.2 > 10)\n",
    "sub2"
   ]
  },
  {
   "cell_type": "markdown",
   "metadata": {},
   "source": [
    "## Selecting Multiple Columns"
   ]
  },
  {
   "cell_type": "code",
   "execution_count": 21,
   "metadata": {},
   "outputs": [
    {
     "data": {
      "text/html": [
       "<table>\n",
       "<caption>A data.frame: 10 × 3</caption>\n",
       "<thead>\n",
       "\t<tr><th scope=col>col.name.1</th><th scope=col>col.name.2</th><th scope=col>newcol</th></tr>\n",
       "\t<tr><th scope=col>&lt;dbl&gt;</th><th scope=col>&lt;fct&gt;</th><th scope=col>&lt;lgl&gt;</th></tr>\n",
       "</thead>\n",
       "<tbody>\n",
       "\t<tr><td>3.905984e-01</td><td>a</td><td>NA</td></tr>\n",
       "\t<tr><td>9.999900e+04</td><td>b</td><td>NA</td></tr>\n",
       "\t<tr><td>2.793079e-02</td><td>c</td><td>NA</td></tr>\n",
       "\t<tr><td>8.203804e-01</td><td>d</td><td>NA</td></tr>\n",
       "\t<tr><td>9.990957e-01</td><td>e</td><td>NA</td></tr>\n",
       "\t<tr><td>5.841225e-01</td><td>f</td><td>NA</td></tr>\n",
       "\t<tr><td>2.651145e-01</td><td>g</td><td>NA</td></tr>\n",
       "\t<tr><td>7.830188e-01</td><td>h</td><td>NA</td></tr>\n",
       "\t<tr><td>6.401342e-01</td><td>i</td><td>NA</td></tr>\n",
       "\t<tr><td>9.059580e-01</td><td>j</td><td>NA</td></tr>\n",
       "</tbody>\n",
       "</table>\n"
      ],
      "text/latex": [
       "A data.frame: 10 × 3\n",
       "\\begin{tabular}{lll}\n",
       " col.name.1 & col.name.2 & newcol\\\\\n",
       " <dbl> & <fct> & <lgl>\\\\\n",
       "\\hline\n",
       "\t 3.905984e-01 & a & NA\\\\\n",
       "\t 9.999900e+04 & b & NA\\\\\n",
       "\t 2.793079e-02 & c & NA\\\\\n",
       "\t 8.203804e-01 & d & NA\\\\\n",
       "\t 9.990957e-01 & e & NA\\\\\n",
       "\t 5.841225e-01 & f & NA\\\\\n",
       "\t 2.651145e-01 & g & NA\\\\\n",
       "\t 7.830188e-01 & h & NA\\\\\n",
       "\t 6.401342e-01 & i & NA\\\\\n",
       "\t 9.059580e-01 & j & NA\\\\\n",
       "\\end{tabular}\n"
      ],
      "text/markdown": [
       "\n",
       "A data.frame: 10 × 3\n",
       "\n",
       "| col.name.1 &lt;dbl&gt; | col.name.2 &lt;fct&gt; | newcol &lt;lgl&gt; |\n",
       "|---|---|---|\n",
       "| 3.905984e-01 | a | NA |\n",
       "| 9.999900e+04 | b | NA |\n",
       "| 2.793079e-02 | c | NA |\n",
       "| 8.203804e-01 | d | NA |\n",
       "| 9.990957e-01 | e | NA |\n",
       "| 5.841225e-01 | f | NA |\n",
       "| 2.651145e-01 | g | NA |\n",
       "| 7.830188e-01 | h | NA |\n",
       "| 6.401342e-01 | i | NA |\n",
       "| 9.059580e-01 | j | NA |\n",
       "\n"
      ],
      "text/plain": [
       "   col.name.1   col.name.2 newcol\n",
       "1  3.905984e-01 a          NA    \n",
       "2  9.999900e+04 b          NA    \n",
       "3  2.793079e-02 c          NA    \n",
       "4  8.203804e-01 d          NA    \n",
       "5  9.990957e-01 e          NA    \n",
       "6  5.841225e-01 f          NA    \n",
       "7  2.651145e-01 g          NA    \n",
       "8  7.830188e-01 h          NA    \n",
       "9  6.401342e-01 i          NA    \n",
       "10 9.059580e-01 j          NA    "
      ]
     },
     "metadata": {},
     "output_type": "display_data"
    }
   ],
   "source": [
    "df[, c(1, 2, 3)] #Grab cols 1 2 3"
   ]
  },
  {
   "cell_type": "code",
   "execution_count": 22,
   "metadata": {},
   "outputs": [
    {
     "data": {
      "text/html": [
       "<table>\n",
       "<caption>A data.frame: 10 × 2</caption>\n",
       "<thead>\n",
       "\t<tr><th scope=col>col.name.1</th><th scope=col>col1.times.2</th></tr>\n",
       "\t<tr><th scope=col>&lt;dbl&gt;</th><th scope=col>&lt;dbl&gt;</th></tr>\n",
       "</thead>\n",
       "<tbody>\n",
       "\t<tr><td>3.905984e-01</td><td>1.525671e-01</td></tr>\n",
       "\t<tr><td>9.999900e+04</td><td>9.999800e+09</td></tr>\n",
       "\t<tr><td>2.793079e-02</td><td>7.801291e-04</td></tr>\n",
       "\t<tr><td>8.203804e-01</td><td>6.730240e-01</td></tr>\n",
       "\t<tr><td>9.990957e-01</td><td>9.981922e-01</td></tr>\n",
       "\t<tr><td>5.841225e-01</td><td>3.411991e-01</td></tr>\n",
       "\t<tr><td>2.651145e-01</td><td>7.028567e-02</td></tr>\n",
       "\t<tr><td>7.830188e-01</td><td>6.131184e-01</td></tr>\n",
       "\t<tr><td>6.401342e-01</td><td>4.097717e-01</td></tr>\n",
       "\t<tr><td>9.059580e-01</td><td>8.207599e-01</td></tr>\n",
       "</tbody>\n",
       "</table>\n"
      ],
      "text/latex": [
       "A data.frame: 10 × 2\n",
       "\\begin{tabular}{ll}\n",
       " col.name.1 & col1.times.2\\\\\n",
       " <dbl> & <dbl>\\\\\n",
       "\\hline\n",
       "\t 3.905984e-01 & 1.525671e-01\\\\\n",
       "\t 9.999900e+04 & 9.999800e+09\\\\\n",
       "\t 2.793079e-02 & 7.801291e-04\\\\\n",
       "\t 8.203804e-01 & 6.730240e-01\\\\\n",
       "\t 9.990957e-01 & 9.981922e-01\\\\\n",
       "\t 5.841225e-01 & 3.411991e-01\\\\\n",
       "\t 2.651145e-01 & 7.028567e-02\\\\\n",
       "\t 7.830188e-01 & 6.131184e-01\\\\\n",
       "\t 6.401342e-01 & 4.097717e-01\\\\\n",
       "\t 9.059580e-01 & 8.207599e-01\\\\\n",
       "\\end{tabular}\n"
      ],
      "text/markdown": [
       "\n",
       "A data.frame: 10 × 2\n",
       "\n",
       "| col.name.1 &lt;dbl&gt; | col1.times.2 &lt;dbl&gt; |\n",
       "|---|---|\n",
       "| 3.905984e-01 | 1.525671e-01 |\n",
       "| 9.999900e+04 | 9.999800e+09 |\n",
       "| 2.793079e-02 | 7.801291e-04 |\n",
       "| 8.203804e-01 | 6.730240e-01 |\n",
       "| 9.990957e-01 | 9.981922e-01 |\n",
       "| 5.841225e-01 | 3.411991e-01 |\n",
       "| 2.651145e-01 | 7.028567e-02 |\n",
       "| 7.830188e-01 | 6.131184e-01 |\n",
       "| 6.401342e-01 | 4.097717e-01 |\n",
       "| 9.059580e-01 | 8.207599e-01 |\n",
       "\n"
      ],
      "text/plain": [
       "   col.name.1   col1.times.2\n",
       "1  3.905984e-01 1.525671e-01\n",
       "2  9.999900e+04 9.999800e+09\n",
       "3  2.793079e-02 7.801291e-04\n",
       "4  8.203804e-01 6.730240e-01\n",
       "5  9.990957e-01 9.981922e-01\n",
       "6  5.841225e-01 3.411991e-01\n",
       "7  2.651145e-01 7.028567e-02\n",
       "8  7.830188e-01 6.131184e-01\n",
       "9  6.401342e-01 4.097717e-01\n",
       "10 9.059580e-01 8.207599e-01"
      ]
     },
     "metadata": {},
     "output_type": "display_data"
    }
   ],
   "source": [
    "df[, c('col.name.1', 'col1.times.2')] # by name"
   ]
  },
  {
   "cell_type": "code",
   "execution_count": 23,
   "metadata": {},
   "outputs": [
    {
     "data": {
      "text/html": [
       "<table>\n",
       "<caption>A data.frame: 10 × 5</caption>\n",
       "<thead>\n",
       "\t<tr><th scope=col>col.name.2</th><th scope=col>newcol</th><th scope=col>copy.of.col2</th><th scope=col>col1.times.2</th><th scope=col>NA</th></tr>\n",
       "\t<tr><th scope=col>&lt;fct&gt;</th><th scope=col>&lt;lgl&gt;</th><th scope=col>&lt;fct&gt;</th><th scope=col>&lt;dbl&gt;</th><th scope=col>&lt;fct&gt;</th></tr>\n",
       "</thead>\n",
       "<tbody>\n",
       "\t<tr><td>a</td><td>NA</td><td>a</td><td>1.525671e-01</td><td>a</td></tr>\n",
       "\t<tr><td>b</td><td>NA</td><td>b</td><td>9.999800e+09</td><td>b</td></tr>\n",
       "\t<tr><td>c</td><td>NA</td><td>c</td><td>7.801291e-04</td><td>c</td></tr>\n",
       "\t<tr><td>d</td><td>NA</td><td>d</td><td>6.730240e-01</td><td>d</td></tr>\n",
       "\t<tr><td>e</td><td>NA</td><td>e</td><td>9.981922e-01</td><td>e</td></tr>\n",
       "\t<tr><td>f</td><td>NA</td><td>f</td><td>3.411991e-01</td><td>f</td></tr>\n",
       "\t<tr><td>g</td><td>NA</td><td>g</td><td>7.028567e-02</td><td>g</td></tr>\n",
       "\t<tr><td>h</td><td>NA</td><td>h</td><td>6.131184e-01</td><td>h</td></tr>\n",
       "\t<tr><td>i</td><td>NA</td><td>i</td><td>4.097717e-01</td><td>i</td></tr>\n",
       "\t<tr><td>j</td><td>NA</td><td>j</td><td>8.207599e-01</td><td>j</td></tr>\n",
       "</tbody>\n",
       "</table>\n"
      ],
      "text/latex": [
       "A data.frame: 10 × 5\n",
       "\\begin{tabular}{lllll}\n",
       " col.name.2 & newcol & copy.of.col2 & col1.times.2 & NA\\\\\n",
       " <fct> & <lgl> & <fct> & <dbl> & <fct>\\\\\n",
       "\\hline\n",
       "\t a & NA & a & 1.525671e-01 & a\\\\\n",
       "\t b & NA & b & 9.999800e+09 & b\\\\\n",
       "\t c & NA & c & 7.801291e-04 & c\\\\\n",
       "\t d & NA & d & 6.730240e-01 & d\\\\\n",
       "\t e & NA & e & 9.981922e-01 & e\\\\\n",
       "\t f & NA & f & 3.411991e-01 & f\\\\\n",
       "\t g & NA & g & 7.028567e-02 & g\\\\\n",
       "\t h & NA & h & 6.131184e-01 & h\\\\\n",
       "\t i & NA & i & 4.097717e-01 & i\\\\\n",
       "\t j & NA & j & 8.207599e-01 & j\\\\\n",
       "\\end{tabular}\n"
      ],
      "text/markdown": [
       "\n",
       "A data.frame: 10 × 5\n",
       "\n",
       "| col.name.2 &lt;fct&gt; | newcol &lt;lgl&gt; | copy.of.col2 &lt;fct&gt; | col1.times.2 &lt;dbl&gt; | NA &lt;fct&gt; |\n",
       "|---|---|---|---|---|\n",
       "| a | NA | a | 1.525671e-01 | a |\n",
       "| b | NA | b | 9.999800e+09 | b |\n",
       "| c | NA | c | 7.801291e-04 | c |\n",
       "| d | NA | d | 6.730240e-01 | d |\n",
       "| e | NA | e | 9.981922e-01 | e |\n",
       "| f | NA | f | 3.411991e-01 | f |\n",
       "| g | NA | g | 7.028567e-02 | g |\n",
       "| h | NA | h | 6.131184e-01 | h |\n",
       "| i | NA | i | 4.097717e-01 | i |\n",
       "| j | NA | j | 8.207599e-01 | j |\n",
       "\n"
      ],
      "text/plain": [
       "   col.name.2 newcol copy.of.col2 col1.times.2 <NA>\n",
       "1  a          NA     a            1.525671e-01 a   \n",
       "2  b          NA     b            9.999800e+09 b   \n",
       "3  c          NA     c            7.801291e-04 c   \n",
       "4  d          NA     d            6.730240e-01 d   \n",
       "5  e          NA     e            9.981922e-01 e   \n",
       "6  f          NA     f            3.411991e-01 f   \n",
       "7  g          NA     g            7.028567e-02 g   \n",
       "8  h          NA     h            6.131184e-01 h   \n",
       "9  i          NA     i            4.097717e-01 i   \n",
       "10 j          NA     j            8.207599e-01 j   "
      ]
     },
     "metadata": {},
     "output_type": "display_data"
    }
   ],
   "source": [
    "df[, -1] # keep all but first column"
   ]
  },
  {
   "cell_type": "code",
   "execution_count": 24,
   "metadata": {},
   "outputs": [
    {
     "data": {
      "text/html": [
       "<table>\n",
       "<caption>A data.frame: 10 × 4</caption>\n",
       "<thead>\n",
       "\t<tr><th scope=col>col.name.2</th><th scope=col>copy.of.col2</th><th scope=col>col1.times.2</th><th scope=col>NA</th></tr>\n",
       "\t<tr><th scope=col>&lt;fct&gt;</th><th scope=col>&lt;fct&gt;</th><th scope=col>&lt;dbl&gt;</th><th scope=col>&lt;fct&gt;</th></tr>\n",
       "</thead>\n",
       "<tbody>\n",
       "\t<tr><td>a</td><td>a</td><td>1.525671e-01</td><td>a</td></tr>\n",
       "\t<tr><td>b</td><td>b</td><td>9.999800e+09</td><td>b</td></tr>\n",
       "\t<tr><td>c</td><td>c</td><td>7.801291e-04</td><td>c</td></tr>\n",
       "\t<tr><td>d</td><td>d</td><td>6.730240e-01</td><td>d</td></tr>\n",
       "\t<tr><td>e</td><td>e</td><td>9.981922e-01</td><td>e</td></tr>\n",
       "\t<tr><td>f</td><td>f</td><td>3.411991e-01</td><td>f</td></tr>\n",
       "\t<tr><td>g</td><td>g</td><td>7.028567e-02</td><td>g</td></tr>\n",
       "\t<tr><td>h</td><td>h</td><td>6.131184e-01</td><td>h</td></tr>\n",
       "\t<tr><td>i</td><td>i</td><td>4.097717e-01</td><td>i</td></tr>\n",
       "\t<tr><td>j</td><td>j</td><td>8.207599e-01</td><td>j</td></tr>\n",
       "</tbody>\n",
       "</table>\n"
      ],
      "text/latex": [
       "A data.frame: 10 × 4\n",
       "\\begin{tabular}{llll}\n",
       " col.name.2 & copy.of.col2 & col1.times.2 & NA\\\\\n",
       " <fct> & <fct> & <dbl> & <fct>\\\\\n",
       "\\hline\n",
       "\t a & a & 1.525671e-01 & a\\\\\n",
       "\t b & b & 9.999800e+09 & b\\\\\n",
       "\t c & c & 7.801291e-04 & c\\\\\n",
       "\t d & d & 6.730240e-01 & d\\\\\n",
       "\t e & e & 9.981922e-01 & e\\\\\n",
       "\t f & f & 3.411991e-01 & f\\\\\n",
       "\t g & g & 7.028567e-02 & g\\\\\n",
       "\t h & h & 6.131184e-01 & h\\\\\n",
       "\t i & i & 4.097717e-01 & i\\\\\n",
       "\t j & j & 8.207599e-01 & j\\\\\n",
       "\\end{tabular}\n"
      ],
      "text/markdown": [
       "\n",
       "A data.frame: 10 × 4\n",
       "\n",
       "| col.name.2 &lt;fct&gt; | copy.of.col2 &lt;fct&gt; | col1.times.2 &lt;dbl&gt; | NA &lt;fct&gt; |\n",
       "|---|---|---|---|\n",
       "| a | a | 1.525671e-01 | a |\n",
       "| b | b | 9.999800e+09 | b |\n",
       "| c | c | 7.801291e-04 | c |\n",
       "| d | d | 6.730240e-01 | d |\n",
       "| e | e | 9.981922e-01 | e |\n",
       "| f | f | 3.411991e-01 | f |\n",
       "| g | g | 7.028567e-02 | g |\n",
       "| h | h | 6.131184e-01 | h |\n",
       "| i | i | 4.097717e-01 | i |\n",
       "| j | j | 8.207599e-01 | j |\n",
       "\n"
      ],
      "text/plain": [
       "   col.name.2 copy.of.col2 col1.times.2 <NA>\n",
       "1  a          a            1.525671e-01 a   \n",
       "2  b          b            9.999800e+09 b   \n",
       "3  c          c            7.801291e-04 c   \n",
       "4  d          d            6.730240e-01 d   \n",
       "5  e          e            9.981922e-01 e   \n",
       "6  f          f            3.411991e-01 f   \n",
       "7  g          g            7.028567e-02 g   \n",
       "8  h          h            6.131184e-01 h   \n",
       "9  i          i            4.097717e-01 i   \n",
       "10 j          j            8.207599e-01 j   "
      ]
     },
     "metadata": {},
     "output_type": "display_data"
    }
   ],
   "source": [
    "df[, -c(1, 3)] # drop cols 1 and 3"
   ]
  },
  {
   "cell_type": "markdown",
   "metadata": {
    "scrolled": true
   },
   "source": [
    "## Dealing with Missing Data\n",
    "Dealing with missing data is a very important skill to know when working with data frames!"
   ]
  },
  {
   "cell_type": "code",
   "execution_count": 25,
   "metadata": {},
   "outputs": [
    {
     "data": {
      "text/html": [
       "FALSE"
      ],
      "text/latex": [
       "FALSE"
      ],
      "text/markdown": [
       "FALSE"
      ],
      "text/plain": [
       "[1] FALSE"
      ]
     },
     "metadata": {},
     "output_type": "display_data"
    }
   ],
   "source": [
    "any(is.na(mtcars)) # detect anywhere in df"
   ]
  },
  {
   "cell_type": "code",
   "execution_count": 26,
   "metadata": {},
   "outputs": [
    {
     "data": {
      "text/html": [
       "TRUE"
      ],
      "text/latex": [
       "TRUE"
      ],
      "text/markdown": [
       "TRUE"
      ],
      "text/plain": [
       "[1] TRUE"
      ]
     },
     "metadata": {},
     "output_type": "display_data"
    },
    {
     "data": {
      "text/html": [
       "<table>\n",
       "<caption>A data.frame: 10 × 6</caption>\n",
       "<thead>\n",
       "\t<tr><th scope=col>col.name.1</th><th scope=col>col.name.2</th><th scope=col>newcol</th><th scope=col>copy.of.col2</th><th scope=col>col1.times.2</th><th scope=col>NA</th></tr>\n",
       "\t<tr><th scope=col>&lt;dbl&gt;</th><th scope=col>&lt;fct&gt;</th><th scope=col>&lt;lgl&gt;</th><th scope=col>&lt;fct&gt;</th><th scope=col>&lt;dbl&gt;</th><th scope=col>&lt;fct&gt;</th></tr>\n",
       "</thead>\n",
       "<tbody>\n",
       "\t<tr><td>3.905984e-01</td><td>a</td><td>NA</td><td>a</td><td>1.525671e-01</td><td>a</td></tr>\n",
       "\t<tr><td>9.999900e+04</td><td>b</td><td>NA</td><td>b</td><td>9.999800e+09</td><td>b</td></tr>\n",
       "\t<tr><td>2.793079e-02</td><td>c</td><td>NA</td><td>c</td><td>7.801291e-04</td><td>c</td></tr>\n",
       "\t<tr><td>8.203804e-01</td><td>d</td><td>NA</td><td>d</td><td>6.730240e-01</td><td>d</td></tr>\n",
       "\t<tr><td>9.990957e-01</td><td>e</td><td>NA</td><td>e</td><td>9.981922e-01</td><td>e</td></tr>\n",
       "\t<tr><td>5.841225e-01</td><td>f</td><td>NA</td><td>f</td><td>3.411991e-01</td><td>f</td></tr>\n",
       "\t<tr><td>2.651145e-01</td><td>g</td><td>NA</td><td>g</td><td>7.028567e-02</td><td>g</td></tr>\n",
       "\t<tr><td>7.830188e-01</td><td>h</td><td>NA</td><td>h</td><td>6.131184e-01</td><td>h</td></tr>\n",
       "\t<tr><td>6.401342e-01</td><td>i</td><td>NA</td><td>i</td><td>4.097717e-01</td><td>i</td></tr>\n",
       "\t<tr><td>9.059580e-01</td><td>j</td><td>NA</td><td>j</td><td>8.207599e-01</td><td>j</td></tr>\n",
       "</tbody>\n",
       "</table>\n"
      ],
      "text/latex": [
       "A data.frame: 10 × 6\n",
       "\\begin{tabular}{llllll}\n",
       " col.name.1 & col.name.2 & newcol & copy.of.col2 & col1.times.2 & NA\\\\\n",
       " <dbl> & <fct> & <lgl> & <fct> & <dbl> & <fct>\\\\\n",
       "\\hline\n",
       "\t 3.905984e-01 & a & NA & a & 1.525671e-01 & a\\\\\n",
       "\t 9.999900e+04 & b & NA & b & 9.999800e+09 & b\\\\\n",
       "\t 2.793079e-02 & c & NA & c & 7.801291e-04 & c\\\\\n",
       "\t 8.203804e-01 & d & NA & d & 6.730240e-01 & d\\\\\n",
       "\t 9.990957e-01 & e & NA & e & 9.981922e-01 & e\\\\\n",
       "\t 5.841225e-01 & f & NA & f & 3.411991e-01 & f\\\\\n",
       "\t 2.651145e-01 & g & NA & g & 7.028567e-02 & g\\\\\n",
       "\t 7.830188e-01 & h & NA & h & 6.131184e-01 & h\\\\\n",
       "\t 6.401342e-01 & i & NA & i & 4.097717e-01 & i\\\\\n",
       "\t 9.059580e-01 & j & NA & j & 8.207599e-01 & j\\\\\n",
       "\\end{tabular}\n"
      ],
      "text/markdown": [
       "\n",
       "A data.frame: 10 × 6\n",
       "\n",
       "| col.name.1 &lt;dbl&gt; | col.name.2 &lt;fct&gt; | newcol &lt;lgl&gt; | copy.of.col2 &lt;fct&gt; | col1.times.2 &lt;dbl&gt; | NA &lt;fct&gt; |\n",
       "|---|---|---|---|---|---|\n",
       "| 3.905984e-01 | a | NA | a | 1.525671e-01 | a |\n",
       "| 9.999900e+04 | b | NA | b | 9.999800e+09 | b |\n",
       "| 2.793079e-02 | c | NA | c | 7.801291e-04 | c |\n",
       "| 8.203804e-01 | d | NA | d | 6.730240e-01 | d |\n",
       "| 9.990957e-01 | e | NA | e | 9.981922e-01 | e |\n",
       "| 5.841225e-01 | f | NA | f | 3.411991e-01 | f |\n",
       "| 2.651145e-01 | g | NA | g | 7.028567e-02 | g |\n",
       "| 7.830188e-01 | h | NA | h | 6.131184e-01 | h |\n",
       "| 6.401342e-01 | i | NA | i | 4.097717e-01 | i |\n",
       "| 9.059580e-01 | j | NA | j | 8.207599e-01 | j |\n",
       "\n"
      ],
      "text/plain": [
       "   col.name.1   col.name.2 newcol copy.of.col2 col1.times.2 <NA>\n",
       "1  3.905984e-01 a          NA     a            1.525671e-01 a   \n",
       "2  9.999900e+04 b          NA     b            9.999800e+09 b   \n",
       "3  2.793079e-02 c          NA     c            7.801291e-04 c   \n",
       "4  8.203804e-01 d          NA     d            6.730240e-01 d   \n",
       "5  9.990957e-01 e          NA     e            9.981922e-01 e   \n",
       "6  5.841225e-01 f          NA     f            3.411991e-01 f   \n",
       "7  2.651145e-01 g          NA     g            7.028567e-02 g   \n",
       "8  7.830188e-01 h          NA     h            6.131184e-01 h   \n",
       "9  6.401342e-01 i          NA     i            4.097717e-01 i   \n",
       "10 9.059580e-01 j          NA     j            8.207599e-01 j   "
      ]
     },
     "metadata": {},
     "output_type": "display_data"
    }
   ],
   "source": [
    "#We have an empty column in df\n",
    "any(is.na(df)) # anywhere in col\n",
    "df"
   ]
  },
  {
   "cell_type": "code",
   "execution_count": 27,
   "metadata": {},
   "outputs": [],
   "source": [
    "# delete selected missing data rows\n",
    "df <- df[!is.na(df$col), ]"
   ]
  },
  {
   "cell_type": "code",
   "execution_count": 28,
   "metadata": {},
   "outputs": [],
   "source": [
    "# replace NAs with something else\n",
    "df[is.na(df)] <- 0 # works on whole df"
   ]
  },
  {
   "cell_type": "code",
   "execution_count": 29,
   "metadata": {},
   "outputs": [],
   "source": [
    "df$col[is.na(df$col)] <- 999 # For a selected column"
   ]
  }
 ],
 "metadata": {
  "kernelspec": {
   "display_name": "R",
   "language": "R",
   "name": "ir"
  },
  "language_info": {
   "codemirror_mode": "r",
   "file_extension": ".r",
   "mimetype": "text/x-r-source",
   "name": "R",
   "pygments_lexer": "r",
   "version": "3.6.1"
  }
 },
 "nbformat": 4,
 "nbformat_minor": 4
}
