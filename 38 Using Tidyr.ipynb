{
 "cells": [
  {
   "cell_type": "markdown",
   "metadata": {},
   "source": [
    "# Using Tidyr"
   ]
  },
  {
   "cell_type": "code",
   "execution_count": 1,
   "metadata": {},
   "outputs": [],
   "source": [
    "# install.packages('tidyr')\n",
    "# install.packages('data.table')"
   ]
  },
  {
   "cell_type": "code",
   "execution_count": 44,
   "metadata": {},
   "outputs": [],
   "source": [
    "#library(dplyr)\n",
    "#library(tidyr)\n",
    "#library(data.table)"
   ]
  },
  {
   "cell_type": "markdown",
   "metadata": {},
   "source": [
    "There are 4 useful functions that come with tidyr\n",
    "- __gather()__\n",
    "- __spread()__\n",
    "- __seperate()__\n",
    "- __unite()___\n",
    "\n",
    "# __gather()__\n",
    "\n",
    "First, __gather()__ collapses multiple column into key pair values.\n",
    "\n",
    "Let's generate some data to experiment with __gather()__\n",
    "\n",
    "Let's generate the quarterly returns for a company"
   ]
  },
  {
   "cell_type": "code",
   "execution_count": 35,
   "metadata": {},
   "outputs": [],
   "source": [
    "comp <- c(\"AAPL\",\"AAPL\",\"AAPL\",\"MSFT\",\"MSFT\",\"MSFT\",\"GOOG\",\"GOOG\",\"GOOG\")\n",
    "yr <- c(1998,1999,2000,1998,1999,2000,1998,1999,2000)\n",
    "q1 <- c(runif(9, min =0, max = 100))\n",
    "q2 <- c(runif(9, min =0, max = 100))\n",
    "q3 <- c(runif(9, min =0, max = 100))\n",
    "q4 <- c(runif(9, min =0, max = 100))\n",
    "\n",
    "df <- data.frame(comp=comp,year=yr,Qrt1 = q1, Qrt2 = q2, Qrt3 = q3, Qrt4 = q4)"
   ]
  },
  {
   "cell_type": "code",
   "execution_count": 36,
   "metadata": {},
   "outputs": [
    {
     "data": {
      "text/html": [
       "<table>\n",
       "<caption>A data.frame: 9 × 6</caption>\n",
       "<thead>\n",
       "\t<tr><th scope=col>comp</th><th scope=col>year</th><th scope=col>Qrt1</th><th scope=col>Qrt2</th><th scope=col>Qrt3</th><th scope=col>Qrt4</th></tr>\n",
       "\t<tr><th scope=col>&lt;fct&gt;</th><th scope=col>&lt;dbl&gt;</th><th scope=col>&lt;dbl&gt;</th><th scope=col>&lt;dbl&gt;</th><th scope=col>&lt;dbl&gt;</th><th scope=col>&lt;dbl&gt;</th></tr>\n",
       "</thead>\n",
       "<tbody>\n",
       "\t<tr><td>AAPL</td><td>1998</td><td>38.289722</td><td>52.23846</td><td>44.81183</td><td>88.82678</td></tr>\n",
       "\t<tr><td>AAPL</td><td>1999</td><td>61.278695</td><td>47.01802</td><td>16.90068</td><td>51.05484</td></tr>\n",
       "\t<tr><td>AAPL</td><td>2000</td><td>88.658062</td><td>41.82379</td><td>74.45996</td><td>37.38467</td></tr>\n",
       "\t<tr><td>MSFT</td><td>1998</td><td>53.469995</td><td>14.70906</td><td>66.30016</td><td>77.82373</td></tr>\n",
       "\t<tr><td>MSFT</td><td>1999</td><td>62.376601</td><td>45.61223</td><td>37.15417</td><td>62.12949</td></tr>\n",
       "\t<tr><td>MSFT</td><td>2000</td><td>60.255630</td><td>35.33815</td><td>80.83301</td><td>22.32887</td></tr>\n",
       "\t<tr><td>GOOG</td><td>1998</td><td>38.093017</td><td>57.26420</td><td>46.42579</td><td>90.60110</td></tr>\n",
       "\t<tr><td>GOOG</td><td>1999</td><td>21.026195</td><td>33.45226</td><td>65.89276</td><td>28.03802</td></tr>\n",
       "\t<tr><td>GOOG</td><td>2000</td><td> 6.846886</td><td>13.19288</td><td>41.64382</td><td>79.12544</td></tr>\n",
       "</tbody>\n",
       "</table>\n"
      ],
      "text/latex": [
       "A data.frame: 9 × 6\n",
       "\\begin{tabular}{llllll}\n",
       " comp & year & Qrt1 & Qrt2 & Qrt3 & Qrt4\\\\\n",
       " <fct> & <dbl> & <dbl> & <dbl> & <dbl> & <dbl>\\\\\n",
       "\\hline\n",
       "\t AAPL & 1998 & 38.289722 & 52.23846 & 44.81183 & 88.82678\\\\\n",
       "\t AAPL & 1999 & 61.278695 & 47.01802 & 16.90068 & 51.05484\\\\\n",
       "\t AAPL & 2000 & 88.658062 & 41.82379 & 74.45996 & 37.38467\\\\\n",
       "\t MSFT & 1998 & 53.469995 & 14.70906 & 66.30016 & 77.82373\\\\\n",
       "\t MSFT & 1999 & 62.376601 & 45.61223 & 37.15417 & 62.12949\\\\\n",
       "\t MSFT & 2000 & 60.255630 & 35.33815 & 80.83301 & 22.32887\\\\\n",
       "\t GOOG & 1998 & 38.093017 & 57.26420 & 46.42579 & 90.60110\\\\\n",
       "\t GOOG & 1999 & 21.026195 & 33.45226 & 65.89276 & 28.03802\\\\\n",
       "\t GOOG & 2000 &  6.846886 & 13.19288 & 41.64382 & 79.12544\\\\\n",
       "\\end{tabular}\n"
      ],
      "text/markdown": [
       "\n",
       "A data.frame: 9 × 6\n",
       "\n",
       "| comp &lt;fct&gt; | year &lt;dbl&gt; | Qrt1 &lt;dbl&gt; | Qrt2 &lt;dbl&gt; | Qrt3 &lt;dbl&gt; | Qrt4 &lt;dbl&gt; |\n",
       "|---|---|---|---|---|---|\n",
       "| AAPL | 1998 | 38.289722 | 52.23846 | 44.81183 | 88.82678 |\n",
       "| AAPL | 1999 | 61.278695 | 47.01802 | 16.90068 | 51.05484 |\n",
       "| AAPL | 2000 | 88.658062 | 41.82379 | 74.45996 | 37.38467 |\n",
       "| MSFT | 1998 | 53.469995 | 14.70906 | 66.30016 | 77.82373 |\n",
       "| MSFT | 1999 | 62.376601 | 45.61223 | 37.15417 | 62.12949 |\n",
       "| MSFT | 2000 | 60.255630 | 35.33815 | 80.83301 | 22.32887 |\n",
       "| GOOG | 1998 | 38.093017 | 57.26420 | 46.42579 | 90.60110 |\n",
       "| GOOG | 1999 | 21.026195 | 33.45226 | 65.89276 | 28.03802 |\n",
       "| GOOG | 2000 |  6.846886 | 13.19288 | 41.64382 | 79.12544 |\n",
       "\n"
      ],
      "text/plain": [
       "  comp year Qrt1      Qrt2     Qrt3     Qrt4    \n",
       "1 AAPL 1998 38.289722 52.23846 44.81183 88.82678\n",
       "2 AAPL 1999 61.278695 47.01802 16.90068 51.05484\n",
       "3 AAPL 2000 88.658062 41.82379 74.45996 37.38467\n",
       "4 MSFT 1998 53.469995 14.70906 66.30016 77.82373\n",
       "5 MSFT 1999 62.376601 45.61223 37.15417 62.12949\n",
       "6 MSFT 2000 60.255630 35.33815 80.83301 22.32887\n",
       "7 GOOG 1998 38.093017 57.26420 46.42579 90.60110\n",
       "8 GOOG 1999 21.026195 33.45226 65.89276 28.03802\n",
       "9 GOOG 2000  6.846886 13.19288 41.64382 79.12544"
      ]
     },
     "metadata": {},
     "output_type": "display_data"
    }
   ],
   "source": [
    "df"
   ]
  },
  {
   "cell_type": "code",
   "execution_count": 37,
   "metadata": {},
   "outputs": [
    {
     "data": {
      "text/html": [
       "<table>\n",
       "<caption>A data.frame: 36 × 4</caption>\n",
       "<thead>\n",
       "\t<tr><th scope=col>comp</th><th scope=col>year</th><th scope=col>Quarter</th><th scope=col>Revenue</th></tr>\n",
       "\t<tr><th scope=col>&lt;fct&gt;</th><th scope=col>&lt;dbl&gt;</th><th scope=col>&lt;chr&gt;</th><th scope=col>&lt;dbl&gt;</th></tr>\n",
       "</thead>\n",
       "<tbody>\n",
       "\t<tr><td>AAPL</td><td>1998</td><td>Qrt1</td><td>38.289722</td></tr>\n",
       "\t<tr><td>AAPL</td><td>1999</td><td>Qrt1</td><td>61.278695</td></tr>\n",
       "\t<tr><td>AAPL</td><td>2000</td><td>Qrt1</td><td>88.658062</td></tr>\n",
       "\t<tr><td>MSFT</td><td>1998</td><td>Qrt1</td><td>53.469995</td></tr>\n",
       "\t<tr><td>MSFT</td><td>1999</td><td>Qrt1</td><td>62.376601</td></tr>\n",
       "\t<tr><td>MSFT</td><td>2000</td><td>Qrt1</td><td>60.255630</td></tr>\n",
       "\t<tr><td>GOOG</td><td>1998</td><td>Qrt1</td><td>38.093017</td></tr>\n",
       "\t<tr><td>GOOG</td><td>1999</td><td>Qrt1</td><td>21.026195</td></tr>\n",
       "\t<tr><td>GOOG</td><td>2000</td><td>Qrt1</td><td> 6.846886</td></tr>\n",
       "\t<tr><td>AAPL</td><td>1998</td><td>Qrt2</td><td>52.238457</td></tr>\n",
       "\t<tr><td>AAPL</td><td>1999</td><td>Qrt2</td><td>47.018020</td></tr>\n",
       "\t<tr><td>AAPL</td><td>2000</td><td>Qrt2</td><td>41.823789</td></tr>\n",
       "\t<tr><td>MSFT</td><td>1998</td><td>Qrt2</td><td>14.709061</td></tr>\n",
       "\t<tr><td>MSFT</td><td>1999</td><td>Qrt2</td><td>45.612228</td></tr>\n",
       "\t<tr><td>MSFT</td><td>2000</td><td>Qrt2</td><td>35.338153</td></tr>\n",
       "\t<tr><td>GOOG</td><td>1998</td><td>Qrt2</td><td>57.264201</td></tr>\n",
       "\t<tr><td>GOOG</td><td>1999</td><td>Qrt2</td><td>33.452259</td></tr>\n",
       "\t<tr><td>GOOG</td><td>2000</td><td>Qrt2</td><td>13.192877</td></tr>\n",
       "\t<tr><td>AAPL</td><td>1998</td><td>Qrt3</td><td>44.811831</td></tr>\n",
       "\t<tr><td>AAPL</td><td>1999</td><td>Qrt3</td><td>16.900682</td></tr>\n",
       "\t<tr><td>AAPL</td><td>2000</td><td>Qrt3</td><td>74.459962</td></tr>\n",
       "\t<tr><td>MSFT</td><td>1998</td><td>Qrt3</td><td>66.300162</td></tr>\n",
       "\t<tr><td>MSFT</td><td>1999</td><td>Qrt3</td><td>37.154173</td></tr>\n",
       "\t<tr><td>MSFT</td><td>2000</td><td>Qrt3</td><td>80.833013</td></tr>\n",
       "\t<tr><td>GOOG</td><td>1998</td><td>Qrt3</td><td>46.425789</td></tr>\n",
       "\t<tr><td>GOOG</td><td>1999</td><td>Qrt3</td><td>65.892759</td></tr>\n",
       "\t<tr><td>GOOG</td><td>2000</td><td>Qrt3</td><td>41.643817</td></tr>\n",
       "\t<tr><td>AAPL</td><td>1998</td><td>Qrt4</td><td>88.826781</td></tr>\n",
       "\t<tr><td>AAPL</td><td>1999</td><td>Qrt4</td><td>51.054844</td></tr>\n",
       "\t<tr><td>AAPL</td><td>2000</td><td>Qrt4</td><td>37.384673</td></tr>\n",
       "\t<tr><td>MSFT</td><td>1998</td><td>Qrt4</td><td>77.823726</td></tr>\n",
       "\t<tr><td>MSFT</td><td>1999</td><td>Qrt4</td><td>62.129490</td></tr>\n",
       "\t<tr><td>MSFT</td><td>2000</td><td>Qrt4</td><td>22.328869</td></tr>\n",
       "\t<tr><td>GOOG</td><td>1998</td><td>Qrt4</td><td>90.601097</td></tr>\n",
       "\t<tr><td>GOOG</td><td>1999</td><td>Qrt4</td><td>28.038024</td></tr>\n",
       "\t<tr><td>GOOG</td><td>2000</td><td>Qrt4</td><td>79.125440</td></tr>\n",
       "</tbody>\n",
       "</table>\n"
      ],
      "text/latex": [
       "A data.frame: 36 × 4\n",
       "\\begin{tabular}{llll}\n",
       " comp & year & Quarter & Revenue\\\\\n",
       " <fct> & <dbl> & <chr> & <dbl>\\\\\n",
       "\\hline\n",
       "\t AAPL & 1998 & Qrt1 & 38.289722\\\\\n",
       "\t AAPL & 1999 & Qrt1 & 61.278695\\\\\n",
       "\t AAPL & 2000 & Qrt1 & 88.658062\\\\\n",
       "\t MSFT & 1998 & Qrt1 & 53.469995\\\\\n",
       "\t MSFT & 1999 & Qrt1 & 62.376601\\\\\n",
       "\t MSFT & 2000 & Qrt1 & 60.255630\\\\\n",
       "\t GOOG & 1998 & Qrt1 & 38.093017\\\\\n",
       "\t GOOG & 1999 & Qrt1 & 21.026195\\\\\n",
       "\t GOOG & 2000 & Qrt1 &  6.846886\\\\\n",
       "\t AAPL & 1998 & Qrt2 & 52.238457\\\\\n",
       "\t AAPL & 1999 & Qrt2 & 47.018020\\\\\n",
       "\t AAPL & 2000 & Qrt2 & 41.823789\\\\\n",
       "\t MSFT & 1998 & Qrt2 & 14.709061\\\\\n",
       "\t MSFT & 1999 & Qrt2 & 45.612228\\\\\n",
       "\t MSFT & 2000 & Qrt2 & 35.338153\\\\\n",
       "\t GOOG & 1998 & Qrt2 & 57.264201\\\\\n",
       "\t GOOG & 1999 & Qrt2 & 33.452259\\\\\n",
       "\t GOOG & 2000 & Qrt2 & 13.192877\\\\\n",
       "\t AAPL & 1998 & Qrt3 & 44.811831\\\\\n",
       "\t AAPL & 1999 & Qrt3 & 16.900682\\\\\n",
       "\t AAPL & 2000 & Qrt3 & 74.459962\\\\\n",
       "\t MSFT & 1998 & Qrt3 & 66.300162\\\\\n",
       "\t MSFT & 1999 & Qrt3 & 37.154173\\\\\n",
       "\t MSFT & 2000 & Qrt3 & 80.833013\\\\\n",
       "\t GOOG & 1998 & Qrt3 & 46.425789\\\\\n",
       "\t GOOG & 1999 & Qrt3 & 65.892759\\\\\n",
       "\t GOOG & 2000 & Qrt3 & 41.643817\\\\\n",
       "\t AAPL & 1998 & Qrt4 & 88.826781\\\\\n",
       "\t AAPL & 1999 & Qrt4 & 51.054844\\\\\n",
       "\t AAPL & 2000 & Qrt4 & 37.384673\\\\\n",
       "\t MSFT & 1998 & Qrt4 & 77.823726\\\\\n",
       "\t MSFT & 1999 & Qrt4 & 62.129490\\\\\n",
       "\t MSFT & 2000 & Qrt4 & 22.328869\\\\\n",
       "\t GOOG & 1998 & Qrt4 & 90.601097\\\\\n",
       "\t GOOG & 1999 & Qrt4 & 28.038024\\\\\n",
       "\t GOOG & 2000 & Qrt4 & 79.125440\\\\\n",
       "\\end{tabular}\n"
      ],
      "text/markdown": [
       "\n",
       "A data.frame: 36 × 4\n",
       "\n",
       "| comp &lt;fct&gt; | year &lt;dbl&gt; | Quarter &lt;chr&gt; | Revenue &lt;dbl&gt; |\n",
       "|---|---|---|---|\n",
       "| AAPL | 1998 | Qrt1 | 38.289722 |\n",
       "| AAPL | 1999 | Qrt1 | 61.278695 |\n",
       "| AAPL | 2000 | Qrt1 | 88.658062 |\n",
       "| MSFT | 1998 | Qrt1 | 53.469995 |\n",
       "| MSFT | 1999 | Qrt1 | 62.376601 |\n",
       "| MSFT | 2000 | Qrt1 | 60.255630 |\n",
       "| GOOG | 1998 | Qrt1 | 38.093017 |\n",
       "| GOOG | 1999 | Qrt1 | 21.026195 |\n",
       "| GOOG | 2000 | Qrt1 |  6.846886 |\n",
       "| AAPL | 1998 | Qrt2 | 52.238457 |\n",
       "| AAPL | 1999 | Qrt2 | 47.018020 |\n",
       "| AAPL | 2000 | Qrt2 | 41.823789 |\n",
       "| MSFT | 1998 | Qrt2 | 14.709061 |\n",
       "| MSFT | 1999 | Qrt2 | 45.612228 |\n",
       "| MSFT | 2000 | Qrt2 | 35.338153 |\n",
       "| GOOG | 1998 | Qrt2 | 57.264201 |\n",
       "| GOOG | 1999 | Qrt2 | 33.452259 |\n",
       "| GOOG | 2000 | Qrt2 | 13.192877 |\n",
       "| AAPL | 1998 | Qrt3 | 44.811831 |\n",
       "| AAPL | 1999 | Qrt3 | 16.900682 |\n",
       "| AAPL | 2000 | Qrt3 | 74.459962 |\n",
       "| MSFT | 1998 | Qrt3 | 66.300162 |\n",
       "| MSFT | 1999 | Qrt3 | 37.154173 |\n",
       "| MSFT | 2000 | Qrt3 | 80.833013 |\n",
       "| GOOG | 1998 | Qrt3 | 46.425789 |\n",
       "| GOOG | 1999 | Qrt3 | 65.892759 |\n",
       "| GOOG | 2000 | Qrt3 | 41.643817 |\n",
       "| AAPL | 1998 | Qrt4 | 88.826781 |\n",
       "| AAPL | 1999 | Qrt4 | 51.054844 |\n",
       "| AAPL | 2000 | Qrt4 | 37.384673 |\n",
       "| MSFT | 1998 | Qrt4 | 77.823726 |\n",
       "| MSFT | 1999 | Qrt4 | 62.129490 |\n",
       "| MSFT | 2000 | Qrt4 | 22.328869 |\n",
       "| GOOG | 1998 | Qrt4 | 90.601097 |\n",
       "| GOOG | 1999 | Qrt4 | 28.038024 |\n",
       "| GOOG | 2000 | Qrt4 | 79.125440 |\n",
       "\n"
      ],
      "text/plain": [
       "   comp year Quarter Revenue  \n",
       "1  AAPL 1998 Qrt1    38.289722\n",
       "2  AAPL 1999 Qrt1    61.278695\n",
       "3  AAPL 2000 Qrt1    88.658062\n",
       "4  MSFT 1998 Qrt1    53.469995\n",
       "5  MSFT 1999 Qrt1    62.376601\n",
       "6  MSFT 2000 Qrt1    60.255630\n",
       "7  GOOG 1998 Qrt1    38.093017\n",
       "8  GOOG 1999 Qrt1    21.026195\n",
       "9  GOOG 2000 Qrt1     6.846886\n",
       "10 AAPL 1998 Qrt2    52.238457\n",
       "11 AAPL 1999 Qrt2    47.018020\n",
       "12 AAPL 2000 Qrt2    41.823789\n",
       "13 MSFT 1998 Qrt2    14.709061\n",
       "14 MSFT 1999 Qrt2    45.612228\n",
       "15 MSFT 2000 Qrt2    35.338153\n",
       "16 GOOG 1998 Qrt2    57.264201\n",
       "17 GOOG 1999 Qrt2    33.452259\n",
       "18 GOOG 2000 Qrt2    13.192877\n",
       "19 AAPL 1998 Qrt3    44.811831\n",
       "20 AAPL 1999 Qrt3    16.900682\n",
       "21 AAPL 2000 Qrt3    74.459962\n",
       "22 MSFT 1998 Qrt3    66.300162\n",
       "23 MSFT 1999 Qrt3    37.154173\n",
       "24 MSFT 2000 Qrt3    80.833013\n",
       "25 GOOG 1998 Qrt3    46.425789\n",
       "26 GOOG 1999 Qrt3    65.892759\n",
       "27 GOOG 2000 Qrt3    41.643817\n",
       "28 AAPL 1998 Qrt4    88.826781\n",
       "29 AAPL 1999 Qrt4    51.054844\n",
       "30 AAPL 2000 Qrt4    37.384673\n",
       "31 MSFT 1998 Qrt4    77.823726\n",
       "32 MSFT 1999 Qrt4    62.129490\n",
       "33 MSFT 2000 Qrt4    22.328869\n",
       "34 GOOG 1998 Qrt4    90.601097\n",
       "35 GOOG 1999 Qrt4    28.038024\n",
       "36 GOOG 2000 Qrt4    79.125440"
      ]
     },
     "metadata": {},
     "output_type": "display_data"
    }
   ],
   "source": [
    "dfnew <-gather(df,Quarter,Revenue,Qrt1:Qrt4)\n",
    "# dfnew <- df %>% gather(Quarter,Revenue,Qrt1:Qrt4) We can also use the pipe operator if we want\n",
    "dfnew"
   ]
  },
  {
   "cell_type": "markdown",
   "metadata": {},
   "source": [
    "We see that all the quarter values are now cells! This can be very powerful when you may want to turn your data into a time series!"
   ]
  },
  {
   "cell_type": "code",
   "execution_count": 38,
   "metadata": {},
   "outputs": [
    {
     "data": {
      "text/html": [
       "<table>\n",
       "<caption>A data.frame: 36 × 4</caption>\n",
       "<thead>\n",
       "\t<tr><th scope=col>comp</th><th scope=col>year</th><th scope=col>Quarter</th><th scope=col>Revenue</th></tr>\n",
       "\t<tr><th scope=col>&lt;fct&gt;</th><th scope=col>&lt;dbl&gt;</th><th scope=col>&lt;chr&gt;</th><th scope=col>&lt;dbl&gt;</th></tr>\n",
       "</thead>\n",
       "<tbody>\n",
       "\t<tr><td>AAPL</td><td>1998</td><td>Qrt1</td><td>38.289722</td></tr>\n",
       "\t<tr><td>AAPL</td><td>1998</td><td>Qrt2</td><td>52.238457</td></tr>\n",
       "\t<tr><td>AAPL</td><td>1998</td><td>Qrt3</td><td>44.811831</td></tr>\n",
       "\t<tr><td>AAPL</td><td>1998</td><td>Qrt4</td><td>88.826781</td></tr>\n",
       "\t<tr><td>AAPL</td><td>1999</td><td>Qrt1</td><td>61.278695</td></tr>\n",
       "\t<tr><td>AAPL</td><td>1999</td><td>Qrt2</td><td>47.018020</td></tr>\n",
       "\t<tr><td>AAPL</td><td>1999</td><td>Qrt3</td><td>16.900682</td></tr>\n",
       "\t<tr><td>AAPL</td><td>1999</td><td>Qrt4</td><td>51.054844</td></tr>\n",
       "\t<tr><td>AAPL</td><td>2000</td><td>Qrt1</td><td>88.658062</td></tr>\n",
       "\t<tr><td>AAPL</td><td>2000</td><td>Qrt2</td><td>41.823789</td></tr>\n",
       "\t<tr><td>AAPL</td><td>2000</td><td>Qrt3</td><td>74.459962</td></tr>\n",
       "\t<tr><td>AAPL</td><td>2000</td><td>Qrt4</td><td>37.384673</td></tr>\n",
       "\t<tr><td>GOOG</td><td>1998</td><td>Qrt1</td><td>38.093017</td></tr>\n",
       "\t<tr><td>GOOG</td><td>1998</td><td>Qrt2</td><td>57.264201</td></tr>\n",
       "\t<tr><td>GOOG</td><td>1998</td><td>Qrt3</td><td>46.425789</td></tr>\n",
       "\t<tr><td>GOOG</td><td>1998</td><td>Qrt4</td><td>90.601097</td></tr>\n",
       "\t<tr><td>GOOG</td><td>1999</td><td>Qrt1</td><td>21.026195</td></tr>\n",
       "\t<tr><td>GOOG</td><td>1999</td><td>Qrt2</td><td>33.452259</td></tr>\n",
       "\t<tr><td>GOOG</td><td>1999</td><td>Qrt3</td><td>65.892759</td></tr>\n",
       "\t<tr><td>GOOG</td><td>1999</td><td>Qrt4</td><td>28.038024</td></tr>\n",
       "\t<tr><td>GOOG</td><td>2000</td><td>Qrt1</td><td> 6.846886</td></tr>\n",
       "\t<tr><td>GOOG</td><td>2000</td><td>Qrt2</td><td>13.192877</td></tr>\n",
       "\t<tr><td>GOOG</td><td>2000</td><td>Qrt3</td><td>41.643817</td></tr>\n",
       "\t<tr><td>GOOG</td><td>2000</td><td>Qrt4</td><td>79.125440</td></tr>\n",
       "\t<tr><td>MSFT</td><td>1998</td><td>Qrt1</td><td>53.469995</td></tr>\n",
       "\t<tr><td>MSFT</td><td>1998</td><td>Qrt2</td><td>14.709061</td></tr>\n",
       "\t<tr><td>MSFT</td><td>1998</td><td>Qrt3</td><td>66.300162</td></tr>\n",
       "\t<tr><td>MSFT</td><td>1998</td><td>Qrt4</td><td>77.823726</td></tr>\n",
       "\t<tr><td>MSFT</td><td>1999</td><td>Qrt1</td><td>62.376601</td></tr>\n",
       "\t<tr><td>MSFT</td><td>1999</td><td>Qrt2</td><td>45.612228</td></tr>\n",
       "\t<tr><td>MSFT</td><td>1999</td><td>Qrt3</td><td>37.154173</td></tr>\n",
       "\t<tr><td>MSFT</td><td>1999</td><td>Qrt4</td><td>62.129490</td></tr>\n",
       "\t<tr><td>MSFT</td><td>2000</td><td>Qrt1</td><td>60.255630</td></tr>\n",
       "\t<tr><td>MSFT</td><td>2000</td><td>Qrt2</td><td>35.338153</td></tr>\n",
       "\t<tr><td>MSFT</td><td>2000</td><td>Qrt3</td><td>80.833013</td></tr>\n",
       "\t<tr><td>MSFT</td><td>2000</td><td>Qrt4</td><td>22.328869</td></tr>\n",
       "</tbody>\n",
       "</table>\n"
      ],
      "text/latex": [
       "A data.frame: 36 × 4\n",
       "\\begin{tabular}{llll}\n",
       " comp & year & Quarter & Revenue\\\\\n",
       " <fct> & <dbl> & <chr> & <dbl>\\\\\n",
       "\\hline\n",
       "\t AAPL & 1998 & Qrt1 & 38.289722\\\\\n",
       "\t AAPL & 1998 & Qrt2 & 52.238457\\\\\n",
       "\t AAPL & 1998 & Qrt3 & 44.811831\\\\\n",
       "\t AAPL & 1998 & Qrt4 & 88.826781\\\\\n",
       "\t AAPL & 1999 & Qrt1 & 61.278695\\\\\n",
       "\t AAPL & 1999 & Qrt2 & 47.018020\\\\\n",
       "\t AAPL & 1999 & Qrt3 & 16.900682\\\\\n",
       "\t AAPL & 1999 & Qrt4 & 51.054844\\\\\n",
       "\t AAPL & 2000 & Qrt1 & 88.658062\\\\\n",
       "\t AAPL & 2000 & Qrt2 & 41.823789\\\\\n",
       "\t AAPL & 2000 & Qrt3 & 74.459962\\\\\n",
       "\t AAPL & 2000 & Qrt4 & 37.384673\\\\\n",
       "\t GOOG & 1998 & Qrt1 & 38.093017\\\\\n",
       "\t GOOG & 1998 & Qrt2 & 57.264201\\\\\n",
       "\t GOOG & 1998 & Qrt3 & 46.425789\\\\\n",
       "\t GOOG & 1998 & Qrt4 & 90.601097\\\\\n",
       "\t GOOG & 1999 & Qrt1 & 21.026195\\\\\n",
       "\t GOOG & 1999 & Qrt2 & 33.452259\\\\\n",
       "\t GOOG & 1999 & Qrt3 & 65.892759\\\\\n",
       "\t GOOG & 1999 & Qrt4 & 28.038024\\\\\n",
       "\t GOOG & 2000 & Qrt1 &  6.846886\\\\\n",
       "\t GOOG & 2000 & Qrt2 & 13.192877\\\\\n",
       "\t GOOG & 2000 & Qrt3 & 41.643817\\\\\n",
       "\t GOOG & 2000 & Qrt4 & 79.125440\\\\\n",
       "\t MSFT & 1998 & Qrt1 & 53.469995\\\\\n",
       "\t MSFT & 1998 & Qrt2 & 14.709061\\\\\n",
       "\t MSFT & 1998 & Qrt3 & 66.300162\\\\\n",
       "\t MSFT & 1998 & Qrt4 & 77.823726\\\\\n",
       "\t MSFT & 1999 & Qrt1 & 62.376601\\\\\n",
       "\t MSFT & 1999 & Qrt2 & 45.612228\\\\\n",
       "\t MSFT & 1999 & Qrt3 & 37.154173\\\\\n",
       "\t MSFT & 1999 & Qrt4 & 62.129490\\\\\n",
       "\t MSFT & 2000 & Qrt1 & 60.255630\\\\\n",
       "\t MSFT & 2000 & Qrt2 & 35.338153\\\\\n",
       "\t MSFT & 2000 & Qrt3 & 80.833013\\\\\n",
       "\t MSFT & 2000 & Qrt4 & 22.328869\\\\\n",
       "\\end{tabular}\n"
      ],
      "text/markdown": [
       "\n",
       "A data.frame: 36 × 4\n",
       "\n",
       "| comp &lt;fct&gt; | year &lt;dbl&gt; | Quarter &lt;chr&gt; | Revenue &lt;dbl&gt; |\n",
       "|---|---|---|---|\n",
       "| AAPL | 1998 | Qrt1 | 38.289722 |\n",
       "| AAPL | 1998 | Qrt2 | 52.238457 |\n",
       "| AAPL | 1998 | Qrt3 | 44.811831 |\n",
       "| AAPL | 1998 | Qrt4 | 88.826781 |\n",
       "| AAPL | 1999 | Qrt1 | 61.278695 |\n",
       "| AAPL | 1999 | Qrt2 | 47.018020 |\n",
       "| AAPL | 1999 | Qrt3 | 16.900682 |\n",
       "| AAPL | 1999 | Qrt4 | 51.054844 |\n",
       "| AAPL | 2000 | Qrt1 | 88.658062 |\n",
       "| AAPL | 2000 | Qrt2 | 41.823789 |\n",
       "| AAPL | 2000 | Qrt3 | 74.459962 |\n",
       "| AAPL | 2000 | Qrt4 | 37.384673 |\n",
       "| GOOG | 1998 | Qrt1 | 38.093017 |\n",
       "| GOOG | 1998 | Qrt2 | 57.264201 |\n",
       "| GOOG | 1998 | Qrt3 | 46.425789 |\n",
       "| GOOG | 1998 | Qrt4 | 90.601097 |\n",
       "| GOOG | 1999 | Qrt1 | 21.026195 |\n",
       "| GOOG | 1999 | Qrt2 | 33.452259 |\n",
       "| GOOG | 1999 | Qrt3 | 65.892759 |\n",
       "| GOOG | 1999 | Qrt4 | 28.038024 |\n",
       "| GOOG | 2000 | Qrt1 |  6.846886 |\n",
       "| GOOG | 2000 | Qrt2 | 13.192877 |\n",
       "| GOOG | 2000 | Qrt3 | 41.643817 |\n",
       "| GOOG | 2000 | Qrt4 | 79.125440 |\n",
       "| MSFT | 1998 | Qrt1 | 53.469995 |\n",
       "| MSFT | 1998 | Qrt2 | 14.709061 |\n",
       "| MSFT | 1998 | Qrt3 | 66.300162 |\n",
       "| MSFT | 1998 | Qrt4 | 77.823726 |\n",
       "| MSFT | 1999 | Qrt1 | 62.376601 |\n",
       "| MSFT | 1999 | Qrt2 | 45.612228 |\n",
       "| MSFT | 1999 | Qrt3 | 37.154173 |\n",
       "| MSFT | 1999 | Qrt4 | 62.129490 |\n",
       "| MSFT | 2000 | Qrt1 | 60.255630 |\n",
       "| MSFT | 2000 | Qrt2 | 35.338153 |\n",
       "| MSFT | 2000 | Qrt3 | 80.833013 |\n",
       "| MSFT | 2000 | Qrt4 | 22.328869 |\n",
       "\n"
      ],
      "text/plain": [
       "   comp year Quarter Revenue  \n",
       "1  AAPL 1998 Qrt1    38.289722\n",
       "2  AAPL 1998 Qrt2    52.238457\n",
       "3  AAPL 1998 Qrt3    44.811831\n",
       "4  AAPL 1998 Qrt4    88.826781\n",
       "5  AAPL 1999 Qrt1    61.278695\n",
       "6  AAPL 1999 Qrt2    47.018020\n",
       "7  AAPL 1999 Qrt3    16.900682\n",
       "8  AAPL 1999 Qrt4    51.054844\n",
       "9  AAPL 2000 Qrt1    88.658062\n",
       "10 AAPL 2000 Qrt2    41.823789\n",
       "11 AAPL 2000 Qrt3    74.459962\n",
       "12 AAPL 2000 Qrt4    37.384673\n",
       "13 GOOG 1998 Qrt1    38.093017\n",
       "14 GOOG 1998 Qrt2    57.264201\n",
       "15 GOOG 1998 Qrt3    46.425789\n",
       "16 GOOG 1998 Qrt4    90.601097\n",
       "17 GOOG 1999 Qrt1    21.026195\n",
       "18 GOOG 1999 Qrt2    33.452259\n",
       "19 GOOG 1999 Qrt3    65.892759\n",
       "20 GOOG 1999 Qrt4    28.038024\n",
       "21 GOOG 2000 Qrt1     6.846886\n",
       "22 GOOG 2000 Qrt2    13.192877\n",
       "23 GOOG 2000 Qrt3    41.643817\n",
       "24 GOOG 2000 Qrt4    79.125440\n",
       "25 MSFT 1998 Qrt1    53.469995\n",
       "26 MSFT 1998 Qrt2    14.709061\n",
       "27 MSFT 1998 Qrt3    66.300162\n",
       "28 MSFT 1998 Qrt4    77.823726\n",
       "29 MSFT 1999 Qrt1    62.376601\n",
       "30 MSFT 1999 Qrt2    45.612228\n",
       "31 MSFT 1999 Qrt3    37.154173\n",
       "32 MSFT 1999 Qrt4    62.129490\n",
       "33 MSFT 2000 Qrt1    60.255630\n",
       "34 MSFT 2000 Qrt2    35.338153\n",
       "35 MSFT 2000 Qrt3    80.833013\n",
       "36 MSFT 2000 Qrt4    22.328869"
      ]
     },
     "metadata": {},
     "output_type": "display_data"
    }
   ],
   "source": [
    "arrange(dfnew, comp,year,Quarter) # We can now sort the data by year and quarter using arrange!"
   ]
  },
  {
   "cell_type": "markdown",
   "metadata": {},
   "source": [
    "## spread()\n",
    "\n",
    "spread() is the compliment of gather, where it will take unique cell values and add them to a unique column"
   ]
  },
  {
   "cell_type": "code",
   "execution_count": 39,
   "metadata": {},
   "outputs": [
    {
     "data": {
      "text/html": [
       "<table>\n",
       "<caption>A data.frame: 10 × 4</caption>\n",
       "<thead>\n",
       "\t<tr><th scope=col>time</th><th scope=col>X</th><th scope=col>Y</th><th scope=col>Z</th></tr>\n",
       "\t<tr><th scope=col>&lt;date&gt;</th><th scope=col>&lt;dbl&gt;</th><th scope=col>&lt;dbl&gt;</th><th scope=col>&lt;dbl&gt;</th></tr>\n",
       "</thead>\n",
       "<tbody>\n",
       "\t<tr><td>2009-01-01</td><td> 1.8194235</td><td>-2.6174233</td><td>-4.3081968</td></tr>\n",
       "\t<tr><td>2009-01-02</td><td> 0.3202275</td><td> 0.9979545</td><td> 7.8630150</td></tr>\n",
       "\t<tr><td>2009-01-03</td><td> 0.4859322</td><td> 0.5618616</td><td> 3.9449175</td></tr>\n",
       "\t<tr><td>2009-01-04</td><td>-0.3472513</td><td> 1.9344414</td><td> 0.2027666</td></tr>\n",
       "\t<tr><td>2009-01-05</td><td>-0.2249820</td><td> 1.4273329</td><td> 4.6042848</td></tr>\n",
       "\t<tr><td>2009-01-06</td><td>-1.6003560</td><td>-2.5515219</td><td>-3.6646246</td></tr>\n",
       "\t<tr><td>2009-01-07</td><td>-0.5982273</td><td>-1.2490334</td><td> 1.7425351</td></tr>\n",
       "\t<tr><td>2009-01-08</td><td> 0.9870408</td><td> 2.0218054</td><td>-1.4892086</td></tr>\n",
       "\t<tr><td>2009-01-09</td><td> 1.1778108</td><td> 0.3066746</td><td>-1.9942684</td></tr>\n",
       "\t<tr><td>2009-01-10</td><td> 0.2733784</td><td> 2.2359184</td><td> 0.1233782</td></tr>\n",
       "</tbody>\n",
       "</table>\n"
      ],
      "text/latex": [
       "A data.frame: 10 × 4\n",
       "\\begin{tabular}{llll}\n",
       " time & X & Y & Z\\\\\n",
       " <date> & <dbl> & <dbl> & <dbl>\\\\\n",
       "\\hline\n",
       "\t 2009-01-01 &  1.8194235 & -2.6174233 & -4.3081968\\\\\n",
       "\t 2009-01-02 &  0.3202275 &  0.9979545 &  7.8630150\\\\\n",
       "\t 2009-01-03 &  0.4859322 &  0.5618616 &  3.9449175\\\\\n",
       "\t 2009-01-04 & -0.3472513 &  1.9344414 &  0.2027666\\\\\n",
       "\t 2009-01-05 & -0.2249820 &  1.4273329 &  4.6042848\\\\\n",
       "\t 2009-01-06 & -1.6003560 & -2.5515219 & -3.6646246\\\\\n",
       "\t 2009-01-07 & -0.5982273 & -1.2490334 &  1.7425351\\\\\n",
       "\t 2009-01-08 &  0.9870408 &  2.0218054 & -1.4892086\\\\\n",
       "\t 2009-01-09 &  1.1778108 &  0.3066746 & -1.9942684\\\\\n",
       "\t 2009-01-10 &  0.2733784 &  2.2359184 &  0.1233782\\\\\n",
       "\\end{tabular}\n"
      ],
      "text/markdown": [
       "\n",
       "A data.frame: 10 × 4\n",
       "\n",
       "| time &lt;date&gt; | X &lt;dbl&gt; | Y &lt;dbl&gt; | Z &lt;dbl&gt; |\n",
       "|---|---|---|---|\n",
       "| 2009-01-01 |  1.8194235 | -2.6174233 | -4.3081968 |\n",
       "| 2009-01-02 |  0.3202275 |  0.9979545 |  7.8630150 |\n",
       "| 2009-01-03 |  0.4859322 |  0.5618616 |  3.9449175 |\n",
       "| 2009-01-04 | -0.3472513 |  1.9344414 |  0.2027666 |\n",
       "| 2009-01-05 | -0.2249820 |  1.4273329 |  4.6042848 |\n",
       "| 2009-01-06 | -1.6003560 | -2.5515219 | -3.6646246 |\n",
       "| 2009-01-07 | -0.5982273 | -1.2490334 |  1.7425351 |\n",
       "| 2009-01-08 |  0.9870408 |  2.0218054 | -1.4892086 |\n",
       "| 2009-01-09 |  1.1778108 |  0.3066746 | -1.9942684 |\n",
       "| 2009-01-10 |  0.2733784 |  2.2359184 |  0.1233782 |\n",
       "\n"
      ],
      "text/plain": [
       "   time       X          Y          Z         \n",
       "1  2009-01-01  1.8194235 -2.6174233 -4.3081968\n",
       "2  2009-01-02  0.3202275  0.9979545  7.8630150\n",
       "3  2009-01-03  0.4859322  0.5618616  3.9449175\n",
       "4  2009-01-04 -0.3472513  1.9344414  0.2027666\n",
       "5  2009-01-05 -0.2249820  1.4273329  4.6042848\n",
       "6  2009-01-06 -1.6003560 -2.5515219 -3.6646246\n",
       "7  2009-01-07 -0.5982273 -1.2490334  1.7425351\n",
       "8  2009-01-08  0.9870408  2.0218054 -1.4892086\n",
       "9  2009-01-09  1.1778108  0.3066746 -1.9942684\n",
       "10 2009-01-10  0.2733784  2.2359184  0.1233782"
      ]
     },
     "metadata": {},
     "output_type": "display_data"
    }
   ],
   "source": [
    "stocks <- data.frame(\n",
    "    time = as.Date('2009-01-01') + 0:9,\n",
    "    X = rnorm(10, 0, 1),\n",
    "    Y = rnorm(10, 0, 2),\n",
    "    Z = rnorm(10, 0, 4)\n",
    ")\n",
    "stocks"
   ]
  },
  {
   "cell_type": "code",
   "execution_count": 40,
   "metadata": {},
   "outputs": [],
   "source": [
    "stocks.gathered <- stocks %>% gather(stock,prices, X,Y,Z)"
   ]
  },
  {
   "cell_type": "code",
   "execution_count": 41,
   "metadata": {},
   "outputs": [
    {
     "data": {
      "text/html": [
       "<table>\n",
       "<caption>A data.frame: 30 × 3</caption>\n",
       "<thead>\n",
       "\t<tr><th scope=col>time</th><th scope=col>stock</th><th scope=col>prices</th></tr>\n",
       "\t<tr><th scope=col>&lt;date&gt;</th><th scope=col>&lt;chr&gt;</th><th scope=col>&lt;dbl&gt;</th></tr>\n",
       "</thead>\n",
       "<tbody>\n",
       "\t<tr><td>2009-01-01</td><td>X</td><td> 1.8194235</td></tr>\n",
       "\t<tr><td>2009-01-02</td><td>X</td><td> 0.3202275</td></tr>\n",
       "\t<tr><td>2009-01-03</td><td>X</td><td> 0.4859322</td></tr>\n",
       "\t<tr><td>2009-01-04</td><td>X</td><td>-0.3472513</td></tr>\n",
       "\t<tr><td>2009-01-05</td><td>X</td><td>-0.2249820</td></tr>\n",
       "\t<tr><td>2009-01-06</td><td>X</td><td>-1.6003560</td></tr>\n",
       "\t<tr><td>2009-01-07</td><td>X</td><td>-0.5982273</td></tr>\n",
       "\t<tr><td>2009-01-08</td><td>X</td><td> 0.9870408</td></tr>\n",
       "\t<tr><td>2009-01-09</td><td>X</td><td> 1.1778108</td></tr>\n",
       "\t<tr><td>2009-01-10</td><td>X</td><td> 0.2733784</td></tr>\n",
       "\t<tr><td>2009-01-01</td><td>Y</td><td>-2.6174233</td></tr>\n",
       "\t<tr><td>2009-01-02</td><td>Y</td><td> 0.9979545</td></tr>\n",
       "\t<tr><td>2009-01-03</td><td>Y</td><td> 0.5618616</td></tr>\n",
       "\t<tr><td>2009-01-04</td><td>Y</td><td> 1.9344414</td></tr>\n",
       "\t<tr><td>2009-01-05</td><td>Y</td><td> 1.4273329</td></tr>\n",
       "\t<tr><td>2009-01-06</td><td>Y</td><td>-2.5515219</td></tr>\n",
       "\t<tr><td>2009-01-07</td><td>Y</td><td>-1.2490334</td></tr>\n",
       "\t<tr><td>2009-01-08</td><td>Y</td><td> 2.0218054</td></tr>\n",
       "\t<tr><td>2009-01-09</td><td>Y</td><td> 0.3066746</td></tr>\n",
       "\t<tr><td>2009-01-10</td><td>Y</td><td> 2.2359184</td></tr>\n",
       "\t<tr><td>2009-01-01</td><td>Z</td><td>-4.3081968</td></tr>\n",
       "\t<tr><td>2009-01-02</td><td>Z</td><td> 7.8630150</td></tr>\n",
       "\t<tr><td>2009-01-03</td><td>Z</td><td> 3.9449175</td></tr>\n",
       "\t<tr><td>2009-01-04</td><td>Z</td><td> 0.2027666</td></tr>\n",
       "\t<tr><td>2009-01-05</td><td>Z</td><td> 4.6042848</td></tr>\n",
       "\t<tr><td>2009-01-06</td><td>Z</td><td>-3.6646246</td></tr>\n",
       "\t<tr><td>2009-01-07</td><td>Z</td><td> 1.7425351</td></tr>\n",
       "\t<tr><td>2009-01-08</td><td>Z</td><td>-1.4892086</td></tr>\n",
       "\t<tr><td>2009-01-09</td><td>Z</td><td>-1.9942684</td></tr>\n",
       "\t<tr><td>2009-01-10</td><td>Z</td><td> 0.1233782</td></tr>\n",
       "</tbody>\n",
       "</table>\n"
      ],
      "text/latex": [
       "A data.frame: 30 × 3\n",
       "\\begin{tabular}{lll}\n",
       " time & stock & prices\\\\\n",
       " <date> & <chr> & <dbl>\\\\\n",
       "\\hline\n",
       "\t 2009-01-01 & X &  1.8194235\\\\\n",
       "\t 2009-01-02 & X &  0.3202275\\\\\n",
       "\t 2009-01-03 & X &  0.4859322\\\\\n",
       "\t 2009-01-04 & X & -0.3472513\\\\\n",
       "\t 2009-01-05 & X & -0.2249820\\\\\n",
       "\t 2009-01-06 & X & -1.6003560\\\\\n",
       "\t 2009-01-07 & X & -0.5982273\\\\\n",
       "\t 2009-01-08 & X &  0.9870408\\\\\n",
       "\t 2009-01-09 & X &  1.1778108\\\\\n",
       "\t 2009-01-10 & X &  0.2733784\\\\\n",
       "\t 2009-01-01 & Y & -2.6174233\\\\\n",
       "\t 2009-01-02 & Y &  0.9979545\\\\\n",
       "\t 2009-01-03 & Y &  0.5618616\\\\\n",
       "\t 2009-01-04 & Y &  1.9344414\\\\\n",
       "\t 2009-01-05 & Y &  1.4273329\\\\\n",
       "\t 2009-01-06 & Y & -2.5515219\\\\\n",
       "\t 2009-01-07 & Y & -1.2490334\\\\\n",
       "\t 2009-01-08 & Y &  2.0218054\\\\\n",
       "\t 2009-01-09 & Y &  0.3066746\\\\\n",
       "\t 2009-01-10 & Y &  2.2359184\\\\\n",
       "\t 2009-01-01 & Z & -4.3081968\\\\\n",
       "\t 2009-01-02 & Z &  7.8630150\\\\\n",
       "\t 2009-01-03 & Z &  3.9449175\\\\\n",
       "\t 2009-01-04 & Z &  0.2027666\\\\\n",
       "\t 2009-01-05 & Z &  4.6042848\\\\\n",
       "\t 2009-01-06 & Z & -3.6646246\\\\\n",
       "\t 2009-01-07 & Z &  1.7425351\\\\\n",
       "\t 2009-01-08 & Z & -1.4892086\\\\\n",
       "\t 2009-01-09 & Z & -1.9942684\\\\\n",
       "\t 2009-01-10 & Z &  0.1233782\\\\\n",
       "\\end{tabular}\n"
      ],
      "text/markdown": [
       "\n",
       "A data.frame: 30 × 3\n",
       "\n",
       "| time &lt;date&gt; | stock &lt;chr&gt; | prices &lt;dbl&gt; |\n",
       "|---|---|---|\n",
       "| 2009-01-01 | X |  1.8194235 |\n",
       "| 2009-01-02 | X |  0.3202275 |\n",
       "| 2009-01-03 | X |  0.4859322 |\n",
       "| 2009-01-04 | X | -0.3472513 |\n",
       "| 2009-01-05 | X | -0.2249820 |\n",
       "| 2009-01-06 | X | -1.6003560 |\n",
       "| 2009-01-07 | X | -0.5982273 |\n",
       "| 2009-01-08 | X |  0.9870408 |\n",
       "| 2009-01-09 | X |  1.1778108 |\n",
       "| 2009-01-10 | X |  0.2733784 |\n",
       "| 2009-01-01 | Y | -2.6174233 |\n",
       "| 2009-01-02 | Y |  0.9979545 |\n",
       "| 2009-01-03 | Y |  0.5618616 |\n",
       "| 2009-01-04 | Y |  1.9344414 |\n",
       "| 2009-01-05 | Y |  1.4273329 |\n",
       "| 2009-01-06 | Y | -2.5515219 |\n",
       "| 2009-01-07 | Y | -1.2490334 |\n",
       "| 2009-01-08 | Y |  2.0218054 |\n",
       "| 2009-01-09 | Y |  0.3066746 |\n",
       "| 2009-01-10 | Y |  2.2359184 |\n",
       "| 2009-01-01 | Z | -4.3081968 |\n",
       "| 2009-01-02 | Z |  7.8630150 |\n",
       "| 2009-01-03 | Z |  3.9449175 |\n",
       "| 2009-01-04 | Z |  0.2027666 |\n",
       "| 2009-01-05 | Z |  4.6042848 |\n",
       "| 2009-01-06 | Z | -3.6646246 |\n",
       "| 2009-01-07 | Z |  1.7425351 |\n",
       "| 2009-01-08 | Z | -1.4892086 |\n",
       "| 2009-01-09 | Z | -1.9942684 |\n",
       "| 2009-01-10 | Z |  0.1233782 |\n",
       "\n"
      ],
      "text/plain": [
       "   time       stock prices    \n",
       "1  2009-01-01 X      1.8194235\n",
       "2  2009-01-02 X      0.3202275\n",
       "3  2009-01-03 X      0.4859322\n",
       "4  2009-01-04 X     -0.3472513\n",
       "5  2009-01-05 X     -0.2249820\n",
       "6  2009-01-06 X     -1.6003560\n",
       "7  2009-01-07 X     -0.5982273\n",
       "8  2009-01-08 X      0.9870408\n",
       "9  2009-01-09 X      1.1778108\n",
       "10 2009-01-10 X      0.2733784\n",
       "11 2009-01-01 Y     -2.6174233\n",
       "12 2009-01-02 Y      0.9979545\n",
       "13 2009-01-03 Y      0.5618616\n",
       "14 2009-01-04 Y      1.9344414\n",
       "15 2009-01-05 Y      1.4273329\n",
       "16 2009-01-06 Y     -2.5515219\n",
       "17 2009-01-07 Y     -1.2490334\n",
       "18 2009-01-08 Y      2.0218054\n",
       "19 2009-01-09 Y      0.3066746\n",
       "20 2009-01-10 Y      2.2359184\n",
       "21 2009-01-01 Z     -4.3081968\n",
       "22 2009-01-02 Z      7.8630150\n",
       "23 2009-01-03 Z      3.9449175\n",
       "24 2009-01-04 Z      0.2027666\n",
       "25 2009-01-05 Z      4.6042848\n",
       "26 2009-01-06 Z     -3.6646246\n",
       "27 2009-01-07 Z      1.7425351\n",
       "28 2009-01-08 Z     -1.4892086\n",
       "29 2009-01-09 Z     -1.9942684\n",
       "30 2009-01-10 Z      0.1233782"
      ]
     },
     "metadata": {},
     "output_type": "display_data"
    }
   ],
   "source": [
    "stocks.gathered"
   ]
  },
  {
   "cell_type": "code",
   "execution_count": 42,
   "metadata": {},
   "outputs": [
    {
     "data": {
      "text/html": [
       "<table>\n",
       "<caption>A data.frame: 10 × 4</caption>\n",
       "<thead>\n",
       "\t<tr><th scope=col>time</th><th scope=col>X</th><th scope=col>Y</th><th scope=col>Z</th></tr>\n",
       "\t<tr><th scope=col>&lt;date&gt;</th><th scope=col>&lt;dbl&gt;</th><th scope=col>&lt;dbl&gt;</th><th scope=col>&lt;dbl&gt;</th></tr>\n",
       "</thead>\n",
       "<tbody>\n",
       "\t<tr><td>2009-01-01</td><td> 1.8194235</td><td>-2.6174233</td><td>-4.3081968</td></tr>\n",
       "\t<tr><td>2009-01-02</td><td> 0.3202275</td><td> 0.9979545</td><td> 7.8630150</td></tr>\n",
       "\t<tr><td>2009-01-03</td><td> 0.4859322</td><td> 0.5618616</td><td> 3.9449175</td></tr>\n",
       "\t<tr><td>2009-01-04</td><td>-0.3472513</td><td> 1.9344414</td><td> 0.2027666</td></tr>\n",
       "\t<tr><td>2009-01-05</td><td>-0.2249820</td><td> 1.4273329</td><td> 4.6042848</td></tr>\n",
       "\t<tr><td>2009-01-06</td><td>-1.6003560</td><td>-2.5515219</td><td>-3.6646246</td></tr>\n",
       "\t<tr><td>2009-01-07</td><td>-0.5982273</td><td>-1.2490334</td><td> 1.7425351</td></tr>\n",
       "\t<tr><td>2009-01-08</td><td> 0.9870408</td><td> 2.0218054</td><td>-1.4892086</td></tr>\n",
       "\t<tr><td>2009-01-09</td><td> 1.1778108</td><td> 0.3066746</td><td>-1.9942684</td></tr>\n",
       "\t<tr><td>2009-01-10</td><td> 0.2733784</td><td> 2.2359184</td><td> 0.1233782</td></tr>\n",
       "</tbody>\n",
       "</table>\n"
      ],
      "text/latex": [
       "A data.frame: 10 × 4\n",
       "\\begin{tabular}{llll}\n",
       " time & X & Y & Z\\\\\n",
       " <date> & <dbl> & <dbl> & <dbl>\\\\\n",
       "\\hline\n",
       "\t 2009-01-01 &  1.8194235 & -2.6174233 & -4.3081968\\\\\n",
       "\t 2009-01-02 &  0.3202275 &  0.9979545 &  7.8630150\\\\\n",
       "\t 2009-01-03 &  0.4859322 &  0.5618616 &  3.9449175\\\\\n",
       "\t 2009-01-04 & -0.3472513 &  1.9344414 &  0.2027666\\\\\n",
       "\t 2009-01-05 & -0.2249820 &  1.4273329 &  4.6042848\\\\\n",
       "\t 2009-01-06 & -1.6003560 & -2.5515219 & -3.6646246\\\\\n",
       "\t 2009-01-07 & -0.5982273 & -1.2490334 &  1.7425351\\\\\n",
       "\t 2009-01-08 &  0.9870408 &  2.0218054 & -1.4892086\\\\\n",
       "\t 2009-01-09 &  1.1778108 &  0.3066746 & -1.9942684\\\\\n",
       "\t 2009-01-10 &  0.2733784 &  2.2359184 &  0.1233782\\\\\n",
       "\\end{tabular}\n"
      ],
      "text/markdown": [
       "\n",
       "A data.frame: 10 × 4\n",
       "\n",
       "| time &lt;date&gt; | X &lt;dbl&gt; | Y &lt;dbl&gt; | Z &lt;dbl&gt; |\n",
       "|---|---|---|---|\n",
       "| 2009-01-01 |  1.8194235 | -2.6174233 | -4.3081968 |\n",
       "| 2009-01-02 |  0.3202275 |  0.9979545 |  7.8630150 |\n",
       "| 2009-01-03 |  0.4859322 |  0.5618616 |  3.9449175 |\n",
       "| 2009-01-04 | -0.3472513 |  1.9344414 |  0.2027666 |\n",
       "| 2009-01-05 | -0.2249820 |  1.4273329 |  4.6042848 |\n",
       "| 2009-01-06 | -1.6003560 | -2.5515219 | -3.6646246 |\n",
       "| 2009-01-07 | -0.5982273 | -1.2490334 |  1.7425351 |\n",
       "| 2009-01-08 |  0.9870408 |  2.0218054 | -1.4892086 |\n",
       "| 2009-01-09 |  1.1778108 |  0.3066746 | -1.9942684 |\n",
       "| 2009-01-10 |  0.2733784 |  2.2359184 |  0.1233782 |\n",
       "\n"
      ],
      "text/plain": [
       "   time       X          Y          Z         \n",
       "1  2009-01-01  1.8194235 -2.6174233 -4.3081968\n",
       "2  2009-01-02  0.3202275  0.9979545  7.8630150\n",
       "3  2009-01-03  0.4859322  0.5618616  3.9449175\n",
       "4  2009-01-04 -0.3472513  1.9344414  0.2027666\n",
       "5  2009-01-05 -0.2249820  1.4273329  4.6042848\n",
       "6  2009-01-06 -1.6003560 -2.5515219 -3.6646246\n",
       "7  2009-01-07 -0.5982273 -1.2490334  1.7425351\n",
       "8  2009-01-08  0.9870408  2.0218054 -1.4892086\n",
       "9  2009-01-09  1.1778108  0.3066746 -1.9942684\n",
       "10 2009-01-10  0.2733784  2.2359184  0.1233782"
      ]
     },
     "metadata": {},
     "output_type": "display_data"
    }
   ],
   "source": [
    "stocks.gathered %>% spread(stock,prices)"
   ]
  },
  {
   "cell_type": "code",
   "execution_count": 43,
   "metadata": {},
   "outputs": [
    {
     "data": {
      "text/html": [
       "<table>\n",
       "<caption>A data.frame: 12 × 5</caption>\n",
       "<thead>\n",
       "\t<tr><th scope=col>year</th><th scope=col>Quarter</th><th scope=col>AAPL</th><th scope=col>GOOG</th><th scope=col>MSFT</th></tr>\n",
       "\t<tr><th scope=col>&lt;dbl&gt;</th><th scope=col>&lt;chr&gt;</th><th scope=col>&lt;dbl&gt;</th><th scope=col>&lt;dbl&gt;</th><th scope=col>&lt;dbl&gt;</th></tr>\n",
       "</thead>\n",
       "<tbody>\n",
       "\t<tr><td>1998</td><td>Qrt1</td><td>38.28972</td><td>38.093017</td><td>53.47000</td></tr>\n",
       "\t<tr><td>1998</td><td>Qrt2</td><td>52.23846</td><td>57.264201</td><td>14.70906</td></tr>\n",
       "\t<tr><td>1998</td><td>Qrt3</td><td>44.81183</td><td>46.425789</td><td>66.30016</td></tr>\n",
       "\t<tr><td>1998</td><td>Qrt4</td><td>88.82678</td><td>90.601097</td><td>77.82373</td></tr>\n",
       "\t<tr><td>1999</td><td>Qrt1</td><td>61.27869</td><td>21.026195</td><td>62.37660</td></tr>\n",
       "\t<tr><td>1999</td><td>Qrt2</td><td>47.01802</td><td>33.452259</td><td>45.61223</td></tr>\n",
       "\t<tr><td>1999</td><td>Qrt3</td><td>16.90068</td><td>65.892759</td><td>37.15417</td></tr>\n",
       "\t<tr><td>1999</td><td>Qrt4</td><td>51.05484</td><td>28.038024</td><td>62.12949</td></tr>\n",
       "\t<tr><td>2000</td><td>Qrt1</td><td>88.65806</td><td> 6.846886</td><td>60.25563</td></tr>\n",
       "\t<tr><td>2000</td><td>Qrt2</td><td>41.82379</td><td>13.192877</td><td>35.33815</td></tr>\n",
       "\t<tr><td>2000</td><td>Qrt3</td><td>74.45996</td><td>41.643817</td><td>80.83301</td></tr>\n",
       "\t<tr><td>2000</td><td>Qrt4</td><td>37.38467</td><td>79.125440</td><td>22.32887</td></tr>\n",
       "</tbody>\n",
       "</table>\n"
      ],
      "text/latex": [
       "A data.frame: 12 × 5\n",
       "\\begin{tabular}{lllll}\n",
       " year & Quarter & AAPL & GOOG & MSFT\\\\\n",
       " <dbl> & <chr> & <dbl> & <dbl> & <dbl>\\\\\n",
       "\\hline\n",
       "\t 1998 & Qrt1 & 38.28972 & 38.093017 & 53.47000\\\\\n",
       "\t 1998 & Qrt2 & 52.23846 & 57.264201 & 14.70906\\\\\n",
       "\t 1998 & Qrt3 & 44.81183 & 46.425789 & 66.30016\\\\\n",
       "\t 1998 & Qrt4 & 88.82678 & 90.601097 & 77.82373\\\\\n",
       "\t 1999 & Qrt1 & 61.27869 & 21.026195 & 62.37660\\\\\n",
       "\t 1999 & Qrt2 & 47.01802 & 33.452259 & 45.61223\\\\\n",
       "\t 1999 & Qrt3 & 16.90068 & 65.892759 & 37.15417\\\\\n",
       "\t 1999 & Qrt4 & 51.05484 & 28.038024 & 62.12949\\\\\n",
       "\t 2000 & Qrt1 & 88.65806 &  6.846886 & 60.25563\\\\\n",
       "\t 2000 & Qrt2 & 41.82379 & 13.192877 & 35.33815\\\\\n",
       "\t 2000 & Qrt3 & 74.45996 & 41.643817 & 80.83301\\\\\n",
       "\t 2000 & Qrt4 & 37.38467 & 79.125440 & 22.32887\\\\\n",
       "\\end{tabular}\n"
      ],
      "text/markdown": [
       "\n",
       "A data.frame: 12 × 5\n",
       "\n",
       "| year &lt;dbl&gt; | Quarter &lt;chr&gt; | AAPL &lt;dbl&gt; | GOOG &lt;dbl&gt; | MSFT &lt;dbl&gt; |\n",
       "|---|---|---|---|---|\n",
       "| 1998 | Qrt1 | 38.28972 | 38.093017 | 53.47000 |\n",
       "| 1998 | Qrt2 | 52.23846 | 57.264201 | 14.70906 |\n",
       "| 1998 | Qrt3 | 44.81183 | 46.425789 | 66.30016 |\n",
       "| 1998 | Qrt4 | 88.82678 | 90.601097 | 77.82373 |\n",
       "| 1999 | Qrt1 | 61.27869 | 21.026195 | 62.37660 |\n",
       "| 1999 | Qrt2 | 47.01802 | 33.452259 | 45.61223 |\n",
       "| 1999 | Qrt3 | 16.90068 | 65.892759 | 37.15417 |\n",
       "| 1999 | Qrt4 | 51.05484 | 28.038024 | 62.12949 |\n",
       "| 2000 | Qrt1 | 88.65806 |  6.846886 | 60.25563 |\n",
       "| 2000 | Qrt2 | 41.82379 | 13.192877 | 35.33815 |\n",
       "| 2000 | Qrt3 | 74.45996 | 41.643817 | 80.83301 |\n",
       "| 2000 | Qrt4 | 37.38467 | 79.125440 | 22.32887 |\n",
       "\n"
      ],
      "text/plain": [
       "   year Quarter AAPL     GOOG      MSFT    \n",
       "1  1998 Qrt1    38.28972 38.093017 53.47000\n",
       "2  1998 Qrt2    52.23846 57.264201 14.70906\n",
       "3  1998 Qrt3    44.81183 46.425789 66.30016\n",
       "4  1998 Qrt4    88.82678 90.601097 77.82373\n",
       "5  1999 Qrt1    61.27869 21.026195 62.37660\n",
       "6  1999 Qrt2    47.01802 33.452259 45.61223\n",
       "7  1999 Qrt3    16.90068 65.892759 37.15417\n",
       "8  1999 Qrt4    51.05484 28.038024 62.12949\n",
       "9  2000 Qrt1    88.65806  6.846886 60.25563\n",
       "10 2000 Qrt2    41.82379 13.192877 35.33815\n",
       "11 2000 Qrt3    74.45996 41.643817 80.83301\n",
       "12 2000 Qrt4    37.38467 79.125440 22.32887"
      ]
     },
     "metadata": {},
     "output_type": "display_data"
    }
   ],
   "source": [
    "spread(dfnew,comp,Revenue)"
   ]
  },
  {
   "cell_type": "markdown",
   "metadata": {},
   "source": [
    "Look at that beautiful, tidy data!"
   ]
  },
  {
   "cell_type": "markdown",
   "metadata": {},
   "source": [
    "# separate() \n",
    "\n",
    "Separate allows us to turn a single column into multiple columns"
   ]
  },
  {
   "cell_type": "code",
   "execution_count": 49,
   "metadata": {},
   "outputs": [
    {
     "data": {
      "text/html": [
       "<table>\n",
       "<caption>A data.frame: 4 × 1</caption>\n",
       "<thead>\n",
       "\t<tr><th scope=col>new.col</th></tr>\n",
       "\t<tr><th scope=col>&lt;fct&gt;</th></tr>\n",
       "</thead>\n",
       "<tbody>\n",
       "\t<tr><td>NA </td></tr>\n",
       "\t<tr><td>a.x</td></tr>\n",
       "\t<tr><td>b.y</td></tr>\n",
       "\t<tr><td>c.z</td></tr>\n",
       "</tbody>\n",
       "</table>\n"
      ],
      "text/latex": [
       "A data.frame: 4 × 1\n",
       "\\begin{tabular}{l}\n",
       " new.col\\\\\n",
       " <fct>\\\\\n",
       "\\hline\n",
       "\t NA \\\\\n",
       "\t a.x\\\\\n",
       "\t b.y\\\\\n",
       "\t c.z\\\\\n",
       "\\end{tabular}\n"
      ],
      "text/markdown": [
       "\n",
       "A data.frame: 4 × 1\n",
       "\n",
       "| new.col &lt;fct&gt; |\n",
       "|---|\n",
       "| NA  |\n",
       "| a.x |\n",
       "| b.y |\n",
       "| c.z |\n",
       "\n"
      ],
      "text/plain": [
       "  new.col\n",
       "1 NA     \n",
       "2 a.x    \n",
       "3 b.y    \n",
       "4 c.z    "
      ]
     },
     "metadata": {},
     "output_type": "display_data"
    }
   ],
   "source": [
    "df <- data.frame(new.col=c(NA,\"a.x\",\"b.y\",\"c.z\"))\n",
    "df"
   ]
  },
  {
   "cell_type": "code",
   "execution_count": 51,
   "metadata": {},
   "outputs": [
    {
     "data": {
      "text/html": [
       "<table>\n",
       "<caption>A data.frame: 4 × 2</caption>\n",
       "<thead>\n",
       "\t<tr><th scope=col>ABC</th><th scope=col>XYZ</th></tr>\n",
       "\t<tr><th scope=col>&lt;chr&gt;</th><th scope=col>&lt;chr&gt;</th></tr>\n",
       "</thead>\n",
       "<tbody>\n",
       "\t<tr><td>NA</td><td>NA</td></tr>\n",
       "\t<tr><td>a </td><td>x </td></tr>\n",
       "\t<tr><td>b </td><td>y </td></tr>\n",
       "\t<tr><td>c </td><td>z </td></tr>\n",
       "</tbody>\n",
       "</table>\n"
      ],
      "text/latex": [
       "A data.frame: 4 × 2\n",
       "\\begin{tabular}{ll}\n",
       " ABC & XYZ\\\\\n",
       " <chr> & <chr>\\\\\n",
       "\\hline\n",
       "\t NA & NA\\\\\n",
       "\t a  & x \\\\\n",
       "\t b  & y \\\\\n",
       "\t c  & z \\\\\n",
       "\\end{tabular}\n"
      ],
      "text/markdown": [
       "\n",
       "A data.frame: 4 × 2\n",
       "\n",
       "| ABC &lt;chr&gt; | XYZ &lt;chr&gt; |\n",
       "|---|---|\n",
       "| NA | NA |\n",
       "| a  | x  |\n",
       "| b  | y  |\n",
       "| c  | z  |\n",
       "\n"
      ],
      "text/plain": [
       "  ABC XYZ\n",
       "1 NA  NA \n",
       "2 a   x  \n",
       "3 b   y  \n",
       "4 c   z  "
      ]
     },
     "metadata": {},
     "output_type": "display_data"
    }
   ],
   "source": [
    "separate(df,new.col,c('ABC',\"XYZ\"))"
   ]
  },
  {
   "cell_type": "code",
   "execution_count": 53,
   "metadata": {},
   "outputs": [
    {
     "data": {
      "text/html": [
       "<table>\n",
       "<caption>A data.frame: 4 × 1</caption>\n",
       "<thead>\n",
       "\t<tr><th scope=col>new.col</th></tr>\n",
       "\t<tr><th scope=col>&lt;fct&gt;</th></tr>\n",
       "</thead>\n",
       "<tbody>\n",
       "\t<tr><td>NA </td></tr>\n",
       "\t<tr><td>a-x</td></tr>\n",
       "\t<tr><td>b-y</td></tr>\n",
       "\t<tr><td>c-z</td></tr>\n",
       "</tbody>\n",
       "</table>\n"
      ],
      "text/latex": [
       "A data.frame: 4 × 1\n",
       "\\begin{tabular}{l}\n",
       " new.col\\\\\n",
       " <fct>\\\\\n",
       "\\hline\n",
       "\t NA \\\\\n",
       "\t a-x\\\\\n",
       "\t b-y\\\\\n",
       "\t c-z\\\\\n",
       "\\end{tabular}\n"
      ],
      "text/markdown": [
       "\n",
       "A data.frame: 4 × 1\n",
       "\n",
       "| new.col &lt;fct&gt; |\n",
       "|---|\n",
       "| NA  |\n",
       "| a-x |\n",
       "| b-y |\n",
       "| c-z |\n",
       "\n"
      ],
      "text/plain": [
       "  new.col\n",
       "1 NA     \n",
       "2 a-x    \n",
       "3 b-y    \n",
       "4 c-z    "
      ]
     },
     "metadata": {},
     "output_type": "display_data"
    }
   ],
   "source": [
    "df <- data.frame(new.col=c(NA,\"a-x\",\"b-y\",\"c-z\"))\n",
    "df"
   ]
  },
  {
   "cell_type": "code",
   "execution_count": 61,
   "metadata": {},
   "outputs": [
    {
     "data": {
      "text/html": [
       "<table>\n",
       "<caption>A data.frame: 4 × 2</caption>\n",
       "<thead>\n",
       "\t<tr><th scope=col>abc</th><th scope=col>xyz</th></tr>\n",
       "\t<tr><th scope=col>&lt;chr&gt;</th><th scope=col>&lt;chr&gt;</th></tr>\n",
       "</thead>\n",
       "<tbody>\n",
       "\t<tr><td>NA</td><td>NA</td></tr>\n",
       "\t<tr><td>a </td><td>x </td></tr>\n",
       "\t<tr><td>b </td><td>y </td></tr>\n",
       "\t<tr><td>c </td><td>z </td></tr>\n",
       "</tbody>\n",
       "</table>\n"
      ],
      "text/latex": [
       "A data.frame: 4 × 2\n",
       "\\begin{tabular}{ll}\n",
       " abc & xyz\\\\\n",
       " <chr> & <chr>\\\\\n",
       "\\hline\n",
       "\t NA & NA\\\\\n",
       "\t a  & x \\\\\n",
       "\t b  & y \\\\\n",
       "\t c  & z \\\\\n",
       "\\end{tabular}\n"
      ],
      "text/markdown": [
       "\n",
       "A data.frame: 4 × 2\n",
       "\n",
       "| abc &lt;chr&gt; | xyz &lt;chr&gt; |\n",
       "|---|---|\n",
       "| NA | NA |\n",
       "| a  | x  |\n",
       "| b  | y  |\n",
       "| c  | z  |\n",
       "\n"
      ],
      "text/plain": [
       "  abc xyz\n",
       "1 NA  NA \n",
       "2 a   x  \n",
       "3 b   y  \n",
       "4 c   z  "
      ]
     },
     "metadata": {},
     "output_type": "display_data"
    }
   ],
   "source": [
    "df.sep <- separate(data = df,col = new.col, into = c(\"abc\",\"xyz\"), sep = '-') # We don't need the dash due to character being non-alpha numeric\n",
    "df.sep"
   ]
  },
  {
   "cell_type": "markdown",
   "metadata": {},
   "source": [
    "# unite()\n",
    "\n",
    "unite() is the compliment of separate and will join multiple columns together\n"
   ]
  },
  {
   "cell_type": "code",
   "execution_count": 63,
   "metadata": {},
   "outputs": [
    {
     "data": {
      "text/html": [
       "<table>\n",
       "<caption>A data.frame: 4 × 1</caption>\n",
       "<thead>\n",
       "\t<tr><th scope=col>new.joined.column</th></tr>\n",
       "\t<tr><th scope=col>&lt;chr&gt;</th></tr>\n",
       "</thead>\n",
       "<tbody>\n",
       "\t<tr><td>NA----NA</td></tr>\n",
       "\t<tr><td>a----x  </td></tr>\n",
       "\t<tr><td>b----y  </td></tr>\n",
       "\t<tr><td>c----z  </td></tr>\n",
       "</tbody>\n",
       "</table>\n"
      ],
      "text/latex": [
       "A data.frame: 4 × 1\n",
       "\\begin{tabular}{l}\n",
       " new.joined.column\\\\\n",
       " <chr>\\\\\n",
       "\\hline\n",
       "\t NA----NA\\\\\n",
       "\t a----x  \\\\\n",
       "\t b----y  \\\\\n",
       "\t c----z  \\\\\n",
       "\\end{tabular}\n"
      ],
      "text/markdown": [
       "\n",
       "A data.frame: 4 × 1\n",
       "\n",
       "| new.joined.column &lt;chr&gt; |\n",
       "|---|\n",
       "| NA----NA |\n",
       "| a----x   |\n",
       "| b----y   |\n",
       "| c----z   |\n",
       "\n"
      ],
      "text/plain": [
       "  new.joined.column\n",
       "1 NA----NA         \n",
       "2 a----x           \n",
       "3 b----y           \n",
       "4 c----z           "
      ]
     },
     "metadata": {},
     "output_type": "display_data"
    }
   ],
   "source": [
    "unite(df.sep,new.joined.column,abc,xyz, sep = \"----\")"
   ]
  },
  {
   "cell_type": "code",
   "execution_count": null,
   "metadata": {},
   "outputs": [],
   "source": []
  }
 ],
 "metadata": {
  "kernelspec": {
   "display_name": "R",
   "language": "R",
   "name": "ir"
  },
  "language_info": {
   "codemirror_mode": "r",
   "file_extension": ".r",
   "mimetype": "text/x-r-source",
   "name": "R",
   "pygments_lexer": "r",
   "version": "3.6.1"
  }
 },
 "nbformat": 4,
 "nbformat_minor": 4
}
