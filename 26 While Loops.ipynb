{
 "cells": [
  {
   "cell_type": "markdown",
   "metadata": {},
   "source": [
    "# While Loops\n",
    "\n",
    "__While__ loops allow us to continuously run a block of code until a condition is satisfied. The syntax is: "
   ]
  },
  {
   "cell_type": "code",
   "execution_count": 1,
   "metadata": {},
   "outputs": [],
   "source": [
    "#while (condition){\n",
    "    #Execute code here \n",
    "    # while the condition is true\n",
    "#}"
   ]
  },
  {
   "cell_type": "markdown",
   "metadata": {},
   "source": [
    "A major concern when using a while loop is making sure at some point the conditon should be met, otherwise the program will run forever! If that happens to you, hold down __Crtl-C__ to kill a process in R Studio.\n",
    "\n",
    "Here's a quick side not on using the print function with strings"
   ]
  },
  {
   "cell_type": "code",
   "execution_count": 2,
   "metadata": {},
   "outputs": [
    {
     "name": "stdout",
     "output_type": "stream",
     "text": [
      "[1] \"Here is my string\"\n"
     ]
    }
   ],
   "source": [
    "print('Here is my string')"
   ]
  },
  {
   "cell_type": "markdown",
   "metadata": {},
   "source": [
    "Printing strings is easy, but maybe we want to add a variable\n",
    "\n",
    "The __cat()__ function converts the varaible to a string and allows it to be printed with other text\n"
   ]
  },
  {
   "cell_type": "code",
   "execution_count": 3,
   "metadata": {},
   "outputs": [
    {
     "name": "stdout",
     "output_type": "stream",
     "text": [
      "Hi! My name is Mike"
     ]
    }
   ],
   "source": [
    "name <- 'Mike'\n",
    "cat(\"Hi! My name is\",name)"
   ]
  },
  {
   "cell_type": "markdown",
   "metadata": {},
   "source": [
    "The same thing can also be done with numbers"
   ]
  },
  {
   "cell_type": "code",
   "execution_count": 4,
   "metadata": {},
   "outputs": [
    {
     "name": "stdout",
     "output_type": "stream",
     "text": [
      "I am 29 years old!"
     ]
    }
   ],
   "source": [
    "number <- 29\n",
    "cat('I am', number, 'years old!')"
   ]
  },
  {
   "cell_type": "markdown",
   "metadata": {},
   "source": [
    "Let's use the __cat()__ function in the next example to show us how a while loop works"
   ]
  },
  {
   "cell_type": "code",
   "execution_count": 26,
   "metadata": {},
   "outputs": [
    {
     "name": "stdout",
     "output_type": "stream",
     "text": [
      "x is currently:  0[1] \" x is still less than 10, adding 1 to x\"\n",
      "x is currently:  1[1] \" x is still less than 10, adding 1 to x\"\n",
      "x is currently:  2[1] \" x is still less than 10, adding 1 to x\"\n",
      "x is currently:  3[1] \" x is still less than 10, adding 1 to x\"\n",
      "x is currently:  4[1] \" x is still less than 10, adding 1 to x\"\n",
      "x is currently:  5[1] \" x is still less than 10, adding 1 to x\"\n",
      "x is currently:  6[1] \" x is still less than 10, adding 1 to x\"\n",
      "x is currently:  7[1] \" x is still less than 10, adding 1 to x\"\n",
      "x is currently:  8[1] \" x is still less than 10, adding 1 to x\"\n",
      "x is currently:  9[1] \" x is still less than 10, adding 1 to x\"\n"
     ]
    }
   ],
   "source": [
    "x <- 0\n",
    "\n",
    "while(x < 10){\n",
    "    \n",
    "    cat('x is currently: ',x)\n",
    "    print(' x is still less than 10, adding 1 to x')\n",
    "    \n",
    "    # add one to x\n",
    "    x <- x+1\n",
    "}"
   ]
  },
  {
   "cell_type": "markdown",
   "metadata": {},
   "source": [
    "Let's add an if statement to this logic!"
   ]
  },
  {
   "cell_type": "code",
   "execution_count": 28,
   "metadata": {},
   "outputs": [
    {
     "name": "stdout",
     "output_type": "stream",
     "text": [
      "x is currently:  0[1] \" x is still less than 10, adding 1 to x\"\n",
      "x is currently:  1[1] \" x is still less than 10, adding 1 to x\"\n",
      "x is currently:  2[1] \" x is still less than 10, adding 1 to x\"\n",
      "x is currently:  3[1] \" x is still less than 10, adding 1 to x\"\n",
      "x is currently:  4[1] \" x is still less than 10, adding 1 to x\"\n",
      "x is currently:  5[1] \" x is still less than 10, adding 1 to x\"\n",
      "x is currently:  6[1] \" x is still less than 10, adding 1 to x\"\n",
      "x is currently:  7[1] \" x is still less than 10, adding 1 to x\"\n",
      "x is currently:  8[1] \" x is still less than 10, adding 1 to x\"\n",
      "x is currently:  9[1] \" x is still less than 10, adding 1 to x\"\n",
      "[1] \"x is equal to 10! Breaking the loop\"\n"
     ]
    }
   ],
   "source": [
    "x <- 0\n",
    "\n",
    "while(x < 10){\n",
    "    \n",
    "    cat('x is currently: ',x)\n",
    "    print(' x is still less than 10, adding 1 to x')\n",
    "    \n",
    "    # add one to x\n",
    "    x <- x+1\n",
    "    if(x==10){\n",
    "        print(\"x is equal to 10! Breaking the loop\")\n",
    "    }\n",
    "}"
   ]
  },
  {
   "cell_type": "markdown",
   "metadata": {},
   "source": [
    "#break\n",
    "You can use break to break out of a loop. Previously we showed an if statement checking for 10, but this wasn't actually stopping the loop, the while condition check on the next run stopped the loop, let's show an example where we could use __break__ to terminate the loop:"
   ]
  },
  {
   "cell_type": "code",
   "execution_count": 30,
   "metadata": {},
   "outputs": [
    {
     "name": "stdout",
     "output_type": "stream",
     "text": [
      "x is currently:  0[1] \" x is still less than 10, adding 1 to x\"\n",
      "x is currently:  1[1] \" x is still less than 10, adding 1 to x\"\n",
      "x is currently:  2[1] \" x is still less than 10, adding 1 to x\"\n",
      "x is currently:  3[1] \" x is still less than 10, adding 1 to x\"\n",
      "x is currently:  4[1] \" x is still less than 10, adding 1 to x\"\n",
      "x is currently:  5[1] \" x is still less than 10, adding 1 to x\"\n",
      "x is currently:  6[1] \" x is still less than 10, adding 1 to x\"\n",
      "x is currently:  7[1] \" x is still less than 10, adding 1 to x\"\n",
      "x is currently:  8[1] \" x is still less than 10, adding 1 to x\"\n",
      "x is currently:  9[1] \" x is still less than 10, adding 1 to x\"\n",
      "[1] \"x is equal to 10!\"\n",
      "[1] \"I'm going to print too!\"\n"
     ]
    }
   ],
   "source": [
    "x <- 0\n",
    "\n",
    "while(x < 10){\n",
    "    \n",
    "    cat('x is currently: ',x)\n",
    "    print(' x is still less than 10, adding 1 to x')\n",
    "    \n",
    "    # add one to x\n",
    "    x <- x+1\n",
    "    if(x==10){\n",
    "        print(\"x is equal to 10!\")\n",
    "        print(\"I'm going to print too!\")\n",
    "    }\n",
    "}"
   ]
  },
  {
   "cell_type": "code",
   "execution_count": 32,
   "metadata": {},
   "outputs": [
    {
     "name": "stdout",
     "output_type": "stream",
     "text": [
      "x is currently:  0[1] \" x is still less than 10, adding 1 to x\"\n",
      "x is currently:  1[1] \" x is still less than 10, adding 1 to x\"\n",
      "x is currently:  2[1] \" x is still less than 10, adding 1 to x\"\n",
      "x is currently:  3[1] \" x is still less than 10, adding 1 to x\"\n",
      "x is currently:  4[1] \" x is still less than 10, adding 1 to x\"\n",
      "x is currently:  5[1] \" x is still less than 10, adding 1 to x\"\n",
      "x is currently:  6[1] \" x is still less than 10, adding 1 to x\"\n",
      "x is currently:  7[1] \" x is still less than 10, adding 1 to x\"\n",
      "x is currently:  8[1] \" x is still less than 10, adding 1 to x\"\n",
      "x is currently:  9[1] \" x is still less than 10, adding 1 to x\"\n",
      "[1] \"x is equal to 10!\"\n"
     ]
    }
   ],
   "source": [
    "x <- 0\n",
    "\n",
    "while(x < 10){\n",
    "    \n",
    "    cat('x is currently: ',x)\n",
    "    print(' x is still less than 10, adding 1 to x')\n",
    "    \n",
    "    # add one to x\n",
    "    x <- x+1\n",
    "    if(x==10){\n",
    "        print(\"x is equal to 10!\")\n",
    "        break\n",
    "        print(\"I won't print anymore :(\")\n",
    "    }\n",
    "}"
   ]
  },
  {
   "cell_type": "markdown",
   "metadata": {},
   "source": [
    "Notice how the __break__ stopped the _\"won't print anymore :(\"_ from occuring. You can use this as an internal check inside a while loop to stop is based off some other condition."
   ]
  }
 ],
 "metadata": {
  "kernelspec": {
   "display_name": "R",
   "language": "R",
   "name": "ir"
  },
  "language_info": {
   "codemirror_mode": "r",
   "file_extension": ".r",
   "mimetype": "text/x-r-source",
   "name": "R",
   "pygments_lexer": "r",
   "version": "3.6.1"
  }
 },
 "nbformat": 4,
 "nbformat_minor": 4
}
