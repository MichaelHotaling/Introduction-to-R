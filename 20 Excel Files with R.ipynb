{
 "cells": [
  {
   "cell_type": "markdown",
   "metadata": {},
   "source": [
    "# Excel Files with R"
   ]
  },
  {
   "cell_type": "markdown",
   "metadata": {},
   "source": [
    "R has the ability to read and write to excel, which makes it very convenient to work on the same datasets as business analysts or colleagues who only know excel, meaning they can work with excel and hand you the files, then you work with them in R!\n",
    "\n",
    "To do this, we need the [readxl](https://cran.r-project.org/web/packages/readxl/readxl.pdf) package for R. Remember you can download it by using:\n",
    "\n"
   ]
  },
  {
   "cell_type": "code",
   "execution_count": 4,
   "metadata": {},
   "outputs": [],
   "source": [
    "install.packages(\"readxl\") "
   ]
  },
  {
   "cell_type": "markdown",
   "metadata": {},
   "source": [
    "You may need to specify repos=\"http://cran.rstudio.com/\" as an argument in the packages call if you get a mirror error.\n",
    "\n",
    "Let's see how we can use this:"
   ]
  },
  {
   "cell_type": "code",
   "execution_count": 3,
   "metadata": {},
   "outputs": [],
   "source": [
    "library(readxl)"
   ]
  },
  {
   "cell_type": "code",
   "execution_count": 4,
   "metadata": {},
   "outputs": [
    {
     "data": {
      "text/html": [
       "'Sheet1'"
      ],
      "text/latex": [
       "'Sheet1'"
      ],
      "text/markdown": [
       "'Sheet1'"
      ],
      "text/plain": [
       "[1] \"Sheet1\""
      ]
     },
     "metadata": {},
     "output_type": "display_data"
    }
   ],
   "source": [
    "excel_sheets('Sample-Sales-Data.xlsx') # Reads the name of the sheets in the file"
   ]
  },
  {
   "cell_type": "code",
   "execution_count": 5,
   "metadata": {},
   "outputs": [
    {
     "data": {
      "text/html": [
       "<table>\n",
       "<caption>A tibble: 6 × 5</caption>\n",
       "<thead>\n",
       "\t<tr><th scope=col>Postcode</th><th scope=col>Sales_Rep_ID</th><th scope=col>Sales_Rep_Name</th><th scope=col>Year</th><th scope=col>Value</th></tr>\n",
       "\t<tr><th scope=col>&lt;chr&gt;</th><th scope=col>&lt;dbl&gt;</th><th scope=col>&lt;chr&gt;</th><th scope=col>&lt;dbl&gt;</th><th scope=col>&lt;dbl&gt;</th></tr>\n",
       "</thead>\n",
       "<tbody>\n",
       "\t<tr><td>2121</td><td>456</td><td>Jane  </td><td>2011</td><td>84219.50</td></tr>\n",
       "\t<tr><td>2092</td><td>789</td><td>Ashish</td><td>2012</td><td>28322.19</td></tr>\n",
       "\t<tr><td>2128</td><td>456</td><td>Jane  </td><td>2013</td><td>81879.00</td></tr>\n",
       "\t<tr><td>2073</td><td>123</td><td>John  </td><td>2011</td><td>44491.14</td></tr>\n",
       "\t<tr><td>2134</td><td>789</td><td>Ashish</td><td>2012</td><td>71837.72</td></tr>\n",
       "\t<tr><td>2162</td><td>123</td><td>John  </td><td>2013</td><td>64531.55</td></tr>\n",
       "</tbody>\n",
       "</table>\n"
      ],
      "text/latex": [
       "A tibble: 6 × 5\n",
       "\\begin{tabular}{lllll}\n",
       " Postcode & Sales\\_Rep\\_ID & Sales\\_Rep\\_Name & Year & Value\\\\\n",
       " <chr> & <dbl> & <chr> & <dbl> & <dbl>\\\\\n",
       "\\hline\n",
       "\t 2121 & 456 & Jane   & 2011 & 84219.50\\\\\n",
       "\t 2092 & 789 & Ashish & 2012 & 28322.19\\\\\n",
       "\t 2128 & 456 & Jane   & 2013 & 81879.00\\\\\n",
       "\t 2073 & 123 & John   & 2011 & 44491.14\\\\\n",
       "\t 2134 & 789 & Ashish & 2012 & 71837.72\\\\\n",
       "\t 2162 & 123 & John   & 2013 & 64531.55\\\\\n",
       "\\end{tabular}\n"
      ],
      "text/markdown": [
       "\n",
       "A tibble: 6 × 5\n",
       "\n",
       "| Postcode &lt;chr&gt; | Sales_Rep_ID &lt;dbl&gt; | Sales_Rep_Name &lt;chr&gt; | Year &lt;dbl&gt; | Value &lt;dbl&gt; |\n",
       "|---|---|---|---|---|\n",
       "| 2121 | 456 | Jane   | 2011 | 84219.50 |\n",
       "| 2092 | 789 | Ashish | 2012 | 28322.19 |\n",
       "| 2128 | 456 | Jane   | 2013 | 81879.00 |\n",
       "| 2073 | 123 | John   | 2011 | 44491.14 |\n",
       "| 2134 | 789 | Ashish | 2012 | 71837.72 |\n",
       "| 2162 | 123 | John   | 2013 | 64531.55 |\n",
       "\n"
      ],
      "text/plain": [
       "  Postcode Sales_Rep_ID Sales_Rep_Name Year Value   \n",
       "1 2121     456          Jane           2011 84219.50\n",
       "2 2092     789          Ashish         2012 28322.19\n",
       "3 2128     456          Jane           2013 81879.00\n",
       "4 2073     123          John           2011 44491.14\n",
       "5 2134     789          Ashish         2012 71837.72\n",
       "6 2162     123          John           2013 64531.55"
      ]
     },
     "metadata": {},
     "output_type": "display_data"
    }
   ],
   "source": [
    "df <- read_excel('Sample-Sales-Data.xlsx', sheet = \"Sheet1\")\n",
    "head(df)"
   ]
  },
  {
   "cell_type": "markdown",
   "metadata": {},
   "source": [
    "Now new can treat the file as we would a normal data frame."
   ]
  },
  {
   "cell_type": "code",
   "execution_count": 9,
   "metadata": {},
   "outputs": [
    {
     "data": {
      "text/plain": [
       "   Postcode          Sales_Rep_ID Sales_Rep_Name          Year     \n",
       " Length:390         Min.   :123   Length:390         Min.   :2011  \n",
       " Class :character   1st Qu.:123   Class :character   1st Qu.:2011  \n",
       " Mode  :character   Median :456   Mode  :character   Median :2012  \n",
       "                    Mean   :456                      Mean   :2012  \n",
       "                    3rd Qu.:789                      3rd Qu.:2013  \n",
       "                    Max.   :789                      Max.   :2013  \n",
       "     Value        \n",
       " Min.   :  106.4  \n",
       " 1st Qu.:26101.5  \n",
       " Median :47447.4  \n",
       " Mean   :49229.4  \n",
       " 3rd Qu.:72277.8  \n",
       " Max.   :99878.5  "
      ]
     },
     "metadata": {},
     "output_type": "display_data"
    },
    {
     "name": "stdout",
     "output_type": "stream",
     "text": [
      "Classes 'tbl_df', 'tbl' and 'data.frame':\t390 obs. of  5 variables:\n",
      " $ Postcode      : chr  \"2121\" \"2092\" \"2128\" \"2073\" ...\n",
      " $ Sales_Rep_ID  : num  456 789 456 123 789 123 456 789 123 789 ...\n",
      " $ Sales_Rep_Name: chr  \"Jane\" \"Ashish\" \"Jane\" \"John\" ...\n",
      " $ Year          : num  2011 2012 2013 2011 2012 ...\n",
      " $ Value         : num  84219 28322 81879 44491 71838 ...\n"
     ]
    },
    {
     "data": {
      "text/html": [
       "19199461.4387834"
      ],
      "text/latex": [
       "19199461.4387834"
      ],
      "text/markdown": [
       "19199461.4387834"
      ],
      "text/plain": [
       "[1] 19199461"
      ]
     },
     "metadata": {},
     "output_type": "display_data"
    }
   ],
   "source": [
    "summary(df)\n",
    "str(df)\n",
    "sum(df['Value'])"
   ]
  },
  {
   "cell_type": "markdown",
   "metadata": {},
   "source": [
    "If you had multiple sheets that you wanted to import into a list, you could do this with __lapply()__:"
   ]
  },
  {
   "cell_type": "code",
   "execution_count": 10,
   "metadata": {},
   "outputs": [],
   "source": [
    "entire_workbook <- lapply(excel_sheets(\"Sample-Sales-Data.xlsx\"), \n",
    "                      read_excel, \n",
    "                      path = \"Sample-Sales-Data.xlsx\")"
   ]
  },
  {
   "cell_type": "code",
   "execution_count": 11,
   "metadata": {},
   "outputs": [
    {
     "data": {
      "text/html": [
       "<ol>\n",
       "\t<li><table>\n",
       "<caption>A tibble: 390 × 5</caption>\n",
       "<thead>\n",
       "\t<tr><th scope=col>Postcode</th><th scope=col>Sales_Rep_ID</th><th scope=col>Sales_Rep_Name</th><th scope=col>Year</th><th scope=col>Value</th></tr>\n",
       "\t<tr><th scope=col>&lt;chr&gt;</th><th scope=col>&lt;dbl&gt;</th><th scope=col>&lt;chr&gt;</th><th scope=col>&lt;dbl&gt;</th><th scope=col>&lt;dbl&gt;</th></tr>\n",
       "</thead>\n",
       "<tbody>\n",
       "\t<tr><td>2121</td><td>456</td><td>Jane  </td><td>2011</td><td>84219.497</td></tr>\n",
       "\t<tr><td>2092</td><td>789</td><td>Ashish</td><td>2012</td><td>28322.192</td></tr>\n",
       "\t<tr><td>2128</td><td>456</td><td>Jane  </td><td>2013</td><td>81878.997</td></tr>\n",
       "\t<tr><td>2073</td><td>123</td><td>John  </td><td>2011</td><td>44491.142</td></tr>\n",
       "\t<tr><td>2134</td><td>789</td><td>Ashish</td><td>2012</td><td>71837.721</td></tr>\n",
       "\t<tr><td>2162</td><td>123</td><td>John  </td><td>2013</td><td>64531.549</td></tr>\n",
       "\t<tr><td>2093</td><td>456</td><td>Jane  </td><td>2011</td><td>58962.640</td></tr>\n",
       "\t<tr><td>2042</td><td>789</td><td>Ashish</td><td>2012</td><td>27521.792</td></tr>\n",
       "\t<tr><td>2198</td><td>123</td><td>John  </td><td>2013</td><td>77985.126</td></tr>\n",
       "\t<tr><td>2043</td><td>789</td><td>Ashish</td><td>2011</td><td>49546.123</td></tr>\n",
       "\t<tr><td>2025</td><td>789</td><td>Ashish</td><td>2012</td><td>17733.775</td></tr>\n",
       "\t<tr><td>2045</td><td>456</td><td>Jane  </td><td>2013</td><td>91125.996</td></tr>\n",
       "\t<tr><td>2090</td><td>456</td><td>Jane  </td><td>2011</td><td>48112.765</td></tr>\n",
       "\t<tr><td>2114</td><td>456</td><td>Jane  </td><td>2012</td><td>28361.338</td></tr>\n",
       "\t<tr><td>2142</td><td>456</td><td>Jane  </td><td>2013</td><td>50911.555</td></tr>\n",
       "\t<tr><td>2062</td><td>123</td><td>John  </td><td>2011</td><td>75538.870</td></tr>\n",
       "\t<tr><td>2049</td><td>456</td><td>Jane  </td><td>2012</td><td>96922.328</td></tr>\n",
       "\t<tr><td>2204</td><td>456</td><td>Jane  </td><td>2013</td><td>57838.175</td></tr>\n",
       "\t<tr><td>2000</td><td>456</td><td>Jane  </td><td>2011</td><td> 4529.749</td></tr>\n",
       "\t<tr><td>2135</td><td>123</td><td>John  </td><td>2012</td><td>27761.119</td></tr>\n",
       "\t<tr><td>2115</td><td>456</td><td>Jane  </td><td>2013</td><td>22772.698</td></tr>\n",
       "\t<tr><td>2032</td><td>789</td><td>Ashish</td><td>2011</td><td>98780.163</td></tr>\n",
       "\t<tr><td>2068</td><td>456</td><td>Jane  </td><td>2012</td><td>66043.702</td></tr>\n",
       "\t<tr><td>2119</td><td>789</td><td>Ashish</td><td>2013</td><td>32882.275</td></tr>\n",
       "\t<tr><td>2060</td><td>456</td><td>Jane  </td><td>2011</td><td>75822.407</td></tr>\n",
       "\t<tr><td>2072</td><td>456</td><td>Jane  </td><td>2012</td><td>36675.400</td></tr>\n",
       "\t<tr><td>2045</td><td>123</td><td>John  </td><td>2013</td><td>95816.703</td></tr>\n",
       "\t<tr><td>2140</td><td>456</td><td>Jane  </td><td>2011</td><td>43627.200</td></tr>\n",
       "\t<tr><td>2205</td><td>789</td><td>Ashish</td><td>2012</td><td>93306.120</td></tr>\n",
       "\t<tr><td>2060</td><td>123</td><td>John  </td><td>2013</td><td>71321.532</td></tr>\n",
       "\t<tr><td>...</td><td>...</td><td>...</td><td>...</td><td>...</td></tr>\n",
       "\t<tr><td>2099</td><td>123</td><td>John  </td><td>2011</td><td>82289.5216</td></tr>\n",
       "\t<tr><td>2125</td><td>123</td><td>John  </td><td>2012</td><td>35987.1307</td></tr>\n",
       "\t<tr><td>2089</td><td>789</td><td>Ashish</td><td>2013</td><td>89068.9256</td></tr>\n",
       "\t<tr><td>2136</td><td>123</td><td>John  </td><td>2011</td><td>83058.6732</td></tr>\n",
       "\t<tr><td>2022</td><td>456</td><td>Jane  </td><td>2012</td><td> 1246.1058</td></tr>\n",
       "\t<tr><td>2067</td><td>123</td><td>John  </td><td>2013</td><td>57862.6874</td></tr>\n",
       "\t<tr><td>2127</td><td>789</td><td>Ashish</td><td>2011</td><td>70493.8925</td></tr>\n",
       "\t<tr><td>2118</td><td>456</td><td>Jane  </td><td>2012</td><td>13243.3115</td></tr>\n",
       "\t<tr><td>2065</td><td>123</td><td>John  </td><td>2013</td><td>88484.9756</td></tr>\n",
       "\t<tr><td>2193</td><td>789</td><td>Ashish</td><td>2011</td><td>82687.1223</td></tr>\n",
       "\t<tr><td>2073</td><td>456</td><td>Jane  </td><td>2012</td><td> 3158.1913</td></tr>\n",
       "\t<tr><td>2026</td><td>123</td><td>John  </td><td>2013</td><td>55338.7023</td></tr>\n",
       "\t<tr><td>2011</td><td>789</td><td>Ashish</td><td>2011</td><td>43355.9232</td></tr>\n",
       "\t<tr><td>2087</td><td>123</td><td>John  </td><td>2012</td><td> 9482.6597</td></tr>\n",
       "\t<tr><td>2024</td><td>456</td><td>Jane  </td><td>2013</td><td>43002.1635</td></tr>\n",
       "\t<tr><td>2192</td><td>789</td><td>Ashish</td><td>2011</td><td>24077.8188</td></tr>\n",
       "\t<tr><td>2109</td><td>456</td><td>Jane  </td><td>2012</td><td>45718.9595</td></tr>\n",
       "\t<tr><td>2130</td><td>789</td><td>Ashish</td><td>2013</td><td>51693.3607</td></tr>\n",
       "\t<tr><td>2194</td><td>123</td><td>John  </td><td>2011</td><td>66864.3069</td></tr>\n",
       "\t<tr><td>2141</td><td>123</td><td>John  </td><td>2012</td><td>54682.8688</td></tr>\n",
       "\t<tr><td>2136</td><td>789</td><td>Ashish</td><td>2013</td><td>  881.7744</td></tr>\n",
       "\t<tr><td>2033</td><td>789</td><td>Ashish</td><td>2011</td><td>76990.3658</td></tr>\n",
       "\t<tr><td>2072</td><td>123</td><td>John  </td><td>2012</td><td>35366.4901</td></tr>\n",
       "\t<tr><td>2063</td><td>456</td><td>Jane  </td><td>2013</td><td>93341.1645</td></tr>\n",
       "\t<tr><td>2018</td><td>789</td><td>Ashish</td><td>2011</td><td>97167.7845</td></tr>\n",
       "\t<tr><td>2164</td><td>123</td><td>John  </td><td>2012</td><td>88884.5352</td></tr>\n",
       "\t<tr><td>2193</td><td>456</td><td>Jane  </td><td>2013</td><td>79440.2908</td></tr>\n",
       "\t<tr><td>2031</td><td>123</td><td>John  </td><td>2011</td><td>65643.6895</td></tr>\n",
       "\t<tr><td>2130</td><td>456</td><td>Jane  </td><td>2012</td><td>66247.8749</td></tr>\n",
       "\t<tr><td>2116</td><td>456</td><td>Jane  </td><td>2013</td><td> 3195.6991</td></tr>\n",
       "</tbody>\n",
       "</table>\n",
       "</li>\n",
       "</ol>\n"
      ],
      "text/latex": [
       "\\begin{enumerate}\n",
       "\\item A tibble: 390 × 5\n",
       "\\begin{tabular}{lllll}\n",
       " Postcode & Sales\\_Rep\\_ID & Sales\\_Rep\\_Name & Year & Value\\\\\n",
       " <chr> & <dbl> & <chr> & <dbl> & <dbl>\\\\\n",
       "\\hline\n",
       "\t 2121 & 456 & Jane   & 2011 & 84219.497\\\\\n",
       "\t 2092 & 789 & Ashish & 2012 & 28322.192\\\\\n",
       "\t 2128 & 456 & Jane   & 2013 & 81878.997\\\\\n",
       "\t 2073 & 123 & John   & 2011 & 44491.142\\\\\n",
       "\t 2134 & 789 & Ashish & 2012 & 71837.721\\\\\n",
       "\t 2162 & 123 & John   & 2013 & 64531.549\\\\\n",
       "\t 2093 & 456 & Jane   & 2011 & 58962.640\\\\\n",
       "\t 2042 & 789 & Ashish & 2012 & 27521.792\\\\\n",
       "\t 2198 & 123 & John   & 2013 & 77985.126\\\\\n",
       "\t 2043 & 789 & Ashish & 2011 & 49546.123\\\\\n",
       "\t 2025 & 789 & Ashish & 2012 & 17733.775\\\\\n",
       "\t 2045 & 456 & Jane   & 2013 & 91125.996\\\\\n",
       "\t 2090 & 456 & Jane   & 2011 & 48112.765\\\\\n",
       "\t 2114 & 456 & Jane   & 2012 & 28361.338\\\\\n",
       "\t 2142 & 456 & Jane   & 2013 & 50911.555\\\\\n",
       "\t 2062 & 123 & John   & 2011 & 75538.870\\\\\n",
       "\t 2049 & 456 & Jane   & 2012 & 96922.328\\\\\n",
       "\t 2204 & 456 & Jane   & 2013 & 57838.175\\\\\n",
       "\t 2000 & 456 & Jane   & 2011 &  4529.749\\\\\n",
       "\t 2135 & 123 & John   & 2012 & 27761.119\\\\\n",
       "\t 2115 & 456 & Jane   & 2013 & 22772.698\\\\\n",
       "\t 2032 & 789 & Ashish & 2011 & 98780.163\\\\\n",
       "\t 2068 & 456 & Jane   & 2012 & 66043.702\\\\\n",
       "\t 2119 & 789 & Ashish & 2013 & 32882.275\\\\\n",
       "\t 2060 & 456 & Jane   & 2011 & 75822.407\\\\\n",
       "\t 2072 & 456 & Jane   & 2012 & 36675.400\\\\\n",
       "\t 2045 & 123 & John   & 2013 & 95816.703\\\\\n",
       "\t 2140 & 456 & Jane   & 2011 & 43627.200\\\\\n",
       "\t 2205 & 789 & Ashish & 2012 & 93306.120\\\\\n",
       "\t 2060 & 123 & John   & 2013 & 71321.532\\\\\n",
       "\t ... & ... & ... & ... & ...\\\\\n",
       "\t 2099 & 123 & John   & 2011 & 82289.5216\\\\\n",
       "\t 2125 & 123 & John   & 2012 & 35987.1307\\\\\n",
       "\t 2089 & 789 & Ashish & 2013 & 89068.9256\\\\\n",
       "\t 2136 & 123 & John   & 2011 & 83058.6732\\\\\n",
       "\t 2022 & 456 & Jane   & 2012 &  1246.1058\\\\\n",
       "\t 2067 & 123 & John   & 2013 & 57862.6874\\\\\n",
       "\t 2127 & 789 & Ashish & 2011 & 70493.8925\\\\\n",
       "\t 2118 & 456 & Jane   & 2012 & 13243.3115\\\\\n",
       "\t 2065 & 123 & John   & 2013 & 88484.9756\\\\\n",
       "\t 2193 & 789 & Ashish & 2011 & 82687.1223\\\\\n",
       "\t 2073 & 456 & Jane   & 2012 &  3158.1913\\\\\n",
       "\t 2026 & 123 & John   & 2013 & 55338.7023\\\\\n",
       "\t 2011 & 789 & Ashish & 2011 & 43355.9232\\\\\n",
       "\t 2087 & 123 & John   & 2012 &  9482.6597\\\\\n",
       "\t 2024 & 456 & Jane   & 2013 & 43002.1635\\\\\n",
       "\t 2192 & 789 & Ashish & 2011 & 24077.8188\\\\\n",
       "\t 2109 & 456 & Jane   & 2012 & 45718.9595\\\\\n",
       "\t 2130 & 789 & Ashish & 2013 & 51693.3607\\\\\n",
       "\t 2194 & 123 & John   & 2011 & 66864.3069\\\\\n",
       "\t 2141 & 123 & John   & 2012 & 54682.8688\\\\\n",
       "\t 2136 & 789 & Ashish & 2013 &   881.7744\\\\\n",
       "\t 2033 & 789 & Ashish & 2011 & 76990.3658\\\\\n",
       "\t 2072 & 123 & John   & 2012 & 35366.4901\\\\\n",
       "\t 2063 & 456 & Jane   & 2013 & 93341.1645\\\\\n",
       "\t 2018 & 789 & Ashish & 2011 & 97167.7845\\\\\n",
       "\t 2164 & 123 & John   & 2012 & 88884.5352\\\\\n",
       "\t 2193 & 456 & Jane   & 2013 & 79440.2908\\\\\n",
       "\t 2031 & 123 & John   & 2011 & 65643.6895\\\\\n",
       "\t 2130 & 456 & Jane   & 2012 & 66247.8749\\\\\n",
       "\t 2116 & 456 & Jane   & 2013 &  3195.6991\\\\\n",
       "\\end{tabular}\n",
       "\n",
       "\\end{enumerate}\n"
      ],
      "text/markdown": [
       "1. \n",
       "A tibble: 390 × 5\n",
       "\n",
       "| Postcode &lt;chr&gt; | Sales_Rep_ID &lt;dbl&gt; | Sales_Rep_Name &lt;chr&gt; | Year &lt;dbl&gt; | Value &lt;dbl&gt; |\n",
       "|---|---|---|---|---|\n",
       "| 2121 | 456 | Jane   | 2011 | 84219.497 |\n",
       "| 2092 | 789 | Ashish | 2012 | 28322.192 |\n",
       "| 2128 | 456 | Jane   | 2013 | 81878.997 |\n",
       "| 2073 | 123 | John   | 2011 | 44491.142 |\n",
       "| 2134 | 789 | Ashish | 2012 | 71837.721 |\n",
       "| 2162 | 123 | John   | 2013 | 64531.549 |\n",
       "| 2093 | 456 | Jane   | 2011 | 58962.640 |\n",
       "| 2042 | 789 | Ashish | 2012 | 27521.792 |\n",
       "| 2198 | 123 | John   | 2013 | 77985.126 |\n",
       "| 2043 | 789 | Ashish | 2011 | 49546.123 |\n",
       "| 2025 | 789 | Ashish | 2012 | 17733.775 |\n",
       "| 2045 | 456 | Jane   | 2013 | 91125.996 |\n",
       "| 2090 | 456 | Jane   | 2011 | 48112.765 |\n",
       "| 2114 | 456 | Jane   | 2012 | 28361.338 |\n",
       "| 2142 | 456 | Jane   | 2013 | 50911.555 |\n",
       "| 2062 | 123 | John   | 2011 | 75538.870 |\n",
       "| 2049 | 456 | Jane   | 2012 | 96922.328 |\n",
       "| 2204 | 456 | Jane   | 2013 | 57838.175 |\n",
       "| 2000 | 456 | Jane   | 2011 |  4529.749 |\n",
       "| 2135 | 123 | John   | 2012 | 27761.119 |\n",
       "| 2115 | 456 | Jane   | 2013 | 22772.698 |\n",
       "| 2032 | 789 | Ashish | 2011 | 98780.163 |\n",
       "| 2068 | 456 | Jane   | 2012 | 66043.702 |\n",
       "| 2119 | 789 | Ashish | 2013 | 32882.275 |\n",
       "| 2060 | 456 | Jane   | 2011 | 75822.407 |\n",
       "| 2072 | 456 | Jane   | 2012 | 36675.400 |\n",
       "| 2045 | 123 | John   | 2013 | 95816.703 |\n",
       "| 2140 | 456 | Jane   | 2011 | 43627.200 |\n",
       "| 2205 | 789 | Ashish | 2012 | 93306.120 |\n",
       "| 2060 | 123 | John   | 2013 | 71321.532 |\n",
       "| ... | ... | ... | ... | ... |\n",
       "| 2099 | 123 | John   | 2011 | 82289.5216 |\n",
       "| 2125 | 123 | John   | 2012 | 35987.1307 |\n",
       "| 2089 | 789 | Ashish | 2013 | 89068.9256 |\n",
       "| 2136 | 123 | John   | 2011 | 83058.6732 |\n",
       "| 2022 | 456 | Jane   | 2012 |  1246.1058 |\n",
       "| 2067 | 123 | John   | 2013 | 57862.6874 |\n",
       "| 2127 | 789 | Ashish | 2011 | 70493.8925 |\n",
       "| 2118 | 456 | Jane   | 2012 | 13243.3115 |\n",
       "| 2065 | 123 | John   | 2013 | 88484.9756 |\n",
       "| 2193 | 789 | Ashish | 2011 | 82687.1223 |\n",
       "| 2073 | 456 | Jane   | 2012 |  3158.1913 |\n",
       "| 2026 | 123 | John   | 2013 | 55338.7023 |\n",
       "| 2011 | 789 | Ashish | 2011 | 43355.9232 |\n",
       "| 2087 | 123 | John   | 2012 |  9482.6597 |\n",
       "| 2024 | 456 | Jane   | 2013 | 43002.1635 |\n",
       "| 2192 | 789 | Ashish | 2011 | 24077.8188 |\n",
       "| 2109 | 456 | Jane   | 2012 | 45718.9595 |\n",
       "| 2130 | 789 | Ashish | 2013 | 51693.3607 |\n",
       "| 2194 | 123 | John   | 2011 | 66864.3069 |\n",
       "| 2141 | 123 | John   | 2012 | 54682.8688 |\n",
       "| 2136 | 789 | Ashish | 2013 |   881.7744 |\n",
       "| 2033 | 789 | Ashish | 2011 | 76990.3658 |\n",
       "| 2072 | 123 | John   | 2012 | 35366.4901 |\n",
       "| 2063 | 456 | Jane   | 2013 | 93341.1645 |\n",
       "| 2018 | 789 | Ashish | 2011 | 97167.7845 |\n",
       "| 2164 | 123 | John   | 2012 | 88884.5352 |\n",
       "| 2193 | 456 | Jane   | 2013 | 79440.2908 |\n",
       "| 2031 | 123 | John   | 2011 | 65643.6895 |\n",
       "| 2130 | 456 | Jane   | 2012 | 66247.8749 |\n",
       "| 2116 | 456 | Jane   | 2013 |  3195.6991 |\n",
       "\n",
       "\n",
       "\n",
       "\n"
      ],
      "text/plain": [
       "[[1]]\n",
       "# A tibble: 390 x 5\n",
       "   Postcode Sales_Rep_ID Sales_Rep_Name  Year  Value\n",
       "   <chr>           <dbl> <chr>          <dbl>  <dbl>\n",
       " 1 2121              456 Jane            2011 84219.\n",
       " 2 2092              789 Ashish          2012 28322.\n",
       " 3 2128              456 Jane            2013 81879.\n",
       " 4 2073              123 John            2011 44491.\n",
       " 5 2134              789 Ashish          2012 71838.\n",
       " 6 2162              123 John            2013 64532.\n",
       " 7 2093              456 Jane            2011 58963.\n",
       " 8 2042              789 Ashish          2012 27522.\n",
       " 9 2198              123 John            2013 77985.\n",
       "10 2043              789 Ashish          2011 49546.\n",
       "# ... with 380 more rows\n"
      ]
     },
     "metadata": {},
     "output_type": "display_data"
    }
   ],
   "source": [
    "# Show entire list:\n",
    "entire_workbook "
   ]
  },
  {
   "cell_type": "markdown",
   "metadata": {},
   "source": [
    "# Writing to Excel\n",
    "Writing to excel requires the xlsx package:"
   ]
  },
  {
   "cell_type": "code",
   "execution_count": 15,
   "metadata": {},
   "outputs": [],
   "source": [
    "#install.packages('xlsx',repos=\"http://cran.rstudio.com/\")\n",
    "library(rJava)\n",
    "library(xlsxjars)\n",
    "library(xlsx)"
   ]
  },
  {
   "cell_type": "code",
   "execution_count": 16,
   "metadata": {},
   "outputs": [],
   "source": [
    "df <- data.frame(matrix(1:10))\n",
    "write.xlsx(df, \"output.xlsx\")"
   ]
  },
  {
   "cell_type": "code",
   "execution_count": 17,
   "metadata": {},
   "outputs": [
    {
     "name": "stderr",
     "output_type": "stream",
     "text": [
      "New names:\n",
      "* `` -> ...1\n"
     ]
    },
    {
     "data": {
      "text/html": [
       "<table>\n",
       "<caption>A tibble: 10 × 2</caption>\n",
       "<thead>\n",
       "\t<tr><th scope=col>...1</th><th scope=col>matrix.1.10.</th></tr>\n",
       "\t<tr><th scope=col>&lt;chr&gt;</th><th scope=col>&lt;dbl&gt;</th></tr>\n",
       "</thead>\n",
       "<tbody>\n",
       "\t<tr><td>1 </td><td> 1</td></tr>\n",
       "\t<tr><td>2 </td><td> 2</td></tr>\n",
       "\t<tr><td>3 </td><td> 3</td></tr>\n",
       "\t<tr><td>4 </td><td> 4</td></tr>\n",
       "\t<tr><td>5 </td><td> 5</td></tr>\n",
       "\t<tr><td>6 </td><td> 6</td></tr>\n",
       "\t<tr><td>7 </td><td> 7</td></tr>\n",
       "\t<tr><td>8 </td><td> 8</td></tr>\n",
       "\t<tr><td>9 </td><td> 9</td></tr>\n",
       "\t<tr><td>10</td><td>10</td></tr>\n",
       "</tbody>\n",
       "</table>\n"
      ],
      "text/latex": [
       "A tibble: 10 × 2\n",
       "\\begin{tabular}{ll}\n",
       " ...1 & matrix.1.10.\\\\\n",
       " <chr> & <dbl>\\\\\n",
       "\\hline\n",
       "\t 1  &  1\\\\\n",
       "\t 2  &  2\\\\\n",
       "\t 3  &  3\\\\\n",
       "\t 4  &  4\\\\\n",
       "\t 5  &  5\\\\\n",
       "\t 6  &  6\\\\\n",
       "\t 7  &  7\\\\\n",
       "\t 8  &  8\\\\\n",
       "\t 9  &  9\\\\\n",
       "\t 10 & 10\\\\\n",
       "\\end{tabular}\n"
      ],
      "text/markdown": [
       "\n",
       "A tibble: 10 × 2\n",
       "\n",
       "| ...1 &lt;chr&gt; | matrix.1.10. &lt;dbl&gt; |\n",
       "|---|---|\n",
       "| 1  |  1 |\n",
       "| 2  |  2 |\n",
       "| 3  |  3 |\n",
       "| 4  |  4 |\n",
       "| 5  |  5 |\n",
       "| 6  |  6 |\n",
       "| 7  |  7 |\n",
       "| 8  |  8 |\n",
       "| 9  |  9 |\n",
       "| 10 | 10 |\n",
       "\n"
      ],
      "text/plain": [
       "   ...1 matrix.1.10.\n",
       "1  1     1          \n",
       "2  2     2          \n",
       "3  3     3          \n",
       "4  4     4          \n",
       "5  5     5          \n",
       "6  6     6          \n",
       "7  7     7          \n",
       "8  8     8          \n",
       "9  9     9          \n",
       "10 10   10          "
      ]
     },
     "metadata": {},
     "output_type": "display_data"
    }
   ],
   "source": [
    "read_excel('output.xlsx')"
   ]
  },
  {
   "cell_type": "markdown",
   "metadata": {},
   "source": [
    "That's it for the basics of reading and writing with excel files, depending on your excel files, you may need to use __help()__ to find out additional arguments you may need to get exactly what you want. Because some utilities don't use or export Excel files, we will stick to using csv files for the course!"
   ]
  }
 ],
 "metadata": {
  "kernelspec": {
   "display_name": "R",
   "language": "R",
   "name": "ir"
  },
  "language_info": {
   "codemirror_mode": "r",
   "file_extension": ".r",
   "mimetype": "text/x-r-source",
   "name": "R",
   "pygments_lexer": "r",
   "version": "3.6.1"
  }
 },
 "nbformat": 4,
 "nbformat_minor": 4
}
