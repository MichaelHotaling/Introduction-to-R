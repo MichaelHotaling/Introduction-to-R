{
 "cells": [
  {
   "cell_type": "code",
   "execution_count": 1,
   "metadata": {},
   "outputs": [],
   "source": [
    "# lets install some packages to help us with Excel files"
   ]
  },
  {
   "cell_type": "code",
   "execution_count": 4,
   "metadata": {},
   "outputs": [],
   "source": [
    "install.packages(\"readxl\") #use this line to install the packages you'll need"
   ]
  },
  {
   "cell_type": "code",
   "execution_count": 37,
   "metadata": {},
   "outputs": [],
   "source": [
    "#library(readxl)"
   ]
  },
  {
   "cell_type": "code",
   "execution_count": 6,
   "metadata": {},
   "outputs": [
    {
     "data": {
      "text/html": [
       "'Sheet1'"
      ],
      "text/latex": [
       "'Sheet1'"
      ],
      "text/markdown": [
       "'Sheet1'"
      ],
      "text/plain": [
       "[1] \"Sheet1\""
      ]
     },
     "metadata": {},
     "output_type": "display_data"
    }
   ],
   "source": [
    "excel_sheets('Sample-Sales-Data.xlsx')"
   ]
  },
  {
   "cell_type": "code",
   "execution_count": 17,
   "metadata": {},
   "outputs": [
    {
     "data": {
      "text/html": [
       "<table>\n",
       "<caption>A tibble: 6 × 5</caption>\n",
       "<thead>\n",
       "\t<tr><th scope=col>Postcode</th><th scope=col>Sales_Rep_ID</th><th scope=col>Sales_Rep_Name</th><th scope=col>Year</th><th scope=col>Value</th></tr>\n",
       "\t<tr><th scope=col>&lt;chr&gt;</th><th scope=col>&lt;dbl&gt;</th><th scope=col>&lt;chr&gt;</th><th scope=col>&lt;dbl&gt;</th><th scope=col>&lt;dbl&gt;</th></tr>\n",
       "</thead>\n",
       "<tbody>\n",
       "\t<tr><td>2121</td><td>456</td><td>Jane  </td><td>2011</td><td>84219.50</td></tr>\n",
       "\t<tr><td>2092</td><td>789</td><td>Ashish</td><td>2012</td><td>28322.19</td></tr>\n",
       "\t<tr><td>2128</td><td>456</td><td>Jane  </td><td>2013</td><td>81879.00</td></tr>\n",
       "\t<tr><td>2073</td><td>123</td><td>John  </td><td>2011</td><td>44491.14</td></tr>\n",
       "\t<tr><td>2134</td><td>789</td><td>Ashish</td><td>2012</td><td>71837.72</td></tr>\n",
       "\t<tr><td>2162</td><td>123</td><td>John  </td><td>2013</td><td>64531.55</td></tr>\n",
       "</tbody>\n",
       "</table>\n"
      ],
      "text/latex": [
       "A tibble: 6 × 5\n",
       "\\begin{tabular}{lllll}\n",
       " Postcode & Sales\\_Rep\\_ID & Sales\\_Rep\\_Name & Year & Value\\\\\n",
       " <chr> & <dbl> & <chr> & <dbl> & <dbl>\\\\\n",
       "\\hline\n",
       "\t 2121 & 456 & Jane   & 2011 & 84219.50\\\\\n",
       "\t 2092 & 789 & Ashish & 2012 & 28322.19\\\\\n",
       "\t 2128 & 456 & Jane   & 2013 & 81879.00\\\\\n",
       "\t 2073 & 123 & John   & 2011 & 44491.14\\\\\n",
       "\t 2134 & 789 & Ashish & 2012 & 71837.72\\\\\n",
       "\t 2162 & 123 & John   & 2013 & 64531.55\\\\\n",
       "\\end{tabular}\n"
      ],
      "text/markdown": [
       "\n",
       "A tibble: 6 × 5\n",
       "\n",
       "| Postcode &lt;chr&gt; | Sales_Rep_ID &lt;dbl&gt; | Sales_Rep_Name &lt;chr&gt; | Year &lt;dbl&gt; | Value &lt;dbl&gt; |\n",
       "|---|---|---|---|---|\n",
       "| 2121 | 456 | Jane   | 2011 | 84219.50 |\n",
       "| 2092 | 789 | Ashish | 2012 | 28322.19 |\n",
       "| 2128 | 456 | Jane   | 2013 | 81879.00 |\n",
       "| 2073 | 123 | John   | 2011 | 44491.14 |\n",
       "| 2134 | 789 | Ashish | 2012 | 71837.72 |\n",
       "| 2162 | 123 | John   | 2013 | 64531.55 |\n",
       "\n"
      ],
      "text/plain": [
       "  Postcode Sales_Rep_ID Sales_Rep_Name Year Value   \n",
       "1 2121     456          Jane           2011 84219.50\n",
       "2 2092     789          Ashish         2012 28322.19\n",
       "3 2128     456          Jane           2013 81879.00\n",
       "4 2073     123          John           2011 44491.14\n",
       "5 2134     789          Ashish         2012 71837.72\n",
       "6 2162     123          John           2013 64531.55"
      ]
     },
     "metadata": {},
     "output_type": "display_data"
    }
   ],
   "source": [
    "df <- read_excel('Sample-Sales-Data.xlsx', sheet = \"Sheet1\")\n",
    "head(df)"
   ]
  },
  {
   "cell_type": "code",
   "execution_count": 16,
   "metadata": {},
   "outputs": [
    {
     "data": {
      "text/plain": [
       "   Postcode          Sales_Rep_ID Sales_Rep_Name          Year     \n",
       " Length:390         Min.   :123   Length:390         Min.   :2011  \n",
       " Class :character   1st Qu.:123   Class :character   1st Qu.:2011  \n",
       " Mode  :character   Median :456   Mode  :character   Median :2012  \n",
       "                    Mean   :456                      Mean   :2012  \n",
       "                    3rd Qu.:789                      3rd Qu.:2013  \n",
       "                    Max.   :789                      Max.   :2013  \n",
       "     Value        \n",
       " Min.   :  106.4  \n",
       " 1st Qu.:26101.5  \n",
       " Median :47447.4  \n",
       " Mean   :49229.4  \n",
       " 3rd Qu.:72277.8  \n",
       " Max.   :99878.5  "
      ]
     },
     "metadata": {},
     "output_type": "display_data"
    }
   ],
   "source": [
    "summary(df)"
   ]
  },
  {
   "cell_type": "code",
   "execution_count": 18,
   "metadata": {},
   "outputs": [],
   "source": [
    "### lets say we want to load the entire workbook"
   ]
  },
  {
   "cell_type": "code",
   "execution_count": 19,
   "metadata": {},
   "outputs": [],
   "source": [
    "entire.workbook <- lapply(excel_sheets('Sample-Sales-Data.xlsx'),read_excel, path=\"Sample-Sales-Data.xlsx\" )"
   ]
  },
  {
   "cell_type": "code",
   "execution_count": 20,
   "metadata": {},
   "outputs": [
    {
     "data": {
      "text/html": [
       "'list'"
      ],
      "text/latex": [
       "'list'"
      ],
      "text/markdown": [
       "'list'"
      ],
      "text/plain": [
       "[1] \"list\""
      ]
     },
     "metadata": {},
     "output_type": "display_data"
    }
   ],
   "source": [
    "class(entire.workbook)"
   ]
  },
  {
   "cell_type": "code",
   "execution_count": 21,
   "metadata": {},
   "outputs": [],
   "source": [
    "### if we want to write to excel files, we will need another package"
   ]
  },
  {
   "cell_type": "code",
   "execution_count": 36,
   "metadata": {},
   "outputs": [],
   "source": [
    "#install.packages('xlsx')\n",
    "#install.packages('rJava')\n",
    "#install.packages('xlsxjars')\n",
    "#library(xlsx)"
   ]
  },
  {
   "cell_type": "code",
   "execution_count": 33,
   "metadata": {},
   "outputs": [],
   "source": [
    "write.xlsx(mtcars,\"output_example.xlsx\")\n"
   ]
  }
 ],
 "metadata": {
  "kernelspec": {
   "display_name": "R",
   "language": "R",
   "name": "ir"
  },
  "language_info": {
   "codemirror_mode": "r",
   "file_extension": ".r",
   "mimetype": "text/x-r-source",
   "name": "R",
   "pygments_lexer": "r",
   "version": "3.6.1"
  }
 },
 "nbformat": 4,
 "nbformat_minor": 4
}
