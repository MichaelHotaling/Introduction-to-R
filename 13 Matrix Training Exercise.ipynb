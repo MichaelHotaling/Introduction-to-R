{
 "cells": [
  {
   "cell_type": "code",
   "execution_count": 2,
   "metadata": {},
   "outputs": [],
   "source": [
    "#### Create 2 vectors A and B, where A is (1,2,3) and B is (4,5,6). With these vectors, use the cbind() and \n",
    "#### rbind() function to create a 2 by 3 matrix from the vectors. You'll need to figure out which of these binding functions\n",
    "#### are the correct choice"
   ]
  },
  {
   "cell_type": "code",
   "execution_count": 31,
   "metadata": {},
   "outputs": [
    {
     "data": {
      "text/html": [
       "<table>\n",
       "<caption>A matrix: 2 × 3 of type int</caption>\n",
       "<tbody>\n",
       "\t<tr><th scope=row>A</th><td>1</td><td>2</td><td>3</td></tr>\n",
       "\t<tr><th scope=row>B</th><td>4</td><td>5</td><td>6</td></tr>\n",
       "</tbody>\n",
       "</table>\n"
      ],
      "text/latex": [
       "A matrix: 2 × 3 of type int\n",
       "\\begin{tabular}{r|lll}\n",
       "\tA & 1 & 2 & 3\\\\\n",
       "\tB & 4 & 5 & 6\\\\\n",
       "\\end{tabular}\n"
      ],
      "text/markdown": [
       "\n",
       "A matrix: 2 × 3 of type int\n",
       "\n",
       "| A | 1 | 2 | 3 |\n",
       "| B | 4 | 5 | 6 |\n",
       "\n"
      ],
      "text/plain": [
       "  [,1] [,2] [,3]\n",
       "A 1    2    3   \n",
       "B 4    5    6   "
      ]
     },
     "metadata": {},
     "output_type": "display_data"
    }
   ],
   "source": [
    "A <- c(1:3)\n",
    "B <- c(4:6)\n",
    "rbind(A,B)"
   ]
  },
  {
   "cell_type": "code",
   "execution_count": 7,
   "metadata": {},
   "outputs": [],
   "source": [
    "#### Create a 3 x 3 matrix consisting of the numbers 1-9. Create this matrix using the short cut 1:9 and by specifying the nrow\n",
    "#### argument in the matrix() function call. Assign this matrix to the variable 'mat'\n",
    "#### confirm that you created a matrix using the is.matrix() function call"
   ]
  },
  {
   "cell_type": "code",
   "execution_count": 16,
   "metadata": {},
   "outputs": [
    {
     "data": {
      "text/html": [
       "<table>\n",
       "<caption>A matrix: 3 × 3 of type int</caption>\n",
       "<tbody>\n",
       "\t<tr><td>1</td><td>2</td><td>3</td></tr>\n",
       "\t<tr><td>4</td><td>5</td><td>6</td></tr>\n",
       "\t<tr><td>7</td><td>8</td><td>9</td></tr>\n",
       "</tbody>\n",
       "</table>\n"
      ],
      "text/latex": [
       "A matrix: 3 × 3 of type int\n",
       "\\begin{tabular}{lll}\n",
       "\t 1 & 2 & 3\\\\\n",
       "\t 4 & 5 & 6\\\\\n",
       "\t 7 & 8 & 9\\\\\n",
       "\\end{tabular}\n"
      ],
      "text/markdown": [
       "\n",
       "A matrix: 3 × 3 of type int\n",
       "\n",
       "| 1 | 2 | 3 |\n",
       "| 4 | 5 | 6 |\n",
       "| 7 | 8 | 9 |\n",
       "\n"
      ],
      "text/plain": [
       "     [,1] [,2] [,3]\n",
       "[1,] 1    2    3   \n",
       "[2,] 4    5    6   \n",
       "[3,] 7    8    9   "
      ]
     },
     "metadata": {},
     "output_type": "display_data"
    },
    {
     "data": {
      "text/html": [
       "TRUE"
      ],
      "text/latex": [
       "TRUE"
      ],
      "text/markdown": [
       "TRUE"
      ],
      "text/plain": [
       "[1] TRUE"
      ]
     },
     "metadata": {},
     "output_type": "display_data"
    }
   ],
   "source": [
    "mat <- matrix(1:9,byrow=TRUE,nrow=3)\n",
    "mat\n",
    "is.matrix(mat)"
   ]
  },
  {
   "cell_type": "code",
   "execution_count": 17,
   "metadata": {},
   "outputs": [],
   "source": [
    "#### create a 5 x 5 matrix consisting of the numbers 1-25 and assign it to the variable 'mat2'. The top row should be 1-5"
   ]
  },
  {
   "cell_type": "code",
   "execution_count": 19,
   "metadata": {},
   "outputs": [
    {
     "data": {
      "text/html": [
       "<table>\n",
       "<caption>A matrix: 5 × 5 of type int</caption>\n",
       "<tbody>\n",
       "\t<tr><td> 1</td><td> 2</td><td> 3</td><td> 4</td><td> 5</td></tr>\n",
       "\t<tr><td> 6</td><td> 7</td><td> 8</td><td> 9</td><td>10</td></tr>\n",
       "\t<tr><td>11</td><td>12</td><td>13</td><td>14</td><td>15</td></tr>\n",
       "\t<tr><td>16</td><td>17</td><td>18</td><td>19</td><td>20</td></tr>\n",
       "\t<tr><td>21</td><td>22</td><td>23</td><td>24</td><td>25</td></tr>\n",
       "</tbody>\n",
       "</table>\n"
      ],
      "text/latex": [
       "A matrix: 5 × 5 of type int\n",
       "\\begin{tabular}{lllll}\n",
       "\t  1 &  2 &  3 &  4 &  5\\\\\n",
       "\t  6 &  7 &  8 &  9 & 10\\\\\n",
       "\t 11 & 12 & 13 & 14 & 15\\\\\n",
       "\t 16 & 17 & 18 & 19 & 20\\\\\n",
       "\t 21 & 22 & 23 & 24 & 25\\\\\n",
       "\\end{tabular}\n"
      ],
      "text/markdown": [
       "\n",
       "A matrix: 5 × 5 of type int\n",
       "\n",
       "|  1 |  2 |  3 |  4 |  5 |\n",
       "|  6 |  7 |  8 |  9 | 10 |\n",
       "| 11 | 12 | 13 | 14 | 15 |\n",
       "| 16 | 17 | 18 | 19 | 20 |\n",
       "| 21 | 22 | 23 | 24 | 25 |\n",
       "\n"
      ],
      "text/plain": [
       "     [,1] [,2] [,3] [,4] [,5]\n",
       "[1,]  1    2    3    4    5  \n",
       "[2,]  6    7    8    9   10  \n",
       "[3,] 11   12   13   14   15  \n",
       "[4,] 16   17   18   19   20  \n",
       "[5,] 21   22   23   24   25  "
      ]
     },
     "metadata": {},
     "output_type": "display_data"
    }
   ],
   "source": [
    "mat2 <- matrix(1:25,byrow=T,nrow=5)\n",
    "mat2"
   ]
  },
  {
   "cell_type": "code",
   "execution_count": 20,
   "metadata": {},
   "outputs": [],
   "source": [
    "#### using the index notation, grab a sub-section of mat2 from that looks like this:\n",
    "\n",
    "####[7,8]\n",
    "####[12,13]"
   ]
  },
  {
   "cell_type": "code",
   "execution_count": 21,
   "metadata": {},
   "outputs": [
    {
     "data": {
      "text/html": [
       "<table>\n",
       "<caption>A matrix: 2 × 2 of type int</caption>\n",
       "<tbody>\n",
       "\t<tr><td> 7</td><td> 8</td></tr>\n",
       "\t<tr><td>12</td><td>13</td></tr>\n",
       "</tbody>\n",
       "</table>\n"
      ],
      "text/latex": [
       "A matrix: 2 × 2 of type int\n",
       "\\begin{tabular}{ll}\n",
       "\t  7 &  8\\\\\n",
       "\t 12 & 13\\\\\n",
       "\\end{tabular}\n"
      ],
      "text/markdown": [
       "\n",
       "A matrix: 2 × 2 of type int\n",
       "\n",
       "|  7 |  8 |\n",
       "| 12 | 13 |\n",
       "\n"
      ],
      "text/plain": [
       "     [,1] [,2]\n",
       "[1,]  7    8  \n",
       "[2,] 12   13  "
      ]
     },
     "metadata": {},
     "output_type": "display_data"
    }
   ],
   "source": [
    "mat2[2:3,2:3]"
   ]
  },
  {
   "cell_type": "code",
   "execution_count": 22,
   "metadata": {},
   "outputs": [],
   "source": [
    "#### what is the sum of all the elements in mat2?"
   ]
  },
  {
   "cell_type": "code",
   "execution_count": 26,
   "metadata": {},
   "outputs": [
    {
     "data": {
      "text/html": [
       "325"
      ],
      "text/latex": [
       "325"
      ],
      "text/markdown": [
       "325"
      ],
      "text/plain": [
       "[1] 325"
      ]
     },
     "metadata": {},
     "output_type": "display_data"
    }
   ],
   "source": [
    "sum(mat2)"
   ]
  },
  {
   "cell_type": "code",
   "execution_count": 34,
   "metadata": {},
   "outputs": [],
   "source": [
    "#### Last question! Find out how to use runif() to creat a 4 x 5 matrix consisting of 20 random numbers (4*5=20)"
   ]
  },
  {
   "cell_type": "code",
   "execution_count": 35,
   "metadata": {},
   "outputs": [],
   "source": [
    "help(runif)\n",
    "####runif(n, min = 0, max = 1)"
   ]
  },
  {
   "cell_type": "code",
   "execution_count": 43,
   "metadata": {},
   "outputs": [
    {
     "data": {
      "text/html": [
       "<table>\n",
       "<caption>A matrix: 4 × 5 of type dbl</caption>\n",
       "<tbody>\n",
       "\t<tr><td>37.783256</td><td> 5.301805</td><td>85.653999</td><td>56.41505</td><td>85.03814</td></tr>\n",
       "\t<tr><td>26.070640</td><td> 3.561568</td><td>22.586446</td><td>10.15169</td><td>44.64612</td></tr>\n",
       "\t<tr><td> 2.807882</td><td>77.954255</td><td>36.201598</td><td>14.96662</td><td>79.78057</td></tr>\n",
       "\t<tr><td>10.296233</td><td>31.669276</td><td> 3.604267</td><td>48.83343</td><td>71.06970</td></tr>\n",
       "</tbody>\n",
       "</table>\n"
      ],
      "text/latex": [
       "A matrix: 4 × 5 of type dbl\n",
       "\\begin{tabular}{lllll}\n",
       "\t 37.783256 &  5.301805 & 85.653999 & 56.41505 & 85.03814\\\\\n",
       "\t 26.070640 &  3.561568 & 22.586446 & 10.15169 & 44.64612\\\\\n",
       "\t  2.807882 & 77.954255 & 36.201598 & 14.96662 & 79.78057\\\\\n",
       "\t 10.296233 & 31.669276 &  3.604267 & 48.83343 & 71.06970\\\\\n",
       "\\end{tabular}\n"
      ],
      "text/markdown": [
       "\n",
       "A matrix: 4 × 5 of type dbl\n",
       "\n",
       "| 37.783256 |  5.301805 | 85.653999 | 56.41505 | 85.03814 |\n",
       "| 26.070640 |  3.561568 | 22.586446 | 10.15169 | 44.64612 |\n",
       "|  2.807882 | 77.954255 | 36.201598 | 14.96662 | 79.78057 |\n",
       "| 10.296233 | 31.669276 |  3.604267 | 48.83343 | 71.06970 |\n",
       "\n"
      ],
      "text/plain": [
       "     [,1]      [,2]      [,3]      [,4]     [,5]    \n",
       "[1,] 37.783256  5.301805 85.653999 56.41505 85.03814\n",
       "[2,] 26.070640  3.561568 22.586446 10.15169 44.64612\n",
       "[3,]  2.807882 77.954255 36.201598 14.96662 79.78057\n",
       "[4,] 10.296233 31.669276  3.604267 48.83343 71.06970"
      ]
     },
     "metadata": {},
     "output_type": "display_data"
    }
   ],
   "source": [
    "rand.matrix = matrix(\n",
    "    runif(20, \n",
    "            min = 0,\n",
    "            max = 100),\n",
    "    nrow = 4)\n",
    "rand.matrix"
   ]
  },
  {
   "cell_type": "code",
   "execution_count": null,
   "metadata": {},
   "outputs": [],
   "source": []
  }
 ],
 "metadata": {
  "kernelspec": {
   "display_name": "R",
   "language": "R",
   "name": "ir"
  },
  "language_info": {
   "codemirror_mode": "r",
   "file_extension": ".r",
   "mimetype": "text/x-r-source",
   "name": "R",
   "pygments_lexer": "r",
   "version": "3.6.1"
  }
 },
 "nbformat": 4,
 "nbformat_minor": 4
}
