{
 "cells": [
  {
   "cell_type": "markdown",
   "metadata": {},
   "source": [
    "# for Loops\n",
    "\n",
    "__for__ Loops allow us to iterate over an oject such as a vector or matrix. We can then perform and execute blocks of code for every loop we go through. The syntax for a for loop is:"
   ]
  },
  {
   "cell_type": "code",
   "execution_count": 1,
   "metadata": {},
   "outputs": [],
   "source": [
    "#for (temporary_variable in object){\n",
    "    # Execute some code at every loop\n",
    "#}\n",
    "\n"
   ]
  },
  {
   "cell_type": "markdown",
   "metadata": {},
   "source": [
    "Let's start by showing how we can use a __for__ loop with a vector\n",
    "# for loops over a vector\n",
    "We can think of looping through a vector in two differnt ways, the first way would be to create a temporary variable with the use of the __in__ keyword"
   ]
  },
  {
   "cell_type": "code",
   "execution_count": 2,
   "metadata": {},
   "outputs": [
    {
     "name": "stdout",
     "output_type": "stream",
     "text": [
      "[1] \"hello\"\n",
      "[1] \"hello\"\n",
      "[1] \"hello\"\n",
      "[1] \"hello\"\n",
      "[1] \"hello\"\n"
     ]
    }
   ],
   "source": [
    "v <- c(1,2,3,4,5)\n",
    "\n",
    "for(temp.var in v){ # we define temp.var to be the elements inside v\n",
    " # Execute some code\n",
    " #for every temp.var in v\n",
    "    print('hello')\n",
    "}"
   ]
  },
  {
   "cell_type": "markdown",
   "metadata": {},
   "source": [
    "The other way would be to loop a numbered amount of times and then use indexing to continually grab from the vector:"
   ]
  },
  {
   "cell_type": "code",
   "execution_count": 6,
   "metadata": {},
   "outputs": [
    {
     "name": "stdout",
     "output_type": "stream",
     "text": [
      "[1] 1\n",
      "[1] 2\n",
      "[1] 3\n",
      "[1] 4\n",
      "[1] 5\n"
     ]
    }
   ],
   "source": [
    "for (i in 1:length(v)){\n",
    "    print(v[i])\n",
    "}"
   ]
  },
  {
   "cell_type": "code",
   "execution_count": 7,
   "metadata": {},
   "outputs": [
    {
     "name": "stdout",
     "output_type": "stream",
     "text": [
      "[1] \"The temp.var plus 1 is equal to \"\n",
      "[1] 2\n",
      "[1] \"The temp.var plus 1 is equal to \"\n",
      "[1] 3\n",
      "[1] \"The temp.var plus 1 is equal to \"\n",
      "[1] 4\n",
      "[1] \"The temp.var plus 1 is equal to \"\n",
      "[1] 5\n",
      "[1] \"The temp.var plus 1 is equal to \"\n",
      "[1] 6\n"
     ]
    }
   ],
   "source": [
    "v <- c(1,2,3,4,5)\n",
    "\n",
    "for(temp.var in v){\n",
    " # Execute some code\n",
    " #for every temp.var in v\n",
    "    result <- temp.var + 1\n",
    "    print('The temp.var plus 1 is equal to ')\n",
    "    print(result)\n",
    "    \n",
    "}"
   ]
  },
  {
   "cell_type": "markdown",
   "metadata": {},
   "source": [
    "# __for__ loop over a list\n",
    "We can do the same thing with a list"
   ]
  },
  {
   "cell_type": "code",
   "execution_count": 8,
   "metadata": {},
   "outputs": [
    {
     "name": "stdout",
     "output_type": "stream",
     "text": [
      "[1] 1\n",
      "[1] 2\n",
      "[1] 3\n",
      "[1] 4\n",
      "[1] 5\n",
      "[1] 6\n"
     ]
    }
   ],
   "source": [
    "li <- list(1,2,3,4,5,6)\n",
    "\n",
    "for (temp_var in li){\n",
    "    print(temp_var)\n",
    "}"
   ]
  },
  {
   "cell_type": "code",
   "execution_count": 11,
   "metadata": {},
   "outputs": [
    {
     "name": "stdout",
     "output_type": "stream",
     "text": [
      "[1] 1\n",
      "[1] 2\n",
      "[1] 3\n",
      "[1] 4\n",
      "[1] 5\n",
      "[1] 6\n"
     ]
    }
   ],
   "source": [
    "for (i in 1:length(li)){\n",
    "    print(li[[i]]) # Remember to use double brackets!\n",
    "}"
   ]
  },
  {
   "cell_type": "markdown",
   "metadata": {},
   "source": [
    "# for loop with a matrix\n",
    "We can also loop though each individual element in a matrix:"
   ]
  },
  {
   "cell_type": "code",
   "execution_count": 13,
   "metadata": {},
   "outputs": [
    {
     "name": "stdout",
     "output_type": "stream",
     "text": [
      "[1] 1\n",
      "[1] 2\n",
      "[1] 3\n",
      "[1] 4\n",
      "[1] 5\n",
      "[1] 6\n",
      "[1] 7\n",
      "[1] 8\n",
      "[1] 9\n",
      "[1] 10\n",
      "[1] 11\n",
      "[1] 12\n",
      "[1] 13\n",
      "[1] 14\n",
      "[1] 15\n",
      "[1] 16\n",
      "[1] 17\n",
      "[1] 18\n",
      "[1] 19\n",
      "[1] 20\n",
      "[1] 21\n",
      "[1] 22\n",
      "[1] 23\n",
      "[1] 24\n",
      "[1] 25\n"
     ]
    }
   ],
   "source": [
    "mat <- matrix(1:25, nrow=5)\n",
    "\n",
    "for (num in mat){\n",
    "    print(num)\n",
    "}"
   ]
  },
  {
   "cell_type": "code",
   "execution_count": 14,
   "metadata": {},
   "outputs": [
    {
     "name": "stdout",
     "output_type": "stream",
     "text": [
      "[1] 1\n",
      "[1] 6\n",
      "[1] 11\n",
      "[1] 16\n",
      "[1] 21\n",
      "[1] 2\n",
      "[1] 7\n",
      "[1] 12\n",
      "[1] 17\n",
      "[1] 22\n",
      "[1] 3\n",
      "[1] 8\n",
      "[1] 13\n",
      "[1] 18\n",
      "[1] 23\n",
      "[1] 4\n",
      "[1] 9\n",
      "[1] 14\n",
      "[1] 19\n",
      "[1] 24\n",
      "[1] 5\n",
      "[1] 10\n",
      "[1] 15\n",
      "[1] 20\n",
      "[1] 25\n"
     ]
    }
   ],
   "source": [
    "mat <- matrix(1:25, byrow = TRUE, nrow=5)\n",
    "\n",
    "for (num in mat){\n",
    "    print(num)\n",
    "}"
   ]
  },
  {
   "cell_type": "markdown",
   "metadata": {},
   "source": [
    "# Nested for loops\n",
    "\n",
    "We can nest for loops inside one another, however be careful when doing this, as every additional for loop nested inside anotehr may cause a significant amount of additional time for your code to finish executing. Here's an example of a nested for loop looping through the first column of numbers first then moving to the next row and doing the same thing"
   ]
  },
  {
   "cell_type": "code",
   "execution_count": 18,
   "metadata": {},
   "outputs": [
    {
     "name": "stdout",
     "output_type": "stream",
     "text": [
      "[1] \"The element at row: 1 and col: 1 is 1\"\n",
      "[1] \"The element at row: 1 and col: 2 is 2\"\n",
      "[1] \"The element at row: 1 and col: 3 is 3\"\n",
      "[1] \"The element at row: 1 and col: 4 is 4\"\n",
      "[1] \"The element at row: 1 and col: 5 is 5\"\n",
      "[1] \"The element at row: 2 and col: 1 is 6\"\n",
      "[1] \"The element at row: 2 and col: 2 is 7\"\n",
      "[1] \"The element at row: 2 and col: 3 is 8\"\n",
      "[1] \"The element at row: 2 and col: 4 is 9\"\n",
      "[1] \"The element at row: 2 and col: 5 is 10\"\n",
      "[1] \"The element at row: 3 and col: 1 is 11\"\n",
      "[1] \"The element at row: 3 and col: 2 is 12\"\n",
      "[1] \"The element at row: 3 and col: 3 is 13\"\n",
      "[1] \"The element at row: 3 and col: 4 is 14\"\n",
      "[1] \"The element at row: 3 and col: 5 is 15\"\n",
      "[1] \"The element at row: 4 and col: 1 is 16\"\n",
      "[1] \"The element at row: 4 and col: 2 is 17\"\n",
      "[1] \"The element at row: 4 and col: 3 is 18\"\n",
      "[1] \"The element at row: 4 and col: 4 is 19\"\n",
      "[1] \"The element at row: 4 and col: 5 is 20\"\n",
      "[1] \"The element at row: 5 and col: 1 is 21\"\n",
      "[1] \"The element at row: 5 and col: 2 is 22\"\n",
      "[1] \"The element at row: 5 and col: 3 is 23\"\n",
      "[1] \"The element at row: 5 and col: 4 is 24\"\n",
      "[1] \"The element at row: 5 and col: 5 is 25\"\n"
     ]
    },
    {
     "data": {
      "text/html": [
       "<table>\n",
       "<caption>A matrix: 5 × 5 of type int</caption>\n",
       "<tbody>\n",
       "\t<tr><td> 1</td><td> 2</td><td> 3</td><td> 4</td><td> 5</td></tr>\n",
       "\t<tr><td> 6</td><td> 7</td><td> 8</td><td> 9</td><td>10</td></tr>\n",
       "\t<tr><td>11</td><td>12</td><td>13</td><td>14</td><td>15</td></tr>\n",
       "\t<tr><td>16</td><td>17</td><td>18</td><td>19</td><td>20</td></tr>\n",
       "\t<tr><td>21</td><td>22</td><td>23</td><td>24</td><td>25</td></tr>\n",
       "</tbody>\n",
       "</table>\n"
      ],
      "text/latex": [
       "A matrix: 5 × 5 of type int\n",
       "\\begin{tabular}{lllll}\n",
       "\t  1 &  2 &  3 &  4 &  5\\\\\n",
       "\t  6 &  7 &  8 &  9 & 10\\\\\n",
       "\t 11 & 12 & 13 & 14 & 15\\\\\n",
       "\t 16 & 17 & 18 & 19 & 20\\\\\n",
       "\t 21 & 22 & 23 & 24 & 25\\\\\n",
       "\\end{tabular}\n"
      ],
      "text/markdown": [
       "\n",
       "A matrix: 5 × 5 of type int\n",
       "\n",
       "|  1 |  2 |  3 |  4 |  5 |\n",
       "|  6 |  7 |  8 |  9 | 10 |\n",
       "| 11 | 12 | 13 | 14 | 15 |\n",
       "| 16 | 17 | 18 | 19 | 20 |\n",
       "| 21 | 22 | 23 | 24 | 25 |\n",
       "\n"
      ],
      "text/plain": [
       "     [,1] [,2] [,3] [,4] [,5]\n",
       "[1,]  1    2    3    4    5  \n",
       "[2,]  6    7    8    9   10  \n",
       "[3,] 11   12   13   14   15  \n",
       "[4,] 16   17   18   19   20  \n",
       "[5,] 21   22   23   24   25  "
      ]
     },
     "metadata": {},
     "output_type": "display_data"
    }
   ],
   "source": [
    "for (row in 1:nrow(mat)){\n",
    "    for (col in 1:ncol(mat)){\n",
    "        print(paste('The element at row:',row,'and col:',col,'is',mat[row,col]))\n",
    "    }\n",
    "}\n",
    "\n",
    "mat"
   ]
  },
  {
   "cell_type": "code",
   "execution_count": 19,
   "metadata": {},
   "outputs": [
    {
     "name": "stdout",
     "output_type": "stream",
     "text": [
      "[1] 1\n",
      "[1] 2\n",
      "[1] \"fizz\"\n",
      "[1] 4\n",
      "[1] \"buzz\"\n",
      "[1] \"fizz\"\n",
      "[1] 7\n",
      "[1] 8\n",
      "[1] \"fizz\"\n",
      "[1] \"buzz\"\n",
      "[1] 11\n",
      "[1] \"fizz\"\n",
      "[1] 13\n",
      "[1] 14\n",
      "[1] \"fizzbuzz\"\n",
      "[1] 16\n",
      "[1] 17\n",
      "[1] \"fizz\"\n",
      "[1] 19\n",
      "[1] \"buzz\"\n",
      "[1] \"fizz\"\n",
      "[1] 22\n",
      "[1] 23\n",
      "[1] \"fizz\"\n",
      "[1] \"buzz\"\n",
      "[1] 26\n",
      "[1] \"fizz\"\n",
      "[1] 28\n",
      "[1] 29\n",
      "[1] \"fizzbuzz\"\n",
      "[1] 31\n",
      "[1] 32\n",
      "[1] \"fizz\"\n",
      "[1] 34\n",
      "[1] \"buzz\"\n",
      "[1] \"fizz\"\n",
      "[1] 37\n",
      "[1] 38\n",
      "[1] \"fizz\"\n",
      "[1] \"buzz\"\n",
      "[1] 41\n",
      "[1] \"fizz\"\n",
      "[1] 43\n",
      "[1] 44\n",
      "[1] \"fizzbuzz\"\n",
      "[1] 46\n",
      "[1] 47\n",
      "[1] \"fizz\"\n",
      "[1] 49\n",
      "[1] \"buzz\"\n",
      "[1] \"fizz\"\n",
      "[1] 52\n",
      "[1] 53\n",
      "[1] \"fizz\"\n",
      "[1] \"buzz\"\n",
      "[1] 56\n",
      "[1] \"fizz\"\n",
      "[1] 58\n",
      "[1] 59\n",
      "[1] \"fizzbuzz\"\n",
      "[1] 61\n",
      "[1] 62\n",
      "[1] \"fizz\"\n",
      "[1] 64\n",
      "[1] \"buzz\"\n",
      "[1] \"fizz\"\n",
      "[1] 67\n",
      "[1] 68\n",
      "[1] \"fizz\"\n",
      "[1] \"buzz\"\n",
      "[1] 71\n",
      "[1] \"fizz\"\n",
      "[1] 73\n",
      "[1] 74\n",
      "[1] \"fizzbuzz\"\n",
      "[1] 76\n",
      "[1] 77\n",
      "[1] \"fizz\"\n",
      "[1] 79\n",
      "[1] \"buzz\"\n",
      "[1] \"fizz\"\n",
      "[1] 82\n",
      "[1] 83\n",
      "[1] \"fizz\"\n",
      "[1] \"buzz\"\n",
      "[1] 86\n",
      "[1] \"fizz\"\n",
      "[1] 88\n",
      "[1] 89\n",
      "[1] \"fizzbuzz\"\n",
      "[1] 91\n",
      "[1] 92\n",
      "[1] \"fizz\"\n",
      "[1] 94\n",
      "[1] \"buzz\"\n",
      "[1] \"fizz\"\n",
      "[1] 97\n",
      "[1] 98\n",
      "[1] \"fizz\"\n",
      "[1] \"buzz\"\n"
     ]
    }
   ],
   "source": []
  },
  {
   "cell_type": "code",
   "execution_count": null,
   "metadata": {},
   "outputs": [],
   "source": []
  }
 ],
 "metadata": {
  "kernelspec": {
   "display_name": "R",
   "language": "R",
   "name": "ir"
  },
  "language_info": {
   "codemirror_mode": "r",
   "file_extension": ".r",
   "mimetype": "text/x-r-source",
   "name": "R",
   "pygments_lexer": "r",
   "version": "3.6.1"
  }
 },
 "nbformat": 4,
 "nbformat_minor": 4
}
