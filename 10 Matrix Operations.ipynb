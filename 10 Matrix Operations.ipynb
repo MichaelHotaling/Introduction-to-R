{
 "cells": [
  {
   "cell_type": "markdown",
   "metadata": {},
   "source": [
    "# Matrix Operations\n",
    "\n",
    "Now that we've learned how to create a matrix, let's learn how to perform operations on a matrix!\n",
    "\n",
    "#### Run the following code to create the stock.matrix from earlier"
   ]
  },
  {
   "cell_type": "code",
   "execution_count": 1,
   "metadata": {},
   "outputs": [
    {
     "data": {
      "text/html": [
       "<table>\n",
       "<caption>A matrix: 2 × 5 of type dbl</caption>\n",
       "<thead>\n",
       "\t<tr><th></th><th scope=col>Mon</th><th scope=col>Tues</th><th scope=col>Wed</th><th scope=col>Thur</th><th scope=col>Fri</th></tr>\n",
       "</thead>\n",
       "<tbody>\n",
       "\t<tr><th scope=row>GOOG</th><td>450</td><td>451</td><td>452</td><td>445</td><td>468</td></tr>\n",
       "\t<tr><th scope=row>MSFT</th><td>230</td><td>231</td><td>232</td><td>233</td><td>243</td></tr>\n",
       "</tbody>\n",
       "</table>\n"
      ],
      "text/latex": [
       "A matrix: 2 × 5 of type dbl\n",
       "\\begin{tabular}{r|lllll}\n",
       "  & Mon & Tues & Wed & Thur & Fri\\\\\n",
       "\\hline\n",
       "\tGOOG & 450 & 451 & 452 & 445 & 468\\\\\n",
       "\tMSFT & 230 & 231 & 232 & 233 & 243\\\\\n",
       "\\end{tabular}\n"
      ],
      "text/markdown": [
       "\n",
       "A matrix: 2 × 5 of type dbl\n",
       "\n",
       "| <!--/--> | Mon | Tues | Wed | Thur | Fri |\n",
       "|---|---|---|---|---|---|\n",
       "| GOOG | 450 | 451 | 452 | 445 | 468 |\n",
       "| MSFT | 230 | 231 | 232 | 233 | 243 |\n",
       "\n"
      ],
      "text/plain": [
       "     Mon Tues Wed Thur Fri\n",
       "GOOG 450 451  452 445  468\n",
       "MSFT 230 231  232 233  243"
      ]
     },
     "metadata": {},
     "output_type": "display_data"
    }
   ],
   "source": [
    "# Stock Prices\n",
    "stock.goog <- c(450,451,452,445,468) # Let's make some stock prices for Google and Microsoft\n",
    "stock.msft <- c(230,231,232,233,243)\n",
    "\n",
    "# Put the vectors into the matrix\n",
    "stocks <- c (stock.goog,stock.msft)\n",
    "stock.matrix <- matrix(stocks,byrow=TRUE,nrow=2)\n",
    "\n",
    "# Name the rows and columnns\n",
    "days <- c(\"Mon\",\"Tues\",\"Wed\",\"Thur\",\"Fri\") #lets add names to the rows and columns of the matrix\n",
    "stock.names <- c(\"GOOG\",\"MSFT\")\n",
    "colnames(stock.matrix) <- days\n",
    "rownames(stock.matrix) <- stock.names\n",
    "\n",
    "#Display\n",
    "stock.matrix"
   ]
  },
  {
   "cell_type": "markdown",
   "metadata": {},
   "source": [
    "Imagine you have one share of each stock and want to check your portfolio value over the course of the week. We can get the sum value of the stocks over the last 5 days. We can use \"colSums\" function to do that"
   ]
  },
  {
   "cell_type": "code",
   "execution_count": 2,
   "metadata": {},
   "outputs": [
    {
     "data": {
      "text/html": [
       "<style>\n",
       ".dl-inline {width: auto; margin:0; padding: 0}\n",
       ".dl-inline>dt, .dl-inline>dd {float: none; width: auto; display: inline-block}\n",
       ".dl-inline>dt::after {content: \":\\0020\"; padding-right: .5ex}\n",
       ".dl-inline>dt:not(:first-of-type) {padding-left: .5ex}\n",
       "</style><dl class=dl-inline><dt>Mon</dt><dd>680</dd><dt>Tues</dt><dd>682</dd><dt>Wed</dt><dd>684</dd><dt>Thur</dt><dd>678</dd><dt>Fri</dt><dd>711</dd></dl>\n"
      ],
      "text/latex": [
       "\\begin{description*}\n",
       "\\item[Mon] 680\n",
       "\\item[Tues] 682\n",
       "\\item[Wed] 684\n",
       "\\item[Thur] 678\n",
       "\\item[Fri] 711\n",
       "\\end{description*}\n"
      ],
      "text/markdown": [
       "Mon\n",
       ":   680Tues\n",
       ":   682Wed\n",
       ":   684Thur\n",
       ":   678Fri\n",
       ":   711\n",
       "\n"
      ],
      "text/plain": [
       " Mon Tues  Wed Thur  Fri \n",
       " 680  682  684  678  711 "
      ]
     },
     "metadata": {},
     "output_type": "display_data"
    }
   ],
   "source": [
    "colSums(stock.matrix) #if we have 1 stock of google and 1 stock of microsoft, this will give us our total portfolio value for each day"
   ]
  },
  {
   "cell_type": "markdown",
   "metadata": {},
   "source": [
    "We can also get the sum of the rows of a matrix"
   ]
  },
  {
   "cell_type": "code",
   "execution_count": 3,
   "metadata": {},
   "outputs": [
    {
     "data": {
      "text/html": [
       "<style>\n",
       ".dl-inline {width: auto; margin:0; padding: 0}\n",
       ".dl-inline>dt, .dl-inline>dd {float: none; width: auto; display: inline-block}\n",
       ".dl-inline>dt::after {content: \":\\0020\"; padding-right: .5ex}\n",
       ".dl-inline>dt:not(:first-of-type) {padding-left: .5ex}\n",
       "</style><dl class=dl-inline><dt>GOOG</dt><dd>2266</dd><dt>MSFT</dt><dd>1169</dd></dl>\n"
      ],
      "text/latex": [
       "\\begin{description*}\n",
       "\\item[GOOG] 2266\n",
       "\\item[MSFT] 1169\n",
       "\\end{description*}\n"
      ],
      "text/markdown": [
       "GOOG\n",
       ":   2266MSFT\n",
       ":   1169\n",
       "\n"
      ],
      "text/plain": [
       "GOOG MSFT \n",
       "2266 1169 "
      ]
     },
     "metadata": {},
     "output_type": "display_data"
    }
   ],
   "source": [
    "#This isn't useful for our dataset, but it could be useful for others\n",
    "rowSums(stock.matrix) "
   ]
  },
  {
   "cell_type": "markdown",
   "metadata": {},
   "source": [
    "We can also do other mathematical operations, check the [short card reference](https://cran.r-project.org/doc/contrib/Short-refcard.pdf) to see all the available functions!"
   ]
  },
  {
   "cell_type": "code",
   "execution_count": 4,
   "metadata": {},
   "outputs": [
    {
     "data": {
      "text/html": [
       "<style>\n",
       ".dl-inline {width: auto; margin:0; padding: 0}\n",
       ".dl-inline>dt, .dl-inline>dd {float: none; width: auto; display: inline-block}\n",
       ".dl-inline>dt::after {content: \":\\0020\"; padding-right: .5ex}\n",
       ".dl-inline>dt:not(:first-of-type) {padding-left: .5ex}\n",
       "</style><dl class=dl-inline><dt>GOOG</dt><dd>453.2</dd><dt>MSFT</dt><dd>233.8</dd></dl>\n"
      ],
      "text/latex": [
       "\\begin{description*}\n",
       "\\item[GOOG] 453.2\n",
       "\\item[MSFT] 233.8\n",
       "\\end{description*}\n"
      ],
      "text/markdown": [
       "GOOG\n",
       ":   453.2MSFT\n",
       ":   233.8\n",
       "\n"
      ],
      "text/plain": [
       " GOOG  MSFT \n",
       "453.2 233.8 "
      ]
     },
     "metadata": {},
     "output_type": "display_data"
    }
   ],
   "source": [
    "rowMeans(stock.matrix) #rowMeans will give us the average value over the last 5 days"
   ]
  },
  {
   "cell_type": "markdown",
   "metadata": {},
   "source": [
    "## Binding in New Columns and Rows\n",
    "Let's try to add columns and rows to the existing matrix. We can use the cbind() function to bind new columns, and rbind() to bind a new row. For this example, we can bind a new row with the values of Facebooks stock"
   ]
  },
  {
   "cell_type": "code",
   "execution_count": 5,
   "metadata": {},
   "outputs": [
    {
     "data": {
      "text/html": [
       "<style>\n",
       ".list-inline {list-style: none; margin:0; padding: 0}\n",
       ".list-inline>li {display: inline-block}\n",
       ".list-inline>li:not(:last-child)::after {content: \"\\00b7\"; padding: 0 .5ex}\n",
       "</style>\n",
       "<ol class=list-inline><li>111</li><li>112</li><li>113</li><li>112</li><li>111</li></ol>\n"
      ],
      "text/latex": [
       "\\begin{enumerate*}\n",
       "\\item 111\n",
       "\\item 112\n",
       "\\item 113\n",
       "\\item 112\n",
       "\\item 111\n",
       "\\end{enumerate*}\n"
      ],
      "text/markdown": [
       "1. 111\n",
       "2. 112\n",
       "3. 113\n",
       "4. 112\n",
       "5. 111\n",
       "\n",
       "\n"
      ],
      "text/plain": [
       "[1] 111 112 113 112 111"
      ]
     },
     "metadata": {},
     "output_type": "display_data"
    }
   ],
   "source": [
    "FB <- c(111,112,113,112,111)\n",
    "FB"
   ]
  },
  {
   "cell_type": "code",
   "execution_count": 6,
   "metadata": {},
   "outputs": [
    {
     "data": {
      "text/html": [
       "<table>\n",
       "<caption>A matrix: 3 × 5 of type dbl</caption>\n",
       "<thead>\n",
       "\t<tr><th></th><th scope=col>Mon</th><th scope=col>Tues</th><th scope=col>Wed</th><th scope=col>Thur</th><th scope=col>Fri</th></tr>\n",
       "</thead>\n",
       "<tbody>\n",
       "\t<tr><th scope=row>GOOG</th><td>450</td><td>451</td><td>452</td><td>445</td><td>468</td></tr>\n",
       "\t<tr><th scope=row>MSFT</th><td>230</td><td>231</td><td>232</td><td>233</td><td>243</td></tr>\n",
       "\t<tr><th scope=row>FB</th><td>111</td><td>112</td><td>113</td><td>112</td><td>111</td></tr>\n",
       "</tbody>\n",
       "</table>\n"
      ],
      "text/latex": [
       "A matrix: 3 × 5 of type dbl\n",
       "\\begin{tabular}{r|lllll}\n",
       "  & Mon & Tues & Wed & Thur & Fri\\\\\n",
       "\\hline\n",
       "\tGOOG & 450 & 451 & 452 & 445 & 468\\\\\n",
       "\tMSFT & 230 & 231 & 232 & 233 & 243\\\\\n",
       "\tFB & 111 & 112 & 113 & 112 & 111\\\\\n",
       "\\end{tabular}\n"
      ],
      "text/markdown": [
       "\n",
       "A matrix: 3 × 5 of type dbl\n",
       "\n",
       "| <!--/--> | Mon | Tues | Wed | Thur | Fri |\n",
       "|---|---|---|---|---|---|\n",
       "| GOOG | 450 | 451 | 452 | 445 | 468 |\n",
       "| MSFT | 230 | 231 | 232 | 233 | 243 |\n",
       "| FB | 111 | 112 | 113 | 112 | 111 |\n",
       "\n"
      ],
      "text/plain": [
       "     Mon Tues Wed Thur Fri\n",
       "GOOG 450 451  452 445  468\n",
       "MSFT 230 231  232 233  243\n",
       "FB   111 112  113 112  111"
      ]
     },
     "metadata": {},
     "output_type": "display_data"
    }
   ],
   "source": [
    "tech.stocks <- rbind(stock.matrix,FB) #rbind adds a new row to the matrix. The second argument is the name of the row\n",
    "tech.stocks"
   ]
  },
  {
   "cell_type": "markdown",
   "metadata": {},
   "source": [
    "Let's add the average stock price to the end of the matrix by using the cbind() function"
   ]
  },
  {
   "cell_type": "code",
   "execution_count": 7,
   "metadata": {},
   "outputs": [
    {
     "data": {
      "text/html": [
       "<table>\n",
       "<caption>A matrix: 3 × 6 of type dbl</caption>\n",
       "<thead>\n",
       "\t<tr><th></th><th scope=col>Mon</th><th scope=col>Tues</th><th scope=col>Wed</th><th scope=col>Thur</th><th scope=col>Fri</th><th scope=col>Avg</th></tr>\n",
       "</thead>\n",
       "<tbody>\n",
       "\t<tr><th scope=row>GOOG</th><td>450</td><td>451</td><td>452</td><td>445</td><td>468</td><td>453.2</td></tr>\n",
       "\t<tr><th scope=row>MSFT</th><td>230</td><td>231</td><td>232</td><td>233</td><td>243</td><td>233.8</td></tr>\n",
       "\t<tr><th scope=row>FB</th><td>111</td><td>112</td><td>113</td><td>112</td><td>111</td><td>111.8</td></tr>\n",
       "</tbody>\n",
       "</table>\n"
      ],
      "text/latex": [
       "A matrix: 3 × 6 of type dbl\n",
       "\\begin{tabular}{r|llllll}\n",
       "  & Mon & Tues & Wed & Thur & Fri & Avg\\\\\n",
       "\\hline\n",
       "\tGOOG & 450 & 451 & 452 & 445 & 468 & 453.2\\\\\n",
       "\tMSFT & 230 & 231 & 232 & 233 & 243 & 233.8\\\\\n",
       "\tFB & 111 & 112 & 113 & 112 & 111 & 111.8\\\\\n",
       "\\end{tabular}\n"
      ],
      "text/markdown": [
       "\n",
       "A matrix: 3 × 6 of type dbl\n",
       "\n",
       "| <!--/--> | Mon | Tues | Wed | Thur | Fri | Avg |\n",
       "|---|---|---|---|---|---|---|\n",
       "| GOOG | 450 | 451 | 452 | 445 | 468 | 453.2 |\n",
       "| MSFT | 230 | 231 | 232 | 233 | 243 | 233.8 |\n",
       "| FB | 111 | 112 | 113 | 112 | 111 | 111.8 |\n",
       "\n"
      ],
      "text/plain": [
       "     Mon Tues Wed Thur Fri Avg  \n",
       "GOOG 450 451  452 445  468 453.2\n",
       "MSFT 230 231  232 233  243 233.8\n",
       "FB   111 112  113 112  111 111.8"
      ]
     },
     "metadata": {},
     "output_type": "display_data"
    }
   ],
   "source": [
    "Avg <- rowMeans(tech.stocks)\n",
    "tech.stocks <- cbind(tech.stocks,Avg) #cbind will add a new column to the matrix\n",
    "tech.stocks"
   ]
  },
  {
   "cell_type": "markdown",
   "metadata": {},
   "source": [
    "Great work! We've gone over some basic matrix operations! "
   ]
  }
 ],
 "metadata": {
  "kernelspec": {
   "display_name": "R",
   "language": "R",
   "name": "ir"
  },
  "language_info": {
   "codemirror_mode": "r",
   "file_extension": ".r",
   "mimetype": "text/x-r-source",
   "name": "R",
   "pygments_lexer": "r",
   "version": "3.6.1"
  }
 },
 "nbformat": 4,
 "nbformat_minor": 4
}
