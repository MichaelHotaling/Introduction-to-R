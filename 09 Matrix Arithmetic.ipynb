{
 "cells": [
  {
   "cell_type": "markdown",
   "metadata": {},
   "source": [
    "# Matrix Arithmetic\n",
    "\n",
    "We can perform element by element mathematical operations on a matrix with a scalar number like we would with a vector. Let's try it out"
   ]
  },
  {
   "cell_type": "code",
   "execution_count": 8,
   "metadata": {},
   "outputs": [
    {
     "data": {
      "text/html": [
       "<table>\n",
       "<caption>A matrix: 5 × 10 of type int</caption>\n",
       "<tbody>\n",
       "\t<tr><td> 1</td><td> 2</td><td> 3</td><td> 4</td><td> 5</td><td> 6</td><td> 7</td><td> 8</td><td> 9</td><td>10</td></tr>\n",
       "\t<tr><td>11</td><td>12</td><td>13</td><td>14</td><td>15</td><td>16</td><td>17</td><td>18</td><td>19</td><td>20</td></tr>\n",
       "\t<tr><td>21</td><td>22</td><td>23</td><td>24</td><td>25</td><td>26</td><td>27</td><td>28</td><td>29</td><td>30</td></tr>\n",
       "\t<tr><td>31</td><td>32</td><td>33</td><td>34</td><td>35</td><td>36</td><td>37</td><td>38</td><td>39</td><td>40</td></tr>\n",
       "\t<tr><td>41</td><td>42</td><td>43</td><td>44</td><td>45</td><td>46</td><td>47</td><td>48</td><td>49</td><td>50</td></tr>\n",
       "</tbody>\n",
       "</table>\n"
      ],
      "text/latex": [
       "A matrix: 5 × 10 of type int\n",
       "\\begin{tabular}{llllllllll}\n",
       "\t  1 &  2 &  3 &  4 &  5 &  6 &  7 &  8 &  9 & 10\\\\\n",
       "\t 11 & 12 & 13 & 14 & 15 & 16 & 17 & 18 & 19 & 20\\\\\n",
       "\t 21 & 22 & 23 & 24 & 25 & 26 & 27 & 28 & 29 & 30\\\\\n",
       "\t 31 & 32 & 33 & 34 & 35 & 36 & 37 & 38 & 39 & 40\\\\\n",
       "\t 41 & 42 & 43 & 44 & 45 & 46 & 47 & 48 & 49 & 50\\\\\n",
       "\\end{tabular}\n"
      ],
      "text/markdown": [
       "\n",
       "A matrix: 5 × 10 of type int\n",
       "\n",
       "|  1 |  2 |  3 |  4 |  5 |  6 |  7 |  8 |  9 | 10 |\n",
       "| 11 | 12 | 13 | 14 | 15 | 16 | 17 | 18 | 19 | 20 |\n",
       "| 21 | 22 | 23 | 24 | 25 | 26 | 27 | 28 | 29 | 30 |\n",
       "| 31 | 32 | 33 | 34 | 35 | 36 | 37 | 38 | 39 | 40 |\n",
       "| 41 | 42 | 43 | 44 | 45 | 46 | 47 | 48 | 49 | 50 |\n",
       "\n"
      ],
      "text/plain": [
       "     [,1] [,2] [,3] [,4] [,5] [,6] [,7] [,8] [,9] [,10]\n",
       "[1,]  1    2    3    4    5    6    7    8    9   10   \n",
       "[2,] 11   12   13   14   15   16   17   18   19   20   \n",
       "[3,] 21   22   23   24   25   26   27   28   29   30   \n",
       "[4,] 31   32   33   34   35   36   37   38   39   40   \n",
       "[5,] 41   42   43   44   45   46   47   48   49   50   "
      ]
     },
     "metadata": {},
     "output_type": "display_data"
    }
   ],
   "source": [
    "mat <- matrix(1:50,byrow=TRUE,nrow=5)\n",
    "mat"
   ]
  },
  {
   "cell_type": "code",
   "execution_count": 12,
   "metadata": {},
   "outputs": [
    {
     "data": {
      "text/html": [
       "<table>\n",
       "<caption>A matrix: 5 × 10 of type dbl</caption>\n",
       "<tbody>\n",
       "\t<tr><td> 10</td><td> 20</td><td> 30</td><td> 40</td><td> 50</td><td> 60</td><td> 70</td><td> 80</td><td> 90</td><td>100</td></tr>\n",
       "\t<tr><td>110</td><td>120</td><td>130</td><td>140</td><td>150</td><td>160</td><td>170</td><td>180</td><td>190</td><td>200</td></tr>\n",
       "\t<tr><td>210</td><td>220</td><td>230</td><td>240</td><td>250</td><td>260</td><td>270</td><td>280</td><td>290</td><td>300</td></tr>\n",
       "\t<tr><td>310</td><td>320</td><td>330</td><td>340</td><td>350</td><td>360</td><td>370</td><td>380</td><td>390</td><td>400</td></tr>\n",
       "\t<tr><td>410</td><td>420</td><td>430</td><td>440</td><td>450</td><td>460</td><td>470</td><td>480</td><td>490</td><td>500</td></tr>\n",
       "</tbody>\n",
       "</table>\n"
      ],
      "text/latex": [
       "A matrix: 5 × 10 of type dbl\n",
       "\\begin{tabular}{llllllllll}\n",
       "\t  10 &  20 &  30 &  40 &  50 &  60 &  70 &  80 &  90 & 100\\\\\n",
       "\t 110 & 120 & 130 & 140 & 150 & 160 & 170 & 180 & 190 & 200\\\\\n",
       "\t 210 & 220 & 230 & 240 & 250 & 260 & 270 & 280 & 290 & 300\\\\\n",
       "\t 310 & 320 & 330 & 340 & 350 & 360 & 370 & 380 & 390 & 400\\\\\n",
       "\t 410 & 420 & 430 & 440 & 450 & 460 & 470 & 480 & 490 & 500\\\\\n",
       "\\end{tabular}\n"
      ],
      "text/markdown": [
       "\n",
       "A matrix: 5 × 10 of type dbl\n",
       "\n",
       "|  10 |  20 |  30 |  40 |  50 |  60 |  70 |  80 |  90 | 100 |\n",
       "| 110 | 120 | 130 | 140 | 150 | 160 | 170 | 180 | 190 | 200 |\n",
       "| 210 | 220 | 230 | 240 | 250 | 260 | 270 | 280 | 290 | 300 |\n",
       "| 310 | 320 | 330 | 340 | 350 | 360 | 370 | 380 | 390 | 400 |\n",
       "| 410 | 420 | 430 | 440 | 450 | 460 | 470 | 480 | 490 | 500 |\n",
       "\n"
      ],
      "text/plain": [
       "     [,1] [,2] [,3] [,4] [,5] [,6] [,7] [,8] [,9] [,10]\n",
       "[1,]  10   20   30   40   50   60   70   80   90  100  \n",
       "[2,] 110  120  130  140  150  160  170  180  190  200  \n",
       "[3,] 210  220  230  240  250  260  270  280  290  300  \n",
       "[4,] 310  320  330  340  350  360  370  380  390  400  \n",
       "[5,] 410  420  430  440  450  460  470  480  490  500  "
      ]
     },
     "metadata": {},
     "output_type": "display_data"
    }
   ],
   "source": [
    "mat * 10 # Multiplication"
   ]
  },
  {
   "cell_type": "code",
   "execution_count": 11,
   "metadata": {},
   "outputs": [
    {
     "data": {
      "text/html": [
       "<table>\n",
       "<caption>A matrix: 5 × 10 of type dbl</caption>\n",
       "<tbody>\n",
       "\t<tr><td>0.1</td><td>0.2</td><td>0.3</td><td>0.4</td><td>0.5</td><td>0.6</td><td>0.7</td><td>0.8</td><td>0.9</td><td>1</td></tr>\n",
       "\t<tr><td>1.1</td><td>1.2</td><td>1.3</td><td>1.4</td><td>1.5</td><td>1.6</td><td>1.7</td><td>1.8</td><td>1.9</td><td>2</td></tr>\n",
       "\t<tr><td>2.1</td><td>2.2</td><td>2.3</td><td>2.4</td><td>2.5</td><td>2.6</td><td>2.7</td><td>2.8</td><td>2.9</td><td>3</td></tr>\n",
       "\t<tr><td>3.1</td><td>3.2</td><td>3.3</td><td>3.4</td><td>3.5</td><td>3.6</td><td>3.7</td><td>3.8</td><td>3.9</td><td>4</td></tr>\n",
       "\t<tr><td>4.1</td><td>4.2</td><td>4.3</td><td>4.4</td><td>4.5</td><td>4.6</td><td>4.7</td><td>4.8</td><td>4.9</td><td>5</td></tr>\n",
       "</tbody>\n",
       "</table>\n"
      ],
      "text/latex": [
       "A matrix: 5 × 10 of type dbl\n",
       "\\begin{tabular}{llllllllll}\n",
       "\t 0.1 & 0.2 & 0.3 & 0.4 & 0.5 & 0.6 & 0.7 & 0.8 & 0.9 & 1\\\\\n",
       "\t 1.1 & 1.2 & 1.3 & 1.4 & 1.5 & 1.6 & 1.7 & 1.8 & 1.9 & 2\\\\\n",
       "\t 2.1 & 2.2 & 2.3 & 2.4 & 2.5 & 2.6 & 2.7 & 2.8 & 2.9 & 3\\\\\n",
       "\t 3.1 & 3.2 & 3.3 & 3.4 & 3.5 & 3.6 & 3.7 & 3.8 & 3.9 & 4\\\\\n",
       "\t 4.1 & 4.2 & 4.3 & 4.4 & 4.5 & 4.6 & 4.7 & 4.8 & 4.9 & 5\\\\\n",
       "\\end{tabular}\n"
      ],
      "text/markdown": [
       "\n",
       "A matrix: 5 × 10 of type dbl\n",
       "\n",
       "| 0.1 | 0.2 | 0.3 | 0.4 | 0.5 | 0.6 | 0.7 | 0.8 | 0.9 | 1 |\n",
       "| 1.1 | 1.2 | 1.3 | 1.4 | 1.5 | 1.6 | 1.7 | 1.8 | 1.9 | 2 |\n",
       "| 2.1 | 2.2 | 2.3 | 2.4 | 2.5 | 2.6 | 2.7 | 2.8 | 2.9 | 3 |\n",
       "| 3.1 | 3.2 | 3.3 | 3.4 | 3.5 | 3.6 | 3.7 | 3.8 | 3.9 | 4 |\n",
       "| 4.1 | 4.2 | 4.3 | 4.4 | 4.5 | 4.6 | 4.7 | 4.8 | 4.9 | 5 |\n",
       "\n"
      ],
      "text/plain": [
       "     [,1] [,2] [,3] [,4] [,5] [,6] [,7] [,8] [,9] [,10]\n",
       "[1,] 0.1  0.2  0.3  0.4  0.5  0.6  0.7  0.8  0.9  1    \n",
       "[2,] 1.1  1.2  1.3  1.4  1.5  1.6  1.7  1.8  1.9  2    \n",
       "[3,] 2.1  2.2  2.3  2.4  2.5  2.6  2.7  2.8  2.9  3    \n",
       "[4,] 3.1  3.2  3.3  3.4  3.5  3.6  3.7  3.8  3.9  4    \n",
       "[5,] 4.1  4.2  4.3  4.4  4.5  4.6  4.7  4.8  4.9  5    "
      ]
     },
     "metadata": {},
     "output_type": "display_data"
    }
   ],
   "source": [
    "mat / 10 # Division"
   ]
  },
  {
   "cell_type": "code",
   "execution_count": 13,
   "metadata": {},
   "outputs": [
    {
     "data": {
      "text/html": [
       "<table>\n",
       "<caption>A matrix: 5 × 10 of type dbl</caption>\n",
       "<tbody>\n",
       "\t<tr><td>   1</td><td>   4</td><td>   9</td><td>  16</td><td>  25</td><td>  36</td><td>  49</td><td>  64</td><td>  81</td><td> 100</td></tr>\n",
       "\t<tr><td> 121</td><td> 144</td><td> 169</td><td> 196</td><td> 225</td><td> 256</td><td> 289</td><td> 324</td><td> 361</td><td> 400</td></tr>\n",
       "\t<tr><td> 441</td><td> 484</td><td> 529</td><td> 576</td><td> 625</td><td> 676</td><td> 729</td><td> 784</td><td> 841</td><td> 900</td></tr>\n",
       "\t<tr><td> 961</td><td>1024</td><td>1089</td><td>1156</td><td>1225</td><td>1296</td><td>1369</td><td>1444</td><td>1521</td><td>1600</td></tr>\n",
       "\t<tr><td>1681</td><td>1764</td><td>1849</td><td>1936</td><td>2025</td><td>2116</td><td>2209</td><td>2304</td><td>2401</td><td>2500</td></tr>\n",
       "</tbody>\n",
       "</table>\n"
      ],
      "text/latex": [
       "A matrix: 5 × 10 of type dbl\n",
       "\\begin{tabular}{llllllllll}\n",
       "\t    1 &    4 &    9 &   16 &   25 &   36 &   49 &   64 &   81 &  100\\\\\n",
       "\t  121 &  144 &  169 &  196 &  225 &  256 &  289 &  324 &  361 &  400\\\\\n",
       "\t  441 &  484 &  529 &  576 &  625 &  676 &  729 &  784 &  841 &  900\\\\\n",
       "\t  961 & 1024 & 1089 & 1156 & 1225 & 1296 & 1369 & 1444 & 1521 & 1600\\\\\n",
       "\t 1681 & 1764 & 1849 & 1936 & 2025 & 2116 & 2209 & 2304 & 2401 & 2500\\\\\n",
       "\\end{tabular}\n"
      ],
      "text/markdown": [
       "\n",
       "A matrix: 5 × 10 of type dbl\n",
       "\n",
       "|    1 |    4 |    9 |   16 |   25 |   36 |   49 |   64 |   81 |  100 |\n",
       "|  121 |  144 |  169 |  196 |  225 |  256 |  289 |  324 |  361 |  400 |\n",
       "|  441 |  484 |  529 |  576 |  625 |  676 |  729 |  784 |  841 |  900 |\n",
       "|  961 | 1024 | 1089 | 1156 | 1225 | 1296 | 1369 | 1444 | 1521 | 1600 |\n",
       "| 1681 | 1764 | 1849 | 1936 | 2025 | 2116 | 2209 | 2304 | 2401 | 2500 |\n",
       "\n"
      ],
      "text/plain": [
       "     [,1] [,2] [,3] [,4] [,5] [,6] [,7] [,8] [,9] [,10]\n",
       "[1,]    1    4    9   16   25   36   49   64   81  100 \n",
       "[2,]  121  144  169  196  225  256  289  324  361  400 \n",
       "[3,]  441  484  529  576  625  676  729  784  841  900 \n",
       "[4,]  961 1024 1089 1156 1225 1296 1369 1444 1521 1600 \n",
       "[5,] 1681 1764 1849 1936 2025 2116 2209 2304 2401 2500 "
      ]
     },
     "metadata": {},
     "output_type": "display_data"
    }
   ],
   "source": [
    "mat ^ 2 # Power"
   ]
  },
  {
   "cell_type": "markdown",
   "metadata": {},
   "source": [
    "## Comparison Operators with Matrices\n",
    "\n",
    "We can similarly perform comparison operations across an entire matrix to return a matrix of boolean values"
   ]
  },
  {
   "cell_type": "code",
   "execution_count": 14,
   "metadata": {},
   "outputs": [
    {
     "data": {
      "text/html": [
       "<table>\n",
       "<caption>A matrix: 5 × 10 of type lgl</caption>\n",
       "<tbody>\n",
       "\t<tr><td>FALSE</td><td>FALSE</td><td>FALSE</td><td>FALSE</td><td>FALSE</td><td>FALSE</td><td>FALSE</td><td>FALSE</td><td>FALSE</td><td>FALSE</td></tr>\n",
       "\t<tr><td>FALSE</td><td>FALSE</td><td>FALSE</td><td> TRUE</td><td> TRUE</td><td> TRUE</td><td> TRUE</td><td> TRUE</td><td> TRUE</td><td> TRUE</td></tr>\n",
       "\t<tr><td> TRUE</td><td> TRUE</td><td> TRUE</td><td> TRUE</td><td> TRUE</td><td> TRUE</td><td> TRUE</td><td> TRUE</td><td> TRUE</td><td> TRUE</td></tr>\n",
       "\t<tr><td> TRUE</td><td> TRUE</td><td> TRUE</td><td> TRUE</td><td> TRUE</td><td> TRUE</td><td> TRUE</td><td> TRUE</td><td> TRUE</td><td> TRUE</td></tr>\n",
       "\t<tr><td> TRUE</td><td> TRUE</td><td> TRUE</td><td> TRUE</td><td> TRUE</td><td> TRUE</td><td> TRUE</td><td> TRUE</td><td> TRUE</td><td> TRUE</td></tr>\n",
       "</tbody>\n",
       "</table>\n"
      ],
      "text/latex": [
       "A matrix: 5 × 10 of type lgl\n",
       "\\begin{tabular}{llllllllll}\n",
       "\t FALSE & FALSE & FALSE & FALSE & FALSE & FALSE & FALSE & FALSE & FALSE & FALSE\\\\\n",
       "\t FALSE & FALSE & FALSE &  TRUE &  TRUE &  TRUE &  TRUE &  TRUE &  TRUE &  TRUE\\\\\n",
       "\t  TRUE &  TRUE &  TRUE &  TRUE &  TRUE &  TRUE &  TRUE &  TRUE &  TRUE &  TRUE\\\\\n",
       "\t  TRUE &  TRUE &  TRUE &  TRUE &  TRUE &  TRUE &  TRUE &  TRUE &  TRUE &  TRUE\\\\\n",
       "\t  TRUE &  TRUE &  TRUE &  TRUE &  TRUE &  TRUE &  TRUE &  TRUE &  TRUE &  TRUE\\\\\n",
       "\\end{tabular}\n"
      ],
      "text/markdown": [
       "\n",
       "A matrix: 5 × 10 of type lgl\n",
       "\n",
       "| FALSE | FALSE | FALSE | FALSE | FALSE | FALSE | FALSE | FALSE | FALSE | FALSE |\n",
       "| FALSE | FALSE | FALSE |  TRUE |  TRUE |  TRUE |  TRUE |  TRUE |  TRUE |  TRUE |\n",
       "|  TRUE |  TRUE |  TRUE |  TRUE |  TRUE |  TRUE |  TRUE |  TRUE |  TRUE |  TRUE |\n",
       "|  TRUE |  TRUE |  TRUE |  TRUE |  TRUE |  TRUE |  TRUE |  TRUE |  TRUE |  TRUE |\n",
       "|  TRUE |  TRUE |  TRUE |  TRUE |  TRUE |  TRUE |  TRUE |  TRUE |  TRUE |  TRUE |\n",
       "\n"
      ],
      "text/plain": [
       "     [,1]  [,2]  [,3]  [,4]  [,5]  [,6]  [,7]  [,8]  [,9]  [,10]\n",
       "[1,] FALSE FALSE FALSE FALSE FALSE FALSE FALSE FALSE FALSE FALSE\n",
       "[2,] FALSE FALSE FALSE  TRUE  TRUE  TRUE  TRUE  TRUE  TRUE  TRUE\n",
       "[3,]  TRUE  TRUE  TRUE  TRUE  TRUE  TRUE  TRUE  TRUE  TRUE  TRUE\n",
       "[4,]  TRUE  TRUE  TRUE  TRUE  TRUE  TRUE  TRUE  TRUE  TRUE  TRUE\n",
       "[5,]  TRUE  TRUE  TRUE  TRUE  TRUE  TRUE  TRUE  TRUE  TRUE  TRUE"
      ]
     },
     "metadata": {},
     "output_type": "display_data"
    }
   ],
   "source": [
    "mat > 13 # returns boolean values for each element"
   ]
  },
  {
   "cell_type": "code",
   "execution_count": 16,
   "metadata": {},
   "outputs": [
    {
     "data": {
      "text/html": [
       "<style>\n",
       ".list-inline {list-style: none; margin:0; padding: 0}\n",
       ".list-inline>li {display: inline-block}\n",
       ".list-inline>li:not(:last-child)::after {content: \"\\00b7\"; padding: 0 .5ex}\n",
       "</style>\n",
       "<ol class=list-inline><li>21</li><li>31</li><li>41</li><li>22</li><li>32</li><li>42</li><li>23</li><li>33</li><li>43</li><li>24</li><li>34</li><li>44</li><li>25</li><li>35</li><li>45</li><li>16</li><li>26</li><li>36</li><li>46</li><li>17</li><li>27</li><li>37</li><li>47</li><li>18</li><li>28</li><li>38</li><li>48</li><li>19</li><li>29</li><li>39</li><li>49</li><li>20</li><li>30</li><li>40</li><li>50</li></ol>\n"
      ],
      "text/latex": [
       "\\begin{enumerate*}\n",
       "\\item 21\n",
       "\\item 31\n",
       "\\item 41\n",
       "\\item 22\n",
       "\\item 32\n",
       "\\item 42\n",
       "\\item 23\n",
       "\\item 33\n",
       "\\item 43\n",
       "\\item 24\n",
       "\\item 34\n",
       "\\item 44\n",
       "\\item 25\n",
       "\\item 35\n",
       "\\item 45\n",
       "\\item 16\n",
       "\\item 26\n",
       "\\item 36\n",
       "\\item 46\n",
       "\\item 17\n",
       "\\item 27\n",
       "\\item 37\n",
       "\\item 47\n",
       "\\item 18\n",
       "\\item 28\n",
       "\\item 38\n",
       "\\item 48\n",
       "\\item 19\n",
       "\\item 29\n",
       "\\item 39\n",
       "\\item 49\n",
       "\\item 20\n",
       "\\item 30\n",
       "\\item 40\n",
       "\\item 50\n",
       "\\end{enumerate*}\n"
      ],
      "text/markdown": [
       "1. 21\n",
       "2. 31\n",
       "3. 41\n",
       "4. 22\n",
       "5. 32\n",
       "6. 42\n",
       "7. 23\n",
       "8. 33\n",
       "9. 43\n",
       "10. 24\n",
       "11. 34\n",
       "12. 44\n",
       "13. 25\n",
       "14. 35\n",
       "15. 45\n",
       "16. 16\n",
       "17. 26\n",
       "18. 36\n",
       "19. 46\n",
       "20. 17\n",
       "21. 27\n",
       "22. 37\n",
       "23. 47\n",
       "24. 18\n",
       "25. 28\n",
       "26. 38\n",
       "27. 48\n",
       "28. 19\n",
       "29. 29\n",
       "30. 39\n",
       "31. 49\n",
       "32. 20\n",
       "33. 30\n",
       "34. 40\n",
       "35. 50\n",
       "\n",
       "\n"
      ],
      "text/plain": [
       " [1] 21 31 41 22 32 42 23 33 43 24 34 44 25 35 45 16 26 36 46 17 27 37 47 18 28\n",
       "[26] 38 48 19 29 39 49 20 30 40 50"
      ]
     },
     "metadata": {},
     "output_type": "display_data"
    }
   ],
   "source": [
    "mat[mat>15] # we can also call the values for the matrix the same way"
   ]
  },
  {
   "cell_type": "markdown",
   "metadata": {},
   "source": [
    "## Matrix Arithmatic with Multiple Matrices\n",
    "\n",
    "We can use multiple matrices with arithmatic as well. Each element will find it's corresponding element in the second element"
   ]
  },
  {
   "cell_type": "code",
   "execution_count": 18,
   "metadata": {},
   "outputs": [
    {
     "data": {
      "text/html": [
       "<table>\n",
       "<caption>A matrix: 5 × 10 of type int</caption>\n",
       "<tbody>\n",
       "\t<tr><td> 2</td><td> 4</td><td> 6</td><td> 8</td><td>10</td><td>12</td><td>14</td><td>16</td><td>18</td><td> 20</td></tr>\n",
       "\t<tr><td>22</td><td>24</td><td>26</td><td>28</td><td>30</td><td>32</td><td>34</td><td>36</td><td>38</td><td> 40</td></tr>\n",
       "\t<tr><td>42</td><td>44</td><td>46</td><td>48</td><td>50</td><td>52</td><td>54</td><td>56</td><td>58</td><td> 60</td></tr>\n",
       "\t<tr><td>62</td><td>64</td><td>66</td><td>68</td><td>70</td><td>72</td><td>74</td><td>76</td><td>78</td><td> 80</td></tr>\n",
       "\t<tr><td>82</td><td>84</td><td>86</td><td>88</td><td>90</td><td>92</td><td>94</td><td>96</td><td>98</td><td>100</td></tr>\n",
       "</tbody>\n",
       "</table>\n"
      ],
      "text/latex": [
       "A matrix: 5 × 10 of type int\n",
       "\\begin{tabular}{llllllllll}\n",
       "\t  2 &  4 &  6 &  8 & 10 & 12 & 14 & 16 & 18 &  20\\\\\n",
       "\t 22 & 24 & 26 & 28 & 30 & 32 & 34 & 36 & 38 &  40\\\\\n",
       "\t 42 & 44 & 46 & 48 & 50 & 52 & 54 & 56 & 58 &  60\\\\\n",
       "\t 62 & 64 & 66 & 68 & 70 & 72 & 74 & 76 & 78 &  80\\\\\n",
       "\t 82 & 84 & 86 & 88 & 90 & 92 & 94 & 96 & 98 & 100\\\\\n",
       "\\end{tabular}\n"
      ],
      "text/markdown": [
       "\n",
       "A matrix: 5 × 10 of type int\n",
       "\n",
       "|  2 |  4 |  6 |  8 | 10 | 12 | 14 | 16 | 18 |  20 |\n",
       "| 22 | 24 | 26 | 28 | 30 | 32 | 34 | 36 | 38 |  40 |\n",
       "| 42 | 44 | 46 | 48 | 50 | 52 | 54 | 56 | 58 |  60 |\n",
       "| 62 | 64 | 66 | 68 | 70 | 72 | 74 | 76 | 78 |  80 |\n",
       "| 82 | 84 | 86 | 88 | 90 | 92 | 94 | 96 | 98 | 100 |\n",
       "\n"
      ],
      "text/plain": [
       "     [,1] [,2] [,3] [,4] [,5] [,6] [,7] [,8] [,9] [,10]\n",
       "[1,]  2    4    6    8   10   12   14   16   18    20  \n",
       "[2,] 22   24   26   28   30   32   34   36   38    40  \n",
       "[3,] 42   44   46   48   50   52   54   56   58    60  \n",
       "[4,] 62   64   66   68   70   72   74   76   78    80  \n",
       "[5,] 82   84   86   88   90   92   94   96   98   100  "
      ]
     },
     "metadata": {},
     "output_type": "display_data"
    }
   ],
   "source": [
    "mat + mat # Addition"
   ]
  },
  {
   "cell_type": "code",
   "execution_count": 19,
   "metadata": {},
   "outputs": [
    {
     "data": {
      "text/html": [
       "<table>\n",
       "<caption>A matrix: 5 × 10 of type dbl</caption>\n",
       "<tbody>\n",
       "\t<tr><td>1</td><td>1</td><td>1</td><td>1</td><td>1</td><td>1</td><td>1</td><td>1</td><td>1</td><td>1</td></tr>\n",
       "\t<tr><td>1</td><td>1</td><td>1</td><td>1</td><td>1</td><td>1</td><td>1</td><td>1</td><td>1</td><td>1</td></tr>\n",
       "\t<tr><td>1</td><td>1</td><td>1</td><td>1</td><td>1</td><td>1</td><td>1</td><td>1</td><td>1</td><td>1</td></tr>\n",
       "\t<tr><td>1</td><td>1</td><td>1</td><td>1</td><td>1</td><td>1</td><td>1</td><td>1</td><td>1</td><td>1</td></tr>\n",
       "\t<tr><td>1</td><td>1</td><td>1</td><td>1</td><td>1</td><td>1</td><td>1</td><td>1</td><td>1</td><td>1</td></tr>\n",
       "</tbody>\n",
       "</table>\n"
      ],
      "text/latex": [
       "A matrix: 5 × 10 of type dbl\n",
       "\\begin{tabular}{llllllllll}\n",
       "\t 1 & 1 & 1 & 1 & 1 & 1 & 1 & 1 & 1 & 1\\\\\n",
       "\t 1 & 1 & 1 & 1 & 1 & 1 & 1 & 1 & 1 & 1\\\\\n",
       "\t 1 & 1 & 1 & 1 & 1 & 1 & 1 & 1 & 1 & 1\\\\\n",
       "\t 1 & 1 & 1 & 1 & 1 & 1 & 1 & 1 & 1 & 1\\\\\n",
       "\t 1 & 1 & 1 & 1 & 1 & 1 & 1 & 1 & 1 & 1\\\\\n",
       "\\end{tabular}\n"
      ],
      "text/markdown": [
       "\n",
       "A matrix: 5 × 10 of type dbl\n",
       "\n",
       "| 1 | 1 | 1 | 1 | 1 | 1 | 1 | 1 | 1 | 1 |\n",
       "| 1 | 1 | 1 | 1 | 1 | 1 | 1 | 1 | 1 | 1 |\n",
       "| 1 | 1 | 1 | 1 | 1 | 1 | 1 | 1 | 1 | 1 |\n",
       "| 1 | 1 | 1 | 1 | 1 | 1 | 1 | 1 | 1 | 1 |\n",
       "| 1 | 1 | 1 | 1 | 1 | 1 | 1 | 1 | 1 | 1 |\n",
       "\n"
      ],
      "text/plain": [
       "     [,1] [,2] [,3] [,4] [,5] [,6] [,7] [,8] [,9] [,10]\n",
       "[1,] 1    1    1    1    1    1    1    1    1    1    \n",
       "[2,] 1    1    1    1    1    1    1    1    1    1    \n",
       "[3,] 1    1    1    1    1    1    1    1    1    1    \n",
       "[4,] 1    1    1    1    1    1    1    1    1    1    \n",
       "[5,] 1    1    1    1    1    1    1    1    1    1    "
      ]
     },
     "metadata": {},
     "output_type": "display_data"
    }
   ],
   "source": [
    "mat / mat #D ivision"
   ]
  },
  {
   "cell_type": "code",
   "execution_count": 21,
   "metadata": {},
   "outputs": [
    {
     "data": {
      "text/html": [
       "<table>\n",
       "<caption>A matrix: 5 × 10 of type dbl</caption>\n",
       "<tbody>\n",
       "\t<tr><td>1.000000e+00</td><td>4.000000e+00</td><td>2.700000e+01</td><td>2.560000e+02</td><td>3.125000e+03</td><td>4.665600e+04</td><td>8.235430e+05</td><td>1.677722e+07</td><td>3.874205e+08</td><td>1.000000e+10</td></tr>\n",
       "\t<tr><td>2.853117e+11</td><td>8.916100e+12</td><td>3.028751e+14</td><td>1.111201e+16</td><td>4.378939e+17</td><td>1.844674e+19</td><td>8.272403e+20</td><td>3.934641e+22</td><td>1.978420e+24</td><td>1.048576e+26</td></tr>\n",
       "\t<tr><td>5.842587e+27</td><td>3.414279e+29</td><td>2.088047e+31</td><td>1.333736e+33</td><td>8.881784e+34</td><td>6.156120e+36</td><td>4.434265e+38</td><td>3.314552e+40</td><td>2.567686e+42</td><td>2.058911e+44</td></tr>\n",
       "\t<tr><td>1.706917e+46</td><td>1.461502e+48</td><td>1.291100e+50</td><td>1.175664e+52</td><td>1.102507e+54</td><td>1.063874e+56</td><td>1.055513e+58</td><td>1.075912e+60</td><td>1.125951e+62</td><td>1.208926e+64</td></tr>\n",
       "\t<tr><td>1.330878e+66</td><td>1.501309e+68</td><td>1.734377e+70</td><td>2.050774e+72</td><td>2.480636e+74</td><td>3.068035e+76</td><td>3.877924e+78</td><td>5.007021e+80</td><td>6.600972e+82</td><td>8.881784e+84</td></tr>\n",
       "</tbody>\n",
       "</table>\n"
      ],
      "text/latex": [
       "A matrix: 5 × 10 of type dbl\n",
       "\\begin{tabular}{llllllllll}\n",
       "\t 1.000000e+00 & 4.000000e+00 & 2.700000e+01 & 2.560000e+02 & 3.125000e+03 & 4.665600e+04 & 8.235430e+05 & 1.677722e+07 & 3.874205e+08 & 1.000000e+10\\\\\n",
       "\t 2.853117e+11 & 8.916100e+12 & 3.028751e+14 & 1.111201e+16 & 4.378939e+17 & 1.844674e+19 & 8.272403e+20 & 3.934641e+22 & 1.978420e+24 & 1.048576e+26\\\\\n",
       "\t 5.842587e+27 & 3.414279e+29 & 2.088047e+31 & 1.333736e+33 & 8.881784e+34 & 6.156120e+36 & 4.434265e+38 & 3.314552e+40 & 2.567686e+42 & 2.058911e+44\\\\\n",
       "\t 1.706917e+46 & 1.461502e+48 & 1.291100e+50 & 1.175664e+52 & 1.102507e+54 & 1.063874e+56 & 1.055513e+58 & 1.075912e+60 & 1.125951e+62 & 1.208926e+64\\\\\n",
       "\t 1.330878e+66 & 1.501309e+68 & 1.734377e+70 & 2.050774e+72 & 2.480636e+74 & 3.068035e+76 & 3.877924e+78 & 5.007021e+80 & 6.600972e+82 & 8.881784e+84\\\\\n",
       "\\end{tabular}\n"
      ],
      "text/markdown": [
       "\n",
       "A matrix: 5 × 10 of type dbl\n",
       "\n",
       "| 1.000000e+00 | 4.000000e+00 | 2.700000e+01 | 2.560000e+02 | 3.125000e+03 | 4.665600e+04 | 8.235430e+05 | 1.677722e+07 | 3.874205e+08 | 1.000000e+10 |\n",
       "| 2.853117e+11 | 8.916100e+12 | 3.028751e+14 | 1.111201e+16 | 4.378939e+17 | 1.844674e+19 | 8.272403e+20 | 3.934641e+22 | 1.978420e+24 | 1.048576e+26 |\n",
       "| 5.842587e+27 | 3.414279e+29 | 2.088047e+31 | 1.333736e+33 | 8.881784e+34 | 6.156120e+36 | 4.434265e+38 | 3.314552e+40 | 2.567686e+42 | 2.058911e+44 |\n",
       "| 1.706917e+46 | 1.461502e+48 | 1.291100e+50 | 1.175664e+52 | 1.102507e+54 | 1.063874e+56 | 1.055513e+58 | 1.075912e+60 | 1.125951e+62 | 1.208926e+64 |\n",
       "| 1.330878e+66 | 1.501309e+68 | 1.734377e+70 | 2.050774e+72 | 2.480636e+74 | 3.068035e+76 | 3.877924e+78 | 5.007021e+80 | 6.600972e+82 | 8.881784e+84 |\n",
       "\n"
      ],
      "text/plain": [
       "     [,1]         [,2]         [,3]         [,4]         [,5]        \n",
       "[1,] 1.000000e+00 4.000000e+00 2.700000e+01 2.560000e+02 3.125000e+03\n",
       "[2,] 2.853117e+11 8.916100e+12 3.028751e+14 1.111201e+16 4.378939e+17\n",
       "[3,] 5.842587e+27 3.414279e+29 2.088047e+31 1.333736e+33 8.881784e+34\n",
       "[4,] 1.706917e+46 1.461502e+48 1.291100e+50 1.175664e+52 1.102507e+54\n",
       "[5,] 1.330878e+66 1.501309e+68 1.734377e+70 2.050774e+72 2.480636e+74\n",
       "     [,6]         [,7]         [,8]         [,9]         [,10]       \n",
       "[1,] 4.665600e+04 8.235430e+05 1.677722e+07 3.874205e+08 1.000000e+10\n",
       "[2,] 1.844674e+19 8.272403e+20 3.934641e+22 1.978420e+24 1.048576e+26\n",
       "[3,] 6.156120e+36 4.434265e+38 3.314552e+40 2.567686e+42 2.058911e+44\n",
       "[4,] 1.063874e+56 1.055513e+58 1.075912e+60 1.125951e+62 1.208926e+64\n",
       "[5,] 3.068035e+76 3.877924e+78 5.007021e+80 6.600972e+82 8.881784e+84"
      ]
     },
     "metadata": {},
     "output_type": "display_data"
    }
   ],
   "source": [
    "mat ^ mat # Power (big numbers)"
   ]
  },
  {
   "cell_type": "code",
   "execution_count": 25,
   "metadata": {},
   "outputs": [
    {
     "data": {
      "text/html": [
       "<table>\n",
       "<caption>A matrix: 5 × 10 of type int</caption>\n",
       "<tbody>\n",
       "\t<tr><td>   1</td><td>   4</td><td>   9</td><td>  16</td><td>  25</td><td>  36</td><td>  49</td><td>  64</td><td>  81</td><td> 100</td></tr>\n",
       "\t<tr><td> 121</td><td> 144</td><td> 169</td><td> 196</td><td> 225</td><td> 256</td><td> 289</td><td> 324</td><td> 361</td><td> 400</td></tr>\n",
       "\t<tr><td> 441</td><td> 484</td><td> 529</td><td> 576</td><td> 625</td><td> 676</td><td> 729</td><td> 784</td><td> 841</td><td> 900</td></tr>\n",
       "\t<tr><td> 961</td><td>1024</td><td>1089</td><td>1156</td><td>1225</td><td>1296</td><td>1369</td><td>1444</td><td>1521</td><td>1600</td></tr>\n",
       "\t<tr><td>1681</td><td>1764</td><td>1849</td><td>1936</td><td>2025</td><td>2116</td><td>2209</td><td>2304</td><td>2401</td><td>2500</td></tr>\n",
       "</tbody>\n",
       "</table>\n"
      ],
      "text/latex": [
       "A matrix: 5 × 10 of type int\n",
       "\\begin{tabular}{llllllllll}\n",
       "\t    1 &    4 &    9 &   16 &   25 &   36 &   49 &   64 &   81 &  100\\\\\n",
       "\t  121 &  144 &  169 &  196 &  225 &  256 &  289 &  324 &  361 &  400\\\\\n",
       "\t  441 &  484 &  529 &  576 &  625 &  676 &  729 &  784 &  841 &  900\\\\\n",
       "\t  961 & 1024 & 1089 & 1156 & 1225 & 1296 & 1369 & 1444 & 1521 & 1600\\\\\n",
       "\t 1681 & 1764 & 1849 & 1936 & 2025 & 2116 & 2209 & 2304 & 2401 & 2500\\\\\n",
       "\\end{tabular}\n"
      ],
      "text/markdown": [
       "\n",
       "A matrix: 5 × 10 of type int\n",
       "\n",
       "|    1 |    4 |    9 |   16 |   25 |   36 |   49 |   64 |   81 |  100 |\n",
       "|  121 |  144 |  169 |  196 |  225 |  256 |  289 |  324 |  361 |  400 |\n",
       "|  441 |  484 |  529 |  576 |  625 |  676 |  729 |  784 |  841 |  900 |\n",
       "|  961 | 1024 | 1089 | 1156 | 1225 | 1296 | 1369 | 1444 | 1521 | 1600 |\n",
       "| 1681 | 1764 | 1849 | 1936 | 2025 | 2116 | 2209 | 2304 | 2401 | 2500 |\n",
       "\n"
      ],
      "text/plain": [
       "     [,1] [,2] [,3] [,4] [,5] [,6] [,7] [,8] [,9] [,10]\n",
       "[1,]    1    4    9   16   25   36   49   64   81  100 \n",
       "[2,]  121  144  169  196  225  256  289  324  361  400 \n",
       "[3,]  441  484  529  576  625  676  729  784  841  900 \n",
       "[4,]  961 1024 1089 1156 1225 1296 1369 1444 1521 1600 \n",
       "[5,] 1681 1764 1849 1936 2025 2116 2209 2304 2401 2500 "
      ]
     },
     "metadata": {},
     "output_type": "display_data"
    }
   ],
   "source": [
    "mat * mat # Multiplication (or is it...)"
   ]
  },
  {
   "cell_type": "markdown",
   "metadata": {},
   "source": [
    "# Matrix Multiplication\n",
    "A quick side note on matrix multiplication. You can perform arithmatic mulitplication on an element by element basis by using the * sign in R. \n",
    "\n",
    "This is not the same as matrix multiplication though! You should be familiar with the mathematics behind this topic before diving too deep into R. We use dot product for real matrix multiplication. Dot product is calculated by using the characters %*%"
   ]
  },
  {
   "cell_type": "code",
   "execution_count": 28,
   "metadata": {},
   "outputs": [
    {
     "data": {
      "text/html": [
       "<table>\n",
       "<caption>A matrix: 3 × 3 of type int</caption>\n",
       "<tbody>\n",
       "\t<tr><td>1</td><td>4</td><td>7</td></tr>\n",
       "\t<tr><td>2</td><td>5</td><td>8</td></tr>\n",
       "\t<tr><td>3</td><td>6</td><td>9</td></tr>\n",
       "</tbody>\n",
       "</table>\n"
      ],
      "text/latex": [
       "A matrix: 3 × 3 of type int\n",
       "\\begin{tabular}{lll}\n",
       "\t 1 & 4 & 7\\\\\n",
       "\t 2 & 5 & 8\\\\\n",
       "\t 3 & 6 & 9\\\\\n",
       "\\end{tabular}\n"
      ],
      "text/markdown": [
       "\n",
       "A matrix: 3 × 3 of type int\n",
       "\n",
       "| 1 | 4 | 7 |\n",
       "| 2 | 5 | 8 |\n",
       "| 3 | 6 | 9 |\n",
       "\n"
      ],
      "text/plain": [
       "     [,1] [,2] [,3]\n",
       "[1,] 1    4    7   \n",
       "[2,] 2    5    8   \n",
       "[3,] 3    6    9   "
      ]
     },
     "metadata": {},
     "output_type": "display_data"
    },
    {
     "data": {
      "text/html": [
       "<table>\n",
       "<caption>A matrix: 3 × 3 of type int</caption>\n",
       "<tbody>\n",
       "\t<tr><td>1</td><td>2</td><td>3</td></tr>\n",
       "\t<tr><td>4</td><td>5</td><td>6</td></tr>\n",
       "\t<tr><td>7</td><td>8</td><td>9</td></tr>\n",
       "</tbody>\n",
       "</table>\n"
      ],
      "text/latex": [
       "A matrix: 3 × 3 of type int\n",
       "\\begin{tabular}{lll}\n",
       "\t 1 & 2 & 3\\\\\n",
       "\t 4 & 5 & 6\\\\\n",
       "\t 7 & 8 & 9\\\\\n",
       "\\end{tabular}\n"
      ],
      "text/markdown": [
       "\n",
       "A matrix: 3 × 3 of type int\n",
       "\n",
       "| 1 | 2 | 3 |\n",
       "| 4 | 5 | 6 |\n",
       "| 7 | 8 | 9 |\n",
       "\n"
      ],
      "text/plain": [
       "     [,1] [,2] [,3]\n",
       "[1,] 1    2    3   \n",
       "[2,] 4    5    6   \n",
       "[3,] 7    8    9   "
      ]
     },
     "metadata": {},
     "output_type": "display_data"
    },
    {
     "data": {
      "text/html": [
       "<table>\n",
       "<caption>A matrix: 3 × 3 of type dbl</caption>\n",
       "<tbody>\n",
       "\t<tr><td>66</td><td> 78</td><td> 90</td></tr>\n",
       "\t<tr><td>78</td><td> 93</td><td>108</td></tr>\n",
       "\t<tr><td>90</td><td>108</td><td>126</td></tr>\n",
       "</tbody>\n",
       "</table>\n"
      ],
      "text/latex": [
       "A matrix: 3 × 3 of type dbl\n",
       "\\begin{tabular}{lll}\n",
       "\t 66 &  78 &  90\\\\\n",
       "\t 78 &  93 & 108\\\\\n",
       "\t 90 & 108 & 126\\\\\n",
       "\\end{tabular}\n"
      ],
      "text/markdown": [
       "\n",
       "A matrix: 3 × 3 of type dbl\n",
       "\n",
       "| 66 |  78 |  90 |\n",
       "| 78 |  93 | 108 |\n",
       "| 90 | 108 | 126 |\n",
       "\n"
      ],
      "text/plain": [
       "     [,1] [,2] [,3]\n",
       "[1,] 66    78   90 \n",
       "[2,] 78    93  108 \n",
       "[3,] 90   108  126 "
      ]
     },
     "metadata": {},
     "output_type": "display_data"
    }
   ],
   "source": [
    "mat2 <- matrix(1:9, nrow = 3)\n",
    "mat3 <- matrix(1:9, nrow = 3, byrow = TRUE)\n",
    "mat2\n",
    "mat3\n",
    "\n",
    "mat2 %*% mat3 # this denotes true matrix multiplcation: the dot product of the matrices"
   ]
  },
  {
   "cell_type": "markdown",
   "metadata": {},
   "source": [
    "That's enough for matrices. "
   ]
  }
 ],
 "metadata": {
  "kernelspec": {
   "display_name": "R",
   "language": "R",
   "name": "ir"
  },
  "language_info": {
   "codemirror_mode": "r",
   "file_extension": ".r",
   "mimetype": "text/x-r-source",
   "name": "R",
   "pygments_lexer": "r",
   "version": "3.6.1"
  }
 },
 "nbformat": 4,
 "nbformat_minor": 4
}
