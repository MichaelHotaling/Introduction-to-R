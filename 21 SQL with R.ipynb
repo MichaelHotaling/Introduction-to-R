{
 "cells": [
  {
   "cell_type": "markdown",
   "metadata": {},
   "source": [
    "# SQL with R"
   ]
  },
  {
   "cell_type": "markdown",
   "metadata": {},
   "source": [
    "Connecting R to a SQL database is completely dependant on the type of databse you are using (MYSQL, Oracle, etc...). It's also dependant on whether or not you have admin rights or permissions to connect and read from that database. If you want to connect to a database at work, contact your admin for more information on how to connect.\n",
    "\n",
    "So instead of trying to cover all of these (since each requires a different package), we'll use this lecture ot point you in the right direction for various database types and once you've downloaded the correct library, connecting it to R is quite simple. After that, it's just a matter of passing in SQL queries through R.\n",
    "\n",
    "Let's go over a general version using the DBI package, then point to more specific resources"
   ]
  },
  {
   "cell_type": "markdown",
   "metadata": {},
   "source": [
    "# RODBC - General Use"
   ]
  },
  {
   "cell_type": "markdown",
   "metadata": {},
   "source": [
    "The RODBC library is one way of connecting to databases. Regardless of what you decide to use. I recommend a Google search  consisting of your database of choice + R. There are normally several different types of packages for each version of SQL. A lot of those packages are built on top of RODBC. Here's an example use of RODBC."
   ]
  },
  {
   "cell_type": "code",
   "execution_count": 8,
   "metadata": {},
   "outputs": [],
   "source": [
    "#install.packages(\"RODBC\") # first, make sure the package is installed \n",
    "library(RODBC) # call the library\n",
    "\n",
    "my.connection <- odbcConnect(\"Database.Name\", uid= \"User.ID\", pwd=\"user.password\")\n",
    "data <- sqlFetch(my.connection, \"Table.Name \")\n",
    "querydat <- sqlQuery(my.connection,\"Select * FROM table\")\n",
    "close(my.connection)"
   ]
  },
  {
   "cell_type": "markdown",
   "metadata": {},
   "source": [
    "### MySQL\n",
    "The RMySQL package provides an interface to MySQL\n",
    "\n",
    "### Oracle\n",
    "The ROracle package provides an interface for Oracle\n",
    "\n",
    "### JDBC\n",
    "The RJDBC package provides access to databases through a JDBC interface\n",
    "\n",
    "Again, the best way to find what fits best for your personal situation is to Google what you will need since your permissions can differ a lot."
   ]
  }
 ],
 "metadata": {
  "kernelspec": {
   "display_name": "R",
   "language": "R",
   "name": "ir"
  },
  "language_info": {
   "codemirror_mode": "r",
   "file_extension": ".r",
   "mimetype": "text/x-r-source",
   "name": "R",
   "pygments_lexer": "r",
   "version": "3.6.1"
  }
 },
 "nbformat": 4,
 "nbformat_minor": 4
}
