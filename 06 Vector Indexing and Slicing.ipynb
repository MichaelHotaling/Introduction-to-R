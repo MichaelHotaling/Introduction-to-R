{
 "cells": [
  {
   "cell_type": "markdown",
   "metadata": {},
   "source": [
    "# Vector Indexing and Slicing"
   ]
  },
  {
   "cell_type": "markdown",
   "metadata": {},
   "source": [
    "We can use bracket notation to index and access individual elements of a vector"
   ]
  },
  {
   "cell_type": "code",
   "execution_count": 2,
   "metadata": {},
   "outputs": [
    {
     "data": {
      "text/html": [
       "<style>\n",
       ".list-inline {list-style: none; margin:0; padding: 0}\n",
       ".list-inline>li {display: inline-block}\n",
       ".list-inline>li:not(:last-child)::after {content: \"\\00b7\"; padding: 0 .5ex}\n",
       "</style>\n",
       "<ol class=list-inline><li>100</li><li>200</li><li>300</li><li>400</li><li>500</li><li>600</li><li>700</li><li>800</li><li>900</li><li>1000</li></ol>\n"
      ],
      "text/latex": [
       "\\begin{enumerate*}\n",
       "\\item 100\n",
       "\\item 200\n",
       "\\item 300\n",
       "\\item 400\n",
       "\\item 500\n",
       "\\item 600\n",
       "\\item 700\n",
       "\\item 800\n",
       "\\item 900\n",
       "\\item 1000\n",
       "\\end{enumerate*}\n"
      ],
      "text/markdown": [
       "1. 100\n",
       "2. 200\n",
       "3. 300\n",
       "4. 400\n",
       "5. 500\n",
       "6. 600\n",
       "7. 700\n",
       "8. 800\n",
       "9. 900\n",
       "10. 1000\n",
       "\n",
       "\n"
      ],
      "text/plain": [
       " [1]  100  200  300  400  500  600  700  800  900 1000"
      ]
     },
     "metadata": {},
     "output_type": "display_data"
    },
    {
     "data": {
      "text/html": [
       "<style>\n",
       ".list-inline {list-style: none; margin:0; padding: 0}\n",
       ".list-inline>li {display: inline-block}\n",
       ".list-inline>li:not(:last-child)::after {content: \"\\00b7\"; padding: 0 .5ex}\n",
       "</style>\n",
       "<ol class=list-inline><li>'a'</li><li>'b'</li><li>'c'</li><li>'d'</li><li>'e'</li><li>'p'</li></ol>\n"
      ],
      "text/latex": [
       "\\begin{enumerate*}\n",
       "\\item 'a'\n",
       "\\item 'b'\n",
       "\\item 'c'\n",
       "\\item 'd'\n",
       "\\item 'e'\n",
       "\\item 'p'\n",
       "\\end{enumerate*}\n"
      ],
      "text/markdown": [
       "1. 'a'\n",
       "2. 'b'\n",
       "3. 'c'\n",
       "4. 'd'\n",
       "5. 'e'\n",
       "6. 'p'\n",
       "\n",
       "\n"
      ],
      "text/plain": [
       "[1] \"a\" \"b\" \"c\" \"d\" \"e\" \"p\""
      ]
     },
     "metadata": {},
     "output_type": "display_data"
    }
   ],
   "source": [
    "vector1 <- c(100,200,300,400,500,600,700,800,900,1000)\n",
    "vector2 <- c('a','b','c','d','e','p')\n",
    "vector1\n",
    "vector2"
   ]
  },
  {
   "cell_type": "markdown",
   "metadata": {},
   "source": [
    "Indexing works by using brackets and passing the index position of the element as a number. Indexing in R starts at 1, unlike Python and other languages that start at 0."
   ]
  },
  {
   "cell_type": "code",
   "execution_count": 3,
   "metadata": {},
   "outputs": [
    {
     "data": {
      "text/html": [
       "800"
      ],
      "text/latex": [
       "800"
      ],
      "text/markdown": [
       "800"
      ],
      "text/plain": [
       "[1] 800"
      ]
     },
     "metadata": {},
     "output_type": "display_data"
    },
    {
     "data": {
      "text/html": [
       "'c'"
      ],
      "text/latex": [
       "'c'"
      ],
      "text/markdown": [
       "'c'"
      ],
      "text/plain": [
       "[1] \"c\""
      ]
     },
     "metadata": {},
     "output_type": "display_data"
    }
   ],
   "source": [
    "vector1[8] # we will get the eighth element in the vector index\n",
    "vector2[3] # we will get the third element in the vector index"
   ]
  },
  {
   "cell_type": "markdown",
   "metadata": {},
   "source": [
    "## Multiple Indexing\n",
    "We can grab multiple items from a vector by passing a vector of index positions inside the square brackets []. Here's an example"
   ]
  },
  {
   "cell_type": "code",
   "execution_count": 5,
   "metadata": {},
   "outputs": [
    {
     "data": {
      "text/html": [
       "<style>\n",
       ".list-inline {list-style: none; margin:0; padding: 0}\n",
       ".list-inline>li {display: inline-block}\n",
       ".list-inline>li:not(:last-child)::after {content: \"\\00b7\"; padding: 0 .5ex}\n",
       "</style>\n",
       "<ol class=list-inline><li>100</li><li>200</li></ol>\n"
      ],
      "text/latex": [
       "\\begin{enumerate*}\n",
       "\\item 100\n",
       "\\item 200\n",
       "\\end{enumerate*}\n"
      ],
      "text/markdown": [
       "1. 100\n",
       "2. 200\n",
       "\n",
       "\n"
      ],
      "text/plain": [
       "[1] 100 200"
      ]
     },
     "metadata": {},
     "output_type": "display_data"
    },
    {
     "data": {
      "text/html": [
       "<style>\n",
       ".list-inline {list-style: none; margin:0; padding: 0}\n",
       ".list-inline>li {display: inline-block}\n",
       ".list-inline>li:not(:last-child)::after {content: \"\\00b7\"; padding: 0 .5ex}\n",
       "</style>\n",
       "<ol class=list-inline><li>'a'</li><li>'c'</li><li>'d'</li><li>'c'</li></ol>\n"
      ],
      "text/latex": [
       "\\begin{enumerate*}\n",
       "\\item 'a'\n",
       "\\item 'c'\n",
       "\\item 'd'\n",
       "\\item 'c'\n",
       "\\end{enumerate*}\n"
      ],
      "text/markdown": [
       "1. 'a'\n",
       "2. 'c'\n",
       "3. 'd'\n",
       "4. 'c'\n",
       "\n",
       "\n"
      ],
      "text/plain": [
       "[1] \"a\" \"c\" \"d\" \"c\""
      ]
     },
     "metadata": {},
     "output_type": "display_data"
    },
    {
     "data": {
      "text/html": [
       "<style>\n",
       ".list-inline {list-style: none; margin:0; padding: 0}\n",
       ".list-inline>li {display: inline-block}\n",
       ".list-inline>li:not(:last-child)::after {content: \"\\00b7\"; padding: 0 .5ex}\n",
       "</style>\n",
       "<ol class=list-inline><li>'c'</li><li>'c'</li><li>'c'</li><li>'p'</li></ol>\n"
      ],
      "text/latex": [
       "\\begin{enumerate*}\n",
       "\\item 'c'\n",
       "\\item 'c'\n",
       "\\item 'c'\n",
       "\\item 'p'\n",
       "\\end{enumerate*}\n"
      ],
      "text/markdown": [
       "1. 'c'\n",
       "2. 'c'\n",
       "3. 'c'\n",
       "4. 'p'\n",
       "\n",
       "\n"
      ],
      "text/plain": [
       "[1] \"c\" \"c\" \"c\" \"p\""
      ]
     },
     "metadata": {},
     "output_type": "display_data"
    }
   ],
   "source": [
    "vector1[c(1,2)] \n",
    "vector2[c(1,3,4,3)]\n",
    "vector2[c(3,3,3,6)]"
   ]
  },
  {
   "cell_type": "markdown",
   "metadata": {},
   "source": [
    "## Slicing\n",
    "You can use a colon : to indicate a slice of a vector. The format is\n",
    "\n",
    "vector[start_index:stop_index]\n",
    "\n",
    "and you will get a \"slice\" of the vector returned to you."
   ]
  },
  {
   "cell_type": "code",
   "execution_count": 8,
   "metadata": {},
   "outputs": [
    {
     "data": {
      "text/html": [
       "<style>\n",
       ".list-inline {list-style: none; margin:0; padding: 0}\n",
       ".list-inline>li {display: inline-block}\n",
       ".list-inline>li:not(:last-child)::after {content: \"\\00b7\"; padding: 0 .5ex}\n",
       "</style>\n",
       "<ol class=list-inline><li>200</li><li>300</li><li>400</li></ol>\n"
      ],
      "text/latex": [
       "\\begin{enumerate*}\n",
       "\\item 200\n",
       "\\item 300\n",
       "\\item 400\n",
       "\\end{enumerate*}\n"
      ],
      "text/markdown": [
       "1. 200\n",
       "2. 300\n",
       "3. 400\n",
       "\n",
       "\n"
      ],
      "text/plain": [
       "[1] 200 300 400"
      ]
     },
     "metadata": {},
     "output_type": "display_data"
    },
    {
     "data": {
      "text/html": [
       "<style>\n",
       ".list-inline {list-style: none; margin:0; padding: 0}\n",
       ".list-inline>li {display: inline-block}\n",
       ".list-inline>li:not(:last-child)::after {content: \"\\00b7\"; padding: 0 .5ex}\n",
       "</style>\n",
       "<ol class=list-inline><li>700</li><li>800</li><li>900</li><li>1000</li></ol>\n"
      ],
      "text/latex": [
       "\\begin{enumerate*}\n",
       "\\item 700\n",
       "\\item 800\n",
       "\\item 900\n",
       "\\item 1000\n",
       "\\end{enumerate*}\n"
      ],
      "text/markdown": [
       "1. 700\n",
       "2. 800\n",
       "3. 900\n",
       "4. 1000\n",
       "\n",
       "\n"
      ],
      "text/plain": [
       "[1]  700  800  900 1000"
      ]
     },
     "metadata": {},
     "output_type": "display_data"
    },
    {
     "data": {
      "text/html": [
       "<style>\n",
       ".list-inline {list-style: none; margin:0; padding: 0}\n",
       ".list-inline>li {display: inline-block}\n",
       ".list-inline>li:not(:last-child)::after {content: \"\\00b7\"; padding: 0 .5ex}\n",
       "</style>\n",
       "<ol class=list-inline><li>'d'</li><li>'e'</li><li>'p'</li></ol>\n"
      ],
      "text/latex": [
       "\\begin{enumerate*}\n",
       "\\item 'd'\n",
       "\\item 'e'\n",
       "\\item 'p'\n",
       "\\end{enumerate*}\n"
      ],
      "text/markdown": [
       "1. 'd'\n",
       "2. 'e'\n",
       "3. 'p'\n",
       "\n",
       "\n"
      ],
      "text/plain": [
       "[1] \"d\" \"e\" \"p\""
      ]
     },
     "metadata": {},
     "output_type": "display_data"
    }
   ],
   "source": [
    "vector1[2:4]\n",
    "vector1[7:10]\n",
    "vector2[4:6]"
   ]
  },
  {
   "cell_type": "markdown",
   "metadata": {},
   "source": [
    "## Indexing with Names\n",
    "We can also pull vector value based on the names of the elements. for example:"
   ]
  },
  {
   "cell_type": "code",
   "execution_count": 9,
   "metadata": {},
   "outputs": [
    {
     "data": {
      "text/html": [
       "<style>\n",
       ".dl-inline {width: auto; margin:0; padding: 0}\n",
       ".dl-inline>dt, .dl-inline>dd {float: none; width: auto; display: inline-block}\n",
       ".dl-inline>dt::after {content: \":\\0020\"; padding-right: .5ex}\n",
       ".dl-inline>dt:not(:first-of-type) {padding-left: .5ex}\n",
       "</style><dl class=dl-inline><dt>Bob</dt><dd>98</dd><dt>Mike</dt><dd>70</dd><dt>Jake</dt><dd>86</dd><dt>Val</dt><dd>100</dd><dt>Sai</dt><dd>55</dd></dl>\n"
      ],
      "text/latex": [
       "\\begin{description*}\n",
       "\\item[Bob] 98\n",
       "\\item[Mike] 70\n",
       "\\item[Jake] 86\n",
       "\\item[Val] 100\n",
       "\\item[Sai] 55\n",
       "\\end{description*}\n"
      ],
      "text/markdown": [
       "Bob\n",
       ":   98Mike\n",
       ":   70Jake\n",
       ":   86Val\n",
       ":   100Sai\n",
       ":   55\n",
       "\n"
      ],
      "text/plain": [
       " Bob Mike Jake  Val  Sai \n",
       "  98   70   86  100   55 "
      ]
     },
     "metadata": {},
     "output_type": "display_data"
    }
   ],
   "source": [
    "grades <- c(98,70,86,100,55)\n",
    "names(grades) <- c(\"Bob\",\"Mike\",\"Jake\",\"Val\",\"Sai\")\n",
    "grades"
   ]
  },
  {
   "cell_type": "code",
   "execution_count": 10,
   "metadata": {},
   "outputs": [
    {
     "data": {
      "text/html": [
       "<strong>Mike:</strong> 70"
      ],
      "text/latex": [
       "\\textbf{Mike:} 70"
      ],
      "text/markdown": [
       "**Mike:** 70"
      ],
      "text/plain": [
       "Mike \n",
       "  70 "
      ]
     },
     "metadata": {},
     "output_type": "display_data"
    }
   ],
   "source": [
    "grades[\"Mike\"]"
   ]
  },
  {
   "cell_type": "markdown",
   "metadata": {},
   "source": [
    "We can also call elements out of order"
   ]
  },
  {
   "cell_type": "code",
   "execution_count": 11,
   "metadata": {},
   "outputs": [
    {
     "data": {
      "text/html": [
       "<style>\n",
       ".dl-inline {width: auto; margin:0; padding: 0}\n",
       ".dl-inline>dt, .dl-inline>dd {float: none; width: auto; display: inline-block}\n",
       ".dl-inline>dt::after {content: \":\\0020\"; padding-right: .5ex}\n",
       ".dl-inline>dt:not(:first-of-type) {padding-left: .5ex}\n",
       "</style><dl class=dl-inline><dt>Bob</dt><dd>98</dd><dt>Val</dt><dd>100</dd><dt>Jake</dt><dd>86</dd></dl>\n"
      ],
      "text/latex": [
       "\\begin{description*}\n",
       "\\item[Bob] 98\n",
       "\\item[Val] 100\n",
       "\\item[Jake] 86\n",
       "\\end{description*}\n"
      ],
      "text/markdown": [
       "Bob\n",
       ":   98Val\n",
       ":   100Jake\n",
       ":   86\n",
       "\n"
      ],
      "text/plain": [
       " Bob  Val Jake \n",
       "  98  100   86 "
      ]
     },
     "metadata": {},
     "output_type": "display_data"
    }
   ],
   "source": [
    "grades[c(\"Bob\",\"Val\",\"Jake\")]"
   ]
  },
  {
   "cell_type": "markdown",
   "metadata": {},
   "source": [
    "## Comparison Operators and Selection\n",
    "We can use comparison operatiors to filter out elements from a vector. This is sometimes referred to as boolean masking or logical masking. Let's try an example"
   ]
  },
  {
   "cell_type": "code",
   "execution_count": 14,
   "metadata": {},
   "outputs": [
    {
     "data": {
      "text/html": [
       "<style>\n",
       ".dl-inline {width: auto; margin:0; padding: 0}\n",
       ".dl-inline>dt, .dl-inline>dd {float: none; width: auto; display: inline-block}\n",
       ".dl-inline>dt::after {content: \":\\0020\"; padding-right: .5ex}\n",
       ".dl-inline>dt:not(:first-of-type) {padding-left: .5ex}\n",
       "</style><dl class=dl-inline><dt>Mike</dt><dd>70</dd><dt>Jake</dt><dd>86</dd><dt>Sai</dt><dd>55</dd></dl>\n"
      ],
      "text/latex": [
       "\\begin{description*}\n",
       "\\item[Mike] 70\n",
       "\\item[Jake] 86\n",
       "\\item[Sai] 55\n",
       "\\end{description*}\n"
      ],
      "text/markdown": [
       "Mike\n",
       ":   70Jake\n",
       ":   86Sai\n",
       ":   55\n",
       "\n"
      ],
      "text/plain": [
       "Mike Jake  Sai \n",
       "  70   86   55 "
      ]
     },
     "metadata": {},
     "output_type": "display_data"
    }
   ],
   "source": [
    "grades[grades < 90] "
   ]
  },
  {
   "cell_type": "code",
   "execution_count": 15,
   "metadata": {},
   "outputs": [
    {
     "data": {
      "text/html": [
       "<style>\n",
       ".dl-inline {width: auto; margin:0; padding: 0}\n",
       ".dl-inline>dt, .dl-inline>dd {float: none; width: auto; display: inline-block}\n",
       ".dl-inline>dt::after {content: \":\\0020\"; padding-right: .5ex}\n",
       ".dl-inline>dt:not(:first-of-type) {padding-left: .5ex}\n",
       "</style><dl class=dl-inline><dt>Bob</dt><dd>FALSE</dd><dt>Mike</dt><dd>TRUE</dd><dt>Jake</dt><dd>TRUE</dd><dt>Val</dt><dd>FALSE</dd><dt>Sai</dt><dd>TRUE</dd></dl>\n"
      ],
      "text/latex": [
       "\\begin{description*}\n",
       "\\item[Bob] FALSE\n",
       "\\item[Mike] TRUE\n",
       "\\item[Jake] TRUE\n",
       "\\item[Val] FALSE\n",
       "\\item[Sai] TRUE\n",
       "\\end{description*}\n"
      ],
      "text/markdown": [
       "Bob\n",
       ":   FALSEMike\n",
       ":   TRUEJake\n",
       ":   TRUEVal\n",
       ":   FALSESai\n",
       ":   TRUE\n",
       "\n"
      ],
      "text/plain": [
       "  Bob  Mike  Jake   Val   Sai \n",
       "FALSE  TRUE  TRUE FALSE  TRUE "
      ]
     },
     "metadata": {},
     "output_type": "display_data"
    }
   ],
   "source": [
    "grades < 90 "
   ]
  },
  {
   "cell_type": "code",
   "execution_count": 17,
   "metadata": {},
   "outputs": [
    {
     "data": {
      "text/html": [
       "<style>\n",
       ".dl-inline {width: auto; margin:0; padding: 0}\n",
       ".dl-inline>dt, .dl-inline>dd {float: none; width: auto; display: inline-block}\n",
       ".dl-inline>dt::after {content: \":\\0020\"; padding-right: .5ex}\n",
       ".dl-inline>dt:not(:first-of-type) {padding-left: .5ex}\n",
       "</style><dl class=dl-inline><dt>Bob</dt><dd>98</dd><dt>Mike</dt><dd>70</dd><dt>Jake</dt><dd>86</dd><dt>Val</dt><dd>100</dd></dl>\n"
      ],
      "text/latex": [
       "\\begin{description*}\n",
       "\\item[Bob] 98\n",
       "\\item[Mike] 70\n",
       "\\item[Jake] 86\n",
       "\\item[Val] 100\n",
       "\\end{description*}\n"
      ],
      "text/markdown": [
       "Bob\n",
       ":   98Mike\n",
       ":   70Jake\n",
       ":   86Val\n",
       ":   100\n",
       "\n"
      ],
      "text/plain": [
       " Bob Mike Jake  Val \n",
       "  98   70   86  100 "
      ]
     },
     "metadata": {},
     "output_type": "display_data"
    },
    {
     "data": {
      "text/html": [
       "<strong>Sai:</strong> 55"
      ],
      "text/latex": [
       "\\textbf{Sai:} 55"
      ],
      "text/markdown": [
       "**Sai:** 55"
      ],
      "text/plain": [
       "Sai \n",
       " 55 "
      ]
     },
     "metadata": {},
     "output_type": "display_data"
    }
   ],
   "source": [
    "grades.passed <- grades >= 65\n",
    "grades.failed <- grades < 65\n",
    "grades[grades.passed]\n",
    "grades[grades.failed]"
   ]
  },
  {
   "cell_type": "markdown",
   "metadata": {},
   "source": [
    "That's it for the basics of vectors! Time for a quiz!"
   ]
  }
 ],
 "metadata": {
  "kernelspec": {
   "display_name": "R",
   "language": "R",
   "name": "ir"
  },
  "language_info": {
   "codemirror_mode": "r",
   "file_extension": ".r",
   "mimetype": "text/x-r-source",
   "name": "R",
   "pygments_lexer": "r",
   "version": "3.6.1"
  }
 },
 "nbformat": 4,
 "nbformat_minor": 4
}
