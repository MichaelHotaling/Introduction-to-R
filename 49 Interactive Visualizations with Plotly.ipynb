{
 "cells": [
  {
   "cell_type": "markdown",
   "metadata": {},
   "source": [
    "# Interactive Visualizations with Plotly\n",
    "Plotly is an R package for creating interactive web-based graphs via plotly's JavaScript graphing library, plotly.js. The plotly R libary contains a function ggplotly which will convert ggplot2 figures into graphs drawn with plotly.js which can be saved to an online plotly account or rendered locally.\n",
    "\n",
    "https://plotly.com/\n",
    "\n",
    "https://plotly.com/r/getting-started/\n",
    "\n",
    "https://plotly.com/ggplot2/getting-started/\n",
    "\n",
    "You can install as a CRAN package:"
   ]
  },
  {
   "cell_type": "code",
   "execution_count": 5,
   "metadata": {},
   "outputs": [
    {
     "ename": "ERROR",
     "evalue": "Error in plotly.offline.init_notebook_mode(connected = True): could not find function \"plotly.offline.init_notebook_mode\"\n",
     "output_type": "error",
     "traceback": [
      "Error in plotly.offline.init_notebook_mode(connected = True): could not find function \"plotly.offline.init_notebook_mode\"\nTraceback:\n"
     ]
    }
   ],
   "source": [
    "install.packages(\"plotly\")"
   ]
  },
  {
   "cell_type": "markdown",
   "metadata": {},
   "source": [
    "\n",
    "Plotly has its own graphing call using __plot_ly()__ but it also has __ggplotly()__ which allows you directly call ggplot() code! Sometimes this code needs some slight format change.\n",
    "\n",
    "Once you've done that, you'll be able to call:"
   ]
  },
  {
   "cell_type": "code",
   "execution_count": 4,
   "metadata": {},
   "outputs": [],
   "source": [
    "library(plotly)\n",
    "# pl <- # some ggplot2 code here\n",
    "print(ggplotly(pl))"
   ]
  }
 ],
 "metadata": {
  "kernelspec": {
   "display_name": "R",
   "language": "R",
   "name": "ir"
  },
  "language_info": {
   "codemirror_mode": "r",
   "file_extension": ".r",
   "mimetype": "text/x-r-source",
   "name": "R",
   "pygments_lexer": "r",
   "version": "3.6.1"
  }
 },
 "nbformat": 4,
 "nbformat_minor": 4
}
