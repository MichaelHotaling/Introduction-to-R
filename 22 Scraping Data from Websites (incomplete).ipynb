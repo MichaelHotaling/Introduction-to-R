{
 "cells": [
  {
   "cell_type": "markdown",
   "metadata": {},
   "source": [
    "# Scraping Data from Website with R"
   ]
  },
  {
   "cell_type": "markdown",
   "metadata": {},
   "source": [
    "Web Scraping is almost always going to be unique to your personal case. This is because every website is different. Updates occur, structure can change.. etc. To fully understand webscraping in R, you'll need to understand the basics of HTML and CSS in order to know what you are trying to pull off of a website.\n",
    "\n",
    "If you don't know HTML or CSS, you might be able to use an auto-webscraping tool like [import.io](http://import.io). This tool will export a csv file with the website elements. We can experiment with that later"
   ]
  },
  {
   "cell_type": "markdown",
   "metadata": {},
   "source": [
    "### rvest library\n",
    "Many utilities come with built in demos. Let's check this one out!"
   ]
  },
  {
   "cell_type": "code",
   "execution_count": 5,
   "metadata": {},
   "outputs": [
    {
     "name": "stdout",
     "output_type": "stream",
     "text": [
      "\n",
      "\n",
      "\tdemo(tripadvisor)\n",
      "\t---- ~~~~~~~~~~~\n",
      "\n",
      "> # Inspired by\n",
      "> # http://notesofdabbler.github.io/201408_hotelReview/scrapeTripAdvisor.html\n",
      "> \n",
      "> library(rvest)\n",
      "\n",
      "> url <- \"http://www.tripadvisor.com/Hotel_Review-g37209-d1762915-Reviews-JW_Marriott_Indianapolis-Indianapolis_Indiana.html\"\n",
      "\n",
      "> reviews <- url %>%\n",
      "+   read_html() %>%\n",
      "+   html_nodes(\"#REVIEWS .innerBubble\")\n",
      "\n",
      "> id <- reviews %>%\n",
      "+   html_node(\".quote a\") %>%\n",
      "+   html_attr(\"id\")\n",
      "\n",
      "> quote <- reviews %>%\n",
      "+   html_node(\".quote span\") %>%\n",
      "+   html_text()\n",
      "\n",
      "> rating <- reviews %>%\n",
      "+   html_node(\".rating .rating_s_fill\") %>%\n",
      "+   html_attr(\"alt\") %>%\n",
      "+   gsub(\" of 5 stars\", \"\", .) %>%\n",
      "+   as.integer()\n",
      "\n",
      "> date <- reviews %>%\n",
      "+   html_node(\".rating .ratingDate\") %>%\n",
      "+   html_attr(\"title\") %>%\n",
      "+   strptime(\"%b %d, %Y\") %>%\n",
      "+   as.POSIXct()\n",
      "\n",
      "> review <- reviews %>%\n",
      "+   html_node(\".entry .partial_entry\") %>%\n",
      "+   html_text()\n",
      "\n",
      "> data.frame(id, quote, rating, date, review, stringsAsFactors = FALSE) %>% View()\n"
     ]
    },
    {
     "ename": "ERROR",
     "evalue": "Error in View(.): 'View()' not yet supported in the Jupyter R kernel\n",
     "output_type": "error",
     "traceback": [
      "Error in View(.): 'View()' not yet supported in the Jupyter R kernel\nTraceback:\n",
      "1. demo(package = \"rvest\", topic = tripadvisor)",
      "2. source(available, echo = echo, max.deparse.length = Inf, keep.source = TRUE, \n .     encoding = encoding)",
      "3. withVisible(eval(ei, envir))",
      "4. eval(ei, envir)",
      "5. eval(ei, envir)",
      "6. data.frame(id, quote, rating, date, review, stringsAsFactors = FALSE) %>% \n .     View()   # at line 36 of file C:/Users/MHotaling144186/Documents/R/win-library/3.6/rvest/demo/tripadvisor.R",
      "7. withVisible(eval(quote(`_fseq`(`_lhs`)), env, env))",
      "8. eval(quote(`_fseq`(`_lhs`)), env, env)",
      "9. eval(quote(`_fseq`(`_lhs`)), env, env)",
      "10. `_fseq`(`_lhs`)",
      "11. freduce(value, `_function_list`)",
      "12. withVisible(function_list[[k]](value))",
      "13. function_list[[k]](value)",
      "14. View(.)",
      "15. stop(sQuote(\"View()\"), \" not yet supported in the Jupyter R kernel\")"
     ]
    }
   ],
   "source": [
    "demo(package='rvest')\n",
    "\n",
    "#This doesn't work too well in the Jypter notebook, but try it in RStudio\n",
    "demo(package='rvest',topic = tripadvisor)"
   ]
  },
  {
   "cell_type": "code",
   "execution_count": 3,
   "metadata": {},
   "outputs": [],
   "source": [
    "#demo(package='rvest',topic = united)"
   ]
  },
  {
   "cell_type": "code",
   "execution_count": 4,
   "metadata": {},
   "outputs": [
    {
     "name": "stdout",
     "output_type": "stream",
     "text": [
      "\n",
      "\n",
      "\tdemo(zillow)\n",
      "\t---- ~~~~~~\n",
      "\n",
      "> # Inspired by https://github.com/notesofdabbler\n",
      "> library(rvest)\n",
      "\n",
      "> library(tidyr)\n",
      "\n",
      "> page <- read_html(\"http://www.zillow.com/homes/for_sale/Greenwood-IN/fsba,fsbo,fore,cmsn_lt/house_type/52333_rid/39.638414,-86.011362,39.550714,-86.179419_rect/12_zm/0_mmm/\")\n",
      "\n",
      "> houses <- page %>%\n",
      "+   html_nodes(\".photo-cards li article\")\n",
      "\n",
      "> z_id <- houses %>% html_attr(\"id\")\n",
      "\n",
      "> address <- houses %>%\n",
      "+   html_node(\".zsg-photo-card-address\") %>%\n",
      "+   html_text()\n",
      "\n",
      "> price <- houses %>%\n",
      "+   html_node(\".zsg-photo-card-price\") %>%\n",
      "+   html_text() %>%\n",
      "+   readr::parse_number()\n",
      "\n",
      "> params <- houses %>%\n",
      "+   html_node(\".zsg-photo-card-info\") %>%\n",
      "+   html_text() %>%\n",
      "+   strsplit(\"\\u00b7\")\n",
      "\n",
      "> beds <- params %>% purrr::map_chr(1) %>% readr::parse_number()\n",
      "\n",
      "> baths <- params %>% purrr::map_chr(2) %>% readr::parse_number()\n"
     ]
    },
    {
     "ename": "ERROR",
     "evalue": "Error: Result 1 must be a single string, not NULL of length 0\n",
     "output_type": "error",
     "traceback": [
      "Error: Result 1 must be a single string, not NULL of length 0\nTraceback:\n",
      "1. demo(package = \"rvest\", topic = zillow)",
      "2. source(available, echo = echo, max.deparse.length = Inf, keep.source = TRUE, \n .     encoding = encoding)",
      "3. withVisible(eval(ei, envir))",
      "4. eval(ei, envir)",
      "5. eval(ei, envir)",
      "6. params %>% purrr::map_chr(2) %>% readr::parse_number()   # at line 27 of file C:/Users/MHotaling144186/Documents/R/win-library/3.6/rvest/demo/zillow.R",
      "7. withVisible(eval(quote(`_fseq`(`_lhs`)), env, env))",
      "8. eval(quote(`_fseq`(`_lhs`)), env, env)",
      "9. eval(quote(`_fseq`(`_lhs`)), env, env)",
      "10. `_fseq`(`_lhs`)",
      "11. freduce(value, `_function_list`)",
      "12. function_list[[i]](value)",
      "13. purrr::map_chr(., 2)",
      "14. purrr:::stop_bad_element_vector(NULL, 1, character(0), 1, what = \"Result\", \n  .     arg = NULL, recycle = FALSE)",
      "15. stop_bad_vector(x, expected_ptype, expected_length, what = what, \n  .     arg = arg, index = index, ..., recycle = recycle, message = message, \n  .     .subclass = c(.subclass, \"purrr_error_bad_element_vector\"))",
      "16. stop_bad_type(x, expected, actual = actual, what = what, arg = arg, \n  .     recycle = recycle, message = message, .subclass = c(.subclass, \n  .         \"purrr_error_bad_vector\"))",
      "17. abort(message, x = x, expected = expected, actual = actual, what = what, \n  .     arg = arg, ..., .subclass = c(.subclass, \"purrr_error_bad_type\"))",
      "18. signal_abort(cnd)"
     ]
    }
   ],
   "source": [
    "demo(package='rvest',topic = zillow)"
   ]
  },
  {
   "cell_type": "code",
   "execution_count": null,
   "metadata": {},
   "outputs": [],
   "source": []
  },
  {
   "cell_type": "code",
   "execution_count": null,
   "metadata": {},
   "outputs": [],
   "source": []
  }
 ],
 "metadata": {
  "kernelspec": {
   "display_name": "R",
   "language": "R",
   "name": "ir"
  },
  "language_info": {
   "codemirror_mode": "r",
   "file_extension": ".r",
   "mimetype": "text/x-r-source",
   "name": "R",
   "pygments_lexer": "r",
   "version": "3.6.1"
  }
 },
 "nbformat": 4,
 "nbformat_minor": 4
}
