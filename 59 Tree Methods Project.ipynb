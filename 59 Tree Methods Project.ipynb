{
 "cells": [
  {
   "cell_type": "markdown",
   "metadata": {},
   "source": [
    "## Tree Methods Project\n",
    "For this project, we will be exploring the use of tree methods to classify schools as Private or Public based off of their features.\n",
    "Let's start by getting the data which is included in the ISLR library, the College dataframe.\n",
    "\n",
    "A dataframe with 777 observation on the following 18 variables\n",
    "\n",
    "- Private A factor with levels No and Yes indicating private or public university\n",
    "- Apps Number of applications received\n",
    "- Accept Number of applications accepted\n",
    "- Enroll Number of new students enrolled\n",
    "- Top10perc Pct. new students from top 10% of H.S. class\n",
    "- Top25perc Pct. new students from top 25% of H.S. class\n",
    "- F.Undergrad Number of fulltime undergraduates\n",
    "- P.Undergrad Number of parttime undergraduates\n",
    "- Outstate Out-of-state tuition\n",
    "- Room.Board Room and board costs\n",
    "- Books Estimated book costs\n",
    "- Personal Estimated personal spending\n",
    "- PhD Pct. of faculty with Ph.D.’s\n",
    "- Terminal Pct. of faculty with terminal degree\n",
    "- S.F.Ratio Student/faculty ratio\n",
    "- perc.alumni Pct. alumni who donate\n",
    "- Expend Instructional expenditure per student\n",
    "- Grad.Rate Graduation rate\n",
    "\n",
    "Get the Data\n",
    "\n",
    "__Call the ISLR library and check the head of College (a built-in dataframe with ISLR, use data() to check this.) Then reassign College to a dataframe called df__"
   ]
  },
  {
   "cell_type": "code",
   "execution_count": 1,
   "metadata": {},
   "outputs": [
    {
     "name": "stderr",
     "output_type": "stream",
     "text": [
      "Warning message:\n",
      "\"package 'ISLR' was built under R version 3.6.3\""
     ]
    },
    {
     "data": {
      "text/html": [
       "<table>\n",
       "<caption>A data.frame: 6 × 18</caption>\n",
       "<thead>\n",
       "\t<tr><th></th><th scope=col>Private</th><th scope=col>Apps</th><th scope=col>Accept</th><th scope=col>Enroll</th><th scope=col>Top10perc</th><th scope=col>Top25perc</th><th scope=col>F.Undergrad</th><th scope=col>P.Undergrad</th><th scope=col>Outstate</th><th scope=col>Room.Board</th><th scope=col>Books</th><th scope=col>Personal</th><th scope=col>PhD</th><th scope=col>Terminal</th><th scope=col>S.F.Ratio</th><th scope=col>perc.alumni</th><th scope=col>Expend</th><th scope=col>Grad.Rate</th></tr>\n",
       "\t<tr><th></th><th scope=col>&lt;fct&gt;</th><th scope=col>&lt;dbl&gt;</th><th scope=col>&lt;dbl&gt;</th><th scope=col>&lt;dbl&gt;</th><th scope=col>&lt;dbl&gt;</th><th scope=col>&lt;dbl&gt;</th><th scope=col>&lt;dbl&gt;</th><th scope=col>&lt;dbl&gt;</th><th scope=col>&lt;dbl&gt;</th><th scope=col>&lt;dbl&gt;</th><th scope=col>&lt;dbl&gt;</th><th scope=col>&lt;dbl&gt;</th><th scope=col>&lt;dbl&gt;</th><th scope=col>&lt;dbl&gt;</th><th scope=col>&lt;dbl&gt;</th><th scope=col>&lt;dbl&gt;</th><th scope=col>&lt;dbl&gt;</th><th scope=col>&lt;dbl&gt;</th></tr>\n",
       "</thead>\n",
       "<tbody>\n",
       "\t<tr><th scope=row>Abilene Christian University</th><td>Yes</td><td>1660</td><td>1232</td><td>721</td><td>23</td><td>52</td><td>2885</td><td> 537</td><td> 7440</td><td>3300</td><td>450</td><td>2200</td><td>70</td><td>78</td><td>18.1</td><td>12</td><td> 7041</td><td>60</td></tr>\n",
       "\t<tr><th scope=row>Adelphi University</th><td>Yes</td><td>2186</td><td>1924</td><td>512</td><td>16</td><td>29</td><td>2683</td><td>1227</td><td>12280</td><td>6450</td><td>750</td><td>1500</td><td>29</td><td>30</td><td>12.2</td><td>16</td><td>10527</td><td>56</td></tr>\n",
       "\t<tr><th scope=row>Adrian College</th><td>Yes</td><td>1428</td><td>1097</td><td>336</td><td>22</td><td>50</td><td>1036</td><td>  99</td><td>11250</td><td>3750</td><td>400</td><td>1165</td><td>53</td><td>66</td><td>12.9</td><td>30</td><td> 8735</td><td>54</td></tr>\n",
       "\t<tr><th scope=row>Agnes Scott College</th><td>Yes</td><td> 417</td><td> 349</td><td>137</td><td>60</td><td>89</td><td> 510</td><td>  63</td><td>12960</td><td>5450</td><td>450</td><td> 875</td><td>92</td><td>97</td><td> 7.7</td><td>37</td><td>19016</td><td>59</td></tr>\n",
       "\t<tr><th scope=row>Alaska Pacific University</th><td>Yes</td><td> 193</td><td> 146</td><td> 55</td><td>16</td><td>44</td><td> 249</td><td> 869</td><td> 7560</td><td>4120</td><td>800</td><td>1500</td><td>76</td><td>72</td><td>11.9</td><td> 2</td><td>10922</td><td>15</td></tr>\n",
       "\t<tr><th scope=row>Albertson College</th><td>Yes</td><td> 587</td><td> 479</td><td>158</td><td>38</td><td>62</td><td> 678</td><td>  41</td><td>13500</td><td>3335</td><td>500</td><td> 675</td><td>67</td><td>73</td><td> 9.4</td><td>11</td><td> 9727</td><td>55</td></tr>\n",
       "</tbody>\n",
       "</table>\n"
      ],
      "text/latex": [
       "A data.frame: 6 × 18\n",
       "\\begin{tabular}{r|llllllllllllllllll}\n",
       "  & Private & Apps & Accept & Enroll & Top10perc & Top25perc & F.Undergrad & P.Undergrad & Outstate & Room.Board & Books & Personal & PhD & Terminal & S.F.Ratio & perc.alumni & Expend & Grad.Rate\\\\\n",
       "  & <fct> & <dbl> & <dbl> & <dbl> & <dbl> & <dbl> & <dbl> & <dbl> & <dbl> & <dbl> & <dbl> & <dbl> & <dbl> & <dbl> & <dbl> & <dbl> & <dbl> & <dbl>\\\\\n",
       "\\hline\n",
       "\tAbilene Christian University & Yes & 1660 & 1232 & 721 & 23 & 52 & 2885 &  537 &  7440 & 3300 & 450 & 2200 & 70 & 78 & 18.1 & 12 &  7041 & 60\\\\\n",
       "\tAdelphi University & Yes & 2186 & 1924 & 512 & 16 & 29 & 2683 & 1227 & 12280 & 6450 & 750 & 1500 & 29 & 30 & 12.2 & 16 & 10527 & 56\\\\\n",
       "\tAdrian College & Yes & 1428 & 1097 & 336 & 22 & 50 & 1036 &   99 & 11250 & 3750 & 400 & 1165 & 53 & 66 & 12.9 & 30 &  8735 & 54\\\\\n",
       "\tAgnes Scott College & Yes &  417 &  349 & 137 & 60 & 89 &  510 &   63 & 12960 & 5450 & 450 &  875 & 92 & 97 &  7.7 & 37 & 19016 & 59\\\\\n",
       "\tAlaska Pacific University & Yes &  193 &  146 &  55 & 16 & 44 &  249 &  869 &  7560 & 4120 & 800 & 1500 & 76 & 72 & 11.9 &  2 & 10922 & 15\\\\\n",
       "\tAlbertson College & Yes &  587 &  479 & 158 & 38 & 62 &  678 &   41 & 13500 & 3335 & 500 &  675 & 67 & 73 &  9.4 & 11 &  9727 & 55\\\\\n",
       "\\end{tabular}\n"
      ],
      "text/markdown": [
       "\n",
       "A data.frame: 6 × 18\n",
       "\n",
       "| <!--/--> | Private &lt;fct&gt; | Apps &lt;dbl&gt; | Accept &lt;dbl&gt; | Enroll &lt;dbl&gt; | Top10perc &lt;dbl&gt; | Top25perc &lt;dbl&gt; | F.Undergrad &lt;dbl&gt; | P.Undergrad &lt;dbl&gt; | Outstate &lt;dbl&gt; | Room.Board &lt;dbl&gt; | Books &lt;dbl&gt; | Personal &lt;dbl&gt; | PhD &lt;dbl&gt; | Terminal &lt;dbl&gt; | S.F.Ratio &lt;dbl&gt; | perc.alumni &lt;dbl&gt; | Expend &lt;dbl&gt; | Grad.Rate &lt;dbl&gt; |\n",
       "|---|---|---|---|---|---|---|---|---|---|---|---|---|---|---|---|---|---|---|\n",
       "| Abilene Christian University | Yes | 1660 | 1232 | 721 | 23 | 52 | 2885 |  537 |  7440 | 3300 | 450 | 2200 | 70 | 78 | 18.1 | 12 |  7041 | 60 |\n",
       "| Adelphi University | Yes | 2186 | 1924 | 512 | 16 | 29 | 2683 | 1227 | 12280 | 6450 | 750 | 1500 | 29 | 30 | 12.2 | 16 | 10527 | 56 |\n",
       "| Adrian College | Yes | 1428 | 1097 | 336 | 22 | 50 | 1036 |   99 | 11250 | 3750 | 400 | 1165 | 53 | 66 | 12.9 | 30 |  8735 | 54 |\n",
       "| Agnes Scott College | Yes |  417 |  349 | 137 | 60 | 89 |  510 |   63 | 12960 | 5450 | 450 |  875 | 92 | 97 |  7.7 | 37 | 19016 | 59 |\n",
       "| Alaska Pacific University | Yes |  193 |  146 |  55 | 16 | 44 |  249 |  869 |  7560 | 4120 | 800 | 1500 | 76 | 72 | 11.9 |  2 | 10922 | 15 |\n",
       "| Albertson College | Yes |  587 |  479 | 158 | 38 | 62 |  678 |   41 | 13500 | 3335 | 500 |  675 | 67 | 73 |  9.4 | 11 |  9727 | 55 |\n",
       "\n"
      ],
      "text/plain": [
       "                             Private Apps Accept Enroll Top10perc Top25perc\n",
       "Abilene Christian University Yes     1660 1232   721    23        52       \n",
       "Adelphi University           Yes     2186 1924   512    16        29       \n",
       "Adrian College               Yes     1428 1097   336    22        50       \n",
       "Agnes Scott College          Yes      417  349   137    60        89       \n",
       "Alaska Pacific University    Yes      193  146    55    16        44       \n",
       "Albertson College            Yes      587  479   158    38        62       \n",
       "                             F.Undergrad P.Undergrad Outstate Room.Board Books\n",
       "Abilene Christian University 2885         537         7440    3300       450  \n",
       "Adelphi University           2683        1227        12280    6450       750  \n",
       "Adrian College               1036          99        11250    3750       400  \n",
       "Agnes Scott College           510          63        12960    5450       450  \n",
       "Alaska Pacific University     249         869         7560    4120       800  \n",
       "Albertson College             678          41        13500    3335       500  \n",
       "                             Personal PhD Terminal S.F.Ratio perc.alumni Expend\n",
       "Abilene Christian University 2200     70  78       18.1      12           7041 \n",
       "Adelphi University           1500     29  30       12.2      16          10527 \n",
       "Adrian College               1165     53  66       12.9      30           8735 \n",
       "Agnes Scott College           875     92  97        7.7      37          19016 \n",
       "Alaska Pacific University    1500     76  72       11.9       2          10922 \n",
       "Albertson College             675     67  73        9.4      11           9727 \n",
       "                             Grad.Rate\n",
       "Abilene Christian University 60       \n",
       "Adelphi University           56       \n",
       "Adrian College               54       \n",
       "Agnes Scott College          59       \n",
       "Alaska Pacific University    15       \n",
       "Albertson College            55       "
      ]
     },
     "metadata": {},
     "output_type": "display_data"
    }
   ],
   "source": [
    "library(ISLR)\n",
    "head(College)\n",
    "df <- College"
   ]
  },
  {
   "cell_type": "markdown",
   "metadata": {},
   "source": [
    "## Exploratory Data Analysis\n",
    "__Create a scatterplot of Grad.Rate verses Room.Board, colored by the Private column__"
   ]
  },
  {
   "cell_type": "code",
   "execution_count": 2,
   "metadata": {},
   "outputs": [
    {
     "name": "stderr",
     "output_type": "stream",
     "text": [
      "Warning message:\n",
      "\"package 'ggplot2' was built under R version 3.6.2\""
     ]
    },
    {
     "data": {
      "image/png": "[encoded data removed]",
      "text/plain": [
       "plot without title"
      ]
     },
     "metadata": {},
     "output_type": "display_data"
    }
   ],
   "source": [
    "library(ggplot2)\n",
    "ggplot(data = df, aes(x = Room.Board, y = Grad.Rate)) + \n",
    "geom_point(aes(color = Private)) +\n",
    "theme_minimal()"
   ]
  },
  {
   "cell_type": "markdown",
   "metadata": {},
   "source": [
    "__Create a histogram of full time undergrad students, color by Private__"
   ]
  },
  {
   "cell_type": "code",
   "execution_count": 3,
   "metadata": {},
   "outputs": [
    {
     "data": {
      "image/png": "[encoded data removed]",
      "text/plain": [
       "plot without title"
      ]
     },
     "metadata": {},
     "output_type": "display_data"
    }
   ],
   "source": [
    "ggplot(data = df, aes(x = F.Undergrad)) + \n",
    "geom_histogram(aes(fill = Private), \n",
    "               position =\"dodge\", \n",
    "               color = \"black\", \n",
    "               bins = 50) +\n",
    "theme_minimal()"
   ]
  },
  {
   "cell_type": "markdown",
   "metadata": {},
   "source": [
    "__Create a histogram of Grad.Rate colored by Private. You should see something strange here.__"
   ]
  },
  {
   "cell_type": "code",
   "execution_count": 4,
   "metadata": {},
   "outputs": [
    {
     "data": {
      "image/png": "[encoded data removed]",
      "text/plain": [
       "plot without title"
      ]
     },
     "metadata": {},
     "output_type": "display_data"
    }
   ],
   "source": [
    "ggplot(data = df, aes(x = Grad.Rate)) + \n",
    "geom_histogram(aes(fill = Private), \n",
    "               position =\"dodge\", \n",
    "               color = \"black\", \n",
    "               bins = 50) +\n",
    "theme_minimal()"
   ]
  },
  {
   "cell_type": "markdown",
   "metadata": {},
   "source": [
    "__What college had a Graduation Rate above 100%__"
   ]
  },
  {
   "cell_type": "code",
   "execution_count": 5,
   "metadata": {},
   "outputs": [
    {
     "name": "stderr",
     "output_type": "stream",
     "text": [
      "Warning message:\n",
      "\"package 'dplyr' was built under R version 3.6.3\"\n",
      "Attaching package: 'dplyr'\n",
      "\n",
      "The following objects are masked from 'package:stats':\n",
      "\n",
      "    filter, lag\n",
      "\n",
      "The following objects are masked from 'package:base':\n",
      "\n",
      "    intersect, setdiff, setequal, union\n",
      "\n"
     ]
    }
   ],
   "source": [
    "library(dplyr)"
   ]
  },
  {
   "cell_type": "code",
   "execution_count": 6,
   "metadata": {},
   "outputs": [
    {
     "data": {
      "text/html": [
       "<table>\n",
       "<caption>A data.frame: 1 × 18</caption>\n",
       "<thead>\n",
       "\t<tr><th></th><th scope=col>Private</th><th scope=col>Apps</th><th scope=col>Accept</th><th scope=col>Enroll</th><th scope=col>Top10perc</th><th scope=col>Top25perc</th><th scope=col>F.Undergrad</th><th scope=col>P.Undergrad</th><th scope=col>Outstate</th><th scope=col>Room.Board</th><th scope=col>Books</th><th scope=col>Personal</th><th scope=col>PhD</th><th scope=col>Terminal</th><th scope=col>S.F.Ratio</th><th scope=col>perc.alumni</th><th scope=col>Expend</th><th scope=col>Grad.Rate</th></tr>\n",
       "\t<tr><th></th><th scope=col>&lt;fct&gt;</th><th scope=col>&lt;dbl&gt;</th><th scope=col>&lt;dbl&gt;</th><th scope=col>&lt;dbl&gt;</th><th scope=col>&lt;dbl&gt;</th><th scope=col>&lt;dbl&gt;</th><th scope=col>&lt;dbl&gt;</th><th scope=col>&lt;dbl&gt;</th><th scope=col>&lt;dbl&gt;</th><th scope=col>&lt;dbl&gt;</th><th scope=col>&lt;dbl&gt;</th><th scope=col>&lt;dbl&gt;</th><th scope=col>&lt;dbl&gt;</th><th scope=col>&lt;dbl&gt;</th><th scope=col>&lt;dbl&gt;</th><th scope=col>&lt;dbl&gt;</th><th scope=col>&lt;dbl&gt;</th><th scope=col>&lt;dbl&gt;</th></tr>\n",
       "</thead>\n",
       "<tbody>\n",
       "\t<tr><th scope=row>Cazenovia College</th><td>Yes</td><td>3847</td><td>3433</td><td>527</td><td>9</td><td>35</td><td>1010</td><td>12</td><td>9384</td><td>4840</td><td>600</td><td>500</td><td>22</td><td>47</td><td>14.3</td><td>20</td><td>7697</td><td>118</td></tr>\n",
       "</tbody>\n",
       "</table>\n"
      ],
      "text/latex": [
       "A data.frame: 1 × 18\n",
       "\\begin{tabular}{r|llllllllllllllllll}\n",
       "  & Private & Apps & Accept & Enroll & Top10perc & Top25perc & F.Undergrad & P.Undergrad & Outstate & Room.Board & Books & Personal & PhD & Terminal & S.F.Ratio & perc.alumni & Expend & Grad.Rate\\\\\n",
       "  & <fct> & <dbl> & <dbl> & <dbl> & <dbl> & <dbl> & <dbl> & <dbl> & <dbl> & <dbl> & <dbl> & <dbl> & <dbl> & <dbl> & <dbl> & <dbl> & <dbl> & <dbl>\\\\\n",
       "\\hline\n",
       "\tCazenovia College & Yes & 3847 & 3433 & 527 & 9 & 35 & 1010 & 12 & 9384 & 4840 & 600 & 500 & 22 & 47 & 14.3 & 20 & 7697 & 118\\\\\n",
       "\\end{tabular}\n"
      ],
      "text/markdown": [
       "\n",
       "A data.frame: 1 × 18\n",
       "\n",
       "| <!--/--> | Private &lt;fct&gt; | Apps &lt;dbl&gt; | Accept &lt;dbl&gt; | Enroll &lt;dbl&gt; | Top10perc &lt;dbl&gt; | Top25perc &lt;dbl&gt; | F.Undergrad &lt;dbl&gt; | P.Undergrad &lt;dbl&gt; | Outstate &lt;dbl&gt; | Room.Board &lt;dbl&gt; | Books &lt;dbl&gt; | Personal &lt;dbl&gt; | PhD &lt;dbl&gt; | Terminal &lt;dbl&gt; | S.F.Ratio &lt;dbl&gt; | perc.alumni &lt;dbl&gt; | Expend &lt;dbl&gt; | Grad.Rate &lt;dbl&gt; |\n",
       "|---|---|---|---|---|---|---|---|---|---|---|---|---|---|---|---|---|---|---|\n",
       "| Cazenovia College | Yes | 3847 | 3433 | 527 | 9 | 35 | 1010 | 12 | 9384 | 4840 | 600 | 500 | 22 | 47 | 14.3 | 20 | 7697 | 118 |\n",
       "\n"
      ],
      "text/plain": [
       "                  Private Apps Accept Enroll Top10perc Top25perc F.Undergrad\n",
       "Cazenovia College Yes     3847 3433   527    9         35        1010       \n",
       "                  P.Undergrad Outstate Room.Board Books Personal PhD Terminal\n",
       "Cazenovia College 12          9384     4840       600   500      22  47      \n",
       "                  S.F.Ratio perc.alumni Expend Grad.Rate\n",
       "Cazenovia College 14.3      20          7697   118      "
      ]
     },
     "metadata": {},
     "output_type": "display_data"
    }
   ],
   "source": [
    "subset(df, Grad.Rate >100)"
   ]
  },
  {
   "cell_type": "markdown",
   "metadata": {},
   "source": [
    "__Change that college's grad rate to 100%__"
   ]
  },
  {
   "cell_type": "code",
   "execution_count": 7,
   "metadata": {},
   "outputs": [],
   "source": [
    "df['Cazenovia College','Grad.Rate'] <- 100"
   ]
  },
  {
   "cell_type": "markdown",
   "metadata": {},
   "source": [
    "## Train Test Split\n",
    "__Split your data into training and testing sets 70/30. Use the caTools library to do this.__"
   ]
  },
  {
   "cell_type": "code",
   "execution_count": 8,
   "metadata": {},
   "outputs": [
    {
     "name": "stderr",
     "output_type": "stream",
     "text": [
      "Warning message:\n",
      "\"package 'caTools' was built under R version 3.6.3\""
     ]
    }
   ],
   "source": [
    "library(caTools)\n",
    "\n",
    "set.seed(101)\n",
    "sample = sample.split(df$Private, SplitRatio = 0.7)\n",
    "\n",
    "train = subset(df, sample == TRUE)\n",
    "test = subset(df, sample == FALSE)"
   ]
  },
  {
   "cell_type": "markdown",
   "metadata": {},
   "source": [
    "## Decision Tree\n",
    "__Use the rpart library to build a decision tree to predict whether or not a school is Private. Remember to only build your tree off of the training data.__"
   ]
  },
  {
   "cell_type": "code",
   "execution_count": 9,
   "metadata": {},
   "outputs": [
    {
     "name": "stderr",
     "output_type": "stream",
     "text": [
      "Warning message:\n",
      "\"package 'rpart' was built under R version 3.6.3\""
     ]
    }
   ],
   "source": [
    "library(rpart)"
   ]
  },
  {
   "cell_type": "code",
   "execution_count": 10,
   "metadata": {
    "scrolled": true
   },
   "outputs": [
    {
     "name": "stdout",
     "output_type": "stream",
     "text": [
      "Call:\n",
      "rpart(formula = Private ~ ., data = train, method = \"class\")\n",
      "  n= 544 \n",
      "\n",
      "          CP nsplit rel error    xerror       xstd\n",
      "1 0.48648649      0 1.0000000 1.0000000 0.07013217\n",
      "2 0.21621622      1 0.5135135 0.5945946 0.05803134\n",
      "3 0.02702703      2 0.2972973 0.3581081 0.04673234\n",
      "4 0.02027027      3 0.2702703 0.3918919 0.04863747\n",
      "5 0.01000000      8 0.1554054 0.3918919 0.04863747\n",
      "\n",
      "Variable importance\n",
      "F.Undergrad      Enroll      Accept        Apps    Outstate P.Undergrad \n",
      "         17          15          13          11          10           8 \n",
      "  S.F.Ratio  Room.Board      Expend   Grad.Rate   Top10perc   Top25perc \n",
      "          7           5           4           4           3           1 \n",
      "\n",
      "Node number 1: 544 observations,    complexity param=0.4864865\n",
      "  predicted class=Yes  expected loss=0.2720588  P(node) =1\n",
      "    class counts:   148   396\n",
      "   probabilities: 0.272 0.728 \n",
      "  left son=2 (164 obs) right son=3 (380 obs)\n",
      "  Primary splits:\n",
      "      F.Undergrad < 2992.5  to the right, improve=94.01231, (0 missing)\n",
      "      Outstate    < 7997    to the left,  improve=85.65668, (0 missing)\n",
      "      Enroll      < 723     to the right, improve=70.83833, (0 missing)\n",
      "      S.F.Ratio   < 14.85   to the right, improve=62.61949, (0 missing)\n",
      "      P.Undergrad < 863.5   to the right, improve=61.88063, (0 missing)\n",
      "  Surrogate splits:\n",
      "      Enroll      < 733     to the right, agree=0.963, adj=0.878, (0 split)\n",
      "      Accept      < 2039.5  to the right, agree=0.930, adj=0.768, (0 split)\n",
      "      Apps        < 3038    to the right, agree=0.903, adj=0.677, (0 split)\n",
      "      P.Undergrad < 1309.5  to the right, agree=0.824, adj=0.415, (0 split)\n",
      "      S.F.Ratio   < 16.55   to the right, agree=0.761, adj=0.207, (0 split)\n",
      "\n",
      "Node number 2: 164 observations,    complexity param=0.2162162\n",
      "  predicted class=No   expected loss=0.2804878  P(node) =0.3014706\n",
      "    class counts:   118    46\n",
      "   probabilities: 0.720 0.280 \n",
      "  left son=4 (112 obs) right son=5 (52 obs)\n",
      "  Primary splits:\n",
      "      Outstate   < 10218.5 to the left,  improve=42.32699, (0 missing)\n",
      "      Room.Board < 5569    to the left,  improve=35.87266, (0 missing)\n",
      "      Expend     < 13927.5 to the left,  improve=25.51731, (0 missing)\n",
      "      S.F.Ratio  < 15.05   to the right, improve=22.78210, (0 missing)\n",
      "      Grad.Rate  < 65.5    to the left,  improve=19.31366, (0 missing)\n",
      "  Surrogate splits:\n",
      "      Room.Board < 4889    to the left,  agree=0.884, adj=0.635, (0 split)\n",
      "      Expend     < 13904   to the left,  agree=0.835, adj=0.481, (0 split)\n",
      "      Grad.Rate  < 69.5    to the left,  agree=0.829, adj=0.462, (0 split)\n",
      "      S.F.Ratio  < 14.25   to the right, agree=0.817, adj=0.423, (0 split)\n",
      "      Top10perc  < 39.5    to the left,  agree=0.793, adj=0.346, (0 split)\n",
      "\n",
      "Node number 3: 380 observations,    complexity param=0.02027027\n",
      "  predicted class=Yes  expected loss=0.07894737  P(node) =0.6985294\n",
      "    class counts:    30   350\n",
      "   probabilities: 0.079 0.921 \n",
      "  left son=6 (78 obs) right son=7 (302 obs)\n",
      "  Primary splits:\n",
      "      Outstate   < 7935    to the left,  improve=16.833880, (0 missing)\n",
      "      Room.Board < 2790    to the left,  improve= 9.368713, (0 missing)\n",
      "      Top10perc  < 6.5     to the left,  improve= 7.015380, (0 missing)\n",
      "      Expend     < 7013.5  to the left,  improve= 6.460093, (0 missing)\n",
      "      Grad.Rate  < 51.5    to the left,  improve= 5.929825, (0 missing)\n",
      "  Surrogate splits:\n",
      "      Room.Board  < 3050    to the left,  agree=0.850, adj=0.269, (0 split)\n",
      "      Expend      < 5581    to the left,  agree=0.837, adj=0.205, (0 split)\n",
      "      Grad.Rate   < 46.5    to the left,  agree=0.829, adj=0.167, (0 split)\n",
      "      S.F.Ratio   < 17.65   to the right, agree=0.826, adj=0.154, (0 split)\n",
      "      perc.alumni < 10.5    to the left,  agree=0.826, adj=0.154, (0 split)\n",
      "\n",
      "Node number 4: 112 observations\n",
      "  predicted class=No   expected loss=0.03571429  P(node) =0.2058824\n",
      "    class counts:   108     4\n",
      "   probabilities: 0.964 0.036 \n",
      "\n",
      "Node number 5: 52 observations,    complexity param=0.02702703\n",
      "  predicted class=Yes  expected loss=0.1923077  P(node) =0.09558824\n",
      "    class counts:    10    42\n",
      "   probabilities: 0.192 0.808 \n",
      "  left son=10 (12 obs) right son=11 (40 obs)\n",
      "  Primary splits:\n",
      "      Accept      < 5934    to the right, improve=7.020513, (0 missing)\n",
      "      Enroll      < 1706    to the right, improve=7.007900, (0 missing)\n",
      "      F.Undergrad < 7184.5  to the right, improve=6.334402, (0 missing)\n",
      "      S.F.Ratio   < 15.7    to the right, improve=4.898032, (0 missing)\n",
      "      Outstate    < 12398   to the left,  improve=4.316346, (0 missing)\n",
      "  Surrogate splits:\n",
      "      Enroll      < 1731    to the right, agree=0.962, adj=0.833, (0 split)\n",
      "      F.Undergrad < 9943    to the right, agree=0.962, adj=0.833, (0 split)\n",
      "      Apps        < 14155.5 to the right, agree=0.885, adj=0.500, (0 split)\n",
      "      P.Undergrad < 1597    to the right, agree=0.885, adj=0.500, (0 split)\n",
      "      S.F.Ratio   < 15.7    to the right, agree=0.827, adj=0.250, (0 split)\n",
      "\n",
      "Node number 6: 78 observations,    complexity param=0.02027027\n",
      "  predicted class=Yes  expected loss=0.3717949  P(node) =0.1433824\n",
      "    class counts:    29    49\n",
      "   probabilities: 0.372 0.628 \n",
      "  left son=12 (54 obs) right son=13 (24 obs)\n",
      "  Primary splits:\n",
      "      F.Undergrad < 947     to the right, improve=5.769231, (0 missing)\n",
      "      P.Undergrad < 186.5   to the right, improve=5.551049, (0 missing)\n",
      "      Room.Board  < 4525    to the right, improve=5.440728, (0 missing)\n",
      "      Top10perc   < 7       to the left,  improve=4.928205, (0 missing)\n",
      "      PhD         < 70.5    to the right, improve=4.628205, (0 missing)\n",
      "  Surrogate splits:\n",
      "      Enroll      < 220     to the right, agree=0.872, adj=0.583, (0 split)\n",
      "      Accept      < 384.5   to the right, agree=0.769, adj=0.250, (0 split)\n",
      "      Apps        < 378     to the right, agree=0.756, adj=0.208, (0 split)\n",
      "      PhD         < 46.5    to the right, agree=0.756, adj=0.208, (0 split)\n",
      "      P.Undergrad < 80      to the right, agree=0.744, adj=0.167, (0 split)\n",
      "\n",
      "Node number 7: 302 observations\n",
      "  predicted class=Yes  expected loss=0.003311258  P(node) =0.5551471\n",
      "    class counts:     1   301\n",
      "   probabilities: 0.003 0.997 \n",
      "\n",
      "Node number 10: 12 observations\n",
      "  predicted class=No   expected loss=0.3333333  P(node) =0.02205882\n",
      "    class counts:     8     4\n",
      "   probabilities: 0.667 0.333 \n",
      "\n",
      "Node number 11: 40 observations\n",
      "  predicted class=Yes  expected loss=0.05  P(node) =0.07352941\n",
      "    class counts:     2    38\n",
      "   probabilities: 0.050 0.950 \n",
      "\n",
      "Node number 12: 54 observations,    complexity param=0.02027027\n",
      "  predicted class=No   expected loss=0.5  P(node) =0.09926471\n",
      "    class counts:    27    27\n",
      "   probabilities: 0.500 0.500 \n",
      "  left son=24 (9 obs) right son=25 (45 obs)\n",
      "  Primary splits:\n",
      "      Top10perc   < 9.5     to the left,  improve=5.400000, (0 missing)\n",
      "      P.Undergrad < 187.5   to the right, improve=4.912782, (0 missing)\n",
      "      Top25perc   < 33.5    to the left,  improve=4.821429, (0 missing)\n",
      "      Terminal    < 86      to the right, improve=4.695652, (0 missing)\n",
      "      Grad.Rate   < 59.5    to the left,  improve=4.166667, (0 missing)\n",
      "  Surrogate splits:\n",
      "      Top25perc   < 23      to the left,  agree=0.944, adj=0.667, (0 split)\n",
      "      Room.Board  < 4265    to the right, agree=0.889, adj=0.333, (0 split)\n",
      "      P.Undergrad < 1426.5  to the right, agree=0.870, adj=0.222, (0 split)\n",
      "      Terminal    < 90      to the right, agree=0.852, adj=0.111, (0 split)\n",
      "\n",
      "Node number 13: 24 observations\n",
      "  predicted class=Yes  expected loss=0.08333333  P(node) =0.04411765\n",
      "    class counts:     2    22\n",
      "   probabilities: 0.083 0.917 \n",
      "\n",
      "Node number 24: 9 observations\n",
      "  predicted class=No   expected loss=0  P(node) =0.01654412\n",
      "    class counts:     9     0\n",
      "   probabilities: 1.000 0.000 \n",
      "\n",
      "Node number 25: 45 observations,    complexity param=0.02027027\n",
      "  predicted class=Yes  expected loss=0.4  P(node) =0.08272059\n",
      "    class counts:    18    27\n",
      "   probabilities: 0.400 0.600 \n",
      "  left son=50 (28 obs) right son=51 (17 obs)\n",
      "  Primary splits:\n",
      "      P.Undergrad < 187.5   to the right, improve=4.356303, (0 missing)\n",
      "      Grad.Rate   < 63.5    to the left,  improve=3.281818, (0 missing)\n",
      "      Outstate    < 4884    to the left,  improve=3.211111, (0 missing)\n",
      "      Terminal    < 70.5    to the right, improve=2.880000, (0 missing)\n",
      "      PhD         < 70.5    to the right, improve=2.513793, (0 missing)\n",
      "  Surrogate splits:\n",
      "      F.Undergrad < 1312.5  to the right, agree=0.733, adj=0.294, (0 split)\n",
      "      Grad.Rate   < 61.5    to the left,  agree=0.733, adj=0.294, (0 split)\n",
      "      Expend      < 7068.5  to the left,  agree=0.711, adj=0.235, (0 split)\n",
      "      Apps        < 1927    to the left,  agree=0.689, adj=0.176, (0 split)\n",
      "      Accept      < 998     to the left,  agree=0.689, adj=0.176, (0 split)\n",
      "\n",
      "Node number 50: 28 observations,    complexity param=0.02027027\n",
      "  predicted class=No   expected loss=0.4285714  P(node) =0.05147059\n",
      "    class counts:    16    12\n",
      "   probabilities: 0.571 0.429 \n",
      "  left son=100 (20 obs) right son=101 (8 obs)\n",
      "  Primary splits:\n",
      "      Enroll    < 469.5   to the left,  improve=2.314286, (0 missing)\n",
      "      Outstate  < 4738    to the left,  improve=1.523810, (0 missing)\n",
      "      Accept    < 956     to the left,  improve=1.523810, (0 missing)\n",
      "      Top25perc < 65      to the right, improve=1.523810, (0 missing)\n",
      "      Grad.Rate < 59.5    to the left,  improve=1.523810, (0 missing)\n",
      "  Surrogate splits:\n",
      "      Accept      < 847.5   to the left,  agree=0.857, adj=0.500, (0 split)\n",
      "      Apps        < 995.5   to the left,  agree=0.821, adj=0.375, (0 split)\n",
      "      P.Undergrad < 533     to the left,  agree=0.786, adj=0.250, (0 split)\n",
      "      Outstate    < 7425.5  to the left,  agree=0.786, adj=0.250, (0 split)\n",
      "      Books       < 425     to the right, agree=0.786, adj=0.250, (0 split)\n",
      "\n",
      "Node number 51: 17 observations\n",
      "  predicted class=Yes  expected loss=0.1176471  P(node) =0.03125\n",
      "    class counts:     2    15\n",
      "   probabilities: 0.118 0.882 \n",
      "\n",
      "Node number 100: 20 observations\n",
      "  predicted class=No   expected loss=0.3  P(node) =0.03676471\n",
      "    class counts:    14     6\n",
      "   probabilities: 0.700 0.300 \n",
      "\n",
      "Node number 101: 8 observations\n",
      "  predicted class=Yes  expected loss=0.25  P(node) =0.01470588\n",
      "    class counts:     2     6\n",
      "   probabilities: 0.250 0.750 \n",
      "\n"
     ]
    }
   ],
   "source": [
    "tree <- rpart(Private ~ . , method = 'class', data = train)\n",
    "summary(tree)"
   ]
  },
  {
   "cell_type": "markdown",
   "metadata": {},
   "source": [
    "__Use predict() to predict the Private label on the test data.__"
   ]
  },
  {
   "cell_type": "code",
   "execution_count": 11,
   "metadata": {},
   "outputs": [],
   "source": [
    "tree.preds <- predict(tree,test)"
   ]
  },
  {
   "cell_type": "markdown",
   "metadata": {},
   "source": [
    "__Check the Head of the predicted values. You should notice that you actually have two columns with the probabilities.__"
   ]
  },
  {
   "cell_type": "code",
   "execution_count": 12,
   "metadata": {},
   "outputs": [
    {
     "data": {
      "text/html": [
       "<table>\n",
       "<caption>A matrix: 6 × 2 of type dbl</caption>\n",
       "<thead>\n",
       "\t<tr><th></th><th scope=col>No</th><th scope=col>Yes</th></tr>\n",
       "</thead>\n",
       "<tbody>\n",
       "\t<tr><th scope=row>Adrian College</th><td>0.003311258</td><td>0.9966887</td></tr>\n",
       "\t<tr><th scope=row>Alfred University</th><td>0.003311258</td><td>0.9966887</td></tr>\n",
       "\t<tr><th scope=row>Allegheny College</th><td>0.003311258</td><td>0.9966887</td></tr>\n",
       "\t<tr><th scope=row>Allentown Coll. of St. Francis de Sales</th><td>0.003311258</td><td>0.9966887</td></tr>\n",
       "\t<tr><th scope=row>Alma College</th><td>0.003311258</td><td>0.9966887</td></tr>\n",
       "\t<tr><th scope=row>Amherst College</th><td>0.003311258</td><td>0.9966887</td></tr>\n",
       "</tbody>\n",
       "</table>\n"
      ],
      "text/latex": [
       "A matrix: 6 × 2 of type dbl\n",
       "\\begin{tabular}{r|ll}\n",
       "  & No & Yes\\\\\n",
       "\\hline\n",
       "\tAdrian College & 0.003311258 & 0.9966887\\\\\n",
       "\tAlfred University & 0.003311258 & 0.9966887\\\\\n",
       "\tAllegheny College & 0.003311258 & 0.9966887\\\\\n",
       "\tAllentown Coll. of St. Francis de Sales & 0.003311258 & 0.9966887\\\\\n",
       "\tAlma College & 0.003311258 & 0.9966887\\\\\n",
       "\tAmherst College & 0.003311258 & 0.9966887\\\\\n",
       "\\end{tabular}\n"
      ],
      "text/markdown": [
       "\n",
       "A matrix: 6 × 2 of type dbl\n",
       "\n",
       "| <!--/--> | No | Yes |\n",
       "|---|---|---|\n",
       "| Adrian College | 0.003311258 | 0.9966887 |\n",
       "| Alfred University | 0.003311258 | 0.9966887 |\n",
       "| Allegheny College | 0.003311258 | 0.9966887 |\n",
       "| Allentown Coll. of St. Francis de Sales | 0.003311258 | 0.9966887 |\n",
       "| Alma College | 0.003311258 | 0.9966887 |\n",
       "| Amherst College | 0.003311258 | 0.9966887 |\n",
       "\n"
      ],
      "text/plain": [
       "                                        No          Yes      \n",
       "Adrian College                          0.003311258 0.9966887\n",
       "Alfred University                       0.003311258 0.9966887\n",
       "Allegheny College                       0.003311258 0.9966887\n",
       "Allentown Coll. of St. Francis de Sales 0.003311258 0.9966887\n",
       "Alma College                            0.003311258 0.9966887\n",
       "Amherst College                         0.003311258 0.9966887"
      ]
     },
     "metadata": {},
     "output_type": "display_data"
    }
   ],
   "source": [
    "head(tree.preds)"
   ]
  },
  {
   "cell_type": "markdown",
   "metadata": {},
   "source": [
    "__Turn these two columns into one column to match the original Yes/No Label for a Private column.__"
   ]
  },
  {
   "cell_type": "code",
   "execution_count": 13,
   "metadata": {},
   "outputs": [
    {
     "data": {
      "text/html": [
       "'matrix'"
      ],
      "text/latex": [
       "'matrix'"
      ],
      "text/markdown": [
       "'matrix'"
      ],
      "text/plain": [
       "[1] \"matrix\""
      ]
     },
     "metadata": {},
     "output_type": "display_data"
    },
    {
     "data": {
      "text/html": [
       "'data.frame'"
      ],
      "text/latex": [
       "'data.frame'"
      ],
      "text/markdown": [
       "'data.frame'"
      ],
      "text/plain": [
       "[1] \"data.frame\""
      ]
     },
     "metadata": {},
     "output_type": "display_data"
    }
   ],
   "source": [
    "class(tree.preds)\n",
    "tree.preds <- as.data.frame(tree.preds)\n",
    "class(tree.preds)\n",
    "\n",
    "joiner <- function(x){\n",
    "    if (x >= 0.5){\n",
    "        return('Yes')\n",
    "    }else{\n",
    "        return(\"No\")\n",
    "    }\n",
    "}"
   ]
  },
  {
   "cell_type": "code",
   "execution_count": 14,
   "metadata": {},
   "outputs": [],
   "source": [
    "tree.preds$Private <- sapply(tree.preds$Yes,joiner)"
   ]
  },
  {
   "cell_type": "code",
   "execution_count": 15,
   "metadata": {},
   "outputs": [
    {
     "data": {
      "text/html": [
       "<table>\n",
       "<caption>A data.frame: 6 × 3</caption>\n",
       "<thead>\n",
       "\t<tr><th></th><th scope=col>No</th><th scope=col>Yes</th><th scope=col>Private</th></tr>\n",
       "\t<tr><th></th><th scope=col>&lt;dbl&gt;</th><th scope=col>&lt;dbl&gt;</th><th scope=col>&lt;chr&gt;</th></tr>\n",
       "</thead>\n",
       "<tbody>\n",
       "\t<tr><th scope=row>Adrian College</th><td>0.003311258</td><td>0.9966887</td><td>Yes</td></tr>\n",
       "\t<tr><th scope=row>Alfred University</th><td>0.003311258</td><td>0.9966887</td><td>Yes</td></tr>\n",
       "\t<tr><th scope=row>Allegheny College</th><td>0.003311258</td><td>0.9966887</td><td>Yes</td></tr>\n",
       "\t<tr><th scope=row>Allentown Coll. of St. Francis de Sales</th><td>0.003311258</td><td>0.9966887</td><td>Yes</td></tr>\n",
       "\t<tr><th scope=row>Alma College</th><td>0.003311258</td><td>0.9966887</td><td>Yes</td></tr>\n",
       "\t<tr><th scope=row>Amherst College</th><td>0.003311258</td><td>0.9966887</td><td>Yes</td></tr>\n",
       "</tbody>\n",
       "</table>\n"
      ],
      "text/latex": [
       "A data.frame: 6 × 3\n",
       "\\begin{tabular}{r|lll}\n",
       "  & No & Yes & Private\\\\\n",
       "  & <dbl> & <dbl> & <chr>\\\\\n",
       "\\hline\n",
       "\tAdrian College & 0.003311258 & 0.9966887 & Yes\\\\\n",
       "\tAlfred University & 0.003311258 & 0.9966887 & Yes\\\\\n",
       "\tAllegheny College & 0.003311258 & 0.9966887 & Yes\\\\\n",
       "\tAllentown Coll. of St. Francis de Sales & 0.003311258 & 0.9966887 & Yes\\\\\n",
       "\tAlma College & 0.003311258 & 0.9966887 & Yes\\\\\n",
       "\tAmherst College & 0.003311258 & 0.9966887 & Yes\\\\\n",
       "\\end{tabular}\n"
      ],
      "text/markdown": [
       "\n",
       "A data.frame: 6 × 3\n",
       "\n",
       "| <!--/--> | No &lt;dbl&gt; | Yes &lt;dbl&gt; | Private &lt;chr&gt; |\n",
       "|---|---|---|---|\n",
       "| Adrian College | 0.003311258 | 0.9966887 | Yes |\n",
       "| Alfred University | 0.003311258 | 0.9966887 | Yes |\n",
       "| Allegheny College | 0.003311258 | 0.9966887 | Yes |\n",
       "| Allentown Coll. of St. Francis de Sales | 0.003311258 | 0.9966887 | Yes |\n",
       "| Alma College | 0.003311258 | 0.9966887 | Yes |\n",
       "| Amherst College | 0.003311258 | 0.9966887 | Yes |\n",
       "\n"
      ],
      "text/plain": [
       "                                        No          Yes       Private\n",
       "Adrian College                          0.003311258 0.9966887 Yes    \n",
       "Alfred University                       0.003311258 0.9966887 Yes    \n",
       "Allegheny College                       0.003311258 0.9966887 Yes    \n",
       "Allentown Coll. of St. Francis de Sales 0.003311258 0.9966887 Yes    \n",
       "Alma College                            0.003311258 0.9966887 Yes    \n",
       "Amherst College                         0.003311258 0.9966887 Yes    "
      ]
     },
     "metadata": {},
     "output_type": "display_data"
    }
   ],
   "source": [
    "head(tree.preds)"
   ]
  },
  {
   "cell_type": "markdown",
   "metadata": {},
   "source": [
    "__Now use table() to create a confusion matrix of your tree model.__\n",
    "\n"
   ]
  },
  {
   "cell_type": "code",
   "execution_count": 16,
   "metadata": {},
   "outputs": [
    {
     "data": {
      "text/plain": [
       "     \n",
       "       No Yes\n",
       "  No   57   9\n",
       "  Yes   7 160"
      ]
     },
     "metadata": {},
     "output_type": "display_data"
    }
   ],
   "source": [
    "table(tree.preds$Private,test$Private)"
   ]
  },
  {
   "cell_type": "markdown",
   "metadata": {},
   "source": [
    "__Use the rpart.plot library and the prp() function to plot out your tree model__"
   ]
  },
  {
   "cell_type": "code",
   "execution_count": 17,
   "metadata": {},
   "outputs": [
    {
     "name": "stderr",
     "output_type": "stream",
     "text": [
      "Warning message:\n",
      "\"package 'rpart.plot' was built under R version 3.6.3\""
     ]
    },
    {
     "data": {
      "image/png": "[encoded data removed]",
      "text/plain": [
       "plot without title"
      ]
     },
     "metadata": {},
     "output_type": "display_data"
    }
   ],
   "source": [
    "library(rpart.plot)\n",
    "prp(tree)"
   ]
  },
  {
   "cell_type": "markdown",
   "metadata": {},
   "source": [
    "## Random Forest\n",
    "\n",
    "__Call the randomForest package library__"
   ]
  },
  {
   "cell_type": "code",
   "execution_count": 18,
   "metadata": {},
   "outputs": [
    {
     "name": "stderr",
     "output_type": "stream",
     "text": [
      "Warning message:\n",
      "\"package 'randomForest' was built under R version 3.6.3\"randomForest 4.6-14\n",
      "Type rfNews() to see new features/changes/bug fixes.\n",
      "\n",
      "Attaching package: 'randomForest'\n",
      "\n",
      "The following object is masked from 'package:dplyr':\n",
      "\n",
      "    combine\n",
      "\n",
      "The following object is masked from 'package:ggplot2':\n",
      "\n",
      "    margin\n",
      "\n"
     ]
    }
   ],
   "source": [
    "library(randomForest)"
   ]
  },
  {
   "cell_type": "markdown",
   "metadata": {},
   "source": [
    "__Now use randomForest() to build out our model to predict Private class. Add importance=TRUE as a parameter in the model. (Use help(randomForest) to find out what this does)__"
   ]
  },
  {
   "cell_type": "code",
   "execution_count": 19,
   "metadata": {},
   "outputs": [],
   "source": [
    "rf.model <- randomForest(Private ~ . , data = train, importance = TRUE)"
   ]
  },
  {
   "cell_type": "code",
   "execution_count": 20,
   "metadata": {},
   "outputs": [
    {
     "data": {
      "text/html": [
       "<table>\n",
       "<caption>A matrix: 2 × 3 of type dbl</caption>\n",
       "<thead>\n",
       "\t<tr><th></th><th scope=col>No</th><th scope=col>Yes</th><th scope=col>class.error</th></tr>\n",
       "</thead>\n",
       "<tbody>\n",
       "\t<tr><th scope=row>No</th><td>125</td><td> 23</td><td>0.15540541</td></tr>\n",
       "\t<tr><th scope=row>Yes</th><td> 10</td><td>386</td><td>0.02525253</td></tr>\n",
       "</tbody>\n",
       "</table>\n"
      ],
      "text/latex": [
       "A matrix: 2 × 3 of type dbl\n",
       "\\begin{tabular}{r|lll}\n",
       "  & No & Yes & class.error\\\\\n",
       "\\hline\n",
       "\tNo & 125 &  23 & 0.15540541\\\\\n",
       "\tYes &  10 & 386 & 0.02525253\\\\\n",
       "\\end{tabular}\n"
      ],
      "text/markdown": [
       "\n",
       "A matrix: 2 × 3 of type dbl\n",
       "\n",
       "| <!--/--> | No | Yes | class.error |\n",
       "|---|---|---|---|\n",
       "| No | 125 |  23 | 0.15540541 |\n",
       "| Yes |  10 | 386 | 0.02525253 |\n",
       "\n"
      ],
      "text/plain": [
       "    No  Yes class.error\n",
       "No  125  23 0.15540541 \n",
       "Yes  10 386 0.02525253 "
      ]
     },
     "metadata": {},
     "output_type": "display_data"
    }
   ],
   "source": [
    "rf.model$confusion"
   ]
  },
  {
   "cell_type": "markdown",
   "metadata": {},
   "source": [
    "__Grab the feature importance with model$importance. Refer to the reading for more info on what Gini means.__"
   ]
  },
  {
   "cell_type": "code",
   "execution_count": 21,
   "metadata": {},
   "outputs": [
    {
     "data": {
      "text/html": [
       "<table>\n",
       "<caption>A matrix: 17 × 4 of type dbl</caption>\n",
       "<thead>\n",
       "\t<tr><th></th><th scope=col>No</th><th scope=col>Yes</th><th scope=col>MeanDecreaseAccuracy</th><th scope=col>MeanDecreaseGini</th></tr>\n",
       "</thead>\n",
       "<tbody>\n",
       "\t<tr><th scope=row>Apps</th><td>0.0299975940</td><td>1.581643e-02</td><td>0.0195732992</td><td> 9.093474</td></tr>\n",
       "\t<tr><th scope=row>Accept</th><td>0.0265169723</td><td>1.359972e-02</td><td>0.0169830344</td><td>11.252450</td></tr>\n",
       "\t<tr><th scope=row>Enroll</th><td>0.0360668986</td><td>2.852824e-02</td><td>0.0305094654</td><td>22.810173</td></tr>\n",
       "\t<tr><th scope=row>Top10perc</th><td>0.0094902570</td><td>5.700969e-03</td><td>0.0067307985</td><td> 5.535670</td></tr>\n",
       "\t<tr><th scope=row>Top25perc</th><td>0.0049996299</td><td>2.891095e-03</td><td>0.0035060616</td><td> 4.568160</td></tr>\n",
       "\t<tr><th scope=row>F.Undergrad</th><td>0.1591184093</td><td>6.945790e-02</td><td>0.0937286273</td><td>38.842710</td></tr>\n",
       "\t<tr><th scope=row>P.Undergrad</th><td>0.0436610506</td><td>7.334280e-03</td><td>0.0170748529</td><td>16.934128</td></tr>\n",
       "\t<tr><th scope=row>Outstate</th><td>0.1456738704</td><td>6.461743e-02</td><td>0.0865178571</td><td>42.669650</td></tr>\n",
       "\t<tr><th scope=row>Room.Board</th><td>0.0147668601</td><td>1.439793e-02</td><td>0.0144179025</td><td>10.414502</td></tr>\n",
       "\t<tr><th scope=row>Books</th><td>0.0007389787</td><td>8.914367e-05</td><td>0.0002868557</td><td> 2.203342</td></tr>\n",
       "\t<tr><th scope=row>Personal</th><td>0.0029767520</td><td>8.632755e-04</td><td>0.0014664250</td><td> 3.710353</td></tr>\n",
       "\t<tr><th scope=row>PhD</th><td>0.0086149598</td><td>5.320894e-03</td><td>0.0061979645</td><td> 4.624097</td></tr>\n",
       "\t<tr><th scope=row>Terminal</th><td>0.0044437470</td><td>6.488106e-03</td><td>0.0059953078</td><td> 4.524290</td></tr>\n",
       "\t<tr><th scope=row>S.F.Ratio</th><td>0.0302010312</td><td>8.307646e-03</td><td>0.0142830244</td><td>16.017899</td></tr>\n",
       "\t<tr><th scope=row>perc.alumni</th><td>0.0166161199</td><td>3.455476e-03</td><td>0.0071053253</td><td> 5.280970</td></tr>\n",
       "\t<tr><th scope=row>Expend</th><td>0.0235732631</td><td>1.270668e-02</td><td>0.0155385819</td><td> 9.860188</td></tr>\n",
       "\t<tr><th scope=row>Grad.Rate</th><td>0.0149251559</td><td>5.575670e-03</td><td>0.0080482732</td><td> 6.520158</td></tr>\n",
       "</tbody>\n",
       "</table>\n"
      ],
      "text/latex": [
       "A matrix: 17 × 4 of type dbl\n",
       "\\begin{tabular}{r|llll}\n",
       "  & No & Yes & MeanDecreaseAccuracy & MeanDecreaseGini\\\\\n",
       "\\hline\n",
       "\tApps & 0.0299975940 & 1.581643e-02 & 0.0195732992 &  9.093474\\\\\n",
       "\tAccept & 0.0265169723 & 1.359972e-02 & 0.0169830344 & 11.252450\\\\\n",
       "\tEnroll & 0.0360668986 & 2.852824e-02 & 0.0305094654 & 22.810173\\\\\n",
       "\tTop10perc & 0.0094902570 & 5.700969e-03 & 0.0067307985 &  5.535670\\\\\n",
       "\tTop25perc & 0.0049996299 & 2.891095e-03 & 0.0035060616 &  4.568160\\\\\n",
       "\tF.Undergrad & 0.1591184093 & 6.945790e-02 & 0.0937286273 & 38.842710\\\\\n",
       "\tP.Undergrad & 0.0436610506 & 7.334280e-03 & 0.0170748529 & 16.934128\\\\\n",
       "\tOutstate & 0.1456738704 & 6.461743e-02 & 0.0865178571 & 42.669650\\\\\n",
       "\tRoom.Board & 0.0147668601 & 1.439793e-02 & 0.0144179025 & 10.414502\\\\\n",
       "\tBooks & 0.0007389787 & 8.914367e-05 & 0.0002868557 &  2.203342\\\\\n",
       "\tPersonal & 0.0029767520 & 8.632755e-04 & 0.0014664250 &  3.710353\\\\\n",
       "\tPhD & 0.0086149598 & 5.320894e-03 & 0.0061979645 &  4.624097\\\\\n",
       "\tTerminal & 0.0044437470 & 6.488106e-03 & 0.0059953078 &  4.524290\\\\\n",
       "\tS.F.Ratio & 0.0302010312 & 8.307646e-03 & 0.0142830244 & 16.017899\\\\\n",
       "\tperc.alumni & 0.0166161199 & 3.455476e-03 & 0.0071053253 &  5.280970\\\\\n",
       "\tExpend & 0.0235732631 & 1.270668e-02 & 0.0155385819 &  9.860188\\\\\n",
       "\tGrad.Rate & 0.0149251559 & 5.575670e-03 & 0.0080482732 &  6.520158\\\\\n",
       "\\end{tabular}\n"
      ],
      "text/markdown": [
       "\n",
       "A matrix: 17 × 4 of type dbl\n",
       "\n",
       "| <!--/--> | No | Yes | MeanDecreaseAccuracy | MeanDecreaseGini |\n",
       "|---|---|---|---|---|\n",
       "| Apps | 0.0299975940 | 1.581643e-02 | 0.0195732992 |  9.093474 |\n",
       "| Accept | 0.0265169723 | 1.359972e-02 | 0.0169830344 | 11.252450 |\n",
       "| Enroll | 0.0360668986 | 2.852824e-02 | 0.0305094654 | 22.810173 |\n",
       "| Top10perc | 0.0094902570 | 5.700969e-03 | 0.0067307985 |  5.535670 |\n",
       "| Top25perc | 0.0049996299 | 2.891095e-03 | 0.0035060616 |  4.568160 |\n",
       "| F.Undergrad | 0.1591184093 | 6.945790e-02 | 0.0937286273 | 38.842710 |\n",
       "| P.Undergrad | 0.0436610506 | 7.334280e-03 | 0.0170748529 | 16.934128 |\n",
       "| Outstate | 0.1456738704 | 6.461743e-02 | 0.0865178571 | 42.669650 |\n",
       "| Room.Board | 0.0147668601 | 1.439793e-02 | 0.0144179025 | 10.414502 |\n",
       "| Books | 0.0007389787 | 8.914367e-05 | 0.0002868557 |  2.203342 |\n",
       "| Personal | 0.0029767520 | 8.632755e-04 | 0.0014664250 |  3.710353 |\n",
       "| PhD | 0.0086149598 | 5.320894e-03 | 0.0061979645 |  4.624097 |\n",
       "| Terminal | 0.0044437470 | 6.488106e-03 | 0.0059953078 |  4.524290 |\n",
       "| S.F.Ratio | 0.0302010312 | 8.307646e-03 | 0.0142830244 | 16.017899 |\n",
       "| perc.alumni | 0.0166161199 | 3.455476e-03 | 0.0071053253 |  5.280970 |\n",
       "| Expend | 0.0235732631 | 1.270668e-02 | 0.0155385819 |  9.860188 |\n",
       "| Grad.Rate | 0.0149251559 | 5.575670e-03 | 0.0080482732 |  6.520158 |\n",
       "\n"
      ],
      "text/plain": [
       "            No           Yes          MeanDecreaseAccuracy MeanDecreaseGini\n",
       "Apps        0.0299975940 1.581643e-02 0.0195732992          9.093474       \n",
       "Accept      0.0265169723 1.359972e-02 0.0169830344         11.252450       \n",
       "Enroll      0.0360668986 2.852824e-02 0.0305094654         22.810173       \n",
       "Top10perc   0.0094902570 5.700969e-03 0.0067307985          5.535670       \n",
       "Top25perc   0.0049996299 2.891095e-03 0.0035060616          4.568160       \n",
       "F.Undergrad 0.1591184093 6.945790e-02 0.0937286273         38.842710       \n",
       "P.Undergrad 0.0436610506 7.334280e-03 0.0170748529         16.934128       \n",
       "Outstate    0.1456738704 6.461743e-02 0.0865178571         42.669650       \n",
       "Room.Board  0.0147668601 1.439793e-02 0.0144179025         10.414502       \n",
       "Books       0.0007389787 8.914367e-05 0.0002868557          2.203342       \n",
       "Personal    0.0029767520 8.632755e-04 0.0014664250          3.710353       \n",
       "PhD         0.0086149598 5.320894e-03 0.0061979645          4.624097       \n",
       "Terminal    0.0044437470 6.488106e-03 0.0059953078          4.524290       \n",
       "S.F.Ratio   0.0302010312 8.307646e-03 0.0142830244         16.017899       \n",
       "perc.alumni 0.0166161199 3.455476e-03 0.0071053253          5.280970       \n",
       "Expend      0.0235732631 1.270668e-02 0.0155385819          9.860188       \n",
       "Grad.Rate   0.0149251559 5.575670e-03 0.0080482732          6.520158       "
      ]
     },
     "metadata": {},
     "output_type": "display_data"
    }
   ],
   "source": [
    "rf.model$importance"
   ]
  },
  {
   "cell_type": "markdown",
   "metadata": {},
   "source": [
    "## Predictions\n",
    "__Now use your random forest model to predict on your test set!__"
   ]
  },
  {
   "cell_type": "code",
   "execution_count": 22,
   "metadata": {},
   "outputs": [],
   "source": [
    "p <- predict(rf.model, test)"
   ]
  },
  {
   "cell_type": "code",
   "execution_count": 23,
   "metadata": {},
   "outputs": [
    {
     "data": {
      "text/plain": [
       "     \n",
       "p      No Yes\n",
       "  No   57   6\n",
       "  Yes   7 163"
      ]
     },
     "metadata": {},
     "output_type": "display_data"
    },
    {
     "name": "stdout",
     "output_type": "stream",
     "text": [
      "\n",
      "Call:\n",
      " randomForest(formula = Private ~ ., data = train, importance = TRUE) \n",
      "               Type of random forest: classification\n",
      "                     Number of trees: 500\n",
      "No. of variables tried at each split: 4\n",
      "\n",
      "        OOB estimate of  error rate: 6.07%\n",
      "Confusion matrix:\n",
      "     No Yes class.error\n",
      "No  125  23  0.15540541\n",
      "Yes  10 386  0.02525253\n"
     ]
    }
   ],
   "source": [
    "table(p, test$Private)\n",
    "print(rf.model)"
   ]
  },
  {
   "cell_type": "markdown",
   "metadata": {},
   "source": [
    "__It should have performed better than just a single tree, how much better depends on whether you are emasuring recall, precision, or accuracy as the most important measure of the model.__"
   ]
  },
  {
   "cell_type": "code",
   "execution_count": null,
   "metadata": {},
   "outputs": [],
   "source": []
  }
 ],
 "metadata": {
  "kernelspec": {
   "display_name": "R",
   "language": "R",
   "name": "ir"
  },
  "language_info": {
   "codemirror_mode": "r",
   "file_extension": ".r",
   "mimetype": "text/x-r-source",
   "name": "R",
   "pygments_lexer": "r",
   "version": "3.6.1"
  }
 },
 "nbformat": 4,
 "nbformat_minor": 4
}
