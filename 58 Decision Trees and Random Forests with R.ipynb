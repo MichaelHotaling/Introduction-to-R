{
 "cells": [
  {
   "cell_type": "markdown",
   "metadata": {},
   "source": [
    "# Decision Trees and Methods\n",
    "Chapter 8 of ISL"
   ]
  },
  {
   "cell_type": "markdown",
   "metadata": {},
   "source": [
    "Let's start off with a thought experiemtn to give some motivation behind using a decision tree method.\n",
    "\n",
    "Imagine I play Tennis every Saturday and I always invite a friend to come with me.\n",
    "\n",
    "Sometimes, my friend shows up, sometimes not.\n",
    "\n",
    "For him, it depends on a variety of factors, such as:\n",
    "- weather\n",
    "- temperature\n",
    "- humidity\n",
    "- wind\n",
    "\n",
    "I start tracking these features and wheter or not he shows up to play Tennis with me\n",
    "\n",
    "<img src = \"https://nullpointerexception1.files.wordpress.com/2017/11/screen-shot-2017-11-26-at-1-42-53-pm-e1511684839854.png?w=736\">\n",
    "\n",
    "I want to use this data to determine whether or not my friend will show up to play\n",
    "\n",
    "An intuitive way to do this is through a Decision Tree\n",
    "\n",
    "<img src = \"https://nullpointerexception1.files.wordpress.com/2017/11/decision-tree-e1513448957591.jpg?w=952\">\n",
    "\n",
    "In this tree, we have:\n",
    "- Nodes\n",
    "    - Split for the values of a certain attribute\n",
    "- Edges\n",
    "    - Outcome of a split to next node\n",
    "- Root\n",
    "    - The node that performs the first split\n",
    "- Leaves\n",
    "    - Terminal nodes that predict the outcome\n",
    "    \n",
    "## Random Forests\n",
    "\n",
    "To improve performance, we can use many trees with a random sample of features chosen as the split.\n",
    "\n",
    "- A new random sample of features is chosen for __every single tree at every single split__.\n",
    "- For classification, m is typically chosen to be the square root of p.\n",
    "\n",
    "What's the point?\n",
    "\n",
    "Suppose there is __one very strong feature__ in the data set. When using \"bagged\" trees, most of the trees will use that feature as the top split, resulting in an ensemble of smaller trees that are __highly correlated__. Averaging highly correlated quantities does not significantly reduce variance. By randomly leaving out candidate features from each split, __Random Forests \"decorrelates\" the trees__, such that the averaging process can reduce the variance of the resulting model."
   ]
  },
  {
   "cell_type": "code",
   "execution_count": 4,
   "metadata": {},
   "outputs": [],
   "source": [
    "# install.packages('rpart')\n",
    "library(rpart)\n",
    "help(rpart)"
   ]
  },
  {
   "cell_type": "code",
   "execution_count": 7,
   "metadata": {},
   "outputs": [
    {
     "name": "stdout",
     "output_type": "stream",
     "text": [
      "'data.frame':\t81 obs. of  4 variables:\n",
      " $ Kyphosis: Factor w/ 2 levels \"absent\",\"present\": 1 1 2 1 1 1 1 1 1 2 ...\n",
      " $ Age     : int  71 158 128 2 1 1 61 37 113 59 ...\n",
      " $ Number  : int  3 3 4 5 4 2 2 3 2 6 ...\n",
      " $ Start   : int  5 14 5 1 15 16 17 16 16 12 ...\n"
     ]
    },
    {
     "data": {
      "text/html": [
       "<table>\n",
       "<caption>A data.frame: 6 × 4</caption>\n",
       "<thead>\n",
       "\t<tr><th></th><th scope=col>Kyphosis</th><th scope=col>Age</th><th scope=col>Number</th><th scope=col>Start</th></tr>\n",
       "\t<tr><th></th><th scope=col>&lt;fct&gt;</th><th scope=col>&lt;int&gt;</th><th scope=col>&lt;int&gt;</th><th scope=col>&lt;int&gt;</th></tr>\n",
       "</thead>\n",
       "<tbody>\n",
       "\t<tr><th scope=row>1</th><td>absent </td><td> 71</td><td>3</td><td> 5</td></tr>\n",
       "\t<tr><th scope=row>2</th><td>absent </td><td>158</td><td>3</td><td>14</td></tr>\n",
       "\t<tr><th scope=row>3</th><td>present</td><td>128</td><td>4</td><td> 5</td></tr>\n",
       "\t<tr><th scope=row>4</th><td>absent </td><td>  2</td><td>5</td><td> 1</td></tr>\n",
       "\t<tr><th scope=row>5</th><td>absent </td><td>  1</td><td>4</td><td>15</td></tr>\n",
       "\t<tr><th scope=row>6</th><td>absent </td><td>  1</td><td>2</td><td>16</td></tr>\n",
       "</tbody>\n",
       "</table>\n"
      ],
      "text/latex": [
       "A data.frame: 6 × 4\n",
       "\\begin{tabular}{r|llll}\n",
       "  & Kyphosis & Age & Number & Start\\\\\n",
       "  & <fct> & <int> & <int> & <int>\\\\\n",
       "\\hline\n",
       "\t1 & absent  &  71 & 3 &  5\\\\\n",
       "\t2 & absent  & 158 & 3 & 14\\\\\n",
       "\t3 & present & 128 & 4 &  5\\\\\n",
       "\t4 & absent  &   2 & 5 &  1\\\\\n",
       "\t5 & absent  &   1 & 4 & 15\\\\\n",
       "\t6 & absent  &   1 & 2 & 16\\\\\n",
       "\\end{tabular}\n"
      ],
      "text/markdown": [
       "\n",
       "A data.frame: 6 × 4\n",
       "\n",
       "| <!--/--> | Kyphosis &lt;fct&gt; | Age &lt;int&gt; | Number &lt;int&gt; | Start &lt;int&gt; |\n",
       "|---|---|---|---|---|\n",
       "| 1 | absent  |  71 | 3 |  5 |\n",
       "| 2 | absent  | 158 | 3 | 14 |\n",
       "| 3 | present | 128 | 4 |  5 |\n",
       "| 4 | absent  |   2 | 5 |  1 |\n",
       "| 5 | absent  |   1 | 4 | 15 |\n",
       "| 6 | absent  |   1 | 2 | 16 |\n",
       "\n"
      ],
      "text/plain": [
       "  Kyphosis Age Number Start\n",
       "1 absent    71 3       5   \n",
       "2 absent   158 3      14   \n",
       "3 present  128 4       5   \n",
       "4 absent     2 5       1   \n",
       "5 absent     1 4      15   \n",
       "6 absent     1 2      16   "
      ]
     },
     "metadata": {},
     "output_type": "display_data"
    }
   ],
   "source": [
    "str(kyphosis)\n",
    "head(kyphosis)"
   ]
  },
  {
   "cell_type": "code",
   "execution_count": 13,
   "metadata": {},
   "outputs": [],
   "source": [
    "tree <- rpart(Kyphosis ~ . , method = 'class', data = kyphosis)"
   ]
  },
  {
   "cell_type": "code",
   "execution_count": 16,
   "metadata": {},
   "outputs": [
    {
     "name": "stdout",
     "output_type": "stream",
     "text": [
      "\n",
      "Classification tree:\n",
      "rpart(formula = Kyphosis ~ ., data = kyphosis, method = \"class\")\n",
      "\n",
      "Variables actually used in tree construction:\n",
      "[1] Age   Start\n",
      "\n",
      "Root node error: 17/81 = 0.20988\n",
      "\n",
      "n= 81 \n",
      "\n",
      "        CP nsplit rel error xerror    xstd\n",
      "1 0.176471      0   1.00000 1.0000 0.21559\n",
      "2 0.019608      1   0.82353 1.1765 0.22829\n",
      "3 0.010000      4   0.76471 1.1765 0.22829\n"
     ]
    }
   ],
   "source": [
    "printcp(tree)"
   ]
  },
  {
   "cell_type": "code",
   "execution_count": 22,
   "metadata": {},
   "outputs": [
    {
     "data": {
      "image/png": "[encoded data removed]",
      "text/plain": [
       "Plot with title \"Kyphosis Tree\""
      ]
     },
     "metadata": {},
     "output_type": "display_data"
    }
   ],
   "source": [
    "plot(tree, uniform = T, main = 'Kyphosis Tree')\n",
    "text(tree, use.n = T, all = T)"
   ]
  },
  {
   "cell_type": "code",
   "execution_count": 25,
   "metadata": {},
   "outputs": [
    {
     "name": "stderr",
     "output_type": "stream",
     "text": [
      "Warning message:\n",
      "\"package 'rpart.plot' was built under R version 3.6.3\""
     ]
    }
   ],
   "source": [
    "# install.packages('rpart.plot')\n",
    "library(rpart.plot)"
   ]
  },
  {
   "cell_type": "code",
   "execution_count": 26,
   "metadata": {},
   "outputs": [
    {
     "data": {
      "image/png": "[encoded data removed]",
      "text/plain": [
       "plot without title"
      ]
     },
     "metadata": {},
     "output_type": "display_data"
    }
   ],
   "source": [
    "prp(tree)"
   ]
  },
  {
   "cell_type": "code",
   "execution_count": 30,
   "metadata": {},
   "outputs": [],
   "source": [
    "# install.packages('randomForest')\n",
    "library(randomForest)"
   ]
  },
  {
   "cell_type": "code",
   "execution_count": 33,
   "metadata": {},
   "outputs": [
    {
     "name": "stdout",
     "output_type": "stream",
     "text": [
      "\n",
      "Call:\n",
      " randomForest(formula = Kyphosis ~ ., data = kyphosis) \n",
      "               Type of random forest: classification\n",
      "                     Number of trees: 500\n",
      "No. of variables tried at each split: 1\n",
      "\n",
      "        OOB estimate of  error rate: 20.99%\n",
      "Confusion matrix:\n",
      "        absent present class.error\n",
      "absent      59       5   0.0781250\n",
      "present     12       5   0.7058824\n"
     ]
    }
   ],
   "source": [
    "rf.model <- randomForest(Kyphosis ~ . , data = kyphosis)\n",
    "print(rf.model)"
   ]
  }
 ],
 "metadata": {
  "kernelspec": {
   "display_name": "R",
   "language": "R",
   "name": "ir"
  },
  "language_info": {
   "codemirror_mode": "r",
   "file_extension": ".r",
   "mimetype": "text/x-r-source",
   "name": "R",
   "pygments_lexer": "r",
   "version": "3.6.1"
  }
 },
 "nbformat": 4,
 "nbformat_minor": 4
}
