{
 "cells": [
  {
   "cell_type": "code",
   "execution_count": 4,
   "metadata": {},
   "outputs": [
    {
     "name": "stderr",
     "output_type": "stream",
     "text": [
      "Installing package into 'C:/Users/MHotaling144186/Documents/R/win-library/3.6'\n",
      "(as 'lib' is unspecified)\n"
     ]
    },
    {
     "name": "stdout",
     "output_type": "stream",
     "text": [
      "package 'ggplot2movies' successfully unpacked and MD5 sums checked\n",
      "\n",
      "The downloaded binary packages are in\n",
      "\tC:\\Users\\MHotaling144186\\AppData\\Local\\Temp\\RtmpSyWkhS\\downloaded_packages\n"
     ]
    }
   ],
   "source": [
    "library(ggplot2)\n",
    "install.packages('ggplot2movies')\n"
   ]
  },
  {
   "cell_type": "code",
   "execution_count": 95,
   "metadata": {},
   "outputs": [
    {
     "name": "stdout",
     "output_type": "stream",
     "text": [
      "Classes 'tbl_df', 'tbl' and 'data.frame':\t58788 obs. of  24 variables:\n",
      " $ title      : chr  \"$\" \"$1000 a Touchdown\" \"$21 a Day Once a Month\" \"$40,000\" ...\n",
      " $ year       : int  1971 1939 1941 1996 1975 2000 2002 2002 1987 1917 ...\n",
      " $ length     : int  121 71 7 70 71 91 93 25 97 61 ...\n",
      " $ budget     : int  NA NA NA NA NA NA NA NA NA NA ...\n",
      " $ rating     : num  6.4 6 8.2 8.2 3.4 4.3 5.3 6.7 6.6 6 ...\n",
      " $ votes      : int  348 20 5 6 17 45 200 24 18 51 ...\n",
      " $ r1         : num  4.5 0 0 14.5 24.5 4.5 4.5 4.5 4.5 4.5 ...\n",
      " $ r2         : num  4.5 14.5 0 0 4.5 4.5 0 4.5 4.5 0 ...\n",
      " $ r3         : num  4.5 4.5 0 0 0 4.5 4.5 4.5 4.5 4.5 ...\n",
      " $ r4         : num  4.5 24.5 0 0 14.5 14.5 4.5 4.5 0 4.5 ...\n",
      " $ r5         : num  14.5 14.5 0 0 14.5 14.5 24.5 4.5 0 4.5 ...\n",
      " $ r6         : num  24.5 14.5 24.5 0 4.5 14.5 24.5 14.5 0 44.5 ...\n",
      " $ r7         : num  24.5 14.5 0 0 0 4.5 14.5 14.5 34.5 14.5 ...\n",
      " $ r8         : num  14.5 4.5 44.5 0 0 4.5 4.5 14.5 14.5 4.5 ...\n",
      " $ r9         : num  4.5 4.5 24.5 34.5 0 14.5 4.5 4.5 4.5 4.5 ...\n",
      " $ r10        : num  4.5 14.5 24.5 45.5 24.5 14.5 14.5 14.5 24.5 4.5 ...\n",
      " $ mpaa       : chr  \"\" \"\" \"\" \"\" ...\n",
      " $ Action     : int  0 0 0 0 0 0 1 0 0 0 ...\n",
      " $ Animation  : int  0 0 1 0 0 0 0 0 0 0 ...\n",
      " $ Comedy     : int  1 1 0 1 0 0 0 0 0 0 ...\n",
      " $ Drama      : int  1 0 0 0 0 1 1 0 1 0 ...\n",
      " $ Documentary: int  0 0 0 0 0 0 0 1 0 0 ...\n",
      " $ Romance    : int  0 0 0 0 0 0 0 0 0 0 ...\n",
      " $ Short      : int  0 0 1 0 0 0 0 1 0 0 ...\n"
     ]
    },
    {
     "data": {
      "text/html": [
       "<style>\n",
       ".list-inline {list-style: none; margin:0; padding: 0}\n",
       ".list-inline>li {display: inline-block}\n",
       ".list-inline>li:not(:last-child)::after {content: \"\\00b7\"; padding: 0 .5ex}\n",
       "</style>\n",
       "<ol class=list-inline><li>'title'</li><li>'year'</li><li>'length'</li><li>'budget'</li><li>'rating'</li><li>'votes'</li><li>'r1'</li><li>'r2'</li><li>'r3'</li><li>'r4'</li><li>'r5'</li><li>'r6'</li><li>'r7'</li><li>'r8'</li><li>'r9'</li><li>'r10'</li><li>'mpaa'</li><li>'Action'</li><li>'Animation'</li><li>'Comedy'</li><li>'Drama'</li><li>'Documentary'</li><li>'Romance'</li><li>'Short'</li></ol>\n"
      ],
      "text/latex": [
       "\\begin{enumerate*}\n",
       "\\item 'title'\n",
       "\\item 'year'\n",
       "\\item 'length'\n",
       "\\item 'budget'\n",
       "\\item 'rating'\n",
       "\\item 'votes'\n",
       "\\item 'r1'\n",
       "\\item 'r2'\n",
       "\\item 'r3'\n",
       "\\item 'r4'\n",
       "\\item 'r5'\n",
       "\\item 'r6'\n",
       "\\item 'r7'\n",
       "\\item 'r8'\n",
       "\\item 'r9'\n",
       "\\item 'r10'\n",
       "\\item 'mpaa'\n",
       "\\item 'Action'\n",
       "\\item 'Animation'\n",
       "\\item 'Comedy'\n",
       "\\item 'Drama'\n",
       "\\item 'Documentary'\n",
       "\\item 'Romance'\n",
       "\\item 'Short'\n",
       "\\end{enumerate*}\n"
      ],
      "text/markdown": [
       "1. 'title'\n",
       "2. 'year'\n",
       "3. 'length'\n",
       "4. 'budget'\n",
       "5. 'rating'\n",
       "6. 'votes'\n",
       "7. 'r1'\n",
       "8. 'r2'\n",
       "9. 'r3'\n",
       "10. 'r4'\n",
       "11. 'r5'\n",
       "12. 'r6'\n",
       "13. 'r7'\n",
       "14. 'r8'\n",
       "15. 'r9'\n",
       "16. 'r10'\n",
       "17. 'mpaa'\n",
       "18. 'Action'\n",
       "19. 'Animation'\n",
       "20. 'Comedy'\n",
       "21. 'Drama'\n",
       "22. 'Documentary'\n",
       "23. 'Romance'\n",
       "24. 'Short'\n",
       "\n",
       "\n"
      ],
      "text/plain": [
       " [1] \"title\"       \"year\"        \"length\"      \"budget\"      \"rating\"     \n",
       " [6] \"votes\"       \"r1\"          \"r2\"          \"r3\"          \"r4\"         \n",
       "[11] \"r5\"          \"r6\"          \"r7\"          \"r8\"          \"r9\"         \n",
       "[16] \"r10\"         \"mpaa\"        \"Action\"      \"Animation\"   \"Comedy\"     \n",
       "[21] \"Drama\"       \"Documentary\" \"Romance\"     \"Short\"      "
      ]
     },
     "metadata": {},
     "output_type": "display_data"
    },
    {
     "data": {
      "text/plain": [
       "    title                year          length            budget         \n",
       " Length:58788       Min.   :1893   Min.   :   1.00   Min.   :        0  \n",
       " Class :character   1st Qu.:1958   1st Qu.:  74.00   1st Qu.:   250000  \n",
       " Mode  :character   Median :1983   Median :  90.00   Median :  3000000  \n",
       "                    Mean   :1976   Mean   :  82.34   Mean   : 13412513  \n",
       "                    3rd Qu.:1997   3rd Qu.: 100.00   3rd Qu.: 15000000  \n",
       "                    Max.   :2005   Max.   :5220.00   Max.   :200000000  \n",
       "                                                     NA's   :53573      \n",
       "     rating           votes                r1                r2        \n",
       " Min.   : 1.000   Min.   :     5.0   Min.   :  0.000   Min.   : 0.000  \n",
       " 1st Qu.: 5.000   1st Qu.:    11.0   1st Qu.:  0.000   1st Qu.: 0.000  \n",
       " Median : 6.100   Median :    30.0   Median :  4.500   Median : 4.500  \n",
       " Mean   : 5.933   Mean   :   632.1   Mean   :  7.014   Mean   : 4.022  \n",
       " 3rd Qu.: 7.000   3rd Qu.:   112.0   3rd Qu.:  4.500   3rd Qu.: 4.500  \n",
       " Max.   :10.000   Max.   :157608.0   Max.   :100.000   Max.   :84.500  \n",
       "                                                                       \n",
       "       r3               r4                r5                r6       \n",
       " Min.   : 0.000   Min.   :  0.000   Min.   :  0.000   Min.   : 0.00  \n",
       " 1st Qu.: 0.000   1st Qu.:  0.000   1st Qu.:  4.500   1st Qu.: 4.50  \n",
       " Median : 4.500   Median :  4.500   Median :  4.500   Median :14.50  \n",
       " Mean   : 4.721   Mean   :  6.375   Mean   :  9.797   Mean   :13.04  \n",
       " 3rd Qu.: 4.500   3rd Qu.:  4.500   3rd Qu.: 14.500   3rd Qu.:14.50  \n",
       " Max.   :84.500   Max.   :100.000   Max.   :100.000   Max.   :84.50  \n",
       "                                                                     \n",
       "       r7               r8               r9               r10        \n",
       " Min.   :  0.00   Min.   :  0.00   Min.   :  0.000   Min.   :  0.00  \n",
       " 1st Qu.:  4.50   1st Qu.:  4.50   1st Qu.:  4.500   1st Qu.:  4.50  \n",
       " Median : 14.50   Median : 14.50   Median :  4.500   Median : 14.50  \n",
       " Mean   : 15.55   Mean   : 13.88   Mean   :  8.954   Mean   : 16.85  \n",
       " 3rd Qu.: 24.50   3rd Qu.: 24.50   3rd Qu.: 14.500   3rd Qu.: 24.50  \n",
       " Max.   :100.00   Max.   :100.00   Max.   :100.000   Max.   :100.00  \n",
       "                                                                     \n",
       "     mpaa               Action          Animation           Comedy      \n",
       " Length:58788       Min.   :0.00000   Min.   :0.00000   Min.   :0.0000  \n",
       " Class :character   1st Qu.:0.00000   1st Qu.:0.00000   1st Qu.:0.0000  \n",
       " Mode  :character   Median :0.00000   Median :0.00000   Median :0.0000  \n",
       "                    Mean   :0.07974   Mean   :0.06277   Mean   :0.2938  \n",
       "                    3rd Qu.:0.00000   3rd Qu.:0.00000   3rd Qu.:1.0000  \n",
       "                    Max.   :1.00000   Max.   :1.00000   Max.   :1.0000  \n",
       "                                                                        \n",
       "     Drama        Documentary         Romance           Short       \n",
       " Min.   :0.000   Min.   :0.00000   Min.   :0.0000   Min.   :0.0000  \n",
       " 1st Qu.:0.000   1st Qu.:0.00000   1st Qu.:0.0000   1st Qu.:0.0000  \n",
       " Median :0.000   Median :0.00000   Median :0.0000   Median :0.0000  \n",
       " Mean   :0.371   Mean   :0.05906   Mean   :0.0807   Mean   :0.1609  \n",
       " 3rd Qu.:1.000   3rd Qu.:0.00000   3rd Qu.:0.0000   3rd Qu.:0.0000  \n",
       " Max.   :1.000   Max.   :1.00000   Max.   :1.0000   Max.   :1.0000  \n",
       "                                                                    "
      ]
     },
     "metadata": {},
     "output_type": "display_data"
    },
    {
     "data": {
      "text/html": [
       "1"
      ],
      "text/latex": [
       "1"
      ],
      "text/markdown": [
       "1"
      ],
      "text/plain": [
       "[1] 1"
      ]
     },
     "metadata": {},
     "output_type": "display_data"
    },
    {
     "data": {
      "text/html": [
       "10"
      ],
      "text/latex": [
       "10"
      ],
      "text/markdown": [
       "10"
      ],
      "text/plain": [
       "[1] 10"
      ]
     },
     "metadata": {},
     "output_type": "display_data"
    },
    {
     "data": {
      "text/html": [
       "5.93285024154589"
      ],
      "text/latex": [
       "5.93285024154589"
      ],
      "text/markdown": [
       "5.93285024154589"
      ],
      "text/plain": [
       "[1] 5.93285"
      ]
     },
     "metadata": {},
     "output_type": "display_data"
    },
    {
     "data": {
      "text/html": [
       "5220"
      ],
      "text/latex": [
       "5220"
      ],
      "text/markdown": [
       "5220"
      ],
      "text/plain": [
       "[1] 5220"
      ]
     },
     "metadata": {},
     "output_type": "display_data"
    }
   ],
   "source": [
    "library(ggplot2)\n",
    "library(ggplot2movies)\n",
    "library(dplyr)\n",
    "str(movies)\n",
    "\n",
    "colnames(movies)\n",
    "summary(movies)\n",
    "min(movies$rating)\n",
    "max(movies$rating)\n",
    "mean(movies$rating)\n",
    "max(movies$length)\n",
    "df <- tail(arrange(movies, desc(length)),58738)"
   ]
  },
  {
   "cell_type": "code",
   "execution_count": 98,
   "metadata": {
    "scrolled": false
   },
   "outputs": [
    {
     "data": {
      "image/png": "[encoded data removed]",
      "text/plain": [
       "plot without title"
      ]
     },
     "metadata": {},
     "output_type": "display_data"
    }
   ],
   "source": [
    "\n",
    "pl <- ggplot(df,aes(x=length))\n",
    "pl + geom_histogram(binwidth =5, alpha = 0.8, aes(y=..density..)) + geom_density(color='blue')"
   ]
  },
  {
   "cell_type": "code",
   "execution_count": 32,
   "metadata": {},
   "outputs": [
    {
     "data": {
      "image/png": "[encoded data removed]",
      "text/plain": [
       "plot without title"
      ]
     },
     "metadata": {},
     "output_type": "display_data"
    }
   ],
   "source": [
    "# Data & AESTHETICS\n",
    "pl <- ggplot(movies, aes(x = rating))\n",
    "pl2 <- pl + geom_histogram(binwidth = 0.1, aes(fill=.count..), color = 'red', fill = 'pink', alpha = 0.4)\n",
    "pl3 <- pl2 + xlab('Movie Rating') + ylab('Count')\n",
    "print(pl3 + ggtitle(\"MY TITLE\"))"
   ]
  },
  {
   "cell_type": "code",
   "execution_count": null,
   "metadata": {},
   "outputs": [],
   "source": []
  }
 ],
 "metadata": {
  "kernelspec": {
   "display_name": "R",
   "language": "R",
   "name": "ir"
  },
  "language_info": {
   "codemirror_mode": "r",
   "file_extension": ".r",
   "mimetype": "text/x-r-source",
   "name": "R",
   "pygments_lexer": "r",
   "version": "3.6.1"
  }
 },
 "nbformat": 4,
 "nbformat_minor": 4
}
