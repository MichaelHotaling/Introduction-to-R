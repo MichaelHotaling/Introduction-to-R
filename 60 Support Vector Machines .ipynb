{
 "cells": [
  {
   "cell_type": "markdown",
   "metadata": {},
   "source": [
    "## Support Vector Machines\n",
    "Chapter 9 of ISL\n",
    "\n",
    "Support Vector Machines (SVMs) are supervised learning model with associated learning algorithms that analyze data and recognize patterns, used for classification and regression analysis.\n",
    "\n",
    "Given a set of training, examples, each marked for belonging to one of two categories, an SVM traning algorithm builds a model that assigns new examples into one category or the other. making it a non-probabilistic binary linear classifier\n",
    "\n",
    "An SVM model is a representation of the examples as points in space, mapped so that the examples of the separate categories are divided by a clear gap that is as wide as possible. \n",
    "\n",
    "New examples are then mapped into that same space and predicted to belong to a category based on which side of the gap they fall on.\n",
    "\n",
    "Let's show the basic intuition behind SVM. Imagine the labeled training data below \n",
    "\n",
    "<img src = \"https://miro.medium.com/max/1362/0*Jd9M5GLoD2qHsCEz.\">\n",
    "\n",
    "\n",
    "We can draw a separating \"hyperplane\" between the classes, but we have many options of hyperplanes that seperate perfectly.\n",
    "img src = \"https://miro.medium.com/max/2000/1*Z7Pb5_KhQkqoQkoqjLC-Rg.jpeg\">\n",
    "\n",
    "We would like to choose a hyperplane that maximizes the margin between classes.\n",
    "\n",
    "<img src = \"https://miro.medium.com/max/1362/1*csqbt5-K4GVi4i4Lrcx_eA.png\">\n",
    "\n",
    "The vector points that the margin lines touch are known as Support Vectors.\n",
    "\n",
    "We can also expand this idea to non-linearly seperable data through the \"kernal trick\"\n",
    "\n",
    "<img src = \"https://gregorygundersen.com/image/kerneltrick/idea.png\">\n",
    "\n",
    "## Support Vector Machines with R\n",
    "\n"
   ]
  },
  {
   "cell_type": "code",
   "execution_count": 2,
   "metadata": {},
   "outputs": [
    {
     "data": {
      "text/html": [
       "<table>\n",
       "<caption>A data.frame: 6 × 5</caption>\n",
       "<thead>\n",
       "\t<tr><th></th><th scope=col>Sepal.Length</th><th scope=col>Sepal.Width</th><th scope=col>Petal.Length</th><th scope=col>Petal.Width</th><th scope=col>Species</th></tr>\n",
       "\t<tr><th></th><th scope=col>&lt;dbl&gt;</th><th scope=col>&lt;dbl&gt;</th><th scope=col>&lt;dbl&gt;</th><th scope=col>&lt;dbl&gt;</th><th scope=col>&lt;fct&gt;</th></tr>\n",
       "</thead>\n",
       "<tbody>\n",
       "\t<tr><th scope=row>1</th><td>5.1</td><td>3.5</td><td>1.4</td><td>0.2</td><td>setosa</td></tr>\n",
       "\t<tr><th scope=row>2</th><td>4.9</td><td>3.0</td><td>1.4</td><td>0.2</td><td>setosa</td></tr>\n",
       "\t<tr><th scope=row>3</th><td>4.7</td><td>3.2</td><td>1.3</td><td>0.2</td><td>setosa</td></tr>\n",
       "\t<tr><th scope=row>4</th><td>4.6</td><td>3.1</td><td>1.5</td><td>0.2</td><td>setosa</td></tr>\n",
       "\t<tr><th scope=row>5</th><td>5.0</td><td>3.6</td><td>1.4</td><td>0.2</td><td>setosa</td></tr>\n",
       "\t<tr><th scope=row>6</th><td>5.4</td><td>3.9</td><td>1.7</td><td>0.4</td><td>setosa</td></tr>\n",
       "</tbody>\n",
       "</table>\n"
      ],
      "text/latex": [
       "A data.frame: 6 × 5\n",
       "\\begin{tabular}{r|lllll}\n",
       "  & Sepal.Length & Sepal.Width & Petal.Length & Petal.Width & Species\\\\\n",
       "  & <dbl> & <dbl> & <dbl> & <dbl> & <fct>\\\\\n",
       "\\hline\n",
       "\t1 & 5.1 & 3.5 & 1.4 & 0.2 & setosa\\\\\n",
       "\t2 & 4.9 & 3.0 & 1.4 & 0.2 & setosa\\\\\n",
       "\t3 & 4.7 & 3.2 & 1.3 & 0.2 & setosa\\\\\n",
       "\t4 & 4.6 & 3.1 & 1.5 & 0.2 & setosa\\\\\n",
       "\t5 & 5.0 & 3.6 & 1.4 & 0.2 & setosa\\\\\n",
       "\t6 & 5.4 & 3.9 & 1.7 & 0.4 & setosa\\\\\n",
       "\\end{tabular}\n"
      ],
      "text/markdown": [
       "\n",
       "A data.frame: 6 × 5\n",
       "\n",
       "| <!--/--> | Sepal.Length &lt;dbl&gt; | Sepal.Width &lt;dbl&gt; | Petal.Length &lt;dbl&gt; | Petal.Width &lt;dbl&gt; | Species &lt;fct&gt; |\n",
       "|---|---|---|---|---|---|\n",
       "| 1 | 5.1 | 3.5 | 1.4 | 0.2 | setosa |\n",
       "| 2 | 4.9 | 3.0 | 1.4 | 0.2 | setosa |\n",
       "| 3 | 4.7 | 3.2 | 1.3 | 0.2 | setosa |\n",
       "| 4 | 4.6 | 3.1 | 1.5 | 0.2 | setosa |\n",
       "| 5 | 5.0 | 3.6 | 1.4 | 0.2 | setosa |\n",
       "| 6 | 5.4 | 3.9 | 1.7 | 0.4 | setosa |\n",
       "\n"
      ],
      "text/plain": [
       "  Sepal.Length Sepal.Width Petal.Length Petal.Width Species\n",
       "1 5.1          3.5         1.4          0.2         setosa \n",
       "2 4.9          3.0         1.4          0.2         setosa \n",
       "3 4.7          3.2         1.3          0.2         setosa \n",
       "4 4.6          3.1         1.5          0.2         setosa \n",
       "5 5.0          3.6         1.4          0.2         setosa \n",
       "6 5.4          3.9         1.7          0.4         setosa "
      ]
     },
     "metadata": {},
     "output_type": "display_data"
    },
    {
     "data": {
      "text/plain": [
       "\n",
       "Call:\n",
       "svm(formula = Species ~ ., data = iris)\n",
       "\n",
       "\n",
       "Parameters:\n",
       "   SVM-Type:  C-classification \n",
       " SVM-Kernel:  radial \n",
       "       cost:  1 \n",
       "\n",
       "Number of Support Vectors:  51\n",
       "\n",
       " ( 8 22 21 )\n",
       "\n",
       "\n",
       "Number of Classes:  3 \n",
       "\n",
       "Levels: \n",
       " setosa versicolor virginica\n",
       "\n",
       "\n"
      ]
     },
     "metadata": {},
     "output_type": "display_data"
    },
    {
     "data": {
      "text/plain": [
       "            \n",
       "pred.values  setosa versicolor virginica\n",
       "  setosa         50          0         0\n",
       "  versicolor      0         48         2\n",
       "  virginica       0          2        48"
      ]
     },
     "metadata": {},
     "output_type": "display_data"
    },
    {
     "data": {
      "text/plain": [
       "\n",
       "Parameter tuning of 'svm':\n",
       "\n",
       "- sampling method: 10-fold cross validation \n",
       "\n",
       "- best parameters:\n",
       " cost gamma\n",
       "  0.5   0.1\n",
       "\n",
       "- best performance: 0.04 \n",
       "\n",
       "- Detailed performance results:\n",
       "  cost gamma      error dispersion\n",
       "1  0.5   0.1 0.04000000 0.08432740\n",
       "2  1.0   0.1 0.06000000 0.11088867\n",
       "3  1.5   0.1 0.05333333 0.08777075\n",
       "4  0.5   0.5 0.04666667 0.08916623\n",
       "5  1.0   0.5 0.04666667 0.08344437\n",
       "6  1.5   0.5 0.05333333 0.08195151\n",
       "7  0.5   0.7 0.05333333 0.08777075\n",
       "8  1.0   0.7 0.06000000 0.09660918\n",
       "9  1.5   0.7 0.06000000 0.09660918\n"
      ]
     },
     "metadata": {},
     "output_type": "display_data"
    },
    {
     "data": {
      "text/plain": [
       "\n",
       "Call:\n",
       "svm(formula = Species ~ ., data = iris, cost = 0.5, gamma = 0.1)\n",
       "\n",
       "\n",
       "Parameters:\n",
       "   SVM-Type:  C-classification \n",
       " SVM-Kernel:  radial \n",
       "       cost:  0.5 \n",
       "\n",
       "Number of Support Vectors:  76\n",
       "\n",
       " ( 10 35 31 )\n",
       "\n",
       "\n",
       "Number of Classes:  3 \n",
       "\n",
       "Levels: \n",
       " setosa versicolor virginica\n",
       "\n",
       "\n"
      ]
     },
     "metadata": {},
     "output_type": "display_data"
    }
   ],
   "source": [
    "library(ISLR)\n",
    "head(iris)\n",
    "\n",
    "# install.packages('e1071')\n",
    "library(e1071)\n",
    "# help(svm)\n",
    "\n",
    "model <- svm(Species ~ . ,data = iris)\n",
    "summary(model)\n",
    "\n",
    "# You never want to pass your training data into your predicted \n",
    "# data since it will normally be 100% accurate, but this is just an example\n",
    "pred.values <- predict(model, iris[1:4])\n",
    "table(pred.values,iris[,5])\n",
    "\n",
    "tune.results <- tune(svm,train.x = iris[1:4], \n",
    "                     train.y = iris[,5], \n",
    "                     kernel = 'radial', \n",
    "                     ranges = list(cost=c(0.5,1,1.5),\n",
    "                                 gamma=c(0.1,0.5,0.7)))\n",
    "\n",
    "summary(tune.results)\n",
    "\n",
    "tuned.svm <- svm(Species ~ . , data = iris, cost = 0.5, gamma = 0.1)\n",
    "summary(tuned.svm)"
   ]
  },
  {
   "cell_type": "code",
   "execution_count": null,
   "metadata": {},
   "outputs": [],
   "source": []
  }
 ],
 "metadata": {
  "kernelspec": {
   "display_name": "R",
   "language": "R",
   "name": "ir"
  },
  "language_info": {
   "codemirror_mode": "r",
   "file_extension": ".r",
   "mimetype": "text/x-r-source",
   "name": "R",
   "pygments_lexer": "r",
   "version": "3.6.1"
  }
 },
 "nbformat": 4,
 "nbformat_minor": 4
}
