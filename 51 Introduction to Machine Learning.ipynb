{
 "cells": [
  {
   "cell_type": "markdown",
   "metadata": {},
   "source": [
    "[Introduction to Statistical Learning](http://faculty.marshall.usc.edu/gareth-james/ISL/ISLR%20Seventh%20Printing.pdf)"
   ]
  },
  {
   "cell_type": "markdown",
   "metadata": {},
   "source": [
    "## What is Machine Learning?\n",
    "- Machine Learning is a method of data analysis that automates analytical model buidling.\n",
    "- Using algorithms that iteratively learn from data, machine learning allows computers to find hidden insight without being explicitly programmed where to look\n",
    "\n",
    "## What is it used for?\n",
    "- Fraud Detection\n",
    "- Web search results\n",
    "- Real-time ads on webpages\n",
    "- Credit scoring and next-best offers\n",
    "- Prediction of equipment failure\n",
    "- New pricing models\n",
    "- Network intrusion detection\n",
    "- Recommendation Engines\n",
    "- Customer Segmentation\n",
    "- Text Sentiment Analysis\n",
    "- Predicting Customer Churn\n",
    "- Pattern and image recognition\n",
    "- Email spam filtering\n",
    "- Financial Modeling\n",
    "\n",
    "and much, much more\n",
    "\n",
    "## The General Machine Learning Process\n",
    "\n",
    "<img src = \"https://cdn.elearningindustry.com/wp-content/uploads/2017/05/73348f2f23b70566eef2d9f10f9fe22c-800x456.png\">"
   ]
  },
  {
   "cell_type": "markdown",
   "metadata": {},
   "source": [
    "## Supervised Learning Algorithms\n",
    "- Supervised learning algorithms are trained using __labeled__ examples, such as an input where the desired output is known.\n",
    "- For example, a piece of equipment could have data points labeled either \"F\" for failed or \"R\" for runs\n",
    "- The learning algorithm receives a set of inputs along with the corresponding correct outputs, and the algorithm learns by comparing its actual outputs with correct outputs to find errors. \n",
    "- Then it modifies the model accordingly\n",
    "- Through methods like classification, regression, prediction and gradient boosting, supervised learning uses patterens to predict the value of the label on additional unlabeled data.\n",
    "- Supervised learning is commonly used in applications where historical data predicts likely future events.\n",
    "- For example, it can anticipate when credit card transactions are likely to fraudulent or which insurance customer is likely to file a claim\n",
    "- Or it can attempt to predict the price of a house based on different features for houses which we have historical price data"
   ]
  },
  {
   "cell_type": "markdown",
   "metadata": {},
   "source": [
    "## Unsupervised Learning Algorithms\n",
    "- Unsupervised learning is used against data that has no historical labels\n",
    "- The system is not told the \"right answer.\" The algorithm must figure out what is being shown.\n",
    "- The goal is to explore the data and find some structure within\n",
    "- Or it can find the main attributes that separate customer segments from each other\n",
    "- Popular techniques include self-organizing maps, nearest-neighbor mapping k-means clustering and single value decomposition\n",
    "- These algorithms are also used to segment text topics, recommend items, and identify data outliers.  "
   ]
  },
  {
   "cell_type": "markdown",
   "metadata": {},
   "source": [
    "## Reinforcement Learning\n",
    "- Reinforcement Learning is often used for robotics, gaming and navigation\n",
    "- With reinforcement learning, the algorithm discovers through trial and error which actions yield the greatest rewards.\n",
    "- This type of learning has three primary components: \n",
    "    - The agent: the learner or decision maker\n",
    "    - The enviornment: everything the agent can interact with\n",
    "    - The action: what the agent can do\n",
    "- The objective is for the agent to choose actions that maximize the expected reward over a given amount of time.\n",
    "- The agent will reach the goal much faster by following a good policy\n",
    "- The goal in reinforcement learning is to learn the best policy"
   ]
  },
  {
   "cell_type": "markdown",
   "metadata": {},
   "source": [
    "## Machine Learning in this Course\n",
    "- For each algorithm or Machine Learning topic:\n",
    "    - Reading assignment\n",
    "    - Light Overview of Theory\n",
    "    - Demonstration with R\n",
    "    - Machine Learning Project Assignment\n",
    "    - Overview of Solution for Project"
   ]
  }
 ],
 "metadata": {
  "kernelspec": {
   "display_name": "R",
   "language": "R",
   "name": "ir"
  },
  "language_info": {
   "codemirror_mode": "r",
   "file_extension": ".r",
   "mimetype": "text/x-r-source",
   "name": "R",
   "pygments_lexer": "r",
   "version": "3.6.1"
  }
 },
 "nbformat": 4,
 "nbformat_minor": 4
}
