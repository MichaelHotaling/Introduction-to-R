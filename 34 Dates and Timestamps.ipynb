{
 "cells": [
  {
   "cell_type": "markdown",
   "metadata": {},
   "source": [
    "# Dates and Timestamps\n",
    "\n",
    "R gives us a variety of tools for working with timestamp information. Let's start off by exploring the Date object:\n",
    "\n",
    "## Dates\n",
    "\n",
    "You can use the __as.Date()__ function to convert a character string into a  Date object. That will allow the object to contain more time information. The string will need to be in a standard time format. We can ask for todays date by asking teh system (Sys) for the Date."
   ]
  },
  {
   "cell_type": "code",
   "execution_count": 43,
   "metadata": {},
   "outputs": [
    {
     "data": {
      "text/html": [
       "<time datetime=\"2020-03-20\">2020-03-20</time>"
      ],
      "text/latex": [
       "2020-03-20"
      ],
      "text/markdown": [
       "2020-03-20"
      ],
      "text/plain": [
       "[1] \"2020-03-20\""
      ]
     },
     "metadata": {},
     "output_type": "display_data"
    }
   ],
   "source": [
    "Sys.Date()"
   ]
  },
  {
   "cell_type": "code",
   "execution_count": 46,
   "metadata": {},
   "outputs": [
    {
     "data": {
      "text/html": [
       "<time datetime=\"2020-03-20\">2020-03-20</time>"
      ],
      "text/latex": [
       "2020-03-20"
      ],
      "text/markdown": [
       "2020-03-20"
      ],
      "text/plain": [
       "[1] \"2020-03-20\""
      ]
     },
     "metadata": {},
     "output_type": "display_data"
    },
    {
     "data": {
      "text/html": [
       "'Date'"
      ],
      "text/latex": [
       "'Date'"
      ],
      "text/markdown": [
       "'Date'"
      ],
      "text/plain": [
       "[1] \"Date\""
      ]
     },
     "metadata": {},
     "output_type": "display_data"
    }
   ],
   "source": [
    "# Set as a variable\n",
    "today <- Sys.Date()\n",
    "today\n",
    "class(today)"
   ]
  },
  {
   "cell_type": "markdown",
   "metadata": {},
   "source": [
    "You can also convert character strings in R to a Date object using as.Date(). You'll need to make sure its in the correct format, or use % symbols that correlate with your given format:\n",
    "\n",
    "- %d: -\tDay of the month (decimal number)\n",
    "- %m: -\tMonth (decimal number)\n",
    "- %b: -\tMonth (abbreviated)\n",
    "- %B: -\tMonth (full name)\n",
    "- %y: -\tYear (2 digit)\n",
    "- %Y: -\tYear (4 digit)\n",
    "\n",
    "Let's show some examples of how to use as.Date and the format argument for this\n"
   ]
  },
  {
   "cell_type": "code",
   "execution_count": 47,
   "metadata": {},
   "outputs": [
    {
     "data": {
      "text/html": [
       "<time datetime=\"1990-11-03\">1990-11-03</time>"
      ],
      "text/latex": [
       "1990-11-03"
      ],
      "text/markdown": [
       "1990-11-03"
      ],
      "text/plain": [
       "[1] \"1990-11-03\""
      ]
     },
     "metadata": {},
     "output_type": "display_data"
    }
   ],
   "source": []
  },
  {
   "cell_type": "code",
   "execution_count": 50,
   "metadata": {},
   "outputs": [
    {
     "data": {
      "text/html": [
       "'character'"
      ],
      "text/latex": [
       "'character'"
      ],
      "text/markdown": [
       "'character'"
      ],
      "text/plain": [
       "[1] \"character\""
      ]
     },
     "metadata": {},
     "output_type": "display_data"
    },
    {
     "data": {
      "text/html": [
       "<time datetime=\"1969-07-20\">1969-07-20</time>"
      ],
      "text/latex": [
       "1969-07-20"
      ],
      "text/markdown": [
       "1969-07-20"
      ],
      "text/plain": [
       "[1] \"1969-07-20\""
      ]
     },
     "metadata": {},
     "output_type": "display_data"
    }
   ],
   "source": [
    "# YYYY-MM-DD\n",
    "c <- \"1969-07-20\"\n",
    "class(c)\n",
    "moon.landing <- as.Date(c)\n",
    "moon.landing"
   ]
  },
  {
   "cell_type": "code",
   "execution_count": 56,
   "metadata": {},
   "outputs": [
    {
     "data": {
      "text/html": [
       "<time datetime=\"1732-02-22\">1732-02-22</time>"
      ],
      "text/latex": [
       "1732-02-22"
      ],
      "text/markdown": [
       "1732-02-22"
      ],
      "text/plain": [
       "[1] \"1732-02-22\""
      ]
     },
     "metadata": {},
     "output_type": "display_data"
    }
   ],
   "source": [
    "# Using long Month format and spaces\n",
    "george.washington.birthday <- as.Date(\"February 22, 1732\" , format= \"%B %d,%Y\")\n",
    "george.washington.birthday"
   ]
  },
  {
   "cell_type": "markdown",
   "metadata": {},
   "source": [
    "Now we see how we can use as.Date() in combination with the format argument to basically convert any string representation of dates to an actual Date object, which is useful for time series analysis.\n",
    "\n",
    "# Time\n",
    "Just like with Dates, we can also convert strings and work with them for time information. R uses a __POSIXct__ object type to store time information. It's a bit outside the scope of this course, but POSIX represents a portable operating system interface, primarily for UNIX systems, but available on other operating systems as well. As far as what we need to know now, we can just use as.POSIXct() for converting string to a POSIXct object type for time series analysis, the format symbols are best seen through the help documentation for the strptime() function:"
   ]
  },
  {
   "cell_type": "code",
   "execution_count": 57,
   "metadata": {},
   "outputs": [
    {
     "data": {
      "text/plain": [
       "[1] \"2020-03-20 11:02:03 EDT\""
      ]
     },
     "metadata": {},
     "output_type": "display_data"
    }
   ],
   "source": [
    "as.POSIXct(\"11:02:03\",format=\"%H:%M:%S\")"
   ]
  },
  {
   "cell_type": "markdown",
   "metadata": {},
   "source": [
    "Notice how today's date was added automatically because we didn't specify it in the format argument. If we already had the info:"
   ]
  },
  {
   "cell_type": "code",
   "execution_count": 58,
   "metadata": {},
   "outputs": [
    {
     "data": {
      "text/plain": [
       "[1] \"1990-11-03 11:02:03 EST\""
      ]
     },
     "metadata": {},
     "output_type": "display_data"
    }
   ],
   "source": [
    "as.POSIXct(\"November-03-1990 11:02:03\",format=\"%B-%d-%Y %H:%M:%S\")"
   ]
  },
  {
   "cell_type": "markdown",
   "metadata": {},
   "source": [
    "Most times, we'll actually be using the strptime() function, instead of POSIXct. Here's a quick lowdown on the differences between the functions:\n",
    "\n",
    "There's two internal implementations of date/time: POSIXct, which stores seconds since UNIX epoch (+some other data), and POSIXlt, which stores a list of day, month, year, hour, minute, second, etc.\n",
    "\n",
    "__strptime__ is a function to directly convert character vectors (of a variety of formats) to POSIXlt format.\n",
    "\n",
    "__as.POSIXlt__ converts a variety of data types to POSIXlt. It tries to be intelligent and do the sensible thing - in the case of character, it acts as a wrapper to strptime.\n",
    "\n",
    "__as.POSIXct__ converts a variety of data types to POSIXct. It also tries to be intelligent and do the sensible thing - in the case of character, it runs strptime first, then does the conversion from POSIXlt to POSIXct.\n",
    "\n",
    "It makes sense that strptime is faster, because strptime only handles character input whilst the others try to determine which method to use from input type. It should also be a bit safer in that being handed unexpected data would just give an error, instead of trying to do the intelligent thing that might not be what you want.\n",
    "\n",
    "So let's just see a basic example of strptime:"
   ]
  },
  {
   "cell_type": "code",
   "execution_count": 59,
   "metadata": {},
   "outputs": [
    {
     "data": {
      "text/plain": [
       "[1] \"2020-03-20 11:02:03 EDT\""
      ]
     },
     "metadata": {},
     "output_type": "display_data"
    }
   ],
   "source": [
    "strptime(\"11:02:03\",format=\"%H:%M:%S\")"
   ]
  }
 ],
 "metadata": {
  "kernelspec": {
   "display_name": "R",
   "language": "R",
   "name": "ir"
  },
  "language_info": {
   "codemirror_mode": "r",
   "file_extension": ".r",
   "mimetype": "text/x-r-source",
   "name": "R",
   "pygments_lexer": "r",
   "version": "3.6.1"
  }
 },
 "nbformat": 4,
 "nbformat_minor": 4
}
