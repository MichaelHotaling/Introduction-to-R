{
 "cells": [
  {
   "cell_type": "markdown",
   "metadata": {},
   "source": [
    "<img src = \"https://velocitypartners.com/wp-content/uploads/2011/11/b2b-marketing-and-moneyball1.jpg\">"
   ]
  },
  {
   "cell_type": "markdown",
   "metadata": {},
   "source": [
    "## The MoneyBall Project"
   ]
  },
  {
   "cell_type": "markdown",
   "metadata": {},
   "source": [
    "## Rules of Baseball\n",
    "\n",
    "You don't need to know much about baseball to complete this exercise. if you're totally unfamiliar with baseball, you can watch this useful [explanatory video](https://www.youtube.com/watch?v=0bKkGeROiPA)"
   ]
  },
  {
   "cell_type": "markdown",
   "metadata": {},
   "source": [
    "## [Breaking Biases](https://www.youtube.com/watch?v=yGf6LNWY9AI)"
   ]
  },
  {
   "cell_type": "markdown",
   "metadata": {},
   "source": [
    "## The 2002 Oakland A's\n",
    "The Oakland Athletics' 2002 season was the team's 35th in Oakland, California. It was also the 102nd season in franchise history. The Athletics finished first in the American League West with a record of 103-59.\n",
    "\n",
    "The Athletics' 2002 campaign ranks among the most famous in franchise history. Following the 2001 season, Oakland saw the departure of three key players (the lost boys). Billy Beane, the team's general manager, responded with a series of under-the-radar free agent signings. The new-look Athletics, despite a comparative lack of star power, surprised the baseball world by besting the 2001 team's regular season record. The team is most famous, however, for winning 20 consecutive games between August 13 and September 4, 2002.[1] The Athletics' season was the subject of Michael Lewis' 2003 book Moneyball: The Art of Winning an Unfair Game (as Lewis was given the opportunity to follow the team around throughout that season)\n",
    "\n",
    "This project is based off the book written by Michael Lewis (later turned into a movie).\n",
    "\n",
    "## Moneyball Book\n",
    "The central premise of book Moneyball is that the collective wisdom of baseball insiders (including players, managers, coaches, scouts, and the front office) over the past century is subjective and often flawed. Statistics such as stolen bases, runs batted in, and batting average, typically used to gauge players, are relics of a 19th-century view of the game and the statistics available at that time. The book argues that the Oakland A's' front office took advantage of more analytical gauges of player performance to field a team that could better compete against richer competitors in Major League Baseball (MLB).\n",
    "\n",
    "Rigorous statistical analysis had demonstrated that on-base percentage and slugging percentage are better indicators of offensive success, and the A's became convinced that these qualities were cheaper to obtain on the open market than more historically valued qualities such as speed and contact. These observations often flew in the face of conventional baseball wisdom and the beliefs of many baseball scouts and executives.\n",
    "\n",
    "By re-evaluating the strategies that produce wins on the field, the 2002 Athletics, with approximately US 44 million dollars in salary, were competitive with larger market teams such as the New York Yankees, who spent over US$125 million in payroll that same season."
   ]
  },
  {
   "cell_type": "markdown",
   "metadata": {},
   "source": [
    "<img src = \"https://upload.wikimedia.org/wikipedia/commons/a/ae/MONEYBALLchart.png\">"
   ]
  },
  {
   "cell_type": "markdown",
   "metadata": {},
   "source": [
    "Because of the team's smaller revenues, Oakland is forced to find players undervalued by the market, and their system for finding value in undervalued players has proven itself thus far. This approach brought the A's to the playoffs in 2002 and 2003.\n",
    "\n",
    "In this project we'll work with some data and with the goal of trying to find replacement players for the ones lost at the start of the off-season - During the 2001–02 offseason, the team lost three key free agents to larger market teams: 2000 AL MVP Jason Giambi to the New York Yankees, outfielder Johnny Damon to the Boston Red Sox, and closer Jason Isringhausen to the St. Louis Cardinals.\n",
    "\n",
    "The main goal of this project is for you to feel comfortable working with R on real data to try and derive actionable insights!\n",
    "\n",
    "## Let's get started!\n",
    "Follow the steps outlined in bold below using your new R skills and help the Oakland A's recruit under-valued players!\n",
    "\n",
    "<img src = \"https://miro.medium.com/max/1400/1*RmFOEGRNw5oq6U5Ahy9bRw.jpeg\">\n",
    "\n",
    "## Data\n",
    "We'll be using data from [Sean Lahaman's Website](http://www.seanlahman.com/baseball-archive/statistics/); a very useful source for baseball statistics. The documentation for the csv files is located in the readme2013.txt file. You may need to reference this to understand what acronyms stand for.\n",
    "\n",
    "__Use R to open the Batting.csv file and assign it to a dataframe called batting using read.csv__"
   ]
  },
  {
   "cell_type": "code",
   "execution_count": 2,
   "metadata": {},
   "outputs": [],
   "source": [
    "# Load in the Libraries we will need\n",
    "library(ggplot2)\n",
    "library(plotly)\n",
    "library(dplyr)\n",
    "library(tidyr)\n",
    "library(formattable)"
   ]
  },
  {
   "cell_type": "code",
   "execution_count": 3,
   "metadata": {},
   "outputs": [],
   "source": [
    "batting <- read.csv(\"Batting.csv\", header = TRUE)"
   ]
  },
  {
   "cell_type": "code",
   "execution_count": 4,
   "metadata": {},
   "outputs": [
    {
     "data": {
      "text/html": [
       "<table>\n",
       "<caption>A data.frame: 6 × 24</caption>\n",
       "<thead>\n",
       "\t<tr><th></th><th scope=col>playerID</th><th scope=col>yearID</th><th scope=col>stint</th><th scope=col>teamID</th><th scope=col>lgID</th><th scope=col>G</th><th scope=col>G_batting</th><th scope=col>AB</th><th scope=col>R</th><th scope=col>H</th><th scope=col>...</th><th scope=col>SB</th><th scope=col>CS</th><th scope=col>BB</th><th scope=col>SO</th><th scope=col>IBB</th><th scope=col>HBP</th><th scope=col>SH</th><th scope=col>SF</th><th scope=col>GIDP</th><th scope=col>G_old</th></tr>\n",
       "\t<tr><th></th><th scope=col>&lt;fct&gt;</th><th scope=col>&lt;int&gt;</th><th scope=col>&lt;int&gt;</th><th scope=col>&lt;fct&gt;</th><th scope=col>&lt;fct&gt;</th><th scope=col>&lt;int&gt;</th><th scope=col>&lt;int&gt;</th><th scope=col>&lt;int&gt;</th><th scope=col>&lt;int&gt;</th><th scope=col>&lt;int&gt;</th><th scope=col>...</th><th scope=col>&lt;int&gt;</th><th scope=col>&lt;int&gt;</th><th scope=col>&lt;int&gt;</th><th scope=col>&lt;int&gt;</th><th scope=col>&lt;int&gt;</th><th scope=col>&lt;int&gt;</th><th scope=col>&lt;int&gt;</th><th scope=col>&lt;int&gt;</th><th scope=col>&lt;int&gt;</th><th scope=col>&lt;int&gt;</th></tr>\n",
       "</thead>\n",
       "<tbody>\n",
       "\t<tr><th scope=row>1</th><td>aardsda01</td><td>2004</td><td>1</td><td>SFN</td><td>NL</td><td>11</td><td>11</td><td>0</td><td>0</td><td>0</td><td>...</td><td>0</td><td>0</td><td>0</td><td>0</td><td>0</td><td>0</td><td>0</td><td>0</td><td>0</td><td>11</td></tr>\n",
       "\t<tr><th scope=row>2</th><td>aardsda01</td><td>2006</td><td>1</td><td>CHN</td><td>NL</td><td>45</td><td>43</td><td>2</td><td>0</td><td>0</td><td>...</td><td>0</td><td>0</td><td>0</td><td>0</td><td>0</td><td>0</td><td>1</td><td>0</td><td>0</td><td>45</td></tr>\n",
       "\t<tr><th scope=row>3</th><td>aardsda01</td><td>2007</td><td>1</td><td>CHA</td><td>AL</td><td>25</td><td> 2</td><td>0</td><td>0</td><td>0</td><td>...</td><td>0</td><td>0</td><td>0</td><td>0</td><td>0</td><td>0</td><td>0</td><td>0</td><td>0</td><td> 2</td></tr>\n",
       "\t<tr><th scope=row>4</th><td>aardsda01</td><td>2008</td><td>1</td><td>BOS</td><td>AL</td><td>47</td><td> 5</td><td>1</td><td>0</td><td>0</td><td>...</td><td>0</td><td>0</td><td>0</td><td>1</td><td>0</td><td>0</td><td>0</td><td>0</td><td>0</td><td> 5</td></tr>\n",
       "\t<tr><th scope=row>5</th><td>aardsda01</td><td>2009</td><td>1</td><td>SEA</td><td>AL</td><td>73</td><td> 3</td><td>0</td><td>0</td><td>0</td><td>...</td><td>0</td><td>0</td><td>0</td><td>0</td><td>0</td><td>0</td><td>0</td><td>0</td><td>0</td><td>NA</td></tr>\n",
       "\t<tr><th scope=row>6</th><td>aardsda01</td><td>2010</td><td>1</td><td>SEA</td><td>AL</td><td>53</td><td> 4</td><td>0</td><td>0</td><td>0</td><td>...</td><td>0</td><td>0</td><td>0</td><td>0</td><td>0</td><td>0</td><td>0</td><td>0</td><td>0</td><td>NA</td></tr>\n",
       "</tbody>\n",
       "</table>\n"
      ],
      "text/latex": [
       "A data.frame: 6 × 24\n",
       "\\begin{tabular}{r|lllllllllllllllllllll}\n",
       "  & playerID & yearID & stint & teamID & lgID & G & G\\_batting & AB & R & H & ... & SB & CS & BB & SO & IBB & HBP & SH & SF & GIDP & G\\_old\\\\\n",
       "  & <fct> & <int> & <int> & <fct> & <fct> & <int> & <int> & <int> & <int> & <int> & ... & <int> & <int> & <int> & <int> & <int> & <int> & <int> & <int> & <int> & <int>\\\\\n",
       "\\hline\n",
       "\t1 & aardsda01 & 2004 & 1 & SFN & NL & 11 & 11 & 0 & 0 & 0 & ... & 0 & 0 & 0 & 0 & 0 & 0 & 0 & 0 & 0 & 11\\\\\n",
       "\t2 & aardsda01 & 2006 & 1 & CHN & NL & 45 & 43 & 2 & 0 & 0 & ... & 0 & 0 & 0 & 0 & 0 & 0 & 1 & 0 & 0 & 45\\\\\n",
       "\t3 & aardsda01 & 2007 & 1 & CHA & AL & 25 &  2 & 0 & 0 & 0 & ... & 0 & 0 & 0 & 0 & 0 & 0 & 0 & 0 & 0 &  2\\\\\n",
       "\t4 & aardsda01 & 2008 & 1 & BOS & AL & 47 &  5 & 1 & 0 & 0 & ... & 0 & 0 & 0 & 1 & 0 & 0 & 0 & 0 & 0 &  5\\\\\n",
       "\t5 & aardsda01 & 2009 & 1 & SEA & AL & 73 &  3 & 0 & 0 & 0 & ... & 0 & 0 & 0 & 0 & 0 & 0 & 0 & 0 & 0 & NA\\\\\n",
       "\t6 & aardsda01 & 2010 & 1 & SEA & AL & 53 &  4 & 0 & 0 & 0 & ... & 0 & 0 & 0 & 0 & 0 & 0 & 0 & 0 & 0 & NA\\\\\n",
       "\\end{tabular}\n"
      ],
      "text/markdown": [
       "\n",
       "A data.frame: 6 × 24\n",
       "\n",
       "| <!--/--> | playerID &lt;fct&gt; | yearID &lt;int&gt; | stint &lt;int&gt; | teamID &lt;fct&gt; | lgID &lt;fct&gt; | G &lt;int&gt; | G_batting &lt;int&gt; | AB &lt;int&gt; | R &lt;int&gt; | H &lt;int&gt; | ... ... | SB &lt;int&gt; | CS &lt;int&gt; | BB &lt;int&gt; | SO &lt;int&gt; | IBB &lt;int&gt; | HBP &lt;int&gt; | SH &lt;int&gt; | SF &lt;int&gt; | GIDP &lt;int&gt; | G_old &lt;int&gt; |\n",
       "|---|---|---|---|---|---|---|---|---|---|---|---|---|---|---|---|---|---|---|---|---|---|\n",
       "| 1 | aardsda01 | 2004 | 1 | SFN | NL | 11 | 11 | 0 | 0 | 0 | ... | 0 | 0 | 0 | 0 | 0 | 0 | 0 | 0 | 0 | 11 |\n",
       "| 2 | aardsda01 | 2006 | 1 | CHN | NL | 45 | 43 | 2 | 0 | 0 | ... | 0 | 0 | 0 | 0 | 0 | 0 | 1 | 0 | 0 | 45 |\n",
       "| 3 | aardsda01 | 2007 | 1 | CHA | AL | 25 |  2 | 0 | 0 | 0 | ... | 0 | 0 | 0 | 0 | 0 | 0 | 0 | 0 | 0 |  2 |\n",
       "| 4 | aardsda01 | 2008 | 1 | BOS | AL | 47 |  5 | 1 | 0 | 0 | ... | 0 | 0 | 0 | 1 | 0 | 0 | 0 | 0 | 0 |  5 |\n",
       "| 5 | aardsda01 | 2009 | 1 | SEA | AL | 73 |  3 | 0 | 0 | 0 | ... | 0 | 0 | 0 | 0 | 0 | 0 | 0 | 0 | 0 | NA |\n",
       "| 6 | aardsda01 | 2010 | 1 | SEA | AL | 53 |  4 | 0 | 0 | 0 | ... | 0 | 0 | 0 | 0 | 0 | 0 | 0 | 0 | 0 | NA |\n",
       "\n"
      ],
      "text/plain": [
       "  playerID  yearID stint teamID lgID G  G_batting AB R H ... SB CS BB SO IBB\n",
       "1 aardsda01 2004   1     SFN    NL   11 11        0  0 0 ... 0  0  0  0  0  \n",
       "2 aardsda01 2006   1     CHN    NL   45 43        2  0 0 ... 0  0  0  0  0  \n",
       "3 aardsda01 2007   1     CHA    AL   25  2        0  0 0 ... 0  0  0  0  0  \n",
       "4 aardsda01 2008   1     BOS    AL   47  5        1  0 0 ... 0  0  0  1  0  \n",
       "5 aardsda01 2009   1     SEA    AL   73  3        0  0 0 ... 0  0  0  0  0  \n",
       "6 aardsda01 2010   1     SEA    AL   53  4        0  0 0 ... 0  0  0  0  0  \n",
       "  HBP SH SF GIDP G_old\n",
       "1 0   0  0  0    11   \n",
       "2 0   1  0  0    45   \n",
       "3 0   0  0  0     2   \n",
       "4 0   0  0  0     5   \n",
       "5 0   0  0  0    NA   \n",
       "6 0   0  0  0    NA   "
      ]
     },
     "metadata": {},
     "output_type": "display_data"
    }
   ],
   "source": [
    "head(batting)"
   ]
  },
  {
   "cell_type": "code",
   "execution_count": 5,
   "metadata": {},
   "outputs": [
    {
     "name": "stdout",
     "output_type": "stream",
     "text": [
      "'data.frame':\t97889 obs. of  24 variables:\n",
      " $ playerID : Factor w/ 18107 levels \"aardsda01\",\"aaronha01\",..: 1 1 1 1 1 1 1 2 2 2 ...\n",
      " $ yearID   : int  2004 2006 2007 2008 2009 2010 2012 1954 1955 1956 ...\n",
      " $ stint    : int  1 1 1 1 1 1 1 1 1 1 ...\n",
      " $ teamID   : Factor w/ 149 levels \"ALT\",\"ANA\",\"ARI\",..: 117 35 33 16 116 116 93 80 80 80 ...\n",
      " $ lgID     : Factor w/ 6 levels \"AA\",\"AL\",\"FL\",..: 4 4 2 2 2 2 2 4 4 4 ...\n",
      " $ G        : int  11 45 25 47 73 53 1 122 153 153 ...\n",
      " $ G_batting: int  11 43 2 5 3 4 NA 122 153 153 ...\n",
      " $ AB       : int  0 2 0 1 0 0 NA 468 602 609 ...\n",
      " $ R        : int  0 0 0 0 0 0 NA 58 105 106 ...\n",
      " $ H        : int  0 0 0 0 0 0 NA 131 189 200 ...\n",
      " $ X2B      : int  0 0 0 0 0 0 NA 27 37 34 ...\n",
      " $ X3B      : int  0 0 0 0 0 0 NA 6 9 14 ...\n",
      " $ HR       : int  0 0 0 0 0 0 NA 13 27 26 ...\n",
      " $ RBI      : int  0 0 0 0 0 0 NA 69 106 92 ...\n",
      " $ SB       : int  0 0 0 0 0 0 NA 2 3 2 ...\n",
      " $ CS       : int  0 0 0 0 0 0 NA 2 1 4 ...\n",
      " $ BB       : int  0 0 0 0 0 0 NA 28 49 37 ...\n",
      " $ SO       : int  0 0 0 1 0 0 NA 39 61 54 ...\n",
      " $ IBB      : int  0 0 0 0 0 0 NA NA 5 6 ...\n",
      " $ HBP      : int  0 0 0 0 0 0 NA 3 3 2 ...\n",
      " $ SH       : int  0 1 0 0 0 0 NA 6 7 5 ...\n",
      " $ SF       : int  0 0 0 0 0 0 NA 4 4 7 ...\n",
      " $ GIDP     : int  0 0 0 0 0 0 NA 13 20 21 ...\n",
      " $ G_old    : int  11 45 2 5 NA NA NA 122 153 153 ...\n"
     ]
    }
   ],
   "source": [
    "str(batting)"
   ]
  },
  {
   "cell_type": "markdown",
   "metadata": {},
   "source": [
    "__Make sure you understand how to call the columns by using the $ symbol.__\n",
    "\n",
    "__Call the head() of the first five rows of AB (At Bats) column__"
   ]
  },
  {
   "cell_type": "code",
   "execution_count": 6,
   "metadata": {},
   "outputs": [
    {
     "data": {
      "text/html": [
       "<style>\n",
       ".list-inline {list-style: none; margin:0; padding: 0}\n",
       ".list-inline>li {display: inline-block}\n",
       ".list-inline>li:not(:last-child)::after {content: \"\\00b7\"; padding: 0 .5ex}\n",
       "</style>\n",
       "<ol class=list-inline><li>0</li><li>2</li><li>0</li><li>1</li><li>0</li></ol>\n"
      ],
      "text/latex": [
       "\\begin{enumerate*}\n",
       "\\item 0\n",
       "\\item 2\n",
       "\\item 0\n",
       "\\item 1\n",
       "\\item 0\n",
       "\\end{enumerate*}\n"
      ],
      "text/markdown": [
       "1. 0\n",
       "2. 2\n",
       "3. 0\n",
       "4. 1\n",
       "5. 0\n",
       "\n",
       "\n"
      ],
      "text/plain": [
       "[1] 0 2 0 1 0"
      ]
     },
     "metadata": {},
     "output_type": "display_data"
    }
   ],
   "source": [
    "head(batting$AB,5)"
   ]
  },
  {
   "cell_type": "markdown",
   "metadata": {},
   "source": [
    "__Call the head of the doubles (X2B) column__"
   ]
  },
  {
   "cell_type": "code",
   "execution_count": 7,
   "metadata": {},
   "outputs": [
    {
     "data": {
      "text/html": [
       "<style>\n",
       ".list-inline {list-style: none; margin:0; padding: 0}\n",
       ".list-inline>li {display: inline-block}\n",
       ".list-inline>li:not(:last-child)::after {content: \"\\00b7\"; padding: 0 .5ex}\n",
       "</style>\n",
       "<ol class=list-inline><li>0</li><li>0</li><li>0</li><li>0</li><li>0</li></ol>\n"
      ],
      "text/latex": [
       "\\begin{enumerate*}\n",
       "\\item 0\n",
       "\\item 0\n",
       "\\item 0\n",
       "\\item 0\n",
       "\\item 0\n",
       "\\end{enumerate*}\n"
      ],
      "text/markdown": [
       "1. 0\n",
       "2. 0\n",
       "3. 0\n",
       "4. 0\n",
       "5. 0\n",
       "\n",
       "\n"
      ],
      "text/plain": [
       "[1] 0 0 0 0 0"
      ]
     },
     "metadata": {},
     "output_type": "display_data"
    }
   ],
   "source": [
    "head(batting$X2B,5)"
   ]
  },
  {
   "cell_type": "markdown",
   "metadata": {},
   "source": [
    "## Feature Engineering\n",
    "We need to add three more statistics that were used in Moneyball! These are:\n",
    "\n",
    "- [Batting Average](https://en.wikipedia.org/wiki/Batting_average)\n",
    "- [On Base Percentage](http://en.wikipedia.org/wiki/On-base_percentage)\n",
    "- [Slugging Percentage](http://en.wikipedia.org/wiki/Slugging_percentage)\n",
    "\n",
    "Click on the links provided and search the wikipedia page for the formula for creating the new statistic! \n",
    "\n",
    "For example, for Batting Average, you'll need to scroll down until you see:\n",
    "\n",
    " $$AVG=\\frac{H}{AB}$$\n",
    " \n",
    "Which means that the Batting Average is equal to H (Hits) divided by AB (At Base). So we'll do the following to create a new column called __BA__ and add it to our data frame:"
   ]
  },
  {
   "cell_type": "code",
   "execution_count": 8,
   "metadata": {},
   "outputs": [],
   "source": [
    "batting$BA <- batting$H / batting$AB"
   ]
  },
  {
   "cell_type": "markdown",
   "metadata": {},
   "source": [
    "__After doing this operation, check the last 5 entries of the BA column of your data frame and it should look like this:__"
   ]
  },
  {
   "cell_type": "code",
   "execution_count": 9,
   "metadata": {},
   "outputs": [
    {
     "data": {
      "text/html": [
       "<style>\n",
       ".list-inline {list-style: none; margin:0; padding: 0}\n",
       ".list-inline>li {display: inline-block}\n",
       ".list-inline>li:not(:last-child)::after {content: \"\\00b7\"; padding: 0 .5ex}\n",
       "</style>\n",
       "<ol class=list-inline><li>0.123076923076923</li><li>0.274647887323944</li><li>0.147058823529412</li><li>0.274509803921569</li><li>0.213872832369942</li></ol>\n"
      ],
      "text/latex": [
       "\\begin{enumerate*}\n",
       "\\item 0.123076923076923\n",
       "\\item 0.274647887323944\n",
       "\\item 0.147058823529412\n",
       "\\item 0.274509803921569\n",
       "\\item 0.213872832369942\n",
       "\\end{enumerate*}\n"
      ],
      "text/markdown": [
       "1. 0.123076923076923\n",
       "2. 0.274647887323944\n",
       "3. 0.147058823529412\n",
       "4. 0.274509803921569\n",
       "5. 0.213872832369942\n",
       "\n",
       "\n"
      ],
      "text/plain": [
       "[1] 0.1230769 0.2746479 0.1470588 0.2745098 0.2138728"
      ]
     },
     "metadata": {},
     "output_type": "display_data"
    }
   ],
   "source": [
    "tail(batting$BA,5)"
   ]
  },
  {
   "cell_type": "markdown",
   "metadata": {},
   "source": [
    "__Now do the same for some new columns! On Base Percentage (OBP) and Slugging Percentage (SLG). Hint: For SLG, you need 1B (Singles), this isn't in your data frame. However you can calculate it by subtracting doubles,triples, and home runs from total hits (H): 1B = H-2B-3B-HR__\n",
    "\n",
    "- __Create an On Base Percentage (OBP) Column__\n",
    "- __Create a Slugging Average (SLG) Column__"
   ]
  },
  {
   "cell_type": "code",
   "execution_count": 10,
   "metadata": {},
   "outputs": [],
   "source": [
    "# On Base Percentage\n",
    "batting$OBP <- (batting$H + batting$BB + batting$HBP)/(batting$AB + batting$BB + batting$HBP + batting$SF)\n",
    "\n",
    "# Creating X1B (Singles)\n",
    "batting$X1B <-  batting$H - batting$X2B - batting$X3B - batting$HR\n",
    "\n",
    "# Creating Slugging Average (SLG) \n",
    "batting$SLG <- (batting$X1B + (2 * batting$X2B) + (3 * batting$X3B) + (4 * batting$HR))/batting$AB"
   ]
  },
  {
   "cell_type": "code",
   "execution_count": 11,
   "metadata": {},
   "outputs": [
    {
     "name": "stdout",
     "output_type": "stream",
     "text": [
      "'data.frame':\t97889 obs. of  28 variables:\n",
      " $ playerID : Factor w/ 18107 levels \"aardsda01\",\"aaronha01\",..: 1 1 1 1 1 1 1 2 2 2 ...\n",
      " $ yearID   : int  2004 2006 2007 2008 2009 2010 2012 1954 1955 1956 ...\n",
      " $ stint    : int  1 1 1 1 1 1 1 1 1 1 ...\n",
      " $ teamID   : Factor w/ 149 levels \"ALT\",\"ANA\",\"ARI\",..: 117 35 33 16 116 116 93 80 80 80 ...\n",
      " $ lgID     : Factor w/ 6 levels \"AA\",\"AL\",\"FL\",..: 4 4 2 2 2 2 2 4 4 4 ...\n",
      " $ G        : int  11 45 25 47 73 53 1 122 153 153 ...\n",
      " $ G_batting: int  11 43 2 5 3 4 NA 122 153 153 ...\n",
      " $ AB       : int  0 2 0 1 0 0 NA 468 602 609 ...\n",
      " $ R        : int  0 0 0 0 0 0 NA 58 105 106 ...\n",
      " $ H        : int  0 0 0 0 0 0 NA 131 189 200 ...\n",
      " $ X2B      : int  0 0 0 0 0 0 NA 27 37 34 ...\n",
      " $ X3B      : int  0 0 0 0 0 0 NA 6 9 14 ...\n",
      " $ HR       : int  0 0 0 0 0 0 NA 13 27 26 ...\n",
      " $ RBI      : int  0 0 0 0 0 0 NA 69 106 92 ...\n",
      " $ SB       : int  0 0 0 0 0 0 NA 2 3 2 ...\n",
      " $ CS       : int  0 0 0 0 0 0 NA 2 1 4 ...\n",
      " $ BB       : int  0 0 0 0 0 0 NA 28 49 37 ...\n",
      " $ SO       : int  0 0 0 1 0 0 NA 39 61 54 ...\n",
      " $ IBB      : int  0 0 0 0 0 0 NA NA 5 6 ...\n",
      " $ HBP      : int  0 0 0 0 0 0 NA 3 3 2 ...\n",
      " $ SH       : int  0 1 0 0 0 0 NA 6 7 5 ...\n",
      " $ SF       : int  0 0 0 0 0 0 NA 4 4 7 ...\n",
      " $ GIDP     : int  0 0 0 0 0 0 NA 13 20 21 ...\n",
      " $ G_old    : int  11 45 2 5 NA NA NA 122 153 153 ...\n",
      " $ BA       : num  NaN 0 NaN 0 NaN ...\n",
      " $ OBP      : num  NaN 0 NaN 0 NaN ...\n",
      " $ X1B      : int  0 0 0 0 0 0 NA 85 116 126 ...\n",
      " $ SLG      : num  NaN 0 NaN 0 NaN ...\n"
     ]
    },
    {
     "data": {
      "text/plain": [
       "      playerID         yearID         stint           teamID        lgID      \n",
       " mcguide01:   31   Min.   :1871   Min.   :1.000   CHN    : 4720   AA  : 1890  \n",
       " henderi01:   29   1st Qu.:1931   1st Qu.:1.000   PHI    : 4621   AL  :44369  \n",
       " newsobo01:   29   Median :1970   Median :1.000   PIT    : 4575   FL  :  470  \n",
       " johnto01 :   28   Mean   :1962   Mean   :1.077   SLN    : 4535   NL  :49944  \n",
       " kaatji01 :   28   3rd Qu.:1995   3rd Qu.:1.000   CIN    : 4393   PL  :  147  \n",
       " ansonca01:   27   Max.   :2013   Max.   :5.000   CLE    : 4318   UA  :  332  \n",
       " (Other)  :97717                                  (Other):70727   NA's:  737  \n",
       "       G            G_batting            AB              R         \n",
       " Min.   :  1.00   Min.   :  0.00   Min.   :  0.0   Min.   :  0.00  \n",
       " 1st Qu.: 13.00   1st Qu.:  7.00   1st Qu.:  9.0   1st Qu.:  0.00  \n",
       " Median : 35.00   Median : 32.00   Median : 61.0   Median :  5.00  \n",
       " Mean   : 51.65   Mean   : 49.13   Mean   :154.1   Mean   : 20.47  \n",
       " 3rd Qu.: 81.00   3rd Qu.: 81.00   3rd Qu.:260.0   3rd Qu.: 31.00  \n",
       " Max.   :165.00   Max.   :165.00   Max.   :716.0   Max.   :192.00  \n",
       "                  NA's   :1406     NA's   :6413    NA's   :6413    \n",
       "       H               X2B            X3B               HR        \n",
       " Min.   :  0.00   Min.   : 0.0   Min.   : 0.000   Min.   : 0.000  \n",
       " 1st Qu.:  1.00   1st Qu.: 0.0   1st Qu.: 0.000   1st Qu.: 0.000  \n",
       " Median : 12.00   Median : 2.0   Median : 0.000   Median : 0.000  \n",
       " Mean   : 40.37   Mean   : 6.8   Mean   : 1.424   Mean   : 3.002  \n",
       " 3rd Qu.: 66.00   3rd Qu.:10.0   3rd Qu.: 2.000   3rd Qu.: 3.000  \n",
       " Max.   :262.00   Max.   :67.0   Max.   :36.000   Max.   :73.000  \n",
       " NA's   :6413     NA's   :6413   NA's   :6413     NA's   :6413    \n",
       "      RBI               SB                CS               BB        \n",
       " Min.   :  0.00   Min.   :  0.000   Min.   : 0.000   Min.   :  0.00  \n",
       " 1st Qu.:  0.00   1st Qu.:  0.000   1st Qu.: 0.000   1st Qu.:  0.00  \n",
       " Median :  5.00   Median :  0.000   Median : 0.000   Median :  4.00  \n",
       " Mean   : 18.47   Mean   :  3.265   Mean   : 1.385   Mean   : 14.21  \n",
       " 3rd Qu.: 28.00   3rd Qu.:  2.000   3rd Qu.: 1.000   3rd Qu.: 21.00  \n",
       " Max.   :191.00   Max.   :138.000   Max.   :42.000   Max.   :232.00  \n",
       " NA's   :6837     NA's   :7713      NA's   :29867    NA's   :6413    \n",
       "       SO              IBB              HBP               SH        \n",
       " Min.   :  0.00   Min.   :  0.00   Min.   : 0.000   Min.   : 0.000  \n",
       " 1st Qu.:  2.00   1st Qu.:  0.00   1st Qu.: 0.000   1st Qu.: 0.000  \n",
       " Median : 11.00   Median :  0.00   Median : 0.000   Median : 1.000  \n",
       " Mean   : 21.95   Mean   :  1.28   Mean   : 1.136   Mean   : 2.564  \n",
       " 3rd Qu.: 31.00   3rd Qu.:  1.00   3rd Qu.: 1.000   3rd Qu.: 3.000  \n",
       " Max.   :223.00   Max.   :120.00   Max.   :51.000   Max.   :67.000  \n",
       " NA's   :14251    NA's   :42977    NA's   :9233     NA's   :12751   \n",
       "       SF             GIDP           G_old              BA       \n",
       " Min.   : 0.0    Min.   : 0.00   Min.   :  0.00   Min.   :0.000  \n",
       " 1st Qu.: 0.0    1st Qu.: 0.00   1st Qu.: 11.00   1st Qu.:0.148  \n",
       " Median : 0.0    Median : 1.00   Median : 34.00   Median :0.231  \n",
       " Mean   : 1.2    Mean   : 3.33   Mean   : 50.99   Mean   :0.209  \n",
       " 3rd Qu.: 2.0    3rd Qu.: 5.00   3rd Qu.: 82.00   3rd Qu.:0.275  \n",
       " Max.   :19.0    Max.   :36.00   Max.   :165.00   Max.   :1.000  \n",
       " NA's   :42446   NA's   :32521   NA's   :5189     NA's   :13520  \n",
       "      OBP             X1B              SLG       \n",
       " Min.   :0.00    Min.   :  0.00   Min.   :0.000  \n",
       " 1st Qu.:0.19    1st Qu.:  1.00   1st Qu.:0.179  \n",
       " Median :0.29    Median :  9.00   Median :0.309  \n",
       " Mean   :0.26    Mean   : 29.14   Mean   :0.291  \n",
       " 3rd Qu.:0.34    3rd Qu.: 48.00   3rd Qu.:0.397  \n",
       " Max.   :1.00    Max.   :225.00   Max.   :4.000  \n",
       " NA's   :49115   NA's   :6413     NA's   :13520  "
      ]
     },
     "metadata": {},
     "output_type": "display_data"
    }
   ],
   "source": [
    "str(batting)\n",
    "summary(batting)"
   ]
  },
  {
   "cell_type": "markdown",
   "metadata": {},
   "source": [
    "## Merging Salary Data with Batting Data\n",
    "We know we don't just want the best players, we want the most undervalued players, meaning we will also need to know current salary information! We have salary information in the csv file 'Salaries.csv'.\n",
    "\n",
    "Complete the following steps to merge the salary data with the player stats!\n",
    "\n",
    "__Load the Salaries.csv file into a dataframe called sal using read.csv__"
   ]
  },
  {
   "cell_type": "code",
   "execution_count": 12,
   "metadata": {},
   "outputs": [
    {
     "data": {
      "text/html": [
       "<table>\n",
       "<caption>A data.frame: 6 × 5</caption>\n",
       "<thead>\n",
       "\t<tr><th></th><th scope=col>yearID</th><th scope=col>teamID</th><th scope=col>lgID</th><th scope=col>playerID</th><th scope=col>salary</th></tr>\n",
       "\t<tr><th></th><th scope=col>&lt;int&gt;</th><th scope=col>&lt;fct&gt;</th><th scope=col>&lt;fct&gt;</th><th scope=col>&lt;fct&gt;</th><th scope=col>&lt;int&gt;</th></tr>\n",
       "</thead>\n",
       "<tbody>\n",
       "\t<tr><th scope=row>1</th><td>1985</td><td>BAL</td><td>AL</td><td>murraed02</td><td>1472819</td></tr>\n",
       "\t<tr><th scope=row>2</th><td>1985</td><td>BAL</td><td>AL</td><td>lynnfr01 </td><td>1090000</td></tr>\n",
       "\t<tr><th scope=row>3</th><td>1985</td><td>BAL</td><td>AL</td><td>ripkeca01</td><td> 800000</td></tr>\n",
       "\t<tr><th scope=row>4</th><td>1985</td><td>BAL</td><td>AL</td><td>lacyle01 </td><td> 725000</td></tr>\n",
       "\t<tr><th scope=row>5</th><td>1985</td><td>BAL</td><td>AL</td><td>flanami01</td><td> 641667</td></tr>\n",
       "\t<tr><th scope=row>6</th><td>1985</td><td>BAL</td><td>AL</td><td>boddimi01</td><td> 625000</td></tr>\n",
       "</tbody>\n",
       "</table>\n"
      ],
      "text/latex": [
       "A data.frame: 6 × 5\n",
       "\\begin{tabular}{r|lllll}\n",
       "  & yearID & teamID & lgID & playerID & salary\\\\\n",
       "  & <int> & <fct> & <fct> & <fct> & <int>\\\\\n",
       "\\hline\n",
       "\t1 & 1985 & BAL & AL & murraed02 & 1472819\\\\\n",
       "\t2 & 1985 & BAL & AL & lynnfr01  & 1090000\\\\\n",
       "\t3 & 1985 & BAL & AL & ripkeca01 &  800000\\\\\n",
       "\t4 & 1985 & BAL & AL & lacyle01  &  725000\\\\\n",
       "\t5 & 1985 & BAL & AL & flanami01 &  641667\\\\\n",
       "\t6 & 1985 & BAL & AL & boddimi01 &  625000\\\\\n",
       "\\end{tabular}\n"
      ],
      "text/markdown": [
       "\n",
       "A data.frame: 6 × 5\n",
       "\n",
       "| <!--/--> | yearID &lt;int&gt; | teamID &lt;fct&gt; | lgID &lt;fct&gt; | playerID &lt;fct&gt; | salary &lt;int&gt; |\n",
       "|---|---|---|---|---|---|\n",
       "| 1 | 1985 | BAL | AL | murraed02 | 1472819 |\n",
       "| 2 | 1985 | BAL | AL | lynnfr01  | 1090000 |\n",
       "| 3 | 1985 | BAL | AL | ripkeca01 |  800000 |\n",
       "| 4 | 1985 | BAL | AL | lacyle01  |  725000 |\n",
       "| 5 | 1985 | BAL | AL | flanami01 |  641667 |\n",
       "| 6 | 1985 | BAL | AL | boddimi01 |  625000 |\n",
       "\n"
      ],
      "text/plain": [
       "  yearID teamID lgID playerID  salary \n",
       "1 1985   BAL    AL   murraed02 1472819\n",
       "2 1985   BAL    AL   lynnfr01  1090000\n",
       "3 1985   BAL    AL   ripkeca01  800000\n",
       "4 1985   BAL    AL   lacyle01   725000\n",
       "5 1985   BAL    AL   flanami01  641667\n",
       "6 1985   BAL    AL   boddimi01  625000"
      ]
     },
     "metadata": {},
     "output_type": "display_data"
    }
   ],
   "source": [
    "sal <- read.csv(\"Salaries.csv\", header = TRUE)\n",
    "head(sal)"
   ]
  },
  {
   "cell_type": "markdown",
   "metadata": {},
   "source": [
    "__Use summary to get a summary of the batting data frame and notice the minimum year in the yearID column. Our batting data goes back to 1871! Our salary data starts at 1985, meaning we need to remove the batting data that occured before 1985.__\n",
    "\n",
    "__Use subset() to reassign batting to only contain data from 1985 and onwards__"
   ]
  },
  {
   "cell_type": "code",
   "execution_count": 13,
   "metadata": {},
   "outputs": [
    {
     "data": {
      "text/plain": [
       "      playerID         yearID         stint          teamID      lgID      \n",
       " moyerja01:   27   Min.   :1985   Min.   :1.00   SDN    : 1313   AA:    0  \n",
       " mulhote01:   26   1st Qu.:1993   1st Qu.:1.00   CLE    : 1306   AL:17226  \n",
       " weathda01:   26   Median :2000   Median :1.00   PIT    : 1299   FL:    0  \n",
       " maddugr01:   25   Mean   :2000   Mean   :1.08   NYN    : 1297   NL:18426  \n",
       " sierrru01:   25   3rd Qu.:2007   3rd Qu.:1.00   BOS    : 1279   PL:    0  \n",
       " thomeji01:   25   Max.   :2013   Max.   :4.00   CIN    : 1279   UA:    0  \n",
       " (Other)  :35498                                 (Other):27879             \n",
       "       G           G_batting            AB              R         \n",
       " Min.   :  1.0   Min.   :  0.00   Min.   :  0.0   Min.   :  0.00  \n",
       " 1st Qu.: 14.0   1st Qu.:  4.00   1st Qu.:  3.0   1st Qu.:  0.00  \n",
       " Median : 34.0   Median : 27.00   Median : 47.0   Median :  4.00  \n",
       " Mean   : 51.7   Mean   : 46.28   Mean   :144.7   Mean   : 19.44  \n",
       " 3rd Qu.: 77.0   3rd Qu.: 77.00   3rd Qu.:241.0   3rd Qu.: 30.00  \n",
       " Max.   :163.0   Max.   :163.00   Max.   :716.0   Max.   :152.00  \n",
       "                 NA's   :1406     NA's   :4377    NA's   :4377    \n",
       "       H               X2B              X3B               HR        \n",
       " Min.   :  0.00   Min.   : 0.000   Min.   : 0.000   Min.   : 0.000  \n",
       " 1st Qu.:  0.00   1st Qu.: 0.000   1st Qu.: 0.000   1st Qu.: 0.000  \n",
       " Median :  8.00   Median : 1.000   Median : 0.000   Median : 0.000  \n",
       " Mean   : 37.95   Mean   : 7.293   Mean   : 0.824   Mean   : 4.169  \n",
       " 3rd Qu.: 61.00   3rd Qu.:11.000   3rd Qu.: 1.000   3rd Qu.: 5.000  \n",
       " Max.   :262.00   Max.   :59.000   Max.   :23.000   Max.   :73.000  \n",
       " NA's   :4377     NA's   :4377     NA's   :4377     NA's   :4377    \n",
       "      RBI               SB                CS               BB        \n",
       " Min.   :  0.00   Min.   :  0.000   Min.   : 0.000   Min.   :  0.00  \n",
       " 1st Qu.:  0.00   1st Qu.:  0.000   1st Qu.: 0.000   1st Qu.:  0.00  \n",
       " Median :  3.00   Median :  0.000   Median : 0.000   Median :  3.00  \n",
       " Mean   : 18.41   Mean   :  2.811   Mean   : 1.219   Mean   : 14.06  \n",
       " 3rd Qu.: 27.00   3rd Qu.:  2.000   3rd Qu.: 1.000   3rd Qu.: 21.00  \n",
       " Max.   :165.00   Max.   :110.000   Max.   :29.000   Max.   :232.00  \n",
       " NA's   :4377     NA's   :4377      NA's   :4377     NA's   :4377    \n",
       "       SO              IBB               HBP               SH        \n",
       " Min.   :  0.00   Min.   :  0.000   Min.   : 0.000   Min.   : 0.000  \n",
       " 1st Qu.:  1.00   1st Qu.:  0.000   1st Qu.: 0.000   1st Qu.: 0.000  \n",
       " Median : 12.00   Median :  0.000   Median : 0.000   Median : 0.000  \n",
       " Mean   : 27.03   Mean   :  1.171   Mean   : 1.273   Mean   : 1.465  \n",
       " 3rd Qu.: 42.00   3rd Qu.:  1.000   3rd Qu.: 1.000   3rd Qu.: 2.000  \n",
       " Max.   :223.00   Max.   :120.000   Max.   :35.000   Max.   :39.000  \n",
       " NA's   :4377     NA's   :4378      NA's   :4387     NA's   :4377    \n",
       "       SF              GIDP           G_old             BA       \n",
       " Min.   : 0.000   Min.   : 0.00   Min.   :  0.0   Min.   :0.000  \n",
       " 1st Qu.: 0.000   1st Qu.: 0.00   1st Qu.: 11.0   1st Qu.:0.136  \n",
       " Median : 0.000   Median : 1.00   Median : 32.0   Median :0.233  \n",
       " Mean   : 1.212   Mean   : 3.25   Mean   : 49.7   Mean   :0.205  \n",
       " 3rd Qu.: 2.000   3rd Qu.: 5.00   3rd Qu.: 77.0   3rd Qu.:0.274  \n",
       " Max.   :17.000   Max.   :35.00   Max.   :163.0   Max.   :1.000  \n",
       " NA's   :4378     NA's   :4377    NA's   :5189    NA's   :8905   \n",
       "      OBP             X1B              SLG       \n",
       " Min.   :0.000   Min.   :  0.00   Min.   :0.000  \n",
       " 1st Qu.:0.188   1st Qu.:  0.00   1st Qu.:0.167  \n",
       " Median :0.296   Median :  6.00   Median :0.333  \n",
       " Mean   :0.262   Mean   : 25.66   Mean   :0.304  \n",
       " 3rd Qu.:0.342   3rd Qu.: 42.00   3rd Qu.:0.423  \n",
       " Max.   :1.000   Max.   :225.00   Max.   :4.000  \n",
       " NA's   :8821    NA's   :4377     NA's   :8905   "
      ]
     },
     "metadata": {},
     "output_type": "display_data"
    }
   ],
   "source": [
    "battingnew <-subset(batting, batting$yearID >= 1985)\n",
    "summary(battingnew)"
   ]
  },
  {
   "cell_type": "markdown",
   "metadata": {},
   "source": [
    "Now it is time to merge the batting data with the salary data! Since we have players playing multiple years, we'll have repetitions of playerIDs for multiple years, meaning we want to merge on both players and years.\n",
    "\n",
    "__Use the merge() function to merge the batting and sal data frames by c('playerID','yearID'). Call the new data frame \"combo\"__"
   ]
  },
  {
   "cell_type": "code",
   "execution_count": 14,
   "metadata": {},
   "outputs": [
    {
     "data": {
      "text/plain": [
       "      playerID         yearID         stint          teamID.x     lgID.x    \n",
       " moyerja01:   27   Min.   :1985   Min.   :1.000   LAN    :  940   AA:    0  \n",
       " thomeji01:   25   1st Qu.:1993   1st Qu.:1.000   PHI    :  937   AL:12292  \n",
       " weathda01:   25   Median :1999   Median :1.000   BOS    :  935   FL:    0  \n",
       " vizquom01:   24   Mean   :1999   Mean   :1.098   NYA    :  928   NL:13105  \n",
       " gaettga01:   23   3rd Qu.:2006   3rd Qu.:1.000   CLE    :  920   PL:    0  \n",
       " griffke02:   23   Max.   :2013   Max.   :4.000   SDN    :  914   UA:    0  \n",
       " (Other)  :25250                                  (Other):19823             \n",
       "       G            G_batting            AB              R         \n",
       " Min.   :  1.00   Min.   :  0.00   Min.   :  0.0   Min.   :  0.00  \n",
       " 1st Qu.: 26.00   1st Qu.:  8.00   1st Qu.:  5.0   1st Qu.:  0.00  \n",
       " Median : 50.00   Median : 42.00   Median : 85.0   Median :  9.00  \n",
       " Mean   : 64.06   Mean   : 57.58   Mean   :182.4   Mean   : 24.71  \n",
       " 3rd Qu.:101.00   3rd Qu.:101.00   3rd Qu.:336.0   3rd Qu.: 43.00  \n",
       " Max.   :163.00   Max.   :163.00   Max.   :716.0   Max.   :152.00  \n",
       "                  NA's   :906      NA's   :2661    NA's   :2661    \n",
       "       H               X2B              X3B               HR        \n",
       " Min.   :  0.00   Min.   : 0.000   Min.   : 0.000   Min.   : 0.000  \n",
       " 1st Qu.:  1.00   1st Qu.: 0.000   1st Qu.: 0.000   1st Qu.: 0.000  \n",
       " Median : 19.00   Median : 3.000   Median : 0.000   Median : 1.000  \n",
       " Mean   : 48.18   Mean   : 9.276   Mean   : 1.033   Mean   : 5.369  \n",
       " 3rd Qu.: 87.25   3rd Qu.:16.000   3rd Qu.: 1.000   3rd Qu.: 7.000  \n",
       " Max.   :262.00   Max.   :59.000   Max.   :23.000   Max.   :73.000  \n",
       " NA's   :2661     NA's   :2661     NA's   :2661     NA's   :2661    \n",
       "      RBI               SB                CS              BB        \n",
       " Min.   :  0.00   Min.   :  0.000   Min.   : 0.00   Min.   :  0.00  \n",
       " 1st Qu.:  0.00   1st Qu.:  0.000   1st Qu.: 0.00   1st Qu.:  0.00  \n",
       " Median :  8.00   Median :  0.000   Median : 0.00   Median :  6.00  \n",
       " Mean   : 23.56   Mean   :  3.568   Mean   : 1.54   Mean   : 17.98  \n",
       " 3rd Qu.: 39.00   3rd Qu.:  3.000   3rd Qu.: 2.00   3rd Qu.: 29.00  \n",
       " Max.   :165.00   Max.   :110.000   Max.   :29.00   Max.   :232.00  \n",
       " NA's   :2661     NA's   :2661      NA's   :2661    NA's   :2661    \n",
       "       SO              IBB               HBP               SH        \n",
       " Min.   :  0.00   Min.   :  0.000   Min.   : 0.000   Min.   : 0.000  \n",
       " 1st Qu.:  2.00   1st Qu.:  0.000   1st Qu.: 0.000   1st Qu.: 0.000  \n",
       " Median : 20.00   Median :  0.000   Median : 0.000   Median : 0.000  \n",
       " Mean   : 33.52   Mean   :  1.533   Mean   : 1.614   Mean   : 1.786  \n",
       " 3rd Qu.: 55.00   3rd Qu.:  2.000   3rd Qu.: 2.000   3rd Qu.: 2.000  \n",
       " Max.   :223.00   Max.   :120.000   Max.   :35.000   Max.   :39.000  \n",
       " NA's   :2661     NA's   :2662      NA's   :2670     NA's   :2661    \n",
       "       SF              GIDP            G_old              BA       \n",
       " Min.   : 0.000   Min.   : 0.000   Min.   :  0.00   Min.   :0.000  \n",
       " 1st Qu.: 0.000   1st Qu.: 0.000   1st Qu.: 20.00   1st Qu.:0.160  \n",
       " Median : 0.000   Median : 2.000   Median : 47.00   Median :0.242  \n",
       " Mean   : 1.554   Mean   : 4.127   Mean   : 61.43   Mean   :0.212  \n",
       " 3rd Qu.: 2.000   3rd Qu.: 7.000   3rd Qu.:101.00   3rd Qu.:0.276  \n",
       " Max.   :17.000   Max.   :35.000   Max.   :163.00   Max.   :1.000  \n",
       " NA's   :2662     NA's   :2661     NA's   :3414     NA's   :5618   \n",
       "      OBP             X1B             SLG           teamID.y     lgID.y    \n",
       " Min.   :0.000   Min.   :  0.0   Min.   :0.000   CLE    :  935   AL:12304  \n",
       " 1st Qu.:0.208   1st Qu.:  0.0   1st Qu.:0.200   PIT    :  932   NL:13093  \n",
       " Median :0.305   Median : 13.0   Median :0.351   PHI    :  931             \n",
       " Mean   :0.270   Mean   : 32.5   Mean   :0.317   SDN    :  923             \n",
       " 3rd Qu.:0.346   3rd Qu.: 59.0   3rd Qu.:0.432   LAN    :  921             \n",
       " Max.   :1.000   Max.   :225.0   Max.   :4.000   CIN    :  912             \n",
       " NA's   :5562    NA's   :2661    NA's   :5618    (Other):19843             \n",
       "     salary        \n",
       " Min.   :       0  \n",
       " 1st Qu.:  255000  \n",
       " Median :  550000  \n",
       " Mean   : 1879256  \n",
       " 3rd Qu.: 2150000  \n",
       " Max.   :33000000  \n",
       "                   "
      ]
     },
     "metadata": {},
     "output_type": "display_data"
    }
   ],
   "source": [
    "combo <- merge(battingnew,sal,by=c('playerID','yearID'))\n",
    "summary(combo)"
   ]
  },
  {
   "cell_type": "markdown",
   "metadata": {},
   "source": [
    "## Analyzing the Lost Players\n",
    "As previously mentioned, the Oakland A's lost 3 key players during the off-season. We'll want to get their stats to see what we have to replace. The players lost were: \n",
    "- Jason Giambi (giambja01) \n",
    "    - First Baseman \n",
    "    - 2000 American League MVP \n",
    "    - Lost to the New York Yankees \n",
    "- Johnny Damon (damonjo01)\n",
    "    - Outfielder \n",
    "    - Lost to the Boston Red Sox \n",
    "- Rainer Gustavo \"Ray\" Olmedo ('saenzol01')\n",
    "    - Infielder\n",
    "    - Lost to the Los Angeles Dodgers\n",
    "    \n",
    "__Use the subset() function to get a data frame called lost_players from the combo data frame consisting of those 3 players. Hint: Try to figure out how to use %in% to avoid a bunch of or statements!__"
   ]
  },
  {
   "cell_type": "code",
   "execution_count": 15,
   "metadata": {},
   "outputs": [
    {
     "data": {
      "text/html": [
       "<table>\n",
       "<caption>A data.frame: 44 × 31</caption>\n",
       "<thead>\n",
       "\t<tr><th></th><th scope=col>playerID</th><th scope=col>yearID</th><th scope=col>stint</th><th scope=col>teamID.x</th><th scope=col>lgID.x</th><th scope=col>G</th><th scope=col>G_batting</th><th scope=col>AB</th><th scope=col>R</th><th scope=col>H</th><th scope=col>...</th><th scope=col>SF</th><th scope=col>GIDP</th><th scope=col>G_old</th><th scope=col>BA</th><th scope=col>OBP</th><th scope=col>X1B</th><th scope=col>SLG</th><th scope=col>teamID.y</th><th scope=col>lgID.y</th><th scope=col>salary</th></tr>\n",
       "\t<tr><th></th><th scope=col>&lt;fct&gt;</th><th scope=col>&lt;int&gt;</th><th scope=col>&lt;int&gt;</th><th scope=col>&lt;fct&gt;</th><th scope=col>&lt;fct&gt;</th><th scope=col>&lt;int&gt;</th><th scope=col>&lt;int&gt;</th><th scope=col>&lt;int&gt;</th><th scope=col>&lt;int&gt;</th><th scope=col>&lt;int&gt;</th><th scope=col>...</th><th scope=col>&lt;int&gt;</th><th scope=col>&lt;int&gt;</th><th scope=col>&lt;int&gt;</th><th scope=col>&lt;dbl&gt;</th><th scope=col>&lt;dbl&gt;</th><th scope=col>&lt;int&gt;</th><th scope=col>&lt;dbl&gt;</th><th scope=col>&lt;fct&gt;</th><th scope=col>&lt;fct&gt;</th><th scope=col>&lt;int&gt;</th></tr>\n",
       "</thead>\n",
       "<tbody>\n",
       "\t<tr><th scope=row>5135</th><td>damonjo01</td><td>1995</td><td>1</td><td>KCA</td><td>AL</td><td> 47</td><td> 47</td><td>188</td><td> 32</td><td> 53</td><td>...</td><td> 3</td><td> 2</td><td> 47</td><td>0.2819149</td><td>0.3235294</td><td> 34</td><td>0.4414894</td><td>KCA</td><td>AL</td><td>  109000</td></tr>\n",
       "\t<tr><th scope=row>5136</th><td>damonjo01</td><td>1996</td><td>1</td><td>KCA</td><td>AL</td><td>145</td><td>145</td><td>517</td><td> 61</td><td>140</td><td>...</td><td> 5</td><td> 4</td><td>145</td><td>0.2707930</td><td>0.3129496</td><td>107</td><td>0.3675048</td><td>KCA</td><td>AL</td><td>  180000</td></tr>\n",
       "\t<tr><th scope=row>5137</th><td>damonjo01</td><td>1997</td><td>1</td><td>KCA</td><td>AL</td><td>146</td><td>146</td><td>472</td><td> 70</td><td>130</td><td>...</td><td> 1</td><td> 3</td><td>146</td><td>0.2754237</td><td>0.3378378</td><td>102</td><td>0.3855932</td><td>KCA</td><td>AL</td><td>  240000</td></tr>\n",
       "\t<tr><th scope=row>5138</th><td>damonjo01</td><td>1998</td><td>1</td><td>KCA</td><td>AL</td><td>161</td><td>161</td><td>642</td><td>104</td><td>178</td><td>...</td><td> 3</td><td> 4</td><td>161</td><td>0.2772586</td><td>0.3394625</td><td>120</td><td>0.4392523</td><td>KCA</td><td>AL</td><td>  460000</td></tr>\n",
       "\t<tr><th scope=row>5139</th><td>damonjo01</td><td>1999</td><td>1</td><td>KCA</td><td>AL</td><td>145</td><td>145</td><td>583</td><td>101</td><td>179</td><td>...</td><td> 4</td><td>13</td><td>145</td><td>0.3070326</td><td>0.3789954</td><td>117</td><td>0.4768439</td><td>KCA</td><td>AL</td><td> 2100000</td></tr>\n",
       "\t<tr><th scope=row>5140</th><td>damonjo01</td><td>2000</td><td>1</td><td>KCA</td><td>AL</td><td>159</td><td>159</td><td>655</td><td>136</td><td>214</td><td>...</td><td>12</td><td> 7</td><td>159</td><td>0.3267176</td><td>0.3819918</td><td>146</td><td>0.4946565</td><td>KCA</td><td>AL</td><td> 4000000</td></tr>\n",
       "\t<tr><th scope=row>5141</th><td>damonjo01</td><td>2001</td><td>1</td><td>OAK</td><td>AL</td><td>155</td><td>155</td><td>644</td><td>108</td><td>165</td><td>...</td><td> 4</td><td> 7</td><td>155</td><td>0.2562112</td><td>0.3235294</td><td>118</td><td>0.3633540</td><td>OAK</td><td>AL</td><td> 7100000</td></tr>\n",
       "\t<tr><th scope=row>5142</th><td>damonjo01</td><td>2002</td><td>1</td><td>BOS</td><td>AL</td><td>154</td><td>154</td><td>623</td><td>118</td><td>178</td><td>...</td><td> 5</td><td> 4</td><td>154</td><td>0.2857143</td><td>0.3562232</td><td>119</td><td>0.4430177</td><td>BOS</td><td>AL</td><td> 7250000</td></tr>\n",
       "\t<tr><th scope=row>5143</th><td>damonjo01</td><td>2003</td><td>1</td><td>BOS</td><td>AL</td><td>145</td><td>145</td><td>608</td><td>103</td><td>166</td><td>...</td><td> 6</td><td> 5</td><td>145</td><td>0.2730263</td><td>0.3450292</td><td>116</td><td>0.4046053</td><td>BOS</td><td>AL</td><td> 7500000</td></tr>\n",
       "\t<tr><th scope=row>5144</th><td>damonjo01</td><td>2004</td><td>1</td><td>BOS</td><td>AL</td><td>150</td><td>150</td><td>621</td><td>123</td><td>189</td><td>...</td><td> 3</td><td> 8</td><td>150</td><td>0.3043478</td><td>0.3803419</td><td>128</td><td>0.4766506</td><td>BOS</td><td>AL</td><td> 8000000</td></tr>\n",
       "\t<tr><th scope=row>5145</th><td>damonjo01</td><td>2005</td><td>1</td><td>BOS</td><td>AL</td><td>148</td><td>148</td><td>624</td><td>117</td><td>197</td><td>...</td><td> 9</td><td> 5</td><td>148</td><td>0.3157051</td><td>0.3662791</td><td>146</td><td>0.4391026</td><td>BOS</td><td>AL</td><td> 8250000</td></tr>\n",
       "\t<tr><th scope=row>5146</th><td>damonjo01</td><td>2006</td><td>1</td><td>NYA</td><td>AL</td><td>149</td><td>149</td><td>593</td><td>115</td><td>169</td><td>...</td><td> 5</td><td> 4</td><td>149</td><td>0.2849916</td><td>0.3587444</td><td>105</td><td>0.4822934</td><td>NYA</td><td>AL</td><td>13000000</td></tr>\n",
       "\t<tr><th scope=row>5147</th><td>damonjo01</td><td>2007</td><td>1</td><td>NYA</td><td>AL</td><td>141</td><td>141</td><td>533</td><td> 93</td><td>144</td><td>...</td><td> 3</td><td> 4</td><td>141</td><td>0.2701689</td><td>0.3509934</td><td>103</td><td>0.3958724</td><td>NYA</td><td>AL</td><td>13000000</td></tr>\n",
       "\t<tr><th scope=row>5148</th><td>damonjo01</td><td>2008</td><td>1</td><td>NYA</td><td>AL</td><td>143</td><td>143</td><td>555</td><td> 95</td><td>168</td><td>...</td><td> 1</td><td> 5</td><td>143</td><td>0.3027027</td><td>0.3752013</td><td>119</td><td>0.4612613</td><td>NYA</td><td>AL</td><td>13000000</td></tr>\n",
       "\t<tr><th scope=row>5149</th><td>damonjo01</td><td>2009</td><td>1</td><td>NYA</td><td>AL</td><td>143</td><td>143</td><td>550</td><td>107</td><td>155</td><td>...</td><td> 1</td><td> 9</td><td> NA</td><td>0.2818182</td><td>0.3653846</td><td> 92</td><td>0.4890909</td><td>NYA</td><td>AL</td><td>13000000</td></tr>\n",
       "\t<tr><th scope=row>5150</th><td>damonjo01</td><td>2010</td><td>1</td><td>DET</td><td>AL</td><td>145</td><td>145</td><td>539</td><td> 81</td><td>146</td><td>...</td><td> 1</td><td> 5</td><td> NA</td><td>0.2708720</td><td>0.3551555</td><td> 97</td><td>0.4007421</td><td>DET</td><td>AL</td><td> 8000000</td></tr>\n",
       "\t<tr><th scope=row>5151</th><td>damonjo01</td><td>2011</td><td>1</td><td>TBA</td><td>AL</td><td>150</td><td>150</td><td>582</td><td> 79</td><td>152</td><td>...</td><td> 5</td><td> 4</td><td>150</td><td>0.2611684</td><td>0.3255814</td><td>100</td><td>0.4175258</td><td>TBA</td><td>AL</td><td> 5250000</td></tr>\n",
       "\t<tr><th scope=row>7872</th><td>giambja01</td><td>1995</td><td>1</td><td>OAK</td><td>AL</td><td> 54</td><td> 54</td><td>176</td><td> 27</td><td> 45</td><td>...</td><td> 2</td><td> 4</td><td> 54</td><td>0.2556818</td><td>0.3636364</td><td> 32</td><td>0.3977273</td><td>OAK</td><td>AL</td><td>  109000</td></tr>\n",
       "\t<tr><th scope=row>7873</th><td>giambja01</td><td>1996</td><td>1</td><td>OAK</td><td>AL</td><td>140</td><td>140</td><td>536</td><td> 84</td><td>156</td><td>...</td><td> 5</td><td>15</td><td>140</td><td>0.2910448</td><td>0.3551089</td><td> 95</td><td>0.4813433</td><td>OAK</td><td>AL</td><td>  120000</td></tr>\n",
       "\t<tr><th scope=row>7874</th><td>giambja01</td><td>1997</td><td>1</td><td>OAK</td><td>AL</td><td>142</td><td>142</td><td>519</td><td> 66</td><td>152</td><td>...</td><td> 8</td><td>11</td><td>142</td><td>0.2928709</td><td>0.3622449</td><td> 89</td><td>0.4951830</td><td>OAK</td><td>AL</td><td>  205000</td></tr>\n",
       "\t<tr><th scope=row>7875</th><td>giambja01</td><td>1998</td><td>1</td><td>OAK</td><td>AL</td><td>153</td><td>153</td><td>562</td><td> 92</td><td>166</td><td>...</td><td> 9</td><td>16</td><td>153</td><td>0.2953737</td><td>0.3835616</td><td>111</td><td>0.4893238</td><td>OAK</td><td>AL</td><td>  315000</td></tr>\n",
       "\t<tr><th scope=row>7876</th><td>giambja01</td><td>1999</td><td>1</td><td>OAK</td><td>AL</td><td>158</td><td>158</td><td>575</td><td>115</td><td>181</td><td>...</td><td> 8</td><td>11</td><td>158</td><td>0.3147826</td><td>0.4215827</td><td>111</td><td>0.5530435</td><td>OAK</td><td>AL</td><td> 2103333</td></tr>\n",
       "\t<tr><th scope=row>7877</th><td>giambja01</td><td>2000</td><td>1</td><td>OAK</td><td>AL</td><td>152</td><td>152</td><td>510</td><td>108</td><td>170</td><td>...</td><td> 8</td><td> 9</td><td>152</td><td>0.3333333</td><td>0.4759036</td><td> 97</td><td>0.6470588</td><td>OAK</td><td>AL</td><td> 3103333</td></tr>\n",
       "\t<tr><th scope=row>7878</th><td>giambja01</td><td>2001</td><td>1</td><td>OAK</td><td>AL</td><td>154</td><td>154</td><td>520</td><td>109</td><td>178</td><td>...</td><td> 9</td><td>17</td><td>154</td><td>0.3423077</td><td>0.4769001</td><td> 91</td><td>0.6596154</td><td>OAK</td><td>AL</td><td> 4103333</td></tr>\n",
       "\t<tr><th scope=row>7879</th><td>giambja01</td><td>2002</td><td>1</td><td>NYA</td><td>AL</td><td>155</td><td>155</td><td>560</td><td>120</td><td>176</td><td>...</td><td> 5</td><td>18</td><td>155</td><td>0.3142857</td><td>0.4354136</td><td>100</td><td>0.5982143</td><td>NYA</td><td>AL</td><td>10428571</td></tr>\n",
       "\t<tr><th scope=row>7880</th><td>giambja01</td><td>2003</td><td>1</td><td>NYA</td><td>AL</td><td>156</td><td>156</td><td>535</td><td> 97</td><td>134</td><td>...</td><td> 5</td><td> 9</td><td>156</td><td>0.2504673</td><td>0.4115942</td><td> 68</td><td>0.5271028</td><td>NYA</td><td>AL</td><td>11428571</td></tr>\n",
       "\t<tr><th scope=row>7881</th><td>giambja01</td><td>2004</td><td>1</td><td>NYA</td><td>AL</td><td> 80</td><td> 80</td><td>264</td><td> 33</td><td> 55</td><td>...</td><td> 3</td><td> 5</td><td> 80</td><td>0.2083333</td><td>0.3416149</td><td> 34</td><td>0.3787879</td><td>NYA</td><td>AL</td><td>12428571</td></tr>\n",
       "\t<tr><th scope=row>7882</th><td>giambja01</td><td>2005</td><td>1</td><td>NYA</td><td>AL</td><td>139</td><td>139</td><td>417</td><td> 74</td><td>113</td><td>...</td><td> 1</td><td> 7</td><td>139</td><td>0.2709832</td><td>0.4403670</td><td> 67</td><td>0.5347722</td><td>NYA</td><td>AL</td><td>13428571</td></tr>\n",
       "\t<tr><th scope=row>7883</th><td>giambja01</td><td>2006</td><td>1</td><td>NYA</td><td>AL</td><td>139</td><td>139</td><td>446</td><td> 92</td><td>113</td><td>...</td><td> 7</td><td>10</td><td>139</td><td>0.2533632</td><td>0.4127807</td><td> 51</td><td>0.5582960</td><td>NYA</td><td>AL</td><td>20428571</td></tr>\n",
       "\t<tr><th scope=row>7884</th><td>giambja01</td><td>2007</td><td>1</td><td>NYA</td><td>AL</td><td> 83</td><td> 83</td><td>254</td><td> 31</td><td> 60</td><td>...</td><td> 1</td><td> 1</td><td> 83</td><td>0.2362205</td><td>0.3564356</td><td> 38</td><td>0.4330709</td><td>NYA</td><td>AL</td><td>23428571</td></tr>\n",
       "\t<tr><th scope=row>7885</th><td>giambja01</td><td>2008</td><td>1</td><td>NYA</td><td>AL</td><td>145</td><td>145</td><td>458</td><td> 68</td><td>113</td><td>...</td><td> 9</td><td> 6</td><td>145</td><td>0.2467249</td><td>0.3734513</td><td> 61</td><td>0.5021834</td><td>NYA</td><td>AL</td><td>23428571</td></tr>\n",
       "\t<tr><th scope=row>7886</th><td>giambja01</td><td>2009</td><td>1</td><td>OAK</td><td>AL</td><td> 83</td><td> 83</td><td>269</td><td> 39</td><td> 52</td><td>...</td><td> 2</td><td> 6</td><td> NA</td><td>0.1933086</td><td>0.3323171</td><td> 28</td><td>0.3643123</td><td>OAK</td><td>AL</td><td> 4000000</td></tr>\n",
       "\t<tr><th scope=row>7887</th><td>giambja01</td><td>2009</td><td>2</td><td>COL</td><td>NL</td><td> 19</td><td> 19</td><td> 24</td><td>  4</td><td>  7</td><td>...</td><td> 0</td><td> 0</td><td> NA</td><td>0.2916667</td><td>0.4516129</td><td>  4</td><td>0.5833333</td><td>OAK</td><td>AL</td><td> 4000000</td></tr>\n",
       "\t<tr><th scope=row>7888</th><td>giambja01</td><td>2010</td><td>1</td><td>COL</td><td>NL</td><td> 87</td><td> 87</td><td>176</td><td> 17</td><td> 43</td><td>...</td><td> 5</td><td> 5</td><td> NA</td><td>0.2443182</td><td>0.3783784</td><td> 28</td><td>0.3977273</td><td>COL</td><td>NL</td><td> 1750000</td></tr>\n",
       "\t<tr><th scope=row>7889</th><td>giambja01</td><td>2011</td><td>1</td><td>COL</td><td>NL</td><td> 64</td><td> 64</td><td>131</td><td> 20</td><td> 34</td><td>...</td><td> 1</td><td> 1</td><td> 64</td><td>0.2595420</td><td>0.3552632</td><td> 15</td><td>0.6030534</td><td>COL</td><td>NL</td><td> 1000000</td></tr>\n",
       "\t<tr><th scope=row>7890</th><td>giambja01</td><td>2012</td><td>1</td><td>COL</td><td>NL</td><td> 60</td><td> NA</td><td> 89</td><td>  7</td><td> 20</td><td>...</td><td> 2</td><td> 4</td><td> NA</td><td>0.2247191</td><td>0.3716814</td><td> 15</td><td>0.3033708</td><td>COL</td><td>NL</td><td> 1000000</td></tr>\n",
       "\t<tr><th scope=row>7891</th><td>giambja01</td><td>2013</td><td>1</td><td>CLE</td><td>AL</td><td> 71</td><td> 71</td><td>186</td><td> 21</td><td> 34</td><td>...</td><td> 3</td><td> 8</td><td> NA</td><td>0.1827957</td><td>0.2824074</td><td> 17</td><td>0.3709677</td><td>CLE</td><td>AL</td><td>  750000</td></tr>\n",
       "\t<tr><th scope=row>20112</th><td>saenzol01</td><td>1999</td><td>1</td><td>OAK</td><td>AL</td><td> 97</td><td> 97</td><td>255</td><td> 41</td><td> 70</td><td>...</td><td> 3</td><td> 6</td><td> 97</td><td>0.2745098</td><td>0.3627119</td><td> 41</td><td>0.4745098</td><td>OAK</td><td>AL</td><td>  240000</td></tr>\n",
       "\t<tr><th scope=row>20113</th><td>saenzol01</td><td>2000</td><td>1</td><td>OAK</td><td>AL</td><td> 76</td><td> 76</td><td>214</td><td> 40</td><td> 67</td><td>...</td><td> 1</td><td> 6</td><td> 76</td><td>0.3130841</td><td>0.4008097</td><td> 44</td><td>0.5140187</td><td>OAK</td><td>AL</td><td>  260000</td></tr>\n",
       "\t<tr><th scope=row>20114</th><td>saenzol01</td><td>2001</td><td>1</td><td>OAK</td><td>AL</td><td>106</td><td>106</td><td>305</td><td> 33</td><td> 67</td><td>...</td><td> 3</td><td> 9</td><td>106</td><td>0.2196721</td><td>0.2911765</td><td> 36</td><td>0.3836066</td><td>OAK</td><td>AL</td><td>  290000</td></tr>\n",
       "\t<tr><th scope=row>20115</th><td>saenzol01</td><td>2002</td><td>1</td><td>OAK</td><td>AL</td><td> 68</td><td> 68</td><td>156</td><td> 15</td><td> 43</td><td>...</td><td> 2</td><td> 2</td><td> 68</td><td>0.2756410</td><td>0.3539326</td><td> 26</td><td>0.4679487</td><td>OAK</td><td>AL</td><td>  800000</td></tr>\n",
       "\t<tr><th scope=row>20116</th><td>saenzol01</td><td>2005</td><td>1</td><td>LAN</td><td>NL</td><td>109</td><td>109</td><td>319</td><td> 39</td><td> 84</td><td>...</td><td> 2</td><td>12</td><td>109</td><td>0.2633229</td><td>0.3247863</td><td> 45</td><td>0.4796238</td><td>LAN</td><td>NL</td><td>  650000</td></tr>\n",
       "\t<tr><th scope=row>20117</th><td>saenzol01</td><td>2006</td><td>1</td><td>LAN</td><td>NL</td><td>103</td><td>103</td><td>179</td><td> 30</td><td> 53</td><td>...</td><td> 4</td><td> 4</td><td>103</td><td>0.2960894</td><td>0.3627451</td><td> 27</td><td>0.5642458</td><td>LAN</td><td>NL</td><td> 1000000</td></tr>\n",
       "\t<tr><th scope=row>20118</th><td>saenzol01</td><td>2007</td><td>1</td><td>LAN</td><td>NL</td><td> 92</td><td> 92</td><td>110</td><td>  9</td><td> 21</td><td>...</td><td> 4</td><td> 5</td><td> 92</td><td>0.1909091</td><td>0.2954545</td><td> 12</td><td>0.3454545</td><td>LAN</td><td>NL</td><td> 1000000</td></tr>\n",
       "</tbody>\n",
       "</table>\n"
      ],
      "text/latex": [
       "A data.frame: 44 × 31\n",
       "\\begin{tabular}{r|lllllllllllllllllllll}\n",
       "  & playerID & yearID & stint & teamID.x & lgID.x & G & G\\_batting & AB & R & H & ... & SF & GIDP & G\\_old & BA & OBP & X1B & SLG & teamID.y & lgID.y & salary\\\\\n",
       "  & <fct> & <int> & <int> & <fct> & <fct> & <int> & <int> & <int> & <int> & <int> & ... & <int> & <int> & <int> & <dbl> & <dbl> & <int> & <dbl> & <fct> & <fct> & <int>\\\\\n",
       "\\hline\n",
       "\t5135 & damonjo01 & 1995 & 1 & KCA & AL &  47 &  47 & 188 &  32 &  53 & ... &  3 &  2 &  47 & 0.2819149 & 0.3235294 &  34 & 0.4414894 & KCA & AL &   109000\\\\\n",
       "\t5136 & damonjo01 & 1996 & 1 & KCA & AL & 145 & 145 & 517 &  61 & 140 & ... &  5 &  4 & 145 & 0.2707930 & 0.3129496 & 107 & 0.3675048 & KCA & AL &   180000\\\\\n",
       "\t5137 & damonjo01 & 1997 & 1 & KCA & AL & 146 & 146 & 472 &  70 & 130 & ... &  1 &  3 & 146 & 0.2754237 & 0.3378378 & 102 & 0.3855932 & KCA & AL &   240000\\\\\n",
       "\t5138 & damonjo01 & 1998 & 1 & KCA & AL & 161 & 161 & 642 & 104 & 178 & ... &  3 &  4 & 161 & 0.2772586 & 0.3394625 & 120 & 0.4392523 & KCA & AL &   460000\\\\\n",
       "\t5139 & damonjo01 & 1999 & 1 & KCA & AL & 145 & 145 & 583 & 101 & 179 & ... &  4 & 13 & 145 & 0.3070326 & 0.3789954 & 117 & 0.4768439 & KCA & AL &  2100000\\\\\n",
       "\t5140 & damonjo01 & 2000 & 1 & KCA & AL & 159 & 159 & 655 & 136 & 214 & ... & 12 &  7 & 159 & 0.3267176 & 0.3819918 & 146 & 0.4946565 & KCA & AL &  4000000\\\\\n",
       "\t5141 & damonjo01 & 2001 & 1 & OAK & AL & 155 & 155 & 644 & 108 & 165 & ... &  4 &  7 & 155 & 0.2562112 & 0.3235294 & 118 & 0.3633540 & OAK & AL &  7100000\\\\\n",
       "\t5142 & damonjo01 & 2002 & 1 & BOS & AL & 154 & 154 & 623 & 118 & 178 & ... &  5 &  4 & 154 & 0.2857143 & 0.3562232 & 119 & 0.4430177 & BOS & AL &  7250000\\\\\n",
       "\t5143 & damonjo01 & 2003 & 1 & BOS & AL & 145 & 145 & 608 & 103 & 166 & ... &  6 &  5 & 145 & 0.2730263 & 0.3450292 & 116 & 0.4046053 & BOS & AL &  7500000\\\\\n",
       "\t5144 & damonjo01 & 2004 & 1 & BOS & AL & 150 & 150 & 621 & 123 & 189 & ... &  3 &  8 & 150 & 0.3043478 & 0.3803419 & 128 & 0.4766506 & BOS & AL &  8000000\\\\\n",
       "\t5145 & damonjo01 & 2005 & 1 & BOS & AL & 148 & 148 & 624 & 117 & 197 & ... &  9 &  5 & 148 & 0.3157051 & 0.3662791 & 146 & 0.4391026 & BOS & AL &  8250000\\\\\n",
       "\t5146 & damonjo01 & 2006 & 1 & NYA & AL & 149 & 149 & 593 & 115 & 169 & ... &  5 &  4 & 149 & 0.2849916 & 0.3587444 & 105 & 0.4822934 & NYA & AL & 13000000\\\\\n",
       "\t5147 & damonjo01 & 2007 & 1 & NYA & AL & 141 & 141 & 533 &  93 & 144 & ... &  3 &  4 & 141 & 0.2701689 & 0.3509934 & 103 & 0.3958724 & NYA & AL & 13000000\\\\\n",
       "\t5148 & damonjo01 & 2008 & 1 & NYA & AL & 143 & 143 & 555 &  95 & 168 & ... &  1 &  5 & 143 & 0.3027027 & 0.3752013 & 119 & 0.4612613 & NYA & AL & 13000000\\\\\n",
       "\t5149 & damonjo01 & 2009 & 1 & NYA & AL & 143 & 143 & 550 & 107 & 155 & ... &  1 &  9 &  NA & 0.2818182 & 0.3653846 &  92 & 0.4890909 & NYA & AL & 13000000\\\\\n",
       "\t5150 & damonjo01 & 2010 & 1 & DET & AL & 145 & 145 & 539 &  81 & 146 & ... &  1 &  5 &  NA & 0.2708720 & 0.3551555 &  97 & 0.4007421 & DET & AL &  8000000\\\\\n",
       "\t5151 & damonjo01 & 2011 & 1 & TBA & AL & 150 & 150 & 582 &  79 & 152 & ... &  5 &  4 & 150 & 0.2611684 & 0.3255814 & 100 & 0.4175258 & TBA & AL &  5250000\\\\\n",
       "\t7872 & giambja01 & 1995 & 1 & OAK & AL &  54 &  54 & 176 &  27 &  45 & ... &  2 &  4 &  54 & 0.2556818 & 0.3636364 &  32 & 0.3977273 & OAK & AL &   109000\\\\\n",
       "\t7873 & giambja01 & 1996 & 1 & OAK & AL & 140 & 140 & 536 &  84 & 156 & ... &  5 & 15 & 140 & 0.2910448 & 0.3551089 &  95 & 0.4813433 & OAK & AL &   120000\\\\\n",
       "\t7874 & giambja01 & 1997 & 1 & OAK & AL & 142 & 142 & 519 &  66 & 152 & ... &  8 & 11 & 142 & 0.2928709 & 0.3622449 &  89 & 0.4951830 & OAK & AL &   205000\\\\\n",
       "\t7875 & giambja01 & 1998 & 1 & OAK & AL & 153 & 153 & 562 &  92 & 166 & ... &  9 & 16 & 153 & 0.2953737 & 0.3835616 & 111 & 0.4893238 & OAK & AL &   315000\\\\\n",
       "\t7876 & giambja01 & 1999 & 1 & OAK & AL & 158 & 158 & 575 & 115 & 181 & ... &  8 & 11 & 158 & 0.3147826 & 0.4215827 & 111 & 0.5530435 & OAK & AL &  2103333\\\\\n",
       "\t7877 & giambja01 & 2000 & 1 & OAK & AL & 152 & 152 & 510 & 108 & 170 & ... &  8 &  9 & 152 & 0.3333333 & 0.4759036 &  97 & 0.6470588 & OAK & AL &  3103333\\\\\n",
       "\t7878 & giambja01 & 2001 & 1 & OAK & AL & 154 & 154 & 520 & 109 & 178 & ... &  9 & 17 & 154 & 0.3423077 & 0.4769001 &  91 & 0.6596154 & OAK & AL &  4103333\\\\\n",
       "\t7879 & giambja01 & 2002 & 1 & NYA & AL & 155 & 155 & 560 & 120 & 176 & ... &  5 & 18 & 155 & 0.3142857 & 0.4354136 & 100 & 0.5982143 & NYA & AL & 10428571\\\\\n",
       "\t7880 & giambja01 & 2003 & 1 & NYA & AL & 156 & 156 & 535 &  97 & 134 & ... &  5 &  9 & 156 & 0.2504673 & 0.4115942 &  68 & 0.5271028 & NYA & AL & 11428571\\\\\n",
       "\t7881 & giambja01 & 2004 & 1 & NYA & AL &  80 &  80 & 264 &  33 &  55 & ... &  3 &  5 &  80 & 0.2083333 & 0.3416149 &  34 & 0.3787879 & NYA & AL & 12428571\\\\\n",
       "\t7882 & giambja01 & 2005 & 1 & NYA & AL & 139 & 139 & 417 &  74 & 113 & ... &  1 &  7 & 139 & 0.2709832 & 0.4403670 &  67 & 0.5347722 & NYA & AL & 13428571\\\\\n",
       "\t7883 & giambja01 & 2006 & 1 & NYA & AL & 139 & 139 & 446 &  92 & 113 & ... &  7 & 10 & 139 & 0.2533632 & 0.4127807 &  51 & 0.5582960 & NYA & AL & 20428571\\\\\n",
       "\t7884 & giambja01 & 2007 & 1 & NYA & AL &  83 &  83 & 254 &  31 &  60 & ... &  1 &  1 &  83 & 0.2362205 & 0.3564356 &  38 & 0.4330709 & NYA & AL & 23428571\\\\\n",
       "\t7885 & giambja01 & 2008 & 1 & NYA & AL & 145 & 145 & 458 &  68 & 113 & ... &  9 &  6 & 145 & 0.2467249 & 0.3734513 &  61 & 0.5021834 & NYA & AL & 23428571\\\\\n",
       "\t7886 & giambja01 & 2009 & 1 & OAK & AL &  83 &  83 & 269 &  39 &  52 & ... &  2 &  6 &  NA & 0.1933086 & 0.3323171 &  28 & 0.3643123 & OAK & AL &  4000000\\\\\n",
       "\t7887 & giambja01 & 2009 & 2 & COL & NL &  19 &  19 &  24 &   4 &   7 & ... &  0 &  0 &  NA & 0.2916667 & 0.4516129 &   4 & 0.5833333 & OAK & AL &  4000000\\\\\n",
       "\t7888 & giambja01 & 2010 & 1 & COL & NL &  87 &  87 & 176 &  17 &  43 & ... &  5 &  5 &  NA & 0.2443182 & 0.3783784 &  28 & 0.3977273 & COL & NL &  1750000\\\\\n",
       "\t7889 & giambja01 & 2011 & 1 & COL & NL &  64 &  64 & 131 &  20 &  34 & ... &  1 &  1 &  64 & 0.2595420 & 0.3552632 &  15 & 0.6030534 & COL & NL &  1000000\\\\\n",
       "\t7890 & giambja01 & 2012 & 1 & COL & NL &  60 &  NA &  89 &   7 &  20 & ... &  2 &  4 &  NA & 0.2247191 & 0.3716814 &  15 & 0.3033708 & COL & NL &  1000000\\\\\n",
       "\t7891 & giambja01 & 2013 & 1 & CLE & AL &  71 &  71 & 186 &  21 &  34 & ... &  3 &  8 &  NA & 0.1827957 & 0.2824074 &  17 & 0.3709677 & CLE & AL &   750000\\\\\n",
       "\t20112 & saenzol01 & 1999 & 1 & OAK & AL &  97 &  97 & 255 &  41 &  70 & ... &  3 &  6 &  97 & 0.2745098 & 0.3627119 &  41 & 0.4745098 & OAK & AL &   240000\\\\\n",
       "\t20113 & saenzol01 & 2000 & 1 & OAK & AL &  76 &  76 & 214 &  40 &  67 & ... &  1 &  6 &  76 & 0.3130841 & 0.4008097 &  44 & 0.5140187 & OAK & AL &   260000\\\\\n",
       "\t20114 & saenzol01 & 2001 & 1 & OAK & AL & 106 & 106 & 305 &  33 &  67 & ... &  3 &  9 & 106 & 0.2196721 & 0.2911765 &  36 & 0.3836066 & OAK & AL &   290000\\\\\n",
       "\t20115 & saenzol01 & 2002 & 1 & OAK & AL &  68 &  68 & 156 &  15 &  43 & ... &  2 &  2 &  68 & 0.2756410 & 0.3539326 &  26 & 0.4679487 & OAK & AL &   800000\\\\\n",
       "\t20116 & saenzol01 & 2005 & 1 & LAN & NL & 109 & 109 & 319 &  39 &  84 & ... &  2 & 12 & 109 & 0.2633229 & 0.3247863 &  45 & 0.4796238 & LAN & NL &   650000\\\\\n",
       "\t20117 & saenzol01 & 2006 & 1 & LAN & NL & 103 & 103 & 179 &  30 &  53 & ... &  4 &  4 & 103 & 0.2960894 & 0.3627451 &  27 & 0.5642458 & LAN & NL &  1000000\\\\\n",
       "\t20118 & saenzol01 & 2007 & 1 & LAN & NL &  92 &  92 & 110 &   9 &  21 & ... &  4 &  5 &  92 & 0.1909091 & 0.2954545 &  12 & 0.3454545 & LAN & NL &  1000000\\\\\n",
       "\\end{tabular}\n"
      ],
      "text/markdown": [
       "\n",
       "A data.frame: 44 × 31\n",
       "\n",
       "| <!--/--> | playerID &lt;fct&gt; | yearID &lt;int&gt; | stint &lt;int&gt; | teamID.x &lt;fct&gt; | lgID.x &lt;fct&gt; | G &lt;int&gt; | G_batting &lt;int&gt; | AB &lt;int&gt; | R &lt;int&gt; | H &lt;int&gt; | ... ... | SF &lt;int&gt; | GIDP &lt;int&gt; | G_old &lt;int&gt; | BA &lt;dbl&gt; | OBP &lt;dbl&gt; | X1B &lt;int&gt; | SLG &lt;dbl&gt; | teamID.y &lt;fct&gt; | lgID.y &lt;fct&gt; | salary &lt;int&gt; |\n",
       "|---|---|---|---|---|---|---|---|---|---|---|---|---|---|---|---|---|---|---|---|---|---|\n",
       "| 5135 | damonjo01 | 1995 | 1 | KCA | AL |  47 |  47 | 188 |  32 |  53 | ... |  3 |  2 |  47 | 0.2819149 | 0.3235294 |  34 | 0.4414894 | KCA | AL |   109000 |\n",
       "| 5136 | damonjo01 | 1996 | 1 | KCA | AL | 145 | 145 | 517 |  61 | 140 | ... |  5 |  4 | 145 | 0.2707930 | 0.3129496 | 107 | 0.3675048 | KCA | AL |   180000 |\n",
       "| 5137 | damonjo01 | 1997 | 1 | KCA | AL | 146 | 146 | 472 |  70 | 130 | ... |  1 |  3 | 146 | 0.2754237 | 0.3378378 | 102 | 0.3855932 | KCA | AL |   240000 |\n",
       "| 5138 | damonjo01 | 1998 | 1 | KCA | AL | 161 | 161 | 642 | 104 | 178 | ... |  3 |  4 | 161 | 0.2772586 | 0.3394625 | 120 | 0.4392523 | KCA | AL |   460000 |\n",
       "| 5139 | damonjo01 | 1999 | 1 | KCA | AL | 145 | 145 | 583 | 101 | 179 | ... |  4 | 13 | 145 | 0.3070326 | 0.3789954 | 117 | 0.4768439 | KCA | AL |  2100000 |\n",
       "| 5140 | damonjo01 | 2000 | 1 | KCA | AL | 159 | 159 | 655 | 136 | 214 | ... | 12 |  7 | 159 | 0.3267176 | 0.3819918 | 146 | 0.4946565 | KCA | AL |  4000000 |\n",
       "| 5141 | damonjo01 | 2001 | 1 | OAK | AL | 155 | 155 | 644 | 108 | 165 | ... |  4 |  7 | 155 | 0.2562112 | 0.3235294 | 118 | 0.3633540 | OAK | AL |  7100000 |\n",
       "| 5142 | damonjo01 | 2002 | 1 | BOS | AL | 154 | 154 | 623 | 118 | 178 | ... |  5 |  4 | 154 | 0.2857143 | 0.3562232 | 119 | 0.4430177 | BOS | AL |  7250000 |\n",
       "| 5143 | damonjo01 | 2003 | 1 | BOS | AL | 145 | 145 | 608 | 103 | 166 | ... |  6 |  5 | 145 | 0.2730263 | 0.3450292 | 116 | 0.4046053 | BOS | AL |  7500000 |\n",
       "| 5144 | damonjo01 | 2004 | 1 | BOS | AL | 150 | 150 | 621 | 123 | 189 | ... |  3 |  8 | 150 | 0.3043478 | 0.3803419 | 128 | 0.4766506 | BOS | AL |  8000000 |\n",
       "| 5145 | damonjo01 | 2005 | 1 | BOS | AL | 148 | 148 | 624 | 117 | 197 | ... |  9 |  5 | 148 | 0.3157051 | 0.3662791 | 146 | 0.4391026 | BOS | AL |  8250000 |\n",
       "| 5146 | damonjo01 | 2006 | 1 | NYA | AL | 149 | 149 | 593 | 115 | 169 | ... |  5 |  4 | 149 | 0.2849916 | 0.3587444 | 105 | 0.4822934 | NYA | AL | 13000000 |\n",
       "| 5147 | damonjo01 | 2007 | 1 | NYA | AL | 141 | 141 | 533 |  93 | 144 | ... |  3 |  4 | 141 | 0.2701689 | 0.3509934 | 103 | 0.3958724 | NYA | AL | 13000000 |\n",
       "| 5148 | damonjo01 | 2008 | 1 | NYA | AL | 143 | 143 | 555 |  95 | 168 | ... |  1 |  5 | 143 | 0.3027027 | 0.3752013 | 119 | 0.4612613 | NYA | AL | 13000000 |\n",
       "| 5149 | damonjo01 | 2009 | 1 | NYA | AL | 143 | 143 | 550 | 107 | 155 | ... |  1 |  9 |  NA | 0.2818182 | 0.3653846 |  92 | 0.4890909 | NYA | AL | 13000000 |\n",
       "| 5150 | damonjo01 | 2010 | 1 | DET | AL | 145 | 145 | 539 |  81 | 146 | ... |  1 |  5 |  NA | 0.2708720 | 0.3551555 |  97 | 0.4007421 | DET | AL |  8000000 |\n",
       "| 5151 | damonjo01 | 2011 | 1 | TBA | AL | 150 | 150 | 582 |  79 | 152 | ... |  5 |  4 | 150 | 0.2611684 | 0.3255814 | 100 | 0.4175258 | TBA | AL |  5250000 |\n",
       "| 7872 | giambja01 | 1995 | 1 | OAK | AL |  54 |  54 | 176 |  27 |  45 | ... |  2 |  4 |  54 | 0.2556818 | 0.3636364 |  32 | 0.3977273 | OAK | AL |   109000 |\n",
       "| 7873 | giambja01 | 1996 | 1 | OAK | AL | 140 | 140 | 536 |  84 | 156 | ... |  5 | 15 | 140 | 0.2910448 | 0.3551089 |  95 | 0.4813433 | OAK | AL |   120000 |\n",
       "| 7874 | giambja01 | 1997 | 1 | OAK | AL | 142 | 142 | 519 |  66 | 152 | ... |  8 | 11 | 142 | 0.2928709 | 0.3622449 |  89 | 0.4951830 | OAK | AL |   205000 |\n",
       "| 7875 | giambja01 | 1998 | 1 | OAK | AL | 153 | 153 | 562 |  92 | 166 | ... |  9 | 16 | 153 | 0.2953737 | 0.3835616 | 111 | 0.4893238 | OAK | AL |   315000 |\n",
       "| 7876 | giambja01 | 1999 | 1 | OAK | AL | 158 | 158 | 575 | 115 | 181 | ... |  8 | 11 | 158 | 0.3147826 | 0.4215827 | 111 | 0.5530435 | OAK | AL |  2103333 |\n",
       "| 7877 | giambja01 | 2000 | 1 | OAK | AL | 152 | 152 | 510 | 108 | 170 | ... |  8 |  9 | 152 | 0.3333333 | 0.4759036 |  97 | 0.6470588 | OAK | AL |  3103333 |\n",
       "| 7878 | giambja01 | 2001 | 1 | OAK | AL | 154 | 154 | 520 | 109 | 178 | ... |  9 | 17 | 154 | 0.3423077 | 0.4769001 |  91 | 0.6596154 | OAK | AL |  4103333 |\n",
       "| 7879 | giambja01 | 2002 | 1 | NYA | AL | 155 | 155 | 560 | 120 | 176 | ... |  5 | 18 | 155 | 0.3142857 | 0.4354136 | 100 | 0.5982143 | NYA | AL | 10428571 |\n",
       "| 7880 | giambja01 | 2003 | 1 | NYA | AL | 156 | 156 | 535 |  97 | 134 | ... |  5 |  9 | 156 | 0.2504673 | 0.4115942 |  68 | 0.5271028 | NYA | AL | 11428571 |\n",
       "| 7881 | giambja01 | 2004 | 1 | NYA | AL |  80 |  80 | 264 |  33 |  55 | ... |  3 |  5 |  80 | 0.2083333 | 0.3416149 |  34 | 0.3787879 | NYA | AL | 12428571 |\n",
       "| 7882 | giambja01 | 2005 | 1 | NYA | AL | 139 | 139 | 417 |  74 | 113 | ... |  1 |  7 | 139 | 0.2709832 | 0.4403670 |  67 | 0.5347722 | NYA | AL | 13428571 |\n",
       "| 7883 | giambja01 | 2006 | 1 | NYA | AL | 139 | 139 | 446 |  92 | 113 | ... |  7 | 10 | 139 | 0.2533632 | 0.4127807 |  51 | 0.5582960 | NYA | AL | 20428571 |\n",
       "| 7884 | giambja01 | 2007 | 1 | NYA | AL |  83 |  83 | 254 |  31 |  60 | ... |  1 |  1 |  83 | 0.2362205 | 0.3564356 |  38 | 0.4330709 | NYA | AL | 23428571 |\n",
       "| 7885 | giambja01 | 2008 | 1 | NYA | AL | 145 | 145 | 458 |  68 | 113 | ... |  9 |  6 | 145 | 0.2467249 | 0.3734513 |  61 | 0.5021834 | NYA | AL | 23428571 |\n",
       "| 7886 | giambja01 | 2009 | 1 | OAK | AL |  83 |  83 | 269 |  39 |  52 | ... |  2 |  6 |  NA | 0.1933086 | 0.3323171 |  28 | 0.3643123 | OAK | AL |  4000000 |\n",
       "| 7887 | giambja01 | 2009 | 2 | COL | NL |  19 |  19 |  24 |   4 |   7 | ... |  0 |  0 |  NA | 0.2916667 | 0.4516129 |   4 | 0.5833333 | OAK | AL |  4000000 |\n",
       "| 7888 | giambja01 | 2010 | 1 | COL | NL |  87 |  87 | 176 |  17 |  43 | ... |  5 |  5 |  NA | 0.2443182 | 0.3783784 |  28 | 0.3977273 | COL | NL |  1750000 |\n",
       "| 7889 | giambja01 | 2011 | 1 | COL | NL |  64 |  64 | 131 |  20 |  34 | ... |  1 |  1 |  64 | 0.2595420 | 0.3552632 |  15 | 0.6030534 | COL | NL |  1000000 |\n",
       "| 7890 | giambja01 | 2012 | 1 | COL | NL |  60 |  NA |  89 |   7 |  20 | ... |  2 |  4 |  NA | 0.2247191 | 0.3716814 |  15 | 0.3033708 | COL | NL |  1000000 |\n",
       "| 7891 | giambja01 | 2013 | 1 | CLE | AL |  71 |  71 | 186 |  21 |  34 | ... |  3 |  8 |  NA | 0.1827957 | 0.2824074 |  17 | 0.3709677 | CLE | AL |   750000 |\n",
       "| 20112 | saenzol01 | 1999 | 1 | OAK | AL |  97 |  97 | 255 |  41 |  70 | ... |  3 |  6 |  97 | 0.2745098 | 0.3627119 |  41 | 0.4745098 | OAK | AL |   240000 |\n",
       "| 20113 | saenzol01 | 2000 | 1 | OAK | AL |  76 |  76 | 214 |  40 |  67 | ... |  1 |  6 |  76 | 0.3130841 | 0.4008097 |  44 | 0.5140187 | OAK | AL |   260000 |\n",
       "| 20114 | saenzol01 | 2001 | 1 | OAK | AL | 106 | 106 | 305 |  33 |  67 | ... |  3 |  9 | 106 | 0.2196721 | 0.2911765 |  36 | 0.3836066 | OAK | AL |   290000 |\n",
       "| 20115 | saenzol01 | 2002 | 1 | OAK | AL |  68 |  68 | 156 |  15 |  43 | ... |  2 |  2 |  68 | 0.2756410 | 0.3539326 |  26 | 0.4679487 | OAK | AL |   800000 |\n",
       "| 20116 | saenzol01 | 2005 | 1 | LAN | NL | 109 | 109 | 319 |  39 |  84 | ... |  2 | 12 | 109 | 0.2633229 | 0.3247863 |  45 | 0.4796238 | LAN | NL |   650000 |\n",
       "| 20117 | saenzol01 | 2006 | 1 | LAN | NL | 103 | 103 | 179 |  30 |  53 | ... |  4 |  4 | 103 | 0.2960894 | 0.3627451 |  27 | 0.5642458 | LAN | NL |  1000000 |\n",
       "| 20118 | saenzol01 | 2007 | 1 | LAN | NL |  92 |  92 | 110 |   9 |  21 | ... |  4 |  5 |  92 | 0.1909091 | 0.2954545 |  12 | 0.3454545 | LAN | NL |  1000000 |\n",
       "\n"
      ],
      "text/plain": [
       "      playerID  yearID stint teamID.x lgID.x G   G_batting AB  R   H   ... SF\n",
       "5135  damonjo01 1995   1     KCA      AL      47  47       188  32  53 ...  3\n",
       "5136  damonjo01 1996   1     KCA      AL     145 145       517  61 140 ...  5\n",
       "5137  damonjo01 1997   1     KCA      AL     146 146       472  70 130 ...  1\n",
       "5138  damonjo01 1998   1     KCA      AL     161 161       642 104 178 ...  3\n",
       "5139  damonjo01 1999   1     KCA      AL     145 145       583 101 179 ...  4\n",
       "5140  damonjo01 2000   1     KCA      AL     159 159       655 136 214 ... 12\n",
       "5141  damonjo01 2001   1     OAK      AL     155 155       644 108 165 ...  4\n",
       "5142  damonjo01 2002   1     BOS      AL     154 154       623 118 178 ...  5\n",
       "5143  damonjo01 2003   1     BOS      AL     145 145       608 103 166 ...  6\n",
       "5144  damonjo01 2004   1     BOS      AL     150 150       621 123 189 ...  3\n",
       "5145  damonjo01 2005   1     BOS      AL     148 148       624 117 197 ...  9\n",
       "5146  damonjo01 2006   1     NYA      AL     149 149       593 115 169 ...  5\n",
       "5147  damonjo01 2007   1     NYA      AL     141 141       533  93 144 ...  3\n",
       "5148  damonjo01 2008   1     NYA      AL     143 143       555  95 168 ...  1\n",
       "5149  damonjo01 2009   1     NYA      AL     143 143       550 107 155 ...  1\n",
       "5150  damonjo01 2010   1     DET      AL     145 145       539  81 146 ...  1\n",
       "5151  damonjo01 2011   1     TBA      AL     150 150       582  79 152 ...  5\n",
       "7872  giambja01 1995   1     OAK      AL      54  54       176  27  45 ...  2\n",
       "7873  giambja01 1996   1     OAK      AL     140 140       536  84 156 ...  5\n",
       "7874  giambja01 1997   1     OAK      AL     142 142       519  66 152 ...  8\n",
       "7875  giambja01 1998   1     OAK      AL     153 153       562  92 166 ...  9\n",
       "7876  giambja01 1999   1     OAK      AL     158 158       575 115 181 ...  8\n",
       "7877  giambja01 2000   1     OAK      AL     152 152       510 108 170 ...  8\n",
       "7878  giambja01 2001   1     OAK      AL     154 154       520 109 178 ...  9\n",
       "7879  giambja01 2002   1     NYA      AL     155 155       560 120 176 ...  5\n",
       "7880  giambja01 2003   1     NYA      AL     156 156       535  97 134 ...  5\n",
       "7881  giambja01 2004   1     NYA      AL      80  80       264  33  55 ...  3\n",
       "7882  giambja01 2005   1     NYA      AL     139 139       417  74 113 ...  1\n",
       "7883  giambja01 2006   1     NYA      AL     139 139       446  92 113 ...  7\n",
       "7884  giambja01 2007   1     NYA      AL      83  83       254  31  60 ...  1\n",
       "7885  giambja01 2008   1     NYA      AL     145 145       458  68 113 ...  9\n",
       "7886  giambja01 2009   1     OAK      AL      83  83       269  39  52 ...  2\n",
       "7887  giambja01 2009   2     COL      NL      19  19        24   4   7 ...  0\n",
       "7888  giambja01 2010   1     COL      NL      87  87       176  17  43 ...  5\n",
       "7889  giambja01 2011   1     COL      NL      64  64       131  20  34 ...  1\n",
       "7890  giambja01 2012   1     COL      NL      60  NA        89   7  20 ...  2\n",
       "7891  giambja01 2013   1     CLE      AL      71  71       186  21  34 ...  3\n",
       "20112 saenzol01 1999   1     OAK      AL      97  97       255  41  70 ...  3\n",
       "20113 saenzol01 2000   1     OAK      AL      76  76       214  40  67 ...  1\n",
       "20114 saenzol01 2001   1     OAK      AL     106 106       305  33  67 ...  3\n",
       "20115 saenzol01 2002   1     OAK      AL      68  68       156  15  43 ...  2\n",
       "20116 saenzol01 2005   1     LAN      NL     109 109       319  39  84 ...  2\n",
       "20117 saenzol01 2006   1     LAN      NL     103 103       179  30  53 ...  4\n",
       "20118 saenzol01 2007   1     LAN      NL      92  92       110   9  21 ...  4\n",
       "      GIDP G_old BA        OBP       X1B SLG       teamID.y lgID.y salary  \n",
       "5135   2    47   0.2819149 0.3235294  34 0.4414894 KCA      AL       109000\n",
       "5136   4   145   0.2707930 0.3129496 107 0.3675048 KCA      AL       180000\n",
       "5137   3   146   0.2754237 0.3378378 102 0.3855932 KCA      AL       240000\n",
       "5138   4   161   0.2772586 0.3394625 120 0.4392523 KCA      AL       460000\n",
       "5139  13   145   0.3070326 0.3789954 117 0.4768439 KCA      AL      2100000\n",
       "5140   7   159   0.3267176 0.3819918 146 0.4946565 KCA      AL      4000000\n",
       "5141   7   155   0.2562112 0.3235294 118 0.3633540 OAK      AL      7100000\n",
       "5142   4   154   0.2857143 0.3562232 119 0.4430177 BOS      AL      7250000\n",
       "5143   5   145   0.2730263 0.3450292 116 0.4046053 BOS      AL      7500000\n",
       "5144   8   150   0.3043478 0.3803419 128 0.4766506 BOS      AL      8000000\n",
       "5145   5   148   0.3157051 0.3662791 146 0.4391026 BOS      AL      8250000\n",
       "5146   4   149   0.2849916 0.3587444 105 0.4822934 NYA      AL     13000000\n",
       "5147   4   141   0.2701689 0.3509934 103 0.3958724 NYA      AL     13000000\n",
       "5148   5   143   0.3027027 0.3752013 119 0.4612613 NYA      AL     13000000\n",
       "5149   9    NA   0.2818182 0.3653846  92 0.4890909 NYA      AL     13000000\n",
       "5150   5    NA   0.2708720 0.3551555  97 0.4007421 DET      AL      8000000\n",
       "5151   4   150   0.2611684 0.3255814 100 0.4175258 TBA      AL      5250000\n",
       "7872   4    54   0.2556818 0.3636364  32 0.3977273 OAK      AL       109000\n",
       "7873  15   140   0.2910448 0.3551089  95 0.4813433 OAK      AL       120000\n",
       "7874  11   142   0.2928709 0.3622449  89 0.4951830 OAK      AL       205000\n",
       "7875  16   153   0.2953737 0.3835616 111 0.4893238 OAK      AL       315000\n",
       "7876  11   158   0.3147826 0.4215827 111 0.5530435 OAK      AL      2103333\n",
       "7877   9   152   0.3333333 0.4759036  97 0.6470588 OAK      AL      3103333\n",
       "7878  17   154   0.3423077 0.4769001  91 0.6596154 OAK      AL      4103333\n",
       "7879  18   155   0.3142857 0.4354136 100 0.5982143 NYA      AL     10428571\n",
       "7880   9   156   0.2504673 0.4115942  68 0.5271028 NYA      AL     11428571\n",
       "7881   5    80   0.2083333 0.3416149  34 0.3787879 NYA      AL     12428571\n",
       "7882   7   139   0.2709832 0.4403670  67 0.5347722 NYA      AL     13428571\n",
       "7883  10   139   0.2533632 0.4127807  51 0.5582960 NYA      AL     20428571\n",
       "7884   1    83   0.2362205 0.3564356  38 0.4330709 NYA      AL     23428571\n",
       "7885   6   145   0.2467249 0.3734513  61 0.5021834 NYA      AL     23428571\n",
       "7886   6    NA   0.1933086 0.3323171  28 0.3643123 OAK      AL      4000000\n",
       "7887   0    NA   0.2916667 0.4516129   4 0.5833333 OAK      AL      4000000\n",
       "7888   5    NA   0.2443182 0.3783784  28 0.3977273 COL      NL      1750000\n",
       "7889   1    64   0.2595420 0.3552632  15 0.6030534 COL      NL      1000000\n",
       "7890   4    NA   0.2247191 0.3716814  15 0.3033708 COL      NL      1000000\n",
       "7891   8    NA   0.1827957 0.2824074  17 0.3709677 CLE      AL       750000\n",
       "20112  6    97   0.2745098 0.3627119  41 0.4745098 OAK      AL       240000\n",
       "20113  6    76   0.3130841 0.4008097  44 0.5140187 OAK      AL       260000\n",
       "20114  9   106   0.2196721 0.2911765  36 0.3836066 OAK      AL       290000\n",
       "20115  2    68   0.2756410 0.3539326  26 0.4679487 OAK      AL       800000\n",
       "20116 12   109   0.2633229 0.3247863  45 0.4796238 LAN      NL       650000\n",
       "20117  4   103   0.2960894 0.3627451  27 0.5642458 LAN      NL      1000000\n",
       "20118  5    92   0.1909091 0.2954545  12 0.3454545 LAN      NL      1000000"
      ]
     },
     "metadata": {},
     "output_type": "display_data"
    }
   ],
   "source": [
    "lost_players <- subset(combo,playerID %in% c('giambja01','damonjo01','saenzol01') )\n",
    "lost_players"
   ]
  },
  {
   "cell_type": "code",
   "execution_count": 16,
   "metadata": {},
   "outputs": [
    {
     "data": {
      "text/plain": [
       "      playerID      yearID         stint          teamID.x  lgID.x \n",
       " giambja01:20   Min.   :1995   Min.   :1.000   OAK    :13   AA: 0  \n",
       " damonjo01:17   1st Qu.:2000   1st Qu.:1.000   NYA    :11   AL:37  \n",
       " saenzol01: 7   Median :2004   Median :1.000   KCA    : 6   FL: 0  \n",
       " aardsda01: 0   Mean   :2004   Mean   :1.023   BOS    : 4   NL: 7  \n",
       " aaronha01: 0   3rd Qu.:2007   3rd Qu.:1.000   COL    : 4   PL: 0  \n",
       " aaronto01: 0   Max.   :2013   Max.   :2.000   LAN    : 3   UA: 0  \n",
       " (Other)  : 0                                  (Other): 3          \n",
       "       G           G_batting           AB              R         \n",
       " Min.   : 19.0   Min.   : 19.0   Min.   : 24.0   Min.   :  4.00  \n",
       " 1st Qu.: 86.0   1st Qu.: 89.5   1st Qu.:244.0   1st Qu.: 32.75  \n",
       " Median :142.5   Median :143.0   Median :513.5   Median : 76.50  \n",
       " Mean   :120.7   Mean   :122.1   Mean   :415.3   Mean   : 69.86  \n",
       " 3rd Qu.:150.0   3rd Qu.:150.0   3rd Qu.:565.2   3rd Qu.:104.75  \n",
       " Max.   :161.0   Max.   :161.0   Max.   :655.0   Max.   :136.00  \n",
       "                 NA's   :1                                       \n",
       "       H              X2B             X3B               HR       \n",
       " Min.   :  7.0   Min.   : 1.00   Min.   : 0.000   Min.   : 1.00  \n",
       " 1st Qu.: 54.5   1st Qu.:11.75   1st Qu.: 0.000   1st Qu.: 9.00  \n",
       " Median :137.0   Median :25.00   Median : 1.000   Median :13.50  \n",
       " Mean   :116.6   Mean   :23.27   Mean   : 2.727   Mean   :16.68  \n",
       " 3rd Qu.:168.2   3rd Qu.:34.25   3rd Qu.: 5.000   3rd Qu.:21.00  \n",
       " Max.   :214.0   Max.   :47.00   Max.   :11.000   Max.   :43.00  \n",
       "                                                                 \n",
       "      RBI               SB               CS               BB        \n",
       " Min.   :  8.00   Min.   : 0.000   Min.   : 0.000   Min.   :  7.00  \n",
       " 1st Qu.: 38.00   1st Qu.: 0.000   1st Qu.: 0.000   1st Qu.: 26.50  \n",
       " Median : 63.00   Median : 2.000   Median : 1.000   Median : 54.00  \n",
       " Mean   : 63.84   Mean   : 9.705   Mean   : 2.705   Mean   : 56.34  \n",
       " 3rd Qu.: 83.25   3rd Qu.:19.000   3rd Qu.: 5.250   3rd Qu.: 69.50  \n",
       " Max.   :137.00   Max.   :46.000   Max.   :12.000   Max.   :137.00  \n",
       "                                                                    \n",
       "       SO              IBB              HBP               SH        \n",
       " Min.   :  8.00   Min.   : 0.000   Min.   : 0.000   Min.   : 0.000  \n",
       " 1st Qu.: 49.25   1st Qu.: 1.000   1st Qu.: 2.000   1st Qu.: 0.000  \n",
       " Median : 70.00   Median : 2.000   Median : 5.000   Median : 0.000  \n",
       " Mean   : 70.61   Mean   : 3.182   Mean   : 6.432   Mean   : 1.364  \n",
       " 3rd Qu.: 90.50   3rd Qu.: 4.250   3rd Qu.: 7.250   3rd Qu.: 2.000  \n",
       " Max.   :140.00   Max.   :24.000   Max.   :22.000   Max.   :10.000  \n",
       "                                                                    \n",
       "       SF              GIDP            G_old             BA        \n",
       " Min.   : 0.000   Min.   : 0.000   Min.   : 47.0   Min.   :0.1828  \n",
       " 1st Qu.: 2.000   1st Qu.: 4.000   1st Qu.:103.0   1st Qu.:0.2551  \n",
       " Median : 3.500   Median : 5.500   Median :145.0   Median :0.2750  \n",
       " Mean   : 4.159   Mean   : 6.818   Mean   :127.1   Mean   :0.2723  \n",
       " 3rd Qu.: 5.000   3rd Qu.: 9.000   3rd Qu.:152.0   3rd Qu.:0.2956  \n",
       " Max.   :12.000   Max.   :18.000   Max.   :161.0   Max.   :0.3423  \n",
       "                                   NA's   :7                       \n",
       "      OBP              X1B              SLG            teamID.y  lgID.y \n",
       " Min.   :0.2824   Min.   :  4.00   Min.   :0.3034   OAK    :14   AL:38  \n",
       " 1st Qu.:0.3411   1st Qu.: 34.00   1st Qu.:0.3977   NYA    :11   NL: 6  \n",
       " Median :0.3625   Median : 90.00   Median :0.4712   KCA    : 6          \n",
       " Mean   :0.3671   Mean   : 73.91   Mean   :0.4656   BOS    : 4          \n",
       " 3rd Qu.:0.3808   3rd Qu.:108.00   3rd Qu.:0.5051   COL    : 3          \n",
       " Max.   :0.4769   Max.   :146.00   Max.   :0.6596   LAN    : 3          \n",
       "                                                    (Other): 3          \n",
       "     salary        \n",
       " Min.   :  109000  \n",
       " 1st Qu.:  602500  \n",
       " Median : 3551666  \n",
       " Mean   : 5732682  \n",
       " 3rd Qu.: 8794643  \n",
       " Max.   :23428571  \n",
       "                   "
      ]
     },
     "metadata": {},
     "output_type": "display_data"
    }
   ],
   "source": [
    "summary(lost_players)"
   ]
  },
  {
   "cell_type": "markdown",
   "metadata": {},
   "source": [
    "__Since all these players were lost in after 2001 in the offseason, let's only concern ourselves with the data from 2001.__\n",
    "\n",
    "__Use subset again to only grab the rows where the yearID was 2001.__"
   ]
  },
  {
   "cell_type": "code",
   "execution_count": 17,
   "metadata": {},
   "outputs": [],
   "source": [
    "lost_players <- subset(lost_players,yearID == 2001)"
   ]
  },
  {
   "cell_type": "markdown",
   "metadata": {},
   "source": [
    "__Reduce the lost_players data frame to the following columns: playerID,H,X2B,X3B,HR,OBP,SLG,BA,AB__"
   ]
  },
  {
   "cell_type": "code",
   "execution_count": 18,
   "metadata": {},
   "outputs": [
    {
     "data": {
      "text/html": [
       "<table>\n",
       "<caption>A data.frame: 3 × 10</caption>\n",
       "<thead>\n",
       "\t<tr><th></th><th scope=col>playerID</th><th scope=col>H</th><th scope=col>X2B</th><th scope=col>X3B</th><th scope=col>HR</th><th scope=col>OBP</th><th scope=col>SLG</th><th scope=col>BA</th><th scope=col>AB</th><th scope=col>salary</th></tr>\n",
       "\t<tr><th></th><th scope=col>&lt;fct&gt;</th><th scope=col>&lt;int&gt;</th><th scope=col>&lt;int&gt;</th><th scope=col>&lt;int&gt;</th><th scope=col>&lt;int&gt;</th><th scope=col>&lt;dbl&gt;</th><th scope=col>&lt;dbl&gt;</th><th scope=col>&lt;dbl&gt;</th><th scope=col>&lt;int&gt;</th><th scope=col>&lt;int&gt;</th></tr>\n",
       "</thead>\n",
       "<tbody>\n",
       "\t<tr><th scope=row>5141</th><td>damonjo01</td><td>165</td><td>34</td><td>4</td><td> 9</td><td>0.3235294</td><td>0.3633540</td><td>0.2562112</td><td>644</td><td>7100000</td></tr>\n",
       "\t<tr><th scope=row>7878</th><td>giambja01</td><td>178</td><td>47</td><td>2</td><td>38</td><td>0.4769001</td><td>0.6596154</td><td>0.3423077</td><td>520</td><td>4103333</td></tr>\n",
       "\t<tr><th scope=row>20114</th><td>saenzol01</td><td> 67</td><td>21</td><td>1</td><td> 9</td><td>0.2911765</td><td>0.3836066</td><td>0.2196721</td><td>305</td><td> 290000</td></tr>\n",
       "</tbody>\n",
       "</table>\n"
      ],
      "text/latex": [
       "A data.frame: 3 × 10\n",
       "\\begin{tabular}{r|llllllllll}\n",
       "  & playerID & H & X2B & X3B & HR & OBP & SLG & BA & AB & salary\\\\\n",
       "  & <fct> & <int> & <int> & <int> & <int> & <dbl> & <dbl> & <dbl> & <int> & <int>\\\\\n",
       "\\hline\n",
       "\t5141 & damonjo01 & 165 & 34 & 4 &  9 & 0.3235294 & 0.3633540 & 0.2562112 & 644 & 7100000\\\\\n",
       "\t7878 & giambja01 & 178 & 47 & 2 & 38 & 0.4769001 & 0.6596154 & 0.3423077 & 520 & 4103333\\\\\n",
       "\t20114 & saenzol01 &  67 & 21 & 1 &  9 & 0.2911765 & 0.3836066 & 0.2196721 & 305 &  290000\\\\\n",
       "\\end{tabular}\n"
      ],
      "text/markdown": [
       "\n",
       "A data.frame: 3 × 10\n",
       "\n",
       "| <!--/--> | playerID &lt;fct&gt; | H &lt;int&gt; | X2B &lt;int&gt; | X3B &lt;int&gt; | HR &lt;int&gt; | OBP &lt;dbl&gt; | SLG &lt;dbl&gt; | BA &lt;dbl&gt; | AB &lt;int&gt; | salary &lt;int&gt; |\n",
       "|---|---|---|---|---|---|---|---|---|---|---|\n",
       "| 5141 | damonjo01 | 165 | 34 | 4 |  9 | 0.3235294 | 0.3633540 | 0.2562112 | 644 | 7100000 |\n",
       "| 7878 | giambja01 | 178 | 47 | 2 | 38 | 0.4769001 | 0.6596154 | 0.3423077 | 520 | 4103333 |\n",
       "| 20114 | saenzol01 |  67 | 21 | 1 |  9 | 0.2911765 | 0.3836066 | 0.2196721 | 305 |  290000 |\n",
       "\n"
      ],
      "text/plain": [
       "      playerID  H   X2B X3B HR OBP       SLG       BA        AB  salary \n",
       "5141  damonjo01 165 34  4    9 0.3235294 0.3633540 0.2562112 644 7100000\n",
       "7878  giambja01 178 47  2   38 0.4769001 0.6596154 0.3423077 520 4103333\n",
       "20114 saenzol01  67 21  1    9 0.2911765 0.3836066 0.2196721 305  290000"
      ]
     },
     "metadata": {},
     "output_type": "display_data"
    }
   ],
   "source": [
    "important.columns <- c('playerID','H','X2B','X3B','HR','OBP','SLG','BA','AB', 'salary')\n",
    "lost_players <- lost_players[,important.columns]\n",
    "head(lost_players)"
   ]
  },
  {
   "cell_type": "markdown",
   "metadata": {},
   "source": [
    "## Replacement Players\n",
    "Now we have all the information we need! Here is your final task - Find Replacement Players for the key three players we lost! However, you have three constraints:\n",
    "\n",
    "- The total combined salary of the three players can not exceed 15 million dollars.\n",
    "- Their combined number of At Bats (AB) needs to be equal to or greater than the lost players.\n",
    "- Their mean OBP had to equal to or greater than the mean OBP of the lost players\n",
    "\n",
    "Use the combo dataframe you previously created as the source of information! Remember to just use the 2001 subset of that dataframe. There's lost of different ways you can do this, so be creative! It should be relatively simple to find 3 players that satisfy the requirements, note that there are many correct combinations available!\n",
    "\n"
   ]
  },
  {
   "cell_type": "code",
   "execution_count": 19,
   "metadata": {},
   "outputs": [
    {
     "name": "stdout",
     "output_type": "stream",
     "text": [
      "'data.frame':\t915 obs. of  31 variables:\n",
      " $ playerID : Factor w/ 18107 levels \"aardsda01\",\"aaronha01\",..: 14 16 19 34 86 108 167 168 170 179 ...\n",
      " $ yearID   : int  2001 2001 2001 2001 2001 2001 2001 2001 2001 2001 ...\n",
      " $ stint    : int  1 1 1 1 1 1 1 1 1 1 ...\n",
      " $ teamID.x : Factor w/ 149 levels \"ALT\",\"ANA\",\"ARI\",..: 55 4 116 102 72 94 55 94 66 79 ...\n",
      " $ lgID.x   : Factor w/ 6 levels \"AA\",\"AL\",\"FL\",..: 4 4 2 4 4 4 4 4 2 2 ...\n",
      " $ G        : int  28 6 28 162 43 91 58 124 113 57 ...\n",
      " $ G_batting: int  28 6 2 162 41 91 54 124 113 57 ...\n",
      " $ AB       : int  42 9 4 588 39 296 0 457 387 175 ...\n",
      " $ R        : int  5 0 0 118 2 28 0 64 44 20 ...\n",
      " $ H        : int  11 2 1 170 2 82 0 111 106 46 ...\n",
      " $ X2B      : int  3 0 0 48 1 14 0 22 16 13 ...\n",
      " $ X3B      : int  0 0 0 4 0 2 0 0 4 2 ...\n",
      " $ HR       : int  0 0 0 31 0 6 0 17 4 4 ...\n",
      " $ RBI      : int  5 0 0 110 1 27 0 49 32 20 ...\n",
      " $ SB       : int  0 1 0 36 0 4 0 5 8 1 ...\n",
      " $ CS       : int  0 0 0 14 0 5 0 0 6 2 ...\n",
      " $ BB       : int  3 0 0 106 3 36 0 51 23 19 ...\n",
      " $ SO       : int  7 3 1 137 19 73 0 62 56 37 ...\n",
      " $ IBB      : int  0 0 0 11 0 0 0 0 0 1 ...\n",
      " $ HBP      : int  1 0 0 1 0 5 0 5 4 0 ...\n",
      " $ SH       : int  0 0 1 0 5 1 0 1 3 0 ...\n",
      " $ SF       : int  0 0 0 9 1 1 0 5 1 1 ...\n",
      " $ GIDP     : int  1 0 0 13 0 11 0 7 6 7 ...\n",
      " $ G_old    : int  28 6 2 162 41 91 54 124 113 57 ...\n",
      " $ BA       : num  0.2619 0.2222 0.25 0.2891 0.0513 ...\n",
      " $ OBP      : num  0.326 0.222 0.25 0.393 0.116 ...\n",
      " $ X1B      : int  8 2 1 87 1 60 0 72 82 27 ...\n",
      " $ SLG      : num  0.3333 0.2222 0.25 0.5425 0.0769 ...\n",
      " $ teamID.y : Factor w/ 35 levels \"ANA\",\"ARI\",\"ATL\",..: 13 3 29 26 17 24 13 24 15 20 ...\n",
      " $ lgID.y   : Factor w/ 2 levels \"AL\",\"NL\": 2 2 1 2 2 2 2 2 1 1 ...\n",
      " $ salary   : int  300000 600000 1700000 4983000 2600000 260000 2450000 5750000 800000 240000 ...\n"
     ]
    }
   ],
   "source": [
    "library(dplyr)\n",
    "available.players <- filter(combo, yearID == 2001)\n",
    "str(available.players)"
   ]
  },
  {
   "cell_type": "code",
   "execution_count": 20,
   "metadata": {
    "scrolled": false
   },
   "outputs": [
    {
     "name": "stderr",
     "output_type": "stream",
     "text": [
      "Warning message:\n",
      "\"Removed 168 rows containing missing values (geom_point).\""
     ]
    },
    {
     "data": {
      "image/png": "[encoded data removed]",
      "text/plain": [
       "plot without title"
      ]
     },
     "metadata": {},
     "output_type": "display_data"
    }
   ],
   "source": [
    "library(ggplot2)\n",
    "ggplot(available.players,aes(x=OBP,y=salary, color = AB)) + geom_point()"
   ]
  },
  {
   "cell_type": "markdown",
   "metadata": {},
   "source": [
    "Looks like there is no point in paying above $8M. I'll choose that as a cutt off point. There are also a lot of players with OBP==0. Let's get rid of them too."
   ]
  },
  {
   "cell_type": "code",
   "execution_count": 21,
   "metadata": {},
   "outputs": [
    {
     "name": "stdout",
     "output_type": "stream",
     "text": [
      "'data.frame':\t585 obs. of  31 variables:\n",
      " $ playerID : Factor w/ 18107 levels \"aardsda01\",\"aaronha01\",..: 14 16 19 34 86 108 168 170 179 228 ...\n",
      " $ yearID   : int  2001 2001 2001 2001 2001 2001 2001 2001 2001 2001 ...\n",
      " $ stint    : int  1 1 1 1 1 1 1 1 1 1 ...\n",
      " $ teamID.x : Factor w/ 149 levels \"ALT\",\"ANA\",\"ARI\",..: 55 4 116 102 72 94 94 66 79 45 ...\n",
      " $ lgID.x   : Factor w/ 6 levels \"AA\",\"AL\",\"FL\",..: 4 4 2 4 4 4 4 2 2 2 ...\n",
      " $ G        : int  28 6 28 162 43 91 124 113 57 157 ...\n",
      " $ G_batting: int  28 6 2 162 41 91 124 113 57 157 ...\n",
      " $ AB       : int  42 9 4 588 39 296 457 387 175 575 ...\n",
      " $ R        : int  5 0 0 118 2 28 64 44 20 113 ...\n",
      " $ H        : int  11 2 1 170 2 82 111 106 46 193 ...\n",
      " $ X2B      : int  3 0 0 48 1 14 22 16 13 34 ...\n",
      " $ X3B      : int  0 0 0 4 0 2 0 4 2 12 ...\n",
      " $ HR       : int  0 0 0 31 0 6 17 4 4 20 ...\n",
      " $ RBI      : int  5 0 0 110 1 27 49 32 20 100 ...\n",
      " $ SB       : int  0 1 0 36 0 4 5 8 1 30 ...\n",
      " $ CS       : int  0 0 0 14 0 5 0 6 2 6 ...\n",
      " $ BB       : int  3 0 0 106 3 36 51 23 19 80 ...\n",
      " $ SO       : int  7 3 1 137 19 73 62 56 37 71 ...\n",
      " $ IBB      : int  0 0 0 11 0 0 0 0 1 5 ...\n",
      " $ HBP      : int  1 0 0 1 0 5 5 4 0 4 ...\n",
      " $ SH       : int  0 0 1 0 5 1 1 3 0 9 ...\n",
      " $ SF       : int  0 0 0 9 1 1 5 1 1 9 ...\n",
      " $ GIDP     : int  1 0 0 13 0 11 7 6 7 9 ...\n",
      " $ G_old    : int  28 6 2 162 41 91 124 113 57 157 ...\n",
      " $ BA       : num  0.2619 0.2222 0.25 0.2891 0.0513 ...\n",
      " $ OBP      : num  0.326 0.222 0.25 0.393 0.116 ...\n",
      " $ X1B      : int  8 2 1 87 1 60 72 82 27 127 ...\n",
      " $ SLG      : num  0.3333 0.2222 0.25 0.5425 0.0769 ...\n",
      " $ teamID.y : Factor w/ 35 levels \"ANA\",\"ARI\",\"ATL\",..: 13 3 29 26 17 24 24 15 20 10 ...\n",
      " $ lgID.y   : Factor w/ 2 levels \"AL\",\"NL\": 2 2 1 2 2 2 2 1 1 1 ...\n",
      " $ salary   : int  300000 600000 1700000 4983000 2600000 260000 5750000 800000 240000 7750000 ...\n"
     ]
    },
    {
     "data": {
      "image/png": "[encoded data removed]",
      "text/plain": [
       "plot without title"
      ]
     },
     "metadata": {},
     "output_type": "display_data"
    }
   ],
   "source": [
    "available.players <- filter(available.players,salary<8000000,OBP>0,OBP!=0.5,OBP!=1)\n",
    "str(available.players)\n",
    "ggplot(available.players,aes(x=OBP,y=salary, color = SLG)) + geom_point()"
   ]
  },
  {
   "cell_type": "code",
   "execution_count": 22,
   "metadata": {},
   "outputs": [
    {
     "data": {
      "image/png": "[encoded data removed]",
      "text/plain": [
       "plot without title"
      ]
     },
     "metadata": {},
     "output_type": "display_data"
    }
   ],
   "source": [
    "ggplot(available.players,aes(x=OBP,y=salary, color = SLG)) + geom_point()"
   ]
  },
  {
   "cell_type": "markdown",
   "metadata": {},
   "source": [
    "The total AB of the lost players is 1469. This is about 1500, meaning I should probably cut off my avail.players at 1500/3= 500 AB."
   ]
  },
  {
   "cell_type": "code",
   "execution_count": 23,
   "metadata": {},
   "outputs": [
    {
     "data": {
      "image/png": "[encoded data removed]",
      "text/plain": [
       "plot without title"
      ]
     },
     "metadata": {},
     "output_type": "display_data"
    }
   ],
   "source": [
    "available.players <- filter(available.players,AB >= 550)\n",
    "ggplot(available.players,aes(x=OBP,y=salary, color = SLG)) + geom_point()"
   ]
  },
  {
   "cell_type": "code",
   "execution_count": 24,
   "metadata": {},
   "outputs": [
    {
     "data": {
      "text/html": [
       "<table>\n",
       "<caption>A data.frame: 55 × 10</caption>\n",
       "<thead>\n",
       "\t<tr><th scope=col>playerID</th><th scope=col>H</th><th scope=col>X2B</th><th scope=col>X3B</th><th scope=col>HR</th><th scope=col>OBP</th><th scope=col>SLG</th><th scope=col>BA</th><th scope=col>AB</th><th scope=col>salary</th></tr>\n",
       "\t<tr><th scope=col>&lt;fct&gt;</th><th scope=col>&lt;int&gt;</th><th scope=col>&lt;int&gt;</th><th scope=col>&lt;int&gt;</th><th scope=col>&lt;int&gt;</th><th scope=col>&lt;dbl&gt;</th><th scope=col>&lt;dbl&gt;</th><th scope=col>&lt;dbl&gt;</th><th scope=col>&lt;int&gt;</th><th scope=col>&lt;int&gt;</th></tr>\n",
       "</thead>\n",
       "<tbody>\n",
       "\t<tr><td>heltoto01</td><td>197</td><td>54</td><td> 2</td><td>49</td><td>0.4316547</td><td>0.6848382</td><td>0.3356048</td><td>587</td><td>4950000</td></tr>\n",
       "\t<tr><td>berkmla01</td><td>191</td><td>55</td><td> 5</td><td>34</td><td>0.4302326</td><td>0.6204506</td><td>0.3310225</td><td>577</td><td> 305000</td></tr>\n",
       "\t<tr><td>gonzalu01</td><td>198</td><td>36</td><td> 7</td><td>57</td><td>0.4285714</td><td>0.6880131</td><td>0.3251232</td><td>609</td><td>4833333</td></tr>\n",
       "\t<tr><td>alomaro01</td><td>193</td><td>34</td><td>12</td><td>20</td><td>0.4146707</td><td>0.5408696</td><td>0.3356522</td><td>575</td><td>7750000</td></tr>\n",
       "\t<tr><td>gilesbr02</td><td>178</td><td>37</td><td> 7</td><td>37</td><td>0.4035608</td><td>0.5902778</td><td>0.3090278</td><td>576</td><td>7333333</td></tr>\n",
       "\t<tr><td>pujolal01</td><td>194</td><td>47</td><td> 4</td><td>37</td><td>0.4029630</td><td>0.6101695</td><td>0.3288136</td><td>590</td><td> 200000</td></tr>\n",
       "\t<tr><td>olerujo01</td><td>173</td><td>32</td><td> 1</td><td>21</td><td>0.4011799</td><td>0.4720280</td><td>0.3024476</td><td>572</td><td>6700000</td></tr>\n",
       "\t<tr><td>bagweje01</td><td>173</td><td>43</td><td> 4</td><td>39</td><td>0.3974895</td><td>0.5683333</td><td>0.2883333</td><td>600</td><td>6500000</td></tr>\n",
       "\t<tr><td>abreubo01</td><td>170</td><td>48</td><td> 4</td><td>31</td><td>0.3934659</td><td>0.5425170</td><td>0.2891156</td><td>588</td><td>4983000</td></tr>\n",
       "\t<tr><td>floydcl01</td><td>176</td><td>44</td><td> 4</td><td>31</td><td>0.3895072</td><td>0.5783784</td><td>0.3171171</td><td>555</td><td>5500000</td></tr>\n",
       "\t<tr><td>biggicr01</td><td>180</td><td>35</td><td> 3</td><td>20</td><td>0.3821478</td><td>0.4554295</td><td>0.2917342</td><td>617</td><td>7750000</td></tr>\n",
       "\t<tr><td>ordonma01</td><td>181</td><td>40</td><td> 1</td><td>31</td><td>0.3815201</td><td>0.5328836</td><td>0.3052277</td><td>593</td><td>3750000</td></tr>\n",
       "\t<tr><td>suzukic01</td><td>242</td><td>34</td><td> 8</td><td> 8</td><td>0.3814714</td><td>0.4566474</td><td>0.3497110</td><td>692</td><td>5666667</td></tr>\n",
       "\t<tr><td>rolensc01</td><td>160</td><td>39</td><td> 1</td><td>25</td><td>0.3782542</td><td>0.4981949</td><td>0.2888087</td><td>554</td><td>5500000</td></tr>\n",
       "\t<tr><td>pierrju01</td><td>202</td><td>26</td><td>11</td><td> 2</td><td>0.3781764</td><td>0.4149109</td><td>0.3273906</td><td>617</td><td> 215000</td></tr>\n",
       "\t<tr><td>guerrvl01</td><td>184</td><td>45</td><td> 4</td><td>34</td><td>0.3770492</td><td>0.5659432</td><td>0.3071786</td><td>599</td><td>6000000</td></tr>\n",
       "\t<tr><td>sweenmi01</td><td>170</td><td>46</td><td> 0</td><td>29</td><td>0.3740095</td><td>0.5420394</td><td>0.3041145</td><td>559</td><td>5000000</td></tr>\n",
       "\t<tr><td>boonebr01</td><td>206</td><td>37</td><td> 3</td><td>37</td><td>0.3722628</td><td>0.5778491</td><td>0.3306581</td><td>623</td><td>3250000</td></tr>\n",
       "\t<tr><td>stewash01</td><td>202</td><td>44</td><td> 7</td><td>12</td><td>0.3710602</td><td>0.4625000</td><td>0.3156250</td><td>640</td><td>2183333</td></tr>\n",
       "\t<tr><td>kentje01 </td><td>181</td><td>49</td><td> 6</td><td>22</td><td>0.3692529</td><td>0.5074135</td><td>0.2981878</td><td>607</td><td>6000000</td></tr>\n",
       "\t<tr><td>aurilri01</td><td>206</td><td>37</td><td> 5</td><td>37</td><td>0.3688047</td><td>0.5723270</td><td>0.3238994</td><td>636</td><td>3250000</td></tr>\n",
       "\t<tr><td>glaustr01</td><td>147</td><td>38</td><td> 2</td><td>41</td><td>0.3672316</td><td>0.5306122</td><td>0.2500000</td><td>588</td><td>1250000</td></tr>\n",
       "\t<tr><td>beltrca01</td><td>189</td><td>32</td><td>12</td><td>24</td><td>0.3622975</td><td>0.5137763</td><td>0.3063209</td><td>617</td><td> 425000</td></tr>\n",
       "\t<tr><td>koskico01</td><td>155</td><td>37</td><td> 2</td><td>26</td><td>0.3620955</td><td>0.4875445</td><td>0.2758007</td><td>562</td><td> 300000</td></tr>\n",
       "\t<tr><td>vinafe01 </td><td>191</td><td>30</td><td> 8</td><td> 9</td><td>0.3566230</td><td>0.4183835</td><td>0.3026941</td><td>631</td><td>4333333</td></tr>\n",
       "\t<tr><td>eckstda01</td><td>166</td><td>26</td><td> 2</td><td> 4</td><td>0.3549383</td><td>0.3573883</td><td>0.2852234</td><td>582</td><td> 200000</td></tr>\n",
       "\t<tr><td>ramirar01</td><td>181</td><td>40</td><td> 0</td><td>34</td><td>0.3496183</td><td>0.5356551</td><td>0.3001658</td><td>603</td><td> 285000</td></tr>\n",
       "\t<tr><td>konerpa01</td><td>164</td><td>35</td><td> 0</td><td>32</td><td>0.3492308</td><td>0.5068729</td><td>0.2817869</td><td>582</td><td>2300000</td></tr>\n",
       "\t<tr><td>burnije01</td><td>141</td><td>32</td><td> 4</td><td>34</td><td>0.3471582</td><td>0.5035587</td><td>0.2508897</td><td>562</td><td>5512500</td></tr>\n",
       "\t<tr><td>leede02  </td><td>158</td><td>37</td><td> 4</td><td>21</td><td>0.3456000</td><td>0.4741533</td><td>0.2816399</td><td>561</td><td> 375000</td></tr>\n",
       "\t<tr><td>polanpl01</td><td>173</td><td>26</td><td> 4</td><td> 3</td><td>0.3422819</td><td>0.3829787</td><td>0.3067376</td><td>564</td><td> 320000</td></tr>\n",
       "\t<tr><td>sexsori01</td><td>162</td><td>24</td><td> 3</td><td>45</td><td>0.3418291</td><td>0.5468227</td><td>0.2709030</td><td>598</td><td>1125000</td></tr>\n",
       "\t<tr><td>leetr01  </td><td>143</td><td>34</td><td> 2</td><td>20</td><td>0.3411581</td><td>0.4342342</td><td>0.2576577</td><td>555</td><td> 800000</td></tr>\n",
       "\t<tr><td>lowelmi01</td><td>156</td><td>37</td><td> 0</td><td>18</td><td>0.3403909</td><td>0.4482759</td><td>0.2831216</td><td>551</td><td> 500000</td></tr>\n",
       "\t<tr><td>chaveer01</td><td>159</td><td>43</td><td> 0</td><td>32</td><td>0.3377483</td><td>0.5398551</td><td>0.2880435</td><td>552</td><td> 625000</td></tr>\n",
       "\t<tr><td>kendaja01</td><td>161</td><td>22</td><td> 2</td><td>10</td><td>0.3348214</td><td>0.3580858</td><td>0.2656766</td><td>606</td><td>5100000</td></tr>\n",
       "\t<tr><td>longte01 </td><td>178</td><td>37</td><td> 4</td><td>12</td><td>0.3347889</td><td>0.4117647</td><td>0.2829889</td><td>629</td><td> 240750</td></tr>\n",
       "\t<tr><td>younger01</td><td>168</td><td>43</td><td> 4</td><td> 6</td><td>0.3333333</td><td>0.3930348</td><td>0.2786070</td><td>603</td><td>4500000</td></tr>\n",
       "\t<tr><td>erstada01</td><td>163</td><td>35</td><td> 1</td><td> 9</td><td>0.3309859</td><td>0.3597464</td><td>0.2583201</td><td>631</td><td>3450000</td></tr>\n",
       "\t<tr><td>martiti02</td><td>165</td><td>24</td><td> 2</td><td>34</td><td>0.3291339</td><td>0.5008489</td><td>0.2801358</td><td>589</td><td>6300000</td></tr>\n",
       "\t<tr><td>cruzjo02 </td><td>158</td><td>38</td><td> 4</td><td>34</td><td>0.3264000</td><td>0.5303293</td><td>0.2738302</td><td>577</td><td>2350000</td></tr>\n",
       "\t<tr><td>tejadmi01</td><td>166</td><td>31</td><td> 3</td><td>31</td><td>0.3255132</td><td>0.4758842</td><td>0.2668810</td><td>622</td><td>2025000</td></tr>\n",
       "\t<tr><td>cabreor01</td><td>173</td><td>41</td><td> 6</td><td>14</td><td>0.3235294</td><td>0.4281150</td><td>0.2763578</td><td>626</td><td> 340000</td></tr>\n",
       "\t<tr><td>damonjo01</td><td>165</td><td>34</td><td> 4</td><td> 9</td><td>0.3235294</td><td>0.3633540</td><td>0.2562112</td><td>644</td><td>7100000</td></tr>\n",
       "\t<tr><td>rolliji01</td><td>180</td><td>29</td><td>12</td><td>14</td><td>0.3234880</td><td>0.4192073</td><td>0.2743902</td><td>656</td><td> 200000</td></tr>\n",
       "\t<tr><td>vizquom01</td><td>156</td><td>26</td><td> 8</td><td> 2</td><td>0.3230088</td><td>0.3338789</td><td>0.2553191</td><td>611</td><td>3000000</td></tr>\n",
       "\t<tr><td>easleda01</td><td>146</td><td>27</td><td> 7</td><td>11</td><td>0.3226300</td><td>0.3760684</td><td>0.2495726</td><td>585</td><td>5075000</td></tr>\n",
       "\t<tr><td>leeca01  </td><td>150</td><td>33</td><td> 3</td><td>24</td><td>0.3211921</td><td>0.4677419</td><td>0.2688172</td><td>558</td><td> 400000</td></tr>\n",
       "\t<tr><td>rivaslu01</td><td>150</td><td>21</td><td> 6</td><td> 7</td><td>0.3192182</td><td>0.3623446</td><td>0.2664298</td><td>563</td><td> 200000</td></tr>\n",
       "\t<tr><td>anderga01</td><td>194</td><td>39</td><td> 2</td><td>28</td><td>0.3139205</td><td>0.4776786</td><td>0.2886905</td><td>672</td><td>4500000</td></tr>\n",
       "\t<tr><td>randajo01</td><td>147</td><td>34</td><td> 2</td><td>13</td><td>0.3070866</td><td>0.3855422</td><td>0.2530120</td><td>581</td><td>2300000</td></tr>\n",
       "\t<tr><td>hunteto01</td><td>147</td><td>32</td><td> 5</td><td>27</td><td>0.3056478</td><td>0.4787234</td><td>0.2606383</td><td>564</td><td> 230000</td></tr>\n",
       "\t<tr><td>soriaal01</td><td>154</td><td>34</td><td> 3</td><td>18</td><td>0.3044190</td><td>0.4320557</td><td>0.2682927</td><td>574</td><td> 630000</td></tr>\n",
       "\t<tr><td>gonzaal01</td><td>161</td><td>25</td><td> 5</td><td>17</td><td>0.3031609</td><td>0.3883648</td><td>0.2531447</td><td>636</td><td>4250000</td></tr>\n",
       "\t<tr><td>glanvdo01</td><td>166</td><td>24</td><td> 3</td><td>14</td><td>0.2846386</td><td>0.3753943</td><td>0.2618297</td><td>634</td><td>3016667</td></tr>\n",
       "</tbody>\n",
       "</table>\n"
      ],
      "text/latex": [
       "A data.frame: 55 × 10\n",
       "\\begin{tabular}{llllllllll}\n",
       " playerID & H & X2B & X3B & HR & OBP & SLG & BA & AB & salary\\\\\n",
       " <fct> & <int> & <int> & <int> & <int> & <dbl> & <dbl> & <dbl> & <int> & <int>\\\\\n",
       "\\hline\n",
       "\t heltoto01 & 197 & 54 &  2 & 49 & 0.4316547 & 0.6848382 & 0.3356048 & 587 & 4950000\\\\\n",
       "\t berkmla01 & 191 & 55 &  5 & 34 & 0.4302326 & 0.6204506 & 0.3310225 & 577 &  305000\\\\\n",
       "\t gonzalu01 & 198 & 36 &  7 & 57 & 0.4285714 & 0.6880131 & 0.3251232 & 609 & 4833333\\\\\n",
       "\t alomaro01 & 193 & 34 & 12 & 20 & 0.4146707 & 0.5408696 & 0.3356522 & 575 & 7750000\\\\\n",
       "\t gilesbr02 & 178 & 37 &  7 & 37 & 0.4035608 & 0.5902778 & 0.3090278 & 576 & 7333333\\\\\n",
       "\t pujolal01 & 194 & 47 &  4 & 37 & 0.4029630 & 0.6101695 & 0.3288136 & 590 &  200000\\\\\n",
       "\t olerujo01 & 173 & 32 &  1 & 21 & 0.4011799 & 0.4720280 & 0.3024476 & 572 & 6700000\\\\\n",
       "\t bagweje01 & 173 & 43 &  4 & 39 & 0.3974895 & 0.5683333 & 0.2883333 & 600 & 6500000\\\\\n",
       "\t abreubo01 & 170 & 48 &  4 & 31 & 0.3934659 & 0.5425170 & 0.2891156 & 588 & 4983000\\\\\n",
       "\t floydcl01 & 176 & 44 &  4 & 31 & 0.3895072 & 0.5783784 & 0.3171171 & 555 & 5500000\\\\\n",
       "\t biggicr01 & 180 & 35 &  3 & 20 & 0.3821478 & 0.4554295 & 0.2917342 & 617 & 7750000\\\\\n",
       "\t ordonma01 & 181 & 40 &  1 & 31 & 0.3815201 & 0.5328836 & 0.3052277 & 593 & 3750000\\\\\n",
       "\t suzukic01 & 242 & 34 &  8 &  8 & 0.3814714 & 0.4566474 & 0.3497110 & 692 & 5666667\\\\\n",
       "\t rolensc01 & 160 & 39 &  1 & 25 & 0.3782542 & 0.4981949 & 0.2888087 & 554 & 5500000\\\\\n",
       "\t pierrju01 & 202 & 26 & 11 &  2 & 0.3781764 & 0.4149109 & 0.3273906 & 617 &  215000\\\\\n",
       "\t guerrvl01 & 184 & 45 &  4 & 34 & 0.3770492 & 0.5659432 & 0.3071786 & 599 & 6000000\\\\\n",
       "\t sweenmi01 & 170 & 46 &  0 & 29 & 0.3740095 & 0.5420394 & 0.3041145 & 559 & 5000000\\\\\n",
       "\t boonebr01 & 206 & 37 &  3 & 37 & 0.3722628 & 0.5778491 & 0.3306581 & 623 & 3250000\\\\\n",
       "\t stewash01 & 202 & 44 &  7 & 12 & 0.3710602 & 0.4625000 & 0.3156250 & 640 & 2183333\\\\\n",
       "\t kentje01  & 181 & 49 &  6 & 22 & 0.3692529 & 0.5074135 & 0.2981878 & 607 & 6000000\\\\\n",
       "\t aurilri01 & 206 & 37 &  5 & 37 & 0.3688047 & 0.5723270 & 0.3238994 & 636 & 3250000\\\\\n",
       "\t glaustr01 & 147 & 38 &  2 & 41 & 0.3672316 & 0.5306122 & 0.2500000 & 588 & 1250000\\\\\n",
       "\t beltrca01 & 189 & 32 & 12 & 24 & 0.3622975 & 0.5137763 & 0.3063209 & 617 &  425000\\\\\n",
       "\t koskico01 & 155 & 37 &  2 & 26 & 0.3620955 & 0.4875445 & 0.2758007 & 562 &  300000\\\\\n",
       "\t vinafe01  & 191 & 30 &  8 &  9 & 0.3566230 & 0.4183835 & 0.3026941 & 631 & 4333333\\\\\n",
       "\t eckstda01 & 166 & 26 &  2 &  4 & 0.3549383 & 0.3573883 & 0.2852234 & 582 &  200000\\\\\n",
       "\t ramirar01 & 181 & 40 &  0 & 34 & 0.3496183 & 0.5356551 & 0.3001658 & 603 &  285000\\\\\n",
       "\t konerpa01 & 164 & 35 &  0 & 32 & 0.3492308 & 0.5068729 & 0.2817869 & 582 & 2300000\\\\\n",
       "\t burnije01 & 141 & 32 &  4 & 34 & 0.3471582 & 0.5035587 & 0.2508897 & 562 & 5512500\\\\\n",
       "\t leede02   & 158 & 37 &  4 & 21 & 0.3456000 & 0.4741533 & 0.2816399 & 561 &  375000\\\\\n",
       "\t polanpl01 & 173 & 26 &  4 &  3 & 0.3422819 & 0.3829787 & 0.3067376 & 564 &  320000\\\\\n",
       "\t sexsori01 & 162 & 24 &  3 & 45 & 0.3418291 & 0.5468227 & 0.2709030 & 598 & 1125000\\\\\n",
       "\t leetr01   & 143 & 34 &  2 & 20 & 0.3411581 & 0.4342342 & 0.2576577 & 555 &  800000\\\\\n",
       "\t lowelmi01 & 156 & 37 &  0 & 18 & 0.3403909 & 0.4482759 & 0.2831216 & 551 &  500000\\\\\n",
       "\t chaveer01 & 159 & 43 &  0 & 32 & 0.3377483 & 0.5398551 & 0.2880435 & 552 &  625000\\\\\n",
       "\t kendaja01 & 161 & 22 &  2 & 10 & 0.3348214 & 0.3580858 & 0.2656766 & 606 & 5100000\\\\\n",
       "\t longte01  & 178 & 37 &  4 & 12 & 0.3347889 & 0.4117647 & 0.2829889 & 629 &  240750\\\\\n",
       "\t younger01 & 168 & 43 &  4 &  6 & 0.3333333 & 0.3930348 & 0.2786070 & 603 & 4500000\\\\\n",
       "\t erstada01 & 163 & 35 &  1 &  9 & 0.3309859 & 0.3597464 & 0.2583201 & 631 & 3450000\\\\\n",
       "\t martiti02 & 165 & 24 &  2 & 34 & 0.3291339 & 0.5008489 & 0.2801358 & 589 & 6300000\\\\\n",
       "\t cruzjo02  & 158 & 38 &  4 & 34 & 0.3264000 & 0.5303293 & 0.2738302 & 577 & 2350000\\\\\n",
       "\t tejadmi01 & 166 & 31 &  3 & 31 & 0.3255132 & 0.4758842 & 0.2668810 & 622 & 2025000\\\\\n",
       "\t cabreor01 & 173 & 41 &  6 & 14 & 0.3235294 & 0.4281150 & 0.2763578 & 626 &  340000\\\\\n",
       "\t damonjo01 & 165 & 34 &  4 &  9 & 0.3235294 & 0.3633540 & 0.2562112 & 644 & 7100000\\\\\n",
       "\t rolliji01 & 180 & 29 & 12 & 14 & 0.3234880 & 0.4192073 & 0.2743902 & 656 &  200000\\\\\n",
       "\t vizquom01 & 156 & 26 &  8 &  2 & 0.3230088 & 0.3338789 & 0.2553191 & 611 & 3000000\\\\\n",
       "\t easleda01 & 146 & 27 &  7 & 11 & 0.3226300 & 0.3760684 & 0.2495726 & 585 & 5075000\\\\\n",
       "\t leeca01   & 150 & 33 &  3 & 24 & 0.3211921 & 0.4677419 & 0.2688172 & 558 &  400000\\\\\n",
       "\t rivaslu01 & 150 & 21 &  6 &  7 & 0.3192182 & 0.3623446 & 0.2664298 & 563 &  200000\\\\\n",
       "\t anderga01 & 194 & 39 &  2 & 28 & 0.3139205 & 0.4776786 & 0.2886905 & 672 & 4500000\\\\\n",
       "\t randajo01 & 147 & 34 &  2 & 13 & 0.3070866 & 0.3855422 & 0.2530120 & 581 & 2300000\\\\\n",
       "\t hunteto01 & 147 & 32 &  5 & 27 & 0.3056478 & 0.4787234 & 0.2606383 & 564 &  230000\\\\\n",
       "\t soriaal01 & 154 & 34 &  3 & 18 & 0.3044190 & 0.4320557 & 0.2682927 & 574 &  630000\\\\\n",
       "\t gonzaal01 & 161 & 25 &  5 & 17 & 0.3031609 & 0.3883648 & 0.2531447 & 636 & 4250000\\\\\n",
       "\t glanvdo01 & 166 & 24 &  3 & 14 & 0.2846386 & 0.3753943 & 0.2618297 & 634 & 3016667\\\\\n",
       "\\end{tabular}\n"
      ],
      "text/markdown": [
       "\n",
       "A data.frame: 55 × 10\n",
       "\n",
       "| playerID &lt;fct&gt; | H &lt;int&gt; | X2B &lt;int&gt; | X3B &lt;int&gt; | HR &lt;int&gt; | OBP &lt;dbl&gt; | SLG &lt;dbl&gt; | BA &lt;dbl&gt; | AB &lt;int&gt; | salary &lt;int&gt; |\n",
       "|---|---|---|---|---|---|---|---|---|---|\n",
       "| heltoto01 | 197 | 54 |  2 | 49 | 0.4316547 | 0.6848382 | 0.3356048 | 587 | 4950000 |\n",
       "| berkmla01 | 191 | 55 |  5 | 34 | 0.4302326 | 0.6204506 | 0.3310225 | 577 |  305000 |\n",
       "| gonzalu01 | 198 | 36 |  7 | 57 | 0.4285714 | 0.6880131 | 0.3251232 | 609 | 4833333 |\n",
       "| alomaro01 | 193 | 34 | 12 | 20 | 0.4146707 | 0.5408696 | 0.3356522 | 575 | 7750000 |\n",
       "| gilesbr02 | 178 | 37 |  7 | 37 | 0.4035608 | 0.5902778 | 0.3090278 | 576 | 7333333 |\n",
       "| pujolal01 | 194 | 47 |  4 | 37 | 0.4029630 | 0.6101695 | 0.3288136 | 590 |  200000 |\n",
       "| olerujo01 | 173 | 32 |  1 | 21 | 0.4011799 | 0.4720280 | 0.3024476 | 572 | 6700000 |\n",
       "| bagweje01 | 173 | 43 |  4 | 39 | 0.3974895 | 0.5683333 | 0.2883333 | 600 | 6500000 |\n",
       "| abreubo01 | 170 | 48 |  4 | 31 | 0.3934659 | 0.5425170 | 0.2891156 | 588 | 4983000 |\n",
       "| floydcl01 | 176 | 44 |  4 | 31 | 0.3895072 | 0.5783784 | 0.3171171 | 555 | 5500000 |\n",
       "| biggicr01 | 180 | 35 |  3 | 20 | 0.3821478 | 0.4554295 | 0.2917342 | 617 | 7750000 |\n",
       "| ordonma01 | 181 | 40 |  1 | 31 | 0.3815201 | 0.5328836 | 0.3052277 | 593 | 3750000 |\n",
       "| suzukic01 | 242 | 34 |  8 |  8 | 0.3814714 | 0.4566474 | 0.3497110 | 692 | 5666667 |\n",
       "| rolensc01 | 160 | 39 |  1 | 25 | 0.3782542 | 0.4981949 | 0.2888087 | 554 | 5500000 |\n",
       "| pierrju01 | 202 | 26 | 11 |  2 | 0.3781764 | 0.4149109 | 0.3273906 | 617 |  215000 |\n",
       "| guerrvl01 | 184 | 45 |  4 | 34 | 0.3770492 | 0.5659432 | 0.3071786 | 599 | 6000000 |\n",
       "| sweenmi01 | 170 | 46 |  0 | 29 | 0.3740095 | 0.5420394 | 0.3041145 | 559 | 5000000 |\n",
       "| boonebr01 | 206 | 37 |  3 | 37 | 0.3722628 | 0.5778491 | 0.3306581 | 623 | 3250000 |\n",
       "| stewash01 | 202 | 44 |  7 | 12 | 0.3710602 | 0.4625000 | 0.3156250 | 640 | 2183333 |\n",
       "| kentje01  | 181 | 49 |  6 | 22 | 0.3692529 | 0.5074135 | 0.2981878 | 607 | 6000000 |\n",
       "| aurilri01 | 206 | 37 |  5 | 37 | 0.3688047 | 0.5723270 | 0.3238994 | 636 | 3250000 |\n",
       "| glaustr01 | 147 | 38 |  2 | 41 | 0.3672316 | 0.5306122 | 0.2500000 | 588 | 1250000 |\n",
       "| beltrca01 | 189 | 32 | 12 | 24 | 0.3622975 | 0.5137763 | 0.3063209 | 617 |  425000 |\n",
       "| koskico01 | 155 | 37 |  2 | 26 | 0.3620955 | 0.4875445 | 0.2758007 | 562 |  300000 |\n",
       "| vinafe01  | 191 | 30 |  8 |  9 | 0.3566230 | 0.4183835 | 0.3026941 | 631 | 4333333 |\n",
       "| eckstda01 | 166 | 26 |  2 |  4 | 0.3549383 | 0.3573883 | 0.2852234 | 582 |  200000 |\n",
       "| ramirar01 | 181 | 40 |  0 | 34 | 0.3496183 | 0.5356551 | 0.3001658 | 603 |  285000 |\n",
       "| konerpa01 | 164 | 35 |  0 | 32 | 0.3492308 | 0.5068729 | 0.2817869 | 582 | 2300000 |\n",
       "| burnije01 | 141 | 32 |  4 | 34 | 0.3471582 | 0.5035587 | 0.2508897 | 562 | 5512500 |\n",
       "| leede02   | 158 | 37 |  4 | 21 | 0.3456000 | 0.4741533 | 0.2816399 | 561 |  375000 |\n",
       "| polanpl01 | 173 | 26 |  4 |  3 | 0.3422819 | 0.3829787 | 0.3067376 | 564 |  320000 |\n",
       "| sexsori01 | 162 | 24 |  3 | 45 | 0.3418291 | 0.5468227 | 0.2709030 | 598 | 1125000 |\n",
       "| leetr01   | 143 | 34 |  2 | 20 | 0.3411581 | 0.4342342 | 0.2576577 | 555 |  800000 |\n",
       "| lowelmi01 | 156 | 37 |  0 | 18 | 0.3403909 | 0.4482759 | 0.2831216 | 551 |  500000 |\n",
       "| chaveer01 | 159 | 43 |  0 | 32 | 0.3377483 | 0.5398551 | 0.2880435 | 552 |  625000 |\n",
       "| kendaja01 | 161 | 22 |  2 | 10 | 0.3348214 | 0.3580858 | 0.2656766 | 606 | 5100000 |\n",
       "| longte01  | 178 | 37 |  4 | 12 | 0.3347889 | 0.4117647 | 0.2829889 | 629 |  240750 |\n",
       "| younger01 | 168 | 43 |  4 |  6 | 0.3333333 | 0.3930348 | 0.2786070 | 603 | 4500000 |\n",
       "| erstada01 | 163 | 35 |  1 |  9 | 0.3309859 | 0.3597464 | 0.2583201 | 631 | 3450000 |\n",
       "| martiti02 | 165 | 24 |  2 | 34 | 0.3291339 | 0.5008489 | 0.2801358 | 589 | 6300000 |\n",
       "| cruzjo02  | 158 | 38 |  4 | 34 | 0.3264000 | 0.5303293 | 0.2738302 | 577 | 2350000 |\n",
       "| tejadmi01 | 166 | 31 |  3 | 31 | 0.3255132 | 0.4758842 | 0.2668810 | 622 | 2025000 |\n",
       "| cabreor01 | 173 | 41 |  6 | 14 | 0.3235294 | 0.4281150 | 0.2763578 | 626 |  340000 |\n",
       "| damonjo01 | 165 | 34 |  4 |  9 | 0.3235294 | 0.3633540 | 0.2562112 | 644 | 7100000 |\n",
       "| rolliji01 | 180 | 29 | 12 | 14 | 0.3234880 | 0.4192073 | 0.2743902 | 656 |  200000 |\n",
       "| vizquom01 | 156 | 26 |  8 |  2 | 0.3230088 | 0.3338789 | 0.2553191 | 611 | 3000000 |\n",
       "| easleda01 | 146 | 27 |  7 | 11 | 0.3226300 | 0.3760684 | 0.2495726 | 585 | 5075000 |\n",
       "| leeca01   | 150 | 33 |  3 | 24 | 0.3211921 | 0.4677419 | 0.2688172 | 558 |  400000 |\n",
       "| rivaslu01 | 150 | 21 |  6 |  7 | 0.3192182 | 0.3623446 | 0.2664298 | 563 |  200000 |\n",
       "| anderga01 | 194 | 39 |  2 | 28 | 0.3139205 | 0.4776786 | 0.2886905 | 672 | 4500000 |\n",
       "| randajo01 | 147 | 34 |  2 | 13 | 0.3070866 | 0.3855422 | 0.2530120 | 581 | 2300000 |\n",
       "| hunteto01 | 147 | 32 |  5 | 27 | 0.3056478 | 0.4787234 | 0.2606383 | 564 |  230000 |\n",
       "| soriaal01 | 154 | 34 |  3 | 18 | 0.3044190 | 0.4320557 | 0.2682927 | 574 |  630000 |\n",
       "| gonzaal01 | 161 | 25 |  5 | 17 | 0.3031609 | 0.3883648 | 0.2531447 | 636 | 4250000 |\n",
       "| glanvdo01 | 166 | 24 |  3 | 14 | 0.2846386 | 0.3753943 | 0.2618297 | 634 | 3016667 |\n",
       "\n"
      ],
      "text/plain": [
       "   playerID  H   X2B X3B HR OBP       SLG       BA        AB  salary \n",
       "1  heltoto01 197 54   2  49 0.4316547 0.6848382 0.3356048 587 4950000\n",
       "2  berkmla01 191 55   5  34 0.4302326 0.6204506 0.3310225 577  305000\n",
       "3  gonzalu01 198 36   7  57 0.4285714 0.6880131 0.3251232 609 4833333\n",
       "4  alomaro01 193 34  12  20 0.4146707 0.5408696 0.3356522 575 7750000\n",
       "5  gilesbr02 178 37   7  37 0.4035608 0.5902778 0.3090278 576 7333333\n",
       "6  pujolal01 194 47   4  37 0.4029630 0.6101695 0.3288136 590  200000\n",
       "7  olerujo01 173 32   1  21 0.4011799 0.4720280 0.3024476 572 6700000\n",
       "8  bagweje01 173 43   4  39 0.3974895 0.5683333 0.2883333 600 6500000\n",
       "9  abreubo01 170 48   4  31 0.3934659 0.5425170 0.2891156 588 4983000\n",
       "10 floydcl01 176 44   4  31 0.3895072 0.5783784 0.3171171 555 5500000\n",
       "11 biggicr01 180 35   3  20 0.3821478 0.4554295 0.2917342 617 7750000\n",
       "12 ordonma01 181 40   1  31 0.3815201 0.5328836 0.3052277 593 3750000\n",
       "13 suzukic01 242 34   8   8 0.3814714 0.4566474 0.3497110 692 5666667\n",
       "14 rolensc01 160 39   1  25 0.3782542 0.4981949 0.2888087 554 5500000\n",
       "15 pierrju01 202 26  11   2 0.3781764 0.4149109 0.3273906 617  215000\n",
       "16 guerrvl01 184 45   4  34 0.3770492 0.5659432 0.3071786 599 6000000\n",
       "17 sweenmi01 170 46   0  29 0.3740095 0.5420394 0.3041145 559 5000000\n",
       "18 boonebr01 206 37   3  37 0.3722628 0.5778491 0.3306581 623 3250000\n",
       "19 stewash01 202 44   7  12 0.3710602 0.4625000 0.3156250 640 2183333\n",
       "20 kentje01  181 49   6  22 0.3692529 0.5074135 0.2981878 607 6000000\n",
       "21 aurilri01 206 37   5  37 0.3688047 0.5723270 0.3238994 636 3250000\n",
       "22 glaustr01 147 38   2  41 0.3672316 0.5306122 0.2500000 588 1250000\n",
       "23 beltrca01 189 32  12  24 0.3622975 0.5137763 0.3063209 617  425000\n",
       "24 koskico01 155 37   2  26 0.3620955 0.4875445 0.2758007 562  300000\n",
       "25 vinafe01  191 30   8   9 0.3566230 0.4183835 0.3026941 631 4333333\n",
       "26 eckstda01 166 26   2   4 0.3549383 0.3573883 0.2852234 582  200000\n",
       "27 ramirar01 181 40   0  34 0.3496183 0.5356551 0.3001658 603  285000\n",
       "28 konerpa01 164 35   0  32 0.3492308 0.5068729 0.2817869 582 2300000\n",
       "29 burnije01 141 32   4  34 0.3471582 0.5035587 0.2508897 562 5512500\n",
       "30 leede02   158 37   4  21 0.3456000 0.4741533 0.2816399 561  375000\n",
       "31 polanpl01 173 26   4   3 0.3422819 0.3829787 0.3067376 564  320000\n",
       "32 sexsori01 162 24   3  45 0.3418291 0.5468227 0.2709030 598 1125000\n",
       "33 leetr01   143 34   2  20 0.3411581 0.4342342 0.2576577 555  800000\n",
       "34 lowelmi01 156 37   0  18 0.3403909 0.4482759 0.2831216 551  500000\n",
       "35 chaveer01 159 43   0  32 0.3377483 0.5398551 0.2880435 552  625000\n",
       "36 kendaja01 161 22   2  10 0.3348214 0.3580858 0.2656766 606 5100000\n",
       "37 longte01  178 37   4  12 0.3347889 0.4117647 0.2829889 629  240750\n",
       "38 younger01 168 43   4   6 0.3333333 0.3930348 0.2786070 603 4500000\n",
       "39 erstada01 163 35   1   9 0.3309859 0.3597464 0.2583201 631 3450000\n",
       "40 martiti02 165 24   2  34 0.3291339 0.5008489 0.2801358 589 6300000\n",
       "41 cruzjo02  158 38   4  34 0.3264000 0.5303293 0.2738302 577 2350000\n",
       "42 tejadmi01 166 31   3  31 0.3255132 0.4758842 0.2668810 622 2025000\n",
       "43 cabreor01 173 41   6  14 0.3235294 0.4281150 0.2763578 626  340000\n",
       "44 damonjo01 165 34   4   9 0.3235294 0.3633540 0.2562112 644 7100000\n",
       "45 rolliji01 180 29  12  14 0.3234880 0.4192073 0.2743902 656  200000\n",
       "46 vizquom01 156 26   8   2 0.3230088 0.3338789 0.2553191 611 3000000\n",
       "47 easleda01 146 27   7  11 0.3226300 0.3760684 0.2495726 585 5075000\n",
       "48 leeca01   150 33   3  24 0.3211921 0.4677419 0.2688172 558  400000\n",
       "49 rivaslu01 150 21   6   7 0.3192182 0.3623446 0.2664298 563  200000\n",
       "50 anderga01 194 39   2  28 0.3139205 0.4776786 0.2886905 672 4500000\n",
       "51 randajo01 147 34   2  13 0.3070866 0.3855422 0.2530120 581 2300000\n",
       "52 hunteto01 147 32   5  27 0.3056478 0.4787234 0.2606383 564  230000\n",
       "53 soriaal01 154 34   3  18 0.3044190 0.4320557 0.2682927 574  630000\n",
       "54 gonzaal01 161 25   5  17 0.3031609 0.3883648 0.2531447 636 4250000\n",
       "55 glanvdo01 166 24   3  14 0.2846386 0.3753943 0.2618297 634 3016667"
      ]
     },
     "metadata": {},
     "output_type": "display_data"
    },
    {
     "data": {
      "text/html": [
       "<table>\n",
       "<caption>A data.frame: 3 × 10</caption>\n",
       "<thead>\n",
       "\t<tr><th></th><th scope=col>playerID</th><th scope=col>H</th><th scope=col>X2B</th><th scope=col>X3B</th><th scope=col>HR</th><th scope=col>OBP</th><th scope=col>SLG</th><th scope=col>BA</th><th scope=col>AB</th><th scope=col>salary</th></tr>\n",
       "\t<tr><th></th><th scope=col>&lt;fct&gt;</th><th scope=col>&lt;int&gt;</th><th scope=col>&lt;int&gt;</th><th scope=col>&lt;int&gt;</th><th scope=col>&lt;int&gt;</th><th scope=col>&lt;dbl&gt;</th><th scope=col>&lt;dbl&gt;</th><th scope=col>&lt;dbl&gt;</th><th scope=col>&lt;int&gt;</th><th scope=col>&lt;int&gt;</th></tr>\n",
       "</thead>\n",
       "<tbody>\n",
       "\t<tr><th scope=row>5141</th><td>damonjo01</td><td>165</td><td>34</td><td>4</td><td> 9</td><td>0.3235294</td><td>0.3633540</td><td>0.2562112</td><td>644</td><td>7100000</td></tr>\n",
       "\t<tr><th scope=row>7878</th><td>giambja01</td><td>178</td><td>47</td><td>2</td><td>38</td><td>0.4769001</td><td>0.6596154</td><td>0.3423077</td><td>520</td><td>4103333</td></tr>\n",
       "\t<tr><th scope=row>20114</th><td>saenzol01</td><td> 67</td><td>21</td><td>1</td><td> 9</td><td>0.2911765</td><td>0.3836066</td><td>0.2196721</td><td>305</td><td> 290000</td></tr>\n",
       "</tbody>\n",
       "</table>\n"
      ],
      "text/latex": [
       "A data.frame: 3 × 10\n",
       "\\begin{tabular}{r|llllllllll}\n",
       "  & playerID & H & X2B & X3B & HR & OBP & SLG & BA & AB & salary\\\\\n",
       "  & <fct> & <int> & <int> & <int> & <int> & <dbl> & <dbl> & <dbl> & <int> & <int>\\\\\n",
       "\\hline\n",
       "\t5141 & damonjo01 & 165 & 34 & 4 &  9 & 0.3235294 & 0.3633540 & 0.2562112 & 644 & 7100000\\\\\n",
       "\t7878 & giambja01 & 178 & 47 & 2 & 38 & 0.4769001 & 0.6596154 & 0.3423077 & 520 & 4103333\\\\\n",
       "\t20114 & saenzol01 &  67 & 21 & 1 &  9 & 0.2911765 & 0.3836066 & 0.2196721 & 305 &  290000\\\\\n",
       "\\end{tabular}\n"
      ],
      "text/markdown": [
       "\n",
       "A data.frame: 3 × 10\n",
       "\n",
       "| <!--/--> | playerID &lt;fct&gt; | H &lt;int&gt; | X2B &lt;int&gt; | X3B &lt;int&gt; | HR &lt;int&gt; | OBP &lt;dbl&gt; | SLG &lt;dbl&gt; | BA &lt;dbl&gt; | AB &lt;int&gt; | salary &lt;int&gt; |\n",
       "|---|---|---|---|---|---|---|---|---|---|---|\n",
       "| 5141 | damonjo01 | 165 | 34 | 4 |  9 | 0.3235294 | 0.3633540 | 0.2562112 | 644 | 7100000 |\n",
       "| 7878 | giambja01 | 178 | 47 | 2 | 38 | 0.4769001 | 0.6596154 | 0.3423077 | 520 | 4103333 |\n",
       "| 20114 | saenzol01 |  67 | 21 | 1 |  9 | 0.2911765 | 0.3836066 | 0.2196721 | 305 |  290000 |\n",
       "\n"
      ],
      "text/plain": [
       "      playerID  H   X2B X3B HR OBP       SLG       BA        AB  salary \n",
       "5141  damonjo01 165 34  4    9 0.3235294 0.3633540 0.2562112 644 7100000\n",
       "7878  giambja01 178 47  2   38 0.4769001 0.6596154 0.3423077 520 4103333\n",
       "20114 saenzol01  67 21  1    9 0.2911765 0.3836066 0.2196721 305  290000"
      ]
     },
     "metadata": {},
     "output_type": "display_data"
    }
   ],
   "source": [
    "possible <- arrange(available.players,desc(OBP))\n",
    "possible <- possible[,important.columns]\n",
    "possible\n",
    "\n",
    "lost_players <- lost_players[, important.columns]\n",
    "lost_players"
   ]
  },
  {
   "cell_type": "code",
   "execution_count": 25,
   "metadata": {},
   "outputs": [
    {
     "data": {
      "text/html": [
       "<table>\n",
       "<caption>A data.frame: 3 × 10</caption>\n",
       "<thead>\n",
       "\t<tr><th></th><th scope=col>playerID</th><th scope=col>H</th><th scope=col>X2B</th><th scope=col>X3B</th><th scope=col>HR</th><th scope=col>OBP</th><th scope=col>SLG</th><th scope=col>BA</th><th scope=col>AB</th><th scope=col>salary</th></tr>\n",
       "\t<tr><th></th><th scope=col>&lt;fct&gt;</th><th scope=col>&lt;int&gt;</th><th scope=col>&lt;int&gt;</th><th scope=col>&lt;int&gt;</th><th scope=col>&lt;int&gt;</th><th scope=col>&lt;dbl&gt;</th><th scope=col>&lt;dbl&gt;</th><th scope=col>&lt;dbl&gt;</th><th scope=col>&lt;int&gt;</th><th scope=col>&lt;int&gt;</th></tr>\n",
       "</thead>\n",
       "<tbody>\n",
       "\t<tr><th scope=row>1</th><td>heltoto01</td><td>197</td><td>54</td><td>2</td><td>49</td><td>0.4316547</td><td>0.6848382</td><td>0.3356048</td><td>587</td><td>4950000</td></tr>\n",
       "\t<tr><th scope=row>2</th><td>berkmla01</td><td>191</td><td>55</td><td>5</td><td>34</td><td>0.4302326</td><td>0.6204506</td><td>0.3310225</td><td>577</td><td> 305000</td></tr>\n",
       "\t<tr><th scope=row>3</th><td>gonzalu01</td><td>198</td><td>36</td><td>7</td><td>57</td><td>0.4285714</td><td>0.6880131</td><td>0.3251232</td><td>609</td><td>4833333</td></tr>\n",
       "</tbody>\n",
       "</table>\n"
      ],
      "text/latex": [
       "A data.frame: 3 × 10\n",
       "\\begin{tabular}{r|llllllllll}\n",
       "  & playerID & H & X2B & X3B & HR & OBP & SLG & BA & AB & salary\\\\\n",
       "  & <fct> & <int> & <int> & <int> & <int> & <dbl> & <dbl> & <dbl> & <int> & <int>\\\\\n",
       "\\hline\n",
       "\t1 & heltoto01 & 197 & 54 & 2 & 49 & 0.4316547 & 0.6848382 & 0.3356048 & 587 & 4950000\\\\\n",
       "\t2 & berkmla01 & 191 & 55 & 5 & 34 & 0.4302326 & 0.6204506 & 0.3310225 & 577 &  305000\\\\\n",
       "\t3 & gonzalu01 & 198 & 36 & 7 & 57 & 0.4285714 & 0.6880131 & 0.3251232 & 609 & 4833333\\\\\n",
       "\\end{tabular}\n"
      ],
      "text/markdown": [
       "\n",
       "A data.frame: 3 × 10\n",
       "\n",
       "| <!--/--> | playerID &lt;fct&gt; | H &lt;int&gt; | X2B &lt;int&gt; | X3B &lt;int&gt; | HR &lt;int&gt; | OBP &lt;dbl&gt; | SLG &lt;dbl&gt; | BA &lt;dbl&gt; | AB &lt;int&gt; | salary &lt;int&gt; |\n",
       "|---|---|---|---|---|---|---|---|---|---|---|\n",
       "| 1 | heltoto01 | 197 | 54 | 2 | 49 | 0.4316547 | 0.6848382 | 0.3356048 | 587 | 4950000 |\n",
       "| 2 | berkmla01 | 191 | 55 | 5 | 34 | 0.4302326 | 0.6204506 | 0.3310225 | 577 |  305000 |\n",
       "| 3 | gonzalu01 | 198 | 36 | 7 | 57 | 0.4285714 | 0.6880131 | 0.3251232 | 609 | 4833333 |\n",
       "\n"
      ],
      "text/plain": [
       "  playerID  H   X2B X3B HR OBP       SLG       BA        AB  salary \n",
       "1 heltoto01 197 54  2   49 0.4316547 0.6848382 0.3356048 587 4950000\n",
       "2 berkmla01 191 55  5   34 0.4302326 0.6204506 0.3310225 577  305000\n",
       "3 gonzalu01 198 36  7   57 0.4285714 0.6880131 0.3251232 609 4833333"
      ]
     },
     "metadata": {},
     "output_type": "display_data"
    },
    {
     "data": {
      "text/html": [
       "<table>\n",
       "<caption>A data.frame: 3 × 10</caption>\n",
       "<thead>\n",
       "\t<tr><th></th><th scope=col>playerID</th><th scope=col>H</th><th scope=col>X2B</th><th scope=col>X3B</th><th scope=col>HR</th><th scope=col>OBP</th><th scope=col>SLG</th><th scope=col>BA</th><th scope=col>AB</th><th scope=col>salary</th></tr>\n",
       "\t<tr><th></th><th scope=col>&lt;fct&gt;</th><th scope=col>&lt;int&gt;</th><th scope=col>&lt;int&gt;</th><th scope=col>&lt;int&gt;</th><th scope=col>&lt;int&gt;</th><th scope=col>&lt;dbl&gt;</th><th scope=col>&lt;dbl&gt;</th><th scope=col>&lt;dbl&gt;</th><th scope=col>&lt;int&gt;</th><th scope=col>&lt;int&gt;</th></tr>\n",
       "</thead>\n",
       "<tbody>\n",
       "\t<tr><th scope=row>5141</th><td>damonjo01</td><td>165</td><td>34</td><td>4</td><td> 9</td><td>0.3235294</td><td>0.3633540</td><td>0.2562112</td><td>644</td><td>7100000</td></tr>\n",
       "\t<tr><th scope=row>7878</th><td>giambja01</td><td>178</td><td>47</td><td>2</td><td>38</td><td>0.4769001</td><td>0.6596154</td><td>0.3423077</td><td>520</td><td>4103333</td></tr>\n",
       "\t<tr><th scope=row>20114</th><td>saenzol01</td><td> 67</td><td>21</td><td>1</td><td> 9</td><td>0.2911765</td><td>0.3836066</td><td>0.2196721</td><td>305</td><td> 290000</td></tr>\n",
       "</tbody>\n",
       "</table>\n"
      ],
      "text/latex": [
       "A data.frame: 3 × 10\n",
       "\\begin{tabular}{r|llllllllll}\n",
       "  & playerID & H & X2B & X3B & HR & OBP & SLG & BA & AB & salary\\\\\n",
       "  & <fct> & <int> & <int> & <int> & <int> & <dbl> & <dbl> & <dbl> & <int> & <int>\\\\\n",
       "\\hline\n",
       "\t5141 & damonjo01 & 165 & 34 & 4 &  9 & 0.3235294 & 0.3633540 & 0.2562112 & 644 & 7100000\\\\\n",
       "\t7878 & giambja01 & 178 & 47 & 2 & 38 & 0.4769001 & 0.6596154 & 0.3423077 & 520 & 4103333\\\\\n",
       "\t20114 & saenzol01 &  67 & 21 & 1 &  9 & 0.2911765 & 0.3836066 & 0.2196721 & 305 &  290000\\\\\n",
       "\\end{tabular}\n"
      ],
      "text/markdown": [
       "\n",
       "A data.frame: 3 × 10\n",
       "\n",
       "| <!--/--> | playerID &lt;fct&gt; | H &lt;int&gt; | X2B &lt;int&gt; | X3B &lt;int&gt; | HR &lt;int&gt; | OBP &lt;dbl&gt; | SLG &lt;dbl&gt; | BA &lt;dbl&gt; | AB &lt;int&gt; | salary &lt;int&gt; |\n",
       "|---|---|---|---|---|---|---|---|---|---|---|\n",
       "| 5141 | damonjo01 | 165 | 34 | 4 |  9 | 0.3235294 | 0.3633540 | 0.2562112 | 644 | 7100000 |\n",
       "| 7878 | giambja01 | 178 | 47 | 2 | 38 | 0.4769001 | 0.6596154 | 0.3423077 | 520 | 4103333 |\n",
       "| 20114 | saenzol01 |  67 | 21 | 1 |  9 | 0.2911765 | 0.3836066 | 0.2196721 | 305 |  290000 |\n",
       "\n"
      ],
      "text/plain": [
       "      playerID  H   X2B X3B HR OBP       SLG       BA        AB  salary \n",
       "5141  damonjo01 165 34  4    9 0.3235294 0.3633540 0.2562112 644 7100000\n",
       "7878  giambja01 178 47  2   38 0.4769001 0.6596154 0.3423077 520 4103333\n",
       "20114 saenzol01  67 21  1    9 0.2911765 0.3836066 0.2196721 305  290000"
      ]
     },
     "metadata": {},
     "output_type": "display_data"
    },
    {
     "name": "stdout",
     "output_type": "stream",
     "text": [
      "[1] \"New Possibly Players Salary\"\n"
     ]
    },
    {
     "data": {
      "text/html": [
       "$10,088,333"
      ],
      "text/latex": [
       "\\$10,088,333"
      ],
      "text/markdown": [
       "$10,088,333"
      ],
      "text/plain": [
       "[1] $10,088,333"
      ]
     },
     "metadata": {},
     "output_type": "display_data"
    },
    {
     "name": "stdout",
     "output_type": "stream",
     "text": [
      "[1] \"Lost Players Salary\"\n"
     ]
    },
    {
     "data": {
      "text/html": [
       "$11,493,333"
      ],
      "text/latex": [
       "\\$11,493,333"
      ],
      "text/markdown": [
       "$11,493,333"
      ],
      "text/plain": [
       "[1] $11,493,333"
      ]
     },
     "metadata": {},
     "output_type": "display_data"
    },
    {
     "name": "stdout",
     "output_type": "stream",
     "text": [
      "[1] \"Salary Condition Met?\"\n"
     ]
    },
    {
     "data": {
      "text/html": [
       "TRUE"
      ],
      "text/latex": [
       "TRUE"
      ],
      "text/markdown": [
       "TRUE"
      ],
      "text/plain": [
       "[1] TRUE"
      ]
     },
     "metadata": {},
     "output_type": "display_data"
    },
    {
     "name": "stdout",
     "output_type": "stream",
     "text": [
      "[1] \"New Possibly Players Total AB\"\n"
     ]
    },
    {
     "data": {
      "text/html": [
       "1773"
      ],
      "text/latex": [
       "1773"
      ],
      "text/markdown": [
       "1773"
      ],
      "text/plain": [
       "[1] 1773"
      ]
     },
     "metadata": {},
     "output_type": "display_data"
    },
    {
     "name": "stdout",
     "output_type": "stream",
     "text": [
      "[1] \"Lost Players Total AB\"\n"
     ]
    },
    {
     "data": {
      "text/html": [
       "1469"
      ],
      "text/latex": [
       "1469"
      ],
      "text/markdown": [
       "1469"
      ],
      "text/plain": [
       "[1] 1469"
      ]
     },
     "metadata": {},
     "output_type": "display_data"
    },
    {
     "name": "stdout",
     "output_type": "stream",
     "text": [
      "[1] \"Total AB Condition Met?\"\n"
     ]
    },
    {
     "data": {
      "text/html": [
       "TRUE"
      ],
      "text/latex": [
       "TRUE"
      ],
      "text/markdown": [
       "TRUE"
      ],
      "text/plain": [
       "[1] TRUE"
      ]
     },
     "metadata": {},
     "output_type": "display_data"
    },
    {
     "name": "stdout",
     "output_type": "stream",
     "text": [
      "[1] \"New Possibly Players Average OBP\"\n"
     ]
    },
    {
     "data": {
      "text/html": [
       "0.430152887656652"
      ],
      "text/latex": [
       "0.430152887656652"
      ],
      "text/markdown": [
       "0.430152887656652"
      ],
      "text/plain": [
       "[1] 0.4301529"
      ]
     },
     "metadata": {},
     "output_type": "display_data"
    },
    {
     "name": "stdout",
     "output_type": "stream",
     "text": [
      "[1] \"Lost Players OBP\"\n"
     ]
    },
    {
     "data": {
      "text/html": [
       "0.363868677128079"
      ],
      "text/latex": [
       "0.363868677128079"
      ],
      "text/markdown": [
       "0.363868677128079"
      ],
      "text/plain": [
       "[1] 0.3638687"
      ]
     },
     "metadata": {},
     "output_type": "display_data"
    },
    {
     "name": "stdout",
     "output_type": "stream",
     "text": [
      "[1] \"OBP Condition Met?\"\n"
     ]
    },
    {
     "data": {
      "text/html": [
       "TRUE"
      ],
      "text/latex": [
       "TRUE"
      ],
      "text/markdown": [
       "TRUE"
      ],
      "text/plain": [
       "[1] TRUE"
      ]
     },
     "metadata": {},
     "output_type": "display_data"
    }
   ],
   "source": [
    "possible[1:3,]\n",
    "lost_players\n",
    "\n",
    "print(\"New Possibly Players Salary\")\n",
    "currency(sum(possible[1:3,10]), digits = 0L)\n",
    "\n",
    "print(\"Lost Players Salary\")\n",
    "currency(sum(lost_players[,10]), digits = 0L)\n",
    "\n",
    "print(\"Salary Condition Met?\")\n",
    "sum(possible[1:3,10]) < sum(lost_players[,10])\n",
    "\n",
    "print(\"New Possibly Players Total AB\")\n",
    "sum(possible[1:3,9])\n",
    "\n",
    "print(\"Lost Players Total AB\")\n",
    "sum(lost_players[,9])\n",
    "\n",
    "print(\"Total AB Condition Met?\")\n",
    "\n",
    "sum(possible[1:3,9]) > sum(lost_players[,9])\n",
    "\n",
    "\n",
    "print(\"New Possibly Players Average OBP\")\n",
    "mean(possible[1:3,6])\n",
    "\n",
    "print(\"Lost Players OBP\")\n",
    "mean(lost_players[,6])\n",
    "\n",
    "print(\"OBP Condition Met?\")\n",
    "\n",
    "mean(possible[1:3,6]) > mean(lost_players[,6])"
   ]
  }
 ],
 "metadata": {
  "kernelspec": {
   "display_name": "R",
   "language": "R",
   "name": "ir"
  },
  "language_info": {
   "codemirror_mode": "r",
   "file_extension": ".r",
   "mimetype": "text/x-r-source",
   "name": "R",
   "pygments_lexer": "r",
   "version": "3.6.1"
  }
 },
 "nbformat": 4,
 "nbformat_minor": 4
}
