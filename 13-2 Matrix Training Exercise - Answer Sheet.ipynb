{
 "cells": [
  {
   "cell_type": "markdown",
   "metadata": {},
   "source": [
    "# R Matrix Exercises\n",
    "\n",
    "#### 1) Create 2 vectors A and B, where A is (1,2,3) and B is (4,5,6). With these vectors, use the cbind() and rbind() function to create a 2 by 3 matrix from the vectors. You'll need to figure out which of these binding functions are the correct choice"
   ]
  },
  {
   "cell_type": "code",
   "execution_count": 1,
   "metadata": {},
   "outputs": [
    {
     "data": {
      "text/html": [
       "<table>\n",
       "<caption>A matrix: 2 × 3 of type int</caption>\n",
       "<tbody>\n",
       "\t<tr><th scope=row>A</th><td>1</td><td>2</td><td>3</td></tr>\n",
       "\t<tr><th scope=row>B</th><td>4</td><td>5</td><td>6</td></tr>\n",
       "</tbody>\n",
       "</table>\n"
      ],
      "text/latex": [
       "A matrix: 2 × 3 of type int\n",
       "\\begin{tabular}{r|lll}\n",
       "\tA & 1 & 2 & 3\\\\\n",
       "\tB & 4 & 5 & 6\\\\\n",
       "\\end{tabular}\n"
      ],
      "text/markdown": [
       "\n",
       "A matrix: 2 × 3 of type int\n",
       "\n",
       "| A | 1 | 2 | 3 |\n",
       "| B | 4 | 5 | 6 |\n",
       "\n"
      ],
      "text/plain": [
       "  [,1] [,2] [,3]\n",
       "A 1    2    3   \n",
       "B 4    5    6   "
      ]
     },
     "metadata": {},
     "output_type": "display_data"
    }
   ],
   "source": []
  },
  {
   "cell_type": "markdown",
   "metadata": {},
   "source": [
    "#### 2) Create a 3 x 3 matrix consisting of the numbers 1-9. Create this matrix using the short cut 1:9 and by specifying the nrow argument in the matrix() function call. Assign this matrix to the variable 'mat' confirm that you created a matrix using the is.matrix() function call"
   ]
  },
  {
   "cell_type": "code",
   "execution_count": 2,
   "metadata": {},
   "outputs": [
    {
     "data": {
      "text/html": [
       "<table>\n",
       "<caption>A matrix: 3 × 3 of type int</caption>\n",
       "<tbody>\n",
       "\t<tr><td>1</td><td>2</td><td>3</td></tr>\n",
       "\t<tr><td>4</td><td>5</td><td>6</td></tr>\n",
       "\t<tr><td>7</td><td>8</td><td>9</td></tr>\n",
       "</tbody>\n",
       "</table>\n"
      ],
      "text/latex": [
       "A matrix: 3 × 3 of type int\n",
       "\\begin{tabular}{lll}\n",
       "\t 1 & 2 & 3\\\\\n",
       "\t 4 & 5 & 6\\\\\n",
       "\t 7 & 8 & 9\\\\\n",
       "\\end{tabular}\n"
      ],
      "text/markdown": [
       "\n",
       "A matrix: 3 × 3 of type int\n",
       "\n",
       "| 1 | 2 | 3 |\n",
       "| 4 | 5 | 6 |\n",
       "| 7 | 8 | 9 |\n",
       "\n"
      ],
      "text/plain": [
       "     [,1] [,2] [,3]\n",
       "[1,] 1    2    3   \n",
       "[2,] 4    5    6   \n",
       "[3,] 7    8    9   "
      ]
     },
     "metadata": {},
     "output_type": "display_data"
    },
    {
     "data": {
      "text/html": [
       "TRUE"
      ],
      "text/latex": [
       "TRUE"
      ],
      "text/markdown": [
       "TRUE"
      ],
      "text/plain": [
       "[1] TRUE"
      ]
     },
     "metadata": {},
     "output_type": "display_data"
    }
   ],
   "source": []
  },
  {
   "cell_type": "markdown",
   "metadata": {},
   "source": [
    "#### 3) Create a 5 x 5 matrix consisting of the numbers 1-25 and assign it to the variable 'mat2'. The top row should be 1-5"
   ]
  },
  {
   "cell_type": "code",
   "execution_count": 3,
   "metadata": {},
   "outputs": [
    {
     "data": {
      "text/html": [
       "<table>\n",
       "<caption>A matrix: 5 × 5 of type int</caption>\n",
       "<tbody>\n",
       "\t<tr><td> 1</td><td> 2</td><td> 3</td><td> 4</td><td> 5</td></tr>\n",
       "\t<tr><td> 6</td><td> 7</td><td> 8</td><td> 9</td><td>10</td></tr>\n",
       "\t<tr><td>11</td><td>12</td><td>13</td><td>14</td><td>15</td></tr>\n",
       "\t<tr><td>16</td><td>17</td><td>18</td><td>19</td><td>20</td></tr>\n",
       "\t<tr><td>21</td><td>22</td><td>23</td><td>24</td><td>25</td></tr>\n",
       "</tbody>\n",
       "</table>\n"
      ],
      "text/latex": [
       "A matrix: 5 × 5 of type int\n",
       "\\begin{tabular}{lllll}\n",
       "\t  1 &  2 &  3 &  4 &  5\\\\\n",
       "\t  6 &  7 &  8 &  9 & 10\\\\\n",
       "\t 11 & 12 & 13 & 14 & 15\\\\\n",
       "\t 16 & 17 & 18 & 19 & 20\\\\\n",
       "\t 21 & 22 & 23 & 24 & 25\\\\\n",
       "\\end{tabular}\n"
      ],
      "text/markdown": [
       "\n",
       "A matrix: 5 × 5 of type int\n",
       "\n",
       "|  1 |  2 |  3 |  4 |  5 |\n",
       "|  6 |  7 |  8 |  9 | 10 |\n",
       "| 11 | 12 | 13 | 14 | 15 |\n",
       "| 16 | 17 | 18 | 19 | 20 |\n",
       "| 21 | 22 | 23 | 24 | 25 |\n",
       "\n"
      ],
      "text/plain": [
       "     [,1] [,2] [,3] [,4] [,5]\n",
       "[1,]  1    2    3    4    5  \n",
       "[2,]  6    7    8    9   10  \n",
       "[3,] 11   12   13   14   15  \n",
       "[4,] 16   17   18   19   20  \n",
       "[5,] 21   22   23   24   25  "
      ]
     },
     "metadata": {},
     "output_type": "display_data"
    }
   ],
   "source": []
  },
  {
   "cell_type": "markdown",
   "metadata": {},
   "source": [
    "#### 4) Using the index notation, grab a sub-section of mat2 from that looks like this:\n",
    "\n",
    "[7,  8] \n",
    "\n",
    "[12,13]"
   ]
  },
  {
   "cell_type": "code",
   "execution_count": 5,
   "metadata": {},
   "outputs": [
    {
     "data": {
      "text/html": [
       "<table>\n",
       "<caption>A matrix: 2 × 2 of type int</caption>\n",
       "<tbody>\n",
       "\t<tr><td> 7</td><td> 8</td></tr>\n",
       "\t<tr><td>12</td><td>13</td></tr>\n",
       "</tbody>\n",
       "</table>\n"
      ],
      "text/latex": [
       "A matrix: 2 × 2 of type int\n",
       "\\begin{tabular}{ll}\n",
       "\t  7 &  8\\\\\n",
       "\t 12 & 13\\\\\n",
       "\\end{tabular}\n"
      ],
      "text/markdown": [
       "\n",
       "A matrix: 2 × 2 of type int\n",
       "\n",
       "|  7 |  8 |\n",
       "| 12 | 13 |\n",
       "\n"
      ],
      "text/plain": [
       "     [,1] [,2]\n",
       "[1,]  7    8  \n",
       "[2,] 12   13  "
      ]
     },
     "metadata": {},
     "output_type": "display_data"
    }
   ],
   "source": []
  },
  {
   "cell_type": "markdown",
   "metadata": {},
   "source": [
    "#### 5) Using the indexing notation, grab a sub-section of mat2 from the previous exercise that looks like this:\n",
    "\n",
    "[19,20]\n",
    "\n",
    "[24,25]"
   ]
  },
  {
   "cell_type": "code",
   "execution_count": 7,
   "metadata": {},
   "outputs": [
    {
     "data": {
      "text/html": [
       "<table>\n",
       "<caption>A matrix: 2 × 2 of type int</caption>\n",
       "<tbody>\n",
       "\t<tr><td>19</td><td>20</td></tr>\n",
       "\t<tr><td>24</td><td>25</td></tr>\n",
       "</tbody>\n",
       "</table>\n"
      ],
      "text/latex": [
       "A matrix: 2 × 2 of type int\n",
       "\\begin{tabular}{ll}\n",
       "\t 19 & 20\\\\\n",
       "\t 24 & 25\\\\\n",
       "\\end{tabular}\n"
      ],
      "text/markdown": [
       "\n",
       "A matrix: 2 × 2 of type int\n",
       "\n",
       "| 19 | 20 |\n",
       "| 24 | 25 |\n",
       "\n"
      ],
      "text/plain": [
       "     [,1] [,2]\n",
       "[1,] 19   20  \n",
       "[2,] 24   25  "
      ]
     },
     "metadata": {},
     "output_type": "display_data"
    }
   ],
   "source": []
  },
  {
   "cell_type": "markdown",
   "metadata": {},
   "source": [
    "#### 6) What is the sum of all the elements in mat2?"
   ]
  },
  {
   "cell_type": "code",
   "execution_count": 8,
   "metadata": {},
   "outputs": [
    {
     "data": {
      "text/html": [
       "325"
      ],
      "text/latex": [
       "325"
      ],
      "text/markdown": [
       "325"
      ],
      "text/plain": [
       "[1] 325"
      ]
     },
     "metadata": {},
     "output_type": "display_data"
    }
   ],
   "source": []
  },
  {
   "cell_type": "markdown",
   "metadata": {},
   "source": [
    "#### 7) Last question! Find out how to use runif() to creat a 4 x 5 matrix consisting of 20 random numbers (4*5=20)"
   ]
  },
  {
   "cell_type": "code",
   "execution_count": 9,
   "metadata": {},
   "outputs": [],
   "source": [
    "help(runif)"
   ]
  },
  {
   "cell_type": "code",
   "execution_count": 10,
   "metadata": {},
   "outputs": [
    {
     "data": {
      "text/html": [
       "<table>\n",
       "<caption>A matrix: 4 × 5 of type dbl</caption>\n",
       "<tbody>\n",
       "\t<tr><td>84.39083</td><td>66.64877</td><td>58.30204</td><td>33.84010</td><td>24.758153</td></tr>\n",
       "\t<tr><td>39.24158</td><td>94.08182</td><td>88.79115</td><td>62.18685</td><td> 6.250171</td></tr>\n",
       "\t<tr><td>62.85368</td><td> 8.53958</td><td>33.60737</td><td>52.27102</td><td>16.676527</td></tr>\n",
       "\t<tr><td>91.34389</td><td>19.33166</td><td>14.14298</td><td>94.60437</td><td>41.053704</td></tr>\n",
       "</tbody>\n",
       "</table>\n"
      ],
      "text/latex": [
       "A matrix: 4 × 5 of type dbl\n",
       "\\begin{tabular}{lllll}\n",
       "\t 84.39083 & 66.64877 & 58.30204 & 33.84010 & 24.758153\\\\\n",
       "\t 39.24158 & 94.08182 & 88.79115 & 62.18685 &  6.250171\\\\\n",
       "\t 62.85368 &  8.53958 & 33.60737 & 52.27102 & 16.676527\\\\\n",
       "\t 91.34389 & 19.33166 & 14.14298 & 94.60437 & 41.053704\\\\\n",
       "\\end{tabular}\n"
      ],
      "text/markdown": [
       "\n",
       "A matrix: 4 × 5 of type dbl\n",
       "\n",
       "| 84.39083 | 66.64877 | 58.30204 | 33.84010 | 24.758153 |\n",
       "| 39.24158 | 94.08182 | 88.79115 | 62.18685 |  6.250171 |\n",
       "| 62.85368 |  8.53958 | 33.60737 | 52.27102 | 16.676527 |\n",
       "| 91.34389 | 19.33166 | 14.14298 | 94.60437 | 41.053704 |\n",
       "\n"
      ],
      "text/plain": [
       "     [,1]     [,2]     [,3]     [,4]     [,5]     \n",
       "[1,] 84.39083 66.64877 58.30204 33.84010 24.758153\n",
       "[2,] 39.24158 94.08182 88.79115 62.18685  6.250171\n",
       "[3,] 62.85368  8.53958 33.60737 52.27102 16.676527\n",
       "[4,] 91.34389 19.33166 14.14298 94.60437 41.053704"
      ]
     },
     "metadata": {},
     "output_type": "display_data"
    }
   ],
   "source": []
  },
  {
   "cell_type": "code",
   "execution_count": null,
   "metadata": {},
   "outputs": [],
   "source": []
  }
 ],
 "metadata": {
  "kernelspec": {
   "display_name": "R",
   "language": "R",
   "name": "ir"
  },
  "language_info": {
   "codemirror_mode": "r",
   "file_extension": ".r",
   "mimetype": "text/x-r-source",
   "name": "R",
   "pygments_lexer": "r",
   "version": "3.6.1"
  }
 },
 "nbformat": 4,
 "nbformat_minor": 4
}
