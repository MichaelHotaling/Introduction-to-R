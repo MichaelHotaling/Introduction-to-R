{
 "cells": [
  {
   "cell_type": "markdown",
   "metadata": {},
   "source": [
    "# Vector Basics\n",
    "Vectors are one of the key data structures in R which we will be using. A vector is a 1 dimensional array that can hold character, numeric, or logical data elements.\n",
    "\n",
    "We can create a vector using the combine function c(). To use the function, we will pass in the elements we want in the array and seperate each element by a comma. \n",
    "\n",
    "Let's try it!"
   ]
  },
  {
   "cell_type": "code",
   "execution_count": 4,
   "metadata": {},
   "outputs": [
    {
     "data": {
      "text/html": [
       "'numeric'"
      ],
      "text/latex": [
       "'numeric'"
      ],
      "text/markdown": [
       "'numeric'"
      ],
      "text/plain": [
       "[1] \"numeric\""
      ]
     },
     "metadata": {},
     "output_type": "display_data"
    }
   ],
   "source": [
    "# Using c(), create a vector of numeric elements\n",
    "n.vector <- c(1,2,3,4,5)\n",
    "class(n.vector)"
   ]
  },
  {
   "cell_type": "code",
   "execution_count": 5,
   "metadata": {},
   "outputs": [
    {
     "data": {
      "text/html": [
       "'character'"
      ],
      "text/latex": [
       "'character'"
      ],
      "text/markdown": [
       "'character'"
      ],
      "text/plain": [
       "[1] \"character\""
      ]
     },
     "metadata": {},
     "output_type": "display_data"
    }
   ],
   "source": [
    "# Create a vector of characters\n",
    "c.vector <- c(\"U\",\"S\",\"A\")\n",
    "class(c.vector)"
   ]
  },
  {
   "cell_type": "code",
   "execution_count": 6,
   "metadata": {},
   "outputs": [
    {
     "data": {
      "text/html": [
       "'logical'"
      ],
      "text/latex": [
       "'logical'"
      ],
      "text/markdown": [
       "'logical'"
      ],
      "text/plain": [
       "[1] \"logical\""
      ]
     },
     "metadata": {},
     "output_type": "display_data"
    }
   ],
   "source": [
    "# Create a vector comprised of logical values\n",
    "l.vector <- c(TRUE,FALSE,TRUE,FALSE)\n",
    "class(l.vector)"
   ]
  },
  {
   "cell_type": "markdown",
   "metadata": {},
   "source": [
    "Note that we can't mix data types of the elements in an array. R will convert the other elements in the array to force everything to be the same data type. \n",
    "Here's a quick example of that."
   ]
  },
  {
   "cell_type": "code",
   "execution_count": 7,
   "metadata": {},
   "outputs": [
    {
     "data": {
      "text/html": [
       "<style>\n",
       ".list-inline {list-style: none; margin:0; padding: 0}\n",
       ".list-inline>li {display: inline-block}\n",
       ".list-inline>li:not(:last-child)::after {content: \"\\00b7\"; padding: 0 .5ex}\n",
       "</style>\n",
       "<ol class=list-inline><li>0</li><li>2</li></ol>\n"
      ],
      "text/latex": [
       "\\begin{enumerate*}\n",
       "\\item 0\n",
       "\\item 2\n",
       "\\end{enumerate*}\n"
      ],
      "text/markdown": [
       "1. 0\n",
       "2. 2\n",
       "\n",
       "\n"
      ],
      "text/plain": [
       "[1] 0 2"
      ]
     },
     "metadata": {},
     "output_type": "display_data"
    },
    {
     "data": {
      "text/html": [
       "'numeric'"
      ],
      "text/latex": [
       "'numeric'"
      ],
      "text/markdown": [
       "'numeric'"
      ],
      "text/plain": [
       "[1] \"numeric\""
      ]
     },
     "metadata": {},
     "output_type": "display_data"
    }
   ],
   "source": [
    "mix.vector <- c(FALSE,2)\n",
    "mix.vector\n",
    "class(mix.vector)"
   ]
  },
  {
   "cell_type": "code",
   "execution_count": 8,
   "metadata": {},
   "outputs": [
    {
     "data": {
      "text/html": [
       "<style>\n",
       ".list-inline {list-style: none; margin:0; padding: 0}\n",
       ".list-inline>li {display: inline-block}\n",
       ".list-inline>li:not(:last-child)::after {content: \"\\00b7\"; padding: 0 .5ex}\n",
       "</style>\n",
       "<ol class=list-inline><li>'USA'</li><li>'TRUE'</li><li>'50'</li></ol>\n"
      ],
      "text/latex": [
       "\\begin{enumerate*}\n",
       "\\item 'USA'\n",
       "\\item 'TRUE'\n",
       "\\item '50'\n",
       "\\end{enumerate*}\n"
      ],
      "text/markdown": [
       "1. 'USA'\n",
       "2. 'TRUE'\n",
       "3. '50'\n",
       "\n",
       "\n"
      ],
      "text/plain": [
       "[1] \"USA\"  \"TRUE\" \"50\"  "
      ]
     },
     "metadata": {},
     "output_type": "display_data"
    },
    {
     "data": {
      "text/html": [
       "'character'"
      ],
      "text/latex": [
       "'character'"
      ],
      "text/markdown": [
       "'character'"
      ],
      "text/plain": [
       "[1] \"character\""
      ]
     },
     "metadata": {},
     "output_type": "display_data"
    }
   ],
   "source": [
    "another.mix.vector <- c(\"USA\",TRUE,\"50\")\n",
    "another.mix.vector\n",
    "class(another.mix.vector)"
   ]
  },
  {
   "cell_type": "markdown",
   "metadata": {},
   "source": [
    "## Vector Names\n",
    "We can use the names() function to assign names to each element in our vector. For example, let's create a list of temperatures corresponding to the days of the week."
   ]
  },
  {
   "cell_type": "code",
   "execution_count": 10,
   "metadata": {},
   "outputs": [
    {
     "data": {
      "text/html": [
       "<style>\n",
       ".list-inline {list-style: none; margin:0; padding: 0}\n",
       ".list-inline>li {display: inline-block}\n",
       ".list-inline>li:not(:last-child)::after {content: \"\\00b7\"; padding: 0 .5ex}\n",
       "</style>\n",
       "<ol class=list-inline><li>72</li><li>71</li><li>70</li><li>75</li><li>69</li><li>71</li><li>68</li></ol>\n"
      ],
      "text/latex": [
       "\\begin{enumerate*}\n",
       "\\item 72\n",
       "\\item 71\n",
       "\\item 70\n",
       "\\item 75\n",
       "\\item 69\n",
       "\\item 71\n",
       "\\item 68\n",
       "\\end{enumerate*}\n"
      ],
      "text/markdown": [
       "1. 72\n",
       "2. 71\n",
       "3. 70\n",
       "4. 75\n",
       "5. 69\n",
       "6. 71\n",
       "7. 68\n",
       "\n",
       "\n"
      ],
      "text/plain": [
       "[1] 72 71 70 75 69 71 68"
      ]
     },
     "metadata": {},
     "output_type": "display_data"
    }
   ],
   "source": [
    "temperatures.F <- c(72,71,70,75,69,71,68)\n",
    "temperatures.F"
   ]
  },
  {
   "cell_type": "markdown",
   "metadata": {},
   "source": [
    "Now we have 7 temperatures for each day of the week, but how do we know which day is which? Does it start on Monday or Sunday? We can use the names() function to give the elements more data. "
   ]
  },
  {
   "cell_type": "code",
   "execution_count": 18,
   "metadata": {},
   "outputs": [
    {
     "data": {
      "text/html": [
       "<style>\n",
       ".dl-inline {width: auto; margin:0; padding: 0}\n",
       ".dl-inline>dt, .dl-inline>dd {float: none; width: auto; display: inline-block}\n",
       ".dl-inline>dt::after {content: \":\\0020\"; padding-right: .5ex}\n",
       ".dl-inline>dt:not(:first-of-type) {padding-left: .5ex}\n",
       "</style><dl class=dl-inline><dt>Mon</dt><dd>72</dd><dt>Tue</dt><dd>71</dd><dt>Wed</dt><dd>70</dd><dt>Thu</dt><dd>75</dd><dt>Fri</dt><dd>69</dd><dt>Sat</dt><dd>71</dd><dt>Sun</dt><dd>68</dd></dl>\n"
      ],
      "text/latex": [
       "\\begin{description*}\n",
       "\\item[Mon] 72\n",
       "\\item[Tue] 71\n",
       "\\item[Wed] 70\n",
       "\\item[Thu] 75\n",
       "\\item[Fri] 69\n",
       "\\item[Sat] 71\n",
       "\\item[Sun] 68\n",
       "\\end{description*}\n"
      ],
      "text/markdown": [
       "Mon\n",
       ":   72Tue\n",
       ":   71Wed\n",
       ":   70Thu\n",
       ":   75Fri\n",
       ":   69Sat\n",
       ":   71Sun\n",
       ":   68\n",
       "\n"
      ],
      "text/plain": [
       "Mon Tue Wed Thu Fri Sat Sun \n",
       " 72  71  70  75  69  71  68 "
      ]
     },
     "metadata": {},
     "output_type": "display_data"
    }
   ],
   "source": [
    "names(temperatures.F) <- c('Mon','Tue','Wed','Thu','Fri','Sat','Sun')\n",
    "temperatures.F"
   ]
  },
  {
   "cell_type": "markdown",
   "metadata": {},
   "source": [
    "We can now begin to see how the elements were assigned names! Depending on what IDE you are using, you may see the names displayed in columns or rows.\n",
    "\n",
    "We also don't have to rewrite the names vector over and over again, we can use a variable to save the days of the week and apply the names that way."
   ]
  },
  {
   "cell_type": "code",
   "execution_count": 19,
   "metadata": {},
   "outputs": [
    {
     "data": {
      "text/html": [
       "<style>\n",
       ".dl-inline {width: auto; margin:0; padding: 0}\n",
       ".dl-inline>dt, .dl-inline>dd {float: none; width: auto; display: inline-block}\n",
       ".dl-inline>dt::after {content: \":\\0020\"; padding-right: .5ex}\n",
       ".dl-inline>dt:not(:first-of-type) {padding-left: .5ex}\n",
       "</style><dl class=dl-inline><dt>Mon</dt><dd>22</dd><dt>Tue</dt><dd>23</dd><dt>Wed</dt><dd>21</dd><dt>Thu</dt><dd>19</dd><dt>Fri</dt><dd>20</dd><dt>Sat</dt><dd>20</dd><dt>Sun</dt><dd>24</dd></dl>\n"
      ],
      "text/latex": [
       "\\begin{description*}\n",
       "\\item[Mon] 22\n",
       "\\item[Tue] 23\n",
       "\\item[Wed] 21\n",
       "\\item[Thu] 19\n",
       "\\item[Fri] 20\n",
       "\\item[Sat] 20\n",
       "\\item[Sun] 24\n",
       "\\end{description*}\n"
      ],
      "text/markdown": [
       "Mon\n",
       ":   22Tue\n",
       ":   23Wed\n",
       ":   21Thu\n",
       ":   19Fri\n",
       ":   20Sat\n",
       ":   20Sun\n",
       ":   24\n",
       "\n"
      ],
      "text/plain": [
       "Mon Tue Wed Thu Fri Sat Sun \n",
       " 22  23  21  19  20  20  24 "
      ]
     },
     "metadata": {},
     "output_type": "display_data"
    }
   ],
   "source": [
    "days.of.week <- c('Mon','Tue','Wed','Thu','Fri','Sat','Sun')\n",
    "temperatures.C <- c(22,23,21,19,20,20,24)\n",
    "names(temperatures.C) <- days.of.week\n",
    "temperatures.C"
   ]
  },
  {
   "cell_type": "markdown",
   "metadata": {},
   "source": [
    "That's all for the basics of vectors!"
   ]
  }
 ],
 "metadata": {
  "kernelspec": {
   "display_name": "R",
   "language": "R",
   "name": "ir"
  },
  "language_info": {
   "codemirror_mode": "r",
   "file_extension": ".r",
   "mimetype": "text/x-r-source",
   "name": "R",
   "pygments_lexer": "r",
   "version": "3.6.1"
  }
 },
 "nbformat": 4,
 "nbformat_minor": 4
}
