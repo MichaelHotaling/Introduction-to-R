{
 "cells": [
  {
   "cell_type": "markdown",
   "metadata": {},
   "source": [
    "# if, else, and else if Statements\n",
    "\n",
    "Now we finally start learning how we can program some logic in R! Our first step in this journey is building a simple if, else, and else if statement.\n",
    "\n",
    "Here's the syntax for an if statement in R.\n"
   ]
  },
  {
   "cell_type": "code",
   "execution_count": 1,
   "metadata": {},
   "outputs": [],
   "source": [
    "# if (conditon){\n",
    "    # Execute some code\n",
    "# }"
   ]
  },
  {
   "cell_type": "markdown",
   "metadata": {},
   "source": [
    "So what does this actually mean if you've never seen an if statement before? It means that we can begin to apply some simple logic to our code. We say if some condition is true then execute the code inside of the curly brackets.\n",
    "\n",
    "Let's see this in action:"
   ]
  },
  {
   "cell_type": "code",
   "execution_count": 4,
   "metadata": {},
   "outputs": [
    {
     "data": {
      "text/html": [
       "FALSE"
      ],
      "text/latex": [
       "FALSE"
      ],
      "text/markdown": [
       "FALSE"
      ],
      "text/plain": [
       "[1] FALSE"
      ]
     },
     "metadata": {},
     "output_type": "display_data"
    }
   ],
   "source": [
    "hot <- FALSE\n",
    "temp <- 60\n",
    "\n",
    "if (temp > 80){\n",
    "    hot <- TRUE\n",
    "}\n",
    "hot"
   ]
  },
  {
   "cell_type": "code",
   "execution_count": 5,
   "metadata": {},
   "outputs": [
    {
     "data": {
      "text/html": [
       "TRUE"
      ],
      "text/latex": [
       "TRUE"
      ],
      "text/markdown": [
       "TRUE"
      ],
      "text/plain": [
       "[1] TRUE"
      ]
     },
     "metadata": {},
     "output_type": "display_data"
    }
   ],
   "source": [
    "# Reset temp\n",
    "temp <- 100\n",
    "\n",
    "if (temp > 80){\n",
    "    hot <- TRUE\n",
    "}\n",
    "\n",
    "hot"
   ]
  },
  {
   "cell_type": "markdown",
   "metadata": {},
   "source": [
    "# else\n",
    "If we want to execute another block that occurs if the if statement is false, we can use an else statement to do this! It has the syntax:\n"
   ]
  },
  {
   "cell_type": "code",
   "execution_count": null,
   "metadata": {},
   "outputs": [],
   "source": [
    "#if (condition) {\n",
    "  # Code to execute if true\n",
    "#} else {\n",
    "  # Code to execute if above was not true\n",
    "#}"
   ]
  },
  {
   "cell_type": "markdown",
   "metadata": {},
   "source": [
    "Notice the alignment of the curly brackets and the use of the else keyword. Let's see it in action!"
   ]
  },
  {
   "cell_type": "code",
   "execution_count": 6,
   "metadata": {},
   "outputs": [
    {
     "name": "stdout",
     "output_type": "stream",
     "text": [
      "[1] \"Its not too hot today!\"\n"
     ]
    }
   ],
   "source": [
    "temp <- 30\n",
    "\n",
    "if (temp > 90){\n",
    "    print(\"Hot outside!\")\n",
    "} else{\n",
    "    print(\"Its not too hot today!\")\n",
    "}"
   ]
  },
  {
   "cell_type": "markdown",
   "metadata": {},
   "source": [
    "# else if\n",
    "What if we wanted more options to print out, rather than just two, the if and the else? This is where we can use the else if statement to add multiple condition checks, using else at the end to execute code if none of our conditions match up with and if or else if.\n",
    "\n",
    "Let's see this in action!"
   ]
  },
  {
   "cell_type": "code",
   "execution_count": 7,
   "metadata": {},
   "outputs": [
    {
     "name": "stdout",
     "output_type": "stream",
     "text": [
      "[1] \"x was not equal to 10 or 12... \"\n"
     ]
    }
   ],
   "source": [
    "x <- 11\n",
    "if (x == 10){\n",
    "    # code to execute\n",
    "    print('x is equal to 10!')\n",
    "}else if (x == 12){\n",
    "    print(\"x is equal to 12!\")\n",
    "}else{\n",
    "    print('x was not equal to 10 or 12... ')\n",
    "}"
   ]
  },
  {
   "cell_type": "markdown",
   "metadata": {},
   "source": [
    "Why would we ever need this? \n",
    "\n",
    "Let's say we have two variables, hot and temp. Imagine that hot starts off as FALSE and temp is some number in degrees. If the temp is greater than 80 than we want to assign hot==TRUE."
   ]
  },
  {
   "cell_type": "code",
   "execution_count": 33,
   "metadata": {},
   "outputs": [
    {
     "name": "stdout",
     "output_type": "stream",
     "text": [
      "[1] \"It's exactly 45 degrees outside!\"\n"
     ]
    }
   ],
   "source": [
    "hot <- FALSE\n",
    "temp <- 45\n",
    "\n",
    "if(temp > 80){\n",
    "    print('IT IS HOT OUTSIDE!')\n",
    "}else if(temp <= 80 & temp >50){\n",
    "    print(\"Nice Outside\")\n",
    "}else if(temp == 45){\n",
    "    print(\"It's exactly 45 degrees outside!\")\n",
    "}else{\n",
    "    print(\"It's cold outside\")\n",
    "}"
   ]
  },
  {
   "cell_type": "markdown",
   "metadata": {},
   "source": [
    "# Final Example\n",
    "\n",
    "Let's see a final more elaborate example of if,else, and else if to close out our discussion! Let's imagine that we have a store with two items for sale: ham and cheese and we want an automated report to go to HQ depending on how many we sell:"
   ]
  },
  {
   "cell_type": "code",
   "execution_count": 39,
   "metadata": {},
   "outputs": [
    {
     "name": "stdout",
     "output_type": "stream",
     "text": [
      "[1] \"No sales today :(\"\n"
     ]
    }
   ],
   "source": [
    "peanut.butter <- 0 # we sold 10 units of peanut butter\n",
    "jelly <- 0 # we sold 10 units of jelly\n",
    "report <- 'blank'\n",
    "\n",
    "if (peanut.butter >= 10 & jelly >= 10 ){\n",
    "    report <- \"Good day for the PB&J store!\"\n",
    "}else if( peanut.butter == 0 & jelly == 0){\n",
    "    report <- \"No sales today :(\"\n",
    "}else{\n",
    "    report <- \"we sold something today\"\n",
    "}\n",
    "print(report)"
   ]
  }
 ],
 "metadata": {
  "kernelspec": {
   "display_name": "R",
   "language": "R",
   "name": "ir"
  },
  "language_info": {
   "codemirror_mode": "r",
   "file_extension": ".r",
   "mimetype": "text/x-r-source",
   "name": "R",
   "pygments_lexer": "r",
   "version": "3.6.1"
  }
 },
 "nbformat": 4,
 "nbformat_minor": 4
}
