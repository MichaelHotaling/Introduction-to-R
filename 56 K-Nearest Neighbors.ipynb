{
 "cells": [
  {
   "cell_type": "markdown",
   "metadata": {},
   "source": [
    "# K-Nearest Neighbors\n",
    "Read Chapter 4 of ISL\n",
    "\n",
    "### KNN\n",
    "The KNN algorithm is very simple and very effective. It is widely applied in areas like finance, political science, handwriting detection, and image recognition. In Credit ratings, financial institutes will predict the credit rating of customers. In loan disbursement, banking institutes will predict whether the loan is safe or risky. It is used for solving both classification and regression problems.\n",
    "\n",
    "KNN is best shown through an example! Imagine we had some imaginary data on dogs and horses with heights and weights. If we plot them out we have something like this…"
   ]
  },
  {
   "cell_type": "markdown",
   "metadata": {},
   "source": [
    "## Training Algorithm:\n",
    "\n",
    "- Store all the Data\n",
    "\n",
    "## Prediction Algorithm:\n",
    "\n",
    "- Calculate the distance from x to all points in your data\n",
    "- Sort the points in your data by increasing distance from x\n",
    "- Predict the majority label of the “k” closest points\n",
    "\n",
    "Choosing a K will affect what class a new point is assigned to:"
   ]
  },
  {
   "cell_type": "markdown",
   "metadata": {},
   "source": [
    "<img src = \"https://datascienceplus.com/wp-content/uploads/2019/04/Screenshot-74.png\">"
   ]
  },
  {
   "cell_type": "markdown",
   "metadata": {},
   "source": [
    "In above example if k=3 then new point will be in class B but if k=6 then it will in class A. Because majority of points in k=6 circle are from class A.\n",
    "\n",
    "Lets return back to our imaginary data on Dogs and Horses:"
   ]
  },
  {
   "cell_type": "markdown",
   "metadata": {},
   "source": [
    "<img src = \"https://datascienceplus.com/wp-content/uploads/2019/04/Screenshot-77.png\">\n",
    "<img src = \"https://datascienceplus.com/wp-content/uploads/2019/04/Screenshot-78.png\">"
   ]
  },
  {
   "cell_type": "markdown",
   "metadata": {},
   "source": [
    "If we choose k=1 we will pick up a lot of noise in the model. But if we increase value of k, you’ll notice that we achieve smooth separation or bias. This cleaner cut-off is achieved at the cost of miss-labeling some data points.\n",
    "\n",
    "You can read more about Bias variance tradeoff.\n",
    "\n",
    "Pros:\n",
    "\n",
    "- Very simple\n",
    "- Training is trivial\n",
    "- Works with any number of classes\n",
    "- Easy to add more data\n",
    "- Few parameters ○ K ○ Distance Metric\n",
    "\n",
    "Cons:\n",
    "\n",
    "- High Prediction Cost (worse for large data sets)\n",
    "- Not good with high dimensional data\n",
    "- Categorical Features don’t work well\n",
    "\n",
    "Suppose we’ve been given a classified data set from a company! They’ve hidden the feature column names but have given you the data and the target classes. We’ll try to use KNN to create a model that directly predicts a class for a new data point based off of the features.\n",
    "\n"
   ]
  },
  {
   "cell_type": "code",
   "execution_count": 1,
   "metadata": {},
   "outputs": [
    {
     "name": "stderr",
     "output_type": "stream",
     "text": [
      "Warning message:\n",
      "\"package 'ISLR' was built under R version 3.6.3\""
     ]
    }
   ],
   "source": [
    "# Get the Data\n",
    "#install.packages(\"ISLR\")\n",
    "library(ISLR)"
   ]
  },
  {
   "cell_type": "code",
   "execution_count": 2,
   "metadata": {},
   "outputs": [
    {
     "name": "stdout",
     "output_type": "stream",
     "text": [
      "'data.frame':\t5822 obs. of  86 variables:\n",
      " $ MOSTYPE : num  33 37 37 9 40 23 39 33 33 11 ...\n",
      " $ MAANTHUI: num  1 1 1 1 1 1 2 1 1 2 ...\n",
      " $ MGEMOMV : num  3 2 2 3 4 2 3 2 2 3 ...\n",
      " $ MGEMLEEF: num  2 2 2 3 2 1 2 3 4 3 ...\n",
      " $ MOSHOOFD: num  8 8 8 3 10 5 9 8 8 3 ...\n",
      " $ MGODRK  : num  0 1 0 2 1 0 2 0 0 3 ...\n",
      " $ MGODPR  : num  5 4 4 3 4 5 2 7 1 5 ...\n",
      " $ MGODOV  : num  1 1 2 2 1 0 0 0 3 0 ...\n",
      " $ MGODGE  : num  3 4 4 4 4 5 5 2 6 2 ...\n",
      " $ MRELGE  : num  7 6 3 5 7 0 7 7 6 7 ...\n",
      " $ MRELSA  : num  0 2 2 2 1 6 2 2 0 0 ...\n",
      " $ MRELOV  : num  2 2 4 2 2 3 0 0 3 2 ...\n",
      " $ MFALLEEN: num  1 0 4 2 2 3 0 0 3 2 ...\n",
      " $ MFGEKIND: num  2 4 4 3 4 5 3 5 3 2 ...\n",
      " $ MFWEKIND: num  6 5 2 4 4 2 6 4 3 6 ...\n",
      " $ MOPLHOOG: num  1 0 0 3 5 0 0 0 0 0 ...\n",
      " $ MOPLMIDD: num  2 5 5 4 4 5 4 3 1 4 ...\n",
      " $ MOPLLAAG: num  7 4 4 2 0 4 5 6 8 5 ...\n",
      " $ MBERHOOG: num  1 0 0 4 0 2 0 2 1 2 ...\n",
      " $ MBERZELF: num  0 0 0 0 5 0 0 0 1 0 ...\n",
      " $ MBERBOER: num  1 0 0 0 4 0 0 0 0 0 ...\n",
      " $ MBERMIDD: num  2 5 7 3 0 4 4 2 1 3 ...\n",
      " $ MBERARBG: num  5 0 0 1 0 2 1 5 8 3 ...\n",
      " $ MBERARBO: num  2 4 2 2 0 2 5 2 1 3 ...\n",
      " $ MSKA    : num  1 0 0 3 9 2 0 2 1 1 ...\n",
      " $ MSKB1   : num  1 2 5 2 0 2 1 1 1 2 ...\n",
      " $ MSKB2   : num  2 3 0 1 0 2 4 2 0 1 ...\n",
      " $ MSKC    : num  6 5 4 4 0 4 5 5 8 4 ...\n",
      " $ MSKD    : num  1 0 0 0 0 2 0 2 1 2 ...\n",
      " $ MHHUUR  : num  1 2 7 5 4 9 6 0 9 0 ...\n",
      " $ MHKOOP  : num  8 7 2 4 5 0 3 9 0 9 ...\n",
      " $ MAUT1   : num  8 7 7 9 6 5 8 4 5 6 ...\n",
      " $ MAUT2   : num  0 1 0 0 2 3 0 4 2 1 ...\n",
      " $ MAUT0   : num  1 2 2 0 1 3 1 2 3 2 ...\n",
      " $ MZFONDS : num  8 6 9 7 5 9 9 6 7 6 ...\n",
      " $ MZPART  : num  1 3 0 2 4 0 0 3 2 3 ...\n",
      " $ MINKM30 : num  0 2 4 1 0 5 4 2 7 2 ...\n",
      " $ MINK3045: num  4 0 5 5 0 2 3 5 2 3 ...\n",
      " $ MINK4575: num  5 5 0 3 9 3 3 3 1 3 ...\n",
      " $ MINK7512: num  0 2 0 0 0 0 0 0 0 1 ...\n",
      " $ MINK123M: num  0 0 0 0 0 0 0 0 0 0 ...\n",
      " $ MINKGEM : num  4 5 3 4 6 3 3 3 2 4 ...\n",
      " $ MKOOPKLA: num  3 4 4 4 3 3 5 3 3 7 ...\n",
      " $ PWAPART : num  0 2 2 0 0 0 0 0 0 2 ...\n",
      " $ PWABEDR : num  0 0 0 0 0 0 0 0 0 0 ...\n",
      " $ PWALAND : num  0 0 0 0 0 0 0 0 0 0 ...\n",
      " $ PPERSAUT: num  6 0 6 6 0 6 6 0 5 0 ...\n",
      " $ PBESAUT : num  0 0 0 0 0 0 0 0 0 0 ...\n",
      " $ PMOTSCO : num  0 0 0 0 0 0 0 0 0 0 ...\n",
      " $ PVRAAUT : num  0 0 0 0 0 0 0 0 0 0 ...\n",
      " $ PAANHANG: num  0 0 0 0 0 0 0 0 0 0 ...\n",
      " $ PTRACTOR: num  0 0 0 0 0 0 0 0 0 0 ...\n",
      " $ PWERKT  : num  0 0 0 0 0 0 0 0 0 0 ...\n",
      " $ PBROM   : num  0 0 0 0 0 0 0 3 0 0 ...\n",
      " $ PLEVEN  : num  0 0 0 0 0 0 0 0 0 0 ...\n",
      " $ PPERSONG: num  0 0 0 0 0 0 0 0 0 0 ...\n",
      " $ PGEZONG : num  0 0 0 0 0 0 0 0 0 0 ...\n",
      " $ PWAOREG : num  0 0 0 0 0 0 0 0 0 0 ...\n",
      " $ PBRAND  : num  5 2 2 2 6 0 0 0 0 3 ...\n",
      " $ PZEILPL : num  0 0 0 0 0 0 0 0 0 0 ...\n",
      " $ PPLEZIER: num  0 0 0 0 0 0 0 0 0 0 ...\n",
      " $ PFIETS  : num  0 0 0 0 0 0 0 0 0 0 ...\n",
      " $ PINBOED : num  0 0 0 0 0 0 0 0 0 0 ...\n",
      " $ PBYSTAND: num  0 0 0 0 0 0 0 0 0 0 ...\n",
      " $ AWAPART : num  0 2 1 0 0 0 0 0 0 1 ...\n",
      " $ AWABEDR : num  0 0 0 0 0 0 0 0 0 0 ...\n",
      " $ AWALAND : num  0 0 0 0 0 0 0 0 0 0 ...\n",
      " $ APERSAUT: num  1 0 1 1 0 1 1 0 1 0 ...\n",
      " $ ABESAUT : num  0 0 0 0 0 0 0 0 0 0 ...\n",
      " $ AMOTSCO : num  0 0 0 0 0 0 0 0 0 0 ...\n",
      " $ AVRAAUT : num  0 0 0 0 0 0 0 0 0 0 ...\n",
      " $ AAANHANG: num  0 0 0 0 0 0 0 0 0 0 ...\n",
      " $ ATRACTOR: num  0 0 0 0 0 0 0 0 0 0 ...\n",
      " $ AWERKT  : num  0 0 0 0 0 0 0 0 0 0 ...\n",
      " $ ABROM   : num  0 0 0 0 0 0 0 1 0 0 ...\n",
      " $ ALEVEN  : num  0 0 0 0 0 0 0 0 0 0 ...\n",
      " $ APERSONG: num  0 0 0 0 0 0 0 0 0 0 ...\n",
      " $ AGEZONG : num  0 0 0 0 0 0 0 0 0 0 ...\n",
      " $ AWAOREG : num  0 0 0 0 0 0 0 0 0 0 ...\n",
      " $ ABRAND  : num  1 1 1 1 1 0 0 0 0 1 ...\n",
      " $ AZEILPL : num  0 0 0 0 0 0 0 0 0 0 ...\n",
      " $ APLEZIER: num  0 0 0 0 0 0 0 0 0 0 ...\n",
      " $ AFIETS  : num  0 0 0 0 0 0 0 0 0 0 ...\n",
      " $ AINBOED : num  0 0 0 0 0 0 0 0 0 0 ...\n",
      " $ ABYSTAND: num  0 0 0 0 0 0 0 0 0 0 ...\n",
      " $ Purchase: Factor w/ 2 levels \"No\",\"Yes\": 1 1 1 1 1 1 1 1 1 1 ...\n"
     ]
    }
   ],
   "source": [
    "str(Caravan)"
   ]
  },
  {
   "cell_type": "code",
   "execution_count": 3,
   "metadata": {},
   "outputs": [
    {
     "data": {
      "text/plain": [
       "    MOSTYPE         MAANTHUI         MGEMOMV         MGEMLEEF    \n",
       " Min.   : 1.00   Min.   : 1.000   Min.   :1.000   Min.   :1.000  \n",
       " 1st Qu.:10.00   1st Qu.: 1.000   1st Qu.:2.000   1st Qu.:2.000  \n",
       " Median :30.00   Median : 1.000   Median :3.000   Median :3.000  \n",
       " Mean   :24.25   Mean   : 1.111   Mean   :2.679   Mean   :2.991  \n",
       " 3rd Qu.:35.00   3rd Qu.: 1.000   3rd Qu.:3.000   3rd Qu.:3.000  \n",
       " Max.   :41.00   Max.   :10.000   Max.   :5.000   Max.   :6.000  \n",
       "    MOSHOOFD          MGODRK           MGODPR          MGODOV    \n",
       " Min.   : 1.000   Min.   :0.0000   Min.   :0.000   Min.   :0.00  \n",
       " 1st Qu.: 3.000   1st Qu.:0.0000   1st Qu.:4.000   1st Qu.:0.00  \n",
       " Median : 7.000   Median :0.0000   Median :5.000   Median :1.00  \n",
       " Mean   : 5.774   Mean   :0.6965   Mean   :4.627   Mean   :1.07  \n",
       " 3rd Qu.: 8.000   3rd Qu.:1.0000   3rd Qu.:6.000   3rd Qu.:2.00  \n",
       " Max.   :10.000   Max.   :9.0000   Max.   :9.000   Max.   :5.00  \n",
       "     MGODGE          MRELGE          MRELSA           MRELOV    \n",
       " Min.   :0.000   Min.   :0.000   Min.   :0.0000   Min.   :0.00  \n",
       " 1st Qu.:2.000   1st Qu.:5.000   1st Qu.:0.0000   1st Qu.:1.00  \n",
       " Median :3.000   Median :6.000   Median :1.0000   Median :2.00  \n",
       " Mean   :3.259   Mean   :6.183   Mean   :0.8835   Mean   :2.29  \n",
       " 3rd Qu.:4.000   3rd Qu.:7.000   3rd Qu.:1.0000   3rd Qu.:3.00  \n",
       " Max.   :9.000   Max.   :9.000   Max.   :7.0000   Max.   :9.00  \n",
       "    MFALLEEN        MFGEKIND       MFWEKIND      MOPLHOOG        MOPLMIDD    \n",
       " Min.   :0.000   Min.   :0.00   Min.   :0.0   Min.   :0.000   Min.   :0.000  \n",
       " 1st Qu.:0.000   1st Qu.:2.00   1st Qu.:3.0   1st Qu.:0.000   1st Qu.:2.000  \n",
       " Median :2.000   Median :3.00   Median :4.0   Median :1.000   Median :3.000  \n",
       " Mean   :1.888   Mean   :3.23   Mean   :4.3   Mean   :1.461   Mean   :3.351  \n",
       " 3rd Qu.:3.000   3rd Qu.:4.00   3rd Qu.:6.0   3rd Qu.:2.000   3rd Qu.:4.000  \n",
       " Max.   :9.000   Max.   :9.00   Max.   :9.0   Max.   :9.000   Max.   :9.000  \n",
       "    MOPLLAAG        MBERHOOG        MBERZELF        MBERBOER     \n",
       " Min.   :0.000   Min.   :0.000   Min.   :0.000   Min.   :0.0000  \n",
       " 1st Qu.:3.000   1st Qu.:0.000   1st Qu.:0.000   1st Qu.:0.0000  \n",
       " Median :5.000   Median :2.000   Median :0.000   Median :0.0000  \n",
       " Mean   :4.572   Mean   :1.895   Mean   :0.398   Mean   :0.5223  \n",
       " 3rd Qu.:6.000   3rd Qu.:3.000   3rd Qu.:1.000   3rd Qu.:1.0000  \n",
       " Max.   :9.000   Max.   :9.000   Max.   :5.000   Max.   :9.0000  \n",
       "    MBERMIDD        MBERARBG       MBERARBO          MSKA           MSKB1      \n",
       " Min.   :0.000   Min.   :0.00   Min.   :0.000   Min.   :0.000   Min.   :0.000  \n",
       " 1st Qu.:2.000   1st Qu.:1.00   1st Qu.:1.000   1st Qu.:0.000   1st Qu.:1.000  \n",
       " Median :3.000   Median :2.00   Median :2.000   Median :1.000   Median :2.000  \n",
       " Mean   :2.899   Mean   :2.22   Mean   :2.306   Mean   :1.621   Mean   :1.607  \n",
       " 3rd Qu.:4.000   3rd Qu.:3.00   3rd Qu.:3.000   3rd Qu.:2.000   3rd Qu.:2.000  \n",
       " Max.   :9.000   Max.   :9.00   Max.   :9.000   Max.   :9.000   Max.   :9.000  \n",
       "     MSKB2            MSKC            MSKD           MHHUUR     \n",
       " Min.   :0.000   Min.   :0.000   Min.   :0.000   Min.   :0.000  \n",
       " 1st Qu.:1.000   1st Qu.:2.000   1st Qu.:0.000   1st Qu.:2.000  \n",
       " Median :2.000   Median :4.000   Median :1.000   Median :4.000  \n",
       " Mean   :2.203   Mean   :3.759   Mean   :1.067   Mean   :4.237  \n",
       " 3rd Qu.:3.000   3rd Qu.:5.000   3rd Qu.:2.000   3rd Qu.:7.000  \n",
       " Max.   :9.000   Max.   :9.000   Max.   :9.000   Max.   :9.000  \n",
       "     MHKOOP          MAUT1          MAUT2           MAUT0          MZFONDS     \n",
       " Min.   :0.000   Min.   :0.00   Min.   :0.000   Min.   :0.000   Min.   :0.000  \n",
       " 1st Qu.:2.000   1st Qu.:5.00   1st Qu.:0.000   1st Qu.:1.000   1st Qu.:5.000  \n",
       " Median :5.000   Median :6.00   Median :1.000   Median :2.000   Median :7.000  \n",
       " Mean   :4.772   Mean   :6.04   Mean   :1.316   Mean   :1.959   Mean   :6.277  \n",
       " 3rd Qu.:7.000   3rd Qu.:7.00   3rd Qu.:2.000   3rd Qu.:3.000   3rd Qu.:8.000  \n",
       " Max.   :9.000   Max.   :9.00   Max.   :7.000   Max.   :9.000   Max.   :9.000  \n",
       "     MZPART         MINKM30         MINK3045        MINK4575    \n",
       " Min.   :0.000   Min.   :0.000   Min.   :0.000   Min.   :0.000  \n",
       " 1st Qu.:1.000   1st Qu.:1.000   1st Qu.:2.000   1st Qu.:1.000  \n",
       " Median :2.000   Median :2.000   Median :4.000   Median :3.000  \n",
       " Mean   :2.729   Mean   :2.574   Mean   :3.536   Mean   :2.731  \n",
       " 3rd Qu.:4.000   3rd Qu.:4.000   3rd Qu.:5.000   3rd Qu.:4.000  \n",
       " Max.   :9.000   Max.   :9.000   Max.   :9.000   Max.   :9.000  \n",
       "    MINK7512         MINK123M         MINKGEM         MKOOPKLA    \n",
       " Min.   :0.0000   Min.   :0.0000   Min.   :0.000   Min.   :1.000  \n",
       " 1st Qu.:0.0000   1st Qu.:0.0000   1st Qu.:3.000   1st Qu.:3.000  \n",
       " Median :0.0000   Median :0.0000   Median :4.000   Median :4.000  \n",
       " Mean   :0.7961   Mean   :0.2027   Mean   :3.784   Mean   :4.236  \n",
       " 3rd Qu.:1.0000   3rd Qu.:0.0000   3rd Qu.:4.000   3rd Qu.:6.000  \n",
       " Max.   :9.0000   Max.   :9.0000   Max.   :9.000   Max.   :8.000  \n",
       "    PWAPART          PWABEDR           PWALAND           PPERSAUT   \n",
       " Min.   :0.0000   Min.   :0.00000   Min.   :0.00000   Min.   :0.00  \n",
       " 1st Qu.:0.0000   1st Qu.:0.00000   1st Qu.:0.00000   1st Qu.:0.00  \n",
       " Median :0.0000   Median :0.00000   Median :0.00000   Median :5.00  \n",
       " Mean   :0.7712   Mean   :0.04002   Mean   :0.07162   Mean   :2.97  \n",
       " 3rd Qu.:2.0000   3rd Qu.:0.00000   3rd Qu.:0.00000   3rd Qu.:6.00  \n",
       " Max.   :3.0000   Max.   :6.00000   Max.   :4.00000   Max.   :8.00  \n",
       "    PBESAUT           PMOTSCO          PVRAAUT            PAANHANG      \n",
       " Min.   :0.00000   Min.   :0.0000   Min.   :0.000000   Min.   :0.00000  \n",
       " 1st Qu.:0.00000   1st Qu.:0.0000   1st Qu.:0.000000   1st Qu.:0.00000  \n",
       " Median :0.00000   Median :0.0000   Median :0.000000   Median :0.00000  \n",
       " Mean   :0.04827   Mean   :0.1754   Mean   :0.009447   Mean   :0.02096  \n",
       " 3rd Qu.:0.00000   3rd Qu.:0.0000   3rd Qu.:0.000000   3rd Qu.:0.00000  \n",
       " Max.   :7.00000   Max.   :7.0000   Max.   :9.000000   Max.   :5.00000  \n",
       "    PTRACTOR           PWERKT            PBROM           PLEVEN      \n",
       " Min.   :0.00000   Min.   :0.00000   Min.   :0.000   Min.   :0.0000  \n",
       " 1st Qu.:0.00000   1st Qu.:0.00000   1st Qu.:0.000   1st Qu.:0.0000  \n",
       " Median :0.00000   Median :0.00000   Median :0.000   Median :0.0000  \n",
       " Mean   :0.09258   Mean   :0.01305   Mean   :0.215   Mean   :0.1948  \n",
       " 3rd Qu.:0.00000   3rd Qu.:0.00000   3rd Qu.:0.000   3rd Qu.:0.0000  \n",
       " Max.   :6.00000   Max.   :6.00000   Max.   :6.000   Max.   :9.0000  \n",
       "    PPERSONG          PGEZONG           PWAOREG            PBRAND     \n",
       " Min.   :0.00000   Min.   :0.00000   Min.   :0.00000   Min.   :0.000  \n",
       " 1st Qu.:0.00000   1st Qu.:0.00000   1st Qu.:0.00000   1st Qu.:0.000  \n",
       " Median :0.00000   Median :0.00000   Median :0.00000   Median :2.000  \n",
       " Mean   :0.01374   Mean   :0.01529   Mean   :0.02353   Mean   :1.828  \n",
       " 3rd Qu.:0.00000   3rd Qu.:0.00000   3rd Qu.:0.00000   3rd Qu.:4.000  \n",
       " Max.   :6.00000   Max.   :3.00000   Max.   :7.00000   Max.   :8.000  \n",
       "    PZEILPL             PPLEZIER           PFIETS           PINBOED       \n",
       " Min.   :0.0000000   Min.   :0.00000   Min.   :0.00000   Min.   :0.00000  \n",
       " 1st Qu.:0.0000000   1st Qu.:0.00000   1st Qu.:0.00000   1st Qu.:0.00000  \n",
       " Median :0.0000000   Median :0.00000   Median :0.00000   Median :0.00000  \n",
       " Mean   :0.0008588   Mean   :0.01889   Mean   :0.02525   Mean   :0.01563  \n",
       " 3rd Qu.:0.0000000   3rd Qu.:0.00000   3rd Qu.:0.00000   3rd Qu.:0.00000  \n",
       " Max.   :3.0000000   Max.   :6.00000   Max.   :1.00000   Max.   :6.00000  \n",
       "    PBYSTAND          AWAPART         AWABEDR           AWALAND       \n",
       " Min.   :0.00000   Min.   :0.000   Min.   :0.00000   Min.   :0.00000  \n",
       " 1st Qu.:0.00000   1st Qu.:0.000   1st Qu.:0.00000   1st Qu.:0.00000  \n",
       " Median :0.00000   Median :0.000   Median :0.00000   Median :0.00000  \n",
       " Mean   :0.04758   Mean   :0.403   Mean   :0.01477   Mean   :0.02061  \n",
       " 3rd Qu.:0.00000   3rd Qu.:1.000   3rd Qu.:0.00000   3rd Qu.:0.00000  \n",
       " Max.   :5.00000   Max.   :2.000   Max.   :5.00000   Max.   :1.00000  \n",
       "    APERSAUT         ABESAUT           AMOTSCO           AVRAAUT        \n",
       " Min.   :0.0000   Min.   :0.00000   Min.   :0.00000   Min.   :0.000000  \n",
       " 1st Qu.:0.0000   1st Qu.:0.00000   1st Qu.:0.00000   1st Qu.:0.000000  \n",
       " Median :1.0000   Median :0.00000   Median :0.00000   Median :0.000000  \n",
       " Mean   :0.5622   Mean   :0.01048   Mean   :0.04105   Mean   :0.002233  \n",
       " 3rd Qu.:1.0000   3rd Qu.:0.00000   3rd Qu.:0.00000   3rd Qu.:0.000000  \n",
       " Max.   :7.0000   Max.   :4.00000   Max.   :8.00000   Max.   :3.000000  \n",
       "    AAANHANG          ATRACTOR           AWERKT             ABROM        \n",
       " Min.   :0.00000   Min.   :0.00000   Min.   :0.000000   Min.   :0.00000  \n",
       " 1st Qu.:0.00000   1st Qu.:0.00000   1st Qu.:0.000000   1st Qu.:0.00000  \n",
       " Median :0.00000   Median :0.00000   Median :0.000000   Median :0.00000  \n",
       " Mean   :0.01254   Mean   :0.03367   Mean   :0.006183   Mean   :0.07042  \n",
       " 3rd Qu.:0.00000   3rd Qu.:0.00000   3rd Qu.:0.000000   3rd Qu.:0.00000  \n",
       " Max.   :3.00000   Max.   :4.00000   Max.   :6.000000   Max.   :2.00000  \n",
       "     ALEVEN           APERSONG           AGEZONG            AWAOREG        \n",
       " Min.   :0.00000   Min.   :0.000000   Min.   :0.000000   Min.   :0.000000  \n",
       " 1st Qu.:0.00000   1st Qu.:0.000000   1st Qu.:0.000000   1st Qu.:0.000000  \n",
       " Median :0.00000   Median :0.000000   Median :0.000000   Median :0.000000  \n",
       " Mean   :0.07661   Mean   :0.005325   Mean   :0.006527   Mean   :0.004638  \n",
       " 3rd Qu.:0.00000   3rd Qu.:0.000000   3rd Qu.:0.000000   3rd Qu.:0.000000  \n",
       " Max.   :8.00000   Max.   :1.000000   Max.   :1.000000   Max.   :2.000000  \n",
       "     ABRAND          AZEILPL             APLEZIER            AFIETS       \n",
       " Min.   :0.0000   Min.   :0.0000000   Min.   :0.000000   Min.   :0.00000  \n",
       " 1st Qu.:0.0000   1st Qu.:0.0000000   1st Qu.:0.000000   1st Qu.:0.00000  \n",
       " Median :1.0000   Median :0.0000000   Median :0.000000   Median :0.00000  \n",
       " Mean   :0.5701   Mean   :0.0005153   Mean   :0.006012   Mean   :0.03178  \n",
       " 3rd Qu.:1.0000   3rd Qu.:0.0000000   3rd Qu.:0.000000   3rd Qu.:0.00000  \n",
       " Max.   :7.0000   Max.   :1.0000000   Max.   :2.000000   Max.   :3.00000  \n",
       "    AINBOED            ABYSTAND       Purchase  \n",
       " Min.   :0.000000   Min.   :0.00000   No :5474  \n",
       " 1st Qu.:0.000000   1st Qu.:0.00000   Yes: 348  \n",
       " Median :0.000000   Median :0.00000             \n",
       " Mean   :0.007901   Mean   :0.01426             \n",
       " 3rd Qu.:0.000000   3rd Qu.:0.00000             \n",
       " Max.   :2.000000   Max.   :2.00000             "
      ]
     },
     "metadata": {},
     "output_type": "display_data"
    }
   ],
   "source": [
    "summary(Caravan)"
   ]
  },
  {
   "cell_type": "markdown",
   "metadata": {},
   "source": [
    "__Let's clean up the data and verify there are no NA values__"
   ]
  },
  {
   "cell_type": "code",
   "execution_count": 4,
   "metadata": {},
   "outputs": [
    {
     "data": {
      "text/html": [
       "FALSE"
      ],
      "text/latex": [
       "FALSE"
      ],
      "text/markdown": [
       "FALSE"
      ],
      "text/plain": [
       "[1] FALSE"
      ]
     },
     "metadata": {},
     "output_type": "display_data"
    }
   ],
   "source": [
    "any(is.na(Caravan))"
   ]
  },
  {
   "cell_type": "code",
   "execution_count": 5,
   "metadata": {},
   "outputs": [
    {
     "data": {
      "text/html": [
       "165.037847395189"
      ],
      "text/latex": [
       "165.037847395189"
      ],
      "text/markdown": [
       "165.037847395189"
      ],
      "text/plain": [
       "[1] 165.0378"
      ]
     },
     "metadata": {},
     "output_type": "display_data"
    },
    {
     "data": {
      "text/html": [
       "0.164707781931954"
      ],
      "text/latex": [
       "0.164707781931954"
      ],
      "text/markdown": [
       "0.164707781931954"
      ],
      "text/plain": [
       "[1] 0.1647078"
      ]
     },
     "metadata": {},
     "output_type": "display_data"
    }
   ],
   "source": [
    "var(Caravan[,1])\n",
    "var(Caravan[,2])"
   ]
  },
  {
   "cell_type": "code",
   "execution_count": 6,
   "metadata": {},
   "outputs": [
    {
     "name": "stdout",
     "output_type": "stream",
     "text": [
      "[1] 1\n",
      "[1] 1\n"
     ]
    }
   ],
   "source": [
    "purchase <- Caravan[,86]\n",
    "\n",
    "standardize.Caravan <- scale(Caravan[,1:85])\n",
    "print(var(standardize.Caravan[,1]))\n",
    "print(var(standardize.Caravan[,2]))"
   ]
  },
  {
   "cell_type": "code",
   "execution_count": 7,
   "metadata": {},
   "outputs": [],
   "source": [
    "# Start the Train Test Split\n",
    "\n",
    "test.index <- 1:1000 \n",
    "test.data <- standardize.Caravan[test.index,]\n",
    "test.purchase <- purchase[test.index]\n",
    "\n",
    "train.data <- standardize.Caravan[-test.index,]\n",
    "train.purchase <- purchase[-test.index]"
   ]
  },
  {
   "cell_type": "code",
   "execution_count": 8,
   "metadata": {},
   "outputs": [],
   "source": [
    "library(class)\n",
    "set.seed(101)"
   ]
  },
  {
   "cell_type": "code",
   "execution_count": 9,
   "metadata": {},
   "outputs": [
    {
     "name": "stdout",
     "output_type": "stream",
     "text": [
      "[1] No No No No No No\n",
      "Levels: No Yes\n"
     ]
    }
   ],
   "source": [
    "predicted.purchase <- knn(train.data, test.data, train.purchase, k = 5)\n",
    "print(head(predicted.purchase))"
   ]
  },
  {
   "cell_type": "code",
   "execution_count": 10,
   "metadata": {},
   "outputs": [
    {
     "name": "stdout",
     "output_type": "stream",
     "text": [
      "[1] 0.066\n"
     ]
    }
   ],
   "source": [
    "misclass.error <- mean(test.purchase != predicted.purchase)\n",
    "print(misclass.error)"
   ]
  },
  {
   "cell_type": "code",
   "execution_count": 11,
   "metadata": {},
   "outputs": [
    {
     "name": "stdout",
     "output_type": "stream",
     "text": [
      " [1] 0.116 0.107 0.074 0.070 0.066 0.064 0.062 0.061 0.058 0.058 0.059 0.058\n",
      "[13] 0.059 0.059 0.059 0.059 0.059 0.059 0.059 0.059\n"
     ]
    }
   ],
   "source": [
    "predicted.purchase <- NULL\n",
    "error.rate <- NULL\n",
    "\n",
    "for (i in 1:20){\n",
    "    set.seed(101)\n",
    "    predicted.purchase <- knn(train.data, test.data, train.purchase, k = i)\n",
    "    error.rate[i] <- mean (test.purchase != predicted.purchase)\n",
    "}\n",
    "\n",
    "print(error.rate)"
   ]
  },
  {
   "cell_type": "code",
   "execution_count": 14,
   "metadata": {},
   "outputs": [
    {
     "data": {
      "image/png": "[encoded data removed]",
      "text/plain": [
       "plot without title"
      ]
     },
     "metadata": {},
     "output_type": "display_data"
    }
   ],
   "source": [
    "#Visualize K Elbow Method\n",
    "\n",
    "library(ggplot2)\n",
    "k.values <- 1:20\n",
    "error.df <- data.frame(error.rate,k.values)\n",
    "\n",
    "ggplot(data = error.df, aes( x = k.values, y = error.rate)) + \n",
    "geom_point() + geom_line(lty ='dotted')\n"
   ]
  },
  {
   "cell_type": "code",
   "execution_count": null,
   "metadata": {},
   "outputs": [],
   "source": []
  }
 ],
 "metadata": {
  "kernelspec": {
   "display_name": "R",
   "language": "R",
   "name": "ir"
  },
  "language_info": {
   "codemirror_mode": "r",
   "file_extension": ".r",
   "mimetype": "text/x-r-source",
   "name": "R",
   "pygments_lexer": "r",
   "version": "3.6.1"
  }
 },
 "nbformat": 4,
 "nbformat_minor": 4
}
